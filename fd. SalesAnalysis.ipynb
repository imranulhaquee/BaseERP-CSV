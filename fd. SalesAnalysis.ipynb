{
 "cells": [
  {
   "cell_type": "markdown",
   "metadata": {},
   "source": [
    "<p style=\"font-size:2.2em; color:white; padding:15px; border-bottom: 5px solid #ffb701; background:#143157; text-align:center;\"> \n",
    "    Sales Profitability  <br> \n",
    "    <span style=\"font-size:.55em; color: #11a1f5;\"> Sales Anaysis </span>\n",
    "</p>"
   ]
  },
  {
   "cell_type": "markdown",
   "metadata": {},
   "source": [
    "<p style=\"font-family:Calibri; font-size:1.75em; color:white; padding:5px 5px; text-align: left; height:50px; border-bottom: 3px solid orange; margin:-7px 0px;\"></p>"
   ]
  },
  {
   "cell_type": "markdown",
   "metadata": {},
   "source": [
    "<p style=\"font-size:2.2em; padding:10px; border-bottom: 5px solid #ffb701; background:#492863;\n",
    "          text-align:center\"> \n",
    "    <span style=\"color: #debef7;\"> Update Sales Revenue Data  </span> <br>\n",
    "</p>\n"
   ]
  },
  {
   "cell_type": "markdown",
   "metadata": {},
   "source": [
    "<p style=\"padding:5px; border-bottom:3px solid #6d79a1; background:#e9edf7; margin:5px 0 -7px 20px;\"> \n",
    "   <span style=\"font-size:1.4em; color:#202f61;\" >Step 1 - </span>\n",
    "   <span style=\"font-size:1.4em; color:#e39607;\">Get Company and Year - </span> \n",
    "   <span style=\"font-size:1.2em; color:#209ebd;\">to Load Data </span>\n",
    "</p> "
   ]
  },
  {
   "cell_type": "code",
   "execution_count": 213,
   "metadata": {},
   "outputs": [],
   "source": [
    "###---Standard Code to load Data-------------------------------\n",
    "import pandas as pd\n",
    "import numpy as np\n",
    "dfStd = pd.read_csv('data/basInfo.csv')\n",
    "Year = str(dfStd.loc[0, 'year'])\n",
    "coFolder = str(dfStd.loc[0, 'coFolder'])"
   ]
  },
  {
   "cell_type": "markdown",
   "metadata": {},
   "source": [
    "<p style=\"padding:5px; border-bottom:3px solid #6d79a1; background:#e9edf7; margin:5px 0 -7px 20px;\"> \n",
    "   <span style=\"font-size:1.4em; color:#202f61;\" >Step 2 - </span>\n",
    "   <span style=\"font-size:1.4em; color:#e39607;\">Read siBasic.csv siAddi.csv File</span> \n",
    "</p> "
   ]
  },
  {
   "cell_type": "code",
   "execution_count": 214,
   "metadata": {},
   "outputs": [],
   "source": [
    "basicPath = \"Data/\" +coFolder+ \"/\" +Year+ \"/F1_Sales/Invoices/siBasic.csv\"\n",
    "siBasic = pd.read_csv(basicPath, index_col=False, encoding='unicode_escape').fillna('')\n",
    "\n",
    "addiPath = \"Data/\" +coFolder+ \"/\" +Year+ \"/F1_Sales/Invoices/siAddi.csv\"\n",
    "siAddi = pd.read_csv(addiPath, index_col=False, encoding='unicode_escape').fillna('')"
   ]
  },
  {
   "cell_type": "code",
   "execution_count": 215,
   "metadata": {},
   "outputs": [],
   "source": [
    "### siBasic Remove Duplicate Invoice and Deleted Record...convert date into standard date formate........\n",
    "siBasic = siBasic.drop_duplicates(subset=['siRef'], keep='last')   ### Remove previous record\n",
    "siBasic = siBasic.drop(siBasic.loc[siBasic['action']=='Deleted'].index)  ### Remove Deleted row\n",
    "siBasic['siDat'] = pd.to_datetime(siBasic['siDat']).dt.strftime('%Y-%m-%d')  ### convert date to standard Date\n",
    "siBasic['unique'] = siBasic['siRef'].astype(str)+\" \"+siBasic['traDate']  ### Creat a unique column"
   ]
  },
  {
   "cell_type": "code",
   "execution_count": 216,
   "metadata": {},
   "outputs": [],
   "source": [
    "siAddi[\"unique\"] = siAddi['siRef'].astype(str)+\" \"+siAddi['traDate']\n",
    "###---- Merge to filter out those data which Transaction Date is not matching with qotBasic\n",
    "mergedSi = pd.merge(siAddi, siBasic['unique'], on='unique', how='inner')"
   ]
  },
  {
   "cell_type": "code",
   "execution_count": 217,
   "metadata": {},
   "outputs": [],
   "source": [
    "siAddiCom = pd.merge(mergedSi, siBasic[['siRef', 'siDat',  'cusCode', 'cusName', 'spCode', 'spCName', 'dlRef']], on='siRef', how='left')"
   ]
  },
  {
   "cell_type": "code",
   "execution_count": 218,
   "metadata": {},
   "outputs": [],
   "source": [
    "siAddiCom['dlRef'] = siAddiCom['dlRef'].astype(int).astype(str) ### convert 2300003.0 to 2300003"
   ]
  },
  {
   "cell_type": "code",
   "execution_count": 219,
   "metadata": {},
   "outputs": [],
   "source": [
    "siAddiCom['unique'] = siAddiCom['dlRef'].astype(str)+' '+siAddi['itmCod'].astype(str)"
   ]
  },
  {
   "cell_type": "code",
   "execution_count": 220,
   "metadata": {},
   "outputs": [],
   "source": [
    "siAddiCom['Sales'] = siAddiCom['tot']- siAddi['vat']"
   ]
  },
  {
   "cell_type": "markdown",
   "metadata": {},
   "source": [
    "<p style=\"padding:5px; border-bottom:3px solid #6d79a1; background:#e9edf7; margin:5px 0 -7px 20px;\"> \n",
    "   <span style=\"font-size:1.4em; color:#202f61;\" >Step 3 - </span>\n",
    "   <span style=\"font-size:1.4em; color:#e39607;\">Read dlBasic.csv dlAddi.csv File</span> \n",
    "</p> "
   ]
  },
  {
   "cell_type": "code",
   "execution_count": 221,
   "metadata": {},
   "outputs": [],
   "source": [
    "req_cols = ['dlRef','traDate','action']\n",
    "basicPath = \"Data/\" +coFolder+ \"/\" +Year+ \"/F1_Sales/Deliveries/dlBasic.csv\"\n",
    "dlBasic = pd.read_csv(basicPath, usecols=req_cols, index_col=False, encoding='unicode_escape').fillna('')\n",
    "\n",
    "req_cols = ['dlRef','itmCod','wac','traDate','action']\n",
    "addiPath = \"Data/\" +coFolder+ \"/\" +Year+ \"/F1_Sales/Deliveries/dlAddi.csv\"\n",
    "dlAddi = pd.read_csv(addiPath, usecols=req_cols, index_col=False, encoding='unicode_escape').fillna('')"
   ]
  },
  {
   "cell_type": "code",
   "execution_count": 222,
   "metadata": {},
   "outputs": [],
   "source": [
    "### siBasic Remove Duplicate Invoice and Deleted Record...convert date into standard date formate........\n",
    "dlBasic = dlBasic.drop_duplicates(subset=['dlRef'], keep='last')   ### Remove previous record\n",
    "dlBasic = dlBasic.drop(dlBasic.loc[dlBasic['action']=='Deleted'].index)  ### Remove Deleted row\n",
    "dlBasic['uniqueA'] = dlBasic['dlRef'].astype(str)+\" \"+dlBasic['traDate']  ### Creat a unique column"
   ]
  },
  {
   "cell_type": "code",
   "execution_count": 223,
   "metadata": {},
   "outputs": [],
   "source": [
    "dlAddi[\"uniqueA\"] = dlAddi['dlRef'].astype(str)+\" \"+dlAddi['traDate']\n",
    "###---- Merge to filter out those data which Transaction Date is not matching with qotBasic\n",
    "mergedDl = pd.merge(dlAddi, dlBasic['uniqueA'], on='uniqueA', how='inner')"
   ]
  },
  {
   "cell_type": "code",
   "execution_count": 224,
   "metadata": {},
   "outputs": [],
   "source": [
    "mergedDl['unique'] = mergedDl['dlRef'].astype(str)+' '+mergedDl['itmCod'].astype(str)"
   ]
  },
  {
   "cell_type": "code",
   "execution_count": 225,
   "metadata": {},
   "outputs": [],
   "source": [
    "### Get 'wac' column and merge with  salAddi-----------\n",
    "MergedDf = pd.merge(siAddiCom, mergedDl[['unique', 'wac']], on='unique', how='left')"
   ]
  },
  {
   "cell_type": "markdown",
   "metadata": {},
   "source": [
    "<p style=\"padding:5px; border-bottom:3px solid #6d79a1; background:#e9edf7; margin:5px 0 -7px 20px;\"> \n",
    "   <span style=\"font-size:1.4em; color:#202f61;\" >Step 4 - </span>\n",
    "   <span style=\"font-size:1.4em; color:#e39607;\">Read ItemSalPrice.csv File</span> \n",
    "</p> "
   ]
  },
  {
   "cell_type": "code",
   "execution_count": 226,
   "metadata": {},
   "outputs": [],
   "source": [
    "req_cols = ['itmCode','brand','supplier']\n",
    "salPricePath = \"Data/\" +coFolder+ \"/\" +Year+ \"/H1_Items/Items/ItemSalPrice.csv\"\n",
    "salPrice = pd.read_csv(salPricePath, usecols=req_cols, index_col=False, encoding='unicode_escape').fillna('')"
   ]
  },
  {
   "cell_type": "code",
   "execution_count": 227,
   "metadata": {},
   "outputs": [],
   "source": [
    "salPrice = salPrice.rename(columns={'itmCode': 'itmCod'})"
   ]
  },
  {
   "cell_type": "code",
   "execution_count": 228,
   "metadata": {},
   "outputs": [],
   "source": [
    "salPrice = salPrice.drop_duplicates(subset=['itmCod'], keep='last')   ### Remove previous record"
   ]
  },
  {
   "cell_type": "code",
   "execution_count": 229,
   "metadata": {},
   "outputs": [],
   "source": [
    "### Get 'wac' column and merge with  salAddi-----------\n",
    "Merged = pd.merge(MergedDf,salPrice[['itmCod', 'supplier']], on='itmCod', how='left')"
   ]
  },
  {
   "cell_type": "code",
   "execution_count": 230,
   "metadata": {},
   "outputs": [],
   "source": [
    "### Save the data in qotStat.csv File...\n",
    "statPath =  \"Data/\" +coFolder+ \"/\" +Year+ \"/F1_Sales/Analysis/Sales Report.csv\"\n",
    "Merged.to_csv(statPath, index=False)"
   ]
  },
  {
   "cell_type": "markdown",
   "metadata": {},
   "source": [
    "<p style=\"font-family:Calibri; font-size:1.75em; color:white; padding:5px 5px; text-align: left; height:50px; border-bottom: 3px solid orange; margin:-7px 0px;\"></p>"
   ]
  },
  {
   "cell_type": "markdown",
   "metadata": {},
   "source": [
    "<p style=\"font-size:2.2em; padding:10px; border-bottom: 5px solid #ffb701; background:#492863;\n",
    "          text-align:center\"> \n",
    "    <span style=\"color: #debef7;\"> Revenue Graph  </span> <br>\n",
    "</p>\n"
   ]
  },
  {
   "cell_type": "markdown",
   "metadata": {},
   "source": [
    "<p style=\"padding:5px; border-bottom:3px solid #6d79a1; background:#e9edf7; margin:5px 0 -7px 20px;\"> \n",
    "   <span style=\"font-size:1.4em; color:#202f61;\" >Step 1 - </span>\n",
    "   <span style=\"font-size:1.4em; color:#e39607;\">Get Company and Year - </span> \n",
    "   <span style=\"font-size:1.2em; color:#209ebd;\">to Load Data </span>\n",
    "</p> "
   ]
  },
  {
   "cell_type": "code",
   "execution_count": 1,
   "metadata": {},
   "outputs": [],
   "source": [
    "###---Standard Code to load Data-------------------------------\n",
    "import pandas as pd\n",
    "import numpy as np\n",
    "pd.options.display.float_format = '{:,.0f}'.format\n",
    "pd.set_option('display.max_columns', 85) # set Jupeter note book to dispay 85 columns\n",
    "dfStd = pd.read_csv('data/basInfo.csv')\n",
    "Year = str(dfStd.loc[0, 'year'])\n",
    "coFolder = str(dfStd.loc[0, 'coFolder'])"
   ]
  },
  {
   "cell_type": "markdown",
   "metadata": {},
   "source": [
    "<p style=\"padding:5px; border-bottom:3px solid #6d79a1; background:#e9edf7; margin:5px 0 -7px 20px;\"> \n",
    "   <span style=\"font-size:1.4em; color:#202f61;\" >Step 2 - </span>\n",
    "   <span style=\"font-size:1.4em; color:#e39607;\">Read siBasic.csv siAddi.csv File</span> \n",
    "</p> "
   ]
  },
  {
   "cell_type": "code",
   "execution_count": 2,
   "metadata": {},
   "outputs": [],
   "source": [
    "basicPath = \"Data/\" +coFolder+ \"/\" +Year+ \"/F1_Sales/Analysis/Sales Report.csv\"\n",
    "salReport = pd.read_csv(basicPath, index_col=False, encoding='unicode_escape').fillna('')"
   ]
  },
  {
   "cell_type": "markdown",
   "metadata": {},
   "source": [
    "<p style=\"padding:5px; border-bottom:3px solid #6d79a1; background:#e9edf7; margin:5px 0 -7px 20px;\"> \n",
    "   <span style=\"font-size:1.4em; color:#202f61;\" >Step 3 - </span>\n",
    "   <span style=\"font-size:1.4em; color:#e39607;\">Monthly Sales and Gross Profit</span> \n",
    "</p> "
   ]
  },
  {
   "cell_type": "code",
   "execution_count": 4,
   "metadata": {},
   "outputs": [],
   "source": [
    "salReport['GP'] = salReport['Sales'] - salReport['wac']"
   ]
  },
  {
   "cell_type": "code",
   "execution_count": 6,
   "metadata": {
    "scrolled": true
   },
   "outputs": [
    {
     "data": {
      "text/html": [
       "<div>\n",
       "<style scoped>\n",
       "    .dataframe tbody tr th:only-of-type {\n",
       "        vertical-align: middle;\n",
       "    }\n",
       "\n",
       "    .dataframe tbody tr th {\n",
       "        vertical-align: top;\n",
       "    }\n",
       "\n",
       "    .dataframe thead th {\n",
       "        text-align: right;\n",
       "    }\n",
       "</style>\n",
       "<table border=\"1\" class=\"dataframe\">\n",
       "  <thead>\n",
       "    <tr style=\"text-align: right;\">\n",
       "      <th></th>\n",
       "      <th>id</th>\n",
       "      <th>siRef</th>\n",
       "      <th>sno</th>\n",
       "      <th>itmCod</th>\n",
       "      <th>desc</th>\n",
       "      <th>qty</th>\n",
       "      <th>price</th>\n",
       "      <th>disc</th>\n",
       "      <th>tot</th>\n",
       "      <th>vat</th>\n",
       "      <th>traDate</th>\n",
       "      <th>action</th>\n",
       "      <th>unique</th>\n",
       "      <th>siDat</th>\n",
       "      <th>cusCode</th>\n",
       "      <th>cusName</th>\n",
       "      <th>spCode</th>\n",
       "      <th>spCName</th>\n",
       "      <th>dlRef</th>\n",
       "      <th>Sales</th>\n",
       "      <th>wac</th>\n",
       "      <th>supplier</th>\n",
       "      <th>GP</th>\n",
       "    </tr>\n",
       "  </thead>\n",
       "  <tbody>\n",
       "    <tr>\n",
       "      <th>0</th>\n",
       "      <td>2300001</td>\n",
       "      <td>2300001</td>\n",
       "      <td>1</td>\n",
       "      <td>10001000</td>\n",
       "      <td>Microneedling RF</td>\n",
       "      <td>1</td>\n",
       "      <td>31465</td>\n",
       "      <td>2465</td>\n",
       "      <td>30,450</td>\n",
       "      <td>1,450</td>\n",
       "      <td>2023-5-29 22-27-46</td>\n",
       "      <td></td>\n",
       "      <td>2300003 10001000</td>\n",
       "      <td>2023-01-24</td>\n",
       "      <td>22,310,093</td>\n",
       "      <td>Women's Medical Center (Dr. Ameena)</td>\n",
       "      <td>370</td>\n",
       "      <td>Ariel Abapo Naciogoyo</td>\n",
       "      <td>2300003</td>\n",
       "      <td>29,000</td>\n",
       "      <td>22,665</td>\n",
       "      <td>Adss Laser Co</td>\n",
       "      <td>6,335</td>\n",
       "    </tr>\n",
       "    <tr>\n",
       "      <th>1</th>\n",
       "      <td>2300001</td>\n",
       "      <td>2300001</td>\n",
       "      <td>2</td>\n",
       "      <td>10001001</td>\n",
       "      <td>Microneedling RF - HandPiece</td>\n",
       "      <td>1</td>\n",
       "      <td>4725</td>\n",
       "      <td>650</td>\n",
       "      <td>4,279</td>\n",
       "      <td>204</td>\n",
       "      <td>2023-5-29 22-27-46</td>\n",
       "      <td></td>\n",
       "      <td>2300003 10001001</td>\n",
       "      <td>2023-01-24</td>\n",
       "      <td>22,310,093</td>\n",
       "      <td>Women's Medical Center (Dr. Ameena)</td>\n",
       "      <td>370</td>\n",
       "      <td>Ariel Abapo Naciogoyo</td>\n",
       "      <td>2300003</td>\n",
       "      <td>4,075</td>\n",
       "      <td>3,185</td>\n",
       "      <td>Adss Laser Co</td>\n",
       "      <td>890</td>\n",
       "    </tr>\n",
       "    <tr>\n",
       "      <th>2</th>\n",
       "      <td>2300002</td>\n",
       "      <td>2300002</td>\n",
       "      <td>1</td>\n",
       "      <td>10004000</td>\n",
       "      <td>RF Fractional CO2 Laser</td>\n",
       "      <td>1</td>\n",
       "      <td>81900</td>\n",
       "      <td>2900</td>\n",
       "      <td>82,950</td>\n",
       "      <td>3,950</td>\n",
       "      <td>2023-5-29 22-28-1</td>\n",
       "      <td></td>\n",
       "      <td>2300004 10004000</td>\n",
       "      <td>2023-01-29</td>\n",
       "      <td>22,310,055</td>\n",
       "      <td>Al Noor Pharmacy</td>\n",
       "      <td>366</td>\n",
       "      <td>Franco Viola Parota</td>\n",
       "      <td>2300004</td>\n",
       "      <td>79,000</td>\n",
       "      <td>58,519</td>\n",
       "      <td>Skin for Life LLC</td>\n",
       "      <td>20,481</td>\n",
       "    </tr>\n",
       "    <tr>\n",
       "      <th>3</th>\n",
       "      <td>2300002</td>\n",
       "      <td>2300002</td>\n",
       "      <td>2</td>\n",
       "      <td>10004001</td>\n",
       "      <td>RF Fractional CO2 Laser - Handpiece</td>\n",
       "      <td>1</td>\n",
       "      <td>7700</td>\n",
       "      <td>300</td>\n",
       "      <td>7,770</td>\n",
       "      <td>370</td>\n",
       "      <td>2023-5-29 22-28-1</td>\n",
       "      <td></td>\n",
       "      <td>2300004 10004001</td>\n",
       "      <td>2023-01-29</td>\n",
       "      <td>22,310,055</td>\n",
       "      <td>Al Noor Pharmacy</td>\n",
       "      <td>366</td>\n",
       "      <td>Franco Viola Parota</td>\n",
       "      <td>2300004</td>\n",
       "      <td>7,400</td>\n",
       "      <td>5,481</td>\n",
       "      <td>Skin for Life LLC</td>\n",
       "      <td>1,919</td>\n",
       "    </tr>\n",
       "    <tr>\n",
       "      <th>4</th>\n",
       "      <td>2300003</td>\n",
       "      <td>2300003</td>\n",
       "      <td>1</td>\n",
       "      <td>10018001</td>\n",
       "      <td>SVTA Radio Hand Pice 1</td>\n",
       "      <td>2</td>\n",
       "      <td>1680</td>\n",
       "      <td>360</td>\n",
       "      <td>3,150</td>\n",
       "      <td>150</td>\n",
       "      <td>2023-5-29 22-28-14</td>\n",
       "      <td></td>\n",
       "      <td>2300001 10018001</td>\n",
       "      <td>2023-02-01</td>\n",
       "      <td>22,310,182</td>\n",
       "      <td>Spaces Spa Center</td>\n",
       "      <td>370</td>\n",
       "      <td>Ariel Abapo Naciogoyo</td>\n",
       "      <td>2300001</td>\n",
       "      <td>3,000</td>\n",
       "      <td>2,438</td>\n",
       "      <td>SPA and Co LLC</td>\n",
       "      <td>562</td>\n",
       "    </tr>\n",
       "    <tr>\n",
       "      <th>...</th>\n",
       "      <td>...</td>\n",
       "      <td>...</td>\n",
       "      <td>...</td>\n",
       "      <td>...</td>\n",
       "      <td>...</td>\n",
       "      <td>...</td>\n",
       "      <td>...</td>\n",
       "      <td>...</td>\n",
       "      <td>...</td>\n",
       "      <td>...</td>\n",
       "      <td>...</td>\n",
       "      <td>...</td>\n",
       "      <td>...</td>\n",
       "      <td>...</td>\n",
       "      <td>...</td>\n",
       "      <td>...</td>\n",
       "      <td>...</td>\n",
       "      <td>...</td>\n",
       "      <td>...</td>\n",
       "      <td>...</td>\n",
       "      <td>...</td>\n",
       "      <td>...</td>\n",
       "      <td>...</td>\n",
       "    </tr>\n",
       "    <tr>\n",
       "      <th>577</th>\n",
       "      <td>2300265</td>\n",
       "      <td>2300265</td>\n",
       "      <td>2</td>\n",
       "      <td>10018005</td>\n",
       "      <td>SVTA Radio Hand Pice 5</td>\n",
       "      <td>1</td>\n",
       "      <td>2240</td>\n",
       "      <td>140</td>\n",
       "      <td>2,205</td>\n",
       "      <td>105</td>\n",
       "      <td>2023-6-3 13-47-7</td>\n",
       "      <td></td>\n",
       "      <td>2300266 10018005</td>\n",
       "      <td>2023-12-31</td>\n",
       "      <td>22,311,809</td>\n",
       "      <td>Carmen Beauty Salon</td>\n",
       "      <td>994</td>\n",
       "      <td>Michael Cadiang Manza</td>\n",
       "      <td>2300266</td>\n",
       "      <td>2,100</td>\n",
       "      <td>1,546</td>\n",
       "      <td>SPA and Co LLC</td>\n",
       "      <td>554</td>\n",
       "    </tr>\n",
       "    <tr>\n",
       "      <th>578</th>\n",
       "      <td>2300266</td>\n",
       "      <td>2300266</td>\n",
       "      <td>1</td>\n",
       "      <td>10001000</td>\n",
       "      <td>Microneedling RF</td>\n",
       "      <td>1</td>\n",
       "      <td>31465</td>\n",
       "      <td>2465</td>\n",
       "      <td>30,450</td>\n",
       "      <td>1,450</td>\n",
       "      <td>2023-6-12 15-27-33</td>\n",
       "      <td></td>\n",
       "      <td>2300061 10001000</td>\n",
       "      <td>2023-05-01</td>\n",
       "      <td>22,310,102</td>\n",
       "      <td>Health &amp; Aesthetic Medical Center</td>\n",
       "      <td>370</td>\n",
       "      <td>Ariel Abapo Naciogoyo</td>\n",
       "      <td>2300061</td>\n",
       "      <td>29,000</td>\n",
       "      <td>22,421</td>\n",
       "      <td>Adss Laser Co</td>\n",
       "      <td>6,579</td>\n",
       "    </tr>\n",
       "    <tr>\n",
       "      <th>579</th>\n",
       "      <td>2300266</td>\n",
       "      <td>2300266</td>\n",
       "      <td>2</td>\n",
       "      <td>10001001</td>\n",
       "      <td>Microneedling RF - HandPiece</td>\n",
       "      <td>2</td>\n",
       "      <td>4725</td>\n",
       "      <td>650</td>\n",
       "      <td>9,240</td>\n",
       "      <td>440</td>\n",
       "      <td>2023-6-12 15-27-33</td>\n",
       "      <td></td>\n",
       "      <td>2300061 10001001</td>\n",
       "      <td>2023-05-01</td>\n",
       "      <td>22,310,102</td>\n",
       "      <td>Health &amp; Aesthetic Medical Center</td>\n",
       "      <td>370</td>\n",
       "      <td>Ariel Abapo Naciogoyo</td>\n",
       "      <td>2300061</td>\n",
       "      <td>8,800</td>\n",
       "      <td>6,804</td>\n",
       "      <td>Adss Laser Co</td>\n",
       "      <td>1,996</td>\n",
       "    </tr>\n",
       "    <tr>\n",
       "      <th>580</th>\n",
       "      <td>2300267</td>\n",
       "      <td>2300267</td>\n",
       "      <td>1</td>\n",
       "      <td>10016000</td>\n",
       "      <td>My Ultrasonic</td>\n",
       "      <td>2</td>\n",
       "      <td>9800</td>\n",
       "      <td>1800</td>\n",
       "      <td>18,690</td>\n",
       "      <td>890</td>\n",
       "      <td>2023-6-12 15-27-52</td>\n",
       "      <td></td>\n",
       "      <td>2300270 10016000</td>\n",
       "      <td>2023-06-15</td>\n",
       "      <td>22,311,988</td>\n",
       "      <td>Glamour Care Clinics LLC</td>\n",
       "      <td>1,138</td>\n",
       "      <td>Jessie Tolntion Matitu</td>\n",
       "      <td>2300270</td>\n",
       "      <td>17,800</td>\n",
       "      <td>13,940</td>\n",
       "      <td>Ultrasonic and Co LLC</td>\n",
       "      <td>3,860</td>\n",
       "    </tr>\n",
       "    <tr>\n",
       "      <th>581</th>\n",
       "      <td>2300267</td>\n",
       "      <td>2300267</td>\n",
       "      <td>2</td>\n",
       "      <td>10017000</td>\n",
       "      <td>SPA Slim</td>\n",
       "      <td>2</td>\n",
       "      <td>8400</td>\n",
       "      <td>1400</td>\n",
       "      <td>16,170</td>\n",
       "      <td>770</td>\n",
       "      <td>2023-6-12 15-27-52</td>\n",
       "      <td></td>\n",
       "      <td>2300270 10017000</td>\n",
       "      <td>2023-06-15</td>\n",
       "      <td>22,311,988</td>\n",
       "      <td>Glamour Care Clinics LLC</td>\n",
       "      <td>1,138</td>\n",
       "      <td>Jessie Tolntion Matitu</td>\n",
       "      <td>2300270</td>\n",
       "      <td>15,400</td>\n",
       "      <td>12,060</td>\n",
       "      <td>SPA and Co LLC</td>\n",
       "      <td>3,340</td>\n",
       "    </tr>\n",
       "  </tbody>\n",
       "</table>\n",
       "<p>582 rows × 23 columns</p>\n",
       "</div>"
      ],
      "text/plain": [
       "          id    siRef  sno    itmCod                                 desc  \\\n",
       "0    2300001  2300001    1  10001000                     Microneedling RF   \n",
       "1    2300001  2300001    2  10001001         Microneedling RF - HandPiece   \n",
       "2    2300002  2300002    1  10004000              RF Fractional CO2 Laser   \n",
       "3    2300002  2300002    2  10004001  RF Fractional CO2 Laser - Handpiece   \n",
       "4    2300003  2300003    1  10018001               SVTA Radio Hand Pice 1   \n",
       "..       ...      ...  ...       ...                                  ...   \n",
       "577  2300265  2300265    2  10018005               SVTA Radio Hand Pice 5   \n",
       "578  2300266  2300266    1  10001000                     Microneedling RF   \n",
       "579  2300266  2300266    2  10001001         Microneedling RF - HandPiece   \n",
       "580  2300267  2300267    1  10016000                        My Ultrasonic   \n",
       "581  2300267  2300267    2  10017000                             SPA Slim   \n",
       "\n",
       "     qty  price  disc    tot   vat             traDate action  \\\n",
       "0      1  31465  2465 30,450 1,450  2023-5-29 22-27-46          \n",
       "1      1   4725   650  4,279   204  2023-5-29 22-27-46          \n",
       "2      1  81900  2900 82,950 3,950   2023-5-29 22-28-1          \n",
       "3      1   7700   300  7,770   370   2023-5-29 22-28-1          \n",
       "4      2   1680   360  3,150   150  2023-5-29 22-28-14          \n",
       "..   ...    ...   ...    ...   ...                 ...    ...   \n",
       "577    1   2240   140  2,205   105    2023-6-3 13-47-7          \n",
       "578    1  31465  2465 30,450 1,450  2023-6-12 15-27-33          \n",
       "579    2   4725   650  9,240   440  2023-6-12 15-27-33          \n",
       "580    2   9800  1800 18,690   890  2023-6-12 15-27-52          \n",
       "581    2   8400  1400 16,170   770  2023-6-12 15-27-52          \n",
       "\n",
       "               unique       siDat    cusCode  \\\n",
       "0    2300003 10001000  2023-01-24 22,310,093   \n",
       "1    2300003 10001001  2023-01-24 22,310,093   \n",
       "2    2300004 10004000  2023-01-29 22,310,055   \n",
       "3    2300004 10004001  2023-01-29 22,310,055   \n",
       "4    2300001 10018001  2023-02-01 22,310,182   \n",
       "..                ...         ...        ...   \n",
       "577  2300266 10018005  2023-12-31 22,311,809   \n",
       "578  2300061 10001000  2023-05-01 22,310,102   \n",
       "579  2300061 10001001  2023-05-01 22,310,102   \n",
       "580  2300270 10016000  2023-06-15 22,311,988   \n",
       "581  2300270 10017000  2023-06-15 22,311,988   \n",
       "\n",
       "                                 cusName  spCode                 spCName  \\\n",
       "0    Women's Medical Center (Dr. Ameena)     370   Ariel Abapo Naciogoyo   \n",
       "1    Women's Medical Center (Dr. Ameena)     370   Ariel Abapo Naciogoyo   \n",
       "2                       Al Noor Pharmacy     366     Franco Viola Parota   \n",
       "3                       Al Noor Pharmacy     366     Franco Viola Parota   \n",
       "4                      Spaces Spa Center     370   Ariel Abapo Naciogoyo   \n",
       "..                                   ...     ...                     ...   \n",
       "577                  Carmen Beauty Salon     994   Michael Cadiang Manza   \n",
       "578    Health & Aesthetic Medical Center     370   Ariel Abapo Naciogoyo   \n",
       "579    Health & Aesthetic Medical Center     370   Ariel Abapo Naciogoyo   \n",
       "580             Glamour Care Clinics LLC   1,138  Jessie Tolntion Matitu   \n",
       "581             Glamour Care Clinics LLC   1,138  Jessie Tolntion Matitu   \n",
       "\n",
       "       dlRef  Sales    wac               supplier     GP  \n",
       "0    2300003 29,000 22,665          Adss Laser Co  6,335  \n",
       "1    2300003  4,075  3,185          Adss Laser Co    890  \n",
       "2    2300004 79,000 58,519      Skin for Life LLC 20,481  \n",
       "3    2300004  7,400  5,481      Skin for Life LLC  1,919  \n",
       "4    2300001  3,000  2,438         SPA and Co LLC    562  \n",
       "..       ...    ...    ...                    ...    ...  \n",
       "577  2300266  2,100  1,546         SPA and Co LLC    554  \n",
       "578  2300061 29,000 22,421          Adss Laser Co  6,579  \n",
       "579  2300061  8,800  6,804          Adss Laser Co  1,996  \n",
       "580  2300270 17,800 13,940  Ultrasonic and Co LLC  3,860  \n",
       "581  2300270 15,400 12,060         SPA and Co LLC  3,340  \n",
       "\n",
       "[582 rows x 23 columns]"
      ]
     },
     "execution_count": 6,
     "metadata": {},
     "output_type": "execute_result"
    }
   ],
   "source": [
    "salReport"
   ]
  },
  {
   "cell_type": "code",
   "execution_count": 56,
   "metadata": {},
   "outputs": [],
   "source": [
    "salReport['siDat'] = pd.to_datetime(salReport['siDat'])\n",
    "salReport['month'] = salReport['siDat'].dt.month\n",
    "salReport['year'] = salReport['siDat'].dt.year"
   ]
  },
  {
   "cell_type": "code",
   "execution_count": 51,
   "metadata": {
    "scrolled": true
   },
   "outputs": [],
   "source": [
    "monSales = salReport.groupby(['year', 'month'])[['Sales', 'wac', 'GP']].sum().reset_index()\n",
    "monSales['Sales'] = monSales['Sales'] / 1000\n",
    "monSales['wac'] = monSales['wac'] / 1000\n",
    "monSales['GP'] = monSales['GP'] / 1000"
   ]
  },
  {
   "cell_type": "code",
   "execution_count": 43,
   "metadata": {},
   "outputs": [],
   "source": [
    "totSal = monSales['Sales'].sum()"
   ]
  },
  {
   "cell_type": "code",
   "execution_count": 44,
   "metadata": {},
   "outputs": [],
   "source": [
    "monSales['percentage'] = (monSales['Sales'] / totSal) * 100\n",
    "monSales['percentage'] = monSales['percentage'].round(1)\n",
    "\n",
    "monSales['gpPer'] = (monSales['GP'] / monSales['Sales']) * 100\n",
    "monSales['gpPer'] = monSales['gpPer'].round(1)"
   ]
  },
  {
   "cell_type": "code",
   "execution_count": 35,
   "metadata": {},
   "outputs": [],
   "source": [
    "### [1.85, 6.78, 10.25, 8.65, 9.15, 7.21, 8.37, 9.04, 9.37, 8.13, 10.31, 10.88]\n",
    "perList = monSales['percentage'].tolist()"
   ]
  },
  {
   "cell_type": "code",
   "execution_count": 36,
   "metadata": {},
   "outputs": [],
   "source": [
    "monSales = monSales.to_dict(orient=\"records\")"
   ]
  },
  {
   "cell_type": "markdown",
   "metadata": {},
   "source": [
    "<p style=\"padding:5px; border-bottom:3px solid #6d79a1; background:#e9edf7; margin:5px 0 -7px 20px;\"> \n",
    "   <span style=\"font-size:1.4em; color:#202f61;\" >Step 4 - </span>\n",
    "   <span style=\"font-size:1.4em; color:#e39607;\">Top 10 Customers</span> \n",
    "</p> "
   ]
  },
  {
   "cell_type": "code",
   "execution_count": 7,
   "metadata": {},
   "outputs": [],
   "source": [
    "topCust = salReport.groupby(['cusName'])[['Sales','GP']].sum().reset_index()"
   ]
  },
  {
   "cell_type": "code",
   "execution_count": 11,
   "metadata": {},
   "outputs": [
    {
     "data": {
      "text/html": [
       "<div>\n",
       "<style scoped>\n",
       "    .dataframe tbody tr th:only-of-type {\n",
       "        vertical-align: middle;\n",
       "    }\n",
       "\n",
       "    .dataframe tbody tr th {\n",
       "        vertical-align: top;\n",
       "    }\n",
       "\n",
       "    .dataframe thead th {\n",
       "        text-align: right;\n",
       "    }\n",
       "</style>\n",
       "<table border=\"1\" class=\"dataframe\">\n",
       "  <thead>\n",
       "    <tr style=\"text-align: right;\">\n",
       "      <th></th>\n",
       "      <th>cusName</th>\n",
       "      <th>Sales</th>\n",
       "      <th>GP</th>\n",
       "      <th>percentage</th>\n",
       "    </tr>\n",
       "  </thead>\n",
       "  <tbody>\n",
       "    <tr>\n",
       "      <th>4</th>\n",
       "      <td>Al Jameya Pharmacy</td>\n",
       "      <td>869,380</td>\n",
       "      <td>199,355</td>\n",
       "      <td>23</td>\n",
       "    </tr>\n",
       "    <tr>\n",
       "      <th>37</th>\n",
       "      <td>Sahar Pharmacy</td>\n",
       "      <td>745,605</td>\n",
       "      <td>160,305</td>\n",
       "      <td>22</td>\n",
       "    </tr>\n",
       "    <tr>\n",
       "      <th>23</th>\n",
       "      <td>Gulf Beauty Salon - Abu Dhabi</td>\n",
       "      <td>718,895</td>\n",
       "      <td>150,295</td>\n",
       "      <td>21</td>\n",
       "    </tr>\n",
       "    <tr>\n",
       "      <th>20</th>\n",
       "      <td>German Clinic FZ LLC</td>\n",
       "      <td>617,030</td>\n",
       "      <td>100,330</td>\n",
       "      <td>16</td>\n",
       "    </tr>\n",
       "    <tr>\n",
       "      <th>39</th>\n",
       "      <td>Spaces Spa Center</td>\n",
       "      <td>616,960</td>\n",
       "      <td>104,585</td>\n",
       "      <td>17</td>\n",
       "    </tr>\n",
       "    <tr>\n",
       "      <th>16</th>\n",
       "      <td>Delta Pharmacy</td>\n",
       "      <td>572,400</td>\n",
       "      <td>122,400</td>\n",
       "      <td>21</td>\n",
       "    </tr>\n",
       "    <tr>\n",
       "      <th>43</th>\n",
       "      <td>Women's Medical Center (Dr. Ameena)</td>\n",
       "      <td>557,755</td>\n",
       "      <td>140,855</td>\n",
       "      <td>25</td>\n",
       "    </tr>\n",
       "    <tr>\n",
       "      <th>5</th>\n",
       "      <td>Al Noor Pharmacy</td>\n",
       "      <td>550,360</td>\n",
       "      <td>126,260</td>\n",
       "      <td>23</td>\n",
       "    </tr>\n",
       "    <tr>\n",
       "      <th>19</th>\n",
       "      <td>Flora Beauty Spa</td>\n",
       "      <td>516,800</td>\n",
       "      <td>109,300</td>\n",
       "      <td>21</td>\n",
       "    </tr>\n",
       "    <tr>\n",
       "      <th>3</th>\n",
       "      <td>Al Dar Medical Center</td>\n",
       "      <td>440,600</td>\n",
       "      <td>73,600</td>\n",
       "      <td>17</td>\n",
       "    </tr>\n",
       "  </tbody>\n",
       "</table>\n",
       "</div>"
      ],
      "text/plain": [
       "                                cusName   Sales      GP  percentage\n",
       "4                    Al Jameya Pharmacy 869,380 199,355          23\n",
       "37                       Sahar Pharmacy 745,605 160,305          22\n",
       "23        Gulf Beauty Salon - Abu Dhabi 718,895 150,295          21\n",
       "20                 German Clinic FZ LLC 617,030 100,330          16\n",
       "39                    Spaces Spa Center 616,960 104,585          17\n",
       "16                       Delta Pharmacy 572,400 122,400          21\n",
       "43  Women's Medical Center (Dr. Ameena) 557,755 140,855          25\n",
       "5                      Al Noor Pharmacy 550,360 126,260          23\n",
       "19                     Flora Beauty Spa 516,800 109,300          21\n",
       "3                 Al Dar Medical Center 440,600  73,600          17"
      ]
     },
     "execution_count": 11,
     "metadata": {},
     "output_type": "execute_result"
    }
   ],
   "source": [
    "top10Cust = topCust.nlargest(10, 'Sales')\n",
    "top10Cust = top10Cust.sort_values(by='Sales', ascending=False)\n",
    "\n",
    "top10Cust['percentage'] = (top10Cust['GP'] / top10Cust['Sales']) * 100\n",
    "top10Cust['percentage'] = top10Cust['percentage'].round(1)\n",
    "\n",
    "top10Cust"
   ]
  },
  {
   "cell_type": "code",
   "execution_count": null,
   "metadata": {},
   "outputs": [],
   "source": []
  }
 ],
 "metadata": {
  "celltoolbar": "Raw Cell Format",
  "kernelspec": {
   "display_name": "Python 3 (ipykernel)",
   "language": "python",
   "name": "python3"
  },
  "language_info": {
   "codemirror_mode": {
    "name": "ipython",
    "version": 3
   },
   "file_extension": ".py",
   "mimetype": "text/x-python",
   "name": "python",
   "nbconvert_exporter": "python",
   "pygments_lexer": "ipython3",
   "version": "3.9.12"
  }
 },
 "nbformat": 4,
 "nbformat_minor": 2
}
