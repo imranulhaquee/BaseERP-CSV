{
 "cells": [
  {
   "cell_type": "markdown",
   "metadata": {},
   "source": [
    "<p style=\"font-family:Calibri; font-size:1.75em; color:white; padding:5px 5px; text-align: left; height:50px; border-bottom: 1px solid orange;\"></p>"
   ]
  },
  {
   "cell_type": "markdown",
   "metadata": {},
   "source": [
    "<p style=\"font-size:2.2em; color:white; padding:25px; border-bottom: 5px solid #ffb701; background:#143157;\"> \n",
    "    Create Folders and Files - <span style=\"font-size:.75em; color: #11a1f5;\"> Through Python and Pandas </span></p>\n",
    "Create Folders and Files"
   ]
  },
  {
   "cell_type": "markdown",
   "metadata": {},
   "source": [
    "<p style=\"font-size:1.5em; color:white; padding:5px; border-bottom: 3px solid orange; background: #3c5c75; margin: 25px 0 -7px 0;\"> \n",
    "Option1 - Create a Main-Folders and Sub-Folders </p>"
   ]
  },
  {
   "cell_type": "code",
   "execution_count": 1,
   "metadata": {},
   "outputs": [],
   "source": [
    "import os\n",
    "\n",
    "Year = \"2023\"\n",
    "mainFolder = \"Data/\"+Year+\"/Z1_General\" #if there is no folder at all will creat all folders - Data, 2033, Z1_Test, Testing.\n",
    "subFolder = \"Misc\"                #if Z1_text and Testing folders are not there it will create these folders.\n",
    "\n",
    "### if folder is not there will create the folder\n",
    "if not os.path.exists(os.path.join(mainFolder, subFolder)):\n",
    "    os.makedirs(os.path.join(mainFolder,subFolder))"
   ]
  },
  {
   "cell_type": "markdown",
   "metadata": {},
   "source": [
    "<p style=\"font-size:1.5em; color:white; padding:5px; border-bottom: 3px solid orange; background: #3c5c75; margin: 25px 0 -7px 0;\"> \n",
    "Option 2 - Create Folers and CSV file </p>"
   ]
  },
  {
   "cell_type": "code",
   "execution_count": 2,
   "metadata": {},
   "outputs": [],
   "source": [
    "import os\n",
    "\n",
    "Year = \"2023\"\n",
    "directory = \"Data/\"+Year+\"/Z1_General/Misc\" #if there is no folder at all will creat all folders - Data, 2033, Z1_Test, Testing.\n",
    "filename = \"Test.csv\"\n",
    "filepath = os.path.join(directory, filename)\n",
    "\n",
    "os.makedirs(directory, mode=0o777, exist_ok=True)  # create the directory with write permissions for all users\n",
    "\n",
    "with open(filepath, 'a') as f: # write a test file to the directory   'w' make entire file new i.e. override\n",
    "    f.write('')\n"
   ]
  },
  {
   "cell_type": "markdown",
   "metadata": {},
   "source": [
    "<p style=\"font-size:1.5em; color:white; padding:5px; border-bottom: 3px solid orange; background: #3c5c75; margin: 25px 0 -7px 0;\"> \n",
    "Option 3 - Create Folers and Multiple CSV files in a loop <span style=\"font-size:.75em; color: #11a1f5;\"> - Final One </span></p>"
   ]
  },
  {
   "cell_type": "code",
   "execution_count": 4,
   "metadata": {},
   "outputs": [],
   "source": [
    "#import pandas as pd\n",
    "import os\n",
    "import csv\n",
    "\n",
    "Year = \"2023\"\n",
    "directory = \"Data/\"+Year+\"/Z1_General/Misc\" #if there is no folder at all will creat all folders - Data, 2033, Z1_Test, Testing.\n",
    "filenames = [\"Test1.csv\", \"Test2.csv\"]\n",
    "\n",
    "\n",
    "os.makedirs(directory, mode=0o777, exist_ok=True)  ## mode=0o777 rigt to amend\n",
    "\n",
    "for filename in filenames:\n",
    "    filepath = os.path.join(directory, filename)\n",
    "\n",
    "    if os.path.exists(filepath):\n",
    "        print(f\"{filename} already exists\")\n",
    "    else:\n",
    "        #df.T.to_csv(filepath, mode='a', index=False, header=False, sep=' ')\n",
    "        with open(filepath, 'a') as f:\n",
    "            f.write('')\n"
   ]
  },
  {
   "cell_type": "markdown",
   "metadata": {},
   "source": [
    "<p style=\"font-size:1.5em; color:white; padding:5px; border-bottom: 3px solid orange; background: #3c5c75; margin: 25px 0 -7px 0;\"> \n",
    "Option 4 - Create Folers and Sub-Folders and CSV files <span style=\"font-size:.75em; color: #11a1f5;\"> -  With Headings </span></p>"
   ]
  },
  {
   "cell_type": "code",
   "execution_count": 9,
   "metadata": {},
   "outputs": [],
   "source": [
    "import os\n",
    "import csv\n",
    "\n",
    "# Specify the folder, subfolder, and file names\n",
    "Year = \"2023\"\n",
    "\n",
    "folder_name = 'Data/'+Year+'/Z1_General'\n",
    "subfolder_name = 'Misc' \n",
    "file_name = 'Test.csv'\n",
    "\n",
    "# Create the folder\n",
    "if not os.path.exists(folder_name):\n",
    "    os.mkdir(folder_name)\n",
    "\n",
    "# Create the subfolder\n",
    "subfolder_path = os.path.join(folder_name, subfolder_name)\n",
    "if not os.path.exists(subfolder_path):\n",
    "    os.mkdir(subfolder_path)\n",
    "\n",
    "# Create the CSV file with headers\n",
    "file_path = os.path.join(subfolder_path, file_name)\n",
    "with open(file_path, 'w', newline='') as csv_file:\n",
    "    headers = ['id', 'cusName', 'cusAddress']  #'w' for rewrite,  'a' for additional line\n",
    "    writer = csv.writer(csv_file)\n",
    "    writer.writerow(headers)"
   ]
  },
  {
   "cell_type": "markdown",
   "metadata": {},
   "source": [
    "<p style=\"font-size:2.2em; color:white; padding:25px; border-bottom: 5px solid #ffb701; background:#143157;\"> \n",
    "    Save Pandas DF - <span style=\"font-size:.75em; color: #11a1f5;\"> with and without Heading </span></p>\n",
    "Save Pandas DF if Heading already exist ignore Heading otherwise save df with Heading"
   ]
  },
  {
   "cell_type": "code",
   "execution_count": 90,
   "metadata": {},
   "outputs": [
    {
     "name": "stdout",
     "output_type": "stream",
     "text": [
      "Data written to Data/2023/I1_Hrm/Employees\\my_data.csv\n"
     ]
    }
   ],
   "source": [
    "import pandas as pd\n",
    "import os\n",
    "\n",
    "directory = \"Data/2023/I1_Hrm/Employees\"\n",
    "filename = \"my_data.csv\"\n",
    "filepath = os.path.join(directory, filename)\n",
    "\n",
    "# create the directory with write permissions for all users\n",
    "os.makedirs(directory, mode=0o777, exist_ok=True)\n",
    "\n",
    "# create a DataFrame to write to the file\n",
    "df = pd.DataFrame({'Column1': [1, 2, 3], 'Column2': ['A', 'B', 'C'] , 'Column3': ['X', 'Y', 'Z']})\n",
    "\n",
    "# check if the file already exists\n",
    "if os.path.exists(filepath):\n",
    "    # read the existing file and check if it has a header row\n",
    "    existing_df = pd.read_csv(filepath)\n",
    "    has_header = True if len(existing_df.columns) == len(df.columns) else False\n",
    "    \n",
    "    # write the new data to the file with or without a header row\n",
    "    df.to_csv(filepath, mode='a', index=False, header=not has_header)\n",
    "else:\n",
    "    # write the new data to a new file with a header row\n",
    "    df.to_csv(filepath, index=False)\n",
    "    \n",
    "print(f\"Data written to {filepath}\")"
   ]
  },
  {
   "cell_type": "markdown",
   "metadata": {},
   "source": [
    "<p style=\"font-family:Calibri; font-size:1.75em; color:white; padding:5px 5px; text-align: left; height:50px; border-bottom: 3px solid orange; margin:-7px 0px;\"></p>"
   ]
  },
  {
   "cell_type": "markdown",
   "metadata": {},
   "source": [
    "<p style=\"font-size:2.2em; padding:18px; border-bottom: 5px solid #ffb701; background:#143157;\"> \n",
    "    <span style=\"color: #fff;\"> Create List -  </span>\n",
    "    <span style=\"font-size:.75em; color: #11a1f5;\"> from CSV File Heading </span>\n",
    "</p>\n",
    "<span style=\"font-size:.75em; color: #11a1f5;\"> <<< f1_------------ >>></span>"
   ]
  },
  {
   "cell_type": "code",
   "execution_count": 17,
   "metadata": {},
   "outputs": [],
   "source": [
    "###---Standard Code to load Data----------------------\n",
    "import pandas as pd\n",
    "import numpy as np\n",
    "dfStd = pd.read_csv('data/basInfo.csv')\n",
    "Year = str(dfStd.loc[0, 'year'])"
   ]
  },
  {
   "cell_type": "markdown",
   "metadata": {},
   "source": [
    "<p style=\"padding:5px; border-bottom:3px solid orange; background:#3c5c75; margin:15px 0 -7px 0;\"> \n",
    "   <span style=\"font-size:1.4em; color:#f7ca25;\" >Step 1 - </span>\n",
    "   <span style=\"font-size:1.4em; color:white;\">Read Quotation Basic - </span> \n",
    "   <span style=\"font-size:1.2em; color:#17cffc;\">CSV files </span>\n",
    "</p> "
   ]
  },
  {
   "cell_type": "code",
   "execution_count": 18,
   "metadata": {},
   "outputs": [],
   "source": [
    "###----Read Quote Basic File--------------------------------------------\n",
    "fPath = \"Data/\"+Year+\"/F1_Sales/Quotations/qotBasic.csv\"\n",
    "df = pd.read_csv(fPath, index_col=False, encoding='unicode_escape').fillna('')"
   ]
  },
  {
   "cell_type": "code",
   "execution_count": 19,
   "metadata": {},
   "outputs": [
    {
     "name": "stdout",
     "output_type": "stream",
     "text": [
      "['id', 'qotRef', 'qotDat', 'cusCode', 'cusName', 'qotTBD', 'qotTAD', 'qotTax', 'qotTAT', 'shipTo', 'qotComm', 'spCode', 'spName', 'opnClo', 'traDate', 'action']\n"
     ]
    }
   ],
   "source": [
    "heading_list = list(df.columns)\n",
    "print(heading_list)"
   ]
  },
  {
   "cell_type": "code",
   "execution_count": null,
   "metadata": {},
   "outputs": [],
   "source": []
  },
  {
   "cell_type": "code",
   "execution_count": null,
   "metadata": {},
   "outputs": [],
   "source": []
  },
  {
   "cell_type": "code",
   "execution_count": null,
   "metadata": {},
   "outputs": [],
   "source": []
  },
  {
   "cell_type": "code",
   "execution_count": null,
   "metadata": {},
   "outputs": [],
   "source": []
  },
  {
   "cell_type": "code",
   "execution_count": null,
   "metadata": {},
   "outputs": [],
   "source": []
  },
  {
   "cell_type": "code",
   "execution_count": null,
   "metadata": {},
   "outputs": [],
   "source": []
  },
  {
   "cell_type": "code",
   "execution_count": null,
   "metadata": {},
   "outputs": [],
   "source": []
  },
  {
   "cell_type": "code",
   "execution_count": null,
   "metadata": {},
   "outputs": [],
   "source": []
  },
  {
   "cell_type": "code",
   "execution_count": 4,
   "metadata": {},
   "outputs": [
    {
     "data": {
      "text/plain": [
       "'2300001'"
      ]
     },
     "execution_count": 4,
     "metadata": {},
     "output_type": "execute_result"
    }
   ],
   "source": [
    "maxValue = 0\n",
    "Year = '2023'\n",
    "#maxValue = df['qotRef'].max()\n",
    "maxValue = str(maxValue + 1)\n",
    "number = maxValue.rjust(5, \"0\")\n",
    "qotRef = str(Year[2:]) + str(number)\n",
    "qotRef"
   ]
  },
  {
   "cell_type": "code",
   "execution_count": null,
   "metadata": {},
   "outputs": [],
   "source": []
  },
  {
   "cell_type": "markdown",
   "metadata": {},
   "source": [
    "<p style=\"font-family:Calibri; font-size:1.75em; color:white; padding:5px 5px; text-align: left; height:50px; border-bottom: 1px solid orange;\"></p>"
   ]
  }
 ],
 "metadata": {
  "celltoolbar": "Raw Cell Format",
  "kernelspec": {
   "display_name": "Python 3 (ipykernel)",
   "language": "python",
   "name": "python3"
  },
  "language_info": {
   "codemirror_mode": {
    "name": "ipython",
    "version": 3
   },
   "file_extension": ".py",
   "mimetype": "text/x-python",
   "name": "python",
   "nbconvert_exporter": "python",
   "pygments_lexer": "ipython3",
   "version": "3.9.12"
  }
 },
 "nbformat": 4,
 "nbformat_minor": 2
}
