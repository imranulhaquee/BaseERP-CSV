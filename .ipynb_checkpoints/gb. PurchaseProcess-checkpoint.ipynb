{
 "cells": [
  {
   "cell_type": "markdown",
   "metadata": {},
   "source": [
    "<p style=\"font-size:2.2em; color:white; padding:15px; border-bottom: 5px solid #ffb701; background:#143157; text-align:center;\"> \n",
    "    Purchse Process Setup  <br> \n",
    "    <span style=\"font-size:.55em; color: #11a1f5;\"> Create Necessary Folder and Files </span>\n",
    "</p>"
   ]
  },
  {
   "cell_type": "code",
   "execution_count": 12,
   "metadata": {},
   "outputs": [],
   "source": [
    "import pandas as pd\n",
    "import numpy as np\n",
    "pd.options.display.float_format = '{:,.0f}'.format\n",
    "pd.set_option('display.max_columns', 85) # set Jupeter note book to dispay 85 columns"
   ]
  },
  {
   "cell_type": "code",
   "execution_count": 13,
   "metadata": {},
   "outputs": [],
   "source": [
    "import os\n",
    "import csv"
   ]
  },
  {
   "cell_type": "code",
   "execution_count": 14,
   "metadata": {},
   "outputs": [],
   "source": [
    "###---Get Year-------------------------------------\n",
    "#Year = \"2023\"\n",
    "dfStd = pd.read_csv('data/basInfo.csv')\n",
    "Year = str(dfStd.loc[0, 'year'])\n",
    "coFolder = str(dfStd.loc[0, 'coFolder'])"
   ]
  },
  {
   "cell_type": "markdown",
   "metadata": {},
   "source": [
    "<p style=\"font-family:Calibri; font-size:1.75em; color:white; padding:5px 5px; text-align: left; height:50px; border-bottom: 3px solid orange; margin:-7px 0px;\"></p>"
   ]
  },
  {
   "cell_type": "markdown",
   "metadata": {},
   "source": [
    "<p style=\"font-size:2.2em; padding:10px; border-bottom: 5px solid #ffb701; background:#143157;\n",
    "          text-align:center\"> \n",
    "    <span style=\"color: #fff;\"> Create Main-Folders  </span> <br>\n",
    "    <span style=\"font-size:.60em; color: #11a1f5;\"> \"G1_Purchases\" </span>\n",
    "</p>\n"
   ]
  },
  {
   "cell_type": "code",
   "execution_count": 15,
   "metadata": {},
   "outputs": [],
   "source": [
    "mainFolder = \"Data/\" +coFolder+ \"/\" +Year+ \"/G1_Purchases\"\n",
    "os.makedirs(mainFolder, mode=0o777, exist_ok=True)"
   ]
  },
  {
   "cell_type": "markdown",
   "metadata": {},
   "source": [
    "<p style=\"font-family:Calibri; font-size:1.75em; color:white; padding:5px 5px; text-align: left; height:50px; border-bottom: 3px solid orange; margin:-7px 0px;\"></p>"
   ]
  },
  {
   "cell_type": "markdown",
   "metadata": {},
   "source": [
    "<p style=\"font-size:2.2em; padding:10px; border-bottom: 5px solid #ffb701; background:#492863;\n",
    "          text-align:center\"> \n",
    "    <span style=\"color: #debef7;\"> Customers  </span> <br>\n",
    "</p>"
   ]
  },
  {
   "cell_type": "markdown",
   "metadata": {},
   "source": [
    "<p style=\"font-size:2em; padding:18px; border-bottom: 5px solid #ffb701; background:#143157;\"> \n",
    "    <span style=\"color: #fff;\"> Create Sub-Folder -  </span>\n",
    "    <span style=\"font-size:.75em; color: #11a1f5;\"> \"Customers\" </span>\n",
    "</p>"
   ]
  },
  {
   "cell_type": "code",
   "execution_count": 16,
   "metadata": {},
   "outputs": [],
   "source": [
    "subFolder = \"Data/\" +coFolder+ \"/\" +Year+ \"/G1_Purchases/Suppliers\"\n",
    "os.makedirs(subFolder, mode=0o777, exist_ok=True)"
   ]
  },
  {
   "cell_type": "markdown",
   "metadata": {},
   "source": [
    "<p style=\"font-family:Calibri; font-size:1.2em; color:#061233; padding:2px 5px; margin: 5px 0 -7px 20px; border-bottom: 3px solid #0d1e4f; background: #f0f4ff\">  \n",
    "   <span style=\"font-size:1.2em; color:#384073;\" >1a. Suppliers</span>\n",
    "   <span style=\"font-size:1.2em; color:#821107;\" >suppliers.CSV</span>\n",
    "   <span style=\"font-size:1.2em; color:#384073;\" >file</span>\n",
    "</p>"
   ]
  },
  {
   "cell_type": "code",
   "execution_count": 17,
   "metadata": {},
   "outputs": [],
   "source": [
    "file_path = \"Data/\" +coFolder+ \"/\" +Year+ \"/G1_Purchases/Suppliers/Suppliers.csv\"\n",
    "\n",
    "if not os.path.exists(file_path):\n",
    "    headers = ['Ref', 'Type', 'piDat', 'supCode', 'supName','piTAT', 'piComm', 'ptStat', 'dueDate', 'traDate', 'action' ]\n",
    "    \n",
    "    with open(file_path, 'w', newline='') as csv_file:  #create fresh file each time\n",
    "        writer = csv.writer(csv_file); \n",
    "        writer.writerow(headers)"
   ]
  },
  {
   "cell_type": "markdown",
   "metadata": {},
   "source": [
    "<p style=\"font-family:Calibri; font-size:1.75em; color:white; padding:5px 5px; text-align: left; height:50px; border-bottom: 3px solid orange; margin:-7px 0px;\"></p>"
   ]
  },
  {
   "cell_type": "markdown",
   "metadata": {},
   "source": [
    "<p style=\"font-size:2.2em; padding:10px; border-bottom: 5px solid #ffb701; background:#492863;\n",
    "          text-align:center\"> \n",
    "    <span style=\"color: #debef7;\"> Purchase Order  </span> <br>\n",
    "</p>\n"
   ]
  },
  {
   "cell_type": "markdown",
   "metadata": {},
   "source": [
    "<p style=\"font-size:2em; padding:18px; border-bottom: 5px solid #ffb701; background:#143157;\"> \n",
    "    <span style=\"color: #fff;\"> Create Sub-Folder -  </span>\n",
    "    <span style=\"font-size:.75em; color: #11a1f5;\"> \"Orders\" </span>\n",
    "</p>"
   ]
  },
  {
   "cell_type": "code",
   "execution_count": 18,
   "metadata": {},
   "outputs": [],
   "source": [
    "subFolder = \"Data/\" +coFolder+ \"/\" +Year+ \"/G1_Purchases/Orders\"\n",
    "os.makedirs(subFolder, mode=0o777, exist_ok=True)"
   ]
  },
  {
   "cell_type": "markdown",
   "metadata": {},
   "source": [
    "<p style=\"font-family:Calibri; font-size:1.2em; color:#061233; padding:2px 5px; margin: 5px 0 -7px 20px; border-bottom: 3px solid #0d1e4f; background: #f0f4ff\">  \n",
    "   <span style=\"font-size:1.2em; color:#384073;\" >1a. Create</span>\n",
    "   <span style=\"font-size:1.2em; color:#821107;\" >qotBasic.CSV</span>\n",
    "   <span style=\"font-size:1.2em; color:#384073;\" >file</span>\n",
    "</p>"
   ]
  },
  {
   "cell_type": "code",
   "execution_count": 20,
   "metadata": {},
   "outputs": [],
   "source": [
    "file_path = \"Data/\" +coFolder+ \"/\" +Year+ \"/G1_Purchases/Orders/ordBasic.csv\"\n",
    "\n",
    "if not os.path.exists(file_path):\n",
    "    headers = ['id','ordRef','ordDat','supCode','supName','ordTBD', 'ordTAD', 'ordTax', 'ordTAT',\n",
    "                   'shipTo','ordComm','spCode','spCName','opnClo', 'traDate', 'action']\n",
    "    new_record = {'id': str(Year[2:])+\"00000\", 'ordRef': str(Year[2:])+\"00000\"}\n",
    "    \n",
    "    with open(file_path, 'w', newline='') as csv_file:  #create fresh file each time\n",
    "        writer = csv.writer(csv_file); \n",
    "        writer.writerow(headers)\n",
    "        writer.writerow(new_record.values())"
   ]
  },
  {
   "cell_type": "markdown",
   "metadata": {},
   "source": [
    "<p style=\"font-family:Calibri; font-size:1.2em; color:#061233; padding:2px 5px; margin: 5px 0 -7px 20px; border-bottom: 3px solid #0d1e4f; background: #f0f4ff\">  \n",
    "   <span style=\"font-size:1.2em; color:#384073;\" >1b. Create</span>\n",
    "   <span style=\"font-size:1.2em; color:#821107;\" >qotAddi.CSV</span>\n",
    "   <span style=\"font-size:1.2em; color:#384073;\" >file</span>\n",
    "</p>"
   ]
  },
  {
   "cell_type": "code",
   "execution_count": 31,
   "metadata": {},
   "outputs": [],
   "source": [
    "file_path = \"Data/\" +coFolder+ \"/\" +Year+ \"/G1_Purchases/Orders/ordAddi.csv\"\n",
    "\n",
    "if not os.path.exists(file_path):\n",
    "    headers = ['id','ordRef','sno','itmCod','desc','qty', 'price', 'disc', 'tot','vat', 'traDate', 'action']\n",
    "\n",
    "    with open(file_path, 'w', newline='') as csv_file:  #create fresh file each time\n",
    "        writer = csv.writer(csv_file); \n",
    "        writer.writerow(headers)"
   ]
  },
  {
   "cell_type": "markdown",
   "metadata": {},
   "source": [
    "<p style=\"font-family:Calibri; font-size:1.2em; color:#061233; padding:2px 5px; margin: 5px 0 -7px 20px; border-bottom: 3px solid #0d1e4f; background: #f0f4ff\">  \n",
    "   <span style=\"font-size:1.2em; color:#384073;\" >1b. Create</span>\n",
    "   <span style=\"font-size:1.2em; color:#821107;\" >qotStat.CSV</span>\n",
    "   <span style=\"font-size:1.2em; color:#384073;\" >file</span>\n",
    "</p>"
   ]
  },
  {
   "cell_type": "code",
   "execution_count": 32,
   "metadata": {},
   "outputs": [],
   "source": [
    "file_path = \"Data/\" +coFolder+ \"/\" +Year+ \"/G1_Purchases/Orders/ordStat.csv\"\n",
    "\n",
    "if not os.path.exists(file_path):\n",
    "    headers = ['ordRefSt','opnCloSt','traDate', 'action']\n",
    "\n",
    "    with open(file_path, 'w', newline='') as csv_file:  #create fresh file each time\n",
    "        writer = csv.writer(csv_file); \n",
    "        writer.writerow(headers)"
   ]
  },
  {
   "cell_type": "markdown",
   "metadata": {},
   "source": [
    "<p style=\"font-family:Calibri; font-size:1.75em; color:white; padding:5px 5px; text-align: left; height:50px; border-bottom: 3px solid orange; margin:-7px 0px;\"></p>"
   ]
  },
  {
   "cell_type": "markdown",
   "metadata": {},
   "source": [
    "<p style=\"font-size:2.2em; padding:18px; border-bottom: 5px solid #ffb701; background:#143157;\"> \n",
    "    <span style=\"color: #fff;\"> Quotations -  </span>\n",
    "    <span style=\"font-size:.75em; color: #11a1f5;\"> Show All Transactions </span>\n",
    "</p>"
   ]
  },
  {
   "cell_type": "markdown",
   "metadata": {},
   "source": [
    "<p style=\"padding:5px; border-bottom:3px solid #6d79a1; background:#e9edf7; margin:5px 0 -7px 20px;\"> \n",
    "   <span style=\"font-size:1.4em; color:#202f61;\" >Step 1 - </span>\n",
    "   <span style=\"font-size:1.4em; color:#e39607;\">Get Company and Year - </span> \n",
    "   <span style=\"font-size:1.2em; color:#209ebd;\">to Load Data </span>\n",
    "</p> "
   ]
  },
  {
   "cell_type": "code",
   "execution_count": 161,
   "metadata": {},
   "outputs": [],
   "source": [
    "import pandas as pd\n",
    "import numpy as np\n",
    "dfStd = pd.read_csv('data/basInfo.csv')\n",
    "Year = str(dfStd.loc[0, 'year'])\n",
    "coFolder = str(dfStd.loc[0, 'coFolder'])"
   ]
  },
  {
   "cell_type": "markdown",
   "metadata": {},
   "source": [
    "<p style=\"padding:5px; border-bottom:3px solid #6d79a1; background:#e9edf7; margin:5px 0 -7px 20px;\"> \n",
    "   <span style=\"font-size:1.4em; color:#202f61;\" >Step 2 - </span>\n",
    "   <span style=\"font-size:1.4em; color:#e39607;\">Read qotBasic.csv File</span> \n",
    "</p> "
   ]
  },
  {
   "cell_type": "code",
   "execution_count": 162,
   "metadata": {},
   "outputs": [],
   "source": [
    "req_cols = ['id','qotRef','qotDat','cusName', 'qotTax', 'qotTAT','spCName','opnClo','action']\n",
    "fPath = \"Data/\" +coFolder+ \"/\" +Year+ \"/F1_Sales/Quotations/qotBasic.csv\"\n",
    "df = pd.read_csv(fPath, usecols=req_cols, index_col=False, encoding='unicode_escape')"
   ]
  },
  {
   "cell_type": "code",
   "execution_count": null,
   "metadata": {},
   "outputs": [],
   "source": [
    "### drop first row which is empty...\n",
    "df = df.drop(df.index[0])"
   ]
  },
  {
   "cell_type": "code",
   "execution_count": 163,
   "metadata": {},
   "outputs": [],
   "source": [
    "### file doesn't recongnize date formate first convert into date and than strftime...\n",
    "df['qotDat'] = pd.to_datetime(df['qotDat']).dt.strftime('%Y-%m-%d')"
   ]
  },
  {
   "cell_type": "code",
   "execution_count": 164,
   "metadata": {},
   "outputs": [],
   "source": [
    "### Remove Duplicate Quote and Deleted Record...\n",
    "df = df.drop_duplicates(subset=t=['qotRef'], keep='last')\n",
    "df = df.drop(df.loc[df['action']=='Delete'].index).fillna('')"
   ]
  },
  {
   "cell_type": "markdown",
   "metadata": {},
   "source": [
    "<p style=\"padding:5px; border-bottom:3px solid #6d79a1; background:#e9edf7; margin:5px 0 -7px 20px;\"> \n",
    "   <span style=\"font-size:1.4em; color:#202f61;\" >Step 3 - </span>\n",
    "   <span style=\"font-size:1.4em; color:#e39607;\">Read qotStat.csv File</span> \n",
    "</p> "
   ]
  },
  {
   "cell_type": "code",
   "execution_count": null,
   "metadata": {},
   "outputs": [],
   "source": [
    "statPath = \"Data/\" +coFolder+ \"/\" +Year+ \"/F1_Sales/Quotations/qotStat.csv\"\n",
    "stat = pd.read_csv(statPath, index_col=False, encoding='unicode_escape')"
   ]
  },
  {
   "cell_type": "code",
   "execution_count": 165,
   "metadata": {},
   "outputs": [],
   "source": [
    "### Remove Duplicate and Deleted Record...\n",
    "stat = stat.drop_duplicates(subset=['qotRefSt'], keep='last')"
   ]
  },
  {
   "cell_type": "markdown",
   "metadata": {},
   "source": [
    "<p style=\"padding:5px; border-bottom:3px solid #6d79a1; background:#e9edf7; margin:5px 0 -7px 20px;\"> \n",
    "   <span style=\"font-size:1.4em; color:#202f61;\" >Step 4 - </span>\n",
    "   <span style=\"font-size:1.4em; color:#e39607;\">Map qotBasic.csv Open/Close with qotStat.csv</span> \n",
    "</p> "
   ]
  },
  {
   "cell_type": "code",
   "execution_count": 167,
   "metadata": {},
   "outputs": [],
   "source": [
    "opnClo_map = dict(zip(stat['qotRefSt'], stat['opnCloSt']))\n",
    "df['opnClo'] = df['qotRef'].map(opnClo_map).fillna(df['opnClo'])"
   ]
  },
  {
   "cell_type": "markdown",
   "metadata": {},
   "source": [
    "<p style=\"padding:5px; border-bottom:3px solid #6d79a1; background:#e9edf7; margin:5px 0 -7px 20px;\"> \n",
    "   <span style=\"font-size:1.4em; color:#202f61;\" >Step 5 - </span>\n",
    "   <span style=\"font-size:1.4em; color:#e39607;\">Convert Data into Dictionary</span> \n",
    "</p> "
   ]
  },
  {
   "cell_type": "code",
   "execution_count": 160,
   "metadata": {},
   "outputs": [],
   "source": [
    "Data = df.to_dict(orient=\"records\")"
   ]
  },
  {
   "cell_type": "markdown",
   "metadata": {},
   "source": [
    "<p style=\"font-family:Calibri; font-size:1.75em; color:white; padding:5px 5px; text-align: left; height:50px; border-bottom: 3px solid orange; margin:-7px 0px;\"></p>"
   ]
  },
  {
   "cell_type": "markdown",
   "metadata": {},
   "source": [
    "<p style=\"font-size:2.2em; padding:18px; border-bottom: 5px solid #ffb701; background:#143157;\"> \n",
    "    <span style=\"color: #fff;\"> Quotations -  </span>\n",
    "    <span style=\"font-size:.75em; color: #11a1f5;\"> Synchronize / Refresh Data</span>\n",
    "</p>"
   ]
  },
  {
   "cell_type": "markdown",
   "metadata": {},
   "source": [
    "<p style=\"padding:5px; border-bottom:3px solid #6d79a1; background:#e9edf7; margin:5px 0 -7px 20px;\"> \n",
    "   <span style=\"font-size:1.4em; color:#202f61;\" >Step 1 - </span>\n",
    "   <span style=\"font-size:1.4em; color:#e39607;\">Get Company and Year - </span> \n",
    "   <span style=\"font-size:1.2em; color:#209ebd;\">to Load Data </span>\n",
    "</p> "
   ]
  },
  {
   "cell_type": "code",
   "execution_count": 123,
   "metadata": {},
   "outputs": [],
   "source": [
    "import pandas as pd\n",
    "import numpy as np\n",
    "dfStd = pd.read_csv('data/basInfo.csv')\n",
    "Year = str(dfStd.loc[0, 'year'])\n",
    "coFolder = str(dfStd.loc[0, 'coFolder'])"
   ]
  },
  {
   "cell_type": "markdown",
   "metadata": {},
   "source": [
    "<p style=\"padding:5px; border-bottom:3px solid #6d79a1; background:#e9edf7; margin:5px 0 -7px 20px;\"> \n",
    "   <span style=\"font-size:1.4em; color:#202f61;\" >Step 2 - </span>\n",
    "   <span style=\"font-size:1.4em; color:#e39607;\">Read qotBasic.csv File - </span> \n",
    "   <span style=\"font-size:1.2em; color:#209ebd;\">to Load Data </span>\n",
    "</p> "
   ]
  },
  {
   "cell_type": "code",
   "execution_count": 124,
   "metadata": {},
   "outputs": [],
   "source": [
    "fPath = \"Data/\" +coFolder+ \"/\" +Year+ \"/F1_Sales/Quotations/qotBasic.csv\"\n",
    "dfA = pd.read_csv(fPath, index_col=False, encoding='unicode_escape').fillna('')"
   ]
  },
  {
   "cell_type": "code",
   "execution_count": 125,
   "metadata": {},
   "outputs": [],
   "source": [
    "### Remove Duplicate Quote and Deleted Record...\n",
    "dfBasic = dfA.drop_duplicates(subset=['qotRef'], keep='last')\n",
    "dfBasic = dfBasic.drop(dfBasic.loc[dfBasic['action']=='Deleted'].index)"
   ]
  },
  {
   "cell_type": "code",
   "execution_count": 126,
   "metadata": {},
   "outputs": [],
   "source": [
    "dfBasic = dfBasic.sort_values('qotRef') #sor by qotRef"
   ]
  },
  {
   "cell_type": "code",
   "execution_count": 127,
   "metadata": {},
   "outputs": [],
   "source": [
    "### Save the data in qotBasic.csv File...\n",
    "fPath = \"Data/\" +coFolder+ \"/\" +Year+ \"/F1_Sales/Quotations/qotBasic.csv\"\n",
    "dfBasic.to_csv(fPath, index=False)"
   ]
  },
  {
   "cell_type": "code",
   "execution_count": 129,
   "metadata": {},
   "outputs": [],
   "source": [
    "dfBasic['unique'] = dfBasic['qotRef'].astype(str)+\" \"+dfBasic['traDate']"
   ]
  },
  {
   "cell_type": "markdown",
   "metadata": {},
   "source": [
    "<p style=\"padding:5px; border-bottom:3px solid #6d79a1; background:#e9edf7; margin:5px 0 -7px 20px;\"> \n",
    "   <span style=\"font-size:1.4em; color:#202f61;\" >Step 3 - </span>\n",
    "   <span style=\"font-size:1.4em; color:#e39607;\">Read qotAddi.csv File - </span> \n",
    "   <span style=\"font-size:1.2em; color:#209ebd;\">to Load Data </span>\n",
    "</p> "
   ]
  },
  {
   "cell_type": "code",
   "execution_count": 130,
   "metadata": {},
   "outputs": [],
   "source": [
    "###---- Read Quotation Additional CSV File --------------------------\n",
    "fPath = \"Data/\" +coFolder+ \"/\" +Year+ \"/F1_Sales/Quotations/qotAddi.csv\"\n",
    "dfB = pd.read_csv(fPath, index_col=False, encoding='unicode_escape').fillna('')"
   ]
  },
  {
   "cell_type": "code",
   "execution_count": 131,
   "metadata": {},
   "outputs": [],
   "source": [
    "dfB[\"unique\"] = dfB['qotRef'].astype(str)+\" \"+dfB['traDate']"
   ]
  },
  {
   "cell_type": "code",
   "execution_count": 132,
   "metadata": {},
   "outputs": [],
   "source": [
    "###---- Merge to filter out those data which Transaction Date is not matching with qotBasic\n",
    "merged_df = pd.merge(dfB, dfBasic['unique'], on='unique', how='inner')\n",
    "merged_df = merged_df[['id','qotRef','sno','itmCod','desc','qty','price','disc','tot','vat','traDate','action']]"
   ]
  },
  {
   "cell_type": "code",
   "execution_count": 134,
   "metadata": {},
   "outputs": [],
   "source": [
    "### Save the data in qotAddi.csv File...\n",
    "fPath = \"Data/\" +coFolder+ \"/\" +Year+ \"/F1_Sales/Quotations/qotAddi.csv\"\n",
    "merged_df.to_csv(fPath, index=False)"
   ]
  },
  {
   "cell_type": "markdown",
   "metadata": {},
   "source": [
    "<p style=\"padding:5px; border-bottom:3px solid #6d79a1; background:#e9edf7; margin:5px 0 -7px 20px;\"> \n",
    "   <span style=\"font-size:1.4em; color:#202f61;\" >Step 4 - </span>\n",
    "   <span style=\"font-size:1.4em; color:#e39607;\">Read qotStat.csv File - </span> \n",
    "   <span style=\"font-size:1.2em; color:#209ebd;\">to Load Data </span>\n",
    "</p> "
   ]
  },
  {
   "cell_type": "code",
   "execution_count": 34,
   "metadata": {},
   "outputs": [],
   "source": [
    "statPath = \"Data/\" +coFolder+ \"/\" +Year+ \"/F1_Sales/Quotations/qotStat.csv\"\n",
    "stat = pd.read_csv(statPath, index_col=False, encoding='unicode_escape').fillna('')"
   ]
  },
  {
   "cell_type": "code",
   "execution_count": 36,
   "metadata": {},
   "outputs": [],
   "source": [
    "### Remove Duplicate Quote and Deleted Record...\n",
    "stat = stat.drop_duplicates(subset=['qotRefSt'], keep='last')\n",
    "stat = stat.drop(stat.loc[stat['action']=='Deleted'].index)"
   ]
  },
  {
   "cell_type": "code",
   "execution_count": null,
   "metadata": {},
   "outputs": [],
   "source": [
    "### Save the data in qotStat.csv File...\n",
    "statPath =  \"Data/\" +coFolder+ \"/\" +Year+ \"/F1_Sales/Quotations/qotStat.csv\"\n",
    "stat.to_csv(statPath, index=False)"
   ]
  },
  {
   "cell_type": "markdown",
   "metadata": {},
   "source": [
    "<p style=\"font-family:Calibri; font-size:1.75em; color:white; padding:5px 5px; text-align: left; height:50px; border-bottom: 3px solid orange; margin:-7px 0px;\"></p>"
   ]
  },
  {
   "cell_type": "markdown",
   "metadata": {},
   "source": [
    "<p style=\"font-size:2.2em; padding:18px; border-bottom: 5px solid #ffb701; background:#143157;\"> \n",
    "    <span style=\"color: #fff;\"> Orders -  </span>\n",
    "    <span style=\"font-size:.75em; color: #11a1f5;\"> Add Record </span>\n",
    "</p>"
   ]
  },
  {
   "cell_type": "markdown",
   "metadata": {},
   "source": [
    "<p style=\"padding:5px; border-bottom:3px solid #6d79a1; background:#e9edf7; margin:5px 0 -7px 20px;\"> \n",
    "   <span style=\"font-size:1.4em; color:#202f61;\" >Step 1 - </span>\n",
    "   <span style=\"font-size:1.4em; color:#e39607;\">Get Company and Year - </span> \n",
    "   <span style=\"font-size:1.2em; color:#209ebd;\">to Load Data </span>\n",
    "</p> "
   ]
  },
  {
   "cell_type": "code",
   "execution_count": 33,
   "metadata": {},
   "outputs": [],
   "source": [
    "import pandas as pd\n",
    "import numpy as np\n",
    "dfStd = pd.read_csv('data/basInfo.csv')\n",
    "Year = str(dfStd.loc[0, 'year'])\n",
    "coFolder = str(dfStd.loc[0, 'coFolder'])"
   ]
  },
  {
   "cell_type": "markdown",
   "metadata": {},
   "source": [
    "<p style=\"padding:5px; border-bottom:3px solid #6d79a1; background:#e9edf7; margin:5px 0 -7px 20px;\"> \n",
    "   <span style=\"font-size:1.4em; color:#202f61;\" >Step 2 - </span>\n",
    "   <span style=\"font-size:1.4em; color:#e39607;\">Read qotBasic.csv - </span>\n",
    "    <span style=\"font-size:1.2em; color:#209ebd;\">to Get the last Quotation Number </span>\n",
    "</p> "
   ]
  },
  {
   "cell_type": "code",
   "execution_count": 270,
   "metadata": {},
   "outputs": [],
   "source": [
    "try: \n",
    "    req_cols = ['ordRef', 'ordDat']\n",
    "    fPath = \"Data/\" +coFolder+ \"/\" +Year+ \"/G1_Purchases/Orders/ordBasic.csv\"\n",
    "    df = pd.read_csv(fPath, usecols=req_cols, index_col=False, encoding='unicode_escape')\n",
    "except:\n",
    "    data = {'ordRef': [0]}\n",
    "    df = pd.DataFrame(data)"
   ]
  },
  {
   "cell_type": "code",
   "execution_count": null,
   "metadata": {},
   "outputs": [],
   "source": [
    "### Get the last Order Number and make it 5 digit and add year...\n",
    "lastOrder = df['ordRef'].max()"
   ]
  },
  {
   "cell_type": "markdown",
   "metadata": {},
   "source": [
    "<p style=\"padding:5px 5px 5px 20px; border-bottom:3px solid orange; background:#3c5c75; margin:15px 0 -7px 20px;\"> \n",
    "   <span style=\"font-size:1.4em; color:#f7ca25;\" >Add Record - </span>\n",
    "   <span style=\"font-size:1.4em; color:white;\">Add New Order - </span> \n",
    "   <span style=\"font-size:1.2em; color:#17cffc;\">in ordBasic, ordAddi, ordStat </span>\n",
    "</p> "
   ]
  },
  {
   "cell_type": "markdown",
   "metadata": {},
   "source": [
    "<p style=\"padding:5px; border-bottom:3px solid #6d79a1; background:#e9edf7; margin:5px 0 -7px 20px;\"> \n",
    "   <span style=\"font-size:1.4em; color:#202f61;\" >Step 1 - </span>\n",
    "   <span style=\"font-size:1.4em; color:#e39607;\">Get Company and Year - </span> \n",
    "   <span style=\"font-size:1.2em; color:#209ebd;\">to Load Data </span>\n",
    "</p> "
   ]
  },
  {
   "cell_type": "code",
   "execution_count": 35,
   "metadata": {},
   "outputs": [],
   "source": [
    "import pandas as pd\n",
    "import numpy as np\n",
    "dfStd = pd.read_csv('data/basInfo.csv')\n",
    "Year = str(dfStd.loc[0, 'year'])\n",
    "coFolder = str(dfStd.loc[0, 'coFolder'])"
   ]
  },
  {
   "cell_type": "markdown",
   "metadata": {},
   "source": [
    "<p style=\"padding:5px; border-bottom:3px solid #6d79a1; background:#e9edf7; margin:5px 0 -7px 20px;\"> \n",
    "   <span style=\"font-size:1.4em; color:#202f61;\" >Step 2 - </span>\n",
    "   <span style=\"font-size:1.4em; color:#e39607;\">Save Data in qotBasic.csv file</span> \n",
    "</p> "
   ]
  },
  {
   "cell_type": "code",
   "execution_count": 36,
   "metadata": {},
   "outputs": [],
   "source": [
    "#basData = request.data[0]\n",
    "basicData = {'ID':9999, 'ordRef':9999, 'ordDat':'2023-05-22', 'supCode':2300049,\n",
    "             'Name':'Test Customer', 'ordTBD':100000, 'ordTAD':20000, 'ordTax':4000,\n",
    "             'ordTAT':84000, 'shipFrom':'WareHouse 123', 'ordComm':'Initiall Quotation to Client',\n",
    "             'spCode':901, 'spCName':'Jone Dow', 'opeClo':'Open', 'traDate':'2023-05-22 5-04-47',\n",
    "             'action':''\n",
    "            }\n",
    "dfBasic = pd.DataFrame(basicData, index=[0])\n",
    "fPath = \"Data/\" +coFolder+ \"/\" +Year+ \"/G1_Purchases/Orders/ordBasic.csv\"\n",
    "dfBasic.to_csv(fPath, index=False, header=False, mode='a')"
   ]
  },
  {
   "cell_type": "markdown",
   "metadata": {},
   "source": [
    "<p style=\"padding:5px; border-bottom:3px solid #6d79a1; background:#e9edf7; margin:5px 0 -7px 20px;\"> \n",
    "   <span style=\"font-size:1.4em; color:#202f61;\" >Step 3 - </span>\n",
    "   <span style=\"font-size:1.4em; color:#e39607;\">Save Data in qotAddi.csv file</span> \n",
    "</p> "
   ]
  },
  {
   "cell_type": "code",
   "execution_count": 38,
   "metadata": {},
   "outputs": [],
   "source": [
    "#basData = request.data[1]\n",
    "addiData={'ID':9999, 'ordRef':9999, 'sno':1, 'itmCod':4013150, 'desc':'Test Product',\n",
    "          'qty':10, 'price':15000, 'disc':20000, 'tot':136500,'tax':6500,'traDate':'2023-05-22 5-04-47',\n",
    "          'action':''\n",
    "         }\n",
    "\n",
    "dfAddi = pd.DataFrame(addiData, index=[0])\n",
    "fPath = \"Data/\" +coFolder+ \"/\" +Year+ \"/G1_Purchases/Orders/ordAddi.csv\"\n",
    "dfAddi.to_csv(fPath, index=False, header=False, mode='a')"
   ]
  },
  {
   "cell_type": "markdown",
   "metadata": {},
   "source": [
    "<p style=\"padding:5px; border-bottom:3px solid #6d79a1; background:#e9edf7; margin:5px 0 -7px 20px;\"> \n",
    "   <span style=\"font-size:1.4em; color:#202f61;\" >Step 4 - </span>\n",
    "   <span style=\"font-size:1.4em; color:#e39607;\">Save Data in qotStat.csv file</span> \n",
    "</p> "
   ]
  },
  {
   "cell_type": "code",
   "execution_count": 39,
   "metadata": {},
   "outputs": [],
   "source": [
    "#basData = request.data[0]\n",
    "QotStat =  {'ordRef':9999, 'opnClo':\"Open\",'traDate':'2023-05-22 5-04-47', 'action':''}\n",
    "\n",
    "dfBasic = pd.DataFrame(QotStat, index=[0])\n",
    "fPath = \"Data/\" +coFolder+ \"/\" +Year+ \"/G1_Purchases/Orders/ordStat.csv\"\n",
    "dfBasic.to_csv(fPath, index=False, header=False, mode='a')"
   ]
  },
  {
   "cell_type": "markdown",
   "metadata": {},
   "source": [
    "<p style=\"font-family:Calibri; font-size:1.75em; color:white; padding:5px 5px; text-align: left; height:50px; border-bottom: 3px solid orange; margin:-7px 0px;\"></p>"
   ]
  },
  {
   "cell_type": "markdown",
   "metadata": {},
   "source": [
    "<p style=\"font-size:2.2em; padding:18px; border-bottom: 5px solid #ffb701; background:#143157;\"> \n",
    "    <span style=\"color: #fff;\"> Quotations -  </span>\n",
    "    <span style=\"font-size:.75em; color: #11a1f5;\"> Show and Edit Quotation </span>\n",
    "</p>"
   ]
  },
  {
   "cell_type": "markdown",
   "metadata": {},
   "source": [
    "<p style=\"padding:5px; border-bottom:3px solid #6d79a1; background:#e9edf7; margin:5px 0 -7px 20px;\"> \n",
    "   <span style=\"font-size:1.4em; color:#202f61;\" >Step 1 - </span>\n",
    "   <span style=\"font-size:1.4em; color:#e39607;\">Get Company and Year - </span> \n",
    "   <span style=\"font-size:1.2em; color:#209ebd;\">to Load Data </span>\n",
    "</p> "
   ]
  },
  {
   "cell_type": "code",
   "execution_count": 82,
   "metadata": {},
   "outputs": [],
   "source": [
    "import pandas as pd\n",
    "import numpy as np\n",
    "dfStd = pd.read_csv('data/basInfo.csv')\n",
    "Year = str(dfStd.loc[0, 'year'])\n",
    "coFolder = str(dfStd.loc[0, 'coFolder'])"
   ]
  },
  {
   "cell_type": "markdown",
   "metadata": {},
   "source": [
    "<p style=\"padding:5px; border-bottom:3px solid #6d79a1; background:#e9edf7; margin:5px 0 -7px 20px;\"> \n",
    "   <span style=\"font-size:1.4em; color:#202f61;\" >Step 2 - </span>\n",
    "   <span style=\"font-size:1.4em; color:#e39607;\">Read qotBasic.csv File</span> \n",
    "</p> "
   ]
  },
  {
   "cell_type": "code",
   "execution_count": 83,
   "metadata": {},
   "outputs": [],
   "source": [
    "pk = 2300001\n",
    "fPath = \"Data/\" +coFolder+ \"/\" +Year+ \"/F1_Sales/Quotations/qotBasic.csv\"\n",
    "dfA = pd.read_csv(fPath, index_col=False, encoding='unicode_escape')\n",
    "dfBasic = dfA[dfA['qotRef'] == pk].fillna(0) ### Filter data as per 'pk' selected quote"
   ]
  },
  {
   "cell_type": "code",
   "execution_count": 84,
   "metadata": {},
   "outputs": [],
   "source": [
    "### file doesn't recongnize date formate first convert into date and than strftime\n",
    "dfBasic['qotDat'] = pd.to_datetime(dfBasic['qotDat']).dt.strftime('%Y-%m-%d')"
   ]
  },
  {
   "cell_type": "code",
   "execution_count": 85,
   "metadata": {},
   "outputs": [],
   "source": [
    "### Remove Duplicate Quote and Deleted Record...\n",
    "dfBasic = dfBasic.drop_duplicates(subset=['qotRef'], keep='last')\n",
    "dfBasic = dfBasic.drop(dfBasic.loc[dfBasic['action']=='Delete'].index)"
   ]
  },
  {
   "cell_type": "code",
   "execution_count": 86,
   "metadata": {
    "scrolled": true
   },
   "outputs": [],
   "source": [
    "### Convert Transaction Date to list to filter records in qotAddi\n",
    "List = dfBasic[\"traDate\"] #.tolist()"
   ]
  },
  {
   "cell_type": "code",
   "execution_count": 87,
   "metadata": {},
   "outputs": [],
   "source": [
    "### Convert Transaction Date to list to filter records in qotAddi\n",
    "quotBasi = dfBasic.to_dict(orient=\"records\") ### convert into dictionary"
   ]
  },
  {
   "cell_type": "markdown",
   "metadata": {},
   "source": [
    "<p style=\"padding:5px; border-bottom:3px solid #6d79a1; background:#e9edf7; margin:5px 0 -7px 20px;\"> \n",
    "   <span style=\"font-size:1.4em; color:#202f61;\" >Step 3 - </span>\n",
    "   <span style=\"font-size:1.4em; color:#e39607;\">Read qotAddi.csv File</span> \n",
    "</p> "
   ]
  },
  {
   "cell_type": "code",
   "execution_count": 88,
   "metadata": {},
   "outputs": [],
   "source": [
    "fPath = \"Data/\" +coFolder+ \"/\" +Year+ \"/F1_Sales/Quotations/qotAddi.csv\"\n",
    "dfB = pd.read_csv(fPath, index_col=False, encoding='unicode_escape')\n",
    "dfAddi = dfB[dfB['qotRef'] == pk].fillna(0) ### Filter as per 'pk' selected quote"
   ]
  },
  {
   "cell_type": "code",
   "execution_count": 89,
   "metadata": {},
   "outputs": [],
   "source": [
    "filtered_df = dfAddi[dfAddi['traDate'].isin(List)] ### Filter by transaction Date"
   ]
  },
  {
   "cell_type": "code",
   "execution_count": 90,
   "metadata": {},
   "outputs": [],
   "source": [
    "### Convert Transaction Date to list to filter records in qotAddi\n",
    "quotAddiItems = filtered_df.to_dict(orient=\"records\") ### convert into dictionary"
   ]
  },
  {
   "cell_type": "markdown",
   "metadata": {},
   "source": [
    "<p style=\"font-family:Calibri; font-size:1.75em; color:white; padding:5px 5px; text-align: left; height:50px; border-bottom: 3px solid orange; margin:-7px 0px;\"></p>"
   ]
  },
  {
   "cell_type": "markdown",
   "metadata": {},
   "source": [
    "<p style=\"font-size:2.2em; padding:18px; border-bottom: 5px solid #ffb701; background:#143157;\"> \n",
    "    <span style=\"color: #fff;\"> Quotations -  </span>\n",
    "    <span style=\"font-size:.75em; color: #11a1f5;\"> Delete Quote </span>\n",
    "</p>"
   ]
  },
  {
   "cell_type": "markdown",
   "metadata": {},
   "source": [
    "<p style=\"padding:5px; border-bottom:3px solid #6d79a1; background:#e9edf7; margin:5px 0 -7px 20px;\"> \n",
    "   <span style=\"font-size:1.4em; color:#202f61;\" >Step 1 - </span>\n",
    "   <span style=\"font-size:1.4em; color:#e39607;\">Get Company and Year - </span> \n",
    "   <span style=\"font-size:1.2em; color:#209ebd;\">to Load Data </span>\n",
    "</p> "
   ]
  },
  {
   "cell_type": "code",
   "execution_count": 10,
   "metadata": {},
   "outputs": [],
   "source": [
    "import pandas as pd\n",
    "import numpy as np\n",
    "dfStd = pd.read_csv('data/basInfo.csv')\n",
    "Year = str(dfStd.loc[0, 'year'])\n",
    "coFolder = str(dfStd.loc[0, 'coFolder'])"
   ]
  },
  {
   "cell_type": "markdown",
   "metadata": {},
   "source": [
    "<p style=\"padding:5px; border-bottom:3px solid #6d79a1; background:#e9edf7; margin:5px 0 -7px 20px;\"> \n",
    "   <span style=\"font-size:1.4em; color:#fa5f1e;\">CHECK - </span> \n",
    "   <span style=\"font-size:1.2em; color:#961bfa;\">Before Deleting Record </span>\n",
    "</p> "
   ]
  },
  {
   "cell_type": "code",
   "execution_count": 200,
   "metadata": {},
   "outputs": [
    {
     "name": "stdout",
     "output_type": "stream",
     "text": [
      "Yes, '2300265' exists\n"
     ]
    }
   ],
   "source": [
    "req_cols = [\"soRef\",\"qotRef\", \"action\"]\n",
    "pk = 2300265\n",
    "fPath = \"Data/\" +coFolder+ \"/\" +Year+ \"/F1_Sales/Orders/soBasic.csv\"\n",
    "dfA = pd.read_csv(fPath, usecols=req_cols, index_col=False, encoding='unicode_escape').fillna('')\n",
    "dfA = dfA.drop_duplicates(subset=['qotRef'], keep='last') ### Remove Duplicate Record\n",
    "dfA = dfA.drop(dfA.loc[dfA['action']=='Deleted'].index)  ### Remove Deleted Record\n",
    "list = dfA['qotRef'].tolist() ### Convert Column in LIst\n",
    "if pk in list:\n",
    "    print(\"Yes, '2300265' exists\")"
   ]
  },
  {
   "cell_type": "markdown",
   "metadata": {},
   "source": [
    "<p style=\"padding:5px; border-bottom:3px solid #6d79a1; background:#e9edf7; margin:5px 0 -7px 20px;\"> \n",
    "   <span style=\"font-size:1.4em; color:#202f61;\" >Step 2 - </span>\n",
    "   <span style=\"font-size:1.4em; color:#e39607;\">Read qotBasic.csv File - </span>\n",
    "   <span style=\"font-size:1.2em; color:#209ebd;\">to Get all the Sales Quotations</span>\n",
    "</p> "
   ]
  },
  {
   "cell_type": "code",
   "execution_count": 11,
   "metadata": {},
   "outputs": [],
   "source": [
    "pk = 9999\n",
    "fPath = \"Data/\" +coFolder+ \"/\" +Year+ \"/F1_Sales/Quotations/qotBasic.csv\"\n",
    "df = pd.read_csv(fPath, index_col=False, encoding='unicode_escape')\n",
    "dfBasic = df[df['qotRef'] == pk].fillna(0) ### Filter data as per 'pk' selected quote"
   ]
  },
  {
   "cell_type": "code",
   "execution_count": 12,
   "metadata": {},
   "outputs": [],
   "source": [
    "### Remove Duplicate Quote and Deleted Record...\n",
    "dfBasic = dfBasic.drop_duplicates(subset=['qotRef'], keep='last')\n",
    "dfBasic = dfBasic.drop(dfBasic.loc[dfBasic['action']=='Delete'].index)"
   ]
  },
  {
   "cell_type": "code",
   "execution_count": 243,
   "metadata": {},
   "outputs": [],
   "source": [
    "dfBasic['action'] = 'Deleted' ### in 'action' column add the word 'Deleted'"
   ]
  },
  {
   "cell_type": "code",
   "execution_count": 244,
   "metadata": {},
   "outputs": [],
   "source": [
    "### Save the record(dataframe) in csv file\n",
    "fPath = fPath = \"Data/\" +coFolder+ \"/\" +Year+ \"/F1_Sales/Quotations/qotBasic.csv\"\n",
    "dfBasic.to_csv(fPath, index=False, header=False, mode='a')"
   ]
  },
  {
   "cell_type": "markdown",
   "metadata": {},
   "source": [
    "<p style=\"padding:5px; border-bottom:3px solid #6d79a1; background:#e9edf7; margin:5px 0 -7px 20px;\"> \n",
    "   <span style=\"font-size:1.4em; color:#202f61;\" >Step 3 - </span>\n",
    "   <span style=\"font-size:1.4em; color:#e39607;\">Read qotStat.csv File - </span>\n",
    "   <span style=\"font-size:1.2em; color:#209ebd;\">to Get all the Sales Quotations</span>\n",
    "</p> "
   ]
  },
  {
   "cell_type": "code",
   "execution_count": 38,
   "metadata": {},
   "outputs": [],
   "source": [
    "fPath = \"Data/\" +coFolder+ \"/\" +Year+ \"/F1_Sales/Quotations/qotStat.csv\"\n",
    "df_Stat = pd.read_csv(fPath, index_col=False, encoding='unicode_escape')\n",
    "df_Stat = df_Stat[df_Stat['qotRefSt'] == pk].fillna(0) ### Filter data as per 'pk' selected quote"
   ]
  },
  {
   "cell_type": "code",
   "execution_count": null,
   "metadata": {},
   "outputs": [],
   "source": [
    "df_Stat['action'] = \"Deleted\""
   ]
  },
  {
   "cell_type": "code",
   "execution_count": null,
   "metadata": {},
   "outputs": [],
   "source": [
    "### Save the record(dataframe) in csv file\n",
    "fPath = fPath = \"Data/\" +coFolder+ \"/\" +Year+ \"/F1_Sales/Quotations/qotStat.csv\"\n",
    "df_Stat.to_csv(fPath, index=False, header=False, mode='a')"
   ]
  },
  {
   "cell_type": "markdown",
   "metadata": {},
   "source": [
    "<p style=\"font-family:Calibri; font-size:1.75em; color:white; padding:5px 5px; text-align: left; height:50px; border-bottom: 3px solid orange; margin:-7px 0px;\"></p>"
   ]
  },
  {
   "cell_type": "markdown",
   "metadata": {},
   "source": [
    "<p style=\"font-size:2.2em; padding:18px; border-bottom: 5px solid #ffb701; background:#143157;\"> \n",
    "    <span style=\"color: #fff;\"> Quotations -  </span>\n",
    "    <span style=\"font-size:.75em; color: #11a1f5;\"> Download Qutation as PDF</span>\n",
    "</p>"
   ]
  },
  {
   "cell_type": "markdown",
   "metadata": {},
   "source": [
    "<p style=\"padding:5px; border-bottom:3px solid #6d79a1; background:#e9edf7; margin:5px 0 -7px 20px;\"> \n",
    "   <span style=\"font-size:1.4em; color:#202f61;\" >Step 1 - </span>\n",
    "   <span style=\"font-size:1.4em; color:#e39607;\">Get Company and Year - </span> \n",
    "   <span style=\"font-size:1.2em; color:#209ebd;\">to Load Data </span>\n",
    "</p> "
   ]
  },
  {
   "cell_type": "code",
   "execution_count": 10,
   "metadata": {},
   "outputs": [],
   "source": [
    "import pandas as pd\n",
    "import numpy as np\n",
    "dfStd = pd.read_csv('data/basInfo.csv')\n",
    "Year = str(dfStd.loc[0, 'year'])\n",
    "coFolder = str(dfStd.loc[0, 'coFolder'])"
   ]
  },
  {
   "cell_type": "markdown",
   "metadata": {},
   "source": [
    "<p style=\"padding:5px; border-bottom:3px solid #6d79a1; background:#e9edf7; margin:5px 0 -7px 20px;\"> \n",
    "   <span style=\"font-size:1.4em; color:#202f61;\" >Step 2 - </span>\n",
    "   <span style=\"font-size:1.4em; color:#e39607;\">Read qotBasic.csv File - </span> \n",
    "   <span style=\"font-size:1.2em; color:#209ebd;\">to Load Data </span>\n",
    "</p> "
   ]
  },
  {
   "cell_type": "code",
   "execution_count": 63,
   "metadata": {},
   "outputs": [],
   "source": [
    "pk = 2300001\n",
    "\n",
    "###----Read Quote Basic File--------------------------------------------\n",
    "fPath = \"Data/\" +coFolder+ \"/\" +Year+ \"/F1_Sales/Quotations/qotBasic.csv\"\n",
    "dfA = pd.read_csv(fPath, index_col=False, encoding='unicode_escape')\n",
    "dfBasic = dfA[dfA['qotRef'] == pk].fillna(0) ### Filter"
   ]
  },
  {
   "cell_type": "code",
   "execution_count": 64,
   "metadata": {},
   "outputs": [],
   "source": [
    "### Remove Duplicate Quote and Deleted Record...\n",
    "dfBasic = dfBasic.drop_duplicates(subset=['qotRef'], keep='last')\n",
    "dfBasic = dfBasic.drop(dfBasic.loc[dfBasic['action']=='Delete'].index)"
   ]
  },
  {
   "cell_type": "code",
   "execution_count": 65,
   "metadata": {
    "scrolled": true
   },
   "outputs": [],
   "source": [
    "### Convert Transaction Date to list to filter records in qotAddi\n",
    "List = dfBasic[\"traDate\"] #.tolist()"
   ]
  },
  {
   "cell_type": "code",
   "execution_count": 66,
   "metadata": {},
   "outputs": [],
   "source": [
    "quotBasi = dfBasic.to_dict(orient=\"records\") ### convert into dictionary"
   ]
  },
  {
   "cell_type": "markdown",
   "metadata": {},
   "source": [
    "<p style=\"padding:5px; border-bottom:3px solid #6d79a1; background:#e9edf7; margin:5px 0 -7px 20px;\"> \n",
    "   <span style=\"font-size:1.4em; color:#202f61;\" >Step 3 - </span>\n",
    "   <span style=\"font-size:1.4em; color:#e39607;\">Read qotAddi.csv File - </span> \n",
    "   <span style=\"font-size:1.2em; color:#209ebd;\">to get Quotation Detail </span>\n",
    "</p> "
   ]
  },
  {
   "cell_type": "code",
   "execution_count": 68,
   "metadata": {},
   "outputs": [],
   "source": [
    "###---- Read Quotation Additional CSV File --------------------------\n",
    "fPath = \"Data/\" +coFolder+ \"/\" +Year+ \"/F1_Sales/Quotations/qotAddi.csv\"\n",
    "dfB = pd.read_csv(fPath, index_col=False, encoding='unicode_escape')\n",
    "dfAddi = dfB[dfB['qotRef'] == pk].fillna(0) ### Filter Record as per 'pk' selected Quote"
   ]
  },
  {
   "cell_type": "code",
   "execution_count": 69,
   "metadata": {},
   "outputs": [],
   "source": [
    "### Filtere the 'Qutation' by Quotation \"Target List\"\n",
    "filtered_df = dfAddi[dfAddi['traDate'].isin(List)]\n",
    "quotAddiItems = filtered_df.to_dict(orient=\"records\") ### convert into dictionary"
   ]
  },
  {
   "cell_type": "markdown",
   "metadata": {},
   "source": [
    "<p style=\"font-family:Calibri; font-size:1.75em; color:white; padding:5px 5px; text-align: left; height:50px; border-bottom: 3px solid orange; margin:-7px 0px;\"></p>"
   ]
  },
  {
   "cell_type": "markdown",
   "metadata": {},
   "source": [
    "<p style=\"font-size:2.2em; padding:18px; border-bottom: 5px solid #ffb701; background:#143157;\"> \n",
    "    <span style=\"color: #fff;\"> Supplier List -  </span>\n",
    "    <span style=\"font-size:.75em; color: #11a1f5;\"> Show All Supplier </span>\n",
    "</p>"
   ]
  },
  {
   "cell_type": "markdown",
   "metadata": {},
   "source": [
    "<p style=\"padding:5px; border-bottom:3px solid #6d79a1; background:#e9edf7; margin:5px 0 -7px 20px;\"> \n",
    "   <span style=\"font-size:1.4em; color:#202f61;\" >Step 1 - </span>\n",
    "   <span style=\"font-size:1.4em; color:#e39607;\">Get Company and Year - </span> \n",
    "   <span style=\"font-size:1.2em; color:#209ebd;\">to Load Data </span>\n",
    "</p> "
   ]
  },
  {
   "cell_type": "code",
   "execution_count": 24,
   "metadata": {},
   "outputs": [],
   "source": [
    "import pandas as pd\n",
    "import numpy as np\n",
    "dfStd = pd.read_csv('data/basInfo.csv')\n",
    "Year = str(dfStd.loc[0, 'year'])\n",
    "coFolder = str(dfStd.loc[0, 'coFolder'])"
   ]
  },
  {
   "cell_type": "markdown",
   "metadata": {},
   "source": [
    "<p style=\"padding:5px; border-bottom:3px solid #6d79a1; background:#e9edf7; margin:5px 0 -7px 20px;\"> \n",
    "   <span style=\"font-size:1.4em; color:#202f61;\" >Step 2 - </span>\n",
    "   <span style=\"font-size:1.4em; color:#e39607;\">Read suppMaster.csv File</span> \n",
    "</p> "
   ]
  },
  {
   "cell_type": "code",
   "execution_count": 25,
   "metadata": {},
   "outputs": [],
   "source": [
    "req_cols = ['supCode','supName', 'comment','supBillFrom','supShipFrom']\n",
    "fPath = \"Data/\" +coFolder+\"/G1_Purchases/Suppliers/SuppMaster.csv\"\n",
    "df = pd.read_csv(fPath, usecols=req_cols, index_col=False, encoding='unicode_escape').fillna(0)"
   ]
  },
  {
   "cell_type": "code",
   "execution_count": 28,
   "metadata": {},
   "outputs": [],
   "source": [
    "### Remove Duplicate Quote and Deleted Record.............................\n",
    "df = df.drop_duplicates(subset=['supCode'], keep='last')\n",
    "df = df.drop(df.loc[df['comment']=='Delete'].index)"
   ]
  },
  {
   "cell_type": "code",
   "execution_count": 29,
   "metadata": {},
   "outputs": [],
   "source": [
    "### Convert Data into Record...............................................\n",
    "Data = df.to_dict(orient=\"records\")"
   ]
  },
  {
   "cell_type": "code",
   "execution_count": null,
   "metadata": {},
   "outputs": [],
   "source": []
  },
  {
   "cell_type": "markdown",
   "metadata": {},
   "source": [
    "<p style=\"font-family:Calibri; font-size:1.75em; color:white; padding:5px 5px; text-align: left; height:50px; border-bottom: 3px solid orange; margin:-7px 0px;\"></p>"
   ]
  },
  {
   "cell_type": "markdown",
   "metadata": {},
   "source": [
    "<p style=\"font-size:2.2em; padding:18px; border-bottom: 5px solid #ffb701; background:#492863;\"> \n",
    "    <span style=\"color: #fff;\"> Change -  </span>\n",
    "    <span style=\"font-size:.75em; color: #11a1f5;\"> Company and Year  </span>\n",
    "</p>\n",
    "<span style=\"font-size:.75em; color: #11a1f5;\"> <<< f1_------------ >>></span>"
   ]
  },
  {
   "cell_type": "code",
   "execution_count": 7,
   "metadata": {},
   "outputs": [],
   "source": [
    "###---Standard Code to load Data----------------------\n",
    "import pandas as pd\n",
    "import numpy as np"
   ]
  },
  {
   "cell_type": "code",
   "execution_count": 8,
   "metadata": {},
   "outputs": [],
   "source": [
    "###---Read Company Detail CSV File -------------------\n",
    "coDetail = pd.read_csv('data/coDetail.csv')"
   ]
  },
  {
   "cell_type": "code",
   "execution_count": 9,
   "metadata": {},
   "outputs": [],
   "source": [
    "###---Select the Company and Year --------------------\n",
    "Company = '00_EcoLab'     ###  '01_MedZon'\n",
    "Year = 2023  ###  2024\n",
    "seleCo = coDetail[(coDetail['coFolder'] == Company) & (coDetail['year'] == Year)]"
   ]
  },
  {
   "cell_type": "code",
   "execution_count": 10,
   "metadata": {},
   "outputs": [],
   "source": [
    "###---Save Selected Company in 'baseInfo.csv' File ---\n",
    "seleCo.to_csv('Data/basInfo.csv',index=False)"
   ]
  },
  {
   "cell_type": "code",
   "execution_count": 11,
   "metadata": {},
   "outputs": [],
   "source": [
    "###--- Select Folder Name based on 'Company Code and Year' ---\n",
    "coFolder = seleCo.loc[(seleCo['coFolder'] == Company) & (seleCo['year'] == Year), 'coFolder'].values[0]"
   ]
  },
  {
   "cell_type": "code",
   "execution_count": 12,
   "metadata": {},
   "outputs": [
    {
     "data": {
      "text/plain": [
       "'00_EcoLab'"
      ]
     },
     "execution_count": 12,
     "metadata": {},
     "output_type": "execute_result"
    }
   ],
   "source": [
    "coFolder"
   ]
  },
  {
   "cell_type": "code",
   "execution_count": null,
   "metadata": {},
   "outputs": [],
   "source": []
  },
  {
   "cell_type": "code",
   "execution_count": null,
   "metadata": {},
   "outputs": [],
   "source": []
  }
 ],
 "metadata": {
  "celltoolbar": "Raw Cell Format",
  "kernelspec": {
   "display_name": "Python 3 (ipykernel)",
   "language": "python",
   "name": "python3"
  },
  "language_info": {
   "codemirror_mode": {
    "name": "ipython",
    "version": 3
   },
   "file_extension": ".py",
   "mimetype": "text/x-python",
   "name": "python",
   "nbconvert_exporter": "python",
   "pygments_lexer": "ipython3",
   "version": "3.9.12"
  }
 },
 "nbformat": 4,
 "nbformat_minor": 2
}
