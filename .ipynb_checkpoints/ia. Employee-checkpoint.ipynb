{
 "cells": [
  {
   "cell_type": "markdown",
   "metadata": {},
   "source": [
    "<p style=\"font-size:2.2em; color:white; padding:15px; border-bottom: 5px solid #ffb701; background:#143157; text-align:center;\"> \n",
    "    HRM Setup  <br> \n",
    "    <span style=\"font-size:.55em; color: #11a1f5;\"> Create Necessary Folder and Files </span>\n",
    "</p>"
   ]
  },
  {
   "cell_type": "code",
   "execution_count": 62,
   "metadata": {},
   "outputs": [],
   "source": [
    "import pandas as pd\n",
    "import numpy as np\n",
    "pd.options.display.float_format = '{:,.0f}'.format\n",
    "pd.set_option('display.max_columns', 85) # set Jupeter note book to dispay 85 columns"
   ]
  },
  {
   "cell_type": "code",
   "execution_count": 63,
   "metadata": {},
   "outputs": [],
   "source": [
    "import os\n",
    "import csv"
   ]
  },
  {
   "cell_type": "code",
   "execution_count": 64,
   "metadata": {},
   "outputs": [],
   "source": [
    "###---Get Year-------------------------------------\n",
    "#Year = \"2023\"\n",
    "dfStd = pd.read_csv('data/basInfo.csv')\n",
    "Year = str(dfStd.loc[0, 'year'])\n",
    "coFolder = str(dfStd.loc[0, 'coFolder'])"
   ]
  },
  {
   "cell_type": "markdown",
   "metadata": {},
   "source": [
    "<p style=\"font-family:Calibri; font-size:1.75em; color:white; padding:5px 5px; text-align: left; height:50px; border-bottom: 3px solid orange; margin:-7px 0px;\"></p>"
   ]
  },
  {
   "cell_type": "markdown",
   "metadata": {},
   "source": [
    "<p style=\"font-size:2.2em; padding:10px; border-bottom: 5px solid #ffb701; background:#143157;\n",
    "          text-align:center\"> \n",
    "    <span style=\"color: #fff;\"> Create Permanent-Folders  </span> <br>\n",
    "    <span style=\"font-size:.60em; color: #11a1f5;\"> \"I1_Hrm\" </span>\n",
    "</p>\n"
   ]
  },
  {
   "cell_type": "code",
   "execution_count": 15,
   "metadata": {},
   "outputs": [],
   "source": [
    "mainFolder = \"Data/\" +coFolder+ \"/I1_Hrm\"\n",
    "os.makedirs(mainFolder, mode=0o777, exist_ok=True)"
   ]
  },
  {
   "cell_type": "markdown",
   "metadata": {},
   "source": [
    "<p style=\"font-family:Calibri; font-size:1.2em; color:#061233; padding:2px 5px; margin: 5px 0 -7px 20px; border-bottom: 3px solid #0d1e4f; background: #f0f4ff\">  \n",
    "   <span style=\"font-size:1.2em; color:#384073;\" >1a. Create Employee</span>\n",
    "   <span style=\"font-size:1.2em; color:#821107;\" >EmpMaster.CSV</span>\n",
    "   <span style=\"font-size:1.2em; color:#384073;\" >file</span>\n",
    "</p>"
   ]
  },
  {
   "cell_type": "code",
   "execution_count": 16,
   "metadata": {},
   "outputs": [],
   "source": [
    "file_path = \"Data/\" +coFolder+ \"/I1_Hrm/EmpMaster.csv\"\n",
    "\n",
    "if not os.path.exists(file_path):\n",
    "    headers = ['id','empCode','empFName','empMName','empLName','empCName','empStat','empImg','empPosi','empDoj',\n",
    "               'empEid','empLoca','empDept','empRepTo','empSpon','empNatl','empGend','empDob','empMarr',\n",
    "               'empIban','empBank','empAcc','empUid','empVisa','empAdd','empPh','empEmail','ref','traDate','action' ]\n",
    "    \n",
    "    with open(file_path, 'w', newline='') as csv_file:  #create fresh file each time\n",
    "        writer = csv.writer(csv_file); \n",
    "        writer.writerow(headers)"
   ]
  },
  {
   "cell_type": "markdown",
   "metadata": {},
   "source": [
    "<p style=\"font-family:Calibri; font-size:1.75em; color:white; padding:5px 5px; text-align: left; height:50px; border-bottom: 3px solid orange; margin:-7px 0px;\"></p>"
   ]
  },
  {
   "cell_type": "markdown",
   "metadata": {},
   "source": [
    "<p style=\"font-size:2.2em; padding:18px; border-bottom: 5px solid #ffb701; background:#143157;\"> \n",
    "    <span style=\"color: #fff;\"> Employee Master File -  </span>\n",
    "    <span style=\"font-size:.75em; color: #11a1f5;\"> Show All Records (List) </span>\n",
    "</p>"
   ]
  },
  {
   "cell_type": "markdown",
   "metadata": {},
   "source": [
    "<p style=\"padding:5px; border-bottom:3px solid #6d79a1; background:#e9edf7; margin:5px 0 -7px 20px;\"> \n",
    "   <span style=\"font-size:1.4em; color:#202f61;\" >Step 1 - </span>\n",
    "   <span style=\"font-size:1.4em; color:#e39607;\">Get Company and Year - </span> \n",
    "   <span style=\"font-size:1.2em; color:#209ebd;\">to Load Data </span>\n",
    "</p> "
   ]
  },
  {
   "cell_type": "code",
   "execution_count": 33,
   "metadata": {},
   "outputs": [],
   "source": [
    "import pandas as pd\n",
    "import numpy as np\n",
    "dfStd = pd.read_csv('data/basInfo.csv')\n",
    "Year = str(dfStd.loc[0, 'year'])\n",
    "coFolder = str(dfStd.loc[0, 'coFolder'])"
   ]
  },
  {
   "cell_type": "markdown",
   "metadata": {},
   "source": [
    "<p style=\"padding:5px; border-bottom:3px solid #6d79a1; background:#e9edf7; margin:5px 0 -7px 20px;\"> \n",
    "   <span style=\"font-size:1.4em; color:#202f61;\" >Step 2 - </span>\n",
    "   <span style=\"font-size:1.4em; color:#e39607;\">Read Data in </span> \n",
    "   <span style=\"font-size:1.2em; color:#209ebd;\">EmpMaster.csv file</span>\n",
    "</p> "
   ]
  },
  {
   "cell_type": "code",
   "execution_count": 34,
   "metadata": {},
   "outputs": [],
   "source": [
    "req_cols = ['empCode','empCName','empEmail','empPosi','empDept','empImg', 'empStat', 'action']\n",
    "fPath = \"Data/\" +coFolder+ \"/I1_Hrm/EmpMaster.csv\"\n",
    "df = pd.read_csv(fPath, usecols=req_cols, index_col=False, encoding='unicode_escape').fillna('')"
   ]
  },
  {
   "cell_type": "code",
   "execution_count": 35,
   "metadata": {},
   "outputs": [],
   "source": [
    "### Remove Duplicate Delivery and Deleted Record...\n",
    "df = df.drop_duplicates(subset=['empCode'], keep='last')\n",
    "df = df.drop(df.loc[df['action']=='Deleted'].index).fillna('')"
   ]
  },
  {
   "cell_type": "markdown",
   "metadata": {},
   "source": [
    "<p style=\"padding:5px; border-bottom:3px solid #6d79a1; background:#e9edf7; margin:5px 0 -7px 20px;\"> \n",
    "   <span style=\"font-size:1.4em; color:#202f61;\" >Step 3 - </span>\n",
    "   <span style=\"font-size:1.4em; color:#e39607;\">Convert Data into Json Dictionary </span> \n",
    "</p> "
   ]
  },
  {
   "cell_type": "code",
   "execution_count": 36,
   "metadata": {},
   "outputs": [],
   "source": [
    "Data = df.to_dict(orient=\"records\")"
   ]
  },
  {
   "cell_type": "markdown",
   "metadata": {},
   "source": [
    "<p style=\"font-family:Calibri; font-size:1.75em; color:white; padding:5px 5px; text-align: left; height:50px; border-bottom: 3px solid orange; margin:-7px 0px;\"></p>"
   ]
  },
  {
   "cell_type": "markdown",
   "metadata": {},
   "source": [
    "<p style=\"font-size:2.2em; padding:18px; border-bottom: 5px solid #ffb701; background:#143157;\"> \n",
    "    <span style=\"color: #fff;\"> Employee Master File -  </span>\n",
    "    <span style=\"font-size:.75em; color: #11a1f5;\"> Synchronize / Refresh Data </span>\n",
    "</p>"
   ]
  },
  {
   "cell_type": "markdown",
   "metadata": {},
   "source": [
    "<p style=\"padding:5px; border-bottom:3px solid #6d79a1; background:#e9edf7; margin:5px 0 -7px 20px;\"> \n",
    "   <span style=\"font-size:1.4em; color:#202f61;\" >Step 1 - </span>\n",
    "   <span style=\"font-size:1.4em; color:#e39607;\">Get Company and Year - </span> \n",
    "   <span style=\"font-size:1.2em; color:#209ebd;\">to Load Data </span>\n",
    "</p> "
   ]
  },
  {
   "cell_type": "code",
   "execution_count": 1,
   "metadata": {},
   "outputs": [],
   "source": [
    "import pandas as pd\n",
    "import numpy as np\n",
    "dfStd = pd.read_csv('data/basInfo.csv')\n",
    "Year = str(dfStd.loc[0, 'year'])\n",
    "coFolder = str(dfStd.loc[0, 'coFolder'])"
   ]
  },
  {
   "cell_type": "markdown",
   "metadata": {},
   "source": [
    "<p style=\"padding:5px; border-bottom:3px solid #6d79a1; background:#e9edf7; margin:5px 0 -7px 20px;\"> \n",
    "   <span style=\"font-size:1.4em; color:#202f61;\" >Step 2 - </span>\n",
    "   <span style=\"font-size:1.4em; color:#e39607;\">Read Data in </span> \n",
    "   <span style=\"font-size:1.2em; color:#209ebd;\">EmpMaster.csv file</span>\n",
    "</p> "
   ]
  },
  {
   "cell_type": "code",
   "execution_count": 2,
   "metadata": {},
   "outputs": [],
   "source": [
    "fPath = \"Data/\" +coFolder+ \"/I1_Hrm/EmpMaster.csv\"\n",
    "df = pd.read_csv(fPath, index_col=False, encoding='unicode_escape').fillna('')"
   ]
  },
  {
   "cell_type": "code",
   "execution_count": 3,
   "metadata": {},
   "outputs": [],
   "source": [
    "### Remove Duplicate Delivery and Deleted Record...\n",
    "df = df.drop_duplicates(subset=['empCode'], keep='last')\n",
    "df = df.drop(df.loc[df['action']=='Deleted'].index).fillna('')"
   ]
  },
  {
   "cell_type": "code",
   "execution_count": 4,
   "metadata": {},
   "outputs": [],
   "source": [
    "df = df.sort_values(['empCode'], ascending = [True])"
   ]
  },
  {
   "cell_type": "markdown",
   "metadata": {},
   "source": [
    "<p style=\"padding:5px; border-bottom:3px solid #6d79a1; background:#e9edf7; margin:5px 0 -7px 20px;\"> \n",
    "   <span style=\"font-size:1.4em; color:#202f61;\" >Step 3 - </span>\n",
    "   <span style=\"font-size:1.4em; color:#e39607;\">Save Data in </span> \n",
    "   <span style=\"font-size:1.2em; color:#209ebd;\">EmpMaster.csv file</span>\n",
    "</p> "
   ]
  },
  {
   "cell_type": "code",
   "execution_count": 179,
   "metadata": {},
   "outputs": [],
   "source": [
    "statPath =  \"Data/\" +coFolder+ \"/I1_Hrm/EmpMaster.csv\"\n",
    "stat.to_csv(statPath, index=False)"
   ]
  },
  {
   "cell_type": "markdown",
   "metadata": {},
   "source": [
    "<p style=\"font-family:Calibri; font-size:1.75em; color:white; padding:5px 5px; text-align: left; height:50px; border-bottom: 3px solid orange; margin:-7px 0px;\"></p>"
   ]
  },
  {
   "cell_type": "markdown",
   "metadata": {},
   "source": [
    "<p style=\"font-size:2.2em; padding:18px; border-bottom: 5px solid #ffb701; background:#143157;\"> \n",
    "    <span style=\"color: #fff;\"> Employee Master File -  </span>\n",
    "    <span style=\"font-size:.75em; color: #11a1f5;\"> Add Record </span>\n",
    "</p>"
   ]
  },
  {
   "cell_type": "markdown",
   "metadata": {},
   "source": [
    "<p style=\"padding:5px; border-bottom:3px solid #6d79a1; background:#e9edf7; margin:5px 0 -7px 20px;\"> \n",
    "   <span style=\"font-size:1.4em; color:#202f61;\" >Step 1 - </span>\n",
    "   <span style=\"font-size:1.4em; color:#e39607;\">Get Company and Year - </span> \n",
    "   <span style=\"font-size:1.2em; color:#209ebd;\">to Load Data </span>\n",
    "</p> "
   ]
  },
  {
   "cell_type": "code",
   "execution_count": 17,
   "metadata": {},
   "outputs": [],
   "source": [
    "import pandas as pd\n",
    "import numpy as np\n",
    "dfStd = pd.read_csv('data/basInfo.csv')\n",
    "Year = str(dfStd.loc[0, 'year'])\n",
    "coFolder = str(dfStd.loc[0, 'coFolder'])"
   ]
  },
  {
   "cell_type": "markdown",
   "metadata": {},
   "source": [
    "<p style=\"padding:5px; border-bottom:3px solid #6d79a1; background:#e9edf7; margin:5px 0 -7px 20px;\"> \n",
    "   <span style=\"font-size:1.4em; color:#202f61;\" >Step 2 - </span>\n",
    "   <span style=\"font-size:1.4em; color:#e39607;\"> Get Data </span> \n",
    "   <span style=\"font-size:1.2em; color:#209ebd;\"> and store in variable</span>\n",
    "</p> "
   ]
  },
  {
   "cell_type": "code",
   "execution_count": null,
   "metadata": {},
   "outputs": [],
   "source": [
    "#EmpCName = 'empFName'+' '+'empMName'+' '+'empLName'\n",
    "EmpMaster = {'id':101, 'empCode':101, 'empFName':'Imran','empMName':'Ali','empLName':'Shah','empCName':'Imran Ali Shah',\n",
    "             'empStat':'Active', 'empImg':'images/empImg/File_kmMF4fs.jpg', 'empPosi':'Sales Manager',\n",
    "             'empDoj':'3/6/2021', 'empEid':'784-1977-1234567-72', 'empLoca':'Global Village',\n",
    "             'empDept':'Sales', 'empRepTo':'', 'empSpon':'EcoLab LLC', 'empNatl':'Oman', 'empGend':'Male',\n",
    "             'empDob':'7/4/1982', 'empMarr':'Marriage', 'empIban':'1013-101-2230', 'empBank':'Abu Dhabi Islamic Bank',\n",
    "             'empAcc':'101-2230', 'empUid':'12239854', 'empVisa':'Cost Accountant', 'empAdd':'University Sharjah',\n",
    "             'empPh':'050-4606189', 'empEmail':'imranalishah@yahoo.com', 'ref':'Upon Request',\n",
    "             'traDate':'2023-05-15 23-12-47', 'action':'' }"
   ]
  },
  {
   "cell_type": "markdown",
   "metadata": {},
   "source": [
    "<p style=\"padding:5px; border-bottom:3px solid #6d79a1; background:#e9edf7; margin:5px 0 -7px 20px;\"> \n",
    "   <span style=\"font-size:1.4em; color:#202f61;\" >Step 3 - </span>\n",
    "   <span style=\"font-size:1.4em; color:#e39607;\"> Get Data </span> \n",
    "   <span style=\"font-size:1.2em; color:#209ebd;\"> and store in variable</span>\n",
    "</p> "
   ]
  },
  {
   "cell_type": "code",
   "execution_count": 18,
   "metadata": {},
   "outputs": [],
   "source": [
    "empMaster = pd.DataFrame(EmpMaster, index=[0])\n",
    "fPath = \"Data/\" +coFolder+ \"/I1_Hrm/EmpMaster.csv\"\n",
    "empMaster.to_csv(fPath, index=False, header=False, mode='a')"
   ]
  },
  {
   "cell_type": "markdown",
   "metadata": {},
   "source": [
    "<p style=\"font-family:Calibri; font-size:1.75em; color:white; padding:5px 5px; text-align: left; height:50px; border-bottom: 3px solid orange; margin:-7px 0px;\"></p>"
   ]
  },
  {
   "cell_type": "markdown",
   "metadata": {},
   "source": [
    "<p style=\"font-size:2.2em; padding:18px; border-bottom: 5px solid #ffb701; background:#143157;\"> \n",
    "    <span style=\"color: #fff;\"> Employee Master File -  </span>\n",
    "    <span style=\"font-size:.75em; color: #11a1f5;\"> Show and Edit Record </span>\n",
    "</p>"
   ]
  },
  {
   "cell_type": "markdown",
   "metadata": {},
   "source": [
    "<p style=\"padding:5px; border-bottom:3px solid #6d79a1; background:#e9edf7; margin:5px 0 -7px 20px;\"> \n",
    "   <span style=\"font-size:1.4em; color:#202f61;\" >Step 1 - </span>\n",
    "   <span style=\"font-size:1.4em; color:#e39607;\">Get Company and Year - </span> \n",
    "   <span style=\"font-size:1.2em; color:#209ebd;\">to Load Data </span>\n",
    "</p> "
   ]
  },
  {
   "cell_type": "code",
   "execution_count": 38,
   "metadata": {},
   "outputs": [],
   "source": [
    "import pandas as pd\n",
    "import numpy as np\n",
    "dfStd = pd.read_csv('data/basInfo.csv')\n",
    "Year = str(dfStd.loc[0, 'year'])\n",
    "coFolder = str(dfStd.loc[0, 'coFolder'])"
   ]
  },
  {
   "cell_type": "markdown",
   "metadata": {},
   "source": [
    "<p style=\"padding:5px; border-bottom:3px solid #6d79a1; background:#e9edf7; margin:5px 0 -7px 20px;\"> \n",
    "   <span style=\"font-size:1.4em; color:#202f61;\" >Step 2 - </span>\n",
    "   <span style=\"font-size:1.4em; color:#e39607;\">Save Data in </span> \n",
    "   <span style=\"font-size:1.2em; color:#209ebd;\">EmpMaster.csv file</span>\n",
    "</p> "
   ]
  },
  {
   "cell_type": "code",
   "execution_count": 46,
   "metadata": {},
   "outputs": [],
   "source": [
    "pk = 9999\n",
    "\n",
    "fPath = \"Data/\" +coFolder+ \"/I1_Hrm/EmpMaster.csv\"\n",
    "df = pd.read_csv(fPath, index_col=False, encoding='unicode_escape').fillna('')\n",
    "selEmp = df[df['empCode'] == pk].fillna(0) ### Filter data as per 'pk' selected quote"
   ]
  },
  {
   "cell_type": "code",
   "execution_count": 48,
   "metadata": {},
   "outputs": [],
   "source": [
    "### file doesn't recongnize date formate first convert into date and than strftime\n",
    "selEmp['empDoj'] = pd.to_datetime(selEmp['empDoj']).dt.strftime('%Y-%m-%d')\n",
    "selEmp['empDob'] = pd.to_datetime(selEmp['empDob']).dt.strftime('%Y-%m-%d')"
   ]
  },
  {
   "cell_type": "code",
   "execution_count": 49,
   "metadata": {},
   "outputs": [],
   "source": [
    "### Remove Duplicate Delivery and Deleted Record...\n",
    "selEmp  = selEmp .drop_duplicates(subset=['empCode'], keep='last')\n",
    "selEmp  = selEmp .drop(selEmp .loc[df['action']=='Deleted'].index).fillna('')"
   ]
  },
  {
   "cell_type": "markdown",
   "metadata": {},
   "source": [
    "<p style=\"padding:5px; border-bottom:3px solid #6d79a1; background:#e9edf7; margin:5px 0 -7px 20px;\"> \n",
    "   <span style=\"font-size:1.4em; color:#202f61;\" >Step 3 - </span>\n",
    "   <span style=\"font-size:1.4em; color:#e39607;\">Convert Data into Json Dictionary </span> \n",
    "</p> "
   ]
  },
  {
   "cell_type": "code",
   "execution_count": 44,
   "metadata": {},
   "outputs": [],
   "source": [
    "Data = selEmp.to_dict(orient=\"records\")"
   ]
  },
  {
   "cell_type": "markdown",
   "metadata": {},
   "source": [
    "<p style=\"font-family:Calibri; font-size:1.75em; color:white; padding:5px 5px; text-align: left; height:50px; border-bottom: 3px solid orange; margin:-7px 0px;\"></p>"
   ]
  },
  {
   "cell_type": "markdown",
   "metadata": {},
   "source": [
    "<p style=\"font-size:2.2em; padding:18px; border-bottom: 5px solid #ffb701; background:#143157;\"> \n",
    "    <span style=\"color: #fff;\"> Employee Master File -  </span>\n",
    "    <span style=\"font-size:.75em; color: #11a1f5;\"> Delete Record </span>\n",
    "</p>"
   ]
  },
  {
   "cell_type": "markdown",
   "metadata": {},
   "source": [
    "<p style=\"padding:5px; border-bottom:3px solid #6d79a1; background:#e9edf7; margin:5px 0 -7px 20px;\"> \n",
    "   <span style=\"font-size:1.4em; color:#202f61;\" >Step 1 - </span>\n",
    "   <span style=\"font-size:1.4em; color:#e39607;\">Get Company and Year - </span> \n",
    "   <span style=\"font-size:1.2em; color:#209ebd;\">to Load Data </span>\n",
    "</p> "
   ]
  },
  {
   "cell_type": "code",
   "execution_count": 46,
   "metadata": {},
   "outputs": [],
   "source": [
    "import pandas as pd\n",
    "import numpy as np\n",
    "dfStd = pd.read_csv('data/basInfo.csv')\n",
    "Year = str(dfStd.loc[0, 'year'])\n",
    "coFolder = str(dfStd.loc[0, 'coFolder'])"
   ]
  },
  {
   "cell_type": "markdown",
   "metadata": {},
   "source": [
    "<p style=\"padding:5px; border-bottom:3px solid #6d79a1; background:#e9edf7; margin:5px 0 -7px 20px;\"> \n",
    "   <span style=\"font-size:1.4em; color:#202f61;\" >Step 2 - </span>\n",
    "   <span style=\"font-size:1.4em; color:#e39607;\">Save Data in </span> \n",
    "   <span style=\"font-size:1.2em; color:#209ebd;\">EmpMaster.csv file</span>\n",
    "</p> "
   ]
  },
  {
   "cell_type": "code",
   "execution_count": 53,
   "metadata": {},
   "outputs": [],
   "source": [
    "pk = 9994\n",
    "fPath = \"Data/\" +coFolder+ \"/I1_Hrm/EmpMaster.csv\"\n",
    "df = pd.read_csv(fPath, index_col=False, encoding='unicode_escape').fillna('')\n",
    "selEmp = df[df['empCode'] == pk].fillna(0) ### Filter data as per 'pk' selected quote"
   ]
  },
  {
   "cell_type": "code",
   "execution_count": 54,
   "metadata": {},
   "outputs": [],
   "source": [
    "### Remove Duplicate Delivery and Deleted Record...\n",
    "selEmp  = selEmp .drop_duplicates(subset=['empCode'], keep='last')\n",
    "selEmp  = selEmp .drop(selEmp .loc[df['action']=='Deleted'].index).fillna('')"
   ]
  },
  {
   "cell_type": "code",
   "execution_count": 57,
   "metadata": {},
   "outputs": [],
   "source": [
    "###..Get 'Employee Staus' and 'Image Root' ........................\n",
    "empStat = selEmp.loc[selEmp['empCode'] == pk, 'empStat'].values[0]\n",
    "empImag = selEmp.loc[selEmp['empCode'] == pk, 'empImg'].values[0]"
   ]
  },
  {
   "cell_type": "code",
   "execution_count": 43,
   "metadata": {},
   "outputs": [],
   "source": [
    "if (status) == 'Inactive':\n",
    "    selEmp['action'] = 'Deleted'"
   ]
  },
  {
   "cell_type": "markdown",
   "metadata": {},
   "source": [
    "<p style=\"padding:5px; border-bottom:3px solid #6d79a1; background:#e9edf7; margin:5px 0 -7px 20px;\"> \n",
    "   <span style=\"font-size:1.4em; color:#202f61;\" >Step 3 - </span>\n",
    "   <span style=\"font-size:1.4em; color:#e39607;\">Save the Deleted Record </span> \n",
    "</p> "
   ]
  },
  {
   "cell_type": "code",
   "execution_count": 44,
   "metadata": {},
   "outputs": [],
   "source": [
    "if (status) == 'Inactive':\n",
    "    ### Save the record(dataframe) in csv file\n",
    "    fPath = fPath = \"Data/\" +coFolder+ \"/I1_Hrm/EmpMaster.csv\"\n",
    "    selEmp.to_csv(fPath, index=False, header=False, mode='a')"
   ]
  },
  {
   "cell_type": "markdown",
   "metadata": {},
   "source": [
    "<p style=\"font-size:2.2em; padding:10px; border-bottom: 5px solid #ffb701; background:#492863;\n",
    "          text-align:center\"> \n",
    "    <span style=\"color: #debef7;\"> HRM Yearly Setup  </span> <br>\n",
    "</p>"
   ]
  },
  {
   "cell_type": "markdown",
   "metadata": {},
   "source": [
    "<p style=\"font-size:2.2em; padding:18px; border-bottom: 5px solid #ffb701; background:#143157;\"> \n",
    "    <span style=\"color: #fff;\"> HRM Yearly Setup -  </span>\n",
    "    <span style=\"font-size:.75em; color: #11a1f5;\"> Create Necessary Folder and Files </span>\n",
    "</p>"
   ]
  },
  {
   "cell_type": "markdown",
   "metadata": {},
   "source": [
    "<p style=\"padding:5px; border-bottom:3px solid #6d79a1; background:#e9edf7; margin:5px 0 -7px 20px;\"> \n",
    "   <span style=\"font-size:1.4em; color:#202f61;\" >Step 1 - </span>\n",
    "   <span style=\"font-size:1.4em; color:#e39607;\">Get Company and Year - </span> \n",
    "   <span style=\"font-size:1.2em; color:#209ebd;\">to Load Data </span>\n",
    "</p> "
   ]
  },
  {
   "cell_type": "code",
   "execution_count": 68,
   "metadata": {},
   "outputs": [],
   "source": [
    "import pandas as pd\n",
    "import os\n",
    "import csv\n",
    "dfStd = pd.read_csv('data/basInfo.csv')\n",
    "Year = str(dfStd.loc[0, 'year'])\n",
    "coFolder = str(dfStd.loc[0, 'coFolder'])"
   ]
  },
  {
   "cell_type": "code",
   "execution_count": 70,
   "metadata": {},
   "outputs": [],
   "source": [
    "subFolder = \"Data/\" +coFolder+ \"/\" +Year+ \"/I1_Hrm/Targets\"\n",
    "os.makedirs(subFolder, mode=0o777, exist_ok=True)"
   ]
  },
  {
   "cell_type": "markdown",
   "metadata": {},
   "source": [
    "<p style=\"padding:5px; border-bottom:3px solid #6d79a1; background:#e9edf7; margin:5px 0 -7px 20px;\"> \n",
    "   <span style=\"font-size:1.4em; color:#202f61;\" >Step 2 - </span>\n",
    "   <span style=\"font-size:1.4em; color:#e39607;\"> Get Data </span> \n",
    "   <span style=\"font-size:1.2em; color:#209ebd;\"> and store in variable</span>\n",
    "</p> "
   ]
  },
  {
   "cell_type": "code",
   "execution_count": 72,
   "metadata": {},
   "outputs": [],
   "source": [
    "EmpMaster = {'id':101, 'empCode':101, 'empCName':'Imran Ul Haque','empImg':'images/empImg/File_kmMF4fs.jpg',\n",
    "             'empPosi':'Fianancial Controller', 'anSalary':200000, 'anTarget':2000000, 'empStat':'Active',\n",
    "             'targetSet':2000500, 'sNo':1, 'itemCode':24513565, 'itemDesc':'Hand piece', 'titemSelPrice':25000,\n",
    "             'qty':2, 'salesTarget':50000, 'totalSalCost':35000, 'salCostPU':29000, 'traDate':'2023-05-15 23-12-47',\n",
    "             'action':'' }"
   ]
  },
  {
   "cell_type": "markdown",
   "metadata": {},
   "source": [
    "<p style=\"padding:5px; border-bottom:3px solid #6d79a1; background:#e9edf7; margin:5px 0 -7px 20px;\"> \n",
    "   <span style=\"font-size:1.4em; color:#202f61;\" >Step 3 - </span>\n",
    "   <span style=\"font-size:1.4em; color:#e39607;\"> Get Data </span> \n",
    "   <span style=\"font-size:1.2em; color:#209ebd;\"> and store in variable</span>\n",
    "</p> "
   ]
  },
  {
   "cell_type": "code",
   "execution_count": 74,
   "metadata": {},
   "outputs": [],
   "source": [
    "empMaster = pd.DataFrame(EmpMaster, index=[0])\n",
    "fPath = \"Data/\" +coFolder+ \"/\" +Year+ \"/I1_Hrm/Targets/salesTarget.csv\"\n",
    "empMaster.to_csv(fPath, index=False)"
   ]
  },
  {
   "cell_type": "markdown",
   "metadata": {},
   "source": [
    "<p style=\"font-family:Calibri; font-size:1.75em; color:white; padding:5px 5px; text-align: left; height:50px; border-bottom: 3px solid orange; margin:-7px 0px;\"></p>"
   ]
  },
  {
   "cell_type": "markdown",
   "metadata": {},
   "source": [
    "<p style=\"font-size:2.2em; padding:18px; border-bottom: 5px solid #ffb701; background:#143157;\"> \n",
    "    <span style=\"color: #fff;\">Employee Annual Sales Target -  </span>\n",
    "    <span style=\"font-size:.75em; color: #11a1f5;\"> List </span>\n",
    "</p>"
   ]
  },
  {
   "cell_type": "markdown",
   "metadata": {},
   "source": [
    "<p style=\"padding:5px; border-bottom:3px solid #6d79a1; background:#e9edf7; margin:5px 0 -7px 20px;\"> \n",
    "   <span style=\"font-size:1.4em; color:#202f61;\" >Step 1 - </span>\n",
    "   <span style=\"font-size:1.4em; color:#e39607;\">Get Company and Year - </span> \n",
    "   <span style=\"font-size:1.2em; color:#209ebd;\">to Load Data </span>\n",
    "</p> "
   ]
  },
  {
   "cell_type": "code",
   "execution_count": 217,
   "metadata": {},
   "outputs": [],
   "source": [
    "import pandas as pd\n",
    "import numpy as np\n",
    "dfStd = pd.read_csv('data/basInfo.csv')\n",
    "Year = str(dfStd.loc[0, 'year'])\n",
    "coFolder = str(dfStd.loc[0, 'coFolder'])"
   ]
  },
  {
   "cell_type": "markdown",
   "metadata": {},
   "source": [
    "<p style=\"padding:5px; border-bottom:3px solid #6d79a1; background:#e9edf7; margin:5px 0 -7px 20px;\"> \n",
    "   <span style=\"font-size:1.4em; color:#202f61;\" >Step 2 - </span>\n",
    "   <span style=\"font-size:1.4em; color:#e39607;\">Read Employee- </span> \n",
    "   <span style=\"font-size:1.2em; color:#209ebd;\">salesTarget.csv File </span>\n",
    "</p> "
   ]
  },
  {
   "cell_type": "code",
   "execution_count": 230,
   "metadata": {},
   "outputs": [],
   "source": [
    "req_cols = ['empCode','empCName','empPosi','empImg','anTarget','action']\n",
    "fPath = \"Data/\" +coFolder+ \"/\" +Year+ \"/I1_Hrm/Targets/salesTarget.csv\"\n",
    "df = pd.read_csv(fPath, usecols=req_cols, index_col=False, encoding='unicode_escape').fillna('')"
   ]
  },
  {
   "cell_type": "code",
   "execution_count": 231,
   "metadata": {},
   "outputs": [],
   "source": [
    "DataA = df.drop_duplicates(subset=['empCode'], keep='last')  ### drop duplicate value\n",
    "DataB = DataA.drop(DataA.loc[DataA['action']=='Deleted'].index) ### drop deleted record"
   ]
  },
  {
   "cell_type": "code",
   "execution_count": 227,
   "metadata": {},
   "outputs": [],
   "source": [
    "Data = DataB.to_dict(orient=\"records\")"
   ]
  },
  {
   "cell_type": "markdown",
   "metadata": {},
   "source": [
    "<p style=\"font-family:Calibri; font-size:1.75em; color:white; padding:5px 5px; text-align: left; height:50px; border-bottom: 3px solid orange; margin:-7px 0px;\"></p>"
   ]
  },
  {
   "cell_type": "markdown",
   "metadata": {},
   "source": [
    "<p style=\"font-size:2.2em; padding:18px; border-bottom: 5px solid #ffb701; background:#143157;\"> \n",
    "    <span style=\"color: #fff;\">Employee Annual Sales Target -  </span>\n",
    "    <span style=\"font-size:.75em; color: #11a1f5;\"> Read CSV & get the list </span>\n",
    "</p>"
   ]
  },
  {
   "cell_type": "markdown",
   "metadata": {},
   "source": [
    "<p style=\"padding:5px; border-bottom:3px solid #6d79a1; background:#e9edf7; margin:5px 0 -7px 20px;\"> \n",
    "   <span style=\"font-size:1.4em; color:#202f61;\" >Step 1 - </span>\n",
    "   <span style=\"font-size:1.4em; color:#e39607;\">Get Company and Year - </span> \n",
    "   <span style=\"font-size:1.2em; color:#209ebd;\">to Load Data </span>\n",
    "</p> "
   ]
  },
  {
   "cell_type": "code",
   "execution_count": 46,
   "metadata": {},
   "outputs": [],
   "source": [
    "import pandas as pd\n",
    "import numpy as np\n",
    "dfStd = pd.read_csv('data/basInfo.csv')\n",
    "Year = str(dfStd.loc[0, 'year'])\n",
    "coFolder = str(dfStd.loc[0, 'coFolder'])"
   ]
  },
  {
   "cell_type": "markdown",
   "metadata": {},
   "source": [
    "<p style=\"padding:5px; border-bottom:3px solid #6d79a1; background:#e9edf7; margin:5px 0 -7px 20px;\"> \n",
    "   <span style=\"font-size:1.4em; color:#202f61;\" >Step 2 - </span>\n",
    "   <span style=\"font-size:1.4em; color:#e39607;\">Create a List of Employees- </span> \n",
    "   <span style=\"font-size:1.2em; color:#209ebd;\">whose target has already been set </span>\n",
    "</p> "
   ]
  },
  {
   "cell_type": "code",
   "execution_count": 99,
   "metadata": {},
   "outputs": [],
   "source": [
    "req_cols = ['empCode','sNo','action']\n",
    "fPath = \"Data/\" +coFolder+ \"/\" +Year+ \"/I1_Hrm/Targets/salesTarget.csv\"\n",
    "df = pd.read_csv(fPath, usecols=req_cols, index_col=False, encoding='unicode_escape').fillna('')"
   ]
  },
  {
   "cell_type": "code",
   "execution_count": 100,
   "metadata": {},
   "outputs": [],
   "source": [
    "df['unique'] = df['empCode'].astype(str)+\" \"+df['sNo'].astype(str) ### create a unique column"
   ]
  },
  {
   "cell_type": "code",
   "execution_count": 102,
   "metadata": {},
   "outputs": [],
   "source": [
    "DataA = df.drop_duplicates(subset=['unique'], keep='last')  ### drop duplicate value\n",
    "DataB = DataA.drop(DataA.loc[DataA['action']=='Deleted'].index) ### drop deleted record"
   ]
  },
  {
   "cell_type": "code",
   "execution_count": 113,
   "metadata": {},
   "outputs": [
    {
     "data": {
      "text/plain": [
       "[329, 365, 366, 370, 415, 345, 417]"
      ]
     },
     "execution_count": 113,
     "metadata": {},
     "output_type": "execute_result"
    }
   ],
   "source": [
    "uList = DataB['empCode'].unique() ### create a unique array\n",
    "List = uList.tolist()  ### convert array to list\n",
    "List"
   ]
  },
  {
   "cell_type": "markdown",
   "metadata": {},
   "source": [
    "<p style=\"font-size:2.2em; padding:18px; border-bottom: 5px solid #ffb701; background:#143157;\"> \n",
    "    <span style=\"color: #fff;\">Employee Annual Sales Target -  </span>\n",
    "    <span style=\"font-size:.75em; color: #11a1f5;\"> Read CSV & get the detail of all Employees </span>\n",
    "</p>"
   ]
  },
  {
   "cell_type": "markdown",
   "metadata": {},
   "source": [
    "<p style=\"padding:5px; border-bottom:3px solid #6d79a1; background:#e9edf7; margin:5px 0 -7px 20px;\"> \n",
    "   <span style=\"font-size:1.4em; color:#202f61;\" >Step 1 - </span>\n",
    "   <span style=\"font-size:1.4em; color:#e39607;\">Get Company and Year - </span> \n",
    "   <span style=\"font-size:1.2em; color:#209ebd;\">to Load Data </span>\n",
    "</p> "
   ]
  },
  {
   "cell_type": "code",
   "execution_count": 156,
   "metadata": {},
   "outputs": [],
   "source": [
    "import pandas as pd\n",
    "import numpy as np\n",
    "dfStd = pd.read_csv('data/basInfo.csv')\n",
    "Year = str(dfStd.loc[0, 'year'])\n",
    "coFolder = str(dfStd.loc[0, 'coFolder'])"
   ]
  },
  {
   "cell_type": "markdown",
   "metadata": {},
   "source": [
    "<p style=\"padding:5px; border-bottom:3px solid #6d79a1; background:#e9edf7; margin:5px 0 -7px 20px;\"> \n",
    "   <span style=\"font-size:1.4em; color:#202f61;\" >Step 2 - </span>\n",
    "   <span style=\"font-size:1.4em; color:#e39607;\">Read Employee- </span> \n",
    "   <span style=\"font-size:1.2em; color:#209ebd;\">salesTarget.csv File </span>\n",
    "</p> "
   ]
  },
  {
   "cell_type": "code",
   "execution_count": 160,
   "metadata": {},
   "outputs": [],
   "source": [
    "req_cols = ['empCode' ,'empCName', 'empPosi', 'empImg', 'action']\n",
    "fPath = \"Data/\" +coFolder+ \"/I1_Hrm/EmpMaster.csv\"\n",
    "dfDetail = pd.read_csv(fPath, usecols=req_cols, index_col=False, encoding='unicode_escape').fillna('')"
   ]
  },
  {
   "cell_type": "code",
   "execution_count": 161,
   "metadata": {},
   "outputs": [],
   "source": [
    "DataA = dfDetail.drop_duplicates(subset=['empCode'], keep='last')  ### drop duplicate value\n",
    "DataB = DataA.drop(DataA.loc[DataA['action']=='Deleted'].index) ### drop deleted record"
   ]
  },
  {
   "cell_type": "code",
   "execution_count": 162,
   "metadata": {},
   "outputs": [],
   "source": [
    "DataB = DataB.fillna('')"
   ]
  },
  {
   "cell_type": "code",
   "execution_count": 164,
   "metadata": {},
   "outputs": [],
   "source": [
    "iniData = DataB[['empCode','empCName','empPosi', 'empImg']]"
   ]
  },
  {
   "cell_type": "markdown",
   "metadata": {},
   "source": [
    "<p style=\"padding:5px; border-bottom:3px solid #6d79a1; background:#e9edf7; margin:5px 0 -7px 20px;\"> \n",
    "   <span style=\"font-size:1.4em; color:#202f61;\" >Step 3 - </span>\n",
    "   <span style=\"font-size:1.4em; color:#e39607;\">Convertion the Data - </span> \n",
    "   <span style=\"font-size:1.2em; color:#209ebd;\">into Dictionary </span>\n",
    "</p> "
   ]
  },
  {
   "cell_type": "code",
   "execution_count": 165,
   "metadata": {},
   "outputs": [],
   "source": [
    "Data = iniData.to_dict(orient=\"records\")"
   ]
  },
  {
   "cell_type": "markdown",
   "metadata": {},
   "source": [
    "<p style=\"font-family:Calibri; font-size:1.75em; color:white; padding:5px 5px; text-align: left; height:50px; border-bottom: 3px solid orange; margin:-7px 0px;\"></p>"
   ]
  },
  {
   "cell_type": "markdown",
   "metadata": {},
   "source": [
    "<p style=\"font-size:2.2em; padding:18px; border-bottom: 5px solid #ffb701; background:#143157;\"> \n",
    "    <span style=\"color: #fff;\"> Employee Annual Sales Target -  </span>\n",
    "    <span style=\"font-size:.75em; color: #11a1f5;\"> Synchronize / Refresh Data </span>\n",
    "</p>"
   ]
  },
  {
   "cell_type": "markdown",
   "metadata": {},
   "source": [
    "<p style=\"padding:5px; border-bottom:3px solid #6d79a1; background:#e9edf7; margin:5px 0 -7px 20px;\"> \n",
    "   <span style=\"font-size:1.4em; color:#202f61;\" >Step 1 - </span>\n",
    "   <span style=\"font-size:1.4em; color:#e39607;\">Get Company and Year - </span> \n",
    "   <span style=\"font-size:1.2em; color:#209ebd;\">to Load Data </span>\n",
    "</p> "
   ]
  },
  {
   "cell_type": "code",
   "execution_count": 234,
   "metadata": {},
   "outputs": [],
   "source": [
    "import pandas as pd\n",
    "import numpy as np\n",
    "dfStd = pd.read_csv('data/basInfo.csv')\n",
    "Year = str(dfStd.loc[0, 'year'])\n",
    "coFolder = str(dfStd.loc[0, 'coFolder'])"
   ]
  },
  {
   "cell_type": "markdown",
   "metadata": {},
   "source": [
    "<p style=\"padding:5px; border-bottom:3px solid #6d79a1; background:#e9edf7; margin:5px 0 -7px 20px;\"> \n",
    "   <span style=\"font-size:1.4em; color:#202f61;\" >Step 2 - </span>\n",
    "   <span style=\"font-size:1.4em; color:#e39607;\">Read Employee- </span> \n",
    "   <span style=\"font-size:1.2em; color:#209ebd;\">salesTarget.csv File </span>\n",
    "</p> "
   ]
  },
  {
   "cell_type": "code",
   "execution_count": 249,
   "metadata": {},
   "outputs": [],
   "source": [
    "fPath = \"Data/\" +coFolder+ \"/\" +Year+ \"/I1_Hrm/Targets/salesTarget.csv\"\n",
    "df = pd.read_csv(fPath, index_col=False, encoding='unicode_escape').fillna('')"
   ]
  },
  {
   "cell_type": "code",
   "execution_count": 250,
   "metadata": {},
   "outputs": [],
   "source": [
    "df['unique'] = df['empCode'].astype(str)+\" \"+df['sNo'].astype(str) ### create a unique column"
   ]
  },
  {
   "cell_type": "code",
   "execution_count": 251,
   "metadata": {},
   "outputs": [],
   "source": [
    "DataA = df.drop_duplicates(subset=['unique'], keep='last')  ### drop duplicate value\n",
    "DataB = DataA.drop(DataA.loc[DataA['action']=='Deleted'].index) ### drop deleted record"
   ]
  },
  {
   "cell_type": "code",
   "execution_count": 252,
   "metadata": {},
   "outputs": [],
   "source": [
    "DataB = DataB.sort_values(['empCode','sNo'], ascending = [True,True])"
   ]
  },
  {
   "cell_type": "code",
   "execution_count": 253,
   "metadata": {},
   "outputs": [],
   "source": [
    "DataB = DataB.drop('unique', axis=1)"
   ]
  },
  {
   "cell_type": "markdown",
   "metadata": {},
   "source": [
    "<p style=\"padding:5px; border-bottom:3px solid #6d79a1; background:#e9edf7; margin:5px 0 -7px 20px;\"> \n",
    "   <span style=\"font-size:1.4em; color:#202f61;\" >Step 3 - </span>\n",
    "   <span style=\"font-size:1.4em; color:#e39607;\">Save Data in </span> \n",
    "   <span style=\"font-size:1.2em; color:#209ebd;\">salesTarget.csv file</span>\n",
    "</p> "
   ]
  },
  {
   "cell_type": "code",
   "execution_count": 241,
   "metadata": {},
   "outputs": [],
   "source": [
    "statPath =  \"Data/\" +coFolder+ \"/\" +Year+ \"/I1_Hrm/Targets/salesTarget.csv\"\n",
    "DataB.to_csv(statPath, index=False)"
   ]
  },
  {
   "cell_type": "markdown",
   "metadata": {},
   "source": [
    "<p style=\"font-family:Calibri; font-size:1.75em; color:white; padding:5px 5px; text-align: left; height:50px; border-bottom: 3px solid orange; margin:-7px 0px;\"></p>"
   ]
  },
  {
   "cell_type": "markdown",
   "metadata": {},
   "source": [
    "<p style=\"font-size:2.2em; padding:18px; border-bottom: 5px solid #ffb701; background:#143157;\"> \n",
    "    <span style=\"color: #fff;\">Employee Annual Sales Target -  </span>\n",
    "    <span style=\"font-size:.75em; color: #11a1f5;\"> Add Target </span>\n",
    "</p>"
   ]
  },
  {
   "cell_type": "markdown",
   "metadata": {},
   "source": [
    "<p style=\"padding:5px; border-bottom:3px solid #6d79a1; background:#e9edf7; margin:5px 0 -7px 20px;\"> \n",
    "   <span style=\"font-size:1.4em; color:#202f61;\" >Step 1 - </span>\n",
    "   <span style=\"font-size:1.4em; color:#e39607;\">Get Company and Year - </span> \n",
    "   <span style=\"font-size:1.2em; color:#209ebd;\">to Load Data </span>\n",
    "</p> "
   ]
  },
  {
   "cell_type": "code",
   "execution_count": 174,
   "metadata": {},
   "outputs": [],
   "source": [
    "import pandas as pd\n",
    "import numpy as np\n",
    "dfStd = pd.read_csv('data/basInfo.csv')\n",
    "Year = str(dfStd.loc[0, 'year'])\n",
    "coFolder = str(dfStd.loc[0, 'coFolder'])"
   ]
  },
  {
   "cell_type": "markdown",
   "metadata": {},
   "source": [
    "<p style=\"padding:5px; border-bottom:3px solid #6d79a1; background:#e9edf7; margin:5px 0 -7px 20px;\"> \n",
    "   <span style=\"font-size:1.4em; color:#202f61;\" >Step 2 - </span>\n",
    "   <span style=\"font-size:1.4em; color:#e39607;\">Get Data - </span> \n",
    "   <span style=\"font-size:1.2em; color:#209ebd;\">salesTarget.csv File </span>\n",
    "</p> "
   ]
  },
  {
   "cell_type": "code",
   "execution_count": 176,
   "metadata": {},
   "outputs": [],
   "source": [
    "Addi  = {'id':91, 'empCode':91, 'empCName':'2023-05-11', 'empImg':'Image/91.png','empPosi':'Manager', \n",
    "         'anSalary':200000, 'anTarget':2000000, 'empStat' :'Active', 'targetSet':'Yes', 'sno':1,\n",
    "         'itmcode':251354101, 'desc':'Product', 'itemselprice': 25000, 'qty':5, 'salestarget':2000000,\n",
    "         'totalsalcost':22000, 'salcostpu':1200, 'traDate':'2023-05-16 12-45-45', 'action':\"\"\n",
    "        }\n",
    "\n",
    "dfAddi = pd.DataFrame(Addi, index=[0])\n",
    "dfAddi.to_csv(\"Data/\" +coFolder+ \"/\" +Year+ \"/I1_Hrm/Targets/salesTarget.csv\",index=False, header=False, mode='a')"
   ]
  },
  {
   "cell_type": "markdown",
   "metadata": {},
   "source": [
    "<p style=\"font-family:Calibri; font-size:1.75em; color:white; padding:5px 5px; text-align: left; height:50px; border-bottom: 3px solid orange; margin:-7px 0px;\"></p>"
   ]
  },
  {
   "cell_type": "markdown",
   "metadata": {},
   "source": [
    "<p style=\"font-size:2.2em; padding:18px; border-bottom: 5px solid #ffb701; background:#143157;\"> \n",
    "    <span style=\"color: #fff;\">Employee Annual Sales Targett -  </span>\n",
    "    <span style=\"font-size:.75em; color: #11a1f5;\"> Show and Edit Target </span>\n",
    "</p>"
   ]
  },
  {
   "cell_type": "markdown",
   "metadata": {},
   "source": [
    "<p style=\"padding:5px; border-bottom:3px solid #6d79a1; background:#e9edf7; margin:5px 0 -7px 20px;\"> \n",
    "   <span style=\"font-size:1.4em; color:#202f61;\" >Step 1 - </span>\n",
    "   <span style=\"font-size:1.4em; color:#e39607;\">Get Company and Year - </span> \n",
    "   <span style=\"font-size:1.2em; color:#209ebd;\">to Load Data </span>\n",
    "</p> "
   ]
  },
  {
   "cell_type": "code",
   "execution_count": 199,
   "metadata": {},
   "outputs": [],
   "source": [
    "import pandas as pd\n",
    "import numpy as np\n",
    "dfStd = pd.read_csv('data/basInfo.csv')\n",
    "Year = str(dfStd.loc[0, 'year'])\n",
    "coFolder = str(dfStd.loc[0, 'coFolder'])"
   ]
  },
  {
   "cell_type": "markdown",
   "metadata": {},
   "source": [
    "<p style=\"padding:5px; border-bottom:3px solid #6d79a1; background:#e9edf7; margin:5px 0 -7px 20px;\"> \n",
    "   <span style=\"font-size:1.4em; color:#202f61;\" >Step 2 - </span>\n",
    "   <span style=\"font-size:1.4em; color:#e39607;\">Read Employee- </span> \n",
    "   <span style=\"font-size:1.2em; color:#209ebd;\">salesTarget.csv File </span>\n",
    "</p> "
   ]
  },
  {
   "cell_type": "code",
   "execution_count": 206,
   "metadata": {},
   "outputs": [],
   "source": [
    "fPath = \"Data/\" +coFolder+ \"/\" +Year+ \"/I1_Hrm/Targets/salesTarget.csv\"\n",
    "df = pd.read_csv(fPath, index_col=False, encoding='unicode_escape').fillna('')"
   ]
  },
  {
   "cell_type": "code",
   "execution_count": 207,
   "metadata": {},
   "outputs": [],
   "source": [
    "pk = 345\n",
    "df = df[df['empCode'] == pk].fillna(0) ### Filter data as per 'pk' selected quote"
   ]
  },
  {
   "cell_type": "code",
   "execution_count": 208,
   "metadata": {},
   "outputs": [],
   "source": [
    "df['unique'] = df['empCode'].astype(str)+\" \"+df['sNo'].astype(str) ### create a unique column"
   ]
  },
  {
   "cell_type": "code",
   "execution_count": 209,
   "metadata": {},
   "outputs": [],
   "source": [
    "DataA = df.drop_duplicates(subset=['unique'], keep='last')  ### drop duplicate value\n",
    "DataB = DataA.drop(DataA.loc[DataA['action']=='Deleted'].index) ### drop deleted record"
   ]
  },
  {
   "cell_type": "code",
   "execution_count": 210,
   "metadata": {},
   "outputs": [],
   "source": [
    "Data = DataB.to_dict(orient=\"records\")"
   ]
  },
  {
   "cell_type": "markdown",
   "metadata": {},
   "source": [
    "<p style=\"font-size:2.2em; padding:18px; border-bottom: 5px solid #ffb701; background:#143157;\"> \n",
    "    <span style=\"color: #fff;\">Employee Annual Sales Targett -  </span>\n",
    "    <span style=\"font-size:.75em; color: #11a1f5;\">Delete Target </span>\n",
    "</p>"
   ]
  },
  {
   "cell_type": "markdown",
   "metadata": {},
   "source": [
    "<p style=\"padding:5px; border-bottom:3px solid #6d79a1; background:#e9edf7; margin:5px 0 -7px 20px;\"> \n",
    "   <span style=\"font-size:1.4em; color:#202f61;\" >Step 1 - </span>\n",
    "   <span style=\"font-size:1.4em; color:#e39607;\">Get Company and Year - </span> \n",
    "   <span style=\"font-size:1.2em; color:#209ebd;\">to Load Data </span>\n",
    "</p> "
   ]
  },
  {
   "cell_type": "code",
   "execution_count": 296,
   "metadata": {},
   "outputs": [],
   "source": [
    "import pandas as pd\n",
    "import numpy as np\n",
    "dfStd = pd.read_csv('data/basInfo.csv')\n",
    "Year = str(dfStd.loc[0, 'year'])\n",
    "coFolder = str(dfStd.loc[0, 'coFolder'])"
   ]
  },
  {
   "cell_type": "markdown",
   "metadata": {},
   "source": [
    "<p style=\"padding:5px; border-bottom:3px solid #6d79a1; background:#e9edf7; margin:5px 0 -7px 20px;\"> \n",
    "   <span style=\"font-size:1.4em; color:#202f61;\" >Step 2 - </span>\n",
    "   <span style=\"font-size:1.4em; color:#e39607;\">Read Employee- </span> \n",
    "   <span style=\"font-size:1.2em; color:#209ebd;\">salesTarget.csv File </span>\n",
    "</p> "
   ]
  },
  {
   "cell_type": "code",
   "execution_count": 297,
   "metadata": {},
   "outputs": [],
   "source": [
    "fPath = \"Data/\" +coFolder+ \"/\" +Year+ \"/I1_Hrm/Targets/salesTarget.csv\"\n",
    "df = pd.read_csv(fPath, index_col=False, encoding='unicode_escape').fillna('')"
   ]
  },
  {
   "cell_type": "code",
   "execution_count": 298,
   "metadata": {},
   "outputs": [],
   "source": [
    "pk = 709\n",
    "df = df[df['empCode'] == pk].fillna(0) ### Filter data as per 'pk' selected quote"
   ]
  },
  {
   "cell_type": "code",
   "execution_count": 299,
   "metadata": {},
   "outputs": [],
   "source": [
    "df['unique'] = df['empCode'].astype(str)+\" \"+df['sNo'].astype(str) ### create a unique column"
   ]
  },
  {
   "cell_type": "code",
   "execution_count": 300,
   "metadata": {},
   "outputs": [],
   "source": [
    "DataA = df.drop_duplicates(subset=['unique'], keep='last')  ### drop duplicate value\n",
    "DataB = DataA.drop(DataA.loc[DataA['action']=='Deleted'].index) ### drop deleted record"
   ]
  },
  {
   "cell_type": "code",
   "execution_count": 253,
   "metadata": {},
   "outputs": [],
   "source": [
    "DataB = DataB.drop('unique', axis=1)"
   ]
  },
  {
   "cell_type": "code",
   "execution_count": 301,
   "metadata": {},
   "outputs": [],
   "source": [
    "DataB['action'] = 'Deleted'"
   ]
  },
  {
   "cell_type": "markdown",
   "metadata": {},
   "source": [
    "<p style=\"padding:5px; border-bottom:3px solid #6d79a1; background:#e9edf7; margin:5px 0 -7px 20px;\"> \n",
    "   <span style=\"font-size:1.4em; color:#202f61;\" >Step 3 - </span>\n",
    "   <span style=\"font-size:1.4em; color:#e39607;\">Save Data in </span> \n",
    "   <span style=\"font-size:1.2em; color:#209ebd;\">salesTarget.csv file</span>\n",
    "</p> "
   ]
  },
  {
   "cell_type": "code",
   "execution_count": 304,
   "metadata": {},
   "outputs": [],
   "source": [
    "### Save the record(dataframe) in csv file\n",
    "fPath = \"Data/\" +coFolder+ \"/\" +Year+ \"/I1_Hrm/Targets/salesTarget.csv\"\n",
    "DataB.to_csv(fPath, index=False, header=False, mode='a')"
   ]
  },
  {
   "cell_type": "markdown",
   "metadata": {},
   "source": [
    "<p style=\"font-family:Calibri; font-size:1.75em; color:white; padding:5px 5px; text-align: left; height:50px; border-bottom: 3px solid orange; margin:-7px 0px;\"></p>"
   ]
  },
  {
   "cell_type": "markdown",
   "metadata": {},
   "source": [
    "<p style=\"font-size:2.2em; color:white; padding:10px; border-bottom: 5px solid #ffb701; background:#583073;\"> \n",
    "    Fatch Data  - <span style=\"font-size:.75em; color: #11a1f5;\"> Detail Target </span></p>\n",
    "Read data from csv in Pandas"
   ]
  },
  {
   "cell_type": "markdown",
   "metadata": {},
   "source": [
    "<p style=\"padding:5px; border-bottom:3px solid orange; background:#3c5c75; margin:25px 0 -7px 0;\"> \n",
    "   <span style=\"font-size:1.5em; color:#f7ca25;\" >Step 1 - </span>\n",
    "   <span style=\"font-size:1.5em; color:white;\">Read empTarget - </span> \n",
    "   <span style=\"font-size:1.2em; color:#17cffc;\">Through Pandas and get the list of a column </span>\n",
    "</p> "
   ]
  },
  {
   "cell_type": "code",
   "execution_count": 12,
   "metadata": {},
   "outputs": [],
   "source": [
    "df = pd.read_csv(\"Data/2023/I1_Hrm/Employees/empTarget.csv\", index_col=False ,encoding='unicode_escape').fillna(0)"
   ]
  },
  {
   "cell_type": "markdown",
   "metadata": {},
   "source": [
    "<p style=\"font-family:Calibri; font-size:1.2em; color:#061233; padding:5px 5px; margin: 10px 0 -7px 20px;\n",
    "border-bottom: 3px solid #0d1e4f; background: #e3e9fa\">  \n",
    "Step 1a - Remove Duplicate Line and Deleted Record</p>"
   ]
  },
  {
   "cell_type": "code",
   "execution_count": 13,
   "metadata": {},
   "outputs": [],
   "source": [
    "DataA = df.drop_duplicates(subset=['empCode'], keep='last')\n",
    "DataB = DataA.drop(DataA.loc[DataA['comment']=='Delete'].index)"
   ]
  },
  {
   "cell_type": "markdown",
   "metadata": {},
   "source": [
    "<p style=\"font-family:Calibri; font-size:1.2em; color:#061233; padding:5px 5px; margin: 10px 0 -7px 20px;\n",
    "border-bottom: 3px solid #0d1e4f; background: #e3e9fa\">  \n",
    "Step 1b - Combine Employee Code and Transaction Time</p>"
   ]
  },
  {
   "cell_type": "code",
   "execution_count": 15,
   "metadata": {},
   "outputs": [],
   "source": [
    "DataB['combined'] = DataB['empCode'].astype(str)+\" \"+DataB['traDate']"
   ]
  },
  {
   "cell_type": "markdown",
   "metadata": {},
   "source": [
    "<p style=\"font-family:Calibri; font-size:1.2em; color:#061233; padding:5px 5px; margin: 10px 0 -7px 20px;\n",
    "border-bottom: 3px solid #0d1e4f; background: #e3e9fa\">  \n",
    "Step 1c- Select the Combine Column and convert it into a \"LIST\"</p>"
   ]
  },
  {
   "cell_type": "code",
   "execution_count": 16,
   "metadata": {},
   "outputs": [],
   "source": [
    "List = DataB[\"combined\"] #.tolist()"
   ]
  },
  {
   "cell_type": "markdown",
   "metadata": {},
   "source": [
    "<p style=\"padding:5px; border-bottom:3px solid orange; background:#3c5c75; margin:25px 0 -7px 0;\"> \n",
    "   <span style=\"font-size:1.5em; color:#f7ca25;\" >Step 2 - </span>\n",
    "   <span style=\"font-size:1.5em; color:white;\">Read empTargetDetail CSV files - </span> \n",
    "   <span style=\"font-size:1.2em; color:#17cffc;\">Through Pandas and get the list of a column </span>\n",
    "</p> "
   ]
  },
  {
   "cell_type": "code",
   "execution_count": 17,
   "metadata": {},
   "outputs": [],
   "source": [
    "Year = '2023'\n",
    "df2 = pd.read_csv(\"Data/\"+Year+\"/I1_Hrm/Employees/empTargetDetail.csv\", index_col=False).fillna(0)\n",
    "### Combine Employee Code and Transaction Time.................\n",
    "df2['combined'] = df2['empCode'].astype(str)+\" \"+df2['traDate']"
   ]
  },
  {
   "cell_type": "markdown",
   "metadata": {},
   "source": [
    "<p style=\"font-family:Calibri; font-size:1.2em; color:#061233; padding:5px 5px; margin: 10px 0 -7px 20px;\n",
    "border-bottom: 3px solid #0d1e4f; background: #e3e9fa\">  \n",
    "Step 2a- Filtere the 'Employee Target Detail' by Employee \"Target List\"</p>"
   ]
  },
  {
   "cell_type": "code",
   "execution_count": 18,
   "metadata": {},
   "outputs": [],
   "source": [
    "filtered_df = df2[df2['combined'].isin(List)]"
   ]
  },
  {
   "cell_type": "code",
   "execution_count": 19,
   "metadata": {},
   "outputs": [],
   "source": [
    "### Convert 'salesTarget' astype to \"FLOAT\" to avoid error if any numaric value contain float type.\n",
    "filtered_df = filtered_df.astype({'salesTarget':'float'})"
   ]
  },
  {
   "cell_type": "code",
   "execution_count": 20,
   "metadata": {},
   "outputs": [],
   "source": [
    "iID = int(\"329\")\n",
    "seleData = filtered_df[filtered_df['empCode'] == iID]"
   ]
  },
  {
   "cell_type": "markdown",
   "metadata": {},
   "source": [
    "<p style=\"font-family:Calibri; font-size:1.75em; color:white; padding:5px 5px; text-align: left; height:50px; border-bottom: 1px solid orange;\"></p>"
   ]
  },
  {
   "cell_type": "markdown",
   "metadata": {},
   "source": [
    "<p style=\"font-size:2.2em; color:white; padding:25px; border-bottom: 5px solid #ffb701; background:#143157;\"> \n",
    "Employee Salary - <span style=\"font-size:.75em; color: #11a1f5;\"> read from DataBase </span></p>\n",
    "<<< empSalary >>> Extract record from empBase and empExtra Database and select specific column to show deatil"
   ]
  },
  {
   "cell_type": "code",
   "execution_count": 60,
   "metadata": {},
   "outputs": [],
   "source": [
    "import pandas as pd\n",
    "import numpy as np\n",
    "pd.options.display.float_format = '{:,.0f}'.format\n",
    "pd.set_option('display.max_columns', 85) # set Jupeter note book to dispay 85 columns"
   ]
  },
  {
   "cell_type": "markdown",
   "metadata": {},
   "source": [
    "<p style=\"padding:5px; border-bottom:3px solid orange; background:#3c5c75; margin:25px 0 -7px 0;\"> \n",
    "   <span style=\"font-size:1.5em; color:#f7ca25;\" >Step 1 - </span>\n",
    "   <span style=\"font-size:1.5em; color:white;\">Create Engine and read data in Pandas </span> \n",
    "</p> "
   ]
  },
  {
   "cell_type": "markdown",
   "metadata": {},
   "source": [
    "<p style=\"font-family:Calibri; font-size:1.4em; color:#04405e; padding:5px 5px; margin: 10px 0 -7px 20px;\n",
    "border-bottom: 3px solid #e39c19; background: #afe4ff;\">  \n",
    "Step 1a - Create SQL Engine </p>"
   ]
  },
  {
   "cell_type": "code",
   "execution_count": 61,
   "metadata": {},
   "outputs": [],
   "source": [
    "import sqlite3\n",
    "import sqlalchemy\n",
    "\n",
    "# here db.sqlite3 is the name mention in settings.py under Databases; and \n",
    "# path should be absolute where 'db.sqlite3' file exist\n",
    "#------------------------------------------------------------------------\n",
    "engine = sqlalchemy.create_engine('sqlite:///D:/IUH/2. Programming/2. App/1a BaseERP/db.sqlite3')"
   ]
  },
  {
   "cell_type": "markdown",
   "metadata": {},
   "source": [
    "<p style=\"font-family:Calibri; font-size:1.4em; color:#04405e; padding:5px 5px; margin: 10px 0 -7px 20px;\n",
    "border-bottom: 3px solid #e39c19; background: #afe4ff;\">  \n",
    "Step 1b - Read Data from SQL </p>"
   ]
  },
  {
   "cell_type": "code",
   "execution_count": 62,
   "metadata": {},
   "outputs": [],
   "source": [
    "basic = pd.read_sql('''SELECT * FROM \"I1_Hrm_empBasic\" ''', con=engine)\n",
    "Extra = pd.read_sql('''SELECT * FROM \"I1_Hrm_empExtra\" ''', con=engine)"
   ]
  },
  {
   "cell_type": "markdown",
   "metadata": {},
   "source": [
    "<p style=\"padding:5px; border-bottom:3px solid orange; background:#3c5c75; margin:25px 0 -7px 0;\"> \n",
    "   <span style=\"font-size:1.5em; color:#f7ca25;\" >Step 2 - </span>\n",
    "   <span style=\"font-size:1.5em; color:white;\">Merge \"Basic & Extra\" Dataframe by Employee ID </span> \n",
    "</p> "
   ]
  },
  {
   "cell_type": "code",
   "execution_count": 63,
   "metadata": {},
   "outputs": [],
   "source": [
    "Combined = pd.merge(basic, Extra, on=[\"empCode\"])\n",
    "Combined = Combined.drop(\"id_y\", axis=1)\n",
    "Combined = Combined.rename(columns={'id_x': 'id'})"
   ]
  },
  {
   "cell_type": "code",
   "execution_count": 64,
   "metadata": {},
   "outputs": [],
   "source": [
    "###-- Filter will give error if there is NaN in any column to avoid this use fillna\n",
    "Combined = Combined.fillna('')"
   ]
  },
  {
   "cell_type": "code",
   "execution_count": 65,
   "metadata": {},
   "outputs": [],
   "source": [
    "Combined['empName'] = Combined['empFName']+\" \"+Combined['empMName']+\" \"+Combined['empLName'] "
   ]
  },
  {
   "cell_type": "markdown",
   "metadata": {},
   "source": [
    "<p style=\"padding:5px; border-bottom:3px solid orange; background:#3c5c75; margin:25px 0 -7px 0;\"> \n",
    "   <span style=\"font-size:1.5em; color:#f7ca25;\" >Step 3 - </span>\n",
    "   <span style=\"font-size:1.5em; color:white;\">Select Specific Columns </span> \n",
    "</p> "
   ]
  },
  {
   "cell_type": "code",
   "execution_count": 68,
   "metadata": {},
   "outputs": [],
   "source": [
    "DataB = Combined.loc[:, ['empCode', 'empName', 'empImg', 'empPosi', 'empStat']].fillna(0)"
   ]
  },
  {
   "cell_type": "markdown",
   "metadata": {},
   "source": [
    "<p style=\"padding:5px; border-bottom:3px solid orange; background:#3c5c75; margin:25px 0 -7px 0;\"> \n",
    "   <span style=\"font-size:1.5em; color:#f7ca25;\" >Step 4 - </span>\n",
    "   <span style=\"font-size:1.5em; color:white;\">Convert Data into Json Dictionary </span> \n",
    "</p> "
   ]
  },
  {
   "cell_type": "code",
   "execution_count": 69,
   "metadata": {},
   "outputs": [],
   "source": [
    "Data = DataB.to_dict(orient=\"records\")"
   ]
  },
  {
   "cell_type": "code",
   "execution_count": null,
   "metadata": {},
   "outputs": [],
   "source": []
  },
  {
   "cell_type": "code",
   "execution_count": null,
   "metadata": {},
   "outputs": [],
   "source": []
  },
  {
   "cell_type": "code",
   "execution_count": null,
   "metadata": {},
   "outputs": [],
   "source": []
  },
  {
   "cell_type": "code",
   "execution_count": null,
   "metadata": {},
   "outputs": [],
   "source": []
  },
  {
   "cell_type": "code",
   "execution_count": null,
   "metadata": {},
   "outputs": [],
   "source": []
  },
  {
   "cell_type": "code",
   "execution_count": null,
   "metadata": {},
   "outputs": [],
   "source": []
  },
  {
   "cell_type": "markdown",
   "metadata": {},
   "source": [
    "<p style=\"font-size:2.2em; color:white; padding:25px; border-bottom: 5px solid #ffb701; background:#143157;\"> \n",
    "    tEmpTargetEdit  - <span style=\"font-size:.75em; color: #11a1f5;\"> Read CSV & get the list  </span></p>\n",
    "Read data from csv in Pandas"
   ]
  },
  {
   "cell_type": "code",
   "execution_count": 9,
   "metadata": {},
   "outputs": [],
   "source": [
    "import pandas as pd\n",
    "import numpy as np\n",
    "pd.options.display.float_format = '{:,.0f}'.format\n",
    "pd.set_option('display.max_columns', 85) # set Jupeter note book to dispay 85 columns"
   ]
  },
  {
   "cell_type": "markdown",
   "metadata": {},
   "source": [
    "<p style=\"padding:5px; border-bottom:3px solid orange; background:#3c5c75; margin:25px 0 -7px 0;\"> \n",
    "   <span style=\"font-size:1.5em; color:#f7ca25;\" >Step 1 - </span>\n",
    "   <span style=\"font-size:1.5em; color:white;\">Read CSV files - </span> \n",
    "   <span style=\"font-size:1.2em; color:#17cffc;\">Through Pandas and get the list of a column </span>\n",
    "</p> "
   ]
  },
  {
   "cell_type": "code",
   "execution_count": 10,
   "metadata": {},
   "outputs": [],
   "source": [
    "spCode = '415'\n",
    "reqB = ['empCode','empFName', 'empMName','empLName','comment']\n",
    "dfSel = pd.read_csv(\"Data/I1_Hrm/Employees/EmpMaster.csv\", usecols=reqB, index_col=False)"
   ]
  },
  {
   "cell_type": "markdown",
   "metadata": {},
   "source": [
    "<p style=\"font-family:Calibri; font-size:1.2em; color:#061233; padding:5px 5px; margin: 10px 0 -7px 20px;\n",
    "border-bottom: 3px solid #0d1e4f; background: #e3e9fa\">  \n",
    "Step 1a- Remove Duplicate Line and Deleted Record </p>"
   ]
  },
  {
   "cell_type": "code",
   "execution_count": 11,
   "metadata": {},
   "outputs": [],
   "source": [
    "dfSel = dfSel.drop_duplicates(subset=['empCode'], keep='last')\n",
    "dfSel = dfSel.drop(dfSel.loc[dfSel['comment']=='Delete'].index)"
   ]
  },
  {
   "cell_type": "code",
   "execution_count": 12,
   "metadata": {},
   "outputs": [],
   "source": [
    "dfDetail = dfSel.fillna('')"
   ]
  },
  {
   "cell_type": "markdown",
   "metadata": {},
   "source": [
    "<p style=\"font-family:Calibri; font-size:1.2em; color:#061233; padding:5px 5px; margin: 10px 0 -7px 20px;\n",
    "border-bottom: 3px solid #0d1e4f; background: #e3e9fa\">  \n",
    "Step 1b- Updated with Master File </p>"
   ]
  },
  {
   "cell_type": "code",
   "execution_count": 13,
   "metadata": {
    "scrolled": true
   },
   "outputs": [
    {
     "data": {
      "text/html": [
       "<div>\n",
       "<style scoped>\n",
       "    .dataframe tbody tr th:only-of-type {\n",
       "        vertical-align: middle;\n",
       "    }\n",
       "\n",
       "    .dataframe tbody tr th {\n",
       "        vertical-align: top;\n",
       "    }\n",
       "\n",
       "    .dataframe thead th {\n",
       "        text-align: right;\n",
       "    }\n",
       "</style>\n",
       "<table border=\"1\" class=\"dataframe\">\n",
       "  <thead>\n",
       "    <tr style=\"text-align: right;\">\n",
       "      <th></th>\n",
       "      <th>empCode</th>\n",
       "      <th>empFName</th>\n",
       "      <th>empMName</th>\n",
       "      <th>empLName</th>\n",
       "      <th>comment</th>\n",
       "      <th>empName</th>\n",
       "    </tr>\n",
       "  </thead>\n",
       "  <tbody>\n",
       "    <tr>\n",
       "      <th>0</th>\n",
       "      <td>329</td>\n",
       "      <td>Sanjay</td>\n",
       "      <td>Kumar</td>\n",
       "      <td>Mandal</td>\n",
       "      <td></td>\n",
       "      <td>Sanjay Kumar Mandal</td>\n",
       "    </tr>\n",
       "    <tr>\n",
       "      <th>1</th>\n",
       "      <td>345</td>\n",
       "      <td>Pune</td>\n",
       "      <td>Pratap</td>\n",
       "      <td>Panjiyar</td>\n",
       "      <td></td>\n",
       "      <td>Pune Pratap Panjiyar</td>\n",
       "    </tr>\n",
       "    <tr>\n",
       "      <th>2</th>\n",
       "      <td>365</td>\n",
       "      <td>Allen</td>\n",
       "      <td>Joseph</td>\n",
       "      <td>Anora</td>\n",
       "      <td></td>\n",
       "      <td>Allen Joseph Anora</td>\n",
       "    </tr>\n",
       "    <tr>\n",
       "      <th>3</th>\n",
       "      <td>366</td>\n",
       "      <td>Franco</td>\n",
       "      <td>Viola</td>\n",
       "      <td>Parota</td>\n",
       "      <td></td>\n",
       "      <td>Franco Viola Parota</td>\n",
       "    </tr>\n",
       "    <tr>\n",
       "      <th>4</th>\n",
       "      <td>370</td>\n",
       "      <td>Ariel</td>\n",
       "      <td>Abapo</td>\n",
       "      <td>Naciogoyo</td>\n",
       "      <td></td>\n",
       "      <td>Ariel Abapo Naciogoyo</td>\n",
       "    </tr>\n",
       "    <tr>\n",
       "      <th>...</th>\n",
       "      <td>...</td>\n",
       "      <td>...</td>\n",
       "      <td>...</td>\n",
       "      <td>...</td>\n",
       "      <td>...</td>\n",
       "      <td>...</td>\n",
       "    </tr>\n",
       "    <tr>\n",
       "      <th>60</th>\n",
       "      <td>2085</td>\n",
       "      <td>Sushith</td>\n",
       "      <td>Earully</td>\n",
       "      <td>Sureshkumar</td>\n",
       "      <td></td>\n",
       "      <td>Sushith Earully Sureshkumar</td>\n",
       "    </tr>\n",
       "    <tr>\n",
       "      <th>61</th>\n",
       "      <td>2213</td>\n",
       "      <td>Abdul</td>\n",
       "      <td>Raheem</td>\n",
       "      <td>Khan</td>\n",
       "      <td></td>\n",
       "      <td>Abdul Raheem Khan</td>\n",
       "    </tr>\n",
       "    <tr>\n",
       "      <th>62</th>\n",
       "      <td>2268</td>\n",
       "      <td>Muhammad</td>\n",
       "      <td>Nasir</td>\n",
       "      <td>Iqbal</td>\n",
       "      <td></td>\n",
       "      <td>Muhammad Nasir Iqbal</td>\n",
       "    </tr>\n",
       "    <tr>\n",
       "      <th>63</th>\n",
       "      <td>2310</td>\n",
       "      <td>Muhammad</td>\n",
       "      <td></td>\n",
       "      <td>Khan</td>\n",
       "      <td></td>\n",
       "      <td>Muhammad  Khan</td>\n",
       "    </tr>\n",
       "    <tr>\n",
       "      <th>64</th>\n",
       "      <td>2353</td>\n",
       "      <td>Shahid</td>\n",
       "      <td>Ali</td>\n",
       "      <td>Butt</td>\n",
       "      <td></td>\n",
       "      <td>Shahid Ali Butt</td>\n",
       "    </tr>\n",
       "  </tbody>\n",
       "</table>\n",
       "<p>65 rows × 6 columns</p>\n",
       "</div>"
      ],
      "text/plain": [
       "    empCode  empFName empMName     empLName comment  \\\n",
       "0       329    Sanjay    Kumar       Mandal           \n",
       "1       345      Pune   Pratap     Panjiyar           \n",
       "2       365     Allen   Joseph        Anora           \n",
       "3       366    Franco    Viola       Parota           \n",
       "4       370     Ariel    Abapo    Naciogoyo           \n",
       "..      ...       ...      ...          ...     ...   \n",
       "60     2085   Sushith  Earully  Sureshkumar           \n",
       "61     2213     Abdul   Raheem         Khan           \n",
       "62     2268  Muhammad    Nasir        Iqbal           \n",
       "63     2310  Muhammad                  Khan           \n",
       "64     2353    Shahid      Ali         Butt           \n",
       "\n",
       "                        empName  \n",
       "0           Sanjay Kumar Mandal  \n",
       "1          Pune Pratap Panjiyar  \n",
       "2            Allen Joseph Anora  \n",
       "3           Franco Viola Parota  \n",
       "4         Ariel Abapo Naciogoyo  \n",
       "..                          ...  \n",
       "60  Sushith Earully Sureshkumar  \n",
       "61            Abdul Raheem Khan  \n",
       "62         Muhammad Nasir Iqbal  \n",
       "63               Muhammad  Khan  \n",
       "64              Shahid Ali Butt  \n",
       "\n",
       "[65 rows x 6 columns]"
      ]
     },
     "execution_count": 13,
     "metadata": {},
     "output_type": "execute_result"
    }
   ],
   "source": [
    "dfDetail['empName'] = dfDetail['empFName']+\" \"+dfDetail['empMName']+\" \"+dfDetail['empLName']\n",
    "dfDetail"
   ]
  },
  {
   "cell_type": "code",
   "execution_count": 25,
   "metadata": {},
   "outputs": [
    {
     "ename": "AttributeError",
     "evalue": "'list' object has no attribute 'tolist'",
     "output_type": "error",
     "traceback": [
      "\u001b[1;31m---------------------------------------------------------------------------\u001b[0m",
      "\u001b[1;31mAttributeError\u001b[0m                            Traceback (most recent call last)",
      "Input \u001b[1;32mIn [25]\u001b[0m, in \u001b[0;36m<cell line: 2>\u001b[1;34m()\u001b[0m\n\u001b[0;32m      3\u001b[0m     result \u001b[38;5;241m=\u001b[39m dfDetail\u001b[38;5;241m.\u001b[39mloc[dfDetail[\u001b[38;5;124m'\u001b[39m\u001b[38;5;124mempCode\u001b[39m\u001b[38;5;124m'\u001b[39m] \u001b[38;5;241m==\u001b[39m spCode, \u001b[38;5;124m'\u001b[39m\u001b[38;5;124mempName\u001b[39m\u001b[38;5;124m'\u001b[39m]\u001b[38;5;241m.\u001b[39mtolist()\n\u001b[0;32m      4\u001b[0m \u001b[38;5;28;01melse\u001b[39;00m:\n\u001b[1;32m----> 5\u001b[0m     result \u001b[38;5;241m=\u001b[39m \u001b[43m[\u001b[49m\u001b[38;5;124;43m\"\u001b[39;49m\u001b[38;5;124;43mSales Person\u001b[39;49m\u001b[38;5;124;43m\"\u001b[39;49m\u001b[43m]\u001b[49m\u001b[38;5;241;43m.\u001b[39;49m\u001b[43mtolist\u001b[49m()\n",
      "\u001b[1;31mAttributeError\u001b[0m: 'list' object has no attribute 'tolist'"
     ]
    }
   ],
   "source": [
    "spCode = \"\"  #329\n",
    "if (spCode !=\"\"):\n",
    "    result = dfDetail.loc[dfDetail['empCode'] == spCode, 'empName'].tolist()\n",
    "else:\n",
    "    result = [\"Sales Person\"].tolist()"
   ]
  },
  {
   "cell_type": "code",
   "execution_count": 24,
   "metadata": {},
   "outputs": [
    {
     "data": {
      "text/plain": [
       "[]"
      ]
     },
     "execution_count": 24,
     "metadata": {},
     "output_type": "execute_result"
    }
   ],
   "source": [
    "result"
   ]
  },
  {
   "cell_type": "code",
   "execution_count": null,
   "metadata": {},
   "outputs": [],
   "source": []
  }
 ],
 "metadata": {
  "celltoolbar": "Raw Cell Format",
  "kernelspec": {
   "display_name": "Python 3 (ipykernel)",
   "language": "python",
   "name": "python3"
  },
  "language_info": {
   "codemirror_mode": {
    "name": "ipython",
    "version": 3
   },
   "file_extension": ".py",
   "mimetype": "text/x-python",
   "name": "python",
   "nbconvert_exporter": "python",
   "pygments_lexer": "ipython3",
   "version": "3.9.12"
  }
 },
 "nbformat": 4,
 "nbformat_minor": 2
}
