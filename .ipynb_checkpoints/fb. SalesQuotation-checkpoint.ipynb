{
 "cells": [
  {
   "cell_type": "markdown",
   "metadata": {},
   "source": [
    "<p style=\"font-size:2.2em; color:white; padding:25px; border-bottom: 5px solid #ffb701; background:#143157;\"> \n",
    "    Sales Process Setup - <span style=\"font-size:.75em; color: #11a1f5;\"> Create Necessary Folder and Files </span></p>\n",
    "<<< a1_hrmSetupURL >>>"
   ]
  },
  {
   "cell_type": "code",
   "execution_count": 53,
   "metadata": {},
   "outputs": [],
   "source": [
    "import pandas as pd\n",
    "import os\n",
    "import csv"
   ]
  },
  {
   "cell_type": "markdown",
   "metadata": {},
   "source": [
    "<p style=\"padding:5px; border-bottom:3px solid orange; background:#3c5c75; margin:25px 0 -7px 0;\"> \n",
    "   <span style=\"font-size:1.5em; color:#f7ca25;\" >Step 1 -</span>\n",
    "   <span style=\"font-size:1.5em; color:white;\">Create Main-Folders  - </span> \n",
    "   <span style=\"font-size:1.2em; color:#17cffc;\">\"I1_Hrm\"</span>\n",
    "</p> "
   ]
  },
  {
   "cell_type": "code",
   "execution_count": 1,
   "metadata": {},
   "outputs": [],
   "source": [
    "import pandas as pd\n",
    "import numpy as np"
   ]
  },
  {
   "cell_type": "code",
   "execution_count": 54,
   "metadata": {},
   "outputs": [],
   "source": [
    "#Year = \"2023\"\n",
    "dfStd = pd.read_csv('data/basInfo.csv')\n",
    "Year = str(dfStd.loc[0, 'year']) \n",
    "\n",
    "mainFolder = \"Data/\" + Year + \"/I1_Hrm\"\n",
    "os.makedirs(mainFolder, mode=0o777, exist_ok=True)"
   ]
  },
  {
   "cell_type": "markdown",
   "metadata": {},
   "source": [
    "<p style=\"padding:5px; border-bottom:3px solid orange; background:#3c5c75; margin:25px 0 -7px 0;\"> \n",
    "   <span style=\"font-size:1.5em; color:#f7ca25;\" >Step 2 -</span>\n",
    "   <span style=\"font-size:1.5em; color:white;\">Create Sub-Folder  - </span> \n",
    "   <span style=\"font-size:1.2em; color:#17cffc;\">\"Employee\"</span>\n",
    "</p> "
   ]
  },
  {
   "cell_type": "code",
   "execution_count": 29,
   "metadata": {},
   "outputs": [],
   "source": [
    "subFolder = \"Employees\"\n",
    "\n",
    "# Create the subfolder within the main folder\n",
    "subFolder_path = os.path.join(mainFolder, subFolder)\n",
    "os.makedirs(subFolder_path, mode=0o777, exist_ok=True)"
   ]
  },
  {
   "cell_type": "markdown",
   "metadata": {},
   "source": [
    "<p style=\"padding:5px; border-bottom:3px solid orange; background:#3c5c75; margin:25px 0 -7px 0;\"> \n",
    "   <span style=\"font-size:1.5em; color:#f7ca25;\" >Step 3.1 -</span>\n",
    "   <span style=\"font-size:1.5em; color:white;\">Create CSV file -</span> \n",
    "   <span style=\"font-size:1.2em; color:#17cffc;\">\"empTarget.csv\" </span>\n",
    "</p> "
   ]
  },
  {
   "cell_type": "code",
   "execution_count": 30,
   "metadata": {},
   "outputs": [],
   "source": [
    "fileName = 'empTarget.csv'\n",
    "file_path = os.path.join(mainFolder, subFolder, fileName)\n",
    "\n",
    "if not os.path.exists(file_path):\n",
    "    headers = ['id','empCode','empName','empImg','empPosi','anSalary',\n",
    "                   'anTarget','empStat','targetSet','traDate','comment']\n",
    "\n",
    "    with open(file_path, 'w', newline='') as csv_file:  #create fresh file each time\n",
    "        writer = csv.writer(csv_file); \n",
    "        writer.writerow(headers)"
   ]
  },
  {
   "cell_type": "markdown",
   "metadata": {},
   "source": [
    "<p style=\"padding:5px; border-bottom:3px solid orange; background:#3c5c75; margin:25px 0 -7px 0;\"> \n",
    "   <span style=\"font-size:1.5em; color:#f7ca25;\" >Step 3.2 -</span>\n",
    "   <span style=\"font-size:1.5em; color:white;\">Create CSV file -</span> \n",
    "   <span style=\"font-size:1.2em; color:#17cffc;\">\"empTargetDetail.csv\" </span>\n",
    "</p> "
   ]
  },
  {
   "cell_type": "code",
   "execution_count": 32,
   "metadata": {},
   "outputs": [],
   "source": [
    "fileName = 'empTargetDetail.csv'\n",
    "file_path = os.path.join(mainFolder, subFolder, fileName)\n",
    "\n",
    "if not os.path.exists(file_path):\n",
    "    headers = ['iD','empCode','empName','anSalary','anTarget',\n",
    "               'sNo','itemCode','itemDesc','titemSelPrice','qty','salesTarget',\n",
    "              'totalSalCost','salCostPU','traDate','comment'] #abc is to avoid error\n",
    "    \n",
    "    with open(file_path, 'w', newline='') as csv_file:\n",
    "        writer = csv.writer(csv_file); \n",
    "        writer.writerow(headers)"
   ]
  },
  {
   "cell_type": "markdown",
   "metadata": {},
   "source": [
    "<p style=\"font-family:Calibri; font-size:1.75em; color:white; padding:5px 5px; text-align: left; height:50px; border-bottom: 1px solid orange;\"></p>"
   ]
  }
 ],
 "metadata": {
  "celltoolbar": "Raw Cell Format",
  "kernelspec": {
   "display_name": "Python 3 (ipykernel)",
   "language": "python",
   "name": "python3"
  },
  "language_info": {
   "codemirror_mode": {
    "name": "ipython",
    "version": 3
   },
   "file_extension": ".py",
   "mimetype": "text/x-python",
   "name": "python",
   "nbconvert_exporter": "python",
   "pygments_lexer": "ipython3",
   "version": "3.9.12"
  }
 },
 "nbformat": 4,
 "nbformat_minor": 2
}
