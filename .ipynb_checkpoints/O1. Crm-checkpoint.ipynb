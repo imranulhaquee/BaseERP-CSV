{
 "cells": [
  {
   "cell_type": "markdown",
   "metadata": {},
   "source": [
    "<p style=\"font-family:Calibri; font-size:1.75em; color:white; padding:5px 5px; text-align: left; height:50px; border-bottom: 1px solid orange;\"></p>"
   ]
  },
  {
   "cell_type": "markdown",
   "metadata": {},
   "source": [
    "<p style=\"font-size:2.2em; color:white; padding:25px; border-bottom: 5px solid #ffb701; background:#143157;\"> \n",
    "CRM - Meeting Notes </p>\n",
    "Extract Customer Complete Information and Save as CSV file"
   ]
  },
  {
   "cell_type": "code",
   "execution_count": 48,
   "metadata": {},
   "outputs": [],
   "source": [
    "import pandas as pd\n",
    "import numpy as np\n",
    "pd.options.display.float_format = '{:,.0f}'.format\n",
    "pd.set_option('display.max_columns', 85) # set Jupeter note book to dispay 85 columns"
   ]
  },
  {
   "cell_type": "code",
   "execution_count": 49,
   "metadata": {},
   "outputs": [],
   "source": [
    "### Get Current Year Value -----------------------------------------------------------\n",
    "dfA = pd.read_csv('data/basInfo.csv')\n",
    "Year = str(dfA.loc[0, 'year'])"
   ]
  },
  {
   "cell_type": "markdown",
   "metadata": {},
   "source": [
    "<p style=\"font-size:1.5em; color:white; padding:5px; border-bottom: 3px solid orange; background: #3c5c75; margin: 25px 0 -7px 0;\"> \n",
    "Step 1 - Read Data from CSV File </p>"
   ]
  },
  {
   "cell_type": "markdown",
   "metadata": {},
   "source": [
    "<p style=\"font-family:Calibri; font-size:1.75em; color:#04405e; padding:5px 5px; margin: 10px 0 -7px 20px;\n",
    "border-bottom: 3px solid #e39c19; background: #afe4ff;\">  \n",
    "1a. Create Folder If not Already Exist </p>"
   ]
  },
  {
   "cell_type": "code",
   "execution_count": 50,
   "metadata": {},
   "outputs": [],
   "source": [
    "import os\n",
    "data_folder = 'Data/'+Year+'/O1_Crm'\n",
    "sales_folder = \"Meeting\"\n",
    "\n",
    "if not os.path.exists(os.path.join(data_folder, sales_folder)):\n",
    "    os.makedirs(os.path.join(data_folder, sales_folder))\n",
    "else:\n",
    "    pass"
   ]
  },
  {
   "cell_type": "markdown",
   "metadata": {},
   "source": [
    "<p style=\"font-family:Calibri; font-size:1.75em; color:#04405e; padding:5px 5px; margin: 10px 0 -7px 20px;\n",
    "border-bottom: 3px solid #e39c19; background: #afe4ff;\">  \n",
    "1b. If file not already exist creat the file first </p>"
   ]
  },
  {
   "cell_type": "code",
   "execution_count": 51,
   "metadata": {},
   "outputs": [],
   "source": [
    "file_path = 'Data/'+Year+'/O1_Crm/Meeting/meetingDetail.csv'\n",
    "if os.path.isfile(file_path):\n",
    "    req_cols = ['id','metRef']\n",
    "    df = pd.read_csv(file_path, usecols=req_cols).fillna(0)\n",
    "else:\n",
    "    # create a new DataFrame with the required columns\n",
    "    req_cols = [\"id\", \"metRef\", \"metDat\", \"cusCode\", \"cusName\", \"salCode\", \"salPer\", \"priNote\", \"pubNote\", \"othNote\", \"areaLat\",\"areaLon\",\"areaName\", \"refer\", \"comment\"]\n",
    "    df = pd.DataFrame(columns=req_cols).fillna(0)\n",
    "    df.to_csv('Data/'+Year+'/O1_Crm/Meeting/meetingDetail.csv',index=False, mode='a')"
   ]
  },
  {
   "cell_type": "code",
   "execution_count": 57,
   "metadata": {},
   "outputs": [
    {
     "data": {
      "text/html": [
       "<div>\n",
       "<style scoped>\n",
       "    .dataframe tbody tr th:only-of-type {\n",
       "        vertical-align: middle;\n",
       "    }\n",
       "\n",
       "    .dataframe tbody tr th {\n",
       "        vertical-align: top;\n",
       "    }\n",
       "\n",
       "    .dataframe thead th {\n",
       "        text-align: right;\n",
       "    }\n",
       "</style>\n",
       "<table border=\"1\" class=\"dataframe\">\n",
       "  <thead>\n",
       "    <tr style=\"text-align: right;\">\n",
       "      <th></th>\n",
       "      <th>id</th>\n",
       "      <th>metRef</th>\n",
       "    </tr>\n",
       "  </thead>\n",
       "  <tbody>\n",
       "    <tr>\n",
       "      <th>0</th>\n",
       "      <td>20230001</td>\n",
       "      <td>20230001</td>\n",
       "    </tr>\n",
       "    <tr>\n",
       "      <th>1</th>\n",
       "      <td>20230002</td>\n",
       "      <td>20230002</td>\n",
       "    </tr>\n",
       "    <tr>\n",
       "      <th>2</th>\n",
       "      <td>20230003</td>\n",
       "      <td>20230003</td>\n",
       "    </tr>\n",
       "  </tbody>\n",
       "</table>\n",
       "</div>"
      ],
      "text/plain": [
       "         id    metRef\n",
       "0  20230001  20230001\n",
       "1  20230002  20230002\n",
       "2  20230003  20230003"
      ]
     },
     "execution_count": 57,
     "metadata": {},
     "output_type": "execute_result"
    }
   ],
   "source": [
    "df.head(3)"
   ]
  },
  {
   "cell_type": "markdown",
   "metadata": {},
   "source": [
    "<p style=\"font-family:Calibri; font-size:1.75em; color:#04405e; padding:5px 5px; margin: 10px 0 -7px 20px;\n",
    "border-bottom: 3px solid #e39c19; background: #afe4ff;\">  \n",
    "1c. Check if the dataframe is empty </p>"
   ]
  },
  {
   "cell_type": "code",
   "execution_count": 53,
   "metadata": {},
   "outputs": [],
   "source": [
    "if df.empty:\n",
    "    new_row = {'id':int(Year+'0000'), 'metRef':int(Year+'0000')} # create a new dummy row\n",
    "    df.loc[0] = new_row  # add the new row to the dataframe"
   ]
  },
  {
   "cell_type": "code",
   "execution_count": 56,
   "metadata": {},
   "outputs": [
    {
     "data": {
      "text/html": [
       "<div>\n",
       "<style scoped>\n",
       "    .dataframe tbody tr th:only-of-type {\n",
       "        vertical-align: middle;\n",
       "    }\n",
       "\n",
       "    .dataframe tbody tr th {\n",
       "        vertical-align: top;\n",
       "    }\n",
       "\n",
       "    .dataframe thead th {\n",
       "        text-align: right;\n",
       "    }\n",
       "</style>\n",
       "<table border=\"1\" class=\"dataframe\">\n",
       "  <thead>\n",
       "    <tr style=\"text-align: right;\">\n",
       "      <th></th>\n",
       "      <th>id</th>\n",
       "      <th>metRef</th>\n",
       "    </tr>\n",
       "  </thead>\n",
       "  <tbody>\n",
       "    <tr>\n",
       "      <th>0</th>\n",
       "      <td>20230001</td>\n",
       "      <td>20230001</td>\n",
       "    </tr>\n",
       "    <tr>\n",
       "      <th>1</th>\n",
       "      <td>20230002</td>\n",
       "      <td>20230002</td>\n",
       "    </tr>\n",
       "    <tr>\n",
       "      <th>2</th>\n",
       "      <td>20230003</td>\n",
       "      <td>20230003</td>\n",
       "    </tr>\n",
       "  </tbody>\n",
       "</table>\n",
       "</div>"
      ],
      "text/plain": [
       "         id    metRef\n",
       "0  20230001  20230001\n",
       "1  20230002  20230002\n",
       "2  20230003  20230003"
      ]
     },
     "execution_count": 56,
     "metadata": {},
     "output_type": "execute_result"
    }
   ],
   "source": [
    "df.head(3)"
   ]
  },
  {
   "cell_type": "code",
   "execution_count": 55,
   "metadata": {},
   "outputs": [
    {
     "data": {
      "text/plain": [
       "20230004"
      ]
     },
     "execution_count": 55,
     "metadata": {},
     "output_type": "execute_result"
    }
   ],
   "source": [
    "val = df['id'].max()\n",
    "lastN  = val+1\n",
    "val"
   ]
  },
  {
   "cell_type": "code",
   "execution_count": null,
   "metadata": {},
   "outputs": [],
   "source": []
  },
  {
   "cell_type": "markdown",
   "metadata": {},
   "source": [
    "<p style=\"font-family:Calibri; font-size:1.75em; color:white; padding:5px 5px; text-align: left; height:50px; border-bottom: 1px solid orange;\"></p>"
   ]
  },
  {
   "cell_type": "markdown",
   "metadata": {},
   "source": [
    "<p style=\"font-size:2.2em; color:white; padding:25px; border-bottom: 5px solid #ffb701; background:#143157;\"> \n",
    "Show Customer Specific Details </p>\n",
    "Read data from csv in Pandas"
   ]
  },
  {
   "cell_type": "code",
   "execution_count": 9,
   "metadata": {},
   "outputs": [],
   "source": [
    "import pandas as pd\n",
    "import numpy as np\n",
    "pd.options.display.float_format = '{:,.0f}'.format\n",
    "pd.set_option('display.max_columns', 85) # set Jupeter note book to dispay 85 columns"
   ]
  },
  {
   "cell_type": "markdown",
   "metadata": {},
   "source": [
    "<p style=\"font-size:1.5em; color:white; padding:5px; border-bottom: 3px solid orange; background: #3c5c75; margin: 25px 0 -7px 0;\"> \n",
    "Step 1 - Read CSV files </p>"
   ]
  },
  {
   "cell_type": "code",
   "execution_count": 11,
   "metadata": {},
   "outputs": [],
   "source": [
    "###---- Customer Master File to Get Last Quotation Number -------------\n",
    "req_cols = ['cusCode','cusName', 'cusBillTo','cusShipTo', 'comment']\n",
    "df = pd.read_csv(\"Data/F1_Sales/Customer/CustMaster.csv\", usecols=req_cols).fillna(0)"
   ]
  },
  {
   "cell_type": "markdown",
   "metadata": {},
   "source": [
    "<p style=\"font-size:1.5em; color:white; padding:5px; border-bottom: 3px solid orange; background: #3c5c75; margin: 25px 0 -7px 0;\"> \n",
    "Step 2 - Remove Duplicate Entry </p>"
   ]
  },
  {
   "cell_type": "code",
   "execution_count": 12,
   "metadata": {},
   "outputs": [],
   "source": [
    "# remove duplicate rows and keep only the last occurrence subequently if that customer Code added\n",
    "# will show because keep last record will not have 'Delete' in comment column\n",
    "DataA = df.drop_duplicates(subset=['cusCode'], keep='last')\n",
    "DataB = DataA.drop(DataA.loc[DataA['comment']=='Delete'].index)\n",
    "DataB = DataB.drop('comment', axis=1)"
   ]
  },
  {
   "cell_type": "markdown",
   "metadata": {},
   "source": [
    "<p style=\"font-size:1.5em; color:white; padding:5px; border-bottom: 3px solid orange; background: #3c5c75; margin: 25px 0 -7px 0;\"> \n",
    "Step 3 - Convert into Json </p>"
   ]
  },
  {
   "cell_type": "code",
   "execution_count": 13,
   "metadata": {},
   "outputs": [],
   "source": [
    "### Convert Data into Json Dictionary (can be access by JavaScript) .........\n",
    "Data = DataB.to_dict(orient=\"records\")"
   ]
  },
  {
   "cell_type": "markdown",
   "metadata": {},
   "source": [
    "<p style=\"font-family:Calibri; font-size:1.75em; color:white; padding:5px 5px; text-align: left; height:50px; border-bottom: 1px solid orange;\"></p>"
   ]
  },
  {
   "cell_type": "markdown",
   "metadata": {},
   "source": [
    "<p style=\"font-size:2.2em; color:white; padding:25px; border-bottom: 5px solid #ffb701; background:#143157;\"> \n",
    "Show Meeting Details </p>\n",
    "Read data from csv in Pandas"
   ]
  },
  {
   "cell_type": "code",
   "execution_count": 58,
   "metadata": {},
   "outputs": [],
   "source": [
    "import pandas as pd\n",
    "import numpy as np\n",
    "pd.options.display.float_format = '{:,.0f}'.format\n",
    "pd.set_option('display.max_columns', 85) # set Jupeter note book to dispay 85 columns"
   ]
  },
  {
   "cell_type": "markdown",
   "metadata": {},
   "source": [
    "<p style=\"font-size:1.5em; color:white; padding:5px; border-bottom: 3px solid orange; background: #3c5c75; margin: 25px 0 -7px 0;\"> \n",
    "Step 1 - Read CSV files </p>"
   ]
  },
  {
   "cell_type": "code",
   "execution_count": 59,
   "metadata": {},
   "outputs": [
    {
     "data": {
      "text/html": [
       "<div>\n",
       "<style scoped>\n",
       "    .dataframe tbody tr th:only-of-type {\n",
       "        vertical-align: middle;\n",
       "    }\n",
       "\n",
       "    .dataframe tbody tr th {\n",
       "        vertical-align: top;\n",
       "    }\n",
       "\n",
       "    .dataframe thead th {\n",
       "        text-align: right;\n",
       "    }\n",
       "</style>\n",
       "<table border=\"1\" class=\"dataframe\">\n",
       "  <thead>\n",
       "    <tr style=\"text-align: right;\">\n",
       "      <th></th>\n",
       "      <th>id</th>\n",
       "      <th>metRef</th>\n",
       "    </tr>\n",
       "  </thead>\n",
       "  <tbody>\n",
       "    <tr>\n",
       "      <th>0</th>\n",
       "      <td>20230001</td>\n",
       "      <td>20230001</td>\n",
       "    </tr>\n",
       "    <tr>\n",
       "      <th>1</th>\n",
       "      <td>20230002</td>\n",
       "      <td>20230002</td>\n",
       "    </tr>\n",
       "    <tr>\n",
       "      <th>2</th>\n",
       "      <td>20230003</td>\n",
       "      <td>20230003</td>\n",
       "    </tr>\n",
       "    <tr>\n",
       "      <th>3</th>\n",
       "      <td>20230004</td>\n",
       "      <td>20230004</td>\n",
       "    </tr>\n",
       "  </tbody>\n",
       "</table>\n",
       "</div>"
      ],
      "text/plain": [
       "         id    metRef\n",
       "0  20230001  20230001\n",
       "1  20230002  20230002\n",
       "2  20230003  20230003\n",
       "3  20230004  20230004"
      ]
     },
     "execution_count": 59,
     "metadata": {},
     "output_type": "execute_result"
    }
   ],
   "source": [
    "###---- Read Quotation master File ------------------------------------------\n",
    "req_cols = ['metRef','metDat', 'cusName','salPer', 'priNote']\n",
    "df = pd.read_csv('Data/'+Year+'/O1_Crm/Meeting/meetingDetail.csv', usecols=req_cols).fillna(0)\n",
    "df"
   ]
  },
  {
   "cell_type": "code",
   "execution_count": 9,
   "metadata": {},
   "outputs": [],
   "source": [
    "DataA['customer'] = DataA['cusCode']"
   ]
  },
  {
   "cell_type": "code",
   "execution_count": 10,
   "metadata": {},
   "outputs": [],
   "source": [
    "#Convert Customer Data Fram into Python List--------------------------------------\n",
    "dfSalA = dfSal.set_index('cusCode') # set CusCode As Index\n",
    "data_dict = dfSalA['cusName'].to_dict() # Convert the DataFrame to a dictionary\n",
    "DataA.customer = DataA.customer.map(data_dict).fillna(0) ### map to lookup data_dict"
   ]
  },
  {
   "cell_type": "code",
   "execution_count": 11,
   "metadata": {},
   "outputs": [],
   "source": [
    "DataA.loc[DataA[\"customer\"] == 0, [\"customer\"]] = DataA[\"cusCode\"]\n",
    "### same function as above but due to np it is faster\n",
    "#DataA[\"customer\"] = np.where(DataA[\"customer\"] == 0, DataA['cusCode'], DataA[\"customer\"])\n",
    "DataA[\"customer\"] = DataA[\"customer\"].apply(lambda x: str(x) + '-A' if isinstance(x, (int, float)) else x)"
   ]
  },
  {
   "cell_type": "markdown",
   "metadata": {},
   "source": [
    "<p style=\"font-size:1.5em; color:white; padding:5px; border-bottom: 3px solid orange; background: #3c5c75; margin: 25px 0 -7px 0;\"> \n",
    "Step 2 - Remove Duplicate Entry </p>"
   ]
  },
  {
   "cell_type": "code",
   "execution_count": 22,
   "metadata": {},
   "outputs": [],
   "source": [
    "# remove duplicate rows and keep only the last occurrence subequently if that customer Code added\n",
    "# will show because keep last record will not have 'Delete' in comment column\n",
    "DataA = DataA.drop_duplicates(subset=['qotRef'], keep='last')\n",
    "DataB = DataA.drop(DataA.loc[DataA['comment']=='Delete'].index)"
   ]
  },
  {
   "cell_type": "markdown",
   "metadata": {},
   "source": [
    "<p style=\"font-size:1.5em; color:white; padding:5px; border-bottom: 3px solid orange; background: #3c5c75; margin: 25px 0 -7px 0;\"> \n",
    "Step 3 - Convert into Json </p>"
   ]
  },
  {
   "cell_type": "code",
   "execution_count": 8,
   "metadata": {},
   "outputs": [],
   "source": [
    "### Convert Data into Json Dictionary (can be access by JavaScript) .........\n",
    "Data = DataB.to_dict(orient=\"records\")"
   ]
  },
  {
   "cell_type": "markdown",
   "metadata": {},
   "source": [
    "<p style=\"font-family:Calibri; font-size:1.75em; color:white; padding:5px 5px; text-align: left; height:50px; border-bottom: 1px solid orange;\"></p>"
   ]
  },
  {
   "cell_type": "markdown",
   "metadata": {},
   "source": [
    "<p style=\"font-size:2.2em; color:white; padding:25px; border-bottom: 5px solid #ffb701; background:#143157;\"> \n",
    "Last Quotation id Number from Database </p>\n",
    "Read data from csv in Pandas"
   ]
  },
  {
   "cell_type": "markdown",
   "metadata": {},
   "source": [
    "<p style=\"font-family:Calibri; font-size:1.75em; color:#04405e; padding:5px 5px; margin: 10px 0 -7px 20px;\n",
    "border-bottom: 3px solid #e39c19; background: #afe4ff;\">  \n",
    "Step 1a - Create SQL Engine</p>"
   ]
  },
  {
   "cell_type": "code",
   "execution_count": 10,
   "metadata": {},
   "outputs": [],
   "source": [
    "import sqlite3\n",
    "import sqlalchemy\n",
    "\n",
    "# here db.sqlite3 is the name mention in settings.py under Databases; and \n",
    "# path should be absolute where 'db.sqlite3' file exist\n",
    "#------------------------------------------------------------------------\n",
    "engine = sqlalchemy.create_engine('sqlite:///D:/IUH/2. Programming/2. App/1a BaseERP/db.sqlite3')"
   ]
  },
  {
   "cell_type": "markdown",
   "metadata": {},
   "source": [
    "<p style=\"font-family:Calibri; font-size:1.75em; color:#04405e; padding:5px 5px; margin: 10px 0 -7px 20px;\n",
    "border-bottom: 3px solid #e39c19; background: #afe4ff;\">  \n",
    "Step 1b - Read Data from SQL </p>"
   ]
  },
  {
   "cell_type": "code",
   "execution_count": 11,
   "metadata": {},
   "outputs": [
    {
     "data": {
      "text/plain": [
       "20230012"
      ]
     },
     "execution_count": 11,
     "metadata": {},
     "output_type": "execute_result"
    }
   ],
   "source": [
    "Max = '''SELECT MAX(id) FROM \"F1_Sales_qotBasic\"'''\n",
    "df2 = pd.read_sql(Max, con=engine)\n",
    "val = df2.rename(columns={df2.columns[0]: 'new'})\n",
    "val.fillna(0, inplace=True)\n",
    "lastN = val.loc[0, 'new']\n",
    "lastN  = lastN+1\n",
    "lastN"
   ]
  },
  {
   "cell_type": "code",
   "execution_count": 4,
   "metadata": {},
   "outputs": [
    {
     "name": "stdout",
     "output_type": "stream",
     "text": [
      "0\n"
     ]
    }
   ],
   "source": [
    "# check if the variable is NaN and replace it with 1 if it is blank count as 0 need where there is no Record\n",
    "if (lastQuot >= 0):\n",
    "    pass\n",
    "else:\n",
    "    lastQuot = 0\n",
    "print(lastQuot)"
   ]
  },
  {
   "cell_type": "markdown",
   "metadata": {},
   "source": [
    "<p style=\"font-family:Calibri; font-size:1.75em; color:white; padding:5px 5px; text-align: left; height:50px; border-bottom: 1px solid orange;\"></p>"
   ]
  },
  {
   "cell_type": "markdown",
   "metadata": {},
   "source": [
    "<p style=\"font-size:2.2em; color:white; padding:25px; border-bottom: 5px solid #ffb701; background:#143157;\"> \n",
    "Refresh Sales Quotation Details - from Database </p>\n",
    "Read data from csv in Pandas"
   ]
  },
  {
   "cell_type": "code",
   "execution_count": 10,
   "metadata": {},
   "outputs": [],
   "source": [
    "import pandas as pd\n",
    "import numpy as np\n",
    "pd.options.display.float_format = '{:,.0f}'.format\n",
    "pd.set_option('display.max_columns', 85) # set Jupeter note book to dispay 85 columns"
   ]
  },
  {
   "cell_type": "markdown",
   "metadata": {},
   "source": [
    "<p style=\"font-size:1.5em; color:white; padding:5px; border-bottom: 3px solid orange; background: #3c5c75; margin: 25px 0 -7px 0;\"> \n",
    "Step 1 - Create Engine and read data in Pandas </p>"
   ]
  },
  {
   "cell_type": "markdown",
   "metadata": {},
   "source": [
    "<p style=\"font-family:Calibri; font-size:1.75em; color:#04405e; padding:5px 5px; margin: 10px 0 -7px 20px;\n",
    "border-bottom: 3px solid #e39c19; background: #afe4ff;\">  \n",
    "Step 1a - Create SQL Engine</p>"
   ]
  },
  {
   "cell_type": "code",
   "execution_count": 11,
   "metadata": {},
   "outputs": [],
   "source": [
    "import sqlite3\n",
    "import sqlalchemy\n",
    "\n",
    "#------------------------------------------------------------------------\n",
    "engine = sqlalchemy.create_engine('sqlite:///D:/IUH/2. Programming/2. App/1a BaseERP/db.sqlite3')"
   ]
  },
  {
   "cell_type": "markdown",
   "metadata": {},
   "source": [
    "<p style=\"font-size:1.5em; color:white; padding:5px; border-bottom: 3px solid orange; background: #3c5c75; margin: 25px 0 -7px 0;\"> \n",
    "Step 1 - Read CSV files </p>"
   ]
  },
  {
   "cell_type": "code",
   "execution_count": 12,
   "metadata": {},
   "outputs": [],
   "source": [
    "###---- Qutation open/Close File to Get Last Quotation Number -------------\n",
    "DataA = pd.read_sql('''SELECT * FROM \"F1_Sales_qotBasic\" ''', con=engine).fillna(0)"
   ]
  },
  {
   "cell_type": "markdown",
   "metadata": {},
   "source": [
    "<p style=\"font-size:1.5em; color:white; padding:5px; border-bottom: 3px solid orange; background: #3c5c75; margin: 25px 0 -7px 0;\"> \n",
    "Step 2 - Create a \"Quotation\" Folder inside \"Data/F1_Sales\" Folder </p>"
   ]
  },
  {
   "cell_type": "code",
   "execution_count": 13,
   "metadata": {},
   "outputs": [],
   "source": [
    "import os\n",
    "data_folder = \"Data/F1_Sales\"\n",
    "sales_folder = \"Quotation\"\n",
    "\n",
    "if not os.path.exists(os.path.join(data_folder, sales_folder)):\n",
    "    os.makedirs(os.path.join(data_folder, sales_folder))\n",
    "else:\n",
    "    pass"
   ]
  },
  {
   "cell_type": "markdown",
   "metadata": {},
   "source": [
    "<p style=\"font-size:1.5em; color:white; padding:5px; border-bottom: 3px solid orange; background: #3c5c75; margin: 25px 0 -7px 0;\"> \n",
    "Step 3 - Save Customer Master File as CSV File </p>"
   ]
  },
  {
   "cell_type": "code",
   "execution_count": 14,
   "metadata": {},
   "outputs": [],
   "source": [
    "DataA['comment'] = ''\n",
    "DataA.to_csv('Data/F1_Sales/Quotation/salQuot2023.csv',index = False)"
   ]
  },
  {
   "cell_type": "code",
   "execution_count": null,
   "metadata": {},
   "outputs": [],
   "source": []
  },
  {
   "cell_type": "markdown",
   "metadata": {},
   "source": [
    "<p style=\"font-size:2.2em; color:white; padding:25px; border-bottom: 5px solid #ffb701; background:#143157;\"> \n",
    "Sales Order <span style=\"font-size:.75em; color: #11a1f5;\"> - Get Sales Quotation detail </span>  </p>\n",
    "Get Specific Columns of Sales Quotation"
   ]
  },
  {
   "cell_type": "code",
   "execution_count": 1,
   "metadata": {},
   "outputs": [],
   "source": [
    "import pandas as pd\n",
    "import numpy as np\n",
    "pd.options.display.float_format = '{:,.0f}'.format\n",
    "pd.set_option('display.max_columns', 85) # set Jupeter note book to dispay 85 columns"
   ]
  },
  {
   "cell_type": "markdown",
   "metadata": {},
   "source": [
    "<p style=\"font-size:1.5em; color:white; padding:5px; border-bottom: 3px solid orange; background: #3c5c75; margin: 25px 0 -7px 0;\"> \n",
    "Step 1 - Create Engine and read data in Pandas </p>"
   ]
  },
  {
   "cell_type": "code",
   "execution_count": 3,
   "metadata": {},
   "outputs": [],
   "source": [
    "###---- Read Quotation File 'with Specific Column' -----------------\n",
    "req_cols = ['qotRef','qotDat', 'cusCode', 'cusName', 'opnClo']\n",
    "dfSal = pd.read_csv(\"Data/F1_Sales/Quotation/salQuot2023.csv\", usecols=req_cols).fillna(0)"
   ]
  },
  {
   "cell_type": "code",
   "execution_count": 4,
   "metadata": {},
   "outputs": [
    {
     "data": {
      "text/html": [
       "<div>\n",
       "<style scoped>\n",
       "    .dataframe tbody tr th:only-of-type {\n",
       "        vertical-align: middle;\n",
       "    }\n",
       "\n",
       "    .dataframe tbody tr th {\n",
       "        vertical-align: top;\n",
       "    }\n",
       "\n",
       "    .dataframe thead th {\n",
       "        text-align: right;\n",
       "    }\n",
       "</style>\n",
       "<table border=\"1\" class=\"dataframe\">\n",
       "  <thead>\n",
       "    <tr style=\"text-align: right;\">\n",
       "      <th></th>\n",
       "      <th>qotRef</th>\n",
       "      <th>qotDat</th>\n",
       "      <th>cusCode</th>\n",
       "      <th>cusName</th>\n",
       "      <th>opnClo</th>\n",
       "    </tr>\n",
       "  </thead>\n",
       "  <tbody>\n",
       "    <tr>\n",
       "      <th>0</th>\n",
       "      <td>20230001</td>\n",
       "      <td>4/21/2023</td>\n",
       "      <td>22310093</td>\n",
       "      <td>Women's Medical Center (Dr. Ameena)</td>\n",
       "      <td>Closed</td>\n",
       "    </tr>\n",
       "    <tr>\n",
       "      <th>1</th>\n",
       "      <td>20230002</td>\n",
       "      <td>4/21/2023</td>\n",
       "      <td>22310102</td>\n",
       "      <td>Health &amp;amp; Aesthetic Medical Center</td>\n",
       "      <td>Closed</td>\n",
       "    </tr>\n",
       "    <tr>\n",
       "      <th>2</th>\n",
       "      <td>20230003</td>\n",
       "      <td>4/17/2023</td>\n",
       "      <td>22310097</td>\n",
       "      <td>Sahar Pharmacy</td>\n",
       "      <td>Open</td>\n",
       "    </tr>\n",
       "    <tr>\n",
       "      <th>3</th>\n",
       "      <td>20230004</td>\n",
       "      <td>1/16/2023</td>\n",
       "      <td>22310626</td>\n",
       "      <td>Slim Spa - Dubai</td>\n",
       "      <td>Open</td>\n",
       "    </tr>\n",
       "    <tr>\n",
       "      <th>4</th>\n",
       "      <td>20230005</td>\n",
       "      <td>1/16/2023</td>\n",
       "      <td>22310626</td>\n",
       "      <td>Slim Spa - Dubai</td>\n",
       "      <td>Closed</td>\n",
       "    </tr>\n",
       "    <tr>\n",
       "      <th>5</th>\n",
       "      <td>20230006</td>\n",
       "      <td>2/23/2023</td>\n",
       "      <td>22310773</td>\n",
       "      <td>BETTER MEDICAL SOLUTIONS LLC (COSMECLIC).</td>\n",
       "      <td>Closed</td>\n",
       "    </tr>\n",
       "    <tr>\n",
       "      <th>6</th>\n",
       "      <td>20230008</td>\n",
       "      <td>4/21/2023</td>\n",
       "      <td>22310135</td>\n",
       "      <td>Bait Al Maqdes Pharmacy LLC</td>\n",
       "      <td>Closed</td>\n",
       "    </tr>\n",
       "    <tr>\n",
       "      <th>7</th>\n",
       "      <td>20230009</td>\n",
       "      <td>4/21/2023</td>\n",
       "      <td>22310021</td>\n",
       "      <td>Mohammed Hamoud Alshaya(LLC) -Dubai Br</td>\n",
       "      <td>Open</td>\n",
       "    </tr>\n",
       "    <tr>\n",
       "      <th>8</th>\n",
       "      <td>20230011</td>\n",
       "      <td>4/21/2023</td>\n",
       "      <td>22310270</td>\n",
       "      <td>Gulf Diagnostic Centre Hospital- WLL</td>\n",
       "      <td>Open</td>\n",
       "    </tr>\n",
       "    <tr>\n",
       "      <th>9</th>\n",
       "      <td>20230012</td>\n",
       "      <td>4/21/2023</td>\n",
       "      <td>2310101</td>\n",
       "      <td>Cash Customer</td>\n",
       "      <td>Closed</td>\n",
       "    </tr>\n",
       "    <tr>\n",
       "      <th>10</th>\n",
       "      <td>20230013</td>\n",
       "      <td>4/22/2023</td>\n",
       "      <td>2310101</td>\n",
       "      <td>Cash Customer</td>\n",
       "      <td>Open</td>\n",
       "    </tr>\n",
       "    <tr>\n",
       "      <th>11</th>\n",
       "      <td>20230014</td>\n",
       "      <td>4/23/2023</td>\n",
       "      <td>22310037</td>\n",
       "      <td>Qmedic (close account)</td>\n",
       "      <td>Open</td>\n",
       "    </tr>\n",
       "    <tr>\n",
       "      <th>12</th>\n",
       "      <td>20230015</td>\n",
       "      <td>4/23/2023</td>\n",
       "      <td>22310093</td>\n",
       "      <td>Women's Medical Center (Dr. Ameena)</td>\n",
       "      <td>Open</td>\n",
       "    </tr>\n",
       "    <tr>\n",
       "      <th>13</th>\n",
       "      <td>20230017</td>\n",
       "      <td>4/23/2023</td>\n",
       "      <td>22310094</td>\n",
       "      <td>Al Nakheel Pharmacy RAK</td>\n",
       "      <td>Open</td>\n",
       "    </tr>\n",
       "    <tr>\n",
       "      <th>14</th>\n",
       "      <td>20230018</td>\n",
       "      <td>4/23/2023</td>\n",
       "      <td>22310095</td>\n",
       "      <td>Al Mazroui Medical Center</td>\n",
       "      <td>Open</td>\n",
       "    </tr>\n",
       "    <tr>\n",
       "      <th>15</th>\n",
       "      <td>20230008</td>\n",
       "      <td>4/21/2023</td>\n",
       "      <td>22310135</td>\n",
       "      <td>Bait Al Maqdes Pharmacy LLC</td>\n",
       "      <td>Open</td>\n",
       "    </tr>\n",
       "  </tbody>\n",
       "</table>\n",
       "</div>"
      ],
      "text/plain": [
       "      qotRef     qotDat   cusCode                                    cusName  \\\n",
       "0   20230001  4/21/2023  22310093        Women's Medical Center (Dr. Ameena)   \n",
       "1   20230002  4/21/2023  22310102      Health &amp; Aesthetic Medical Center   \n",
       "2   20230003  4/17/2023  22310097                             Sahar Pharmacy   \n",
       "3   20230004  1/16/2023  22310626                           Slim Spa - Dubai   \n",
       "4   20230005  1/16/2023  22310626                           Slim Spa - Dubai   \n",
       "5   20230006  2/23/2023  22310773  BETTER MEDICAL SOLUTIONS LLC (COSMECLIC).   \n",
       "6   20230008  4/21/2023  22310135                Bait Al Maqdes Pharmacy LLC   \n",
       "7   20230009  4/21/2023  22310021     Mohammed Hamoud Alshaya(LLC) -Dubai Br   \n",
       "8   20230011  4/21/2023  22310270       Gulf Diagnostic Centre Hospital- WLL   \n",
       "9   20230012  4/21/2023   2310101                              Cash Customer   \n",
       "10  20230013  4/22/2023   2310101                              Cash Customer   \n",
       "11  20230014  4/23/2023  22310037                     Qmedic (close account)   \n",
       "12  20230015  4/23/2023  22310093        Women's Medical Center (Dr. Ameena)   \n",
       "13  20230017  4/23/2023  22310094                    Al Nakheel Pharmacy RAK   \n",
       "14  20230018  4/23/2023  22310095                 Al Mazroui Medical Center    \n",
       "15  20230008  4/21/2023  22310135                Bait Al Maqdes Pharmacy LLC   \n",
       "\n",
       "    opnClo  \n",
       "0   Closed  \n",
       "1   Closed  \n",
       "2     Open  \n",
       "3     Open  \n",
       "4   Closed  \n",
       "5   Closed  \n",
       "6   Closed  \n",
       "7     Open  \n",
       "8     Open  \n",
       "9   Closed  \n",
       "10    Open  \n",
       "11    Open  \n",
       "12    Open  \n",
       "13    Open  \n",
       "14    Open  \n",
       "15    Open  "
      ]
     },
     "execution_count": 4,
     "metadata": {},
     "output_type": "execute_result"
    }
   ],
   "source": [
    "dfSal"
   ]
  },
  {
   "cell_type": "code",
   "execution_count": null,
   "metadata": {},
   "outputs": [],
   "source": []
  }
 ],
 "metadata": {
  "celltoolbar": "Raw Cell Format",
  "kernelspec": {
   "display_name": "Python 3 (ipykernel)",
   "language": "python",
   "name": "python3"
  },
  "language_info": {
   "codemirror_mode": {
    "name": "ipython",
    "version": 3
   },
   "file_extension": ".py",
   "mimetype": "text/x-python",
   "name": "python",
   "nbconvert_exporter": "python",
   "pygments_lexer": "ipython3",
   "version": "3.9.12"
  }
 },
 "nbformat": 4,
 "nbformat_minor": 2
}
