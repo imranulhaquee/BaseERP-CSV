{
 "cells": [
  {
   "cell_type": "markdown",
   "metadata": {},
   "source": [
    "<p style=\"font-family:Calibri; font-size:1.75em; color:white; padding:5px 5px; text-align: left; height:50px; border-bottom: 1px solid orange; background:#f5eab8\"></p>"
   ]
  },
  {
   "cell_type": "markdown",
   "metadata": {},
   "source": [
    "<p style=\"font-size:2.2em; color:white; padding:25px; border-bottom: 5px solid #ffb701; background:#143157;\"> \n",
    "    Sales Target by Employee - <span style=\"font-size:.75em; color: #11a1f5;\"> from excel file </span></p>\n",
    "Read data from csv in Pandas"
   ]
  },
  {
   "cell_type": "code",
   "execution_count": 1,
   "metadata": {},
   "outputs": [],
   "source": [
    "import pandas as pd\n",
    "import numpy as np\n",
    "pd.options.display.float_format = '{:,.0f}'.format\n",
    "pd.set_option('display.max_columns', 85) # set Jupeter note book to dispay 85 columns"
   ]
  },
  {
   "cell_type": "markdown",
   "metadata": {},
   "source": [
    "<p style=\"padding:5px; border-bottom:3px solid orange; background:#3c5c75; margin:25px 0 -7px 0;\"> \n",
    "   <span style=\"font-size:1.5em; color:#f7ca25;\" >Step 1 -</span>\n",
    "   <span style=\"font-size:1.5em; color:white;\">Read CSV files  - </span> \n",
    "   <span style=\"font-size:1.2em; color:#17cffc;\">\"Employee Target\"</span>\n",
    "</p> "
   ]
  },
  {
   "cell_type": "code",
   "execution_count": 2,
   "metadata": {},
   "outputs": [],
   "source": [
    "df = pd.read_csv(\"Data/2023/I1_Hrm/Employees/empTarget.csv\", index_col=False ,encoding='unicode_escape').fillna(0)"
   ]
  },
  {
   "cell_type": "markdown",
   "metadata": {},
   "source": [
    "<p style=\"font-family:Calibri; font-size:1.2em; color:#061233; padding:5px 5px; margin: 10px 0 -7px 20px;\n",
    "border-bottom: 3px solid #0d1e4f; background: #e3e9fa\">  \n",
    "Step 1a - Remove Duplicate Line and Deleted Record</p>"
   ]
  },
  {
   "cell_type": "code",
   "execution_count": 3,
   "metadata": {},
   "outputs": [],
   "source": [
    "DataA = df.drop_duplicates(subset=['empCode'], keep='last')\n",
    "DataB = DataA.drop(DataA.loc[DataA['comment']=='Delete'].index)"
   ]
  },
  {
   "cell_type": "markdown",
   "metadata": {},
   "source": [
    "<p style=\"font-family:Calibri; font-size:1.2em; color:#061233; padding:5px 5px; margin: 10px 0 -7px 20px;\n",
    "border-bottom: 3px solid #0d1e4f; background: #e3e9fa\">  \n",
    "Step 1b - Combine Employee Code and Transaction Time</p>"
   ]
  },
  {
   "cell_type": "code",
   "execution_count": 4,
   "metadata": {},
   "outputs": [],
   "source": [
    "DataB['combined'] = DataB['empCode'].astype(str)+\" \"+DataB['comment']"
   ]
  },
  {
   "cell_type": "markdown",
   "metadata": {},
   "source": [
    "<p style=\"font-family:Calibri; font-size:1.2em; color:#061233; padding:5px 5px; margin: 10px 0 -7px 20px;\n",
    "border-bottom: 3px solid #0d1e4f; background: #e3e9fa\">  \n",
    "Step 1c- Select the Combine Column and convert it into a \"LIST\"</p>"
   ]
  },
  {
   "cell_type": "code",
   "execution_count": 5,
   "metadata": {},
   "outputs": [],
   "source": [
    "List = DataB[\"combined\"] #.tolist()"
   ]
  },
  {
   "cell_type": "markdown",
   "metadata": {},
   "source": [
    "<p style=\"padding:5px; border-bottom:3px solid orange; background:#3c5c75; margin:25px 0 -7px 0;\"> \n",
    "   <span style=\"font-size:1.5em; color:#f7ca25;\" >Step 2 -</span>\n",
    "   <span style=\"font-size:1.5em; color:white;\">Read CSV files  - </span> \n",
    "   <span style=\"font-size:1.2em; color:#17cffc;\">\" Employee Target Detail\"</span>\n",
    "</p> "
   ]
  },
  {
   "cell_type": "code",
   "execution_count": 6,
   "metadata": {},
   "outputs": [],
   "source": [
    "df2 = pd.read_csv(\"Data/2023/I1_Hrm/Employees/empTargetDetail.csv\", index_col=False ,encoding='unicode_escape').fillna(0)\n",
    "### Combine Employee Code and Transaction Time.................\n",
    "df2['combined'] = df2['empCode'].astype(str)+\" \"+df2['traDate']"
   ]
  },
  {
   "cell_type": "markdown",
   "metadata": {},
   "source": [
    "<p style=\"font-family:Calibri; font-size:1.2em; color:#061233; padding:5px 5px; margin: 10px 0 -7px 20px;\n",
    "border-bottom: 3px solid #0d1e4f; background: #e3e9fa\">  \n",
    "Step 3a- Filtere the 'Employee Target Detail' by Employee \"Target List\"</p>"
   ]
  },
  {
   "cell_type": "code",
   "execution_count": 7,
   "metadata": {},
   "outputs": [],
   "source": [
    "filtered_df = df2[df2['combined'].isin(List)]"
   ]
  },
  {
   "cell_type": "code",
   "execution_count": 8,
   "metadata": {},
   "outputs": [],
   "source": [
    "### Convert 'salesTarget' astype to \"FLOAT\" to avoid error if any numaric value contain float type.\n",
    "filtered_df = filtered_df.astype({'salesTarget':'float'})"
   ]
  },
  {
   "cell_type": "markdown",
   "metadata": {},
   "source": [
    "<p style=\"padding:5px; border-bottom:3px solid orange; background:#3c5c75; margin:25px 0 -7px 0;\"> \n",
    "   <span style=\"font-size:1.5em; color:#f7ca25;\" >Step 3 -</span>\n",
    "   <span style=\"font-size:1.5em; color:white;\">Create Pivot Table - </span> \n",
    "   <span style=\"font-size:1.2em; color:#17cffc;\"> by Employee </span>\n",
    "</p> "
   ]
  },
  {
   "cell_type": "code",
   "execution_count": 9,
   "metadata": {},
   "outputs": [],
   "source": [
    "### PIVOT BY EMPLOYEE------------------------------------\n",
    "empPT = pd.pivot_table(filtered_df,index=[\"empName\",\"itemDesc\"],values=[\"salesTarget\",\"qty\"],aggfunc=np.sum)\n",
    "empPT = empPT.reset_index()\n",
    "empGBy = empPT.groupby(['empName']).agg({'salesTarget': 'sum', 'qty': 'sum'}) \n",
    "empGBy.loc['z. Grand Total'] = empGBy.sum()\n",
    "empGBy.reset_index(inplace=True)\n",
    "#empPT.rename(columns = {'salesTarget':'sum'}, inplace = True)\n",
    "empConcat = pd.concat([empPT, empGBy])\n",
    "empSort = empConcat.sort_values(['empName', 'itemDesc'], ascending = [True, True], na_position ='last')\n",
    "empSort['itemDesc'] = empSort['itemDesc'].fillna('Total')"
   ]
  },
  {
   "cell_type": "markdown",
   "metadata": {},
   "source": [
    "<p style=\"font-family:Calibri; font-size:1.2em; color:#061233; padding:5px 5px; margin: 10px 0 -7px 20px;\n",
    "border-bottom: 3px solid #0d1e4f; background: #e3e9fa\">  \n",
    "Step 3a- Employee Traget Percentager by Item</p>"
   ]
  },
  {
   "cell_type": "code",
   "execution_count": 10,
   "metadata": {},
   "outputs": [],
   "source": [
    "### Convert into Dictionary--------------------\n",
    "empGBy = empGBy[['empName','salesTarget']]\n",
    "t1List = empGBy.values.tolist() ##Convert into List\n",
    "mapDic1 = {code: name for code, name in t1List}\n",
    "empSort['Total'] = empSort['empName'].map(mapDic1)\n",
    "empSort['Percentage'] = (empSort['salesTarget'] / empSort['Total'])*100"
   ]
  },
  {
   "cell_type": "code",
   "execution_count": 11,
   "metadata": {},
   "outputs": [],
   "source": [
    "### to Hide and Show----------------------------\n",
    "empSort['Department'] = empSort['empName']\n",
    "empSort['Vertical'] = empSort['empName']\n",
    "empSort.loc[empSort[\"itemDesc\"] != \"Total\", [\"Vertical\"]] = 'hideRow001' #  rlSort[\"status\"]"
   ]
  },
  {
   "cell_type": "code",
   "execution_count": 12,
   "metadata": {},
   "outputs": [],
   "source": [
    "empData=[]\n",
    "for i in range(empSort.shape[0]):\n",
    "        temp=empSort.iloc[i]\n",
    "        empData.append(dict(temp))"
   ]
  },
  {
   "cell_type": "markdown",
   "metadata": {},
   "source": [
    "<p style=\"font-family:Calibri; font-size:1.75em; color:white; padding:5px 5px; text-align: left; height:50px; border-bottom: 1px solid orange; background:#f5eab8\"></p>"
   ]
  },
  {
   "cell_type": "markdown",
   "metadata": {},
   "source": [
    "<p style=\"font-size:2.2em; color:white; padding:25px; border-bottom: 5px solid #ffb701; background:#143157;\"> \n",
    "    Sales Target by Supplier - <span style=\"font-size:.75em; color: #11a1f5;\"> from excel file </span></p>\n",
    "Read data from csv in Pandas"
   ]
  },
  {
   "cell_type": "code",
   "execution_count": 14,
   "metadata": {},
   "outputs": [],
   "source": [
    "import pandas as pd\n",
    "import numpy as np\n",
    "pd.options.display.float_format = '{:,.0f}'.format\n",
    "pd.set_option('display.max_columns', 85) # set Jupeter note book to dispay 85 columns"
   ]
  },
  {
   "cell_type": "markdown",
   "metadata": {},
   "source": [
    "<p style=\"padding:5px; border-bottom:3px solid orange; background:#3c5c75; margin:25px 0 -7px 0;\"> \n",
    "   <span style=\"font-size:1.5em; color:#f7ca25;\" >Step 1 -</span>\n",
    "   <span style=\"font-size:1.5em; color:white;\">Read CSV files  - </span> \n",
    "   <span style=\"font-size:1.2em; color:#17cffc;\">\"Employee Target\"</span>\n",
    "</p> "
   ]
  },
  {
   "cell_type": "code",
   "execution_count": 15,
   "metadata": {},
   "outputs": [],
   "source": [
    "df = pd.read_csv(\"Data/2023/I1_Hrm/Employees/empTarget.csv\", index_col=False ,encoding='unicode_escape').fillna(0)"
   ]
  },
  {
   "cell_type": "markdown",
   "metadata": {},
   "source": [
    "<p style=\"font-family:Calibri; font-size:1.2em; color:#061233; padding:5px 5px; margin: 10px 0 -7px 20px;\n",
    "border-bottom: 3px solid #0d1e4f; background: #e3e9fa\">  \n",
    "Step 1a - Remove Duplicate Line and Deleted Record</p>"
   ]
  },
  {
   "cell_type": "code",
   "execution_count": 16,
   "metadata": {},
   "outputs": [],
   "source": [
    "DataA = df.drop_duplicates(subset=['empCode'], keep='last')\n",
    "DataB = DataA.drop(DataA.loc[DataA['comment']=='Delete'].index)"
   ]
  },
  {
   "cell_type": "markdown",
   "metadata": {},
   "source": [
    "<p style=\"font-family:Calibri; font-size:1.2em; color:#061233; padding:5px 5px; margin: 10px 0 -7px 20px;\n",
    "border-bottom: 3px solid #0d1e4f; background: #e3e9fa\">  \n",
    "Step 1b - Combine Employee Code and Transaction Time</p>"
   ]
  },
  {
   "cell_type": "code",
   "execution_count": 17,
   "metadata": {},
   "outputs": [],
   "source": [
    "DataB['combined'] = DataB['empCode'].astype(str)+\" \"+DataB['comment']"
   ]
  },
  {
   "cell_type": "markdown",
   "metadata": {},
   "source": [
    "<p style=\"font-family:Calibri; font-size:1.2em; color:#061233; padding:5px 5px; margin: 10px 0 -7px 20px;\n",
    "border-bottom: 3px solid #0d1e4f; background: #e3e9fa\">  \n",
    "Step 1c- Select the Combine Column and convert it into a \"LIST\"</p>"
   ]
  },
  {
   "cell_type": "code",
   "execution_count": 18,
   "metadata": {},
   "outputs": [],
   "source": [
    "List = DataB[\"combined\"] #.tolist()"
   ]
  },
  {
   "cell_type": "markdown",
   "metadata": {},
   "source": [
    "<p style=\"padding:5px; border-bottom:3px solid orange; background:#3c5c75; margin:25px 0 -7px 0;\"> \n",
    "   <span style=\"font-size:1.5em; color:#f7ca25;\" >Step 2 -</span>\n",
    "   <span style=\"font-size:1.5em; color:white;\">Read CSV files  - </span> \n",
    "   <span style=\"font-size:1.2em; color:#17cffc;\">\" Employee Target Detail\"</span>\n",
    "</p> "
   ]
  },
  {
   "cell_type": "code",
   "execution_count": 19,
   "metadata": {},
   "outputs": [],
   "source": [
    "df2 = pd.read_csv(\"Data/2023/I1_Hrm/Employees/empTargetDetail.csv\", index_col=False ,encoding='unicode_escape').fillna(0)\n",
    "### Combine Employee Code and Transaction Time.................\n",
    "df2['combined'] = df2['empCode'].astype(str)+\" \"+df2['traDate']"
   ]
  },
  {
   "cell_type": "markdown",
   "metadata": {},
   "source": [
    "<p style=\"font-family:Calibri; font-size:1.2em; color:#061233; padding:5px 5px; margin: 10px 0 -7px 20px;\n",
    "border-bottom: 3px solid #0d1e4f; background: #e3e9fa\">  \n",
    "Step 3a- Filtere the 'Employee Target Detail' by Employee \"Target List\"</p>"
   ]
  },
  {
   "cell_type": "code",
   "execution_count": 20,
   "metadata": {},
   "outputs": [],
   "source": [
    "filtered_df = df2[df2['combined'].isin(List)]"
   ]
  },
  {
   "cell_type": "code",
   "execution_count": 21,
   "metadata": {},
   "outputs": [],
   "source": [
    "### Convert 'salesTarget' astype to \"FLOAT\" to avoid error if any numaric value contain float type.\n",
    "filtered_df = filtered_df.astype({'salesTarget':'float'})"
   ]
  },
  {
   "cell_type": "markdown",
   "metadata": {},
   "source": [
    "<p style=\"padding:5px; border-bottom:3px solid orange; background:#3c5c75; margin:25px 0 -7px 0;\"> \n",
    "   <span style=\"font-size:1.5em; color:#f7ca25;\" >Step 4 -</span>\n",
    "   <span style=\"font-size:1.5em; color:white;\">Create Pivot Table - </span> \n",
    "   <span style=\"font-size:1.2em; color:#17cffc;\"> by Supplier </span>\n",
    "</p> "
   ]
  },
  {
   "cell_type": "markdown",
   "metadata": {},
   "source": [
    "<p style=\"font-family:Calibri; font-size:1.2em; color:#061233; padding:5px 5px; margin: 10px 0 -7px 20px;\n",
    "border-bottom: 3px solid #0d1e4f; background: #e3e9fa\">  \n",
    "Step 4a- Read Item Master Data CSV file Selected Column and convert into List</p>"
   ]
  },
  {
   "cell_type": "code",
   "execution_count": 22,
   "metadata": {},
   "outputs": [],
   "source": [
    "req_cols = ['itmCode','supplier']\n",
    "Supp = pd.read_csv(\"Data/H1_Items/Item/ItemMaster.csv\", usecols=req_cols, encoding='unicode_escape').fillna(0)\n",
    "supList = Supp.values.tolist() ##Convert into List"
   ]
  },
  {
   "cell_type": "markdown",
   "metadata": {},
   "source": [
    "<p style=\"font-family:Calibri; font-size:1.2em; color:#061233; padding:5px 5px; margin: 10px 0 -7px 20px;\n",
    "border-bottom: 3px solid #0d1e4f; background: #e3e9fa\">  \n",
    "Step 4b- Map List with Item Code and get Supplier Name</p>"
   ]
  },
  {
   "cell_type": "code",
   "execution_count": 23,
   "metadata": {},
   "outputs": [],
   "source": [
    "supDict = {code: name for code, name in supList}\n",
    "filtered_df['supplier'] = filtered_df['itemCode'].map(supDict)"
   ]
  },
  {
   "cell_type": "markdown",
   "metadata": {},
   "source": [
    "<p style=\"font-family:Calibri; font-size:1.2em; color:#061233; padding:5px 5px; margin: 10px 0 -7px 20px;\n",
    "border-bottom: 3px solid #0d1e4f; background: #e3e9fa\">  \n",
    "Step 4b- Create Pivot Table by Supplier</p>"
   ]
  },
  {
   "cell_type": "code",
   "execution_count": 24,
   "metadata": {},
   "outputs": [],
   "source": [
    "### PIVOT BY Supplier------------------------------------\n",
    "suppPT = pd.pivot_table(filtered_df,index=[\"supplier\",\"itemDesc\"],values=[\"salesTarget\",\"qty\"],aggfunc=np.sum)\n",
    "suppPT= suppPT.reset_index()\n",
    "suppGBy = suppPT.groupby(['supplier']).agg({'salesTarget': 'sum', 'qty': 'sum'}) \n",
    "suppGBy.loc['z. Grand Total'] = suppGBy.sum()\n",
    "suppGBy.reset_index(inplace=True)\n",
    "suppConcat = pd.concat([suppPT, suppGBy])\n",
    "suppSort = suppConcat.sort_values(['supplier', 'itemDesc'], ascending = [True, True], na_position ='last')\n",
    "suppSort['itemDesc'] = suppSort['itemDesc'].fillna('Total')"
   ]
  },
  {
   "cell_type": "markdown",
   "metadata": {},
   "source": [
    "<p style=\"font-family:Calibri; font-size:1.2em; color:#061233; padding:5px 5px; margin: 10px 0 -7px 20px;\n",
    "border-bottom: 3px solid #0d1e4f; background: #e3e9fa\">  \n",
    "Step 4c- Supplier Traget Percentager by ItemTotal</p>"
   ]
  },
  {
   "cell_type": "code",
   "execution_count": 25,
   "metadata": {},
   "outputs": [],
   "source": [
    "### Convert into Dictionary--------------------\n",
    "suppGBy = suppGBy[['supplier','salesTarget']]\n",
    "t2List = suppGBy.values.tolist() ##Convert into List\n",
    "mapDic2 = {code: name for code, name in t2List}\n",
    "suppSort['Total'] = suppSort['supplier'].map(mapDic2)\n",
    "suppSort['Percentage'] = (suppSort['salesTarget'] / suppSort['Total'])*100"
   ]
  },
  {
   "cell_type": "code",
   "execution_count": 26,
   "metadata": {},
   "outputs": [],
   "source": [
    "### to Hide and Show----------------------------\n",
    "suppSort['Department'] = suppSort['supplier']\n",
    "suppSort['Vertical'] = suppSort['supplier']\n",
    "suppSort.loc[suppSort[\"itemDesc\"] != \"Total\", [\"Vertical\"]] = '---' #  rlSort[\"status\"]"
   ]
  },
  {
   "cell_type": "code",
   "execution_count": 27,
   "metadata": {},
   "outputs": [],
   "source": [
    "supData=[]\n",
    "for i in range(suppSort.shape[0]):\n",
    "        temp=suppSort.iloc[i]\n",
    "        supData.append(dict(temp))"
   ]
  },
  {
   "cell_type": "code",
   "execution_count": null,
   "metadata": {},
   "outputs": [],
   "source": []
  },
  {
   "cell_type": "code",
   "execution_count": null,
   "metadata": {},
   "outputs": [],
   "source": []
  }
 ],
 "metadata": {
  "celltoolbar": "Raw Cell Format",
  "kernelspec": {
   "display_name": "Python 3 (ipykernel)",
   "language": "python",
   "name": "python3"
  },
  "language_info": {
   "codemirror_mode": {
    "name": "ipython",
    "version": 3
   },
   "file_extension": ".py",
   "mimetype": "text/x-python",
   "name": "python",
   "nbconvert_exporter": "python",
   "pygments_lexer": "ipython3",
   "version": "3.9.12"
  }
 },
 "nbformat": 4,
 "nbformat_minor": 2
}
