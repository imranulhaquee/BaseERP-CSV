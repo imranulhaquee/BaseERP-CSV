{
 "cells": [
  {
   "cell_type": "markdown",
   "metadata": {},
   "source": [
    "<p style=\"font-family:Calibri; font-size:1.75em; color:white; padding:5px 5px; text-align: left; height:50px; border-bottom: 1px solid orange;\"></p>"
   ]
  },
  {
   "cell_type": "markdown",
   "metadata": {},
   "source": [
    "<p style=\"font-size:2.2em; color:white; padding:25px; border-bottom: 5px solid #ffb701; background:#143157;\"> \n",
    "Process 1 - Sales Summary from Sales Detail Data </p>"
   ]
  },
  {
   "cell_type": "markdown",
   "metadata": {},
   "source": [
    "<p style=\" margin:0px; padding:0px;\">\n",
    "    - Objective is to Create Summarized Data from Initial Detail Sales Report.<br>\n",
    "    - Budgeted Sales Summary is in Complete Budget Summary File where all the PnL Item is there.<br>\n",
    "    - Terminology Used in this file     <br>\n",
    "    'CYear'  =   Current Year Sales \n",
    "    - Django Dashboard Views name ( f1_Sal_Convrsion.py )   <br>\n",
    "</p>"
   ]
  },
  {
   "cell_type": "markdown",
   "metadata": {},
   "source": [
    "<p style=\"font-size:1.3em; color:darkblue; padding:5px; border-bottom: 3px solid dardkblue; background-color:#a0e6eb\">\n",
    " Import Pandas and Numpy Library</p>"
   ]
  },
  {
   "cell_type": "code",
   "execution_count": 6,
   "metadata": {},
   "outputs": [],
   "source": [
    "import pandas as pd\n",
    "import numpy as np\n",
    "pd.options.display.float_format = '{:,.2f}'.format\n",
    "pd.set_option('display.max_columns', 85) # set Jupeter note book to dispay 85 columns"
   ]
  },
  {
   "cell_type": "markdown",
   "metadata": {},
   "source": [
    "<p style=\"font-size:1.5em; color:white; padding:5px 5px; border-bottom:3px solid #ffb701; background:#375d7a\"> \n",
    " Step 1 -  Loading of Excel Data in Pandas Based on Region and Type</p>"
   ]
  },
  {
   "cell_type": "markdown",
   "metadata": {},
   "source": [
    "<p style=\"font-size:1.3em; color:darkblue; padding:5px; border-bottom: 3px solid dardkblue; background-color:#a0e6eb\">\n",
    "Define Values for Repor</p>"
   ]
  },
  {
   "cell_type": "code",
   "execution_count": 7,
   "metadata": {},
   "outputs": [],
   "source": [
    "Option = \"Yes\"\n",
    "cYear = \"2022\"\n",
    "selRegion = \"GCC\""
   ]
  },
  {
   "cell_type": "markdown",
   "metadata": {},
   "source": [
    "<p style=\"font-size:1.3em; color:darkblue; padding:3px; border-bottom: 3px solid dardkblue; background-color:#f6f7b5\">\n",
    "1a. Select Sepecific Column from Excel Sheet</p>"
   ]
  },
  {
   "cell_type": "code",
   "execution_count": 8,
   "metadata": {},
   "outputs": [],
   "source": [
    "req_cols = ['Bill To Country','Business Unit','Month','Sum of COGS','Sum of Total After Discount', 'Type']"
   ]
  },
  {
   "cell_type": "markdown",
   "metadata": {},
   "source": [
    "<p style=\"font-family:Calibri ; font-size:1.5em; color:darkblue; padding:3px; border-bottom: 3px solid dardkblue;\n",
    " background-color:#fbfcb3\">\n",
    "1b. Read CSV files based on Selected Region and Year </p> \n",
    "<span style= \"font-size:12px; color:darkblue;\"> cData(Current Year Data) </span>"
   ]
  },
  {
   "cell_type": "code",
   "execution_count": 9,
   "metadata": {},
   "outputs": [
    {
     "ename": "UnicodeDecodeError",
     "evalue": "'utf-8' codec can't decode byte 0xa0 in position 3313: invalid start byte",
     "output_type": "error",
     "traceback": [
      "\u001b[1;31m---------------------------------------------------------------------------\u001b[0m",
      "\u001b[1;31mUnicodeDecodeError\u001b[0m                        Traceback (most recent call last)",
      "Input \u001b[1;32mIn [9]\u001b[0m, in \u001b[0;36m<cell line: 4>\u001b[1;34m()\u001b[0m\n\u001b[0;32m      1\u001b[0m \u001b[38;5;66;03m#selRegion = request.POST.get('num4', 'GCC')\u001b[39;00m\n\u001b[0;32m      2\u001b[0m \u001b[38;5;66;03m#selRegion = \"GCC\"\u001b[39;00m\n\u001b[0;32m      4\u001b[0m \u001b[38;5;28;01mif\u001b[39;00m( selRegion \u001b[38;5;241m==\u001b[39m \u001b[38;5;124m\"\u001b[39m\u001b[38;5;124mGCC\u001b[39m\u001b[38;5;124m\"\u001b[39m):\n\u001b[1;32m----> 5\u001b[0m     cData \u001b[38;5;241m=\u001b[39m \u001b[43mpd\u001b[49m\u001b[38;5;241;43m.\u001b[39;49m\u001b[43mread_csv\u001b[49m\u001b[43m(\u001b[49m\u001b[38;5;124;43m\"\u001b[39;49m\u001b[38;5;124;43mDataBase/3_Sales/\u001b[39;49m\u001b[38;5;124;43m\"\u001b[39;49m\u001b[38;5;241;43m+\u001b[39;49m\u001b[43mcYear\u001b[49m\u001b[38;5;241;43m+\u001b[39;49m\u001b[38;5;124;43m\"\u001b[39;49m\u001b[38;5;124;43m/\u001b[39;49m\u001b[38;5;124;43m\"\u001b[39;49m\u001b[38;5;241;43m+\u001b[39;49m\u001b[43mcYear\u001b[49m\u001b[38;5;241;43m+\u001b[39;49m\u001b[38;5;124;43m\"\u001b[39;49m\u001b[38;5;124;43m \u001b[39;49m\u001b[38;5;124;43m\"\u001b[39;49m\u001b[38;5;241;43m+\u001b[39;49m\u001b[43mselRegion\u001b[49m\u001b[38;5;241;43m+\u001b[39;49m\u001b[38;5;124;43m\"\u001b[39;49m\u001b[38;5;124;43m \u001b[39;49m\u001b[38;5;124;43m\"\u001b[39;49m\u001b[38;5;241;43m+\u001b[39;49m\u001b[38;5;124;43m\"\u001b[39;49m\u001b[38;5;124;43mSales.csv\u001b[39;49m\u001b[38;5;124;43m\"\u001b[39;49m\u001b[43m \u001b[49m\u001b[43m,\u001b[49m\u001b[43musecols\u001b[49m\u001b[38;5;241;43m=\u001b[39;49m\u001b[43mreq_cols\u001b[49m\u001b[43m)\u001b[49m\n\u001b[0;32m      6\u001b[0m \u001b[38;5;28;01melif\u001b[39;00m( selRegion \u001b[38;5;241m==\u001b[39m \u001b[38;5;124m\"\u001b[39m\u001b[38;5;124mLevant\u001b[39m\u001b[38;5;124m\"\u001b[39m):\n\u001b[0;32m      7\u001b[0m     cData \u001b[38;5;241m=\u001b[39m pd\u001b[38;5;241m.\u001b[39mread_csv(\u001b[38;5;124m\"\u001b[39m\u001b[38;5;124mDataBase/3_Sales/\u001b[39m\u001b[38;5;124m\"\u001b[39m\u001b[38;5;241m+\u001b[39mcYear\u001b[38;5;241m+\u001b[39m\u001b[38;5;124m\"\u001b[39m\u001b[38;5;124m \u001b[39m\u001b[38;5;124m\"\u001b[39m\u001b[38;5;241m+\u001b[39mselRegion\u001b[38;5;241m+\u001b[39m\u001b[38;5;124m\"\u001b[39m\u001b[38;5;124m \u001b[39m\u001b[38;5;124m\"\u001b[39m\u001b[38;5;241m+\u001b[39m\u001b[38;5;124m\"\u001b[39m\u001b[38;5;124mSales.csv\u001b[39m\u001b[38;5;124m\"\u001b[39m,usecols\u001b[38;5;241m=\u001b[39mreq_cols)\n",
      "File \u001b[1;32mC:\\ProgramData\\Anaconda3\\lib\\site-packages\\pandas\\util\\_decorators.py:311\u001b[0m, in \u001b[0;36mdeprecate_nonkeyword_arguments.<locals>.decorate.<locals>.wrapper\u001b[1;34m(*args, **kwargs)\u001b[0m\n\u001b[0;32m    305\u001b[0m \u001b[38;5;28;01mif\u001b[39;00m \u001b[38;5;28mlen\u001b[39m(args) \u001b[38;5;241m>\u001b[39m num_allow_args:\n\u001b[0;32m    306\u001b[0m     warnings\u001b[38;5;241m.\u001b[39mwarn(\n\u001b[0;32m    307\u001b[0m         msg\u001b[38;5;241m.\u001b[39mformat(arguments\u001b[38;5;241m=\u001b[39marguments),\n\u001b[0;32m    308\u001b[0m         \u001b[38;5;167;01mFutureWarning\u001b[39;00m,\n\u001b[0;32m    309\u001b[0m         stacklevel\u001b[38;5;241m=\u001b[39mstacklevel,\n\u001b[0;32m    310\u001b[0m     )\n\u001b[1;32m--> 311\u001b[0m \u001b[38;5;28;01mreturn\u001b[39;00m func(\u001b[38;5;241m*\u001b[39margs, \u001b[38;5;241m*\u001b[39m\u001b[38;5;241m*\u001b[39mkwargs)\n",
      "File \u001b[1;32mC:\\ProgramData\\Anaconda3\\lib\\site-packages\\pandas\\io\\parsers\\readers.py:680\u001b[0m, in \u001b[0;36mread_csv\u001b[1;34m(filepath_or_buffer, sep, delimiter, header, names, index_col, usecols, squeeze, prefix, mangle_dupe_cols, dtype, engine, converters, true_values, false_values, skipinitialspace, skiprows, skipfooter, nrows, na_values, keep_default_na, na_filter, verbose, skip_blank_lines, parse_dates, infer_datetime_format, keep_date_col, date_parser, dayfirst, cache_dates, iterator, chunksize, compression, thousands, decimal, lineterminator, quotechar, quoting, doublequote, escapechar, comment, encoding, encoding_errors, dialect, error_bad_lines, warn_bad_lines, on_bad_lines, delim_whitespace, low_memory, memory_map, float_precision, storage_options)\u001b[0m\n\u001b[0;32m    665\u001b[0m kwds_defaults \u001b[38;5;241m=\u001b[39m _refine_defaults_read(\n\u001b[0;32m    666\u001b[0m     dialect,\n\u001b[0;32m    667\u001b[0m     delimiter,\n\u001b[1;32m   (...)\u001b[0m\n\u001b[0;32m    676\u001b[0m     defaults\u001b[38;5;241m=\u001b[39m{\u001b[38;5;124m\"\u001b[39m\u001b[38;5;124mdelimiter\u001b[39m\u001b[38;5;124m\"\u001b[39m: \u001b[38;5;124m\"\u001b[39m\u001b[38;5;124m,\u001b[39m\u001b[38;5;124m\"\u001b[39m},\n\u001b[0;32m    677\u001b[0m )\n\u001b[0;32m    678\u001b[0m kwds\u001b[38;5;241m.\u001b[39mupdate(kwds_defaults)\n\u001b[1;32m--> 680\u001b[0m \u001b[38;5;28;01mreturn\u001b[39;00m \u001b[43m_read\u001b[49m\u001b[43m(\u001b[49m\u001b[43mfilepath_or_buffer\u001b[49m\u001b[43m,\u001b[49m\u001b[43m \u001b[49m\u001b[43mkwds\u001b[49m\u001b[43m)\u001b[49m\n",
      "File \u001b[1;32mC:\\ProgramData\\Anaconda3\\lib\\site-packages\\pandas\\io\\parsers\\readers.py:575\u001b[0m, in \u001b[0;36m_read\u001b[1;34m(filepath_or_buffer, kwds)\u001b[0m\n\u001b[0;32m    572\u001b[0m _validate_names(kwds\u001b[38;5;241m.\u001b[39mget(\u001b[38;5;124m\"\u001b[39m\u001b[38;5;124mnames\u001b[39m\u001b[38;5;124m\"\u001b[39m, \u001b[38;5;28;01mNone\u001b[39;00m))\n\u001b[0;32m    574\u001b[0m \u001b[38;5;66;03m# Create the parser.\u001b[39;00m\n\u001b[1;32m--> 575\u001b[0m parser \u001b[38;5;241m=\u001b[39m TextFileReader(filepath_or_buffer, \u001b[38;5;241m*\u001b[39m\u001b[38;5;241m*\u001b[39mkwds)\n\u001b[0;32m    577\u001b[0m \u001b[38;5;28;01mif\u001b[39;00m chunksize \u001b[38;5;129;01mor\u001b[39;00m iterator:\n\u001b[0;32m    578\u001b[0m     \u001b[38;5;28;01mreturn\u001b[39;00m parser\n",
      "File \u001b[1;32mC:\\ProgramData\\Anaconda3\\lib\\site-packages\\pandas\\io\\parsers\\readers.py:933\u001b[0m, in \u001b[0;36mTextFileReader.__init__\u001b[1;34m(self, f, engine, **kwds)\u001b[0m\n\u001b[0;32m    930\u001b[0m     \u001b[38;5;28mself\u001b[39m\u001b[38;5;241m.\u001b[39moptions[\u001b[38;5;124m\"\u001b[39m\u001b[38;5;124mhas_index_names\u001b[39m\u001b[38;5;124m\"\u001b[39m] \u001b[38;5;241m=\u001b[39m kwds[\u001b[38;5;124m\"\u001b[39m\u001b[38;5;124mhas_index_names\u001b[39m\u001b[38;5;124m\"\u001b[39m]\n\u001b[0;32m    932\u001b[0m \u001b[38;5;28mself\u001b[39m\u001b[38;5;241m.\u001b[39mhandles: IOHandles \u001b[38;5;241m|\u001b[39m \u001b[38;5;28;01mNone\u001b[39;00m \u001b[38;5;241m=\u001b[39m \u001b[38;5;28;01mNone\u001b[39;00m\n\u001b[1;32m--> 933\u001b[0m \u001b[38;5;28mself\u001b[39m\u001b[38;5;241m.\u001b[39m_engine \u001b[38;5;241m=\u001b[39m \u001b[38;5;28;43mself\u001b[39;49m\u001b[38;5;241;43m.\u001b[39;49m\u001b[43m_make_engine\u001b[49m\u001b[43m(\u001b[49m\u001b[43mf\u001b[49m\u001b[43m,\u001b[49m\u001b[43m \u001b[49m\u001b[38;5;28;43mself\u001b[39;49m\u001b[38;5;241;43m.\u001b[39;49m\u001b[43mengine\u001b[49m\u001b[43m)\u001b[49m\n",
      "File \u001b[1;32mC:\\ProgramData\\Anaconda3\\lib\\site-packages\\pandas\\io\\parsers\\readers.py:1235\u001b[0m, in \u001b[0;36mTextFileReader._make_engine\u001b[1;34m(self, f, engine)\u001b[0m\n\u001b[0;32m   1232\u001b[0m     \u001b[38;5;28;01mraise\u001b[39;00m \u001b[38;5;167;01mValueError\u001b[39;00m(msg)\n\u001b[0;32m   1234\u001b[0m \u001b[38;5;28;01mtry\u001b[39;00m:\n\u001b[1;32m-> 1235\u001b[0m     \u001b[38;5;28;01mreturn\u001b[39;00m mapping[engine](f, \u001b[38;5;241m*\u001b[39m\u001b[38;5;241m*\u001b[39m\u001b[38;5;28mself\u001b[39m\u001b[38;5;241m.\u001b[39moptions)\n\u001b[0;32m   1236\u001b[0m \u001b[38;5;28;01mexcept\u001b[39;00m \u001b[38;5;167;01mException\u001b[39;00m:\n\u001b[0;32m   1237\u001b[0m     \u001b[38;5;28;01mif\u001b[39;00m \u001b[38;5;28mself\u001b[39m\u001b[38;5;241m.\u001b[39mhandles \u001b[38;5;129;01mis\u001b[39;00m \u001b[38;5;129;01mnot\u001b[39;00m \u001b[38;5;28;01mNone\u001b[39;00m:\n",
      "File \u001b[1;32mC:\\ProgramData\\Anaconda3\\lib\\site-packages\\pandas\\io\\parsers\\c_parser_wrapper.py:75\u001b[0m, in \u001b[0;36mCParserWrapper.__init__\u001b[1;34m(self, src, **kwds)\u001b[0m\n\u001b[0;32m     72\u001b[0m     kwds\u001b[38;5;241m.\u001b[39mpop(key, \u001b[38;5;28;01mNone\u001b[39;00m)\n\u001b[0;32m     74\u001b[0m kwds[\u001b[38;5;124m\"\u001b[39m\u001b[38;5;124mdtype\u001b[39m\u001b[38;5;124m\"\u001b[39m] \u001b[38;5;241m=\u001b[39m ensure_dtype_objs(kwds\u001b[38;5;241m.\u001b[39mget(\u001b[38;5;124m\"\u001b[39m\u001b[38;5;124mdtype\u001b[39m\u001b[38;5;124m\"\u001b[39m, \u001b[38;5;28;01mNone\u001b[39;00m))\n\u001b[1;32m---> 75\u001b[0m \u001b[38;5;28mself\u001b[39m\u001b[38;5;241m.\u001b[39m_reader \u001b[38;5;241m=\u001b[39m parsers\u001b[38;5;241m.\u001b[39mTextReader(src, \u001b[38;5;241m*\u001b[39m\u001b[38;5;241m*\u001b[39mkwds)\n\u001b[0;32m     77\u001b[0m \u001b[38;5;28mself\u001b[39m\u001b[38;5;241m.\u001b[39munnamed_cols \u001b[38;5;241m=\u001b[39m \u001b[38;5;28mself\u001b[39m\u001b[38;5;241m.\u001b[39m_reader\u001b[38;5;241m.\u001b[39munnamed_cols\n\u001b[0;32m     79\u001b[0m \u001b[38;5;66;03m# error: Cannot determine type of 'names'\u001b[39;00m\n",
      "File \u001b[1;32mC:\\ProgramData\\Anaconda3\\lib\\site-packages\\pandas\\_libs\\parsers.pyx:544\u001b[0m, in \u001b[0;36mpandas._libs.parsers.TextReader.__cinit__\u001b[1;34m()\u001b[0m\n",
      "File \u001b[1;32mC:\\ProgramData\\Anaconda3\\lib\\site-packages\\pandas\\_libs\\parsers.pyx:633\u001b[0m, in \u001b[0;36mpandas._libs.parsers.TextReader._get_header\u001b[1;34m()\u001b[0m\n",
      "File \u001b[1;32mC:\\ProgramData\\Anaconda3\\lib\\site-packages\\pandas\\_libs\\parsers.pyx:847\u001b[0m, in \u001b[0;36mpandas._libs.parsers.TextReader._tokenize_rows\u001b[1;34m()\u001b[0m\n",
      "File \u001b[1;32mC:\\ProgramData\\Anaconda3\\lib\\site-packages\\pandas\\_libs\\parsers.pyx:1952\u001b[0m, in \u001b[0;36mpandas._libs.parsers.raise_parser_error\u001b[1;34m()\u001b[0m\n",
      "\u001b[1;31mUnicodeDecodeError\u001b[0m: 'utf-8' codec can't decode byte 0xa0 in position 3313: invalid start byte"
     ]
    }
   ],
   "source": [
    "#selRegion = request.POST.get('num4', 'GCC')\n",
    "#selRegion = \"GCC\"\n",
    "\n",
    "if( selRegion == \"GCC\"):\n",
    "    cData = pd.read_csv(\"DataBase/3_Sales/\"+cYear+\"/\"+cYear+\" \"+selRegion+\" \"+\"Sales.csv\" ,usecols=req_cols)\n",
    "elif( selRegion == \"Levant\"):\n",
    "    cData = pd.read_csv(\"DataBase/3_Sales/\"+cYear+\" \"+selRegion+\" \"+\"Sales.csv\",usecols=req_cols)\n",
    "elif( selRegion == \"MCS\"):\n",
    "    cData = pd.read_csv(\"DataBase/3_Sales/\"+cYear+\" \"+selRegion+\" \"+\"Sales.csv\",usecols=req_cols)\n",
    "else:\n",
    "    pass"
   ]
  },
  {
   "cell_type": "markdown",
   "metadata": {},
   "source": [
    "<p style=\"font-family:Calibri ; font-size:1.5em; color:darkblue; padding:3px; border-bottom: 3px solid dardkblue;\n",
    " background-color:#fbfcb3\">\n",
    "1c. Rename the selected Column as per requirement</p>"
   ]
  },
  {
   "cell_type": "code",
   "execution_count": null,
   "metadata": {},
   "outputs": [],
   "source": [
    "cData.rename(columns = {'Bill To Country':'Country', 'Business Unit':'Vertical', 'Sum of COGS':'CY_CoS', 'Sum of Total After Discount':'CY_Revenue'}, inplace=True)"
   ]
  },
  {
   "cell_type": "markdown",
   "metadata": {},
   "source": [
    "<p style=\"font-size:1.3em; color:darkblue; padding:5px; border-bottom: 3px solid dardkblue; background-color:#a0e6eb\">\n",
    " Django - Check Performance and Memory Utilization</p>"
   ]
  },
  {
   "cell_type": "code",
   "execution_count": null,
   "metadata": {
    "scrolled": false
   },
   "outputs": [],
   "source": [
    "#%timeit CYear\n",
    "#pData.info(memory_usage='deep')"
   ]
  },
  {
   "cell_type": "markdown",
   "metadata": {},
   "source": [
    "<p style=\"font-size:1.5em; color:white; padding:5px 5px; border-bottom:3px solid #ffb701; background:#375d7a\">\n",
    "Step 3  - Create Pivot Table - By Vertica, By Country, By Month </p>"
   ]
  },
  {
   "cell_type": "code",
   "execution_count": null,
   "metadata": {},
   "outputs": [],
   "source": [
    "df_pivot = pd.pivot_table(cData ,index=[\"Vertical\",\"Country\",\"Month\",\"Type\"],aggfunc=np.sum)   #, margins=True\n",
    "df_pivot.reset_index(inplace=True)    # Reset Index"
   ]
  },
  {
   "cell_type": "markdown",
   "metadata": {},
   "source": [
    "<p style=\"font-size:1.5em; color:white; padding:5px 5px; border-bottom:3px solid #ffb701; background:#375d7a\"> \n",
    "Step 3  - Save Dataframe in CSV files </p>"
   ]
  },
  {
   "cell_type": "code",
   "execution_count": 5,
   "metadata": {},
   "outputs": [
    {
     "ename": "NameError",
     "evalue": "name 'df_pivot' is not defined",
     "output_type": "error",
     "traceback": [
      "\u001b[1;31m---------------------------------------------------------------------------\u001b[0m",
      "\u001b[1;31mNameError\u001b[0m                                 Traceback (most recent call last)",
      "Input \u001b[1;32mIn [5]\u001b[0m, in \u001b[0;36m<cell line: 3>\u001b[1;34m()\u001b[0m\n\u001b[0;32m      1\u001b[0m \u001b[38;5;66;03m# Save in new csv Files\u001b[39;00m\n\u001b[0;32m      2\u001b[0m \u001b[38;5;66;03m#-----------------------\u001b[39;00m\n\u001b[1;32m----> 3\u001b[0m \u001b[43mdf_pivot\u001b[49m\u001b[38;5;241m.\u001b[39mto_csv(\u001b[38;5;124mr\u001b[39m\u001b[38;5;124m'\u001b[39m\u001b[38;5;124mData/4_Sales/\u001b[39m\u001b[38;5;124m'\u001b[39m\u001b[38;5;241m+\u001b[39mcYear\u001b[38;5;241m+\u001b[39m\u001b[38;5;124m'\u001b[39m\u001b[38;5;124m/salSummary/temp\u001b[39m\u001b[38;5;124m'\u001b[39m\u001b[38;5;241m+\u001b[39mselRegion\u001b[38;5;241m+\u001b[39m\u001b[38;5;124m'\u001b[39m\u001b[38;5;124m.csv\u001b[39m\u001b[38;5;124m'\u001b[39m, index \u001b[38;5;241m=\u001b[39m \u001b[38;5;28;01mFalse\u001b[39;00m)\n",
      "\u001b[1;31mNameError\u001b[0m: name 'df_pivot' is not defined"
     ]
    }
   ],
   "source": [
    "# Save in new csv Files\n",
    "#-----------------------\n",
    "df_pivot.to_csv(r'Data/4_Sales/'+cYear+'/salSummary/temp'+selRegion+'.csv', index = False)"
   ]
  },
  {
   "cell_type": "code",
   "execution_count": 38,
   "metadata": {},
   "outputs": [],
   "source": [
    "### Save Dataframe in JSON files\n",
    "### ----------------------------\n",
    "#df_pivot.to_json('SaleSummary.json', orient='records')"
   ]
  },
  {
   "cell_type": "markdown",
   "metadata": {},
   "source": [
    "<p style=\"font-family:Calibri; font-size:1.75em; color:white; padding:5px 5px; text-align: left; height:75px; border-bottom: 1px solid orange;\"></p>"
   ]
  },
  {
   "cell_type": "markdown",
   "metadata": {},
   "source": [
    "<p style=\"font-size:2.2em; color:white; padding:25px; border-bottom: 5px solid #ffb701; background:#143157;\"> \n",
    "Process 2 - Sales Analysis Report from Sales Summary </p>\n",
    "f1_SalesAnalysis.py (Django views)"
   ]
  },
  {
   "cell_type": "markdown",
   "metadata": {},
   "source": [
    "<p style=\" margin:0px; padding:0px;\">\n",
    "    Terminology Used in this file     <br>\n",
    "    'CYear'  =   Current Year Sales \n",
    "</p>"
   ]
  },
  {
   "cell_type": "markdown",
   "metadata": {},
   "source": [
    "<p style=\"font-size:1.3em; color:darkblue; padding:5px; border-bottom: 3px solid dardkblue; background-color:#a0e6eb\">\n",
    "Import Pandas and Numpy Library</p>"
   ]
  },
  {
   "cell_type": "code",
   "execution_count": 10,
   "metadata": {},
   "outputs": [],
   "source": [
    "import pandas as pd\n",
    "import numpy as np\n",
    "pd.options.display.float_format = '{:,.2f}'.format\n",
    "pd.set_option('display.max_columns', 85) # set Jupeter note book to dispay 85 columns"
   ]
  },
  {
   "cell_type": "markdown",
   "metadata": {},
   "source": [
    "<p style=\"font-size:1.5em; color:white; padding:5px 5px; border-bottom:3px solid #ffb701; background:#375d7a\"> \n",
    "Step 1 - Loading of Excel Data in Pandas Based on Region and Type </p>"
   ]
  },
  {
   "cell_type": "markdown",
   "metadata": {},
   "source": [
    "<p style=\"font-family:Calibri ; font-size:1.5em; color:darkblue; padding:3px; border-bottom: 3px solid dardkblue;\n",
    " background-color:#fbfcb3\">\n",
    "1a. Define Year, Month, Type, Region, Segment and Currency </p>"
   ]
  },
  {
   "cell_type": "code",
   "execution_count": 11,
   "metadata": {},
   "outputs": [],
   "source": [
    "cYear = \"2021\"\n",
    "pYear = int(cYear)-1; pYear = str(pYear)\n",
    "selMonth = \"23\"\n",
    "Type = \"-1st-\"\n",
    "selRegion = \"GCC\" #\"Group\" #\"GCC\"\n",
    "selSegment = \"1\"\n",
    "selCurrency = \"AED\""
   ]
  },
  {
   "cell_type": "markdown",
   "metadata": {},
   "source": [
    "<p style=\"font-family:Calibri ; font-size:1.5em; color:darkblue; padding:3px; border-bottom: 3px solid dardkblue;\n",
    " background-color:#fbfcb3\">\n",
    "1b. Select Columns to load Data </p>"
   ]
  },
  {
   "cell_type": "code",
   "execution_count": 12,
   "metadata": {},
   "outputs": [],
   "source": [
    "req_cols = ['1a.Revenue', '2a.Cost of Sales', 'Month', 'Region', 'Country', 'Department']"
   ]
  },
  {
   "cell_type": "markdown",
   "metadata": {},
   "source": [
    "<p style=\"font-family:Calibri ; font-size:1.5em; color:darkblue; padding:3px; border-bottom: 3px solid dardkblue;\n",
    " background-color:#fbfcb3\">\n",
    "1c. Read CSV files based on Selected Region and Year</p>"
   ]
  },
  {
   "cell_type": "code",
   "execution_count": 13,
   "metadata": {},
   "outputs": [],
   "source": [
    "if( selRegion == \"Group\"):\n",
    "    CYearGCC = pd.read_csv(\"Data/4_Sales/\"+cYear+\"/salSummary/tempGCC.csv\")\n",
    "    CYearLevant = pd.read_csv(\"Data/4_Sales/\"+cYear+\"/salSummary/tempLevant.csv\")\n",
    "    CYearMCS = pd.read_csv(\"Data/4_Sales/\"+cYear+\"/salSummary/tempMCS.csv\")\n",
    "    framesCY = (CYearGCC , CYearLevant, CYearMCS)\n",
    "\n",
    "    CYear  = pd.concat(framesCY)\n",
    "    CYear.reset_index(inplace=True)\n",
    "    CYear.drop(CYear[CYear['Type'] == \"IC\" ].index, inplace = True)\n",
    "\n",
    "    PYearGCC = pd.read_csv(\"Data/4_Sales/\"+pYear+\"/salSummary/tempGCC.csv\")\n",
    "    PYearLevant = pd.read_csv(\"Data/4_Sales/\"+pYear+\"/salSummary/tempLevant.csv\")\n",
    "    PYearMCS = pd.read_csv(\"Data/4_Sales/\"+pYear+\"/salSummary/tempMCS.csv\")\n",
    "    framesPY = (PYearGCC , PYearLevant, PYearMCS)\n",
    "\n",
    "    PYear  = pd.concat(framesPY)\n",
    "    PYear.reset_index(inplace=True)\n",
    "    PYear.drop(PYear[PYear['Type'] == \"IC\" ].index, inplace = True)\n",
    "\n",
    "    BYearGCC = pd.read_csv(\"Data/1_Budget/\"+cYear+\"/Yearly/GCC-combineBdg\"+Type+\".csv\", usecols=req_cols)\n",
    "    BYearLevant = pd.read_csv(\"Data/1_Budget/\"+cYear+\"/Yearly/Levant-combineBdg\"+Type+\".csv\", usecols=req_cols)\n",
    "    BYearAfrica = pd.read_csv(\"Data/1_Budget/\"+cYear+\"/Yearly/Africa-combineBdg\"+Type+\".csv\", usecols=req_cols)\n",
    "    BYearCD = pd.read_csv(\"Data/1_Budget/\"+cYear+\"/Yearly/CD-combineBdg\"+Type+\".csv\", usecols=req_cols)\n",
    "    BYearMCS = pd.read_csv(\"Data/1_Budget/\"+cYear+\"/Yearly/MCS-combineBdg\"+Type+\".csv\", usecols=req_cols)\n",
    "    framesBY = (BYearGCC , BYearLevant, BYearAfrica, BYearCD, BYearMCS)\n",
    "    BYear  = pd.concat(framesBY)\n",
    "    BYear.reset_index(inplace=True)\n",
    "\n",
    "elif( selRegion == \"GCC\"):\n",
    "    #CYear = pd.read_csv(\"Data/4_Sales/\"+cYear+\"/salSummary/\"+selRegion+\".csv\")\n",
    "    CYear = pd.read_csv(\"Data/4_Sales/\"+cYear+\"/salSummary/GCC.csv\")\n",
    "    PYear = pd.read_csv(\"Data/4_Sales/\"+pYear+\"/salSummary/GCC.csv\")\n",
    "    BYear_GCC = pd.read_csv(\"Data/1_Budget/\"+cYear+\"/Yearly/\"+selRegion+\"-combineBdg\"+Type+\".csv\", usecols=req_cols)\n",
    "    BYear_GCCCD = pd.read_csv(\"Data/1_Budget/\"+cYear+\"/Yearly/CD-combineBdg\"+Type+\".csv\", usecols=req_cols)\n",
    "    frames = (BYear_GCC , BYear_GCCCD)\n",
    "    BYear  = pd.concat(frames)\n",
    "    BYear.reset_index(inplace=True)\n",
    "\n",
    "elif( selRegion == \"MCS\"):\n",
    "    #CYear = pd.read_csv(\"Data/4_Sales/\"+cYear+\"/salSummary/\"+selRegion+\".csv\")\n",
    "    CYear = pd.read_csv(\"Data/4_Sales/\"+cYear+\"/salSummary/tempMCS.csv\")\n",
    "    PYear = pd.read_csv(\"Data/4_Sales/\"+pYear+\"/salSummary/tempMCS.csv\")\n",
    "    BYear = pd.read_csv(\"Data/1_Budget/\"+cYear+\"/Yearly/\"+selRegion+\"-combineBdg\"+Type+\".csv\", usecols=req_cols)\n",
    "    CYear.reset_index(inplace=True)\n",
    "    selRegion = \"MCS\"\n",
    "\n",
    "elif( selRegion == \"Levant\"):\n",
    "    #CYear = pd.read_csv(\"Data/4_Sales/\"+cYear+\"/salSummary/\"+selRegion+\".csv\")\n",
    "    CYear = pd.read_csv(\"Data/4_Sales/\"+cYear+\"/salSummary/tempLevant.csv\")\n",
    "    PYear = pd.read_csv(\"Data/4_Sales/\"+pYear+\"/salSummary/tempLevant.csv\")\n",
    "    BYear = pd.read_csv(\"Data/1_Budget/\"+cYear+\"/Yearly/\"+selRegion+\"-combineBdg\"+Type+\".csv\", usecols=req_cols)\n",
    "    CYear.reset_index(inplace=True)\n",
    "    selRegion = \"Levant\"\n",
    "\n",
    "else:\n",
    "    pass\n"
   ]
  },
  {
   "cell_type": "markdown",
   "metadata": {},
   "source": [
    "<p style=\"font-family:Calibri ; font-size:1.5em; color:darkblue; padding:3px; border-bottom: 3px solid dardkblue;\n",
    " background-color:#fbfcb3\">\n",
    "1d. Rename the selected Columns as per requirement</p>"
   ]
  },
  {
   "cell_type": "code",
   "execution_count": 14,
   "metadata": {},
   "outputs": [],
   "source": [
    "PYear.rename(columns = {'CY_CoS':'PY_CoS', 'CY_Revenue':'PY_Revenue'}, inplace=True)"
   ]
  },
  {
   "cell_type": "markdown",
   "metadata": {},
   "source": [
    "<p style=\"font-size:1.5em; color:white; padding:5px 5px; border-bottom:3px solid #ffb701; background:#375d7a\"> \n",
    "Step 2 - Select Segment </p>"
   ]
  },
  {
   "cell_type": "code",
   "execution_count": 15,
   "metadata": {},
   "outputs": [],
   "source": [
    "selSegment = \"1\"\n",
    "if( selSegment == '1'):\n",
    "        CYear = CYear\n",
    "        sSegment = \"Standard\"\n",
    "elif( selSegment == '2'):\n",
    "        CYear.drop(CYear[CYear['Type'] == \"CD\" ].index, inplace = True)\n",
    "        PYear.drop(PYear[PYear['Type'] == \"CD\" ].index, inplace = True)\n",
    "        BYear.drop(BYear[BYear['Region'] == \"CD\" ].index, inplace = True)\n",
    "        sSegment = \"Less CD\"\n",
    "elif( selSegment == '3'):\n",
    "        CYear.drop(CYear[CYear['Type'] == \"RIC\" ].index, inplace = True)\n",
    "        PYear.drop(PYear[PYear['Type'] == \"RIC\" ].index, inplace = True)\n",
    "        BYear.drop(BYear[BYear['Region'] == \"RIC\" ].index, inplace = True)\n",
    "        sSegment = \"Less RIC\"\n",
    "else:\n",
    "    pass"
   ]
  },
  {
   "cell_type": "markdown",
   "metadata": {},
   "source": [
    "<p style=\"font-size:1.5em; color:white; padding:5px 5px; border-bottom:3px solid #ffb701; background:#375d7a\"> \n",
    "Step 3 - Select Data as per Vertical </p>"
   ]
  },
  {
   "cell_type": "code",
   "execution_count": 16,
   "metadata": {},
   "outputs": [],
   "source": [
    "LoginUser = 'All'\n",
    "\n",
    "if(LoginUser == \"Medical\"):\n",
    "    CYear = CYear [ (CYear.Vertical == 'a. Medical') | (CYear.Vertical == 'b. Skincare') | (CYear.Vertical == 'g. CD') ]\n",
    "    PYear = PYear [ (PYear.Vertical == 'a. Medical') | (PYear.Vertical == 'b. Skincare') | (PYear.Vertical == 'g. CD')]\n",
    "    BYear = BYear [ (BYear.Department == 'MED') | (BYear.Department == 'SKI') | (BYear.Region == 'CD')]\n",
    "if(LoginUser == \"Equip\"):\n",
    "    CYear = CYear [ (CYear.Vertical == 'c. Equip') | (CYear.Vertical == 'd. Tech')  | (CYear.Vertical == 'g. CD') ]\n",
    "    PYear = PYear [ (PYear.Vertical == 'c. Equip') | (PYear.Vertical == 'd. Tech') | (PYear.Vertical == 'g. CD') ]\n",
    "    BYear = BYear [ (BYear.Department == 'EQU') | (BYear.Department == 'TEC') | (BYear.Region == 'CD')]\n",
    "elif(LoginUser == \"Dental\"):\n",
    "    CYear = CYear [CYear.Vertical == 'e. Dental']\n",
    "    PYear = PYear [PYear.Vertical == 'e. Dental']\n",
    "    BYear = BYear [BYear.Department == 'DEN']\n",
    "else:\n",
    "    CYear = CYear\n",
    "    PYear = PYear\n",
    "    BYear = BYear"
   ]
  },
  {
   "cell_type": "markdown",
   "metadata": {},
   "source": [
    "<p style=\"font-size:1.5em; color:white; padding:5px 5px; border-bottom:3px solid #ffb701; background:#375d7a\"> \n",
    "Step 4 - Select Report Data </p>"
   ]
  },
  {
   "cell_type": "code",
   "execution_count": 17,
   "metadata": {},
   "outputs": [],
   "source": [
    "# Define Month Number and Month Name --------------------------------------------------------\n",
    "M1 = '1'\n",
    "MS2 = '12';  M2 = int(MS2)+1;   M2 = str(M2)\n",
    "M3 = MS2\n",
    "\n",
    "monthName = {'1':'January', '2':'February', '3':'March', '4':'April', '5':'May', '6':'June', '7':'July', '8':'August', '9':'September', \n",
    "        '10':'October', '11':'November', '12':'December'}\n",
    "\n",
    "List = []\n",
    "for i in range(int(M1), int(M2)):\n",
    "        Mon = monthName[str(i)]\n",
    "        List.append(Mon)"
   ]
  },
  {
   "cell_type": "code",
   "execution_count": 18,
   "metadata": {},
   "outputs": [],
   "source": [
    "reportingMonth = {'1':'January', '2':'February', '3':'March', '4':'April', '5':'May', '6':'June',\n",
    "                 '7':'July', '8':'August', '9':'September', '10':'October', '11':'November', '12':'December',\n",
    "                 '13':'YTD February', '14':'YTD March', '15':'YTD Apirl', '16':'YTD May', '17':'YTD June', '18':'YTD July',\n",
    "                 '19':'YTD August', '20':'TYD September', '21':'YTD October', '22':'YTD November', '23':'YTD December', }\n",
    "rMonth = reportingMonth[M1]\n",
    "rMonth = reportingMonth[M2]"
   ]
  },
  {
   "cell_type": "markdown",
   "metadata": {},
   "source": [
    "<p style=\"font-family:Calibri ; font-size:1.5em; color:darkblue; padding:3px; border-bottom: 3px solid dardkblue;\n",
    " background-color:#fbfcb3\">\n",
    "4a. Select Data as per Selected Month </p>"
   ]
  },
  {
   "cell_type": "code",
   "execution_count": 19,
   "metadata": {},
   "outputs": [],
   "source": [
    "CYear = CYear[CYear.Month.isin(List)]\n",
    "PYear = PYear[PYear.Month.isin(List)]\n",
    "BYear = BYear[BYear.Month.isin(List)]\n",
    "\n",
    "#CYear = CYear[~CYear['Month'].isin(Mon)]\n",
    "#PYear = PYear[~PYear['Month'].isin(Mon)]\n",
    "#BYear = BYear[~BYear['Month'].isin(Mon)]"
   ]
  },
  {
   "cell_type": "markdown",
   "metadata": {},
   "source": [
    "<p style=\"font-size:1.5em; color:white; padding:5px 5px; border-bottom:3px solid #ffb701; background:#375d7a\"> \n",
    " Step 5 - Cleaning the Budget File </p>"
   ]
  },
  {
   "cell_type": "markdown",
   "metadata": {},
   "source": [
    "<p style=\"font-family:Calibri ; font-size:1.5em; color:darkblue; padding:3px; border-bottom: 3px solid dardkblue;\n",
    " background-color:#fbfcb3\">\n",
    "5a. Drop the Cost Center in Budgeted DataFrame </p>"
   ]
  },
  {
   "cell_type": "code",
   "execution_count": 20,
   "metadata": {},
   "outputs": [],
   "source": [
    "costCenter = ['LOG','FIN','HRM','ITD','ADM','MAR','TRA','ODE']\n",
    "profitCenter = ['MED','EQU', 'SKI', 'TEC', 'DEN', 'OVE']\n",
    "BYear = BYear[~BYear['Department'].isin(costCenter)]"
   ]
  },
  {
   "cell_type": "markdown",
   "metadata": {},
   "source": [
    "<p style=\"font-family:Calibri ; font-size:1.5em; color:darkblue; padding:3px; border-bottom: 3px solid dardkblue;\n",
    " background-color:#fbfcb3\">\n",
    "5b. Load File Having Standard Names </p>"
   ]
  },
  {
   "cell_type": "code",
   "execution_count": 21,
   "metadata": {},
   "outputs": [],
   "source": [
    "### Load Country and Vertical Name File for Country\n",
    "### -----------------------------------------------\n",
    "counColumns = ['Country','couForSales']\n",
    "counName = pd.read_excel(\"Data/couAndVerName.xlsx\", sheet_name=\"Country\" ,usecols = counColumns)\n",
    "\n",
    "### Load Country and Vertical Name File for Vertical\n",
    "### ------------------------------------------------\n",
    "vertColumns = ['Department','verForSales']\n",
    "VertName = pd.read_excel(\"Data/couAndVerName.xlsx\", sheet_name=\"Vertical\" ,usecols = vertColumns)"
   ]
  },
  {
   "cell_type": "markdown",
   "metadata": {},
   "source": [
    "<p style=\"font-size:1.5em; color:white; padding:5px 5px; border-bottom:3px solid #ffb701; background:#375d7a\"> \n",
    "Step 6 - Create Departmentwise Pivot Table </p>"
   ]
  },
  {
   "cell_type": "code",
   "execution_count": 22,
   "metadata": {},
   "outputs": [],
   "source": [
    "CY_SalbyVer = pd.pivot_table(CYear,index=[\"Vertical\",\"Country\"],aggfunc=np.sum, margins=True, margins_name='i. Total') \n",
    "PY_SalbyVer = pd.pivot_table(PYear,index=[\"Vertical\",\"Country\"],aggfunc=np.sum, margins=True, margins_name='i. Total')\n",
    "BYear = pd.pivot_table(BYear,index=[\"Department\",\"Country\"],aggfunc=np.sum)"
   ]
  },
  {
   "cell_type": "markdown",
   "metadata": {},
   "source": [
    "<p style=\"font-size:1.5em; color:white; padding:5px 5px; border-bottom:3px solid #ffb701; background:#375d7a\"> \n",
    "Step 7 - Inline Budgeted DF to Concate with Actual Sales DF </p>"
   ]
  },
  {
   "cell_type": "code",
   "execution_count": 23,
   "metadata": {},
   "outputs": [],
   "source": [
    "BYear.reset_index(inplace=True)   # to make pivot to normal DF\n",
    "BYear.rename(columns = {'1a.Revenue':'BY_Revenue', '2a.Cost of Sales':'BY_CoS'}, inplace=True)"
   ]
  },
  {
   "cell_type": "code",
   "execution_count": 24,
   "metadata": {},
   "outputs": [],
   "source": [
    "# Drop Rows Having Value less than 1 from DF\n",
    "BYear = BYear[BYear.BY_Revenue >= 1]"
   ]
  },
  {
   "cell_type": "code",
   "execution_count": 25,
   "metadata": {},
   "outputs": [],
   "source": [
    "# Map Country and Vertical Column to have Standard Country and Vertical Name\n",
    "BYearCou = pd.merge(BYear, counName,  on ='Country',  how ='inner')\n",
    "BYearVer = pd.merge(BYearCou, VertName,  on ='Department',  how ='inner')"
   ]
  },
  {
   "cell_type": "code",
   "execution_count": 26,
   "metadata": {},
   "outputs": [],
   "source": [
    "# Drop old Department and Country name and keep Mapped Country and Vertical Name\n",
    "BYearVer.drop(['Department', 'Country'], axis='columns', inplace=True)"
   ]
  },
  {
   "cell_type": "code",
   "execution_count": 27,
   "metadata": {},
   "outputs": [],
   "source": [
    "BYear = pd.pivot_table(BYearVer,index=[\"verForSales\",\"couForSales\"],aggfunc=np.sum, margins=True, margins_name='i. Total')"
   ]
  },
  {
   "cell_type": "markdown",
   "metadata": {},
   "source": [
    "<p style=\"font-size:1.5em; color:white; padding:5px 5px; border-bottom:3px solid #ffb701; background:#375d7a\">  \n",
    "Step 8 - Combine CY, PY and BY DataFrame </p>"
   ]
  },
  {
   "cell_type": "code",
   "execution_count": 28,
   "metadata": {},
   "outputs": [],
   "source": [
    "Comb_SalbyVer = pd.concat([CY_SalbyVer, BYear, PY_SalbyVer], axis=1).replace(np.nan,0)"
   ]
  },
  {
   "cell_type": "code",
   "execution_count": 29,
   "metadata": {},
   "outputs": [],
   "source": [
    "Comb_SalbyVer.reset_index(inplace=True)"
   ]
  },
  {
   "cell_type": "code",
   "execution_count": 30,
   "metadata": {},
   "outputs": [],
   "source": [
    "# Drop old Department and Country name and keep Mapped Country and Vertical Name\n",
    "Comb_SalbyVer.drop(['index'], axis='columns', inplace=True)"
   ]
  },
  {
   "cell_type": "markdown",
   "metadata": {},
   "source": [
    "<p style=\"font-size:1.5em; color:white; padding:5px 5px; border-bottom:3px solid #ffb701; background:#375d7a\"> \n",
    "Step 9 - Create Margin </p>"
   ]
  },
  {
   "cell_type": "code",
   "execution_count": 31,
   "metadata": {},
   "outputs": [],
   "source": [
    "Comb_SalbyVer['CY_Margin'] = Comb_SalbyVer['CY_Revenue'] - Comb_SalbyVer['CY_CoS']\n",
    "Comb_SalbyVer['PY_Margin'] = Comb_SalbyVer['PY_Revenue'] - Comb_SalbyVer['PY_CoS']\n",
    "Comb_SalbyVer['BY_Margin'] = Comb_SalbyVer['BY_Revenue'] - Comb_SalbyVer['BY_CoS']"
   ]
  },
  {
   "cell_type": "markdown",
   "metadata": {},
   "source": [
    "<p style=\"font-family:Calibri ; font-size:1.5em; color:darkblue; padding:3px; border-bottom: 3px solid dardkblue;\n",
    " background-color:#fbfcb3\">\n",
    "9a. Select column to concate later</p>"
   ]
  },
  {
   "cell_type": "code",
   "execution_count": 32,
   "metadata": {},
   "outputs": [],
   "source": [
    "CombineIndex = Comb_SalbyVer.loc[ : , ['level_0','level_1']]\n",
    "ABC = CombineIndex"
   ]
  },
  {
   "cell_type": "code",
   "execution_count": 33,
   "metadata": {},
   "outputs": [],
   "source": [
    "#Need to Convert into astype float to divide by currency rate \n",
    "#Comb_SalbyVer[['CY_CoS','CY_Revenue','CY_Margin', 'PY_CoS','PY_Revenue','PY_Margin', 'BY_CoS','BY_Revenue','BY_Margin']] = Comb_SalbyVer[['CY_CoS','CY_Revenue','CY_Margin', 'PY_CoS','PY_Revenue','PY_Margin', 'BY_CoS','BY_Revenue','BY_Margin']].astype(float)"
   ]
  },
  {
   "cell_type": "markdown",
   "metadata": {},
   "source": [
    "<p style=\"font-size:1.5em; color:white; padding:5px 5px; border-bottom:3px solid #ffb701; background:#375d7a\"> \n",
    "Step 10 - Convert Data into Desired Currency </p>"
   ]
  },
  {
   "cell_type": "code",
   "execution_count": 34,
   "metadata": {},
   "outputs": [],
   "source": [
    "if(selCurrency == \"LBP\"):\n",
    "    Comb_SalbyVer = Comb_SalbyVer.select_dtypes(exclude=['object','datetime']) * 410\n",
    "elif(selCurrency == \"USD\"):\n",
    "    Comb_SalbyVer = Comb_SalbyVer.select_dtypes(exclude=['object','datetime']) /3.68\n",
    "elif(selCurrency == \"SAR\"):\n",
    "    Comb_SalbyVer = Comb_SalbyVer.select_dtypes(exclude=['object','datetime']) * 0.98\n",
    "else:\n",
    "    Comb_SalbyVer = Comb_SalbyVer.select_dtypes(exclude=['object','datetime'])"
   ]
  },
  {
   "cell_type": "markdown",
   "metadata": {},
   "source": [
    "<p style=\"font-size:1.5em; color:white; padding:5px 5px; border-bottom:3px solid #ffb701; background:#375d7a\"> \n",
    "Step 11 - Concat Combine Dataframe and Index </p>"
   ]
  },
  {
   "cell_type": "code",
   "execution_count": 35,
   "metadata": {},
   "outputs": [],
   "source": [
    "Combine = pd.concat([ABC, Comb_SalbyVer], axis=1).replace(np.nan,0)\n",
    "CombineVer = Combine\n",
    "CombineCou = Combine"
   ]
  },
  {
   "cell_type": "code",
   "execution_count": 36,
   "metadata": {},
   "outputs": [],
   "source": [
    "# to Have Country in In Order\n",
    "CombineCou['level_2'] = CombineCou['level_1']\n",
    "CombineCou.loc[CombineCou[\"level_2\"] == \"a. Medical\", [\"level_2\"]] = \"x. Medical\"\n",
    "CombineCou.loc[CombineCou[\"level_2\"] == \"c. Equip\", [\"level_2\"]] = \"x. Equip\""
   ]
  },
  {
   "cell_type": "markdown",
   "metadata": {},
   "source": [
    "<p style=\"font-size:1.5em; color:white; padding:5px 5px; border-bottom:3px solid #ffb701; background:#375d7a\"> \n",
    "Step 12 - Create SubTotal - VerticalWise </p>"
   ]
  },
  {
   "cell_type": "code",
   "execution_count": 37,
   "metadata": {},
   "outputs": [
    {
     "name": "stderr",
     "output_type": "stream",
     "text": [
      "C:\\Users\\DELL\\AppData\\Local\\Temp\\ipykernel_12576\\2990452504.py:4: FutureWarning: The frame.append method is deprecated and will be removed from pandas in a future version. Use pandas.concat instead.\n",
      "  CombineVer = pd.concat([d.append(d.sum().rename((k, 'Total'))) for k, d in CombineVer.groupby(level=0)]).append(CombineVer.sum().rename(('Grand', 'Total')))\n",
      "C:\\Users\\DELL\\AppData\\Local\\Temp\\ipykernel_12576\\2990452504.py:4: FutureWarning: The frame.append method is deprecated and will be removed from pandas in a future version. Use pandas.concat instead.\n",
      "  CombineVer = pd.concat([d.append(d.sum().rename((k, 'Total'))) for k, d in CombineVer.groupby(level=0)]).append(CombineVer.sum().rename(('Grand', 'Total')))\n",
      "C:\\Users\\DELL\\AppData\\Local\\Temp\\ipykernel_12576\\2990452504.py:4: FutureWarning: The frame.append method is deprecated and will be removed from pandas in a future version. Use pandas.concat instead.\n",
      "  CombineVer = pd.concat([d.append(d.sum().rename((k, 'Total'))) for k, d in CombineVer.groupby(level=0)]).append(CombineVer.sum().rename(('Grand', 'Total')))\n",
      "C:\\Users\\DELL\\AppData\\Local\\Temp\\ipykernel_12576\\2990452504.py:4: FutureWarning: The frame.append method is deprecated and will be removed from pandas in a future version. Use pandas.concat instead.\n",
      "  CombineVer = pd.concat([d.append(d.sum().rename((k, 'Total'))) for k, d in CombineVer.groupby(level=0)]).append(CombineVer.sum().rename(('Grand', 'Total')))\n",
      "C:\\Users\\DELL\\AppData\\Local\\Temp\\ipykernel_12576\\2990452504.py:4: FutureWarning: The frame.append method is deprecated and will be removed from pandas in a future version. Use pandas.concat instead.\n",
      "  CombineVer = pd.concat([d.append(d.sum().rename((k, 'Total'))) for k, d in CombineVer.groupby(level=0)]).append(CombineVer.sum().rename(('Grand', 'Total')))\n",
      "C:\\Users\\DELL\\AppData\\Local\\Temp\\ipykernel_12576\\2990452504.py:4: FutureWarning: The frame.append method is deprecated and will be removed from pandas in a future version. Use pandas.concat instead.\n",
      "  CombineVer = pd.concat([d.append(d.sum().rename((k, 'Total'))) for k, d in CombineVer.groupby(level=0)]).append(CombineVer.sum().rename(('Grand', 'Total')))\n",
      "C:\\Users\\DELL\\AppData\\Local\\Temp\\ipykernel_12576\\2990452504.py:4: FutureWarning: The frame.append method is deprecated and will be removed from pandas in a future version. Use pandas.concat instead.\n",
      "  CombineVer = pd.concat([d.append(d.sum().rename((k, 'Total'))) for k, d in CombineVer.groupby(level=0)]).append(CombineVer.sum().rename(('Grand', 'Total')))\n",
      "C:\\Users\\DELL\\AppData\\Local\\Temp\\ipykernel_12576\\2990452504.py:4: FutureWarning: The frame.append method is deprecated and will be removed from pandas in a future version. Use pandas.concat instead.\n",
      "  CombineVer = pd.concat([d.append(d.sum().rename((k, 'Total'))) for k, d in CombineVer.groupby(level=0)]).append(CombineVer.sum().rename(('Grand', 'Total')))\n",
      "C:\\Users\\DELL\\AppData\\Local\\Temp\\ipykernel_12576\\2990452504.py:4: FutureWarning: The frame.append method is deprecated and will be removed from pandas in a future version. Use pandas.concat instead.\n",
      "  CombineVer = pd.concat([d.append(d.sum().rename((k, 'Total'))) for k, d in CombineVer.groupby(level=0)]).append(CombineVer.sum().rename(('Grand', 'Total')))\n",
      "C:\\Users\\DELL\\AppData\\Local\\Temp\\ipykernel_12576\\2990452504.py:4: FutureWarning: The frame.append method is deprecated and will be removed from pandas in a future version. Use pandas.concat instead.\n",
      "  CombineVer = pd.concat([d.append(d.sum().rename((k, 'Total'))) for k, d in CombineVer.groupby(level=0)]).append(CombineVer.sum().rename(('Grand', 'Total')))\n",
      "C:\\Users\\DELL\\AppData\\Local\\Temp\\ipykernel_12576\\2990452504.py:4: FutureWarning: The frame.append method is deprecated and will be removed from pandas in a future version. Use pandas.concat instead.\n",
      "  CombineVer = pd.concat([d.append(d.sum().rename((k, 'Total'))) for k, d in CombineVer.groupby(level=0)]).append(CombineVer.sum().rename(('Grand', 'Total')))\n"
     ]
    }
   ],
   "source": [
    "# for Vertical\n",
    "Amt = ['CY_CoS','CY_Revenue','CY_Margin', 'PY_CoS','PY_Revenue','PY_Margin', 'BY_CoS','BY_Revenue','BY_Margin']\n",
    "CombineVer = pd.pivot_table(CombineVer, values=Amt, index=[\"level_0\",\"level_1\"], fill_value=0, aggfunc=np.sum, dropna=True)\n",
    "CombineVer = pd.concat([d.append(d.sum().rename((k, 'Total'))) for k, d in CombineVer.groupby(level=0)]).append(CombineVer.sum().rename(('Grand', 'Total')))"
   ]
  },
  {
   "cell_type": "code",
   "execution_count": 38,
   "metadata": {},
   "outputs": [
    {
     "name": "stderr",
     "output_type": "stream",
     "text": [
      "C:\\Users\\DELL\\AppData\\Local\\Temp\\ipykernel_12576\\2783283903.py:3: FutureWarning: The frame.append method is deprecated and will be removed from pandas in a future version. Use pandas.concat instead.\n",
      "  CombineCou = pd.concat([d.append(d.sum().rename((k, 'z. Total Country'))) for k, d in CombineCou.groupby(level=0)]).append(CombineCou.sum().rename(('Grand', 'Total')))\n",
      "C:\\Users\\DELL\\AppData\\Local\\Temp\\ipykernel_12576\\2783283903.py:3: FutureWarning: The frame.append method is deprecated and will be removed from pandas in a future version. Use pandas.concat instead.\n",
      "  CombineCou = pd.concat([d.append(d.sum().rename((k, 'z. Total Country'))) for k, d in CombineCou.groupby(level=0)]).append(CombineCou.sum().rename(('Grand', 'Total')))\n",
      "C:\\Users\\DELL\\AppData\\Local\\Temp\\ipykernel_12576\\2783283903.py:3: FutureWarning: The frame.append method is deprecated and will be removed from pandas in a future version. Use pandas.concat instead.\n",
      "  CombineCou = pd.concat([d.append(d.sum().rename((k, 'z. Total Country'))) for k, d in CombineCou.groupby(level=0)]).append(CombineCou.sum().rename(('Grand', 'Total')))\n",
      "C:\\Users\\DELL\\AppData\\Local\\Temp\\ipykernel_12576\\2783283903.py:3: FutureWarning: The frame.append method is deprecated and will be removed from pandas in a future version. Use pandas.concat instead.\n",
      "  CombineCou = pd.concat([d.append(d.sum().rename((k, 'z. Total Country'))) for k, d in CombineCou.groupby(level=0)]).append(CombineCou.sum().rename(('Grand', 'Total')))\n",
      "C:\\Users\\DELL\\AppData\\Local\\Temp\\ipykernel_12576\\2783283903.py:3: FutureWarning: The frame.append method is deprecated and will be removed from pandas in a future version. Use pandas.concat instead.\n",
      "  CombineCou = pd.concat([d.append(d.sum().rename((k, 'z. Total Country'))) for k, d in CombineCou.groupby(level=0)]).append(CombineCou.sum().rename(('Grand', 'Total')))\n",
      "C:\\Users\\DELL\\AppData\\Local\\Temp\\ipykernel_12576\\2783283903.py:3: FutureWarning: The frame.append method is deprecated and will be removed from pandas in a future version. Use pandas.concat instead.\n",
      "  CombineCou = pd.concat([d.append(d.sum().rename((k, 'z. Total Country'))) for k, d in CombineCou.groupby(level=0)]).append(CombineCou.sum().rename(('Grand', 'Total')))\n",
      "C:\\Users\\DELL\\AppData\\Local\\Temp\\ipykernel_12576\\2783283903.py:3: FutureWarning: The frame.append method is deprecated and will be removed from pandas in a future version. Use pandas.concat instead.\n",
      "  CombineCou = pd.concat([d.append(d.sum().rename((k, 'z. Total Country'))) for k, d in CombineCou.groupby(level=0)]).append(CombineCou.sum().rename(('Grand', 'Total')))\n",
      "C:\\Users\\DELL\\AppData\\Local\\Temp\\ipykernel_12576\\2783283903.py:3: FutureWarning: The frame.append method is deprecated and will be removed from pandas in a future version. Use pandas.concat instead.\n",
      "  CombineCou = pd.concat([d.append(d.sum().rename((k, 'z. Total Country'))) for k, d in CombineCou.groupby(level=0)]).append(CombineCou.sum().rename(('Grand', 'Total')))\n",
      "C:\\Users\\DELL\\AppData\\Local\\Temp\\ipykernel_12576\\2783283903.py:3: FutureWarning: The frame.append method is deprecated and will be removed from pandas in a future version. Use pandas.concat instead.\n",
      "  CombineCou = pd.concat([d.append(d.sum().rename((k, 'z. Total Country'))) for k, d in CombineCou.groupby(level=0)]).append(CombineCou.sum().rename(('Grand', 'Total')))\n",
      "C:\\Users\\DELL\\AppData\\Local\\Temp\\ipykernel_12576\\2783283903.py:3: FutureWarning: The frame.append method is deprecated and will be removed from pandas in a future version. Use pandas.concat instead.\n",
      "  CombineCou = pd.concat([d.append(d.sum().rename((k, 'z. Total Country'))) for k, d in CombineCou.groupby(level=0)]).append(CombineCou.sum().rename(('Grand', 'Total')))\n",
      "C:\\Users\\DELL\\AppData\\Local\\Temp\\ipykernel_12576\\2783283903.py:3: FutureWarning: The frame.append method is deprecated and will be removed from pandas in a future version. Use pandas.concat instead.\n",
      "  CombineCou = pd.concat([d.append(d.sum().rename((k, 'z. Total Country'))) for k, d in CombineCou.groupby(level=0)]).append(CombineCou.sum().rename(('Grand', 'Total')))\n",
      "C:\\Users\\DELL\\AppData\\Local\\Temp\\ipykernel_12576\\2783283903.py:3: FutureWarning: The frame.append method is deprecated and will be removed from pandas in a future version. Use pandas.concat instead.\n",
      "  CombineCou = pd.concat([d.append(d.sum().rename((k, 'z. Total Country'))) for k, d in CombineCou.groupby(level=0)]).append(CombineCou.sum().rename(('Grand', 'Total')))\n",
      "C:\\Users\\DELL\\AppData\\Local\\Temp\\ipykernel_12576\\2783283903.py:3: FutureWarning: The frame.append method is deprecated and will be removed from pandas in a future version. Use pandas.concat instead.\n",
      "  CombineCou = pd.concat([d.append(d.sum().rename((k, 'z. Total Country'))) for k, d in CombineCou.groupby(level=0)]).append(CombineCou.sum().rename(('Grand', 'Total')))\n",
      "C:\\Users\\DELL\\AppData\\Local\\Temp\\ipykernel_12576\\2783283903.py:3: FutureWarning: The frame.append method is deprecated and will be removed from pandas in a future version. Use pandas.concat instead.\n",
      "  CombineCou = pd.concat([d.append(d.sum().rename((k, 'z. Total Country'))) for k, d in CombineCou.groupby(level=0)]).append(CombineCou.sum().rename(('Grand', 'Total')))\n",
      "C:\\Users\\DELL\\AppData\\Local\\Temp\\ipykernel_12576\\2783283903.py:3: FutureWarning: The frame.append method is deprecated and will be removed from pandas in a future version. Use pandas.concat instead.\n",
      "  CombineCou = pd.concat([d.append(d.sum().rename((k, 'z. Total Country'))) for k, d in CombineCou.groupby(level=0)]).append(CombineCou.sum().rename(('Grand', 'Total')))\n",
      "C:\\Users\\DELL\\AppData\\Local\\Temp\\ipykernel_12576\\2783283903.py:3: FutureWarning: The frame.append method is deprecated and will be removed from pandas in a future version. Use pandas.concat instead.\n",
      "  CombineCou = pd.concat([d.append(d.sum().rename((k, 'z. Total Country'))) for k, d in CombineCou.groupby(level=0)]).append(CombineCou.sum().rename(('Grand', 'Total')))\n",
      "C:\\Users\\DELL\\AppData\\Local\\Temp\\ipykernel_12576\\2783283903.py:3: FutureWarning: The frame.append method is deprecated and will be removed from pandas in a future version. Use pandas.concat instead.\n",
      "  CombineCou = pd.concat([d.append(d.sum().rename((k, 'z. Total Country'))) for k, d in CombineCou.groupby(level=0)]).append(CombineCou.sum().rename(('Grand', 'Total')))\n"
     ]
    }
   ],
   "source": [
    "# for Country\n",
    "CombineCou = pd.pivot_table(CombineCou, values=Amt, index=[\"level_2\",\"level_0\"], fill_value=0, aggfunc=np.sum, dropna=True)\n",
    "CombineCou = pd.concat([d.append(d.sum().rename((k, 'z. Total Country'))) for k, d in CombineCou.groupby(level=0)]).append(CombineCou.sum().rename(('Grand', 'Total')))"
   ]
  },
  {
   "cell_type": "markdown",
   "metadata": {},
   "source": [
    "<p style=\"font-family:Calibri ; font-size:1.5em; color:darkblue; padding:3px; border-bottom: 3px solid dardkblue;\n",
    " background-color:#fbfcb3\">\n",
    "12a. reset index to remove multi-index formate</p>"
   ]
  },
  {
   "cell_type": "code",
   "execution_count": 39,
   "metadata": {},
   "outputs": [],
   "source": [
    "CombineVer.reset_index(inplace=True)\n",
    "CombineCou.reset_index(inplace=True)"
   ]
  },
  {
   "cell_type": "markdown",
   "metadata": {},
   "source": [
    "<p style=\"font-family:Calibri ; font-size:1.5em; color:darkblue; padding:3px; border-bottom: 3px solid dardkblue;\n",
    " background-color:#fbfcb3\">\n",
    "12b. Sort Country DataFrame as per Country Wise</p>"
   ]
  },
  {
   "cell_type": "code",
   "execution_count": 40,
   "metadata": {},
   "outputs": [],
   "source": [
    "CombineCou.loc[CombineCou[\"level_2\"] == \"\", [\"level_2\"]] = \"z. Total\"\n",
    "CombineCou = CombineCou.sort_values(by=['level_2','level_0'], ascending=True)"
   ]
  },
  {
   "cell_type": "markdown",
   "metadata": {},
   "source": [
    "<p style=\"font-family:Calibri ; font-size:1.5em; color:darkblue; padding:3px; border-bottom: 3px solid dardkblue;\n",
    " background-color:#fbfcb3\">\n",
    "12c. Replace \"a. \" with \" \"</p>"
   ]
  },
  {
   "cell_type": "code",
   "execution_count": 41,
   "metadata": {},
   "outputs": [],
   "source": [
    "CombineVer = CombineVer.replace(r'^.. ', '', regex=True)    # Replace \"a. \" with \"\"\n",
    "CombineVer.drop(CombineVer.tail(2).index,inplace=True)      # drop last n rows\n",
    "\n",
    "CombineCou = CombineCou.replace(r'^.. ', '', regex=True)    # Replace \"a. \" with \"\"\n",
    "CombineCou.drop(CombineCou.tail(1).index,inplace=True)      # drop last n rows\n",
    "CombineCou.drop(CombineCou.loc[CombineCou['level_2']==\"Grand\"].index, inplace=True)"
   ]
  },
  {
   "cell_type": "markdown",
   "metadata": {},
   "source": [
    "<p style=\"font-size:1.5em; color:white; padding:5px 5px; border-bottom:3px solid #ffb701; background:#375d7a\"> \n",
    "Step 13 - Add 0.01 in Revenue to avoid Error - for Sub-Total</p>"
   ]
  },
  {
   "cell_type": "code",
   "execution_count": 42,
   "metadata": {},
   "outputs": [],
   "source": [
    "# for Vertical\n",
    "CombineVer['BY_Revenue'] = CombineVer['BY_Revenue'] + .01 \n",
    "CombineVer['CY_Revenue'] = CombineVer['CY_Revenue'] + .01 \n",
    "CombineVer['PY_Revenue'] = CombineVer['PY_Revenue'] + .01 "
   ]
  },
  {
   "cell_type": "code",
   "execution_count": 43,
   "metadata": {},
   "outputs": [],
   "source": [
    "# for Country\n",
    "CombineCou['BY_Revenue'] = CombineCou['BY_Revenue'] + .01 \n",
    "CombineCou['CY_Revenue'] = CombineCou['CY_Revenue'] + .01 \n",
    "CombineCou['PY_Revenue'] = CombineCou['PY_Revenue'] + .01 "
   ]
  },
  {
   "cell_type": "markdown",
   "metadata": {},
   "source": [
    "<p style=\"font-size:1.5em; color:white; padding:5px 5px; border-bottom:3px solid #ffb701; background:#375d7a\"> \n",
    "Step 14 - Calculate Gross Profit - for Sub-Total </p>"
   ]
  },
  {
   "cell_type": "code",
   "execution_count": 44,
   "metadata": {},
   "outputs": [],
   "source": [
    "# for Vertical\n",
    "CombineVer[\"CY_GP\"] = CombineVer[\"CY_Margin\"] / CombineVer[\"CY_Revenue\"]\n",
    "CombineVer[\"PY_GP\"] = CombineVer[\"PY_Margin\"] / CombineVer[\"PY_Revenue\"]\n",
    "CombineVer[\"BY_GP\"] = CombineVer[\"BY_Margin\"] / CombineVer[\"BY_Revenue\"]"
   ]
  },
  {
   "cell_type": "code",
   "execution_count": 45,
   "metadata": {},
   "outputs": [],
   "source": [
    "# for Country\n",
    "CombineCou[\"CY_GP\"] = CombineCou[\"CY_Margin\"] / CombineCou[\"CY_Revenue\"]\n",
    "CombineCou[\"PY_GP\"] = CombineCou[\"PY_Margin\"] / CombineCou[\"PY_Revenue\"]\n",
    "CombineCou[\"BY_GP\"] = CombineCou[\"BY_Margin\"] / CombineCou[\"BY_Revenue\"]"
   ]
  },
  {
   "cell_type": "code",
   "execution_count": 46,
   "metadata": {},
   "outputs": [],
   "source": [
    "CombineVer[\"New\"] = \"hideRow001\"\n",
    "CombineVer.loc[CombineVer[\"level_1\"] == \"Total\", [\"New\"]] = CombineVer[\"level_0\"]\n",
    "CombineVer.loc[CombineVer[\"level_1\"] == \"\", [\"New\"]] = \"Grand Total\"\n",
    "CombineVer.loc[CombineVer[\"level_1\"] == \"\", [\"level_1\"]] = \"Grand Total\""
   ]
  },
  {
   "cell_type": "code",
   "execution_count": 47,
   "metadata": {},
   "outputs": [],
   "source": [
    "CombineCou[\"New\"] = \"hideRow001\"\n",
    "CombineCou.loc[CombineCou[\"level_0\"] == \"Total Country\", [\"New\"]] = CombineCou[\"level_2\"]"
   ]
  },
  {
   "cell_type": "markdown",
   "metadata": {},
   "source": [
    "<p style=\"font-size:1.5em; color:white; padding:5px 5px; border-bottom:3px solid #ffb701; background:#375d7a\"> \n",
    "Step 15 - Create Graph Data </p>"
   ]
  },
  {
   "cell_type": "code",
   "execution_count": 48,
   "metadata": {},
   "outputs": [],
   "source": [
    "df1 = pd.DataFrame([['Medical', 0], ['Skincare', 0], ['Equip', 0], ['Tech', 0], ['Dental', 0]],columns=['level_0', 'dummy'])\n",
    "df1 = df1.set_index('level_0')\n",
    "df = CombineVer.loc[(CombineVer['level_1'] == 'Total') | (CombineVer['level_1'] == 'Grand Total') ]\n",
    "df = df.set_index('level_0')\n",
    "grap = pd.concat([df, df1], axis=1).replace(np.nan,0)"
   ]
  },
  {
   "cell_type": "code",
   "execution_count": 49,
   "metadata": {},
   "outputs": [],
   "source": [
    "medAct = grap.loc['Medical', 'CY_Revenue']\n",
    "medBdg = grap.loc['Medical', 'BY_Revenue']\n",
    "medPre = grap.loc['Medical', 'PY_Revenue']\n",
    "skiAct = grap.loc['Skincare', 'CY_Revenue']\n",
    "skiBdg = grap.loc['Skincare', 'BY_Revenue']\n",
    "skiPre = grap.loc['Skincare', 'PY_Revenue']\n",
    "equAct = grap.loc['Equip', 'CY_Revenue']\n",
    "equBdg = grap.loc['Equip', 'BY_Revenue']\n",
    "equPre = grap.loc['Equip', 'PY_Revenue']\n",
    "tecAct = grap.loc['Tech', 'CY_Revenue']\n",
    "tecBdg = grap.loc['Tech', 'BY_Revenue']\n",
    "tecPre = grap.loc['Tech', 'PY_Revenue']\n",
    "denAct = grap.loc['Dental', 'CY_Revenue']\n",
    "denBdg = grap.loc['Dental', 'BY_Revenue']\n",
    "denPre = grap.loc['Dental', 'PY_Revenue']\n",
    "totAct = grap.loc['Total', 'CY_Revenue']\n",
    "totBdg = grap.loc['Total', 'BY_Revenue']\n",
    "totPre = grap.loc['Total', 'PY_Revenue']"
   ]
  },
  {
   "cell_type": "code",
   "execution_count": 50,
   "metadata": {},
   "outputs": [],
   "source": [
    "othAct = totAct-medAct-skiAct-equAct-tecAct-denAct\n",
    "othBdg = totBdg-medBdg-skiBdg-equBdg-tecBdg-denBdg\n",
    "othPre = totPre-medPre-skiPre-equPre-tecPre-denPre\n",
    "perAch = totAct/totBdg"
   ]
  },
  {
   "cell_type": "code",
   "execution_count": 55,
   "metadata": {},
   "outputs": [
    {
     "data": {
      "text/html": [
       "<div>\n",
       "<style scoped>\n",
       "    .dataframe tbody tr th:only-of-type {\n",
       "        vertical-align: middle;\n",
       "    }\n",
       "\n",
       "    .dataframe tbody tr th {\n",
       "        vertical-align: top;\n",
       "    }\n",
       "\n",
       "    .dataframe thead th {\n",
       "        text-align: right;\n",
       "    }\n",
       "</style>\n",
       "<table border=\"1\" class=\"dataframe\">\n",
       "  <thead>\n",
       "    <tr style=\"text-align: right;\">\n",
       "      <th></th>\n",
       "      <th>level_0</th>\n",
       "      <th>level_1</th>\n",
       "      <th>BY_CoS</th>\n",
       "      <th>BY_Margin</th>\n",
       "      <th>BY_Revenue</th>\n",
       "      <th>CY_CoS</th>\n",
       "      <th>CY_Margin</th>\n",
       "      <th>CY_Revenue</th>\n",
       "      <th>PY_CoS</th>\n",
       "      <th>PY_Margin</th>\n",
       "      <th>PY_Revenue</th>\n",
       "      <th>CY_GP</th>\n",
       "      <th>PY_GP</th>\n",
       "      <th>BY_GP</th>\n",
       "      <th>New</th>\n",
       "    </tr>\n",
       "  </thead>\n",
       "  <tbody>\n",
       "    <tr>\n",
       "      <th>0</th>\n",
       "      <td>Medical</td>\n",
       "      <td>United Arab Emirates</td>\n",
       "      <td>19,190,189.12</td>\n",
       "      <td>10,363,091.00</td>\n",
       "      <td>29,553,280.13</td>\n",
       "      <td>18,936,756.10</td>\n",
       "      <td>10,279,922.26</td>\n",
       "      <td>29,216,678.37</td>\n",
       "      <td>17,951,952.86</td>\n",
       "      <td>10,356,662.30</td>\n",
       "      <td>28,308,615.17</td>\n",
       "      <td>0.35</td>\n",
       "      <td>0.37</td>\n",
       "      <td>0.35</td>\n",
       "      <td>hideRow001</td>\n",
       "    </tr>\n",
       "    <tr>\n",
       "      <th>1</th>\n",
       "      <td>Medical</td>\n",
       "      <td>Saudi Arabia</td>\n",
       "      <td>50,270,581.42</td>\n",
       "      <td>23,930,924.91</td>\n",
       "      <td>74,201,506.34</td>\n",
       "      <td>40,271,427.85</td>\n",
       "      <td>12,042,250.17</td>\n",
       "      <td>52,313,678.03</td>\n",
       "      <td>38,052,650.17</td>\n",
       "      <td>12,728,195.23</td>\n",
       "      <td>50,780,845.42</td>\n",
       "      <td>0.23</td>\n",
       "      <td>0.25</td>\n",
       "      <td>0.32</td>\n",
       "      <td>hideRow001</td>\n",
       "    </tr>\n",
       "    <tr>\n",
       "      <th>2</th>\n",
       "      <td>Medical</td>\n",
       "      <td>Kuwait</td>\n",
       "      <td>11,075,859.94</td>\n",
       "      <td>4,281,644.03</td>\n",
       "      <td>15,357,503.98</td>\n",
       "      <td>11,178,832.67</td>\n",
       "      <td>4,646,766.07</td>\n",
       "      <td>15,825,598.75</td>\n",
       "      <td>10,869,439.26</td>\n",
       "      <td>4,784,695.55</td>\n",
       "      <td>15,654,134.82</td>\n",
       "      <td>0.29</td>\n",
       "      <td>0.31</td>\n",
       "      <td>0.28</td>\n",
       "      <td>hideRow001</td>\n",
       "    </tr>\n",
       "    <tr>\n",
       "      <th>3</th>\n",
       "      <td>Medical</td>\n",
       "      <td>Qatar</td>\n",
       "      <td>8,496,016.51</td>\n",
       "      <td>1,125,263.61</td>\n",
       "      <td>9,621,280.13</td>\n",
       "      <td>7,085,876.84</td>\n",
       "      <td>995,024.15</td>\n",
       "      <td>8,080,901.00</td>\n",
       "      <td>6,503,601.28</td>\n",
       "      <td>1,309,293.20</td>\n",
       "      <td>7,812,894.49</td>\n",
       "      <td>0.12</td>\n",
       "      <td>0.17</td>\n",
       "      <td>0.12</td>\n",
       "      <td>hideRow001</td>\n",
       "    </tr>\n",
       "    <tr>\n",
       "      <th>4</th>\n",
       "      <td>Medical</td>\n",
       "      <td>Oman</td>\n",
       "      <td>817,409.11</td>\n",
       "      <td>253,460.58</td>\n",
       "      <td>1,070,869.70</td>\n",
       "      <td>513,642.06</td>\n",
       "      <td>268,705.62</td>\n",
       "      <td>782,347.69</td>\n",
       "      <td>470,245.99</td>\n",
       "      <td>279,693.90</td>\n",
       "      <td>749,939.90</td>\n",
       "      <td>0.34</td>\n",
       "      <td>0.37</td>\n",
       "      <td>0.24</td>\n",
       "      <td>hideRow001</td>\n",
       "    </tr>\n",
       "    <tr>\n",
       "      <th>...</th>\n",
       "      <td>...</td>\n",
       "      <td>...</td>\n",
       "      <td>...</td>\n",
       "      <td>...</td>\n",
       "      <td>...</td>\n",
       "      <td>...</td>\n",
       "      <td>...</td>\n",
       "      <td>...</td>\n",
       "      <td>...</td>\n",
       "      <td>...</td>\n",
       "      <td>...</td>\n",
       "      <td>...</td>\n",
       "      <td>...</td>\n",
       "      <td>...</td>\n",
       "      <td>...</td>\n",
       "    </tr>\n",
       "    <tr>\n",
       "      <th>65</th>\n",
       "      <td>CD</td>\n",
       "      <td>Medical</td>\n",
       "      <td>13,395,200.00</td>\n",
       "      <td>-1,619,199.96</td>\n",
       "      <td>11,776,000.05</td>\n",
       "      <td>27,059,558.04</td>\n",
       "      <td>-3,833,325.88</td>\n",
       "      <td>23,226,232.17</td>\n",
       "      <td>26,862,677.55</td>\n",
       "      <td>-3,673,542.25</td>\n",
       "      <td>23,189,135.31</td>\n",
       "      <td>-0.17</td>\n",
       "      <td>-0.16</td>\n",
       "      <td>-0.14</td>\n",
       "      <td>hideRow001</td>\n",
       "    </tr>\n",
       "    <tr>\n",
       "      <th>66</th>\n",
       "      <td>CD</td>\n",
       "      <td>skincare</td>\n",
       "      <td>0.00</td>\n",
       "      <td>0.00</td>\n",
       "      <td>0.01</td>\n",
       "      <td>205,958.00</td>\n",
       "      <td>30,654.70</td>\n",
       "      <td>236,612.71</td>\n",
       "      <td>212,388.90</td>\n",
       "      <td>39,732.31</td>\n",
       "      <td>252,121.22</td>\n",
       "      <td>0.13</td>\n",
       "      <td>0.16</td>\n",
       "      <td>0.00</td>\n",
       "      <td>hideRow001</td>\n",
       "    </tr>\n",
       "    <tr>\n",
       "      <th>67</th>\n",
       "      <td>CD</td>\n",
       "      <td>Equip</td>\n",
       "      <td>0.00</td>\n",
       "      <td>0.00</td>\n",
       "      <td>0.01</td>\n",
       "      <td>0.00</td>\n",
       "      <td>-0.00</td>\n",
       "      <td>0.01</td>\n",
       "      <td>-90,278.80</td>\n",
       "      <td>-145,042.97</td>\n",
       "      <td>-235,321.76</td>\n",
       "      <td>-0.00</td>\n",
       "      <td>0.62</td>\n",
       "      <td>0.00</td>\n",
       "      <td>hideRow001</td>\n",
       "    </tr>\n",
       "    <tr>\n",
       "      <th>68</th>\n",
       "      <td>CD</td>\n",
       "      <td>Total</td>\n",
       "      <td>13,395,200.00</td>\n",
       "      <td>-1,619,199.96</td>\n",
       "      <td>11,776,000.05</td>\n",
       "      <td>27,265,516.04</td>\n",
       "      <td>-3,802,671.17</td>\n",
       "      <td>23,462,844.88</td>\n",
       "      <td>26,984,787.65</td>\n",
       "      <td>-3,778,852.91</td>\n",
       "      <td>23,205,934.75</td>\n",
       "      <td>-0.16</td>\n",
       "      <td>-0.16</td>\n",
       "      <td>-0.14</td>\n",
       "      <td>CD</td>\n",
       "    </tr>\n",
       "    <tr>\n",
       "      <th>69</th>\n",
       "      <td>Total</td>\n",
       "      <td>Grand Total</td>\n",
       "      <td>179,067,760.27</td>\n",
       "      <td>89,096,780.44</td>\n",
       "      <td>268,164,540.72</td>\n",
       "      <td>161,181,258.17</td>\n",
       "      <td>52,970,138.39</td>\n",
       "      <td>214,151,396.57</td>\n",
       "      <td>153,870,971.22</td>\n",
       "      <td>54,641,834.00</td>\n",
       "      <td>208,512,805.23</td>\n",
       "      <td>0.25</td>\n",
       "      <td>0.26</td>\n",
       "      <td>0.33</td>\n",
       "      <td>Grand Total</td>\n",
       "    </tr>\n",
       "  </tbody>\n",
       "</table>\n",
       "<p>70 rows × 15 columns</p>\n",
       "</div>"
      ],
      "text/plain": [
       "    level_0               level_1         BY_CoS     BY_Margin     BY_Revenue  \\\n",
       "0   Medical  United Arab Emirates  19,190,189.12 10,363,091.00  29,553,280.13   \n",
       "1   Medical          Saudi Arabia  50,270,581.42 23,930,924.91  74,201,506.34   \n",
       "2   Medical                Kuwait  11,075,859.94  4,281,644.03  15,357,503.98   \n",
       "3   Medical                 Qatar   8,496,016.51  1,125,263.61   9,621,280.13   \n",
       "4   Medical                  Oman     817,409.11    253,460.58   1,070,869.70   \n",
       "..      ...                   ...            ...           ...            ...   \n",
       "65       CD               Medical  13,395,200.00 -1,619,199.96  11,776,000.05   \n",
       "66       CD              skincare           0.00          0.00           0.01   \n",
       "67       CD                 Equip           0.00          0.00           0.01   \n",
       "68       CD                 Total  13,395,200.00 -1,619,199.96  11,776,000.05   \n",
       "69    Total           Grand Total 179,067,760.27 89,096,780.44 268,164,540.72   \n",
       "\n",
       "           CY_CoS     CY_Margin     CY_Revenue         PY_CoS     PY_Margin  \\\n",
       "0   18,936,756.10 10,279,922.26  29,216,678.37  17,951,952.86 10,356,662.30   \n",
       "1   40,271,427.85 12,042,250.17  52,313,678.03  38,052,650.17 12,728,195.23   \n",
       "2   11,178,832.67  4,646,766.07  15,825,598.75  10,869,439.26  4,784,695.55   \n",
       "3    7,085,876.84    995,024.15   8,080,901.00   6,503,601.28  1,309,293.20   \n",
       "4      513,642.06    268,705.62     782,347.69     470,245.99    279,693.90   \n",
       "..            ...           ...            ...            ...           ...   \n",
       "65  27,059,558.04 -3,833,325.88  23,226,232.17  26,862,677.55 -3,673,542.25   \n",
       "66     205,958.00     30,654.70     236,612.71     212,388.90     39,732.31   \n",
       "67           0.00         -0.00           0.01     -90,278.80   -145,042.97   \n",
       "68  27,265,516.04 -3,802,671.17  23,462,844.88  26,984,787.65 -3,778,852.91   \n",
       "69 161,181,258.17 52,970,138.39 214,151,396.57 153,870,971.22 54,641,834.00   \n",
       "\n",
       "       PY_Revenue  CY_GP  PY_GP  BY_GP          New  \n",
       "0   28,308,615.17   0.35   0.37   0.35   hideRow001  \n",
       "1   50,780,845.42   0.23   0.25   0.32   hideRow001  \n",
       "2   15,654,134.82   0.29   0.31   0.28   hideRow001  \n",
       "3    7,812,894.49   0.12   0.17   0.12   hideRow001  \n",
       "4      749,939.90   0.34   0.37   0.24   hideRow001  \n",
       "..            ...    ...    ...    ...          ...  \n",
       "65  23,189,135.31  -0.17  -0.16  -0.14   hideRow001  \n",
       "66     252,121.22   0.13   0.16   0.00   hideRow001  \n",
       "67    -235,321.76  -0.00   0.62   0.00   hideRow001  \n",
       "68  23,205,934.75  -0.16  -0.16  -0.14           CD  \n",
       "69 208,512,805.23   0.25   0.26   0.33  Grand Total  \n",
       "\n",
       "[70 rows x 15 columns]"
      ]
     },
     "execution_count": 55,
     "metadata": {},
     "output_type": "execute_result"
    }
   ],
   "source": [
    "CombineVer"
   ]
  },
  {
   "cell_type": "markdown",
   "metadata": {},
   "source": [
    "<p style=\"font-size:1.5em; color:white; padding:5px 5px; border-bottom:3px solid #ffb701; background:#375d7a\"> \n",
    "Step 16 - Converting DataFrame into list </p>"
   ]
  },
  {
   "cell_type": "code",
   "execution_count": 51,
   "metadata": {},
   "outputs": [],
   "source": [
    "# for Vertical\n",
    "DataVer=[]\n",
    "for i in range(CombineVer.shape[0]):\n",
    "    temp=CombineVer.iloc[i]\n",
    "    DataVer.append(dict(temp))"
   ]
  },
  {
   "cell_type": "code",
   "execution_count": 52,
   "metadata": {},
   "outputs": [],
   "source": [
    "# for Country\n",
    "DataCou=[]\n",
    "for i in range(CombineCou.shape[0]):\n",
    "    temp=CombineCou.iloc[i]\n",
    "    DataCou.append(dict(temp))"
   ]
  },
  {
   "cell_type": "markdown",
   "metadata": {},
   "source": [
    "<p style=\"font-size:1.5em; color:white; padding:5px 5px; border-bottom:3px solid #ffb701; background:#375d7a\"> \n",
    "Step Add  - Save Dataframe in JSON files </p>"
   ]
  },
  {
   "cell_type": "code",
   "execution_count": 53,
   "metadata": {},
   "outputs": [],
   "source": [
    "CombineVer.to_json('SaleSummary.json', orient='records')"
   ]
  },
  {
   "cell_type": "code",
   "execution_count": null,
   "metadata": {},
   "outputs": [],
   "source": []
  },
  {
   "cell_type": "code",
   "execution_count": null,
   "metadata": {},
   "outputs": [],
   "source": []
  },
  {
   "cell_type": "code",
   "execution_count": null,
   "metadata": {},
   "outputs": [],
   "source": []
  },
  {
   "cell_type": "code",
   "execution_count": null,
   "metadata": {},
   "outputs": [],
   "source": []
  },
  {
   "cell_type": "code",
   "execution_count": null,
   "metadata": {},
   "outputs": [],
   "source": []
  }
 ],
 "metadata": {
  "kernelspec": {
   "display_name": "Python 3 (ipykernel)",
   "language": "python",
   "name": "python3"
  },
  "language_info": {
   "codemirror_mode": {
    "name": "ipython",
    "version": 3
   },
   "file_extension": ".py",
   "mimetype": "text/x-python",
   "name": "python",
   "nbconvert_exporter": "python",
   "pygments_lexer": "ipython3",
   "version": "3.9.12"
  }
 },
 "nbformat": 4,
 "nbformat_minor": 2
}
