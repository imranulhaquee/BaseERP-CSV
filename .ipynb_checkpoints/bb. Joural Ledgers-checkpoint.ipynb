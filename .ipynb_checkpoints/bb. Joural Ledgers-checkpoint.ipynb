{
 "cells": [
  {
   "cell_type": "markdown",
   "metadata": {},
   "source": [
    "<p style=\"font-family:Calibri; font-size:1.75em; color:white; padding:5px 5px; text-align: left; height:50px; border-bottom: 1px solid orange;\"></p>"
   ]
  },
  {
   "cell_type": "markdown",
   "metadata": {},
   "source": [
    "<p style=\"font-size:2.2em; color:white; padding:15px; border-bottom: 5px solid #ffb701; background:#143157; text-align:center;\"> \n",
    "    Journal Ledger  <br> \n",
    "    <span style=\"font-size:.55em; color: #11a1f5;\"> Journal Ledger </span>\n",
    "</p>"
   ]
  },
  {
   "cell_type": "code",
   "execution_count": 1,
   "metadata": {},
   "outputs": [],
   "source": [
    "import pandas as pd\n",
    "import numpy as np\n",
    "pd.options.display.float_format = '{:,.0f}'.format\n",
    "pd.set_option('display.max_columns', 85) # set Jupeter note book to dispay 85 columns"
   ]
  },
  {
   "cell_type": "code",
   "execution_count": 2,
   "metadata": {},
   "outputs": [],
   "source": [
    "import os\n",
    "import csv"
   ]
  },
  {
   "cell_type": "code",
   "execution_count": 3,
   "metadata": {},
   "outputs": [],
   "source": [
    "###---Get Year-------------------------------------\n",
    "#Year = \"2023\"\n",
    "dfStd = pd.read_csv('data/basInfo.csv')\n",
    "Year = str(dfStd.loc[0, 'year'])\n",
    "coFolder = str(dfStd.loc[0, 'coFolder'])"
   ]
  },
  {
   "cell_type": "markdown",
   "metadata": {},
   "source": [
    "<p style=\"font-family:Calibri; font-size:1.75em; color:white; padding:5px 5px; text-align: left; height:50px; border-bottom: 3px solid orange; margin:-7px 0px;\"></p>"
   ]
  },
  {
   "cell_type": "markdown",
   "metadata": {},
   "source": [
    "<p style=\"font-size:2.2em; padding:10px; border-bottom: 5px solid #ffb701; background:#143157;\n",
    "          text-align:center\"> \n",
    "    <span style=\"color: #fff;\"> Create Main-Folders  </span> <br>\n",
    "    <span style=\"font-size:.60em; color: #11a1f5;\"> \"C1_Gl\" </span>\n",
    "</p>\n"
   ]
  },
  {
   "cell_type": "code",
   "execution_count": 23,
   "metadata": {},
   "outputs": [],
   "source": [
    "mainFolder = \"Data/\" +coFolder+ \"/\" +Year+ \"/C1_Gl\"\n",
    "os.makedirs(mainFolder, mode=0o777, exist_ok=True)"
   ]
  },
  {
   "cell_type": "markdown",
   "metadata": {},
   "source": [
    "<p style=\"font-family:Calibri; font-size:1.75em; color:white; padding:5px 5px; text-align: left; height:50px; border-bottom: 3px solid orange; margin:-7px 0px;\"></p>"
   ]
  },
  {
   "cell_type": "markdown",
   "metadata": {},
   "source": [
    "<p style=\"font-size:2.2em; padding:10px; border-bottom: 5px solid #ffb701; background:#492863;\n",
    "          text-align:center\"> \n",
    "    <span style=\"color: #debef7;\"> Journals  </span> <br>\n",
    "</p>"
   ]
  },
  {
   "cell_type": "markdown",
   "metadata": {},
   "source": [
    "<p style=\"font-size:2em; padding:18px; border-bottom: 5px solid #ffb701; background:#143157;\"> \n",
    "    <span style=\"color: #fff;\"> Create Sub-Folder -  </span>\n",
    "    <span style=\"font-size:.75em; color: #11a1f5;\"> \"Journals\" </span>\n",
    "</p>"
   ]
  },
  {
   "cell_type": "code",
   "execution_count": 24,
   "metadata": {},
   "outputs": [],
   "source": [
    "subFolder = \"Data/\" +coFolder+ \"/\" +Year+ \"/C1_Gl/Journals\"\n",
    "os.makedirs(subFolder, mode=0o777, exist_ok=True)"
   ]
  },
  {
   "cell_type": "markdown",
   "metadata": {},
   "source": [
    "<p style=\"font-family:Calibri; font-size:1.2em; color:#061233; padding:2px 5px; margin: 5px 0 -7px 20px; border-bottom: 3px solid #0d1e4f; background: #f0f4ff\">  \n",
    "   <span style=\"font-size:1.2em; color:#384073;\" >1a. Customers</span>\n",
    "   <span style=\"font-size:1.2em; color:#821107;\" >customers.CSV</span>\n",
    "   <span style=\"font-size:1.2em; color:#384073;\" >file</span>\n",
    "</p>"
   ]
  },
  {
   "cell_type": "code",
   "execution_count": 26,
   "metadata": {},
   "outputs": [],
   "source": [
    "file_path = \"Data/\" +coFolder+ \"/\" +Year+ \"/C1_Gl/Journals/Journals.csv\"\n",
    "\n",
    "if not os.path.exists(file_path):\n",
    "    headers = ['Ref', 'Type', 'Date', 'accCode', 'accHead','Amount', 'Comm', 'traDate', 'action' ]\n",
    "    \n",
    "    with open(file_path, 'w', newline='') as csv_file:  #create fresh file each time\n",
    "        writer = csv.writer(csv_file); \n",
    "        writer.writerow(headers)"
   ]
  },
  {
   "cell_type": "markdown",
   "metadata": {},
   "source": [
    "<p style=\"font-family:Calibri; font-size:1.75em; color:white; padding:5px 5px; text-align: left; height:50px; border-bottom: 3px solid orange; margin:-7px 0px;\"></p>"
   ]
  },
  {
   "cell_type": "markdown",
   "metadata": {},
   "source": [
    "<p style=\"font-size:2.2em; padding:10px; border-bottom: 5px solid #ffb701; background:#492863;\n",
    "          text-align:center\"> \n",
    "    <span style=\"color: #debef7;\"> Journal Ledger </span> <br>\n",
    "</p>"
   ]
  },
  {
   "cell_type": "markdown",
   "metadata": {},
   "source": [
    "<p style=\"font-size:2.2em; padding:18px; border-bottom: 5px solid #ffb701; background:#143157;\"> \n",
    "    <span style=\"color: #fff;\">syncGenLeger -  </span>\n",
    "    <span style=\"font-size:.75em; color: #11a1f5;\"> Journal Ledger CSV File </span>\n",
    "</p>"
   ]
  },
  {
   "cell_type": "markdown",
   "metadata": {},
   "source": [
    "<p style=\"padding:5px; border-bottom:3px solid #6d79a1; background:#e9edf7; margin:5px 0 -7px 20px;\"> \n",
    "   <span style=\"font-size:1.4em; color:#202f61;\" >Step 1 - </span>\n",
    "   <span style=\"font-size:1.4em; color:#e39607;\">Get Company and Year - </span> \n",
    "   <span style=\"font-size:1.2em; color:#209ebd;\">to Load Data </span>\n",
    "</p> "
   ]
  },
  {
   "cell_type": "code",
   "execution_count": 70,
   "metadata": {},
   "outputs": [],
   "source": [
    "import pandas as pd\n",
    "import numpy as np\n",
    "pd.options.display.float_format = '{:,.0f}'.format\n",
    "#pd.set_option('display.float_format', '{:.0f}'.format)\n",
    "pd.set_option('display.max_columns', 85) # set Jupeter note book to dispay 85 columns\n",
    "dfStd = pd.read_csv('data/basInfo.csv')\n",
    "Year = str(dfStd.loc[0, 'year'])\n",
    "coFolder = str(dfStd.loc[0, 'coFolder'])"
   ]
  },
  {
   "cell_type": "markdown",
   "metadata": {},
   "source": [
    "<p style=\"padding:5px; border-bottom:3px solid #6d79a1; background:#e9edf7; margin:5px 0 -7px 20px;\"> \n",
    "   <span style=\"font-size:1.4em; color:#202f61;\" >Step 2 - </span>\n",
    "   <span style=\"font-size:1.4em; color:#e39607;\">Read Journals.csv - </span> \n",
    "   <span style=\"font-size:1.2em; color:#209ebd;\">to Refresh the data </span>\n",
    "</p> "
   ]
  },
  {
   "cell_type": "code",
   "execution_count": 71,
   "metadata": {},
   "outputs": [],
   "source": [
    "fPath = \"Data/\" +coFolder+ \"/\" +Year+ \"/C1_Gl/Journals/Journals.csv\"\n",
    "df = pd.read_csv(fPath, index_col=False, encoding='unicode_escape').fillna(0)"
   ]
  },
  {
   "cell_type": "code",
   "execution_count": 72,
   "metadata": {},
   "outputs": [],
   "source": [
    "df['unique'] = df['Ref'].astype(str)+ '-' +df['Type'].astype(str)+ '-' +df['accCode'].astype(str)"
   ]
  },
  {
   "cell_type": "code",
   "execution_count": 73,
   "metadata": {},
   "outputs": [],
   "source": [
    "### Remove Duplicate Quote and Deleted Record...\n",
    "ledger = df.drop_duplicates(subset=['unique'], keep='last')\n",
    "ledger = ledger.drop(ledger.loc[ledger['action']=='Deleted'].index)"
   ]
  },
  {
   "cell_type": "code",
   "execution_count": 74,
   "metadata": {},
   "outputs": [],
   "source": [
    "ledger = ledger.drop('unique', axis=1)"
   ]
  },
  {
   "cell_type": "code",
   "execution_count": 75,
   "metadata": {},
   "outputs": [],
   "source": [
    "### Save the data in qotBasic.csv File...\n",
    "fPath = \"Data/\" +coFolder+ \"/\" +Year+ \"/C1_Gl/Journals/Journals.csv\"\n",
    "ledger.to_csv(fPath, index=False)"
   ]
  },
  {
   "cell_type": "code",
   "execution_count": null,
   "metadata": {},
   "outputs": [],
   "source": []
  },
  {
   "cell_type": "markdown",
   "metadata": {},
   "source": [
    "<p style=\"font-size:2.2em; padding:18px; border-bottom: 5px solid #ffb701; background:#143157;\"> \n",
    "    <span style=\"color: #fff;\">Trial Balance -  </span>\n",
    "    <span style=\"font-size:.75em; color: #11a1f5;\"> To Extract Ledger </span>\n",
    "</p>"
   ]
  },
  {
   "cell_type": "markdown",
   "metadata": {},
   "source": [
    "<p style=\"padding:5px; border-bottom:3px solid #6d79a1; background:#e9edf7; margin:5px 0 -7px 20px;\"> \n",
    "   <span style=\"font-size:1.4em; color:#202f61;\" >Step 1 - </span>\n",
    "   <span style=\"font-size:1.4em; color:#e39607;\">Get Company and Year - </span> \n",
    "   <span style=\"font-size:1.2em; color:#209ebd;\">to Load Data </span>\n",
    "</p> "
   ]
  },
  {
   "cell_type": "code",
   "execution_count": 117,
   "metadata": {},
   "outputs": [],
   "source": [
    "import pandas as pd\n",
    "import numpy as np\n",
    "pd.options.display.float_format = '{:,.0f}'.format\n",
    "pd.set_option('display.max_columns', 85) # set Jupeter note book to dispay 85 columns\n",
    "dfStd = pd.read_csv('data/basInfo.csv')\n",
    "Year = str(dfStd.loc[0, 'year'])\n",
    "coFolder = str(dfStd.loc[0, 'coFolder'])"
   ]
  },
  {
   "cell_type": "markdown",
   "metadata": {},
   "source": [
    "<p style=\"padding:5px; border-bottom:3px solid #6d79a1; background:#e9edf7; margin:5px 0 -7px 20px;\"> \n",
    "   <span style=\"font-size:1.4em; color:#202f61;\" >Step 2 - </span>\n",
    "   <span style=\"font-size:1.4em; color:#e39607;\">Read Multiple Files - </span> \n",
    "   <span style=\"font-size:1.2em; color:#209ebd;\">to Create TB </span>\n",
    "</p> "
   ]
  },
  {
   "cell_type": "code",
   "execution_count": 118,
   "metadata": {},
   "outputs": [],
   "source": [
    "### Read Journals.csv to get the transaction detail...........................\n",
    "fPath = \"Data/\" +coFolder+ \"/\" +Year+ \"/C1_Gl/Journals/Journals.csv\"\n",
    "transaction = pd.read_csv(fPath, index_col=False, encoding='unicode_escape').fillna(0)"
   ]
  },
  {
   "cell_type": "code",
   "execution_count": 119,
   "metadata": {},
   "outputs": [],
   "source": [
    "### file doesn't recongnize date formate first convert into date and than strftime\n",
    "transaction['Date'] = pd.to_datetime(transaction['Date']).dt.strftime('%Y-%m-%d')\n",
    "transaction = transaction.sort_values(['Date'], ascending = [True])"
   ]
  },
  {
   "cell_type": "code",
   "execution_count": 121,
   "metadata": {},
   "outputs": [],
   "source": [
    "### Read mergeTB.csv to get to merge transactio with mergeTB...................\n",
    "fPath = \"Data/\" +coFolder+ \"/C1_Gl/mergeTB.csv\"\n",
    "mergeTB = pd.read_csv(fPath, index_col=False, encoding='unicode_escape').fillna(0)"
   ]
  },
  {
   "cell_type": "markdown",
   "metadata": {},
   "source": [
    "<p style=\"padding:5px; border-bottom:3px solid #6d79a1; background:#e9edf7; margin:5px 0 -7px 20px;\"> \n",
    "   <span style=\"font-size:1.4em; color:#202f61;\" >Step 3 - </span>\n",
    "   <span style=\"font-size:1.4em; color:#e39607;\">Create Pivot Table - </span> \n",
    "   <span style=\"font-size:1.2em; color:#209ebd;\">to Create TB</span>\n",
    "</p> "
   ]
  },
  {
   "cell_type": "code",
   "execution_count": 122,
   "metadata": {},
   "outputs": [],
   "source": [
    "pTransaction = pd.pivot_table(transaction,index=[\"accCode\",\"accHead\"],values=[\"Amount\"],aggfunc=[np.sum],fill_value=0)"
   ]
  },
  {
   "cell_type": "code",
   "execution_count": 123,
   "metadata": {},
   "outputs": [],
   "source": [
    "pTransaction.columns = pTransaction.columns.droplevel(0)\n",
    "pTransaction.reset_index(inplace=True)"
   ]
  },
  {
   "cell_type": "markdown",
   "metadata": {},
   "source": [
    "<p style=\"padding:5px; border-bottom:3px solid #6d79a1; background:#e9edf7; margin:5px 0 -7px 20px;\"> \n",
    "   <span style=\"font-size:1.4em; color:#202f61;\" >Step 4 - </span>\n",
    "   <span style=\"font-size:1.4em; color:#e39607;\">Merge pTransaction with mergeTB- </span> \n",
    "   <span style=\"font-size:1.2em; color:#209ebd;\">to Create TB</span>\n",
    "</p> "
   ]
  },
  {
   "cell_type": "code",
   "execution_count": 124,
   "metadata": {},
   "outputs": [],
   "source": [
    "merged_df = pTransaction.merge(mergeTB[['head', 'level1', 'level2', 'level3', 'level4']], left_on='accHead', right_on='head', how='left')\n",
    "merged_df = merged_df.drop('head', axis=1).fillna('')  # Drop the 'head' column from the merged DataFrame"
   ]
  },
  {
   "cell_type": "markdown",
   "metadata": {},
   "source": [
    "<p style=\"padding:5px; border-bottom:3px solid #6d79a1; background:#e9edf7; margin:5px 0 -7px 20px;\"> \n",
    "   <span style=\"font-size:1.4em; color:#202f61;\" >Step 5 - </span>\n",
    "   <span style=\"font-size:1.4em; color:#e39607;\">Create Pivot Table - </span> \n",
    "   <span style=\"font-size:1.2em; color:#209ebd;\">to Create TB</span>\n",
    "</p> "
   ]
  },
  {
   "cell_type": "code",
   "execution_count": 125,
   "metadata": {},
   "outputs": [],
   "source": [
    "final = pd.pivot_table(merged_df,index=[\"level4\",\"accHead\",\"accCode\"],values=[\"Amount\"],aggfunc=[np.sum],fill_value=0)"
   ]
  },
  {
   "cell_type": "code",
   "execution_count": 126,
   "metadata": {},
   "outputs": [],
   "source": [
    "final.columns = final.columns.droplevel(0)\n",
    "final.reset_index(inplace=True)"
   ]
  },
  {
   "cell_type": "code",
   "execution_count": 127,
   "metadata": {},
   "outputs": [],
   "source": [
    "finalGBy = final.groupby(['level4']).agg({'Amount': 'sum'}) \n",
    "finalGBy.loc['z. Grand Total'] = finalGBy.sum()\n",
    "finalGBy.reset_index(inplace=True)"
   ]
  },
  {
   "cell_type": "code",
   "execution_count": 128,
   "metadata": {},
   "outputs": [],
   "source": [
    "tbConcat = pd.concat([final, finalGBy])"
   ]
  },
  {
   "cell_type": "code",
   "execution_count": 129,
   "metadata": {},
   "outputs": [],
   "source": [
    "tbSort = tbConcat.sort_values(['level4','accHead'], ascending = [True,True], na_position ='last')"
   ]
  },
  {
   "cell_type": "code",
   "execution_count": 130,
   "metadata": {},
   "outputs": [],
   "source": [
    "tbSort['accHead'] = tbSort['accHead'].fillna('Total')"
   ]
  },
  {
   "cell_type": "code",
   "execution_count": 131,
   "metadata": {},
   "outputs": [],
   "source": [
    "### to Hide and Show----------------------------\n",
    "tbSort['Department'] = tbSort['level4']\n",
    "tbSort['Vertical'] = tbSort['level4']\n",
    "tbSort.loc[tbSort[\"accHead\"] != \"Total\", [\"Vertical\"]] = '---' #  rlSort[\"status\"]"
   ]
  },
  {
   "cell_type": "code",
   "execution_count": 132,
   "metadata": {},
   "outputs": [],
   "source": [
    "tbSort = tbSort.fillna('')"
   ]
  },
  {
   "cell_type": "markdown",
   "metadata": {},
   "source": [
    "<p style=\"font-size:2.2em; padding:18px; border-bottom: 5px solid #ffb701; background:#143157;\"> \n",
    "    <span style=\"color: #fff;\">Arangement of Trial Balance -  </span>\n",
    "    <span style=\"font-size:.75em; color: #11a1f5;\"> Extract from Different module and make it </span>\n",
    "</p>"
   ]
  },
  {
   "cell_type": "markdown",
   "metadata": {},
   "source": [
    "<p style=\"padding:5px; border-bottom:3px solid #6d79a1; background:#e9edf7; margin:5px 0 -7px 20px;\"> \n",
    "   <span style=\"font-size:1.4em; color:#202f61;\" >Step 1 - </span>\n",
    "   <span style=\"font-size:1.4em; color:#e39607;\">Get Company and Year - </span> \n",
    "   <span style=\"font-size:1.2em; color:#209ebd;\">to Load Data </span>\n",
    "</p> "
   ]
  },
  {
   "cell_type": "code",
   "execution_count": 13,
   "metadata": {},
   "outputs": [],
   "source": [
    "import pandas as pd\n",
    "import numpy as np\n",
    "pd.options.display.float_format = '{:,.0f}'.format\n",
    "pd.set_option('display.max_columns', 85) # set Jupeter note book to dispay 85 columns\n",
    "dfStd = pd.read_csv('data/basInfo.csv')\n",
    "Year = str(dfStd.loc[0, 'year'])\n",
    "coFolder = str(dfStd.loc[0, 'coFolder'])"
   ]
  },
  {
   "cell_type": "markdown",
   "metadata": {},
   "source": [
    "<p style=\"padding:5px; border-bottom:3px solid #6d79a1; background:#e9edf7; margin:5px 0 -7px 20px;\"> \n",
    "   <span style=\"font-size:1.4em; color:#202f61;\" >Step 2 - </span>\n",
    "   <span style=\"font-size:1.4em; color:#e39607;\">Read CustMaster.csv - </span> \n",
    "   <span style=\"font-size:1.2em; color:#209ebd;\">to Refresh the data </span>\n",
    "</p> "
   ]
  },
  {
   "cell_type": "code",
   "execution_count": 21,
   "metadata": {},
   "outputs": [],
   "source": [
    "req_cols = ['cusCode','cusName']\n",
    "fPath = \"Data/\" +coFolder+ \"/\" +Year+ \"/F1_Sales/Customers/CustMaster.csv\"\n",
    "customer = pd.read_csv(fPath, usecols=req_cols, index_col=False, encoding='unicode_escape').fillna(0)\n",
    "customer['level1'] = '1. Assets'\n",
    "customer['level2'] = '2. Current Assets'\n",
    "customer['level3'] = '3. Trade Receivables'\n",
    "customer['level4'] = 'Trade Receivables'"
   ]
  },
  {
   "cell_type": "code",
   "execution_count": 22,
   "metadata": {},
   "outputs": [],
   "source": [
    "customer = customer.rename(columns={'cusCode': 'code', 'cusName': 'head'})"
   ]
  },
  {
   "cell_type": "markdown",
   "metadata": {},
   "source": [
    "<p style=\"padding:5px; border-bottom:3px solid #6d79a1; background:#e9edf7; margin:5px 0 -7px 20px;\"> \n",
    "   <span style=\"font-size:1.4em; color:#202f61;\" >Step 2 - </span>\n",
    "   <span style=\"font-size:1.4em; color:#e39607;\">Read detailTB.csv - </span> \n",
    "   <span style=\"font-size:1.2em; color:#209ebd;\">to Refresh the data </span>\n",
    "</p> "
   ]
  },
  {
   "cell_type": "code",
   "execution_count": 23,
   "metadata": {},
   "outputs": [],
   "source": [
    "req_cols = ['code','head','level1','level2','level3','level4']\n",
    "fPath = \"Data/\" +coFolder+ \"/C1_Gl/detailTB.csv\"\n",
    "TB = pd.read_csv(fPath, usecols=req_cols, index_col=False, encoding='unicode_escape').fillna(0)"
   ]
  },
  {
   "cell_type": "code",
   "execution_count": 24,
   "metadata": {},
   "outputs": [],
   "source": [
    "mergTB = pd.concat([TB, customer])\n",
    "mergTB = mergTB.reset_index(drop=True) ### Reset the index of the merged DataFrame"
   ]
  },
  {
   "cell_type": "code",
   "execution_count": 26,
   "metadata": {},
   "outputs": [],
   "source": [
    "fPath = \"Data/\" +coFolder+ \"/C1_Gl/mergeTB.csv\"\n",
    "mergTB.to_csv(fPath, index=False)"
   ]
  },
  {
   "cell_type": "code",
   "execution_count": null,
   "metadata": {},
   "outputs": [],
   "source": []
  },
  {
   "cell_type": "markdown",
   "metadata": {},
   "source": [
    "<p style=\"font-size:2.2em; padding:18px; border-bottom: 5px solid #ffb701; background:#143157;\"> \n",
    "    <span style=\"color: #fff;\">Ledger -  </span>\n",
    "    <span style=\"font-size:.75em; color: #11a1f5;\"> General Ledger CSV File </span>\n",
    "</p>"
   ]
  },
  {
   "cell_type": "markdown",
   "metadata": {},
   "source": [
    "<p style=\"padding:5px; border-bottom:3px solid #6d79a1; background:#e9edf7; margin:5px 0 -7px 20px;\"> \n",
    "   <span style=\"font-size:1.4em; color:#202f61;\" >Step 1 - </span>\n",
    "   <span style=\"font-size:1.4em; color:#e39607;\">Get Company and Year - </span> \n",
    "   <span style=\"font-size:1.2em; color:#209ebd;\">to Load Data </span>\n",
    "</p> "
   ]
  },
  {
   "cell_type": "code",
   "execution_count": 85,
   "metadata": {},
   "outputs": [],
   "source": [
    "import pandas as pd\n",
    "import numpy as np\n",
    "pd.options.display.float_format = '{:,.0f}'.format\n",
    "#pd.set_option('display.float_format', '{:.0f}'.format)\n",
    "pd.set_option('display.max_columns', 85) # set Jupeter note book to dispay 85 columns\n",
    "dfStd = pd.read_csv('data/basInfo.csv')\n",
    "Year = str(dfStd.loc[0, 'year'])\n",
    "coFolder = str(dfStd.loc[0, 'coFolder'])"
   ]
  },
  {
   "cell_type": "markdown",
   "metadata": {},
   "source": [
    "<p style=\"padding:5px; border-bottom:3px solid #6d79a1; background:#e9edf7; margin:5px 0 -7px 20px;\"> \n",
    "   <span style=\"font-size:1.4em; color:#202f61;\" >Step 2 - </span>\n",
    "   <span style=\"font-size:1.4em; color:#e39607;\">Read dlBasic.csv - </span> \n",
    "   <span style=\"font-size:1.2em; color:#209ebd;\">to Get the last Delivery Number </span>\n",
    "</p> "
   ]
  },
  {
   "cell_type": "code",
   "execution_count": 133,
   "metadata": {},
   "outputs": [],
   "source": [
    "fPath = \"Data/\" +coFolder+ \"/\" +Year+ \"/C1_Gl/Journals/Journals.csv\"\n",
    "df = pd.read_csv(fPath, index_col=False, encoding='unicode_escape').fillna(0)"
   ]
  },
  {
   "cell_type": "code",
   "execution_count": 134,
   "metadata": {},
   "outputs": [
    {
     "data": {
      "text/html": [
       "<div>\n",
       "<style scoped>\n",
       "    .dataframe tbody tr th:only-of-type {\n",
       "        vertical-align: middle;\n",
       "    }\n",
       "\n",
       "    .dataframe tbody tr th {\n",
       "        vertical-align: top;\n",
       "    }\n",
       "\n",
       "    .dataframe thead th {\n",
       "        text-align: right;\n",
       "    }\n",
       "</style>\n",
       "<table border=\"1\" class=\"dataframe\">\n",
       "  <thead>\n",
       "    <tr style=\"text-align: right;\">\n",
       "      <th></th>\n",
       "      <th>Ref</th>\n",
       "      <th>Type</th>\n",
       "      <th>Date</th>\n",
       "      <th>accCode</th>\n",
       "      <th>accHead</th>\n",
       "      <th>Amount</th>\n",
       "      <th>Comm</th>\n",
       "      <th>traDate</th>\n",
       "      <th>action</th>\n",
       "    </tr>\n",
       "  </thead>\n",
       "  <tbody>\n",
       "    <tr>\n",
       "      <th>0</th>\n",
       "      <td>2300001</td>\n",
       "      <td>dl</td>\n",
       "      <td>1/30/2023</td>\n",
       "      <td>60110001</td>\n",
       "      <td>Cogs1</td>\n",
       "      <td>3900</td>\n",
       "      <td>SVTA Radio Hand Pice 1 to Spaces Spa Center</td>\n",
       "      <td>2023-5-29 21-39-54</td>\n",
       "      <td></td>\n",
       "    </tr>\n",
       "    <tr>\n",
       "      <th>1</th>\n",
       "      <td>2300001</td>\n",
       "      <td>dl</td>\n",
       "      <td>1/30/2023</td>\n",
       "      <td>37000001</td>\n",
       "      <td>Inventory at Cost</td>\n",
       "      <td>-3900</td>\n",
       "      <td>SVTA Radio Hand Pice 1 to Spaces Spa Center</td>\n",
       "      <td>2023-5-29 21-39-54</td>\n",
       "      <td></td>\n",
       "    </tr>\n",
       "    <tr>\n",
       "      <th>2</th>\n",
       "      <td>2300002</td>\n",
       "      <td>dl</td>\n",
       "      <td>1/18/2023</td>\n",
       "      <td>60110001</td>\n",
       "      <td>Cogs1</td>\n",
       "      <td>36725</td>\n",
       "      <td>Microneedling RF and RF Fractional Laser to Al...</td>\n",
       "      <td>2023-5-29 21-40-11</td>\n",
       "      <td></td>\n",
       "    </tr>\n",
       "    <tr>\n",
       "      <th>3</th>\n",
       "      <td>2300002</td>\n",
       "      <td>dl</td>\n",
       "      <td>1/18/2023</td>\n",
       "      <td>37000001</td>\n",
       "      <td>Inventory at Cost</td>\n",
       "      <td>-36725</td>\n",
       "      <td>Microneedling RF and RF Fractional Laser to Al...</td>\n",
       "      <td>2023-5-29 21-40-11</td>\n",
       "      <td></td>\n",
       "    </tr>\n",
       "    <tr>\n",
       "      <th>4</th>\n",
       "      <td>2300003</td>\n",
       "      <td>dl</td>\n",
       "      <td>1/23/2023</td>\n",
       "      <td>60110001</td>\n",
       "      <td>Cogs1</td>\n",
       "      <td>25850</td>\n",
       "      <td>Microneedling RF and HandPiece to Women's Medi...</td>\n",
       "      <td>2023-5-29 21-40-26</td>\n",
       "      <td></td>\n",
       "    </tr>\n",
       "    <tr>\n",
       "      <th>...</th>\n",
       "      <td>...</td>\n",
       "      <td>...</td>\n",
       "      <td>...</td>\n",
       "      <td>...</td>\n",
       "      <td>...</td>\n",
       "      <td>...</td>\n",
       "      <td>...</td>\n",
       "      <td>...</td>\n",
       "      <td>...</td>\n",
       "    </tr>\n",
       "    <tr>\n",
       "      <th>1331</th>\n",
       "      <td>2300265</td>\n",
       "      <td>si</td>\n",
       "      <td>2023-12-31</td>\n",
       "      <td>44280001</td>\n",
       "      <td>VAT Output Tax Payable</td>\n",
       "      <td>-550</td>\n",
       "      <td>khalidiya street,</td>\n",
       "      <td>2023-6-3 13-47-7</td>\n",
       "      <td>0</td>\n",
       "    </tr>\n",
       "    <tr>\n",
       "      <th>1332</th>\n",
       "      <td>2300265</td>\n",
       "      <td>si</td>\n",
       "      <td>2023-12-31</td>\n",
       "      <td>70120001</td>\n",
       "      <td>Credit Sales</td>\n",
       "      <td>-11000</td>\n",
       "      <td>khalidiya street,</td>\n",
       "      <td>2023-6-3 13-47-7</td>\n",
       "      <td>0</td>\n",
       "    </tr>\n",
       "    <tr>\n",
       "      <th>1333</th>\n",
       "      <td>2300266</td>\n",
       "      <td>si</td>\n",
       "      <td>2023-12-21</td>\n",
       "      <td>22311852</td>\n",
       "      <td>Zaki Ladies Salon</td>\n",
       "      <td>12359</td>\n",
       "      <td>Dubai Resort Shop 2, Anatara, The Palm</td>\n",
       "      <td>2023-6-3 13-47-23</td>\n",
       "      <td>0</td>\n",
       "    </tr>\n",
       "    <tr>\n",
       "      <th>1334</th>\n",
       "      <td>2300266</td>\n",
       "      <td>si</td>\n",
       "      <td>2023-12-21</td>\n",
       "      <td>44280001</td>\n",
       "      <td>VAT Output Tax Payable</td>\n",
       "      <td>-589</td>\n",
       "      <td>Dubai Resort Shop 2, Anatara, The Palm</td>\n",
       "      <td>2023-6-3 13-47-23</td>\n",
       "      <td>0</td>\n",
       "    </tr>\n",
       "    <tr>\n",
       "      <th>1335</th>\n",
       "      <td>2300266</td>\n",
       "      <td>si</td>\n",
       "      <td>2023-12-21</td>\n",
       "      <td>70120001</td>\n",
       "      <td>Credit Sales</td>\n",
       "      <td>-11770</td>\n",
       "      <td>Dubai Resort Shop 2, Anatara, The Palm</td>\n",
       "      <td>2023-6-3 13-47-23</td>\n",
       "      <td>0</td>\n",
       "    </tr>\n",
       "  </tbody>\n",
       "</table>\n",
       "<p>1336 rows × 9 columns</p>\n",
       "</div>"
      ],
      "text/plain": [
       "          Ref Type        Date   accCode                 accHead  Amount  \\\n",
       "0     2300001   dl   1/30/2023  60110001                   Cogs1    3900   \n",
       "1     2300001   dl   1/30/2023  37000001       Inventory at Cost   -3900   \n",
       "2     2300002   dl   1/18/2023  60110001                   Cogs1   36725   \n",
       "3     2300002   dl   1/18/2023  37000001       Inventory at Cost  -36725   \n",
       "4     2300003   dl   1/23/2023  60110001                   Cogs1   25850   \n",
       "...       ...  ...         ...       ...                     ...     ...   \n",
       "1331  2300265   si  2023-12-31  44280001  VAT Output Tax Payable    -550   \n",
       "1332  2300265   si  2023-12-31  70120001            Credit Sales  -11000   \n",
       "1333  2300266   si  2023-12-21  22311852       Zaki Ladies Salon   12359   \n",
       "1334  2300266   si  2023-12-21  44280001  VAT Output Tax Payable    -589   \n",
       "1335  2300266   si  2023-12-21  70120001            Credit Sales  -11770   \n",
       "\n",
       "                                                   Comm             traDate  \\\n",
       "0           SVTA Radio Hand Pice 1 to Spaces Spa Center  2023-5-29 21-39-54   \n",
       "1           SVTA Radio Hand Pice 1 to Spaces Spa Center  2023-5-29 21-39-54   \n",
       "2     Microneedling RF and RF Fractional Laser to Al...  2023-5-29 21-40-11   \n",
       "3     Microneedling RF and RF Fractional Laser to Al...  2023-5-29 21-40-11   \n",
       "4     Microneedling RF and HandPiece to Women's Medi...  2023-5-29 21-40-26   \n",
       "...                                                 ...                 ...   \n",
       "1331                                  khalidiya street,    2023-6-3 13-47-7   \n",
       "1332                                  khalidiya street,    2023-6-3 13-47-7   \n",
       "1333             Dubai Resort Shop 2, Anatara, The Palm   2023-6-3 13-47-23   \n",
       "1334             Dubai Resort Shop 2, Anatara, The Palm   2023-6-3 13-47-23   \n",
       "1335             Dubai Resort Shop 2, Anatara, The Palm   2023-6-3 13-47-23   \n",
       "\n",
       "     action  \n",
       "0            \n",
       "1            \n",
       "2            \n",
       "3            \n",
       "4            \n",
       "...     ...  \n",
       "1331      0  \n",
       "1332      0  \n",
       "1333      0  \n",
       "1334      0  \n",
       "1335      0  \n",
       "\n",
       "[1336 rows x 9 columns]"
      ]
     },
     "execution_count": 134,
     "metadata": {},
     "output_type": "execute_result"
    }
   ],
   "source": [
    "df"
   ]
  },
  {
   "cell_type": "code",
   "execution_count": 143,
   "metadata": {},
   "outputs": [],
   "source": [
    "### file doesn't recongnize date formate first convert into date and than strftime\n",
    "df['Date'] = pd.to_datetime(df['Date']).dt.strftime('%Y-%m-%d')\n",
    "df = df.sort_values(['Date'], ascending = [True])"
   ]
  },
  {
   "cell_type": "code",
   "execution_count": 144,
   "metadata": {},
   "outputs": [
    {
     "data": {
      "text/html": [
       "<div>\n",
       "<style scoped>\n",
       "    .dataframe tbody tr th:only-of-type {\n",
       "        vertical-align: middle;\n",
       "    }\n",
       "\n",
       "    .dataframe tbody tr th {\n",
       "        vertical-align: top;\n",
       "    }\n",
       "\n",
       "    .dataframe thead th {\n",
       "        text-align: right;\n",
       "    }\n",
       "</style>\n",
       "<table border=\"1\" class=\"dataframe\">\n",
       "  <thead>\n",
       "    <tr style=\"text-align: right;\">\n",
       "      <th></th>\n",
       "      <th>Ref</th>\n",
       "      <th>Type</th>\n",
       "      <th>Date</th>\n",
       "      <th>accCode</th>\n",
       "      <th>accHead</th>\n",
       "      <th>Amount</th>\n",
       "      <th>Comm</th>\n",
       "      <th>traDate</th>\n",
       "      <th>action</th>\n",
       "    </tr>\n",
       "  </thead>\n",
       "  <tbody>\n",
       "    <tr>\n",
       "      <th>2</th>\n",
       "      <td>2300002</td>\n",
       "      <td>dl</td>\n",
       "      <td>2023-01-18</td>\n",
       "      <td>60110001</td>\n",
       "      <td>Cogs1</td>\n",
       "      <td>36725</td>\n",
       "      <td>Microneedling RF and RF Fractional Laser to Al...</td>\n",
       "      <td>2023-5-29 21-40-11</td>\n",
       "      <td></td>\n",
       "    </tr>\n",
       "    <tr>\n",
       "      <th>3</th>\n",
       "      <td>2300002</td>\n",
       "      <td>dl</td>\n",
       "      <td>2023-01-18</td>\n",
       "      <td>37000001</td>\n",
       "      <td>Inventory at Cost</td>\n",
       "      <td>-36725</td>\n",
       "      <td>Microneedling RF and RF Fractional Laser to Al...</td>\n",
       "      <td>2023-5-29 21-40-11</td>\n",
       "      <td></td>\n",
       "    </tr>\n",
       "    <tr>\n",
       "      <th>217</th>\n",
       "      <td>2300004</td>\n",
       "      <td>si</td>\n",
       "      <td>2023-01-19</td>\n",
       "      <td>70120001</td>\n",
       "      <td>Credit Sales</td>\n",
       "      <td>-45400</td>\n",
       "      <td>Microneedling RF and RF Fractional Laser to Al...</td>\n",
       "      <td>2023-5-29 22-28-39</td>\n",
       "      <td>0</td>\n",
       "    </tr>\n",
       "    <tr>\n",
       "      <th>215</th>\n",
       "      <td>2300004</td>\n",
       "      <td>si</td>\n",
       "      <td>2023-01-19</td>\n",
       "      <td>22310029</td>\n",
       "      <td>Al Jameya Pharmacy</td>\n",
       "      <td>47670</td>\n",
       "      <td>Microneedling RF and RF Fractional Laser to Al...</td>\n",
       "      <td>2023-5-29 22-28-39</td>\n",
       "      <td>0</td>\n",
       "    </tr>\n",
       "    <tr>\n",
       "      <th>216</th>\n",
       "      <td>2300004</td>\n",
       "      <td>si</td>\n",
       "      <td>2023-01-19</td>\n",
       "      <td>44280001</td>\n",
       "      <td>VAT Output Tax Payable</td>\n",
       "      <td>-2270</td>\n",
       "      <td>Microneedling RF and RF Fractional Laser to Al...</td>\n",
       "      <td>2023-5-29 22-28-39</td>\n",
       "      <td>0</td>\n",
       "    </tr>\n",
       "    <tr>\n",
       "      <th>...</th>\n",
       "      <td>...</td>\n",
       "      <td>...</td>\n",
       "      <td>...</td>\n",
       "      <td>...</td>\n",
       "      <td>...</td>\n",
       "      <td>...</td>\n",
       "      <td>...</td>\n",
       "      <td>...</td>\n",
       "      <td>...</td>\n",
       "    </tr>\n",
       "    <tr>\n",
       "      <th>1291</th>\n",
       "      <td>2300252</td>\n",
       "      <td>si</td>\n",
       "      <td>2023-12-31</td>\n",
       "      <td>22311134</td>\n",
       "      <td>Al Dar Medical Center</td>\n",
       "      <td>174300</td>\n",
       "      <td>FujirahkhorfkanCornish area</td>\n",
       "      <td>2023-6-3 13-44-25</td>\n",
       "      <td>0</td>\n",
       "    </tr>\n",
       "    <tr>\n",
       "      <th>1292</th>\n",
       "      <td>2300252</td>\n",
       "      <td>si</td>\n",
       "      <td>2023-12-31</td>\n",
       "      <td>44280001</td>\n",
       "      <td>VAT Output Tax Payable</td>\n",
       "      <td>-8300</td>\n",
       "      <td>FujirahkhorfkanCornish area</td>\n",
       "      <td>2023-6-3 13-44-25</td>\n",
       "      <td>0</td>\n",
       "    </tr>\n",
       "    <tr>\n",
       "      <th>1293</th>\n",
       "      <td>2300252</td>\n",
       "      <td>si</td>\n",
       "      <td>2023-12-31</td>\n",
       "      <td>70120001</td>\n",
       "      <td>Credit Sales</td>\n",
       "      <td>-166000</td>\n",
       "      <td>FujirahkhorfkanCornish area</td>\n",
       "      <td>2023-6-3 13-44-25</td>\n",
       "      <td>0</td>\n",
       "    </tr>\n",
       "    <tr>\n",
       "      <th>652</th>\n",
       "      <td>2300252</td>\n",
       "      <td>dl</td>\n",
       "      <td>2023-12-31</td>\n",
       "      <td>37000001</td>\n",
       "      <td>Inventory at Cost</td>\n",
       "      <td>-136000</td>\n",
       "      <td>FujirahkhorfkanCornish area</td>\n",
       "      <td>2023-6-3 3-57-48</td>\n",
       "      <td></td>\n",
       "    </tr>\n",
       "    <tr>\n",
       "      <th>1258</th>\n",
       "      <td>2300241</td>\n",
       "      <td>si</td>\n",
       "      <td>2023-12-31</td>\n",
       "      <td>22310789</td>\n",
       "      <td>Al Sharq Hospital</td>\n",
       "      <td>61950</td>\n",
       "      <td>Fujairah United Arab Emirates</td>\n",
       "      <td>2023-6-3 13-42-19</td>\n",
       "      <td>0</td>\n",
       "    </tr>\n",
       "  </tbody>\n",
       "</table>\n",
       "<p>1336 rows × 9 columns</p>\n",
       "</div>"
      ],
      "text/plain": [
       "          Ref Type        Date   accCode                 accHead  Amount  \\\n",
       "2     2300002   dl  2023-01-18  60110001                   Cogs1   36725   \n",
       "3     2300002   dl  2023-01-18  37000001       Inventory at Cost  -36725   \n",
       "217   2300004   si  2023-01-19  70120001            Credit Sales  -45400   \n",
       "215   2300004   si  2023-01-19  22310029      Al Jameya Pharmacy   47670   \n",
       "216   2300004   si  2023-01-19  44280001  VAT Output Tax Payable   -2270   \n",
       "...       ...  ...         ...       ...                     ...     ...   \n",
       "1291  2300252   si  2023-12-31  22311134   Al Dar Medical Center  174300   \n",
       "1292  2300252   si  2023-12-31  44280001  VAT Output Tax Payable   -8300   \n",
       "1293  2300252   si  2023-12-31  70120001            Credit Sales -166000   \n",
       "652   2300252   dl  2023-12-31  37000001       Inventory at Cost -136000   \n",
       "1258  2300241   si  2023-12-31  22310789       Al Sharq Hospital   61950   \n",
       "\n",
       "                                                   Comm             traDate  \\\n",
       "2     Microneedling RF and RF Fractional Laser to Al...  2023-5-29 21-40-11   \n",
       "3     Microneedling RF and RF Fractional Laser to Al...  2023-5-29 21-40-11   \n",
       "217   Microneedling RF and RF Fractional Laser to Al...  2023-5-29 22-28-39   \n",
       "215   Microneedling RF and RF Fractional Laser to Al...  2023-5-29 22-28-39   \n",
       "216   Microneedling RF and RF Fractional Laser to Al...  2023-5-29 22-28-39   \n",
       "...                                                 ...                 ...   \n",
       "1291                        FujirahkhorfkanCornish area   2023-6-3 13-44-25   \n",
       "1292                        FujirahkhorfkanCornish area   2023-6-3 13-44-25   \n",
       "1293                        FujirahkhorfkanCornish area   2023-6-3 13-44-25   \n",
       "652                         FujirahkhorfkanCornish area    2023-6-3 3-57-48   \n",
       "1258                      Fujairah United Arab Emirates   2023-6-3 13-42-19   \n",
       "\n",
       "     action  \n",
       "2            \n",
       "3            \n",
       "217       0  \n",
       "215       0  \n",
       "216       0  \n",
       "...     ...  \n",
       "1291      0  \n",
       "1292      0  \n",
       "1293      0  \n",
       "652          \n",
       "1258      0  \n",
       "\n",
       "[1336 rows x 9 columns]"
      ]
     },
     "execution_count": 144,
     "metadata": {},
     "output_type": "execute_result"
    }
   ],
   "source": [
    "df"
   ]
  },
  {
   "cell_type": "code",
   "execution_count": 140,
   "metadata": {},
   "outputs": [],
   "source": [
    "pk = 60110001\n",
    "dfA  = df[df['accCode'] == pk].fillna(0) ### Filter data as per 'pk' selected quote"
   ]
  },
  {
   "cell_type": "code",
   "execution_count": 141,
   "metadata": {},
   "outputs": [
    {
     "data": {
      "text/html": [
       "<div>\n",
       "<style scoped>\n",
       "    .dataframe tbody tr th:only-of-type {\n",
       "        vertical-align: middle;\n",
       "    }\n",
       "\n",
       "    .dataframe tbody tr th {\n",
       "        vertical-align: top;\n",
       "    }\n",
       "\n",
       "    .dataframe thead th {\n",
       "        text-align: right;\n",
       "    }\n",
       "</style>\n",
       "<table border=\"1\" class=\"dataframe\">\n",
       "  <thead>\n",
       "    <tr style=\"text-align: right;\">\n",
       "      <th></th>\n",
       "      <th>Ref</th>\n",
       "      <th>Type</th>\n",
       "      <th>Date</th>\n",
       "      <th>accCode</th>\n",
       "      <th>accHead</th>\n",
       "      <th>Amount</th>\n",
       "      <th>Comm</th>\n",
       "      <th>traDate</th>\n",
       "      <th>action</th>\n",
       "    </tr>\n",
       "  </thead>\n",
       "  <tbody>\n",
       "    <tr>\n",
       "      <th>0</th>\n",
       "      <td>2300001</td>\n",
       "      <td>dl</td>\n",
       "      <td>2023-01-30</td>\n",
       "      <td>60110001</td>\n",
       "      <td>Cogs1</td>\n",
       "      <td>3900</td>\n",
       "      <td>SVTA Radio Hand Pice 1 to Spaces Spa Center</td>\n",
       "      <td>2023-5-29 21-39-54</td>\n",
       "      <td></td>\n",
       "    </tr>\n",
       "    <tr>\n",
       "      <th>2</th>\n",
       "      <td>2300002</td>\n",
       "      <td>dl</td>\n",
       "      <td>2023-01-18</td>\n",
       "      <td>60110001</td>\n",
       "      <td>Cogs1</td>\n",
       "      <td>36725</td>\n",
       "      <td>Microneedling RF and RF Fractional Laser to Al...</td>\n",
       "      <td>2023-5-29 21-40-11</td>\n",
       "      <td></td>\n",
       "    </tr>\n",
       "    <tr>\n",
       "      <th>4</th>\n",
       "      <td>2300003</td>\n",
       "      <td>dl</td>\n",
       "      <td>2023-01-23</td>\n",
       "      <td>60110001</td>\n",
       "      <td>Cogs1</td>\n",
       "      <td>25850</td>\n",
       "      <td>Microneedling RF and HandPiece to Women's Medi...</td>\n",
       "      <td>2023-5-29 21-40-26</td>\n",
       "      <td></td>\n",
       "    </tr>\n",
       "    <tr>\n",
       "      <th>6</th>\n",
       "      <td>2300004</td>\n",
       "      <td>dl</td>\n",
       "      <td>2023-01-28</td>\n",
       "      <td>60110001</td>\n",
       "      <td>Cogs1</td>\n",
       "      <td>64000</td>\n",
       "      <td>RF Fractional CO2 Laser and Handpiece to Al No...</td>\n",
       "      <td>2023-5-29 21-40-46</td>\n",
       "      <td></td>\n",
       "    </tr>\n",
       "    <tr>\n",
       "      <th>8</th>\n",
       "      <td>2300005</td>\n",
       "      <td>dl</td>\n",
       "      <td>2023-02-16</td>\n",
       "      <td>60110001</td>\n",
       "      <td>Cogs1</td>\n",
       "      <td>5500</td>\n",
       "      <td>SVTA Radio Hand Pice 3 &amp; 4</td>\n",
       "      <td>2023-5-29 21-41-3</td>\n",
       "      <td></td>\n",
       "    </tr>\n",
       "    <tr>\n",
       "      <th>...</th>\n",
       "      <td>...</td>\n",
       "      <td>...</td>\n",
       "      <td>...</td>\n",
       "      <td>...</td>\n",
       "      <td>...</td>\n",
       "      <td>...</td>\n",
       "      <td>...</td>\n",
       "      <td>...</td>\n",
       "      <td>...</td>\n",
       "    </tr>\n",
       "    <tr>\n",
       "      <th>675</th>\n",
       "      <td>2300264</td>\n",
       "      <td>dl</td>\n",
       "      <td>2023-11-28</td>\n",
       "      <td>60110001</td>\n",
       "      <td>Cogs1</td>\n",
       "      <td>59000</td>\n",
       "      <td>Mall of Emirates bridge turn left towards Lulu...</td>\n",
       "      <td>2023-6-3 4-2-11</td>\n",
       "      <td></td>\n",
       "    </tr>\n",
       "    <tr>\n",
       "      <th>677</th>\n",
       "      <td>2300265</td>\n",
       "      <td>dl</td>\n",
       "      <td>2023-12-27</td>\n",
       "      <td>60110001</td>\n",
       "      <td>Cogs1</td>\n",
       "      <td>13500</td>\n",
       "      <td>Al Hamrain Center Dubai United Arab Emirates</td>\n",
       "      <td>2023-6-3 4-2-41</td>\n",
       "      <td></td>\n",
       "    </tr>\n",
       "    <tr>\n",
       "      <th>679</th>\n",
       "      <td>2300266</td>\n",
       "      <td>dl</td>\n",
       "      <td>2023-12-30</td>\n",
       "      <td>60110001</td>\n",
       "      <td>Cogs1</td>\n",
       "      <td>8100</td>\n",
       "      <td>khalidiya street,</td>\n",
       "      <td>2023-6-3 4-3-8</td>\n",
       "      <td></td>\n",
       "    </tr>\n",
       "    <tr>\n",
       "      <th>681</th>\n",
       "      <td>2300267</td>\n",
       "      <td>dl</td>\n",
       "      <td>2023-12-20</td>\n",
       "      <td>60110001</td>\n",
       "      <td>Cogs1</td>\n",
       "      <td>9400</td>\n",
       "      <td>Dubai Resort Shop 2, Anatara, The Palm</td>\n",
       "      <td>2023-6-3 4-3-27</td>\n",
       "      <td></td>\n",
       "    </tr>\n",
       "    <tr>\n",
       "      <th>683</th>\n",
       "      <td>2300268</td>\n",
       "      <td>dl</td>\n",
       "      <td>2023-12-23</td>\n",
       "      <td>60110001</td>\n",
       "      <td>Cogs1</td>\n",
       "      <td>26000</td>\n",
       "      <td>Villa 813, Jumeirah Beach Road,</td>\n",
       "      <td>2023-6-3 4-4-7</td>\n",
       "      <td></td>\n",
       "    </tr>\n",
       "  </tbody>\n",
       "</table>\n",
       "<p>269 rows × 9 columns</p>\n",
       "</div>"
      ],
      "text/plain": [
       "         Ref Type        Date   accCode accHead  Amount  \\\n",
       "0    2300001   dl  2023-01-30  60110001   Cogs1    3900   \n",
       "2    2300002   dl  2023-01-18  60110001   Cogs1   36725   \n",
       "4    2300003   dl  2023-01-23  60110001   Cogs1   25850   \n",
       "6    2300004   dl  2023-01-28  60110001   Cogs1   64000   \n",
       "8    2300005   dl  2023-02-16  60110001   Cogs1    5500   \n",
       "..       ...  ...         ...       ...     ...     ...   \n",
       "675  2300264   dl  2023-11-28  60110001   Cogs1   59000   \n",
       "677  2300265   dl  2023-12-27  60110001   Cogs1   13500   \n",
       "679  2300266   dl  2023-12-30  60110001   Cogs1    8100   \n",
       "681  2300267   dl  2023-12-20  60110001   Cogs1    9400   \n",
       "683  2300268   dl  2023-12-23  60110001   Cogs1   26000   \n",
       "\n",
       "                                                  Comm             traDate  \\\n",
       "0          SVTA Radio Hand Pice 1 to Spaces Spa Center  2023-5-29 21-39-54   \n",
       "2    Microneedling RF and RF Fractional Laser to Al...  2023-5-29 21-40-11   \n",
       "4    Microneedling RF and HandPiece to Women's Medi...  2023-5-29 21-40-26   \n",
       "6    RF Fractional CO2 Laser and Handpiece to Al No...  2023-5-29 21-40-46   \n",
       "8                           SVTA Radio Hand Pice 3 & 4   2023-5-29 21-41-3   \n",
       "..                                                 ...                 ...   \n",
       "675  Mall of Emirates bridge turn left towards Lulu...     2023-6-3 4-2-11   \n",
       "677       Al Hamrain Center Dubai United Arab Emirates     2023-6-3 4-2-41   \n",
       "679                                  khalidiya street,      2023-6-3 4-3-8   \n",
       "681             Dubai Resort Shop 2, Anatara, The Palm     2023-6-3 4-3-27   \n",
       "683                    Villa 813, Jumeirah Beach Road,      2023-6-3 4-4-7   \n",
       "\n",
       "    action  \n",
       "0           \n",
       "2           \n",
       "4           \n",
       "6           \n",
       "8           \n",
       "..     ...  \n",
       "675         \n",
       "677         \n",
       "679         \n",
       "681         \n",
       "683         \n",
       "\n",
       "[269 rows x 9 columns]"
      ]
     },
     "execution_count": 141,
     "metadata": {},
     "output_type": "execute_result"
    }
   ],
   "source": [
    "dfA"
   ]
  },
  {
   "cell_type": "code",
   "execution_count": 138,
   "metadata": {},
   "outputs": [],
   "source": [
    "ledgerA = dfA[['Date','accCode','accHead','Ref','Type','Amount','Comm']]"
   ]
  },
  {
   "cell_type": "code",
   "execution_count": 83,
   "metadata": {},
   "outputs": [],
   "source": [
    "ledgerB = ledgerA.copy()"
   ]
  },
  {
   "cell_type": "code",
   "execution_count": 84,
   "metadata": {},
   "outputs": [
    {
     "data": {
      "text/html": [
       "<div>\n",
       "<style scoped>\n",
       "    .dataframe tbody tr th:only-of-type {\n",
       "        vertical-align: middle;\n",
       "    }\n",
       "\n",
       "    .dataframe tbody tr th {\n",
       "        vertical-align: top;\n",
       "    }\n",
       "\n",
       "    .dataframe thead th {\n",
       "        text-align: right;\n",
       "    }\n",
       "</style>\n",
       "<table border=\"1\" class=\"dataframe\">\n",
       "  <thead>\n",
       "    <tr style=\"text-align: right;\">\n",
       "      <th></th>\n",
       "      <th>Date</th>\n",
       "      <th>accCode</th>\n",
       "      <th>accHead</th>\n",
       "      <th>Ref</th>\n",
       "      <th>Type</th>\n",
       "      <th>Amount</th>\n",
       "      <th>Balance</th>\n",
       "    </tr>\n",
       "  </thead>\n",
       "  <tbody>\n",
       "    <tr>\n",
       "      <th>296</th>\n",
       "      <td>2023-02-03</td>\n",
       "      <td>22310280</td>\n",
       "      <td>Gulf Beauty Salon - Abu Dhabi</td>\n",
       "      <td>2300031</td>\n",
       "      <td>si</td>\n",
       "      <td>142800</td>\n",
       "      <td>142800</td>\n",
       "    </tr>\n",
       "    <tr>\n",
       "      <th>344</th>\n",
       "      <td>2023-04-18</td>\n",
       "      <td>22310280</td>\n",
       "      <td>Gulf Beauty Salon - Abu Dhabi</td>\n",
       "      <td>2300047</td>\n",
       "      <td>si</td>\n",
       "      <td>32839</td>\n",
       "      <td>175639</td>\n",
       "    </tr>\n",
       "    <tr>\n",
       "      <th>350</th>\n",
       "      <td>2023-03-04</td>\n",
       "      <td>22310280</td>\n",
       "      <td>Gulf Beauty Salon - Abu Dhabi</td>\n",
       "      <td>2300049</td>\n",
       "      <td>si</td>\n",
       "      <td>29379</td>\n",
       "      <td>205018</td>\n",
       "    </tr>\n",
       "  </tbody>\n",
       "</table>\n",
       "</div>"
      ],
      "text/plain": [
       "           Date   accCode                        accHead      Ref Type  \\\n",
       "296  2023-02-03  22310280  Gulf Beauty Salon - Abu Dhabi  2300031   si   \n",
       "344  2023-04-18  22310280  Gulf Beauty Salon - Abu Dhabi  2300047   si   \n",
       "350  2023-03-04  22310280  Gulf Beauty Salon - Abu Dhabi  2300049   si   \n",
       "\n",
       "     Amount  Balance  \n",
       "296  142800   142800  \n",
       "344   32839   175639  \n",
       "350   29379   205018  "
      ]
     },
     "execution_count": 84,
     "metadata": {},
     "output_type": "execute_result"
    }
   ],
   "source": [
    "ledgerB['Balance'] = ledgerB['Amount'].cumsum()\n",
    "ledgerB"
   ]
  },
  {
   "cell_type": "markdown",
   "metadata": {},
   "source": [
    "<p style=\"font-size:2.2em; padding:18px; border-bottom: 5px solid #ffb701; background:#143157;\"> \n",
    "    <span style=\"color: #fff;\">Sales Analysis -  </span>\n",
    "    <span style=\"font-size:.75em; color: #11a1f5;\"> Detail Sales Analysis </span>\n",
    "</p>"
   ]
  },
  {
   "cell_type": "markdown",
   "metadata": {},
   "source": [
    "<p style=\"padding:5px; border-bottom:3px solid #6d79a1; background:#e9edf7; margin:5px 0 -7px 20px;\"> \n",
    "   <span style=\"font-size:1.4em; color:#202f61;\" >Step 1 - </span>\n",
    "   <span style=\"font-size:1.4em; color:#e39607;\">Get Company and Year - </span> \n",
    "   <span style=\"font-size:1.2em; color:#209ebd;\">to Load Data </span>\n",
    "</p> "
   ]
  },
  {
   "cell_type": "code",
   "execution_count": 97,
   "metadata": {},
   "outputs": [],
   "source": [
    "import pandas as pd\n",
    "import numpy as np\n",
    "pd.options.display.float_format = '{:,.0f}'.format\n",
    "#pd.set_option('display.float_format', '{:.0f}'.format)\n",
    "pd.set_option('display.max_columns', 85) # set Jupeter note book to dispay 85 columns\n",
    "dfStd = pd.read_csv('data/basInfo.csv')\n",
    "Year = str(dfStd.loc[0, 'year'])\n",
    "coFolder = str(dfStd.loc[0, 'coFolder'])"
   ]
  },
  {
   "cell_type": "markdown",
   "metadata": {},
   "source": [
    "<p style=\"padding:5px; border-bottom:3px solid #6d79a1; background:#e9edf7; margin:5px 0 -7px 20px;\"> \n",
    "   <span style=\"font-size:1.4em; color:#202f61;\" >Step 2 - </span>\n",
    "   <span style=\"font-size:1.4em; color:#e39607;\">Read dlBasic.csv - </span> \n",
    "   <span style=\"font-size:1.2em; color:#209ebd;\">to Get the last Delivery Number </span>\n",
    "</p> "
   ]
  },
  {
   "cell_type": "code",
   "execution_count": 98,
   "metadata": {},
   "outputs": [],
   "source": [
    "fPath = \"Data/\" +coFolder+ \"/\" +Year+ \"/C1_Gl/Journals/Journals.csv\"\n",
    "df = pd.read_csv(fPath, index_col=False, encoding='unicode_escape').fillna(0)"
   ]
  },
  {
   "cell_type": "markdown",
   "metadata": {},
   "source": [
    "<p style=\"padding:5px; border-bottom:3px solid #6d79a1; background:#e9edf7; margin:5px 0 -7px 20px;\"> \n",
    "   <span style=\"font-size:1.4em; color:#202f61;\" >Step 3 - </span>\n",
    "   <span style=\"font-size:1.4em; color:#e39607;\">Create Customer Pivot Table - </span> \n",
    "   <span style=\"font-size:1.2em; color:#209ebd;\">to Get top 10 Customer</span>\n",
    "</p> "
   ]
  },
  {
   "cell_type": "code",
   "execution_count": 99,
   "metadata": {},
   "outputs": [],
   "source": [
    "### Filter data To Get Customer Only --------------------------------------\n",
    "dfA  = df[df['Type'] == 'si'].fillna(0)\n",
    "filtered_df = dfA[(dfA['accCode'] >= 20000000) & (dfA['accCode'] <= 29999999)]"
   ]
  },
  {
   "cell_type": "code",
   "execution_count": 104,
   "metadata": {},
   "outputs": [],
   "source": [
    "### Create Pivot Table -----------------------------------------\n",
    "byCustomer = pd.pivot_table(filtered_df,index=[\"accCode\",\"accHead\"],values=[\"Amount\"],aggfunc=[np.sum],fill_value=0)\n",
    "byCustomer.columns = byCustomer.columns.droplevel(0)\n",
    "byCustomer.reset_index(inplace=True)"
   ]
  },
  {
   "cell_type": "code",
   "execution_count": 108,
   "metadata": {},
   "outputs": [],
   "source": [
    "### Create Top 10 Customer -----------------------------------------\n",
    "sorted_df = byCustomer.sort_values('Amount', ascending=False)  # Sort the DataFrame\n",
    "top_10 = sorted_df.head(10) # Filter the top 10 rows"
   ]
  },
  {
   "cell_type": "code",
   "execution_count": 109,
   "metadata": {},
   "outputs": [
    {
     "data": {
      "text/html": [
       "<div>\n",
       "<style scoped>\n",
       "    .dataframe tbody tr th:only-of-type {\n",
       "        vertical-align: middle;\n",
       "    }\n",
       "\n",
       "    .dataframe tbody tr th {\n",
       "        vertical-align: top;\n",
       "    }\n",
       "\n",
       "    .dataframe thead th {\n",
       "        text-align: right;\n",
       "    }\n",
       "</style>\n",
       "<table border=\"1\" class=\"dataframe\">\n",
       "  <thead>\n",
       "    <tr style=\"text-align: right;\">\n",
       "      <th></th>\n",
       "      <th>accCode</th>\n",
       "      <th>accHead</th>\n",
       "      <th>Amount</th>\n",
       "    </tr>\n",
       "  </thead>\n",
       "  <tbody>\n",
       "    <tr>\n",
       "      <th>7</th>\n",
       "      <td>22310182</td>\n",
       "      <td>Spaces Spa Center</td>\n",
       "      <td>245238</td>\n",
       "    </tr>\n",
       "    <tr>\n",
       "      <th>2</th>\n",
       "      <td>22310093</td>\n",
       "      <td>Women's Medical Center (Dr. Ameena)</td>\n",
       "      <td>233704</td>\n",
       "    </tr>\n",
       "    <tr>\n",
       "      <th>8</th>\n",
       "      <td>22310200</td>\n",
       "      <td>German Clinic FZ LLC</td>\n",
       "      <td>215828</td>\n",
       "    </tr>\n",
       "    <tr>\n",
       "      <th>13</th>\n",
       "      <td>22310280</td>\n",
       "      <td>Gulf Beauty Salon - Abu Dhabi</td>\n",
       "      <td>205018</td>\n",
       "    </tr>\n",
       "    <tr>\n",
       "      <th>12</th>\n",
       "      <td>22310269</td>\n",
       "      <td>Flora Beauty Spa</td>\n",
       "      <td>189210</td>\n",
       "    </tr>\n",
       "    <tr>\n",
       "      <th>0</th>\n",
       "      <td>22310029</td>\n",
       "      <td>Al Jameya Pharmacy</td>\n",
       "      <td>184742</td>\n",
       "    </tr>\n",
       "    <tr>\n",
       "      <th>1</th>\n",
       "      <td>22310055</td>\n",
       "      <td>Al Noor Pharmacy</td>\n",
       "      <td>174594</td>\n",
       "    </tr>\n",
       "    <tr>\n",
       "      <th>3</th>\n",
       "      <td>22310097</td>\n",
       "      <td>Sahar Pharmacy</td>\n",
       "      <td>173135</td>\n",
       "    </tr>\n",
       "    <tr>\n",
       "      <th>9</th>\n",
       "      <td>22310207</td>\n",
       "      <td>Delta Pharmacy</td>\n",
       "      <td>157500</td>\n",
       "    </tr>\n",
       "    <tr>\n",
       "      <th>4</th>\n",
       "      <td>22310102</td>\n",
       "      <td>Health &amp;amp; Aesthetic Medical Center</td>\n",
       "      <td>135345</td>\n",
       "    </tr>\n",
       "  </tbody>\n",
       "</table>\n",
       "</div>"
      ],
      "text/plain": [
       "     accCode                                accHead  Amount\n",
       "7   22310182                      Spaces Spa Center  245238\n",
       "2   22310093    Women's Medical Center (Dr. Ameena)  233704\n",
       "8   22310200                   German Clinic FZ LLC  215828\n",
       "13  22310280          Gulf Beauty Salon - Abu Dhabi  205018\n",
       "12  22310269                       Flora Beauty Spa  189210\n",
       "0   22310029                     Al Jameya Pharmacy  184742\n",
       "1   22310055                       Al Noor Pharmacy  174594\n",
       "3   22310097                         Sahar Pharmacy  173135\n",
       "9   22310207                         Delta Pharmacy  157500\n",
       "4   22310102  Health &amp; Aesthetic Medical Center  135345"
      ]
     },
     "execution_count": 109,
     "metadata": {},
     "output_type": "execute_result"
    }
   ],
   "source": [
    "top_10"
   ]
  },
  {
   "cell_type": "code",
   "execution_count": null,
   "metadata": {},
   "outputs": [],
   "source": []
  }
 ],
 "metadata": {
  "celltoolbar": "Raw Cell Format",
  "kernelspec": {
   "display_name": "Python 3 (ipykernel)",
   "language": "python",
   "name": "python3"
  },
  "language_info": {
   "codemirror_mode": {
    "name": "ipython",
    "version": 3
   },
   "file_extension": ".py",
   "mimetype": "text/x-python",
   "name": "python",
   "nbconvert_exporter": "python",
   "pygments_lexer": "ipython3",
   "version": "3.9.12"
  }
 },
 "nbformat": 4,
 "nbformat_minor": 2
}
