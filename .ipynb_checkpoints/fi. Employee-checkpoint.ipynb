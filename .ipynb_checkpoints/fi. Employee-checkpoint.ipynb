{
 "cells": [
  {
   "cell_type": "markdown",
   "metadata": {},
   "source": [
    "<p style=\"font-family:Calibri; font-size:1.75em; color:white; padding:5px 5px; text-align: left; height:50px; border-bottom: 1px solid orange;\"></p>"
   ]
  },
  {
   "cell_type": "markdown",
   "metadata": {},
   "source": [
    "<p style=\"font-size:2.2em; color:white; padding:25px; border-bottom: 5px solid #ffb701; background:#143157;\"> \n",
    "Save Employees Details - <span style=\"font-size:.75em; color: #11a1f5;\"> as CSV </span></p>\n",
    "Extract Customer Complete Information and Save as CSV file"
   ]
  },
  {
   "cell_type": "code",
   "execution_count": 52,
   "metadata": {},
   "outputs": [],
   "source": [
    "import pandas as pd\n",
    "import numpy as np\n",
    "pd.options.display.float_format = '{:,.0f}'.format\n",
    "pd.set_option('display.max_columns', 85) # set Jupeter note book to dispay 85 columns"
   ]
  },
  {
   "cell_type": "markdown",
   "metadata": {},
   "source": [
    "<p style=\"font-size:1.5em; color:white; padding:5px; border-bottom: 3px solid orange; background: #3c5c75; margin: 25px 0 -7px 0;\"> \n",
    "Step 1 - Create Engine and read data in Pandas </p>"
   ]
  },
  {
   "cell_type": "markdown",
   "metadata": {},
   "source": [
    "<p style=\"font-family:Calibri; font-size:1.75em; color:#04405e; padding:5px 5px; margin: 10px 0 -7px 20px;\n",
    "border-bottom: 3px solid #e39c19; background: #afe4ff;\">  \n",
    "Step 1a - Create SQL Engine</p>"
   ]
  },
  {
   "cell_type": "code",
   "execution_count": 53,
   "metadata": {},
   "outputs": [],
   "source": [
    "import sqlite3\n",
    "import sqlalchemy\n",
    "\n",
    "# here db.sqlite3 is the name mention in settings.py under Databases; and \n",
    "# path should be absolute where 'db.sqlite3' file exist\n",
    "#------------------------------------------------------------------------\n",
    "engine = sqlalchemy.create_engine('sqlite:///D:/IUH/2. Programming/2. App/1a BaseERP/db.sqlite3')"
   ]
  },
  {
   "cell_type": "markdown",
   "metadata": {},
   "source": [
    "<p style=\"font-family:Calibri; font-size:1.75em; color:#04405e; padding:5px 5px; margin: 10px 0 -7px 20px;\n",
    "border-bottom: 3px solid #e39c19; background: #afe4ff;\">  \n",
    "Step 1b - Read Data from SQL </p>"
   ]
  },
  {
   "cell_type": "code",
   "execution_count": 54,
   "metadata": {},
   "outputs": [],
   "source": [
    "basic = pd.read_sql('''SELECT * FROM \"I1_Hrm_empBasic\" ''', con=engine)\n",
    "Extra = pd.read_sql('''SELECT * FROM \"I1_Hrm_empExtra\" ''', con=engine)"
   ]
  },
  {
   "cell_type": "markdown",
   "metadata": {},
   "source": [
    "<p style=\"font-size:1.5em; color:white; padding:5px; border-bottom:3px solid orange; background:#3c5c75; margin:25px 0 -7px 0;\"> \n",
    "Step 2 - Merge \"Basic & Extra\" Dataframe by Employee ID </p>"
   ]
  },
  {
   "cell_type": "code",
   "execution_count": 55,
   "metadata": {},
   "outputs": [],
   "source": [
    "Combined = pd.merge(basic, Extra, on=[\"empCode\"])\n",
    "Combined = Combined.drop(\"id_y\", axis=1)\n",
    "Combined = Combined.rename(columns={'id_x': 'id'})"
   ]
  },
  {
   "cell_type": "code",
   "execution_count": 59,
   "metadata": {},
   "outputs": [],
   "source": [
    "arrColumn= ['id','empCode','empFName','empMName','empLName','empStat','empImg','empPosi',\n",
    "            'empDoj','empEid','empLoca','empDept','empRepTo','empSpon','empNatl','empGend',\n",
    "            'empDob','EmpMarr','empIban','empBank','empAcc','empUid','empVisa','empAdd','empPh','empEmail','ref'\n",
    "           ]\n",
    "Combined = Combined.reindex(columns=arrColumn)"
   ]
  },
  {
   "cell_type": "code",
   "execution_count": 23,
   "metadata": {},
   "outputs": [],
   "source": [
    "Combined['comment'] = ''"
   ]
  },
  {
   "cell_type": "markdown",
   "metadata": {},
   "source": [
    "<p style=\"font-size:1.5em; color:white; padding:5px; border-bottom: 3px solid orange; background: #3c5c75; margin: 25px 0 -7px 0;\"> \n",
    "Step 3 - Create a \"Customer\" Folder inside \"Data/F1_Sales\" Folder </p>"
   ]
  },
  {
   "cell_type": "code",
   "execution_count": 26,
   "metadata": {},
   "outputs": [],
   "source": [
    "import os\n",
    "\n",
    "data_folder = \"Data/I1_Employees\"\n",
    "sales_folder = \"Employees\"\n",
    "\n",
    "if not os.path.exists(os.path.join(data_folder, sales_folder)):\n",
    "    os.makedirs(os.path.join(data_folder, sales_folder))\n",
    "else:\n",
    "    pass\n"
   ]
  },
  {
   "cell_type": "markdown",
   "metadata": {},
   "source": [
    "<p style=\"font-size:1.5em; color:white; padding:5px; border-bottom: 3px solid orange; background: #3c5c75; margin: 25px 0 -7px 0;\"> \n",
    "Step 4 - Save Customer Master File as CSV File </p>"
   ]
  },
  {
   "cell_type": "code",
   "execution_count": 27,
   "metadata": {},
   "outputs": [],
   "source": [
    "#https://sparkbyexamples.com/pandas/pandas-write-dataframe-to-csv-file/\n",
    "Combined.to_csv('Data/I1_Employees/Employees/EmpMaster.csv',index = False)\n",
    "\n"
   ]
  },
  {
   "cell_type": "markdown",
   "metadata": {},
   "source": [
    "<p style=\"font-family:Calibri; font-size:1.75em; color:white; padding:5px 5px; text-align: left; height:50px; border-bottom: 1px solid orange;\"></p>"
   ]
  },
  {
   "cell_type": "markdown",
   "metadata": {},
   "source": [
    "<p style=\"font-size:2.2em; color:white; padding:25px; border-bottom: 5px solid #ffb701; background:#143157;\"> \n",
    "    Show Employees Details - <span style=\"font-size:.75em; color: #11a1f5;\"> from excel file </span></p>\n",
    "Read data from csv in Pandas"
   ]
  },
  {
   "cell_type": "code",
   "execution_count": 8,
   "metadata": {},
   "outputs": [],
   "source": [
    "import pandas as pd\n",
    "import numpy as np\n",
    "pd.options.display.float_format = '{:,.0f}'.format\n",
    "pd.set_option('display.max_columns', 85) # set Jupeter note book to dispay 85 columns"
   ]
  },
  {
   "cell_type": "markdown",
   "metadata": {},
   "source": [
    "<p style=\"font-size:1.5em; color:white; padding:5px; border-bottom: 3px solid orange; background: #3c5c75; margin: 25px 0 -7px 0;\"> \n",
    "Step 1 - Read CSV files </p>"
   ]
  },
  {
   "cell_type": "code",
   "execution_count": 11,
   "metadata": {},
   "outputs": [],
   "source": [
    "###---- Read Employee master File ------------------------------------------\n",
    "###---- encoding='unicode_escape' since data includes special charactor to avoid error.\n",
    "df = pd.read_csv(\"Data/I1_Employees/Employees/EmpMaster.csv\",encoding='unicode_escape').fillna(0)"
   ]
  },
  {
   "cell_type": "markdown",
   "metadata": {},
   "source": [
    "<p style=\"font-size:1.5em; color:white; padding:5px; border-bottom: 3px solid orange; background: #3c5c75; margin: 25px 0 -7px 0;\"> \n",
    "Step 2 - Remove Duplicate Entry </p>"
   ]
  },
  {
   "cell_type": "code",
   "execution_count": 5,
   "metadata": {},
   "outputs": [],
   "source": [
    "# remove duplicate rows and keep only the last occurrence subequently if that customer Code added\n",
    "# will show because keep last record will not have 'Delete' in comment column\n",
    "DataA = df.drop_duplicates(subset=['itmCode'], keep='last')\n",
    "DataB = DataA.drop(DataA.loc[DataA['comment']=='Delete'].index)"
   ]
  },
  {
   "cell_type": "markdown",
   "metadata": {},
   "source": [
    "<p style=\"font-size:1.5em; color:white; padding:5px; border-bottom: 3px solid orange; background: #3c5c75; margin: 25px 0 -7px 0;\"> \n",
    "Step 3 - Convert into Json </p>"
   ]
  },
  {
   "cell_type": "code",
   "execution_count": 6,
   "metadata": {},
   "outputs": [],
   "source": [
    "### Convert Data into Json Dictionary (can be access by JavaScript) .........\n",
    "Data = DataB.to_dict(orient=\"records\")"
   ]
  },
  {
   "cell_type": "markdown",
   "metadata": {},
   "source": [
    "<p style=\"font-family:Calibri; font-size:1.75em; color:white; padding:5px 5px; text-align: left; height:50px; border-bottom: 1px solid orange;\"></p>"
   ]
  },
  {
   "cell_type": "code",
   "execution_count": null,
   "metadata": {},
   "outputs": [],
   "source": []
  },
  {
   "cell_type": "code",
   "execution_count": null,
   "metadata": {},
   "outputs": [],
   "source": []
  }
 ],
 "metadata": {
  "celltoolbar": "Raw Cell Format",
  "kernelspec": {
   "display_name": "Python 3 (ipykernel)",
   "language": "python",
   "name": "python3"
  },
  "language_info": {
   "codemirror_mode": {
    "name": "ipython",
    "version": 3
   },
   "file_extension": ".py",
   "mimetype": "text/x-python",
   "name": "python",
   "nbconvert_exporter": "python",
   "pygments_lexer": "ipython3",
   "version": "3.9.12"
  }
 },
 "nbformat": 4,
 "nbformat_minor": 2
}
