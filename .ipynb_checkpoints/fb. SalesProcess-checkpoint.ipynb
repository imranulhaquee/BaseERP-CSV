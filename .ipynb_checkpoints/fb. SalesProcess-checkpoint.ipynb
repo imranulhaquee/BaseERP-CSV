{
 "cells": [
  {
   "cell_type": "markdown",
   "metadata": {},
   "source": [
    "<p style=\"font-size:2.2em; color:white; padding:15px; border-bottom: 5px solid #ffb701; background:#143157; text-align:center;\"> \n",
    "    Sales Process Setup  <br> \n",
    "    <span style=\"font-size:.55em; color: #11a1f5;\"> Create Necessary Folder and Files </span>\n",
    "</p>"
   ]
  },
  {
   "cell_type": "code",
   "execution_count": 217,
   "metadata": {},
   "outputs": [],
   "source": [
    "import pandas as pd\n",
    "import numpy as np\n",
    "pd.options.display.float_format = '{:,.0f}'.format\n",
    "pd.set_option('display.max_columns', 85) # set Jupeter note book to dispay 85 columns"
   ]
  },
  {
   "cell_type": "code",
   "execution_count": 218,
   "metadata": {},
   "outputs": [],
   "source": [
    "import os\n",
    "import csv"
   ]
  },
  {
   "cell_type": "code",
   "execution_count": 219,
   "metadata": {},
   "outputs": [],
   "source": [
    "###---Get Year-------------------------------------\n",
    "#Year = \"2023\"\n",
    "dfStd = pd.read_csv('data/basInfo.csv')\n",
    "Year = str(dfStd.loc[0, 'year'])\n",
    "coFolder = str(dfStd.loc[0, 'coFolder'])"
   ]
  },
  {
   "cell_type": "markdown",
   "metadata": {},
   "source": [
    "<p style=\"font-family:Calibri; font-size:1.75em; color:white; padding:5px 5px; text-align: left; height:50px; border-bottom: 3px solid orange; margin:-7px 0px;\"></p>"
   ]
  },
  {
   "cell_type": "markdown",
   "metadata": {},
   "source": [
    "<p style=\"font-size:2.2em; padding:10px; border-bottom: 5px solid #ffb701; background:#143157;\n",
    "          text-align:center\"> \n",
    "    <span style=\"color: #fff;\"> Create Main-Folders  </span> <br>\n",
    "    <span style=\"font-size:.60em; color: #11a1f5;\"> \"F1_Sales\" </span>\n",
    "</p>\n"
   ]
  },
  {
   "cell_type": "code",
   "execution_count": 17,
   "metadata": {},
   "outputs": [],
   "source": [
    "mainFolder = \"Data/\" +coFolder+ \"/\" +Year+ \"/F1_Sales\"\n",
    "os.makedirs(mainFolder, mode=0o777, exist_ok=True)"
   ]
  },
  {
   "cell_type": "markdown",
   "metadata": {},
   "source": [
    "<p style=\"font-family:Calibri; font-size:1.75em; color:white; padding:5px 5px; text-align: left; height:50px; border-bottom: 3px solid orange; margin:-7px 0px;\"></p>"
   ]
  },
  {
   "cell_type": "markdown",
   "metadata": {},
   "source": [
    "<p style=\"font-size:2.2em; padding:10px; border-bottom: 5px solid #ffb701; background:#492863;\n",
    "          text-align:center\"> \n",
    "    <span style=\"color: #debef7;\"> Customers  </span> <br>\n",
    "</p>"
   ]
  },
  {
   "cell_type": "markdown",
   "metadata": {},
   "source": [
    "<p style=\"font-size:2em; padding:18px; border-bottom: 5px solid #ffb701; background:#143157;\"> \n",
    "    <span style=\"color: #fff;\"> Create Sub-Folder -  </span>\n",
    "    <span style=\"font-size:.75em; color: #11a1f5;\"> \"Customers\" </span>\n",
    "</p>"
   ]
  },
  {
   "cell_type": "code",
   "execution_count": 24,
   "metadata": {},
   "outputs": [],
   "source": [
    "subFolder = \"Data/\" +coFolder+ \"/\" +Year+ \"/F1_Sales/Customers\"\n",
    "os.makedirs(subFolder, mode=0o777, exist_ok=True)"
   ]
  },
  {
   "cell_type": "markdown",
   "metadata": {},
   "source": [
    "<p style=\"font-family:Calibri; font-size:1.2em; color:#061233; padding:2px 5px; margin: 5px 0 -7px 20px; border-bottom: 3px solid #0d1e4f; background: #f0f4ff\">  \n",
    "   <span style=\"font-size:1.2em; color:#384073;\" >1a. Customers</span>\n",
    "   <span style=\"font-size:1.2em; color:#821107;\" >customers.CSV</span>\n",
    "   <span style=\"font-size:1.2em; color:#384073;\" >file</span>\n",
    "</p>"
   ]
  },
  {
   "cell_type": "code",
   "execution_count": 26,
   "metadata": {},
   "outputs": [],
   "source": [
    "file_path = \"Data/\" +coFolder+ \"/\" +Year+ \"/F1_Sales/Customers/Customers.csv\"\n",
    "\n",
    "if not os.path.exists(file_path):\n",
    "    headers = ['Ref', 'Type', 'siDat', 'cusCode', 'cusName','siTAT', 'siComm', 'ptStat', 'dueDate', 'traDate', 'action' ]\n",
    "    \n",
    "    with open(file_path, 'w', newline='') as csv_file:  #create fresh file each time\n",
    "        writer = csv.writer(csv_file); \n",
    "        writer.writerow(headers)"
   ]
  },
  {
   "cell_type": "markdown",
   "metadata": {},
   "source": [
    "<p style=\"font-family:Calibri; font-size:1.75em; color:white; padding:5px 5px; text-align: left; height:50px; border-bottom: 3px solid orange; margin:-7px 0px;\"></p>"
   ]
  },
  {
   "cell_type": "markdown",
   "metadata": {},
   "source": [
    "<p style=\"font-size:2.2em; padding:10px; border-bottom: 5px solid #ffb701; background:#492863;\n",
    "          text-align:center\"> \n",
    "    <span style=\"color: #debef7;\"> Sales Invoice  </span> <br>\n",
    "</p>"
   ]
  },
  {
   "cell_type": "markdown",
   "metadata": {},
   "source": [
    "<p style=\"font-size:2em; padding:18px; border-bottom: 5px solid #ffb701; background:#143157;\"> \n",
    "    <span style=\"color: #fff;\"> Create Sub-Folder -  </span>\n",
    "    <span style=\"font-size:.75em; color: #11a1f5;\"> \"Sales Invoice\" </span>\n",
    "</p>"
   ]
  },
  {
   "cell_type": "code",
   "execution_count": 20,
   "metadata": {},
   "outputs": [],
   "source": [
    "subFolder = \"Data/\" +coFolder+ \"/\" +Year+ \"/F1_Sales/Invoices\"\n",
    "os.makedirs(subFolder, mode=0o777, exist_ok=True)"
   ]
  },
  {
   "cell_type": "markdown",
   "metadata": {},
   "source": [
    "<p style=\"font-family:Calibri; font-size:1.2em; color:#061233; padding:2px 5px; margin: 5px 0 -7px 20px; border-bottom: 3px solid #0d1e4f; background: #f0f4ff\">  \n",
    "   <span style=\"font-size:1.2em; color:#384073;\" >1a. Create</span>\n",
    "   <span style=\"font-size:1.2em; color:#821107;\" >siBasic.CSV</span>\n",
    "   <span style=\"font-size:1.2em; color:#384073;\" >file</span>\n",
    "</p>"
   ]
  },
  {
   "cell_type": "code",
   "execution_count": 21,
   "metadata": {},
   "outputs": [],
   "source": [
    "file_path = \"Data/\" +coFolder+ \"/\" +Year+ \"/F1_Sales/Invoices/siBasic.csv\"\n",
    "\n",
    "if not os.path.exists(file_path):\n",
    "    headers = ['id', 'siRef', 'siDat', 'cusCode', 'cusName', 'siTBD', 'siTAD', 'siTax', 'siTAT', 'shipTo', 'siComm', 'opnClo', 'spName', 'spCode', 'dlRef', 'dlDat', 'traDate', 'action' ]\n",
    "    new_record = {'id': str(Year[2:])+\"00000\", 'siRef': str(Year[2:])+\"00000\"}\n",
    "    \n",
    "    with open(file_path, 'w', newline='') as csv_file:  #create fresh file each time\n",
    "        writer = csv.writer(csv_file); \n",
    "        writer.writerow(headers)\n",
    "        writer.writerow(new_record.values())"
   ]
  },
  {
   "cell_type": "markdown",
   "metadata": {},
   "source": [
    "<p style=\"font-family:Calibri; font-size:1.2em; color:#061233; padding:2px 5px; margin: 5px 0 -7px 20px; border-bottom: 3px solid #0d1e4f; background: #f0f4ff\">  \n",
    "   <span style=\"font-size:1.2em; color:#384073;\" >1b. Create</span>\n",
    "   <span style=\"font-size:1.2em; color:#821107;\" >siAddi.CSV</span>\n",
    "   <span style=\"font-size:1.2em; color:#384073;\" >file</span>\n",
    "</p>"
   ]
  },
  {
   "cell_type": "code",
   "execution_count": 8,
   "metadata": {},
   "outputs": [],
   "source": [
    "file_path = \"Data/\" +coFolder+ \"/\" +Year+ \"/F1_Sales/Invoices/siAddi.csv\"\n",
    "\n",
    "if not os.path.exists(file_path):\n",
    "    headers = ['id', 'siRef', 'sno', 'itmCod', 'desc', 'qty', 'price', 'disc', 'tot','vat', 'traDate', 'action']\n",
    "\n",
    "    with open(file_path, 'w', newline='') as csv_file:  #create fresh file each time\n",
    "        writer = csv.writer(csv_file); \n",
    "        writer.writerow(headers)"
   ]
  },
  {
   "cell_type": "markdown",
   "metadata": {},
   "source": [
    "<p style=\"font-family:Calibri; font-size:1.2em; color:#061233; padding:2px 5px; margin: 5px 0 -7px 20px; border-bottom: 3px solid #0d1e4f; background: #f0f4ff\">  \n",
    "   <span style=\"font-size:1.2em; color:#384073;\" >1c. Create</span>\n",
    "   <span style=\"font-size:1.2em; color:#821107;\" >siStat.CSV</span>\n",
    "   <span style=\"font-size:1.2em; color:#384073;\" >file</span>\n",
    "</p>"
   ]
  },
  {
   "cell_type": "code",
   "execution_count": 9,
   "metadata": {},
   "outputs": [],
   "source": [
    "file_path = \"Data/\" +coFolder+ \"/\" +Year+ \"/F1_Sales/Invoices/siStat.csv\"\n",
    "\n",
    "if not os.path.exists(file_path):\n",
    "    headers = ['siRefSt','opnCloSt','traDate', 'action']\n",
    "\n",
    "    with open(file_path, 'w', newline='') as csv_file:  #create fresh file each time\n",
    "        writer = csv.writer(csv_file); \n",
    "        writer.writerow(headers)"
   ]
  },
  {
   "cell_type": "markdown",
   "metadata": {},
   "source": [
    "<p style=\"font-family:Calibri; font-size:1.75em; color:white; padding:5px 5px; text-align: left; height:50px; border-bottom: 3px solid orange; margin:-7px 0px;\"></p>"
   ]
  },
  {
   "cell_type": "markdown",
   "metadata": {},
   "source": [
    "<p style=\"font-size:2.2em; padding:18px; border-bottom: 5px solid #ffb701; background:#143157;\"> \n",
    "    <span style=\"color: #fff;\"> Invoices -  </span>\n",
    "    <span style=\"font-size:.75em; color: #11a1f5;\"> Show All Transactions </span>\n",
    "</p>"
   ]
  },
  {
   "cell_type": "markdown",
   "metadata": {},
   "source": [
    "<p style=\"padding:5px; border-bottom:3px solid #6d79a1; background:#e9edf7; margin:5px 0 -7px 20px;\"> \n",
    "   <span style=\"font-size:1.4em; color:#202f61;\" >Step 1 - </span>\n",
    "   <span style=\"font-size:1.4em; color:#e39607;\">Get Company and Year - </span> \n",
    "   <span style=\"font-size:1.2em; color:#209ebd;\">to Load Data </span>\n",
    "</p> "
   ]
  },
  {
   "cell_type": "code",
   "execution_count": 45,
   "metadata": {},
   "outputs": [],
   "source": [
    "import pandas as pd\n",
    "import numpy as np\n",
    "dfStd = pd.read_csv('data/basInfo.csv')\n",
    "Year = str(dfStd.loc[0, 'year'])\n",
    "coFolder = str(dfStd.loc[0, 'coFolder'])"
   ]
  },
  {
   "cell_type": "markdown",
   "metadata": {},
   "source": [
    "<p style=\"padding:5px; border-bottom:3px solid #6d79a1; background:#e9edf7; margin:5px 0 -7px 20px;\"> \n",
    "   <span style=\"font-size:1.4em; color:#202f61;\" >Step 2 - </span>\n",
    "   <span style=\"font-size:1.4em; color:#e39607;\">Read siBasic.csv File</span> \n",
    "</p> "
   ]
  },
  {
   "cell_type": "code",
   "execution_count": 36,
   "metadata": {},
   "outputs": [],
   "source": [
    "req_cols = ['id','siRef','siDat','cusName','dlRef', 'siTax', 'siTAT','spName','opnClo','action']\n",
    "fPath = \"Data/\" +coFolder+ \"/\" +Year+ \"/F1_Sales/Invoices/siBasic.csv\"\n",
    "df = pd.read_csv(fPath, usecols=req_cols, index_col=False, encoding='unicode_escape')"
   ]
  },
  {
   "cell_type": "code",
   "execution_count": 37,
   "metadata": {},
   "outputs": [],
   "source": [
    "### drop first row which is empty...\n",
    "df = df.drop(df.index[0])"
   ]
  },
  {
   "cell_type": "code",
   "execution_count": 38,
   "metadata": {},
   "outputs": [],
   "source": [
    "### file doesn't recongnize date formate first convert into date and than strftime\n",
    "df['siDat'] = pd.to_datetime(df['siDat']).dt.strftime('%Y-%m-%d')"
   ]
  },
  {
   "cell_type": "code",
   "execution_count": 39,
   "metadata": {},
   "outputs": [],
   "source": [
    "### Remove Duplicate Delivery and Deleted Record...\n",
    "df = df.drop_duplicates(subset=['siRef'], keep='last')\n",
    "df = df.drop(df.loc[df['action']=='Deleted'].index).fillna('')"
   ]
  },
  {
   "cell_type": "markdown",
   "metadata": {},
   "source": [
    "<p style=\"padding:5px; border-bottom:3px solid #6d79a1; background:#e9edf7; margin:5px 0 -7px 20px;\"> \n",
    "   <span style=\"font-size:1.4em; color:#202f61;\" >Step 3 - </span>\n",
    "   <span style=\"font-size:1.4em; color:#e39607;\">Read siStat.csv File</span> \n",
    "</p> "
   ]
  },
  {
   "cell_type": "code",
   "execution_count": 40,
   "metadata": {},
   "outputs": [],
   "source": [
    "statPath = \"Data/\" +coFolder+ \"/\" +Year+ \"/F1_Sales/Invoices/siStat.csv\"\n",
    "stat = pd.read_csv(statPath, index_col=False, encoding='unicode_escape')"
   ]
  },
  {
   "cell_type": "code",
   "execution_count": 41,
   "metadata": {},
   "outputs": [],
   "source": [
    "### Remove Duplicate and Deleted Record...\n",
    "stat = stat.drop_duplicates(subset=['siRefSt'], keep='last')"
   ]
  },
  {
   "cell_type": "markdown",
   "metadata": {},
   "source": [
    "<p style=\"padding:5px; border-bottom:3px solid #6d79a1; background:#e9edf7; margin:5px 0 -7px 20px;\"> \n",
    "   <span style=\"font-size:1.4em; color:#202f61;\" >Step 4 - </span>\n",
    "   <span style=\"font-size:1.4em; color:#e39607;\">Map dlBasic.csv Open/Close with dlStat.csv</span> \n",
    "</p> "
   ]
  },
  {
   "cell_type": "code",
   "execution_count": 42,
   "metadata": {},
   "outputs": [],
   "source": [
    "opnClo_map = dict(zip(stat['siRefSt'], stat['opnCloSt']))\n",
    "df['opnClo'] = df['siRef'].map(opnClo_map).fillna(df['opnClo'])"
   ]
  },
  {
   "cell_type": "markdown",
   "metadata": {},
   "source": [
    "<p style=\"padding:5px; border-bottom:3px solid #6d79a1; background:#e9edf7; margin:5px 0 -7px 20px;\"> \n",
    "   <span style=\"font-size:1.4em; color:#202f61;\" >Step 5 - </span>\n",
    "   <span style=\"font-size:1.4em; color:#e39607;\">Convert Data into Dictionary</span> \n",
    "</p> "
   ]
  },
  {
   "cell_type": "code",
   "execution_count": 43,
   "metadata": {},
   "outputs": [],
   "source": [
    " ### Convert Data into Json Dictionary\n",
    "Data = df.to_dict(orient=\"records\")"
   ]
  },
  {
   "cell_type": "markdown",
   "metadata": {},
   "source": [
    "<p style=\"font-family:Calibri; font-size:1.75em; color:white; padding:5px 5px; text-align: left; height:50px; border-bottom: 3px solid orange; margin:-7px 0px;\"></p>"
   ]
  },
  {
   "cell_type": "markdown",
   "metadata": {},
   "source": [
    "<p style=\"font-size:2.2em; padding:18px; border-bottom: 5px solid #ffb701; background:#143157;\"> \n",
    "    <span style=\"color: #fff;\"> Invoice -  </span>\n",
    "    <span style=\"font-size:.75em; color: #11a1f5;\"> Synchronize / Refresh Data</span>\n",
    "</p>"
   ]
  },
  {
   "cell_type": "markdown",
   "metadata": {},
   "source": [
    "<p style=\"padding:5px; border-bottom:3px solid #6d79a1; background:#e9edf7; margin:5px 0 -7px 20px;\"> \n",
    "   <span style=\"font-size:1.4em; color:#202f61;\" >Step 1 - </span>\n",
    "   <span style=\"font-size:1.4em; color:#e39607;\">Get Company and Year - </span> \n",
    "   <span style=\"font-size:1.2em; color:#209ebd;\">to Load Data </span>\n",
    "</p> "
   ]
  },
  {
   "cell_type": "code",
   "execution_count": 163,
   "metadata": {},
   "outputs": [],
   "source": [
    "import pandas as pd\n",
    "import numpy as np\n",
    "dfStd = pd.read_csv('data/basInfo.csv')\n",
    "Year = str(dfStd.loc[0, 'year'])\n",
    "coFolder = str(dfStd.loc[0, 'coFolder'])"
   ]
  },
  {
   "cell_type": "markdown",
   "metadata": {},
   "source": [
    "<p style=\"padding:5px; border-bottom:3px solid #6d79a1; background:#e9edf7; margin:5px 0 -7px 20px;\"> \n",
    "   <span style=\"font-size:1.4em; color:#202f61;\" >Step 2 - </span>\n",
    "   <span style=\"font-size:1.4em; color:#e39607;\">Read siBasic.csv File - </span> \n",
    "   <span style=\"font-size:1.2em; color:#209ebd;\">to Load Data </span>\n",
    "</p> "
   ]
  },
  {
   "cell_type": "code",
   "execution_count": 205,
   "metadata": {},
   "outputs": [],
   "source": [
    "fPath = \"Data/\" +coFolder+ \"/\" +Year+ \"/F1_Sales/Invoices/siBasic.csv\"\n",
    "dfA = pd.read_csv(fPath, index_col=False, encoding='unicode_escape').fillna('')"
   ]
  },
  {
   "cell_type": "code",
   "execution_count": 206,
   "metadata": {},
   "outputs": [],
   "source": [
    "### Remove Duplicate Quote and Deleted Record...\n",
    "dfBasic = dfA.drop_duplicates(subset=['siRef'], keep='last')\n",
    "dfBasic = dfBasic.drop(dfBasic.loc[dfBasic['action']=='Deleted'].index)"
   ]
  },
  {
   "cell_type": "code",
   "execution_count": 207,
   "metadata": {},
   "outputs": [],
   "source": [
    "dfBasic = dfBasic.sort_values('siRef') #sor by qotRef"
   ]
  },
  {
   "cell_type": "code",
   "execution_count": 208,
   "metadata": {},
   "outputs": [],
   "source": [
    "### Save the data in qotBasic.csv File...\n",
    "fPath = \"Data/\" +coFolder+ \"/\" +Year+ \"/F1_Sales/Invoices/siBasic.csv\"\n",
    "dfBasic.to_csv(fPath, index=False)"
   ]
  },
  {
   "cell_type": "code",
   "execution_count": 209,
   "metadata": {},
   "outputs": [],
   "source": [
    "dfBasic['unique'] = dfBasic['siRef'].astype(str)+\" \"+dfBasic['traDate']"
   ]
  },
  {
   "cell_type": "markdown",
   "metadata": {},
   "source": [
    "<p style=\"padding:5px; border-bottom:3px solid #6d79a1; background:#e9edf7; margin:5px 0 -7px 20px;\"> \n",
    "   <span style=\"font-size:1.4em; color:#202f61;\" >Step 3 - </span>\n",
    "   <span style=\"font-size:1.4em; color:#e39607;\">Read siAddi.csv File - </span> \n",
    "   <span style=\"font-size:1.2em; color:#209ebd;\">to Load Data </span>\n",
    "</p>"
   ]
  },
  {
   "cell_type": "code",
   "execution_count": 210,
   "metadata": {},
   "outputs": [],
   "source": [
    "fPath = \"Data/\" +coFolder+ \"/\" +Year+ \"/F1_Sales/Invoices/siAddi.csv\"\n",
    "dfB = pd.read_csv(fPath, index_col=False, encoding='unicode_escape').fillna('')"
   ]
  },
  {
   "cell_type": "code",
   "execution_count": 211,
   "metadata": {},
   "outputs": [],
   "source": [
    "dfB[\"unique\"] = dfB['siRef'].astype(str)+\" \"+dfB['traDate']"
   ]
  },
  {
   "cell_type": "code",
   "execution_count": 213,
   "metadata": {},
   "outputs": [],
   "source": [
    "###---- Merge to filter out those data which Transaction Date is not matching with qotBasic\n",
    "merged_df = pd.merge(dfB, dfBasic['unique'], on='unique', how='inner')\n",
    "###---- Rearange Column to aboid any mistake\n",
    "merged_df = merged_df[['id','siRef','sno','itmCod','desc','qty','price','disc','tot','vat','traDate','action']]"
   ]
  },
  {
   "cell_type": "code",
   "execution_count": 214,
   "metadata": {},
   "outputs": [],
   "source": [
    "merged_df =merged_df.sort_values(['siRef','sno'], ascending = [True, True])"
   ]
  },
  {
   "cell_type": "code",
   "execution_count": 215,
   "metadata": {},
   "outputs": [],
   "source": [
    "### Save the data in qotAddi.csv File...\n",
    "fPath = \"Data/\" +coFolder+ \"/\" +Year+ \"/F1_Sales/Invoices/siAddi.csv\"\n",
    "merged_df.to_csv(fPath, index=False)"
   ]
  },
  {
   "cell_type": "markdown",
   "metadata": {},
   "source": [
    "<p style=\"padding:5px; border-bottom:3px solid #6d79a1; background:#e9edf7; margin:5px 0 -7px 20px;\"> \n",
    "   <span style=\"font-size:1.4em; color:#202f61;\" >Step 4 - </span>\n",
    "   <span style=\"font-size:1.4em; color:#e39607;\">Read siStat.csv File - </span> \n",
    "   <span style=\"font-size:1.2em; color:#209ebd;\">to Load Data </span>\n",
    "</p> "
   ]
  },
  {
   "cell_type": "code",
   "execution_count": 177,
   "metadata": {},
   "outputs": [],
   "source": [
    "statPath = \"Data/\" +coFolder+ \"/\" +Year+ \"/F1_Sales/Invoices/siStat.csv\"\n",
    "stat = pd.read_csv(statPath, index_col=False, encoding='unicode_escape').fillna('')"
   ]
  },
  {
   "cell_type": "code",
   "execution_count": 178,
   "metadata": {},
   "outputs": [],
   "source": [
    "### Remove Duplicate Quote and Deleted Record...\n",
    "stat = stat.drop_duplicates(subset=['siRefSt'], keep='last')\n",
    "stat = stat.drop(stat.loc[stat['action']=='Deleted'].index)"
   ]
  },
  {
   "cell_type": "code",
   "execution_count": 179,
   "metadata": {},
   "outputs": [],
   "source": [
    "### Save the data in qotStat.csv File...\n",
    "statPath =  \"Data/\" +coFolder+ \"/\" +Year+ \"/F1_Sales/Invoices/siStat.csv\"\n",
    "stat.to_csv(statPath, index=False)"
   ]
  },
  {
   "cell_type": "markdown",
   "metadata": {},
   "source": [
    "<p style=\"font-family:Calibri; font-size:1.75em; color:white; padding:5px 5px; text-align: left; height:50px; border-bottom: 3px solid orange; margin:-7px 0px;\"></p>"
   ]
  },
  {
   "cell_type": "markdown",
   "metadata": {},
   "source": [
    "<p style=\"font-size:2.2em; padding:18px; border-bottom: 5px solid #ffb701; background:#143157;\"> \n",
    "    <span style=\"color: #fff;\"> Invoice -  </span>\n",
    "    <span style=\"font-size:.75em; color: #11a1f5;\"> Add Record </span>\n",
    "</p>"
   ]
  },
  {
   "cell_type": "markdown",
   "metadata": {},
   "source": [
    "<p style=\"padding:5px; border-bottom:3px solid #6d79a1; background:#e9edf7; margin:5px 0 -7px 20px;\"> \n",
    "   <span style=\"font-size:1.4em; color:#202f61;\" >Step 1 - </span>\n",
    "   <span style=\"font-size:1.4em; color:#e39607;\">Get Company and Year - </span> \n",
    "   <span style=\"font-size:1.2em; color:#209ebd;\">to Load Data </span>\n",
    "</p> "
   ]
  },
  {
   "cell_type": "code",
   "execution_count": 10,
   "metadata": {},
   "outputs": [],
   "source": [
    "import pandas as pd\n",
    "import numpy as np\n",
    "dfStd = pd.read_csv('data/basInfo.csv')\n",
    "Year = str(dfStd.loc[0, 'year'])\n",
    "coFolder = str(dfStd.loc[0, 'coFolder'])"
   ]
  },
  {
   "cell_type": "markdown",
   "metadata": {},
   "source": [
    "<p style=\"padding:5px; border-bottom:3px solid #6d79a1; background:#e9edf7; margin:5px 0 -7px 20px;\"> \n",
    "   <span style=\"font-size:1.4em; color:#202f61;\" >Step 2 - </span>\n",
    "   <span style=\"font-size:1.4em; color:#e39607;\">Read siBasic.csv - </span> \n",
    "   <span style=\"font-size:1.2em; color:#209ebd;\">to Get the last Invoice Number </span>\n",
    "</p> "
   ]
  },
  {
   "cell_type": "code",
   "execution_count": 11,
   "metadata": {},
   "outputs": [],
   "source": [
    "try: \n",
    "    req_cols = ['siRef', 'siDat']\n",
    "    fPath = \"Data/\" +coFolder+ \"/\" +Year+ \"/F1_Sales/Invoices/siBasic.csv\"\n",
    "    df = pd.read_csv(fPath, usecols=req_cols, index_col=False, encoding='unicode_escape')\n",
    "except:\n",
    "    data = {'siRef': [0]}\n",
    "    df = pd.DataFrame(data)"
   ]
  },
  {
   "cell_type": "code",
   "execution_count": 13,
   "metadata": {},
   "outputs": [],
   "source": [
    "## Get the last Order Number...\n",
    "lastInvoice = df['siRef'].max()"
   ]
  },
  {
   "cell_type": "markdown",
   "metadata": {},
   "source": [
    "<p style=\"padding:5px 5px 5px 20px; border-bottom:3px solid orange; background:#3c5c75; margin:15px 0 -7px 20px;\"> \n",
    "   <span style=\"font-size:1.4em; color:#f7ca25;\" >Get - </span>\n",
    "   <span style=\"font-size:1.4em; color:white;\">All Open - </span> \n",
    "   <span style=\"font-size:1.2em; color:#17cffc;\">List of Delivery Invoices not converted into Invoice</span>\n",
    "</p> "
   ]
  },
  {
   "cell_type": "markdown",
   "metadata": {},
   "source": [
    "<p style=\"padding:5px; border-bottom:3px solid #6d79a1; background:#e9edf7; margin:5px 0 -7px 20px;\"> \n",
    "   <span style=\"font-size:1.4em; color:#202f61;\" >Step 1 - </span>\n",
    "   <span style=\"font-size:1.4em; color:#e39607;\">Get Company and Year - </span> \n",
    "   <span style=\"font-size:1.2em; color:#209ebd;\">to Load Data </span>\n",
    "</p> "
   ]
  },
  {
   "cell_type": "code",
   "execution_count": 241,
   "metadata": {},
   "outputs": [],
   "source": [
    "import pandas as pd\n",
    "import numpy as np\n",
    "dfStd = pd.read_csv('data/basInfo.csv')\n",
    "Year = str(dfStd.loc[0, 'year'])\n",
    "coFolder = str(dfStd.loc[0, 'coFolder'])"
   ]
  },
  {
   "cell_type": "markdown",
   "metadata": {},
   "source": [
    "<p style=\"padding:5px; border-bottom:3px solid #6d79a1; background:#e9edf7; margin:5px 0 -7px 20px;\"> \n",
    "   <span style=\"font-size:1.4em; color:#202f61;\" >Step 2 - </span>\n",
    "   <span style=\"font-size:1.4em; color:#e39607;\">Read dlBasic.csv - </span> \n",
    "   <span style=\"font-size:1.2em; color:#209ebd;\">file to Load Data </span>\n",
    "</p> "
   ]
  },
  {
   "cell_type": "code",
   "execution_count": 242,
   "metadata": {},
   "outputs": [],
   "source": [
    "req_cols = [\"dlRef\",\"dlDat\", \"cusCode\", \"cusName\", \"opnClo\",\"action\"]\n",
    "fPath = \"Data/\" +coFolder+ \"/\" +Year+ \"/F1_Sales/Deliveries/dlBasic.csv\"\n",
    "df = pd.read_csv(fPath, usecols=req_cols, index_col=False, encoding='unicode_escape')\n",
    "df = df.drop(df.index[0]).fillna('') #drop first row which is dummy"
   ]
  },
  {
   "cell_type": "code",
   "execution_count": 243,
   "metadata": {},
   "outputs": [],
   "source": [
    "### file doesn't recongnize date formate first convert into date and than strftime\n",
    "df['dlDat'] = pd.to_datetime(df['dlDat']).dt.strftime('%Y-%m-%d')"
   ]
  },
  {
   "cell_type": "code",
   "execution_count": 245,
   "metadata": {},
   "outputs": [],
   "source": [
    "## Remove Duplicate Order and Deleted Record...\n",
    "df = df.drop_duplicates(subset=['dlRef'], keep='last')\n",
    "df = df.drop(df.loc[df['action']=='Deleted'].index)"
   ]
  },
  {
   "cell_type": "markdown",
   "metadata": {},
   "source": [
    "<p style=\"padding:5px; border-bottom:3px solid #6d79a1; background:#e9edf7; margin:5px 0 -7px 20px;\"> \n",
    "   <span style=\"font-size:1.4em; color:#202f61;\" >Step 3 - </span>\n",
    "   <span style=\"font-size:1.4em; color:#e39607;\">Read dlStat.csv - </span> \n",
    "   <span style=\"font-size:1.2em; color:#209ebd;\">file to Load Data </span>\n",
    "</p> "
   ]
  },
  {
   "cell_type": "code",
   "execution_count": 33,
   "metadata": {},
   "outputs": [],
   "source": [
    "statPath = \"Data/\" +coFolder+ \"/\" +Year+ \"/F1_Sales/Deliveries/dlStat.csv\"\n",
    "stat = pd.read_csv(statPath, index_col=False, encoding='unicode_escape')"
   ]
  },
  {
   "cell_type": "code",
   "execution_count": 34,
   "metadata": {},
   "outputs": [],
   "source": [
    "### Remove Duplicate and Deleted Record...\n",
    "stat = stat.drop_duplicates(subset=['dlRefSt'], keep='last')"
   ]
  },
  {
   "cell_type": "markdown",
   "metadata": {},
   "source": [
    "<p style=\"padding:5px; border-bottom:3px solid #6d79a1; background:#e9edf7; margin:5px 0 -7px 20px;\"> \n",
    "   <span style=\"font-size:1.4em; color:#202f61;\" >Step 4 - </span>\n",
    "   <span style=\"font-size:1.4em; color:#e39607;\">Map dlBasic.csv Open/Close with dlStat.csv\n",
    "</span> \n",
    "</p> "
   ]
  },
  {
   "cell_type": "code",
   "execution_count": 35,
   "metadata": {},
   "outputs": [],
   "source": [
    "opnClo_map = dict(zip(stat['dlRefSt'], stat['opnCloSt']))   ##map with stat\n",
    "df['opnClo'] = df['dlRef'].map(opnClo_map).fillna(df['opnClo'])"
   ]
  },
  {
   "cell_type": "markdown",
   "metadata": {},
   "source": [
    "<p style=\"padding:5px; border-bottom:3px solid #6d79a1; background:#e9edf7; margin:5px 0 -7px 20px;\"> \n",
    "   <span style=\"font-size:1.4em; color:#202f61;\" >Step 5 - </span>\n",
    "   <span style=\"font-size:1.4em; color:#e39607;\">Read siBasic.csv - </span> \n",
    "   <span style=\"font-size:1.2em; color:#209ebd;\">file to Load Data </span>\n",
    "</p> "
   ]
  },
  {
   "cell_type": "code",
   "execution_count": 36,
   "metadata": {},
   "outputs": [],
   "source": [
    "dlPath = \"Data/\" +coFolder+ \"/\" +Year+ \"/F1_Sales/Invoices/siBasic.csv\"\n",
    "siDf = pd.read_csv(dlPath, index_col=False, encoding='unicode_escape').fillna('')"
   ]
  },
  {
   "cell_type": "code",
   "execution_count": 37,
   "metadata": {},
   "outputs": [],
   "source": [
    "### Remove Duplicate and Deleted Record...\n",
    "siDf = siDf.drop_duplicates(subset=['siRef'], keep='last')\n",
    "siDf = siDf.drop(siDf.loc[siDf['action']=='Deleted'].index).fillna('')"
   ]
  },
  {
   "cell_type": "code",
   "execution_count": 38,
   "metadata": {},
   "outputs": [],
   "source": [
    "#Select a column \"dlRef\" and convert into list to filter\n",
    "siList = siDf['dlRef'].tolist() "
   ]
  },
  {
   "cell_type": "code",
   "execution_count": 39,
   "metadata": {},
   "outputs": [],
   "source": [
    "#filter out all open sales Quote which is already converted into Sales Order\n",
    "filterData = df[~df['dlRef'].isin(siList)]"
   ]
  },
  {
   "cell_type": "markdown",
   "metadata": {},
   "source": [
    "<p style=\"padding:5px; border-bottom:3px solid #6d79a1; background:#e9edf7; margin:5px 0 -7px 20px;\"> \n",
    "   <span style=\"font-size:1.4em; color:#202f61;\" >Step 6 - </span>\n",
    "   <span style=\"font-size:1.4em; color:#e39607;\"> Convert Data into Dictionary</span> \n",
    "</p> "
   ]
  },
  {
   "cell_type": "code",
   "execution_count": 40,
   "metadata": {},
   "outputs": [],
   "source": [
    "### Convert Data into Json Dictionary\n",
    "Data = filterData.to_dict(orient=\"records\")"
   ]
  },
  {
   "cell_type": "markdown",
   "metadata": {},
   "source": [
    "<p style=\"padding:5px 5px 5px 20px; border-bottom:3px solid orange; background:#3c5c75; margin:15px 0 -7px 20px;\"> \n",
    "   <span style=\"font-size:1.4em; color:#f7ca25;\" >Get - </span>\n",
    "   <span style=\"font-size:1.4em; color:white;\">Detail of - </span> \n",
    "   <span style=\"font-size:1.2em; color:#17cffc;\">Selected Order</span>\n",
    "</p> "
   ]
  },
  {
   "cell_type": "markdown",
   "metadata": {},
   "source": [
    "<p style=\"padding:5px; border-bottom:3px solid #6d79a1; background:#e9edf7; margin:5px 0 -7px 20px;\"> \n",
    "   <span style=\"font-size:1.4em; color:#202f61;\" >Step 1 - </span>\n",
    "   <span style=\"font-size:1.4em; color:#e39607;\">Get Company and Year - </span> \n",
    "   <span style=\"font-size:1.2em; color:#209ebd;\">to Load Data </span>\n",
    "</p> "
   ]
  },
  {
   "cell_type": "code",
   "execution_count": 41,
   "metadata": {},
   "outputs": [],
   "source": [
    "import pandas as pd\n",
    "import numpy as np\n",
    "dfStd = pd.read_csv('data/basInfo.csv')\n",
    "Year = str(dfStd.loc[0, 'year'])\n",
    "coFolder = str(dfStd.loc[0, 'coFolder'])"
   ]
  },
  {
   "cell_type": "markdown",
   "metadata": {},
   "source": [
    "<p style=\"padding:5px; border-bottom:3px solid #6d79a1; background:#e9edf7; margin:5px 0 -7px 20px;\"> \n",
    "   <span style=\"font-size:1.4em; color:#202f61;\" >Step 2 - </span>\n",
    "   <span style=\"font-size:1.4em; color:#e39607;\">Read soBasic.csv - </span> \n",
    "   <span style=\"font-size:1.2em; color:#209ebd;\">file to Load Data </span>\n",
    "</p> "
   ]
  },
  {
   "cell_type": "code",
   "execution_count": 42,
   "metadata": {},
   "outputs": [],
   "source": [
    "pk = 2300003\n",
    "\n",
    "fPath = \"Data/\" +coFolder+ \"/\" +Year+ \"/F1_Sales/Deliveries/dlBasic.csv\"\n",
    "dfA = pd.read_csv(fPath, index_col=False, encoding='unicode_escape')"
   ]
  },
  {
   "cell_type": "code",
   "execution_count": 44,
   "metadata": {},
   "outputs": [],
   "source": [
    "### Filter data based on 'pk' selected Order\n",
    "dfBasic = dfA[dfA['dlRef'] == pk].fillna(0) "
   ]
  },
  {
   "cell_type": "code",
   "execution_count": 45,
   "metadata": {},
   "outputs": [],
   "source": [
    "### file doesn't recongnize date formate first convert into date and than strftime\n",
    "dfBasic['dlDat'] = pd.to_datetime(dfBasic['dlDat']).dt.strftime('%Y-%m-%d')"
   ]
  },
  {
   "cell_type": "code",
   "execution_count": 46,
   "metadata": {},
   "outputs": [],
   "source": [
    "### Remove Duplicate Order and Deleted Record...\n",
    "dfBasic = dfBasic.drop_duplicates(subset=['dlRef'], keep='last')\n",
    "dfBasic = dfBasic.drop(dfBasic.loc[dfBasic['action']=='Deleted'].index)"
   ]
  },
  {
   "cell_type": "code",
   "execution_count": 47,
   "metadata": {},
   "outputs": [],
   "source": [
    "###..Get 'Transaction Date' Value..................................\n",
    "traDate = dfBasic.loc[dfBasic['dlRef'] == pk, 'traDate'].values[0]"
   ]
  },
  {
   "cell_type": "code",
   "execution_count": 56,
   "metadata": {},
   "outputs": [],
   "source": [
    "dlBasi = dfBasic.to_dict(orient=\"records\") ### convert into dictionary"
   ]
  },
  {
   "cell_type": "markdown",
   "metadata": {},
   "source": [
    "<p style=\"padding:5px; border-bottom:3px solid #6d79a1; background:#e9edf7; margin:5px 0 -7px 20px;\"> \n",
    "   <span style=\"font-size:1.4em; color:#fa5f1e;\">Get Cutomer Detail - </span> \n",
    "   <span style=\"font-size:1.2em; color:#961bfa;\">To Get Credit Term and other details </span>\n",
    "</p> "
   ]
  },
  {
   "cell_type": "code",
   "execution_count": 76,
   "metadata": {},
   "outputs": [],
   "source": [
    "###..Get 'Get Customer Code' Value..................................\n",
    "custCode = dfBasic.loc[dfBasic['dlRef'] == pk, 'cusCode'].values[0]"
   ]
  },
  {
   "cell_type": "code",
   "execution_count": 77,
   "metadata": {},
   "outputs": [],
   "source": [
    "### Read \"CustMaster.csv\" file\n",
    "req_cols = [\"cusCode\",\"cusCrLim\", \"cusPytTerm\", \"cusLegName\", \"cusTRN\"]\n",
    "fPath = \"Data/\" +coFolder+ \"/\" +Year+ \"/F1_Sales/Customers/CustMaster.csv\"\n",
    "dfC = pd.read_csv(fPath, index_col=False, usecols=req_cols, encoding='unicode_escape')"
   ]
  },
  {
   "cell_type": "code",
   "execution_count": 79,
   "metadata": {},
   "outputs": [],
   "source": [
    "### Filter data based on 'Customer Code' selected Order\n",
    "dfCustomer = dfC[dfC['cusCode'] == custCode].fillna(0) \n",
    "###..Convert into List...................................................\n",
    "cusDetail = dfCustomer.to_dict(orient=\"records\") "
   ]
  },
  {
   "cell_type": "markdown",
   "metadata": {},
   "source": [
    "<p style=\"padding:5px; border-bottom:3px solid #6d79a1; background:#e9edf7; margin:5px 0 -7px 20px;\"> \n",
    "   <span style=\"font-size:1.4em; color:#202f61;\" >Step 3 - </span>\n",
    "   <span style=\"font-size:1.4em; color:#e39607;\">Read soAddi.csv - </span> \n",
    "   <span style=\"font-size:1.2em; color:#209ebd;\">file to Load Data </span>\n",
    "</p> "
   ]
  },
  {
   "cell_type": "code",
   "execution_count": 57,
   "metadata": {},
   "outputs": [],
   "source": [
    "fPath = \"Data/\" +coFolder+ \"/\" +Year+ \"/F1_Sales/Deliveries/dlAddi.csv\"\n",
    "dfB = pd.read_csv(fPath, index_col=False, encoding='unicode_escape')"
   ]
  },
  {
   "cell_type": "code",
   "execution_count": 58,
   "metadata": {},
   "outputs": [],
   "source": [
    "### Filter data based on 'pk' selected Quote\n",
    "dfB = dfB[dfB['dlRef'] == pk].fillna(0)"
   ]
  },
  {
   "cell_type": "code",
   "execution_count": 59,
   "metadata": {},
   "outputs": [],
   "source": [
    "###..Filter the Record as per Transact Date .............................\n",
    "dfB = dfB[dfB['traDate'] == traDate].fillna('')"
   ]
  },
  {
   "cell_type": "code",
   "execution_count": 60,
   "metadata": {},
   "outputs": [],
   "source": [
    "###..Convert into List...................................................\n",
    "dlAddiItems = dfB.to_dict(orient=\"records\") "
   ]
  },
  {
   "cell_type": "markdown",
   "metadata": {},
   "source": [
    "<p style=\"font-size:2.2em; padding:18px; border-bottom: 5px solid #ffb701; background:#143157;\"> \n",
    "    <span style=\"color: #fff;\"> Invoice -  </span>\n",
    "    <span style=\"font-size:.75em; color: #11a1f5;\"> Add Record </span>\n",
    "</p>"
   ]
  },
  {
   "cell_type": "markdown",
   "metadata": {},
   "source": [
    "<p style=\"padding:5px; border-bottom:3px solid #6d79a1; background:#e9edf7; margin:5px 0 -7px 20px;\"> \n",
    "   <span style=\"font-size:1.4em; color:#202f61;\" >Step 1 - </span>\n",
    "   <span style=\"font-size:1.4em; color:#e39607;\">Get Company and Year - </span> \n",
    "   <span style=\"font-size:1.2em; color:#209ebd;\">to Load Data </span>\n",
    "</p> "
   ]
  },
  {
   "cell_type": "code",
   "execution_count": 10,
   "metadata": {},
   "outputs": [],
   "source": [
    "import pandas as pd\n",
    "import numpy as np\n",
    "dfStd = pd.read_csv('data/basInfo.csv')\n",
    "Year = str(dfStd.loc[0, 'year'])\n",
    "coFolder = str(dfStd.loc[0, 'coFolder'])"
   ]
  },
  {
   "cell_type": "markdown",
   "metadata": {},
   "source": [
    "<p style=\"padding:5px; border-bottom:3px solid #6d79a1; background:#e9edf7; margin:5px 0 -7px 20px;\"> \n",
    "   <span style=\"font-size:1.4em; color:#202f61;\" >Step 2 - </span>\n",
    "   <span style=\"font-size:1.4em; color:#e39607;\">Read siBasic.csv - </span> \n",
    "   <span style=\"font-size:1.2em; color:#209ebd;\">to Get the last Invoice Number </span>\n",
    "</p> "
   ]
  },
  {
   "cell_type": "code",
   "execution_count": 11,
   "metadata": {},
   "outputs": [],
   "source": [
    "try: \n",
    "    req_cols = ['siRef', 'siDat']\n",
    "    fPath = \"Data/\" +coFolder+ \"/\" +Year+ \"/F1_Sales/Invoices/siBasic.csv\"\n",
    "    df = pd.read_csv(fPath, usecols=req_cols, index_col=False, encoding='unicode_escape')\n",
    "except:\n",
    "    data = {'siRef': [0]}\n",
    "    df = pd.DataFrame(data)"
   ]
  },
  {
   "cell_type": "markdown",
   "metadata": {},
   "source": [
    "<p style=\"padding:5px 5px 5px 20px; border-bottom:3px solid orange; background:#3c5c75; margin:15px 0 -7px 20px;\"> \n",
    "   <span style=\"font-size:1.4em; color:#f7ca25;\" >Add Record - </span>\n",
    "   <span style=\"font-size:1.4em; color:white;\">Add New Invoice - </span> \n",
    "   <span style=\"font-size:1.2em; color:#17cffc;\">in siBasic, siAddi, siStat</span>\n",
    "</p> "
   ]
  },
  {
   "cell_type": "markdown",
   "metadata": {},
   "source": [
    "<p style=\"padding:5px; border-bottom:3px solid #6d79a1; background:#e9edf7; margin:5px 0 -7px 20px;\"> \n",
    "   <span style=\"font-size:1.4em; color:#202f61;\" >Step 1 - </span>\n",
    "   <span style=\"font-size:1.4em; color:#e39607;\">Get Company and Year - </span> \n",
    "   <span style=\"font-size:1.2em; color:#209ebd;\">to Load Data </span>\n",
    "</p> "
   ]
  },
  {
   "cell_type": "code",
   "execution_count": 247,
   "metadata": {},
   "outputs": [],
   "source": [
    "import pandas as pd\n",
    "import numpy as np\n",
    "dfStd = pd.read_csv('data/basInfo.csv')\n",
    "Year = str(dfStd.loc[0, 'year'])\n",
    "coFolder = str(dfStd.loc[0, 'coFolder'])"
   ]
  },
  {
   "cell_type": "markdown",
   "metadata": {},
   "source": [
    "<p style=\"padding:5px; border-bottom:3px solid #6d79a1; background:#e9edf7; margin:5px 0 -7px 20px;\"> \n",
    "   <span style=\"font-size:1.4em; color:#202f61;\" >Step 2 - </span>\n",
    "   <span style=\"font-size:1.4em; color:#e39607;\">Save Data in </span> \n",
    "   <span style=\"font-size:1.2em; color:#209ebd;\">siBasic.csv file</span>\n",
    "</p> "
   ]
  },
  {
   "cell_type": "code",
   "execution_count": 248,
   "metadata": {},
   "outputs": [],
   "source": [
    "SiBasic={'id':99, 'siRef':99, 'siDat':'2023-05-23', 'cusCode':2450014, 'cusName':'Test Customer',\n",
    "         'siTBD':100000, 'siTAD':20000, 'siTax':4000, 'siTAT':84000, 'shipTo':'Warehouse',\n",
    "            'siComm':'General Comments', 'opnClo':\"Open\", 'spName':'Joan Dow','spCode':629,\n",
    "            'dlRef':'2300006', 'dlDat':'2023-05-2','traDate':'2023-05-22 5-04-47', 'action':\" \",\n",
    "        }\n",
    "dfBasic = pd.DataFrame(SiBasic, index=[0])\n",
    "fPath = \"Data/\" +coFolder+ \"/\" +Year+ \"/F1_Sales/Invoices/siBasic.csv\"\n",
    "dfBasic.to_csv(fPath, index=False, header=False, mode='a')"
   ]
  },
  {
   "cell_type": "markdown",
   "metadata": {},
   "source": [
    "<p style=\"padding:5px; border-bottom:3px solid #6d79a1; background:#e9edf7; margin:5px 0 -7px 20px;\"> \n",
    "   <span style=\"font-size:1.4em; color:#202f61;\" >Step 3 - </span>\n",
    "   <span style=\"font-size:1.4em; color:#e39607;\">Save Data in </span> \n",
    "   <span style=\"font-size:1.2em; color:#209ebd;\">siAddi.csv file</span>\n",
    "</p> "
   ]
  },
  {
   "cell_type": "code",
   "execution_count": 249,
   "metadata": {},
   "outputs": [],
   "source": [
    "Addi  = {'id':99, 'siRef':99, 'sno':1, 'itmCod':4013150, 'desc':'Test Product',\n",
    "        'qty':10, 'price':15000, 'disc':2000, 'tot':13000, 'traDate':'2023-05-22 5-04-47',\n",
    "        'action':\" \"                            \n",
    "        }\n",
    "dfAddi = pd.DataFrame(Addi, index=[0])\n",
    "fPath = \"Data/\" +coFolder+ \"/\" +Year+ \"/F1_Sales/Invoices/siAddi.csv\"\n",
    "dfAddi.to_csv(fPath, index=False, header=False, mode='a')"
   ]
  },
  {
   "cell_type": "markdown",
   "metadata": {},
   "source": [
    "<p style=\"padding:5px; border-bottom:3px solid #6d79a1; background:#e9edf7; margin:5px 0 -7px 20px;\"> \n",
    "   <span style=\"font-size:1.4em; color:#202f61;\" >Step 4 - </span>\n",
    "   <span style=\"font-size:1.4em; color:#e39607;\">Save Data in </span> \n",
    "   <span style=\"font-size:1.2em; color:#209ebd;\">siStat.csv file</span>\n",
    "</p> "
   ]
  },
  {
   "cell_type": "code",
   "execution_count": 251,
   "metadata": {},
   "outputs": [],
   "source": [
    "siStat =  {'siRefSt':99, 'opnCloSt':\"Open\", 'traDate':'2023-05-22 5-04-47', 'action':\" \",}\n",
    "\n",
    "Stat = pd.DataFrame(siStat, index=[0])\n",
    "fPath = \"Data/\" +coFolder+ \"/\" +Year+ \"/F1_Sales/Invoices/siStat.csv\"\n",
    "Stat.to_csv(fPath, index=False, header=False, mode='a')"
   ]
  },
  {
   "cell_type": "markdown",
   "metadata": {},
   "source": [
    "<p style=\"padding:5px; border-bottom:3px solid #6d79a1; background:#e9edf7; margin:5px 0 -7px 20px;\"> \n",
    "   <span style=\"font-size:1.4em; color:#202f61;\" >Step 5 - </span>\n",
    "   <span style=\"font-size:1.4em; color:#e39607;\">Save Data in </span> \n",
    "   <span style=\"font-size:1.2em; color:#209ebd;\">dlStat.csv file</span>\n",
    "</p> "
   ]
  },
  {
   "cell_type": "code",
   "execution_count": 250,
   "metadata": {},
   "outputs": [],
   "source": [
    "dlStat =  {'dlRefSt':2300007, 'opnCloSt':\"Closed\",'traDate':'2023-05-22 5-04-47', 'action':\" \",}\n",
    "\n",
    "dfBasic = pd.DataFrame(dlStat, index=[0])\n",
    "fPath = \"Data/\" +coFolder+ \"/\" +Year+ \"/F1_Sales/Deliveries/dlStat.csv\"\n",
    "dfBasic.to_csv(fPath, index=False, header=False, mode='a')"
   ]
  },
  {
   "cell_type": "markdown",
   "metadata": {},
   "source": [
    "<p style=\"margin:5px 0 -7px 20px; text-align: center\"> \n",
    "   <span style=\"font-size:1.6em; color:black;\" >Journal Entry </span>\n",
    "</p> "
   ]
  },
  {
   "cell_type": "markdown",
   "metadata": {},
   "source": [
    "<p style=\"padding:5px; border-bottom:3px solid #6d79a1; background:#e9edf7; margin:5px 0 -7px 20px;\"> \n",
    "   <span style=\"font-size:1.4em; color:#202f61;\" >Step 6 - </span>\n",
    "   <span style=\"font-size:1.4em; color:#e39607;\">Save Data in </span> \n",
    "   <span style=\"font-size:1.2em; color:#209ebd;\">Customers.csv file</span>\n",
    "</p> "
   ]
  },
  {
   "cell_type": "code",
   "execution_count": 252,
   "metadata": {},
   "outputs": [],
   "source": [
    "customers =  {'Ref':99,'type': 'si', 'siDat':'2023-05-23', 'cusCode':2450014, 'cusName':'Test Customer',\n",
    "              'siTAT':84000, 'siComm':'General Comments','ptStat':'Outstanding','dueDate':'90',\n",
    "              'traDate':'2023-05-22 5-04-47', 'action':\" \",\n",
    "            }\n",
    "itemDf = pd.DataFrame(customers, index=[0])\n",
    "fPath = \"Data/\" +coFolder+ \"/\" +Year+ \"/F1_Sales/Customers/Customers.csv\"\n",
    "itemDf.to_csv(fPath, index=False, header=False, mode='a')"
   ]
  },
  {
   "cell_type": "markdown",
   "metadata": {},
   "source": [
    "<p style=\"padding:5px; border-bottom:3px solid #6d79a1; background:#e9edf7; margin:5px 0 -7px 20px;\"> \n",
    "   <span style=\"font-size:1.4em; color:#202f61;\" >Step 7 - </span>\n",
    "   <span style=\"font-size:1.4em; color:#e39607;\">Journal Entry </span> \n",
    "   <span style=\"font-size:1.2em; color:#209ebd;\">Entries.csv file</span>\n",
    "</p> "
   ]
  },
  {
   "cell_type": "code",
   "execution_count": 253,
   "metadata": {},
   "outputs": [],
   "source": [
    "addRecords = []\n",
    "customer =  {'Ref':99, 'type': 'si', 'siDat':'2023-05-23', 'accCode':2450014, 'accName':'Test Customer', 'siComm':'General Comments','amount':84000 ,'traDate':'2023-05-22 5-04-47', 'action':\" \"}\n",
    "vat =  {'Ref':99, 'type': 'si', 'siDat':'2023-05-23', 'accCode':44280001, 'accName':'VAT Output Tax Payable', 'siComm':'General Comments','amount':-4000,'traDate':'2023-05-22 5-04-47', 'action':\" \"}\n",
    "sales =  {'Ref':99, 'type': 'si', 'siDat':'2023-05-23', 'accCode':70120001, 'accName':'Credit Sales', 'siComm':'General Comments','amount':-80000,'traDate':'2023-05-22 5-04-47', 'action':\" \"}\n",
    "addRecords.append(customer)\n",
    "addRecords.append(vat)\n",
    "addRecords.append(sales)\n",
    "\n",
    "Journal = pd.DataFrame(addRecords)\n",
    "fPath = \"Data/\" +coFolder+ \"/\" +Year+ \"/C1_Gl/Journals/Journals.csv\"\n",
    "Journal.to_csv(fPath, index=False, header=False, mode='a')"
   ]
  },
  {
   "cell_type": "markdown",
   "metadata": {},
   "source": [
    "<p style=\"font-family:Calibri; font-size:1.75em; color:white; padding:5px 5px; text-align: left; height:50px; border-bottom: 3px solid orange; margin:-7px 0px;\"></p>"
   ]
  },
  {
   "cell_type": "markdown",
   "metadata": {},
   "source": [
    "<p style=\"font-size:2.2em; padding:18px; border-bottom: 5px solid #ffb701; background:#143157;\"> \n",
    "    <span style=\"color: #fff;\"> Invoice -  </span>\n",
    "    <span style=\"font-size:.75em; color: #11a1f5;\"> Show and Edit Orders </span>\n",
    "</p>"
   ]
  },
  {
   "cell_type": "markdown",
   "metadata": {},
   "source": [
    "<p style=\"padding:5px; border-bottom:3px solid #6d79a1; background:#e9edf7; margin:5px 0 -7px 20px;\"> \n",
    "   <span style=\"font-size:1.4em; color:#202f61;\" >Step 1 - </span>\n",
    "   <span style=\"font-size:1.4em; color:#e39607;\">Get Company and Year - </span> \n",
    "   <span style=\"font-size:1.2em; color:#209ebd;\">to Load Data </span>\n",
    "</p> "
   ]
  },
  {
   "cell_type": "code",
   "execution_count": 101,
   "metadata": {},
   "outputs": [],
   "source": [
    "import pandas as pd\n",
    "import numpy as np\n",
    "dfStd = pd.read_csv('data/basInfo.csv')\n",
    "Year = str(dfStd.loc[0, 'year'])\n",
    "coFolder = str(dfStd.loc[0, 'coFolder'])"
   ]
  },
  {
   "cell_type": "markdown",
   "metadata": {},
   "source": [
    "<p style=\"padding:5px; border-bottom:3px solid #6d79a1; background:#e9edf7; margin:5px 0 -7px 20px;\"> \n",
    "   <span style=\"font-size:1.4em; color:#202f61;\" >Step 2 - </span>\n",
    "   <span style=\"font-size:1.4em; color:#e39607;\">Read siBasic.csv File</span> \n",
    "</p> "
   ]
  },
  {
   "cell_type": "code",
   "execution_count": 102,
   "metadata": {},
   "outputs": [],
   "source": [
    "pk = 2300001\n",
    "fPath = \"Data/\" +coFolder+ \"/\" +Year+ \"/F1_Sales/Invoices/siBasic.csv\"\n",
    "dfA = pd.read_csv(fPath, index_col=False, encoding='unicode_escape').fillna('')\n",
    "dfBasic = dfA[dfA['siRef'] == pk].fillna(0) ### Filter data as per 'pk' selected quote"
   ]
  },
  {
   "cell_type": "code",
   "execution_count": 103,
   "metadata": {},
   "outputs": [],
   "source": [
    "### file doesn't recongnize date formate first convert into date and than strftime\n",
    "dfBasic['siDat'] = pd.to_datetime(dfBasic['siDat']).dt.strftime('%Y-%m-%d')\n",
    "dfBasic['dlDat'] = pd.to_datetime(dfBasic['dlDat']).dt.strftime('%Y-%m-%d')"
   ]
  },
  {
   "cell_type": "code",
   "execution_count": 104,
   "metadata": {},
   "outputs": [],
   "source": [
    "### Remove Duplicate Quote and Deleted Record...\n",
    "dfBasic = dfBasic.drop_duplicates(subset=['siRef'], keep='last')\n",
    "dfBasic = dfBasic.drop(dfBasic.loc[dfBasic['action']=='Delete'].index)"
   ]
  },
  {
   "cell_type": "code",
   "execution_count": 89,
   "metadata": {
    "scrolled": true
   },
   "outputs": [],
   "source": [
    "### Convert Transaction Date to list to filter records in qotAddi\n",
    "List = dfBasic[\"traDate\"] #.tolist()"
   ]
  },
  {
   "cell_type": "code",
   "execution_count": 91,
   "metadata": {},
   "outputs": [],
   "source": [
    "### Convert Transaction Date to list to filter records in qotAddi\n",
    "siBasi = dfBasic.to_dict(orient=\"records\") ### convert into dictionary"
   ]
  },
  {
   "cell_type": "markdown",
   "metadata": {},
   "source": [
    "<p style=\"padding:5px; border-bottom:3px solid #6d79a1; background:#e9edf7; margin:5px 0 -7px 20px;\"> \n",
    "   <span style=\"font-size:1.4em; color:#202f61;\" >Step 3 - </span>\n",
    "   <span style=\"font-size:1.4em; color:#e39607;\">Read siAddi.csv File</span> \n",
    "</p> "
   ]
  },
  {
   "cell_type": "code",
   "execution_count": 93,
   "metadata": {},
   "outputs": [],
   "source": [
    "fPath = \"Data/\" +coFolder+ \"/\" +Year+ \"/F1_Sales/Invoices/siAddi.csv\"\n",
    "dfB = pd.read_csv(fPath, index_col=False, encoding='unicode_escape').fillna('')\n",
    "dfAddi = dfB[dfB['siRef'] == pk].fillna(0) ### Filter as per 'pk' selected quote"
   ]
  },
  {
   "cell_type": "code",
   "execution_count": 95,
   "metadata": {},
   "outputs": [],
   "source": [
    "filtered_df = dfAddi[dfAddi['traDate'].isin(List)] ### Filter by transaction Date"
   ]
  },
  {
   "cell_type": "code",
   "execution_count": 97,
   "metadata": {},
   "outputs": [],
   "source": [
    "### Convert Transaction Date to list to filter records in qotAddi\n",
    "siAddiItems = filtered_df.to_dict(orient=\"records\") ### convert into dictionary"
   ]
  },
  {
   "cell_type": "markdown",
   "metadata": {},
   "source": [
    "<p style=\"padding:5px; border-bottom:3px solid #6d79a1; background:#e9edf7; margin:5px 0 -7px 20px;\"> \n",
    "   <span style=\"font-size:1.4em; color:#fa5f1e;\">Get Cutomer Detail - </span> \n",
    "   <span style=\"font-size:1.2em; color:#961bfa;\">To Get Credit Term and other details </span>\n",
    "</p> "
   ]
  },
  {
   "cell_type": "code",
   "execution_count": 106,
   "metadata": {},
   "outputs": [],
   "source": [
    "###..Get 'Get Customer Code' Value..................................\n",
    "custCode = dfBasic.loc[dfBasic['siRef'] == pk, 'cusCode'].values[0]"
   ]
  },
  {
   "cell_type": "code",
   "execution_count": 108,
   "metadata": {},
   "outputs": [],
   "source": [
    "### Read \"CustMaster.csv\" file\n",
    "req_cols = [\"cusCode\",\"cusCrLim\", \"cusPytTerm\", \"cusLegName\", \"cusTRN\"]\n",
    "fPath = \"Data/\" +coFolder+ \"/\" +Year+ \"/F1_Sales/Customers/CustMaster.csv\"\n",
    "dfC = pd.read_csv(fPath, index_col=False, usecols=req_cols, encoding='unicode_escape')"
   ]
  },
  {
   "cell_type": "code",
   "execution_count": 109,
   "metadata": {},
   "outputs": [],
   "source": [
    "### Filter data based on 'Customer Code' selected Order\n",
    "dfCustomer = dfC[dfC['cusCode'] == custCode].fillna(0) \n",
    "###..Convert into List...................................................\n",
    "cusDetail = dfCustomer.to_dict(orient=\"records\") "
   ]
  },
  {
   "cell_type": "markdown",
   "metadata": {},
   "source": [
    "<p style=\"font-family:Calibri; font-size:1.75em; color:white; padding:5px 5px; text-align: left; height:50px; border-bottom: 3px solid orange; margin:-7px 0px;\"></p>"
   ]
  },
  {
   "cell_type": "markdown",
   "metadata": {},
   "source": [
    "<p style=\"font-size:2.2em; padding:18px; border-bottom: 5px solid #ffb701; background:#143157;\"> \n",
    "    <span style=\"color: #fff;\">Invoice -  </span>\n",
    "    <span style=\"font-size:.75em; color: #11a1f5;\"> Delete Sales Invoice </span>\n",
    "</p>"
   ]
  },
  {
   "cell_type": "markdown",
   "metadata": {},
   "source": [
    "<p style=\"padding:5px; border-bottom:3px solid #6d79a1; background:#e9edf7; margin:5px 0 -7px 20px;\"> \n",
    "   <span style=\"font-size:1.4em; color:#202f61;\" >Step 1 - </span>\n",
    "   <span style=\"font-size:1.4em; color:#e39607;\">Get Company and Year - </span> \n",
    "   <span style=\"font-size:1.2em; color:#209ebd;\">to Load Data </span>\n",
    "</p> "
   ]
  },
  {
   "cell_type": "code",
   "execution_count": 254,
   "metadata": {},
   "outputs": [],
   "source": [
    "import pandas as pd\n",
    "import numpy as np\n",
    "dfStd = pd.read_csv('data/basInfo.csv')\n",
    "Year = str(dfStd.loc[0, 'year'])\n",
    "coFolder = str(dfStd.loc[0, 'coFolder'])"
   ]
  },
  {
   "cell_type": "markdown",
   "metadata": {},
   "source": [
    "<p style=\"padding:5px; border-bottom:3px solid #6d79a1; background:#e9edf7; margin:5px 0 -7px 20px;\"> \n",
    "   <span style=\"font-size:1.4em; color:#202f61;\" >Step 2 - </span>\n",
    "   <span style=\"font-size:1.4em; color:#e39607;\">Read siBasic.csv File</span> \n",
    "</p> "
   ]
  },
  {
   "cell_type": "code",
   "execution_count": 255,
   "metadata": {},
   "outputs": [],
   "source": [
    "pk = 2300001\n",
    "fPath = \"Data/\" +coFolder+ \"/\" +Year+ \"/F1_Sales/Invoices/siBasic.csv\"\n",
    "dfA = pd.read_csv(fPath, index_col=False, encoding='unicode_escape').fillna('')\n",
    "dfBasic = dfA[dfA['siRef'] == pk].fillna(0) ### Filter data as per 'pk' selected quote"
   ]
  },
  {
   "cell_type": "code",
   "execution_count": 256,
   "metadata": {},
   "outputs": [],
   "source": [
    "### Remove Duplicate Quote and Deleted Record...\n",
    "dfBasic = dfBasic.drop_duplicates(subset=['siRef'], keep='last')\n",
    "dfBasic = dfBasic.drop(dfBasic.loc[dfBasic['action']=='Deleted'].index)"
   ]
  },
  {
   "cell_type": "code",
   "execution_count": 257,
   "metadata": {},
   "outputs": [],
   "source": [
    "dfBasic['action'] = 'Deleted' ### in 'action' column add the word 'Deleted'"
   ]
  },
  {
   "cell_type": "code",
   "execution_count": 258,
   "metadata": {},
   "outputs": [],
   "source": [
    "### Save the record(dataframe) in csv file\n",
    "fPath = fPath = \"Data/\" +coFolder+ \"/\" +Year+ \"/F1_Sales/Invoices/siBasic.csv\"\n",
    "dfBasic.to_csv(fPath, index=False, header=False, mode='a')"
   ]
  },
  {
   "cell_type": "markdown",
   "metadata": {},
   "source": [
    "<p style=\"padding:5px; border-bottom:3px solid #6d79a1; background:#e9edf7; margin:5px 0 -7px 20px;\"> \n",
    "   <span style=\"font-size:1.4em; color:#202f61;\" >Step 3 - </span>\n",
    "   <span style=\"font-size:1.4em; color:#e39607;\">Read siState.csv File</span> \n",
    "</p> "
   ]
  },
  {
   "cell_type": "code",
   "execution_count": 259,
   "metadata": {},
   "outputs": [],
   "source": [
    "fPath = \"Data/\" +coFolder+ \"/\" +Year+ \"/F1_Sales/Invoices/siStat.csv\"\n",
    "dfA = pd.read_csv(fPath, index_col=False, encoding='unicode_escape').fillna('')\n",
    "dfStat = dfA[dfA['siRefSt'] == pk].fillna(0) ### Filter data as per 'pk' selected quote"
   ]
  },
  {
   "cell_type": "code",
   "execution_count": 154,
   "metadata": {},
   "outputs": [],
   "source": [
    "### Remove Duplicate Quote and Deleted Record...\n",
    "dfStat = dfStat.drop_duplicates(subset=['siRefSt'], keep='last')\n",
    "dfStat = dfStat.drop(dfStat.loc[dfStat['action']=='Deleted'].index)"
   ]
  },
  {
   "cell_type": "code",
   "execution_count": 155,
   "metadata": {},
   "outputs": [],
   "source": [
    "dfStat['action'] = 'Deleted' ### in 'action' column add the word 'Deleted'"
   ]
  },
  {
   "cell_type": "code",
   "execution_count": 156,
   "metadata": {},
   "outputs": [],
   "source": [
    "### Save the record(dataframe) in csv file\n",
    "fPath = fPath = \"Data/\" +coFolder+ \"/\" +Year+ \"/F1_Sales/Invoices/siStat.csv\"\n",
    "dfStat.to_csv(fPath, index=False, header=False, mode='a')"
   ]
  },
  {
   "cell_type": "markdown",
   "metadata": {},
   "source": [
    "<p style=\"padding:5px; border-bottom:3px solid #6d79a1; background:#e9edf7; margin:5px 0 -7px 20px;\"> \n",
    "   <span style=\"font-size:1.4em; color:#202f61;\" >Step 4 - </span>\n",
    "   <span style=\"font-size:1.4em; color:#e39607;\">Read dlStat.csv File</span> \n",
    "</p> "
   ]
  },
  {
   "cell_type": "code",
   "execution_count": 157,
   "metadata": {},
   "outputs": [],
   "source": [
    "Ord= 2300004\n",
    "fPath = \"Data/\" +coFolder+ \"/\" +Year+ \"/F1_Sales/Deliveries/dlStat.csv\"\n",
    "dfA = pd.read_csv(fPath, index_col=False, encoding='unicode_escape').fillna('')\n",
    "dfStat = dfA[dfA['dlRefSt'] == Ord].fillna(0) ### Filter data as per 'pk' selected quote"
   ]
  },
  {
   "cell_type": "code",
   "execution_count": 158,
   "metadata": {},
   "outputs": [],
   "source": [
    "### Remove Duplicate Quote and Deleted Record...\n",
    "dfStat = dfStat.drop_duplicates(subset=['dlRefSt'], keep='last')\n",
    "dfStat = dfStat.drop(dfStat.loc[dfStat['action']=='Deleted'].index)"
   ]
  },
  {
   "cell_type": "code",
   "execution_count": 159,
   "metadata": {},
   "outputs": [],
   "source": [
    "dfStat['opnCloSt'] = 'Open' ### in 'action' column add the word 'Deleted'"
   ]
  },
  {
   "cell_type": "code",
   "execution_count": 160,
   "metadata": {},
   "outputs": [],
   "source": [
    "### Save the record(dataframe) in csv file\n",
    "fPath = fPath = \"Data/\" +coFolder+ \"/\" +Year+ \"/F1_Sales/Deliveries/dlStat.csv\"\n",
    "dfStat.to_csv(fPath, index=False, header=False, mode='a')"
   ]
  },
  {
   "cell_type": "markdown",
   "metadata": {},
   "source": [
    "<p style=\"padding:5px; border-bottom:3px solid #6d79a1; background:#e9edf7; margin:5px 0 -7px 20px;\"> \n",
    "   <span style=\"font-size:1.4em; color:#202f61;\" >Step 5 - </span>\n",
    "   <span style=\"font-size:1.4em; color:#e39607;\">Read Customers.csv File</span> \n",
    "</p> "
   ]
  },
  {
   "cell_type": "code",
   "execution_count": 289,
   "metadata": {},
   "outputs": [],
   "source": [
    "pk= 2300002\n",
    "fPath = \"Data/\" +coFolder+ \"/\" +Year+ \"/F1_Sales/Customers/Customers.csv\"\n",
    "dfA = pd.read_csv(fPath, index_col=False, encoding='unicode_escape').fillna('')\n",
    "dfStat = dfA[dfA['Ref'] == pk].fillna(0) ### Filter data as per 'pk' selected quote"
   ]
  },
  {
   "cell_type": "code",
   "execution_count": 290,
   "metadata": {},
   "outputs": [],
   "source": [
    "### Remove Duplicate Quote and Deleted Record...\n",
    "dfStat = dfStat.drop_duplicates(subset=['Ref'], keep='last')\n",
    "dfStat = dfStat.drop(dfStat.loc[dfStat['action']=='Deleted'].index)"
   ]
  },
  {
   "cell_type": "code",
   "execution_count": 291,
   "metadata": {},
   "outputs": [],
   "source": [
    "dfStat['action'] = 'Deleted' ### in 'action' column add the word 'Deleted'"
   ]
  },
  {
   "cell_type": "code",
   "execution_count": 292,
   "metadata": {},
   "outputs": [],
   "source": [
    "### Save the record(dataframe) in csv file\n",
    "fPath = fPath = \"Data/\" +coFolder+ \"/\" +Year+ \"/F1_Sales/Customers/Customers.csv\"\n",
    "dfStat.to_csv(fPath, index=False, header=False, mode='a')"
   ]
  },
  {
   "cell_type": "markdown",
   "metadata": {},
   "source": [
    "<p style=\"padding:5px; border-bottom:3px solid #6d79a1; background:#e9edf7; margin:5px 0 -7px 20px;\"> \n",
    "   <span style=\"font-size:1.4em; color:#202f61;\" >Step 6 - </span>\n",
    "   <span style=\"font-size:1.4em; color:#e39607;\">Read Journals.csv File</span> \n",
    "</p> "
   ]
  },
  {
   "cell_type": "code",
   "execution_count": 293,
   "metadata": {},
   "outputs": [],
   "source": [
    "pk= 2300002\n",
    "fPath = \"Data/\" +coFolder+ \"/\" +Year+ \"/C1_Gl/Journals/Journals.csv\"\n",
    "dfA = pd.read_csv(fPath, index_col=False, encoding='unicode_escape').fillna('')"
   ]
  },
  {
   "cell_type": "code",
   "execution_count": 294,
   "metadata": {},
   "outputs": [],
   "source": [
    "dfA['unique'] = dfA['Ref'].astype(str)+ '-' +dfA['Type']\n",
    "itemPk = str(pk)+'-si'\n",
    "dfStat = dfA[dfA['unique'] == itemPk].fillna(0) ### Filter data as per 'pk' selected quote"
   ]
  },
  {
   "cell_type": "code",
   "execution_count": 295,
   "metadata": {},
   "outputs": [],
   "source": [
    "### Remove Duplicate Quote and Deleted Record...\n",
    "dfStat = dfStat.drop_duplicates(subset=['accCode'], keep='last')\n",
    "dfStat = dfStat.drop(dfStat.loc[dfStat['action']=='Deleted'].index)"
   ]
  },
  {
   "cell_type": "code",
   "execution_count": 297,
   "metadata": {},
   "outputs": [],
   "source": [
    "dfStat['action'] = 'Deleted' ### in 'action' column add the word 'Deleted\n",
    "dfStat = dfStat.drop('unique', axis=1)"
   ]
  },
  {
   "cell_type": "code",
   "execution_count": 300,
   "metadata": {},
   "outputs": [],
   "source": [
    "### Save the record(dataframe) in csv file\n",
    "fPath = \"Data/\" +coFolder+ \"/\" +Year+ \"/C1_Gl/Journals/Journals.csv\"\n",
    "dfStat.to_csv(fPath, index=False, header=False, mode='a')"
   ]
  },
  {
   "cell_type": "markdown",
   "metadata": {},
   "source": [
    "<p style=\"font-family:Calibri; font-size:1.75em; color:white; padding:5px 5px; text-align: left; height:50px; border-bottom: 3px solid orange; margin:-7px 0px;\"></p>"
   ]
  },
  {
   "cell_type": "markdown",
   "metadata": {},
   "source": [
    "<p style=\"font-size:2.2em; padding:10px; border-bottom: 5px solid #ffb701; background:#492863;\n",
    "          text-align:center\"> \n",
    "    <span style=\"color: #debef7;\"> Delivery Note  </span> <br>\n",
    "</p>"
   ]
  },
  {
   "cell_type": "markdown",
   "metadata": {},
   "source": [
    "<p style=\"font-size:2em; padding:18px; border-bottom: 5px solid #ffb701; background:#143157;\"> \n",
    "    <span style=\"color: #fff;\"> Create Sub-Folder -  </span>\n",
    "    <span style=\"font-size:.75em; color: #11a1f5;\"> \"Delivery Note\" </span>\n",
    "</p>"
   ]
  },
  {
   "cell_type": "code",
   "execution_count": 216,
   "metadata": {},
   "outputs": [
    {
     "ename": "NameError",
     "evalue": "name 'os' is not defined",
     "output_type": "error",
     "traceback": [
      "\u001b[1;31m---------------------------------------------------------------------------\u001b[0m",
      "\u001b[1;31mNameError\u001b[0m                                 Traceback (most recent call last)",
      "Input \u001b[1;32mIn [216]\u001b[0m, in \u001b[0;36m<cell line: 2>\u001b[1;34m()\u001b[0m\n\u001b[0;32m      1\u001b[0m subFolder \u001b[38;5;241m=\u001b[39m \u001b[38;5;124m\"\u001b[39m\u001b[38;5;124mData/\u001b[39m\u001b[38;5;124m\"\u001b[39m \u001b[38;5;241m+\u001b[39mcoFolder\u001b[38;5;241m+\u001b[39m \u001b[38;5;124m\"\u001b[39m\u001b[38;5;124m/\u001b[39m\u001b[38;5;124m\"\u001b[39m \u001b[38;5;241m+\u001b[39mYear\u001b[38;5;241m+\u001b[39m \u001b[38;5;124m\"\u001b[39m\u001b[38;5;124m/F1_Sales/Deliveries\u001b[39m\u001b[38;5;124m\"\u001b[39m\n\u001b[1;32m----> 2\u001b[0m \u001b[43mos\u001b[49m\u001b[38;5;241m.\u001b[39mmakedirs(subFolder, mode\u001b[38;5;241m=\u001b[39m\u001b[38;5;241m0o777\u001b[39m, exist_ok\u001b[38;5;241m=\u001b[39m\u001b[38;5;28;01mTrue\u001b[39;00m)\n",
      "\u001b[1;31mNameError\u001b[0m: name 'os' is not defined"
     ]
    }
   ],
   "source": [
    "subFolder = \"Data/\" +coFolder+ \"/\" +Year+ \"/F1_Sales/Deliveries\"\n",
    "os.makedirs(subFolder, mode=0o777, exist_ok=True)"
   ]
  },
  {
   "cell_type": "markdown",
   "metadata": {},
   "source": [
    "<p style=\"font-family:Calibri; font-size:1.2em; color:#061233; padding:2px 5px; margin: 5px 0 -7px 20px; border-bottom: 3px solid #0d1e4f; background: #f0f4ff\">  \n",
    "   <span style=\"font-size:1.2em; color:#384073;\" >1a. Create</span>\n",
    "   <span style=\"font-size:1.2em; color:#821107;\" >dlBasic.CSV</span>\n",
    "   <span style=\"font-size:1.2em; color:#384073;\" >file</span>\n",
    "</p>"
   ]
  },
  {
   "cell_type": "code",
   "execution_count": 64,
   "metadata": {},
   "outputs": [],
   "source": [
    "file_path = \"Data/\" +coFolder+ \"/\" +Year+ \"/F1_Sales/Deliveries/dlBasic.csv\"\n",
    "\n",
    "if not os.path.exists(file_path):\n",
    "    headers = ['id', 'dlRef', 'dlDat', 'cusCode', 'cusName', 'dlTBD', 'dlTAD', 'dlTax', 'dlTAT', 'shipTo', 'dlComm', 'opnClo', 'spCName', 'spCode', 'soRef', 'soDat', 'traDate', 'action' ]\n",
    "    new_record = {'id': str(Year[2:])+\"00000\", 'dlRef': str(Year[2:])+\"00000\"}\n",
    "    \n",
    "    with open(file_path, 'w', newline='') as csv_file:  #create fresh file each time\n",
    "        writer = csv.writer(csv_file); \n",
    "        writer.writerow(headers)\n",
    "        writer.writerow(new_record.values())"
   ]
  },
  {
   "cell_type": "markdown",
   "metadata": {},
   "source": [
    "<p style=\"font-family:Calibri; font-size:1.2em; color:#061233; padding:2px 5px; margin: 5px 0 -7px 20px; border-bottom: 3px solid #0d1e4f; background: #f0f4ff\">  \n",
    "   <span style=\"font-size:1.2em; color:#384073;\" >1b. Create</span>\n",
    "   <span style=\"font-size:1.2em; color:#821107;\" >dlAddi.CSV</span>\n",
    "   <span style=\"font-size:1.2em; color:#384073;\" >file</span>\n",
    "</p>"
   ]
  },
  {
   "cell_type": "code",
   "execution_count": 65,
   "metadata": {},
   "outputs": [],
   "source": [
    "file_path = \"Data/\" +coFolder+ \"/\" +Year+ \"/F1_Sales/Deliveries/dlAddi.csv\"\n",
    "\n",
    "if not os.path.exists(file_path):\n",
    "    headers = ['id', 'dlRef', 'sno', 'itmCod', 'desc', 'qty', 'price', 'disc', 'tot', 'vat', 'wac', 'traDate', 'action']\n",
    "\n",
    "    with open(file_path, 'w', newline='') as csv_file:  #create fresh file each time\n",
    "        writer = csv.writer(csv_file); \n",
    "        writer.writerow(headers)"
   ]
  },
  {
   "cell_type": "markdown",
   "metadata": {},
   "source": [
    "<p style=\"font-family:Calibri; font-size:1.2em; color:#061233; padding:2px 5px; margin: 5px 0 -7px 20px; border-bottom: 3px solid #0d1e4f; background: #f0f4ff\">  \n",
    "   <span style=\"font-size:1.2em; color:#384073;\" >1c. Create</span>\n",
    "   <span style=\"font-size:1.2em; color:#821107;\" >dlStat.CSV</span>\n",
    "   <span style=\"font-size:1.2em; color:#384073;\" >file</span>\n",
    "</p>"
   ]
  },
  {
   "cell_type": "code",
   "execution_count": 66,
   "metadata": {},
   "outputs": [],
   "source": [
    "file_path = \"Data/\" +coFolder+ \"/\" +Year+ \"/F1_Sales/Deliveries/dlStat.csv\"\n",
    "\n",
    "if not os.path.exists(file_path):\n",
    "    headers = ['dlRefSt','opnCloSt','traDate', 'action']\n",
    "\n",
    "    with open(file_path, 'w', newline='') as csv_file:  #create fresh file each time\n",
    "        writer = csv.writer(csv_file); \n",
    "        writer.writerow(headers)"
   ]
  },
  {
   "cell_type": "markdown",
   "metadata": {},
   "source": [
    "<p style=\"font-family:Calibri; font-size:1.75em; color:white; padding:5px 5px; text-align: left; height:50px; border-bottom: 3px solid orange; margin:-7px 0px;\"></p>"
   ]
  },
  {
   "cell_type": "markdown",
   "metadata": {},
   "source": [
    "<p style=\"font-size:2.2em; padding:18px; border-bottom: 5px solid #ffb701; background:#143157;\"> \n",
    "    <span style=\"color: #fff;\"> Delivery -  </span>\n",
    "    <span style=\"font-size:.75em; color: #11a1f5;\"> Show All Transactions </span>\n",
    "</p>"
   ]
  },
  {
   "cell_type": "markdown",
   "metadata": {},
   "source": [
    "<p style=\"padding:5px; border-bottom:3px solid #6d79a1; background:#e9edf7; margin:5px 0 -7px 20px;\"> \n",
    "   <span style=\"font-size:1.4em; color:#202f61;\" >Step 1 - </span>\n",
    "   <span style=\"font-size:1.4em; color:#e39607;\">Get Company and Year - </span> \n",
    "   <span style=\"font-size:1.2em; color:#209ebd;\">to Load Data </span>\n",
    "</p> "
   ]
  },
  {
   "cell_type": "code",
   "execution_count": 70,
   "metadata": {},
   "outputs": [],
   "source": [
    "import pandas as pd\n",
    "import numpy as np\n",
    "dfStd = pd.read_csv('data/basInfo.csv')\n",
    "Year = str(dfStd.loc[0, 'year'])\n",
    "coFolder = str(dfStd.loc[0, 'coFolder'])"
   ]
  },
  {
   "cell_type": "markdown",
   "metadata": {},
   "source": [
    "<p style=\"padding:5px; border-bottom:3px solid #6d79a1; background:#e9edf7; margin:5px 0 -7px 20px;\"> \n",
    "   <span style=\"font-size:1.4em; color:#202f61;\" >Step 2 - </span>\n",
    "   <span style=\"font-size:1.4em; color:#e39607;\">Read dlBasic.csv File</span> \n",
    "</p> "
   ]
  },
  {
   "cell_type": "code",
   "execution_count": 71,
   "metadata": {},
   "outputs": [],
   "source": [
    "req_cols = ['id','dlRef','dlDat','cusName','soRef', 'dlTax', 'dlTAT','spName','opnClo','action']\n",
    "fPath = \"Data/\" +coFolder+ \"/\" +Year+ \"/F1_Sales/Deliveries/dlBasic.csv\"\n",
    "df = pd.read_csv(fPath, usecols=req_cols, index_col=False, encoding='unicode_escape')"
   ]
  },
  {
   "cell_type": "code",
   "execution_count": 73,
   "metadata": {},
   "outputs": [],
   "source": [
    "### drop first row which is empty...\n",
    "df = df.drop(df.index[0])"
   ]
  },
  {
   "cell_type": "code",
   "execution_count": 174,
   "metadata": {},
   "outputs": [],
   "source": [
    "### file doesn't recongnize date formate first convert into date and than strftime\n",
    "df['dlDat'] = pd.to_datetime(df['dlDat']).dt.strftime('%Y-%m-%d')"
   ]
  },
  {
   "cell_type": "code",
   "execution_count": 175,
   "metadata": {},
   "outputs": [],
   "source": [
    "### Remove Duplicate Delivery and Deleted Record...\n",
    "df = df.drop_duplicates(subset=['dlRef'], keep='last')\n",
    "df = df.drop(df.loc[df['action']=='Deleted'].index).fillna('')"
   ]
  },
  {
   "cell_type": "markdown",
   "metadata": {},
   "source": [
    "<p style=\"padding:5px; border-bottom:3px solid #6d79a1; background:#e9edf7; margin:5px 0 -7px 20px;\"> \n",
    "   <span style=\"font-size:1.4em; color:#202f61;\" >Step 3 - </span>\n",
    "   <span style=\"font-size:1.4em; color:#e39607;\">Read dlStat.csv File</span> \n",
    "</p> "
   ]
  },
  {
   "cell_type": "code",
   "execution_count": 74,
   "metadata": {},
   "outputs": [],
   "source": [
    "statPath = \"Data/\" +coFolder+ \"/\" +Year+ \"/F1_Sales/Deliveries/dlStat.csv\"\n",
    "stat = pd.read_csv(statPath, index_col=False, encoding='unicode_escape')"
   ]
  },
  {
   "cell_type": "code",
   "execution_count": 75,
   "metadata": {},
   "outputs": [],
   "source": [
    "### Remove Duplicate and Deleted Record...\n",
    "stat = stat.drop_duplicates(subset=['dlRefSt'], keep='last')"
   ]
  },
  {
   "cell_type": "markdown",
   "metadata": {},
   "source": [
    "<p style=\"padding:5px; border-bottom:3px solid #6d79a1; background:#e9edf7; margin:5px 0 -7px 20px;\"> \n",
    "   <span style=\"font-size:1.4em; color:#202f61;\" >Step 4 - </span>\n",
    "   <span style=\"font-size:1.4em; color:#e39607;\">Map dlBasic.csv Open/Close with dlStat.csv</span> \n",
    "</p> "
   ]
  },
  {
   "cell_type": "code",
   "execution_count": 78,
   "metadata": {},
   "outputs": [],
   "source": [
    "opnClo_map = dict(zip(stat['dlRefSt'], stat['opnCloSt']))\n",
    "df['opnClo'] = df['dlRef'].map(opnClo_map).fillna(df['opnClo'])"
   ]
  },
  {
   "cell_type": "markdown",
   "metadata": {},
   "source": [
    "<p style=\"padding:5px; border-bottom:3px solid #6d79a1; background:#e9edf7; margin:5px 0 -7px 20px;\"> \n",
    "   <span style=\"font-size:1.4em; color:#202f61;\" >Step 5 - </span>\n",
    "   <span style=\"font-size:1.4em; color:#e39607;\">Convert Data into Dictionary</span> \n",
    "</p> "
   ]
  },
  {
   "cell_type": "code",
   "execution_count": 79,
   "metadata": {},
   "outputs": [],
   "source": [
    " ### Convert Data into Json Dictionary\n",
    "Data = df.to_dict(orient=\"records\")"
   ]
  },
  {
   "cell_type": "markdown",
   "metadata": {},
   "source": [
    "<p style=\"font-family:Calibri; font-size:1.75em; color:white; padding:5px 5px; text-align: left; height:50px; border-bottom: 3px solid orange; margin:-7px 0px;\"></p>"
   ]
  },
  {
   "cell_type": "markdown",
   "metadata": {},
   "source": [
    "<p style=\"font-size:2.2em; padding:18px; border-bottom: 5px solid #ffb701; background:#143157;\"> \n",
    "    <span style=\"color: #fff;\"> Delivery -  </span>\n",
    "    <span style=\"font-size:.75em; color: #11a1f5;\"> Synchronize / Refresh Data</span>\n",
    "</p>"
   ]
  },
  {
   "cell_type": "markdown",
   "metadata": {},
   "source": [
    "<p style=\"padding:5px; border-bottom:3px solid #6d79a1; background:#e9edf7; margin:5px 0 -7px 20px;\"> \n",
    "   <span style=\"font-size:1.4em; color:#202f61;\" >Step 1 - </span>\n",
    "   <span style=\"font-size:1.4em; color:#e39607;\">Get Company and Year - </span> \n",
    "   <span style=\"font-size:1.2em; color:#209ebd;\">to Load Data </span>\n",
    "</p> "
   ]
  },
  {
   "cell_type": "code",
   "execution_count": 220,
   "metadata": {},
   "outputs": [],
   "source": [
    "import pandas as pd\n",
    "import numpy as np\n",
    "dfStd = pd.read_csv('data/basInfo.csv')\n",
    "Year = str(dfStd.loc[0, 'year'])\n",
    "coFolder = str(dfStd.loc[0, 'coFolder'])"
   ]
  },
  {
   "cell_type": "markdown",
   "metadata": {},
   "source": [
    "<p style=\"padding:5px; border-bottom:3px solid #6d79a1; background:#e9edf7; margin:5px 0 -7px 20px;\"> \n",
    "   <span style=\"font-size:1.4em; color:#202f61;\" >Step 2 - </span>\n",
    "   <span style=\"font-size:1.4em; color:#e39607;\">Read dlBasic.csv File - </span> \n",
    "   <span style=\"font-size:1.2em; color:#209ebd;\">to Load Data </span>\n",
    "</p> "
   ]
  },
  {
   "cell_type": "code",
   "execution_count": 221,
   "metadata": {},
   "outputs": [],
   "source": [
    "fPath = \"Data/\" +coFolder+ \"/\" +Year+ \"/F1_Sales/Deliveries/dlBasic.csv\"\n",
    "dfA = pd.read_csv(fPath, index_col=False, encoding='unicode_escape').fillna('')"
   ]
  },
  {
   "cell_type": "code",
   "execution_count": 222,
   "metadata": {},
   "outputs": [],
   "source": [
    "### Remove Duplicate Quote and Deleted Record...\n",
    "dfBasic = dfA.drop_duplicates(subset=['dlRef'], keep='last')\n",
    "dfBasic = dfBasic.drop(dfBasic.loc[dfBasic['action']=='Deleted'].index)"
   ]
  },
  {
   "cell_type": "code",
   "execution_count": 223,
   "metadata": {},
   "outputs": [],
   "source": [
    "dfBasic = dfBasic.sort_values('dlRef') #sor by qotRef"
   ]
  },
  {
   "cell_type": "code",
   "execution_count": 224,
   "metadata": {},
   "outputs": [],
   "source": [
    "### Save the data in qotBasic.csv File...\n",
    "fPath = \"Data/\" +coFolder+ \"/\" +Year+ \"/F1_Sales/Deliveries/dlBasic.csv\"\n",
    "dfBasic.to_csv(fPath, index=False)"
   ]
  },
  {
   "cell_type": "code",
   "execution_count": 225,
   "metadata": {},
   "outputs": [],
   "source": [
    "dfBasic['unique'] = dfBasic['dlRef'].astype(str)+\" \"+dfBasic['traDate']"
   ]
  },
  {
   "cell_type": "markdown",
   "metadata": {},
   "source": [
    "<p style=\"padding:5px; border-bottom:3px solid #6d79a1; background:#e9edf7; margin:5px 0 -7px 20px;\"> \n",
    "   <span style=\"font-size:1.4em; color:#202f61;\" >Step 3 - </span>\n",
    "   <span style=\"font-size:1.4em; color:#e39607;\">Read dlAddi.csv File - </span> \n",
    "   <span style=\"font-size:1.2em; color:#209ebd;\">to Load Data </span>\n",
    "</p>"
   ]
  },
  {
   "cell_type": "code",
   "execution_count": 226,
   "metadata": {},
   "outputs": [],
   "source": [
    "fPath = \"Data/\" +coFolder+ \"/\" +Year+ \"/F1_Sales/Deliveries/dlAddi.csv\"\n",
    "dfB = pd.read_csv(fPath, index_col=False, encoding='unicode_escape').fillna('')"
   ]
  },
  {
   "cell_type": "code",
   "execution_count": 227,
   "metadata": {},
   "outputs": [],
   "source": [
    "dfB[\"unique\"] = dfB['dlRef'].astype(str)+\" \"+dfB['traDate']"
   ]
  },
  {
   "cell_type": "code",
   "execution_count": 229,
   "metadata": {},
   "outputs": [],
   "source": [
    "###---- Merge to filter out those data which Transaction Date is not matching with qotBasic\n",
    "merged_df = pd.merge(dfB, dfBasic['unique'], on='unique', how='inner')\n",
    "###---- Rearange Column to aboid any mistake\n",
    "merged_df = merged_df[['id','dlRef','sno','itmCod','desc','qty','price','disc','tot','vat','wac','traDate','action']]"
   ]
  },
  {
   "cell_type": "code",
   "execution_count": 230,
   "metadata": {},
   "outputs": [],
   "source": [
    "merged_df =merged_df.sort_values(['dlRef','sno'], ascending = [True, True])"
   ]
  },
  {
   "cell_type": "code",
   "execution_count": 231,
   "metadata": {},
   "outputs": [
    {
     "data": {
      "text/html": [
       "<div>\n",
       "<style scoped>\n",
       "    .dataframe tbody tr th:only-of-type {\n",
       "        vertical-align: middle;\n",
       "    }\n",
       "\n",
       "    .dataframe tbody tr th {\n",
       "        vertical-align: top;\n",
       "    }\n",
       "\n",
       "    .dataframe thead th {\n",
       "        text-align: right;\n",
       "    }\n",
       "</style>\n",
       "<table border=\"1\" class=\"dataframe\">\n",
       "  <thead>\n",
       "    <tr style=\"text-align: right;\">\n",
       "      <th></th>\n",
       "      <th>id</th>\n",
       "      <th>dlRef</th>\n",
       "      <th>sno</th>\n",
       "      <th>itmCod</th>\n",
       "      <th>desc</th>\n",
       "      <th>qty</th>\n",
       "      <th>price</th>\n",
       "      <th>disc</th>\n",
       "      <th>tot</th>\n",
       "      <th>vat</th>\n",
       "      <th>wac</th>\n",
       "      <th>traDate</th>\n",
       "      <th>action</th>\n",
       "    </tr>\n",
       "  </thead>\n",
       "  <tbody>\n",
       "    <tr>\n",
       "      <th>0</th>\n",
       "      <td>2300001</td>\n",
       "      <td>2300001</td>\n",
       "      <td>1</td>\n",
       "      <td>10018001</td>\n",
       "      <td>SVTA Radio Hand Pice 1</td>\n",
       "      <td>2</td>\n",
       "      <td>1680</td>\n",
       "      <td>360</td>\n",
       "      <td>3,150</td>\n",
       "      <td>150</td>\n",
       "      <td>2,495</td>\n",
       "      <td>2023-5-29 21-39-54</td>\n",
       "      <td></td>\n",
       "    </tr>\n",
       "    <tr>\n",
       "      <th>1</th>\n",
       "      <td>2300001</td>\n",
       "      <td>2300001</td>\n",
       "      <td>2</td>\n",
       "      <td>10018002</td>\n",
       "      <td>SVTA Radio Hand Pice 2</td>\n",
       "      <td>1</td>\n",
       "      <td>2100</td>\n",
       "      <td>300</td>\n",
       "      <td>1,890</td>\n",
       "      <td>90</td>\n",
       "      <td>1,517</td>\n",
       "      <td>2023-5-29 21-39-54</td>\n",
       "      <td></td>\n",
       "    </tr>\n",
       "    <tr>\n",
       "      <th>2</th>\n",
       "      <td>2300002</td>\n",
       "      <td>2300002</td>\n",
       "      <td>1</td>\n",
       "      <td>10001000</td>\n",
       "      <td>Microneedling RF</td>\n",
       "      <td>1</td>\n",
       "      <td>31465</td>\n",
       "      <td>2465</td>\n",
       "      <td>30,450</td>\n",
       "      <td>1,450</td>\n",
       "      <td>22,732</td>\n",
       "      <td>2023-5-29 21-40-11</td>\n",
       "      <td></td>\n",
       "    </tr>\n",
       "    <tr>\n",
       "      <th>3</th>\n",
       "      <td>2300002</td>\n",
       "      <td>2300002</td>\n",
       "      <td>2</td>\n",
       "      <td>10001001</td>\n",
       "      <td>Microneedling RF - HandPiece</td>\n",
       "      <td>2</td>\n",
       "      <td>4725</td>\n",
       "      <td>1450</td>\n",
       "      <td>8,400</td>\n",
       "      <td>400</td>\n",
       "      <td>6,922</td>\n",
       "      <td>2023-5-29 21-40-11</td>\n",
       "      <td></td>\n",
       "    </tr>\n",
       "    <tr>\n",
       "      <th>4</th>\n",
       "      <td>2300002</td>\n",
       "      <td>2300002</td>\n",
       "      <td>3</td>\n",
       "      <td>10004001</td>\n",
       "      <td>RF Fractional CO2 Laser - Handpiece</td>\n",
       "      <td>1</td>\n",
       "      <td>7700</td>\n",
       "      <td>1700</td>\n",
       "      <td>6,300</td>\n",
       "      <td>300</td>\n",
       "      <td>5,601</td>\n",
       "      <td>2023-5-29 21-40-11</td>\n",
       "      <td></td>\n",
       "    </tr>\n",
       "    <tr>\n",
       "      <th>...</th>\n",
       "      <td>...</td>\n",
       "      <td>...</td>\n",
       "      <td>...</td>\n",
       "      <td>...</td>\n",
       "      <td>...</td>\n",
       "      <td>...</td>\n",
       "      <td>...</td>\n",
       "      <td>...</td>\n",
       "      <td>...</td>\n",
       "      <td>...</td>\n",
       "      <td>...</td>\n",
       "      <td>...</td>\n",
       "      <td>...</td>\n",
       "    </tr>\n",
       "    <tr>\n",
       "      <th>577</th>\n",
       "      <td>2300265</td>\n",
       "      <td>2300265</td>\n",
       "      <td>2</td>\n",
       "      <td>10018002</td>\n",
       "      <td>SVTA Radio Hand Pice 2</td>\n",
       "      <td>5</td>\n",
       "      <td>2100</td>\n",
       "      <td>300</td>\n",
       "      <td>10,710</td>\n",
       "      <td>510</td>\n",
       "      <td>7,586</td>\n",
       "      <td>2023-6-3 4-2-41</td>\n",
       "      <td></td>\n",
       "    </tr>\n",
       "    <tr>\n",
       "      <th>578</th>\n",
       "      <td>2300266</td>\n",
       "      <td>2300266</td>\n",
       "      <td>1</td>\n",
       "      <td>10018004</td>\n",
       "      <td>SVTA Radio Hand Pice 4</td>\n",
       "      <td>5</td>\n",
       "      <td>1820</td>\n",
       "      <td>200</td>\n",
       "      <td>9,345</td>\n",
       "      <td>445</td>\n",
       "      <td>6,620</td>\n",
       "      <td>2023-6-3 4-3-8</td>\n",
       "      <td></td>\n",
       "    </tr>\n",
       "    <tr>\n",
       "      <th>579</th>\n",
       "      <td>2300266</td>\n",
       "      <td>2300266</td>\n",
       "      <td>2</td>\n",
       "      <td>10018005</td>\n",
       "      <td>SVTA Radio Hand Pice 5</td>\n",
       "      <td>1</td>\n",
       "      <td>2240</td>\n",
       "      <td>140</td>\n",
       "      <td>2,205</td>\n",
       "      <td>105</td>\n",
       "      <td>1,663</td>\n",
       "      <td>2023-6-3 4-3-8</td>\n",
       "      <td></td>\n",
       "    </tr>\n",
       "    <tr>\n",
       "      <th>580</th>\n",
       "      <td>2300270</td>\n",
       "      <td>2300270</td>\n",
       "      <td>1</td>\n",
       "      <td>10016000</td>\n",
       "      <td>My Ultrasonic</td>\n",
       "      <td>2</td>\n",
       "      <td>9800</td>\n",
       "      <td>1800</td>\n",
       "      <td>18,690</td>\n",
       "      <td>890</td>\n",
       "      <td>14,356</td>\n",
       "      <td>2023-6-12 0-39-58</td>\n",
       "      <td></td>\n",
       "    </tr>\n",
       "    <tr>\n",
       "      <th>581</th>\n",
       "      <td>2300270</td>\n",
       "      <td>2300270</td>\n",
       "      <td>2</td>\n",
       "      <td>10017000</td>\n",
       "      <td>SPA Slim</td>\n",
       "      <td>2</td>\n",
       "      <td>8400</td>\n",
       "      <td>1400</td>\n",
       "      <td>16,170</td>\n",
       "      <td>770</td>\n",
       "      <td>12,221</td>\n",
       "      <td>2023-6-12 0-39-58</td>\n",
       "      <td></td>\n",
       "    </tr>\n",
       "  </tbody>\n",
       "</table>\n",
       "<p>582 rows × 13 columns</p>\n",
       "</div>"
      ],
      "text/plain": [
       "          id    dlRef  sno    itmCod                                 desc  \\\n",
       "0    2300001  2300001    1  10018001               SVTA Radio Hand Pice 1   \n",
       "1    2300001  2300001    2  10018002               SVTA Radio Hand Pice 2   \n",
       "2    2300002  2300002    1  10001000                     Microneedling RF   \n",
       "3    2300002  2300002    2  10001001         Microneedling RF - HandPiece   \n",
       "4    2300002  2300002    3  10004001  RF Fractional CO2 Laser - Handpiece   \n",
       "..       ...      ...  ...       ...                                  ...   \n",
       "577  2300265  2300265    2  10018002               SVTA Radio Hand Pice 2   \n",
       "578  2300266  2300266    1  10018004               SVTA Radio Hand Pice 4   \n",
       "579  2300266  2300266    2  10018005               SVTA Radio Hand Pice 5   \n",
       "580  2300270  2300270    1  10016000                        My Ultrasonic   \n",
       "581  2300270  2300270    2  10017000                             SPA Slim   \n",
       "\n",
       "     qty  price  disc    tot   vat    wac             traDate action  \n",
       "0      2   1680   360  3,150   150  2,495  2023-5-29 21-39-54         \n",
       "1      1   2100   300  1,890    90  1,517  2023-5-29 21-39-54         \n",
       "2      1  31465  2465 30,450 1,450 22,732  2023-5-29 21-40-11         \n",
       "3      2   4725  1450  8,400   400  6,922  2023-5-29 21-40-11         \n",
       "4      1   7700  1700  6,300   300  5,601  2023-5-29 21-40-11         \n",
       "..   ...    ...   ...    ...   ...    ...                 ...    ...  \n",
       "577    5   2100   300 10,710   510  7,586     2023-6-3 4-2-41         \n",
       "578    5   1820   200  9,345   445  6,620      2023-6-3 4-3-8         \n",
       "579    1   2240   140  2,205   105  1,663      2023-6-3 4-3-8         \n",
       "580    2   9800  1800 18,690   890 14,356   2023-6-12 0-39-58         \n",
       "581    2   8400  1400 16,170   770 12,221   2023-6-12 0-39-58         \n",
       "\n",
       "[582 rows x 13 columns]"
      ]
     },
     "execution_count": 231,
     "metadata": {},
     "output_type": "execute_result"
    }
   ],
   "source": [
    "merged_df"
   ]
  },
  {
   "cell_type": "code",
   "execution_count": 43,
   "metadata": {},
   "outputs": [],
   "source": [
    "### Save the data in qotAddi.csv File...\n",
    "fPath = \"Data/\" +coFolder+ \"/\" +Year+ \"/F1_Sales/Deliveries/dlAddi.csv\"\n",
    "merged_df.to_csv(fPath, index=False)"
   ]
  },
  {
   "cell_type": "markdown",
   "metadata": {},
   "source": [
    "<p style=\"padding:5px; border-bottom:3px solid #6d79a1; background:#e9edf7; margin:5px 0 -7px 20px;\"> \n",
    "   <span style=\"font-size:1.4em; color:#202f61;\" >Step 4 - </span>\n",
    "   <span style=\"font-size:1.4em; color:#e39607;\">Read dlStat.csv File - </span> \n",
    "   <span style=\"font-size:1.2em; color:#209ebd;\">to Load Data </span>\n",
    "</p> "
   ]
  },
  {
   "cell_type": "code",
   "execution_count": 19,
   "metadata": {},
   "outputs": [],
   "source": [
    "statPath = \"Data/\" +coFolder+ \"/\" +Year+ \"/F1_Sales/Deliveries/dlStat.csv\"\n",
    "stat = pd.read_csv(statPath, index_col=False, encoding='unicode_escape').fillna('')"
   ]
  },
  {
   "cell_type": "code",
   "execution_count": 20,
   "metadata": {},
   "outputs": [],
   "source": [
    "### Remove Duplicate Quote and Deleted Record...\n",
    "stat = stat.drop_duplicates(subset=['dlRefSt'], keep='last')\n",
    "stat = stat.drop(stat.loc[stat['action']=='Deleted'].index)"
   ]
  },
  {
   "cell_type": "code",
   "execution_count": 47,
   "metadata": {},
   "outputs": [],
   "source": [
    "### Save the data in qotStat.csv File...\n",
    "statPath =  \"Data/\" +coFolder+ \"/\" +Year+ \"/F1_Sales/Deliveries/dlStat.csv\"\n",
    "stat.to_csv(statPath, index=False)"
   ]
  },
  {
   "cell_type": "markdown",
   "metadata": {},
   "source": [
    "<p style=\"font-family:Calibri; font-size:1.75em; color:white; padding:5px 5px; text-align: left; height:50px; border-bottom: 3px solid orange; margin:-7px 0px;\"></p>"
   ]
  },
  {
   "cell_type": "markdown",
   "metadata": {},
   "source": [
    "<p style=\"font-size:2.2em; padding:18px; border-bottom: 5px solid #ffb701; background:#143157;\"> \n",
    "    <span style=\"color: #fff;\"> Delivery -  </span>\n",
    "    <span style=\"font-size:.75em; color: #11a1f5;\"> Add Record </span>\n",
    "</p>"
   ]
  },
  {
   "cell_type": "markdown",
   "metadata": {},
   "source": [
    "<p style=\"padding:5px; border-bottom:3px solid #6d79a1; background:#e9edf7; margin:5px 0 -7px 20px;\"> \n",
    "   <span style=\"font-size:1.4em; color:#202f61;\" >Step 1 - </span>\n",
    "   <span style=\"font-size:1.4em; color:#e39607;\">Get Company and Year - </span> \n",
    "   <span style=\"font-size:1.2em; color:#209ebd;\">to Load Data </span>\n",
    "</p> "
   ]
  },
  {
   "cell_type": "code",
   "execution_count": 40,
   "metadata": {},
   "outputs": [],
   "source": [
    "import pandas as pd\n",
    "import numpy as np\n",
    "dfStd = pd.read_csv('data/basInfo.csv')\n",
    "Year = str(dfStd.loc[0, 'year'])\n",
    "coFolder = str(dfStd.loc[0, 'coFolder'])"
   ]
  },
  {
   "cell_type": "markdown",
   "metadata": {},
   "source": [
    "<p style=\"padding:5px; border-bottom:3px solid #6d79a1; background:#e9edf7; margin:5px 0 -7px 20px;\"> \n",
    "   <span style=\"font-size:1.4em; color:#202f61;\" >Step 2 - </span>\n",
    "   <span style=\"font-size:1.4em; color:#e39607;\">Read dlBasic.csv - </span> \n",
    "   <span style=\"font-size:1.2em; color:#209ebd;\">to Get the last Delivery Number </span>\n",
    "</p> "
   ]
  },
  {
   "cell_type": "code",
   "execution_count": 81,
   "metadata": {},
   "outputs": [],
   "source": [
    "try: \n",
    "    req_cols = ['dlRef', 'dlDat']\n",
    "    fPath = \"Data/\" +coFolder+ \"/\" +Year+ \"/F1_Sales/Deliveries/dlBasic.csv\"\n",
    "    df = pd.read_csv(fPath, usecols=req_cols, index_col=False, encoding='unicode_escape')\n",
    "except:\n",
    "    data = {'dlRef': [0]}\n",
    "    df = pd.DataFrame(data)"
   ]
  },
  {
   "cell_type": "code",
   "execution_count": 42,
   "metadata": {},
   "outputs": [],
   "source": [
    "## Get the last Order Number...\n",
    "lastDelivery = df['dlRef'].max()"
   ]
  },
  {
   "cell_type": "markdown",
   "metadata": {},
   "source": [
    "<p style=\"padding:5px 5px 5px 20px; border-bottom:3px solid orange; background:#3c5c75; margin:15px 0 -7px 20px;\"> \n",
    "   <span style=\"font-size:1.4em; color:#f7ca25;\" >Get - </span>\n",
    "   <span style=\"font-size:1.4em; color:white;\">All Open - </span> \n",
    "   <span style=\"font-size:1.2em; color:#17cffc;\">Sales Orders List not converted into Delivery</span>\n",
    "</p> "
   ]
  },
  {
   "cell_type": "markdown",
   "metadata": {},
   "source": [
    "<p style=\"padding:5px; border-bottom:3px solid #6d79a1; background:#e9edf7; margin:5px 0 -7px 20px;\"> \n",
    "   <span style=\"font-size:1.4em; color:#202f61;\" >Step 1 - </span>\n",
    "   <span style=\"font-size:1.4em; color:#e39607;\">Get Company and Year - </span> \n",
    "   <span style=\"font-size:1.2em; color:#209ebd;\">to Load Data </span>\n",
    "</p> "
   ]
  },
  {
   "cell_type": "code",
   "execution_count": 239,
   "metadata": {},
   "outputs": [],
   "source": [
    "import pandas as pd\n",
    "import numpy as np\n",
    "dfStd = pd.read_csv('data/basInfo.csv')\n",
    "Year = str(dfStd.loc[0, 'year'])\n",
    "coFolder = str(dfStd.loc[0, 'coFolder'])"
   ]
  },
  {
   "cell_type": "markdown",
   "metadata": {},
   "source": [
    "<p style=\"padding:5px; border-bottom:3px solid #6d79a1; background:#e9edf7; margin:5px 0 -7px 20px;\"> \n",
    "   <span style=\"font-size:1.4em; color:#202f61;\" >Step 2 - </span>\n",
    "   <span style=\"font-size:1.4em; color:#e39607;\">Read soBasic.csv - </span> \n",
    "   <span style=\"font-size:1.2em; color:#209ebd;\">file to Load Data </span>\n",
    "</p> "
   ]
  },
  {
   "cell_type": "code",
   "execution_count": 240,
   "metadata": {},
   "outputs": [],
   "source": [
    "req_cols = [\"soRef\",\"soDat\", \"cusCode\", \"cusName\", \"opnClo\",\"action\"]\n",
    "fPath = \"Data/\" +coFolder+ \"/\" +Year+ \"/F1_Sales/Orders/soBasic.csv\"\n",
    "df = pd.read_csv(fPath, usecols=req_cols, index_col=False, encoding='unicode_escape')\n",
    "df = df.drop(df.index[0]).fillna('') #drop first row which is dummy"
   ]
  },
  {
   "cell_type": "code",
   "execution_count": 119,
   "metadata": {},
   "outputs": [],
   "source": [
    "### file doesn't recongnize date formate first convert into date and than strftime\n",
    "df['soDat'] = pd.to_datetime(df['soDat']).dt.strftime('%Y-%m-%d')"
   ]
  },
  {
   "cell_type": "code",
   "execution_count": 120,
   "metadata": {},
   "outputs": [],
   "source": [
    "## Remove Duplicate Order and Deleted Record...\n",
    "df = df.drop_duplicates(subset=['soRef'], keep='last')\n",
    "df = df.drop(df.loc[df['action']=='Delete'].index)"
   ]
  },
  {
   "cell_type": "markdown",
   "metadata": {},
   "source": [
    "<p style=\"padding:5px; border-bottom:3px solid #6d79a1; background:#e9edf7; margin:5px 0 -7px 20px;\"> \n",
    "   <span style=\"font-size:1.4em; color:#202f61;\" >Step 3 - </span>\n",
    "   <span style=\"font-size:1.4em; color:#e39607;\">Read soStat.csv - </span> \n",
    "   <span style=\"font-size:1.2em; color:#209ebd;\">file to Load Data </span>\n",
    "</p> "
   ]
  },
  {
   "cell_type": "code",
   "execution_count": 131,
   "metadata": {},
   "outputs": [],
   "source": [
    "statPath = \"Data/\" +coFolder+ \"/\" +Year+ \"/F1_Sales/Orders/soStat.csv\"\n",
    "stat = pd.read_csv(statPath, index_col=False, encoding='unicode_escape')"
   ]
  },
  {
   "cell_type": "code",
   "execution_count": 132,
   "metadata": {},
   "outputs": [],
   "source": [
    "### Remove Duplicate and Deleted Record...\n",
    "stat = stat.drop_duplicates(subset=['soRefSt'], keep='last')"
   ]
  },
  {
   "cell_type": "markdown",
   "metadata": {},
   "source": [
    "<p style=\"padding:5px; border-bottom:3px solid #6d79a1; background:#e9edf7; margin:5px 0 -7px 20px;\"> \n",
    "   <span style=\"font-size:1.4em; color:#202f61;\" >Step 4 - </span>\n",
    "   <span style=\"font-size:1.4em; color:#e39607;\">Map soBasic.csv Open/Close with soStat.csv\n",
    "</span> \n",
    "</p> "
   ]
  },
  {
   "cell_type": "code",
   "execution_count": 134,
   "metadata": {},
   "outputs": [],
   "source": [
    "opnClo_map = dict(zip(stat['soRefSt'], stat['opnCloSt']))   ##map with stat\n",
    "df['opnClo'] = df['soRef'].map(opnClo_map).fillna(df['opnClo'])"
   ]
  },
  {
   "cell_type": "markdown",
   "metadata": {},
   "source": [
    "<p style=\"padding:5px; border-bottom:3px solid #6d79a1; background:#e9edf7; margin:5px 0 -7px 20px;\"> \n",
    "   <span style=\"font-size:1.4em; color:#202f61;\" >Step 5 - </span>\n",
    "   <span style=\"font-size:1.4em; color:#e39607;\">Read dlBasic.csv - </span> \n",
    "   <span style=\"font-size:1.2em; color:#209ebd;\">file to Load Data </span>\n",
    "</p> "
   ]
  },
  {
   "cell_type": "code",
   "execution_count": 136,
   "metadata": {},
   "outputs": [],
   "source": [
    "dlPath = \"Data/\" +coFolder+ \"/\" +Year+ \"/F1_Sales/Deliveries/dlBasic.csv\"\n",
    "dlDf = pd.read_csv(dlPath, index_col=False, encoding='unicode_escape').fillna('')"
   ]
  },
  {
   "cell_type": "code",
   "execution_count": 137,
   "metadata": {},
   "outputs": [],
   "source": [
    "### Remove Duplicate and Deleted Record...\n",
    "dlDf = dlDf.drop_duplicates(subset=['dlRef'], keep='last')\n",
    "dlDf = dlDf.drop(dlDf.loc[dlDf['action']=='Deleted'].index).fillna('')"
   ]
  },
  {
   "cell_type": "code",
   "execution_count": 145,
   "metadata": {},
   "outputs": [],
   "source": [
    "#Select a column \"qotRef\" and convert into list to filter\n",
    "dlList = dlDf['soRef'].tolist() "
   ]
  },
  {
   "cell_type": "code",
   "execution_count": 147,
   "metadata": {},
   "outputs": [],
   "source": [
    "#filter out all open sales Quote which is already converted into Sales Order\n",
    "filterData = df[~df['soRef'].isin(dlList)]"
   ]
  },
  {
   "cell_type": "markdown",
   "metadata": {},
   "source": [
    "<p style=\"padding:5px; border-bottom:3px solid #6d79a1; background:#e9edf7; margin:5px 0 -7px 20px;\"> \n",
    "   <span style=\"font-size:1.4em; color:#202f61;\" >Step 6 - </span>\n",
    "   <span style=\"font-size:1.4em; color:#e39607;\"> Convert Data into Dictionary</span> \n",
    "</p> "
   ]
  },
  {
   "cell_type": "code",
   "execution_count": 58,
   "metadata": {},
   "outputs": [],
   "source": [
    "### Convert Data into Json Dictionary\n",
    "Data = filterData.to_dict(orient=\"records\")"
   ]
  },
  {
   "cell_type": "markdown",
   "metadata": {},
   "source": [
    "<p style=\"padding:5px 5px 5px 20px; border-bottom:3px solid orange; background:#3c5c75; margin:15px 0 -7px 20px;\"> \n",
    "   <span style=\"font-size:1.4em; color:#f7ca25;\" >Get - </span>\n",
    "   <span style=\"font-size:1.4em; color:white;\">Detail of - </span> \n",
    "   <span style=\"font-size:1.2em; color:#17cffc;\">Selected Order</span>\n",
    "</p> "
   ]
  },
  {
   "cell_type": "markdown",
   "metadata": {},
   "source": [
    "<p style=\"padding:5px; border-bottom:3px solid #6d79a1; background:#e9edf7; margin:5px 0 -7px 20px;\"> \n",
    "   <span style=\"font-size:1.4em; color:#202f61;\" >Step 1 - </span>\n",
    "   <span style=\"font-size:1.4em; color:#e39607;\">Get Company and Year - </span> \n",
    "   <span style=\"font-size:1.2em; color:#209ebd;\">to Load Data </span>\n",
    "</p> "
   ]
  },
  {
   "cell_type": "code",
   "execution_count": 201,
   "metadata": {},
   "outputs": [],
   "source": [
    "import pandas as pd\n",
    "import numpy as np\n",
    "dfStd = pd.read_csv('data/basInfo.csv')\n",
    "Year = str(dfStd.loc[0, 'year'])\n",
    "coFolder = str(dfStd.loc[0, 'coFolder'])"
   ]
  },
  {
   "cell_type": "markdown",
   "metadata": {},
   "source": [
    "<p style=\"padding:5px; border-bottom:3px solid #6d79a1; background:#e9edf7; margin:5px 0 -7px 20px;\"> \n",
    "   <span style=\"font-size:1.4em; color:#202f61;\" >Step 2 - </span>\n",
    "   <span style=\"font-size:1.4em; color:#e39607;\">Read soBasic.csv - </span> \n",
    "   <span style=\"font-size:1.2em; color:#209ebd;\">file to Load Data </span>\n",
    "</p> "
   ]
  },
  {
   "cell_type": "code",
   "execution_count": 202,
   "metadata": {},
   "outputs": [],
   "source": [
    "pk = 2300003\n",
    "\n",
    "fPath = \"Data/\" +coFolder+ \"/\" +Year+ \"/F1_Sales/Orders/soBasic.csv\"\n",
    "dfA = pd.read_csv(fPath, index_col=False, encoding='unicode_escape')"
   ]
  },
  {
   "cell_type": "code",
   "execution_count": 203,
   "metadata": {},
   "outputs": [],
   "source": [
    "### Filter data based on 'pk' selected Order\n",
    "dfBasic = dfA[dfA['soRef'] == pk].fillna(0) "
   ]
  },
  {
   "cell_type": "code",
   "execution_count": 205,
   "metadata": {},
   "outputs": [],
   "source": [
    "### file doesn't recongnize date formate first convert into date and than strftime\n",
    "dfBasic['soDat'] = pd.to_datetime(dfBasic['soDat']).dt.strftime('%Y-%m-%d')"
   ]
  },
  {
   "cell_type": "code",
   "execution_count": 206,
   "metadata": {},
   "outputs": [],
   "source": [
    "### Remove Duplicate Order and Deleted Record...\n",
    "dfBasic = dfBasic.drop_duplicates(subset=['soRef'], keep='last')\n",
    "dfBasic = dfBasic.drop(dfBasic.loc[dfBasic['action']=='Delete'].index)"
   ]
  },
  {
   "cell_type": "code",
   "execution_count": 207,
   "metadata": {},
   "outputs": [],
   "source": [
    "###..Get 'Transaction Date' Value..................................\n",
    "traDate = dfBasic.loc[dfBasic['soRef'] == pk, 'traDate'].values[0]"
   ]
  },
  {
   "cell_type": "code",
   "execution_count": 208,
   "metadata": {},
   "outputs": [],
   "source": [
    "soBasi = dfBasic.to_dict(orient=\"records\") ### convert into dictionary"
   ]
  },
  {
   "cell_type": "markdown",
   "metadata": {},
   "source": [
    "<p style=\"padding:5px; border-bottom:3px solid #6d79a1; background:#e9edf7; margin:5px 0 -7px 20px;\"> \n",
    "   <span style=\"font-size:1.4em; color:#202f61;\" >Step 3 - </span>\n",
    "   <span style=\"font-size:1.4em; color:#e39607;\">Read soAddi.csv - </span> \n",
    "   <span style=\"font-size:1.2em; color:#209ebd;\">file to Load Data </span>\n",
    "</p> "
   ]
  },
  {
   "cell_type": "code",
   "execution_count": 209,
   "metadata": {},
   "outputs": [],
   "source": [
    "fPath = \"Data/\" +coFolder+ \"/\" +Year+ \"/F1_Sales/Orders/soAddi.csv\"\n",
    "dfB = pd.read_csv(fPath, index_col=False, encoding='unicode_escape')"
   ]
  },
  {
   "cell_type": "code",
   "execution_count": 210,
   "metadata": {},
   "outputs": [],
   "source": [
    "### Filter data based on 'pk' selected Quote\n",
    "dfB = dfB[dfB['soRef'] == pk].fillna(0)"
   ]
  },
  {
   "cell_type": "code",
   "execution_count": 211,
   "metadata": {},
   "outputs": [],
   "source": [
    "###..Filter the Record as per Transact Date .............................\n",
    "dfB = dfB[dfB['traDate'] == traDate].fillna('')"
   ]
  },
  {
   "cell_type": "code",
   "execution_count": 212,
   "metadata": {},
   "outputs": [],
   "source": [
    "###..Convert into List...................................................\n",
    "soAddiItems = dfB.to_dict(orient=\"records\") "
   ]
  },
  {
   "cell_type": "markdown",
   "metadata": {},
   "source": [
    "<p style=\"padding:5px 5px 5px 20px; border-bottom:3px solid orange; background:#3c5c75; margin:15px 0 -7px 20px;\"> \n",
    "   <span style=\"font-size:1.4em; color:#f7ca25;\" >Add Record - </span>\n",
    "   <span style=\"font-size:1.4em; color:white;\">Add New Order - </span> \n",
    "   <span style=\"font-size:1.2em; color:#17cffc;\">in soBasic, soAddi, soStat</span>\n",
    "</p> "
   ]
  },
  {
   "cell_type": "markdown",
   "metadata": {},
   "source": [
    "<p style=\"padding:5px; border-bottom:3px solid #6d79a1; background:#e9edf7; margin:5px 0 -7px 20px;\"> \n",
    "   <span style=\"font-size:1.4em; color:#202f61;\" >Step 1 - </span>\n",
    "   <span style=\"font-size:1.4em; color:#e39607;\">Get Company and Year - </span> \n",
    "   <span style=\"font-size:1.2em; color:#209ebd;\">to Load Data </span>\n",
    "</p> "
   ]
  },
  {
   "cell_type": "code",
   "execution_count": 213,
   "metadata": {},
   "outputs": [],
   "source": [
    "import pandas as pd\n",
    "import numpy as np\n",
    "dfStd = pd.read_csv('data/basInfo.csv')\n",
    "Year = str(dfStd.loc[0, 'year'])\n",
    "coFolder = str(dfStd.loc[0, 'coFolder'])"
   ]
  },
  {
   "cell_type": "markdown",
   "metadata": {},
   "source": [
    "<p style=\"padding:5px; border-bottom:3px solid #6d79a1; background:#e9edf7; margin:5px 0 -7px 20px;\"> \n",
    "   <span style=\"font-size:1.4em; color:#202f61;\" >Step 2 - </span>\n",
    "   <span style=\"font-size:1.4em; color:#e39607;\">Save Data in </span> \n",
    "   <span style=\"font-size:1.2em; color:#209ebd;\">dlBasic.csv file</span>\n",
    "</p> "
   ]
  },
  {
   "cell_type": "code",
   "execution_count": 154,
   "metadata": {},
   "outputs": [],
   "source": [
    "DlBasic={'id':99, 'dlRef':99, 'dlDat':'2023-05-23', 'cusCode':2450014, 'cusName':'Test Customer',\n",
    "         'dlTBD':100000, 'dlTAD':20000, 'dlTax':4000, 'dlTAT':84000, 'shipTo':'Warehouse',\n",
    "            'dlComm':'General Comments', 'opnClo':\"Open\", 'spName':'Joan Dow','spCode':629,\n",
    "            'soRef':'2300006', 'soDat':'2023-05-2','traDate':'2023-05-22 5-04-47', 'action':\" \",\n",
    "        }\n",
    "dfBasic = pd.DataFrame(DlBasic, index=[0])\n",
    "fPath = \"Data/\" +coFolder+ \"/\" +Year+ \"/F1_Sales/Deliveries/dlBasic.csv\"\n",
    "dfBasic.to_csv(fPath, index=False, header=False, mode='a')"
   ]
  },
  {
   "cell_type": "markdown",
   "metadata": {},
   "source": [
    "<p style=\"padding:5px; border-bottom:3px solid #6d79a1; background:#e9edf7; margin:5px 0 -7px 20px;\"> \n",
    "   <span style=\"font-size:1.4em; color:#202f61;\" >Step 3 - </span>\n",
    "   <span style=\"font-size:1.4em; color:#e39607;\">Save Data in </span> \n",
    "   <span style=\"font-size:1.2em; color:#209ebd;\">dlAddi.csv file</span>\n",
    "</p> "
   ]
  },
  {
   "cell_type": "code",
   "execution_count": 6,
   "metadata": {},
   "outputs": [],
   "source": [
    "Addi  = {'id':99, 'dlRef':99, 'sno':1, 'itmCod':4013150, 'desc':'Test Product',\n",
    "        'qty':10, 'price':15000, 'disc':2000, 'tot':13000,'vat':1300,'wac':13000, 'traDate':'2023-05-22 5-04-47',\n",
    "        'action':\" \"                            \n",
    "        }\n",
    "dfAddi = pd.DataFrame(Addi, index=[0])\n",
    "fPath = \"Data/\" +coFolder+ \"/\" +Year+ \"/F1_Sales/Deliveries/dlAddi.csv\"\n",
    "dfAddi.to_csv(fPath, index=False, header=False, mode='a')"
   ]
  },
  {
   "cell_type": "markdown",
   "metadata": {},
   "source": [
    "<p style=\"padding:5px; border-bottom:3px solid #6d79a1; background:#e9edf7; margin:5px 0 -7px 20px;\"> \n",
    "   <span style=\"font-size:1.4em; color:#202f61;\" >Step 4 - </span>\n",
    "   <span style=\"font-size:1.4em; color:#e39607;\">Save Data in </span> \n",
    "   <span style=\"font-size:1.2em; color:#209ebd;\">soStat.csv file</span>\n",
    "</p> "
   ]
  },
  {
   "cell_type": "code",
   "execution_count": 8,
   "metadata": {},
   "outputs": [],
   "source": [
    "soStat =  {'soRefSt':2300007, 'opnCloSt':\"Closed\",'traDate':'2023-05-22 5-04-47', 'action':\" \",}\n",
    "\n",
    "dfBasic = pd.DataFrame(soStat, index=[0])\n",
    "fPath = \"Data/\" +coFolder+ \"/\" +Year+ \"/F1_Sales/Orders/soStat.csv\"\n",
    "dfBasic.to_csv(fPath, index=False, header=False, mode='a')"
   ]
  },
  {
   "cell_type": "markdown",
   "metadata": {},
   "source": [
    "<p style=\"padding:5px; border-bottom:3px solid #6d79a1; background:#e9edf7; margin:5px 0 -7px 20px;\"> \n",
    "   <span style=\"font-size:1.4em; color:#202f61;\" >Step 5 - </span>\n",
    "   <span style=\"font-size:1.4em; color:#e39607;\">Save Data in </span> \n",
    "   <span style=\"font-size:1.2em; color:#209ebd;\">dlStat.csv file</span>\n",
    "</p> "
   ]
  },
  {
   "cell_type": "code",
   "execution_count": 9,
   "metadata": {},
   "outputs": [],
   "source": [
    "soStat =  {'dlRefSt':99, 'opnCloSt':\"Open\", 'traDate':'2023-05-22 5-04-47', 'action':\" \"}\n",
    "\n",
    "SoStat = pd.DataFrame(soStat, index=[0])\n",
    "fPath = \"Data/\" +coFolder+ \"/\" +Year+ \"/F1_Sales/Deliveries/dlStat.csv\"\n",
    "SoStat.to_csv(fPath, index=False, header=False, mode='a')"
   ]
  },
  {
   "cell_type": "markdown",
   "metadata": {},
   "source": [
    "<p style=\"margin:5px 0 -7px 20px; text-align: center\"> \n",
    "   <span style=\"font-size:1.6em; color:black;\" >Journal Entry </span>\n",
    "</p> "
   ]
  },
  {
   "cell_type": "markdown",
   "metadata": {},
   "source": [
    "<p style=\"padding:5px; border-bottom:3px solid #6d79a1; background:#e9edf7; margin:5px 0 -7px 20px;\"> \n",
    "   <span style=\"font-size:1.4em; color:#202f61;\" >Step 6 - </span>\n",
    "   <span style=\"font-size:1.4em; color:#e39607;\">Save Data in </span> \n",
    "   <span style=\"font-size:1.2em; color:#209ebd;\">ItemMovement.csv file</span>\n",
    "</p> "
   ]
  },
  {
   "cell_type": "code",
   "execution_count": 14,
   "metadata": {},
   "outputs": [],
   "source": [
    "itemMov =  {'id':123,'itmCode':4013150,'itmName':\"Test Product\",'traDat':\"5/22/2023\",'qtyPU':1,'costPU':22475,'qtyTOT':10,'costTOT':22475,'WAC':22475,'desc':\"Opening Balance\",}\n",
    "\n",
    "itemDf = pd.DataFrame(itemMov, index=[0])\n",
    "fPath = \"Data/\" +coFolder+ \"/\" +Year+ \"/H1_Items/Items/itemMovement.csv\"\n",
    "itemDf.to_csv(fPath, index=False, header=False, mode='a')"
   ]
  },
  {
   "cell_type": "markdown",
   "metadata": {},
   "source": [
    "<p style=\"padding:5px; border-bottom:3px solid #6d79a1; background:#e9edf7; margin:5px 0 -7px 20px;\"> \n",
    "   <span style=\"font-size:1.4em; color:#202f61;\" >Step 7 - </span>\n",
    "   <span style=\"font-size:1.4em; color:#e39607;\">Journal Entry </span> \n",
    "   <span style=\"font-size:1.2em; color:#209ebd;\">Entries.csv file</span>\n",
    "</p> "
   ]
  },
  {
   "cell_type": "code",
   "execution_count": 215,
   "metadata": {},
   "outputs": [],
   "source": [
    "addRecords = []\n",
    "cogs =  {'Ref':99, 'type': 'dl', 'Date':'2023-05-23', 'accCode':60110001, 'accName':'Cogs1','amount':84000 , 'Comm':'General Comments','traDate':'2023-05-22 5-04-47', 'action':\" \"}\n",
    "sales =  {'Ref':99, 'type': 'dl', 'Date':'2023-05-23', 'accCode':37000001, 'accName':'Inventory at Cost','amount':-80000, 'Comm':'General Comments','traDate':'2023-05-22 5-04-47', 'action':\" \"}\n",
    "addRecords.append(cogs)\n",
    "addRecords.append(sales)\n",
    "\n",
    "Journal = pd.DataFrame(addRecords)\n",
    "fPath = \"Data/\" +coFolder+ \"/\" +Year+ \"/C1_Gl/Journals/Journals.csv\"\n",
    "Journal.to_csv(fPath, index=False, header=False, mode='a')"
   ]
  },
  {
   "cell_type": "markdown",
   "metadata": {},
   "source": [
    "<p style=\"font-family:Calibri; font-size:1.75em; color:white; padding:5px 5px; text-align: left; height:50px; border-bottom: 3px solid orange; margin:-7px 0px;\"></p>"
   ]
  },
  {
   "cell_type": "markdown",
   "metadata": {},
   "source": [
    "<p style=\"font-size:2.2em; padding:18px; border-bottom: 5px solid #ffb701; background:#143157;\"> \n",
    "    <span style=\"color: #fff;\"> Delivery -  </span>\n",
    "    <span style=\"font-size:.75em; color: #11a1f5;\"> Show and Edit Orders </span>\n",
    "</p>"
   ]
  },
  {
   "cell_type": "markdown",
   "metadata": {},
   "source": [
    "<p style=\"padding:5px; border-bottom:3px solid #6d79a1; background:#e9edf7; margin:5px 0 -7px 20px;\"> \n",
    "   <span style=\"font-size:1.4em; color:#202f61;\" >Step 1 - </span>\n",
    "   <span style=\"font-size:1.4em; color:#e39607;\">Get Company and Year - </span> \n",
    "   <span style=\"font-size:1.2em; color:#209ebd;\">to Load Data </span>\n",
    "</p> "
   ]
  },
  {
   "cell_type": "code",
   "execution_count": 13,
   "metadata": {},
   "outputs": [],
   "source": [
    "import pandas as pd\n",
    "import numpy as np\n",
    "dfStd = pd.read_csv('data/basInfo.csv')\n",
    "Year = str(dfStd.loc[0, 'year'])\n",
    "coFolder = str(dfStd.loc[0, 'coFolder'])"
   ]
  },
  {
   "cell_type": "markdown",
   "metadata": {},
   "source": [
    "<p style=\"padding:5px; border-bottom:3px solid #6d79a1; background:#e9edf7; margin:5px 0 -7px 20px;\"> \n",
    "   <span style=\"font-size:1.4em; color:#202f61;\" >Step 2 - </span>\n",
    "   <span style=\"font-size:1.4em; color:#e39607;\">Read dlBasic.csv File</span> \n",
    "</p> "
   ]
  },
  {
   "cell_type": "code",
   "execution_count": 16,
   "metadata": {},
   "outputs": [],
   "source": [
    "pk = 2300001\n",
    "fPath = \"Data/\" +coFolder+ \"/\" +Year+ \"/F1_Sales/Deliveries/dlBasic.csv\"\n",
    "dfA = pd.read_csv(fPath, index_col=False, encoding='unicode_escape').fillna('')\n",
    "dfBasic = dfA[dfA['dlRef'] == pk].fillna(0) ### Filter data as per 'pk' selected quote"
   ]
  },
  {
   "cell_type": "code",
   "execution_count": 18,
   "metadata": {},
   "outputs": [],
   "source": [
    "### file doesn't recongnize date formate first convert into date and than strftime\n",
    "dfBasic['dlDat'] = pd.to_datetime(dfBasic['dlDat']).dt.strftime('%Y-%m-%d')\n",
    "dfBasic['soDat'] = pd.to_datetime(dfBasic['soDat']).dt.strftime('%Y-%m-%d')"
   ]
  },
  {
   "cell_type": "code",
   "execution_count": 20,
   "metadata": {},
   "outputs": [],
   "source": [
    "### Remove Duplicate Quote and Deleted Record...\n",
    "dfBasic = dfBasic.drop_duplicates(subset=['dlRef'], keep='last')\n",
    "dfBasic = dfBasic.drop(dfBasic.loc[dfBasic['action']=='Delete'].index)"
   ]
  },
  {
   "cell_type": "code",
   "execution_count": 22,
   "metadata": {
    "scrolled": true
   },
   "outputs": [],
   "source": [
    "### Convert Transaction Date to list to filter records in qotAddi\n",
    "List = dfBasic[\"traDate\"] #.tolist()"
   ]
  },
  {
   "cell_type": "code",
   "execution_count": 24,
   "metadata": {},
   "outputs": [],
   "source": [
    "### Convert Transaction Date to list to filter records in qotAddi\n",
    "dlBasi = dfBasic.to_dict(orient=\"records\") ### convert into dictionary"
   ]
  },
  {
   "cell_type": "markdown",
   "metadata": {},
   "source": [
    "<p style=\"padding:5px; border-bottom:3px solid #6d79a1; background:#e9edf7; margin:5px 0 -7px 20px;\"> \n",
    "   <span style=\"font-size:1.4em; color:#202f61;\" >Step 3 - </span>\n",
    "   <span style=\"font-size:1.4em; color:#e39607;\">Read dlAddi.csv File</span> \n",
    "</p> "
   ]
  },
  {
   "cell_type": "code",
   "execution_count": 26,
   "metadata": {},
   "outputs": [],
   "source": [
    "fPath = \"Data/\" +coFolder+ \"/\" +Year+ \"/F1_Sales/Deliveries/dlAddi.csv\"\n",
    "dfB = pd.read_csv(fPath, index_col=False, encoding='unicode_escape').fillna('')\n",
    "dfAddi = dfB[dfB['dlRef'] == pk].fillna(0) ### Filter as per 'pk' selected quote"
   ]
  },
  {
   "cell_type": "code",
   "execution_count": 28,
   "metadata": {},
   "outputs": [],
   "source": [
    "filtered_df = dfAddi[dfAddi['traDate'].isin(List)] ### Filter by transaction Date"
   ]
  },
  {
   "cell_type": "code",
   "execution_count": 12,
   "metadata": {},
   "outputs": [],
   "source": [
    "### Convert Transaction Date to list to filter records in qotAddi\n",
    "dlAddiItems = filtered_df.to_dict(orient=\"records\") ### convert into dictionary"
   ]
  },
  {
   "cell_type": "markdown",
   "metadata": {},
   "source": [
    "<p style=\"font-family:Calibri; font-size:1.75em; color:white; padding:5px 5px; text-align: left; height:50px; border-bottom: 3px solid orange; margin:-7px 0px;\"></p>"
   ]
  },
  {
   "cell_type": "markdown",
   "metadata": {},
   "source": [
    "<p style=\"font-size:2.2em; padding:18px; border-bottom: 5px solid #ffb701; background:#143157;\"> \n",
    "    <span style=\"color: #fff;\">Delivery -  </span>\n",
    "    <span style=\"font-size:.75em; color: #11a1f5;\"> Delete Delivery Note </span>\n",
    "</p>"
   ]
  },
  {
   "cell_type": "markdown",
   "metadata": {},
   "source": [
    "<p style=\"padding:5px; border-bottom:3px solid #6d79a1; background:#e9edf7; margin:5px 0 -7px 20px;\"> \n",
    "   <span style=\"font-size:1.4em; color:#202f61;\" >Step 1 - </span>\n",
    "   <span style=\"font-size:1.4em; color:#e39607;\">Get Company and Year - </span> \n",
    "   <span style=\"font-size:1.2em; color:#209ebd;\">to Load Data </span>\n",
    "</p> "
   ]
  },
  {
   "cell_type": "code",
   "execution_count": 3,
   "metadata": {},
   "outputs": [],
   "source": [
    "import pandas as pd\n",
    "import numpy as np\n",
    "dfStd = pd.read_csv('data/basInfo.csv')\n",
    "Year = str(dfStd.loc[0, 'year'])\n",
    "coFolder = str(dfStd.loc[0, 'coFolder'])"
   ]
  },
  {
   "cell_type": "markdown",
   "metadata": {},
   "source": [
    "<p style=\"padding:5px; border-bottom:3px solid #6d79a1; background:#e9edf7; margin:5px 0 -7px 20px;\"> \n",
    "   <span style=\"font-size:1.4em; color:#202f61;\" >Step 2 - </span>\n",
    "   <span style=\"font-size:1.4em; color:#e39607;\">Read dlBasic.csv File</span> \n",
    "</p> "
   ]
  },
  {
   "cell_type": "code",
   "execution_count": 32,
   "metadata": {},
   "outputs": [],
   "source": [
    "pk = 2300001\n",
    "fPath = \"Data/\" +coFolder+ \"/\" +Year+ \"/F1_Sales/Deliveries/dlBasic.csv\"\n",
    "dfA = pd.read_csv(fPath, index_col=False, encoding='unicode_escape').fillna('')\n",
    "dfBasic = dfA[dfA['dlRef'] == pk].fillna(0) ### Filter data as per 'pk' selected quote"
   ]
  },
  {
   "cell_type": "code",
   "execution_count": 34,
   "metadata": {},
   "outputs": [],
   "source": [
    "### Remove Duplicate Quote and Deleted Record...\n",
    "dfBasic = dfBasic.drop_duplicates(subset=['dlRef'], keep='last')\n",
    "dfBasic = dfBasic.drop(dfBasic.loc[dfBasic['action']=='Deleted'].index)"
   ]
  },
  {
   "cell_type": "code",
   "execution_count": 38,
   "metadata": {},
   "outputs": [],
   "source": [
    "dfBasic['action'] = 'Deleted' ### in 'action' column add the word 'Deleted'"
   ]
  },
  {
   "cell_type": "code",
   "execution_count": 39,
   "metadata": {},
   "outputs": [],
   "source": [
    "### Save the record(dataframe) in csv file\n",
    "fPath = fPath = \"Data/\" +coFolder+ \"/\" +Year+ \"/F1_Sales/Deliveries/dlBasic.csv\"\n",
    "dfBasic.to_csv(fPath, index=False, header=False, mode='a')"
   ]
  },
  {
   "cell_type": "markdown",
   "metadata": {},
   "source": [
    "<p style=\"padding:5px; border-bottom:3px solid #6d79a1; background:#e9edf7; margin:5px 0 -7px 20px;\"> \n",
    "   <span style=\"font-size:1.4em; color:#202f61;\" >Step 3 - </span>\n",
    "   <span style=\"font-size:1.4em; color:#e39607;\">Read dlState.csv File</span> \n",
    "</p> "
   ]
  },
  {
   "cell_type": "code",
   "execution_count": 40,
   "metadata": {},
   "outputs": [],
   "source": [
    "fPath = \"Data/\" +coFolder+ \"/\" +Year+ \"/F1_Sales/Deliveries/dlStat.csv\"\n",
    "dfA = pd.read_csv(fPath, index_col=False, encoding='unicode_escape').fillna('')\n",
    "dfStat = dfA[dfA['dlRefSt'] == pk].fillna(0) ### Filter data as per 'pk' selected quote"
   ]
  },
  {
   "cell_type": "code",
   "execution_count": 41,
   "metadata": {},
   "outputs": [],
   "source": [
    "### Remove Duplicate Quote and Deleted Record...\n",
    "dfStat = dfStat.drop_duplicates(subset=['dlRefSt'], keep='last')\n",
    "dfStat = dfStat.drop(dfStat.loc[dfStat['action']=='Deleted'].index)"
   ]
  },
  {
   "cell_type": "code",
   "execution_count": 42,
   "metadata": {},
   "outputs": [],
   "source": [
    "dfStat['action'] = 'Deleted' ### in 'action' column add the word 'Deleted'"
   ]
  },
  {
   "cell_type": "code",
   "execution_count": 44,
   "metadata": {},
   "outputs": [],
   "source": [
    "### Save the record(dataframe) in csv file\n",
    "fPath = fPath = \"Data/\" +coFolder+ \"/\" +Year+ \"/F1_Sales/Deliveries/dlStat.csv\"\n",
    "dfStat.to_csv(fPath, index=False, header=False, mode='a')"
   ]
  },
  {
   "cell_type": "markdown",
   "metadata": {},
   "source": [
    "<p style=\"padding:5px; border-bottom:3px solid #6d79a1; background:#e9edf7; margin:5px 0 -7px 20px;\"> \n",
    "   <span style=\"font-size:1.4em; color:#202f61;\" >Step 4 - </span>\n",
    "   <span style=\"font-size:1.4em; color:#e39607;\">Read soStat.csv File</span> \n",
    "</p> "
   ]
  },
  {
   "cell_type": "code",
   "execution_count": 57,
   "metadata": {},
   "outputs": [],
   "source": [
    "Ord= 2300005\n",
    "fPath = \"Data/\" +coFolder+ \"/\" +Year+ \"/F1_Sales/Orders/soStat.csv\"\n",
    "dfA = pd.read_csv(fPath, index_col=False, encoding='unicode_escape').fillna('')\n",
    "dfStat = dfA[dfA['soRefSt'] == Ord].fillna(0) ### Filter data as per 'pk' selected quote"
   ]
  },
  {
   "cell_type": "code",
   "execution_count": 59,
   "metadata": {},
   "outputs": [],
   "source": [
    "### Remove Duplicate Quote and Deleted Record...\n",
    "dfStat = dfStat.drop_duplicates(subset=['soRefSt'], keep='last')\n",
    "dfStat = dfStat.drop(dfStat.loc[dfStat['action']=='Deleted'].index)"
   ]
  },
  {
   "cell_type": "code",
   "execution_count": 63,
   "metadata": {},
   "outputs": [],
   "source": [
    "dfStat['opnCloSt'] = 'Open' ### in 'action' column add the word 'Deleted'"
   ]
  },
  {
   "cell_type": "code",
   "execution_count": 66,
   "metadata": {},
   "outputs": [],
   "source": [
    "### Save the record(dataframe) in csv file\n",
    "fPath = fPath = \"Data/\" +coFolder+ \"/\" +Year+ \"/F1_Sales/Orders/soStat.csv\"\n",
    "dfStat.to_csv(fPath, index=False, header=False, mode='a')"
   ]
  },
  {
   "cell_type": "markdown",
   "metadata": {},
   "source": [
    "<p style=\"padding:5px; border-bottom:3px solid #6d79a1; background:#e9edf7; margin:5px 0 -7px 20px;\"> \n",
    "   <span style=\"font-size:1.4em; color:#202f61;\" >Step 5 - </span>\n",
    "   <span style=\"font-size:1.4em; color:#e39607;\">Read ItemMovement.csv File</span> \n",
    "</p> "
   ]
  },
  {
   "cell_type": "code",
   "execution_count": 53,
   "metadata": {},
   "outputs": [],
   "source": [
    "pk= 2300001\n",
    "fPath = \"Data/\" +coFolder+ \"/\" +Year+ \"/H1_Items/Items/itemMovement.csv\"\n",
    "dfA = pd.read_csv(fPath, index_col=False, encoding='unicode_escape').fillna('')\n",
    "dfStat = dfA[dfA['id'] == pk].fillna(0) ### Filter data as per 'pk' selected quote"
   ]
  },
  {
   "cell_type": "code",
   "execution_count": 54,
   "metadata": {},
   "outputs": [],
   "source": [
    "### Remove Duplicate Quote and Deleted Record... (because each item is unique)\n",
    "dfStat = dfStat.drop_duplicates(subset=['itmCode'], keep='last')\n",
    "dfStat = dfStat.drop(dfStat.loc[dfStat['action']=='Deleted'].index)"
   ]
  },
  {
   "cell_type": "code",
   "execution_count": 55,
   "metadata": {},
   "outputs": [],
   "source": [
    "dfStat['action'] = 'Deleted' ### in 'action' column add the word 'Deleted'"
   ]
  },
  {
   "cell_type": "code",
   "execution_count": 307,
   "metadata": {},
   "outputs": [],
   "source": [
    "### Save the record(dataframe) in csv file\n",
    "fPath = fPath = \"Data/\" +coFolder+ \"/\" +Year+ \"/H1_Items/Items/itemMovement.csv\"\n",
    "dfStat.to_csv(fPath, index=False, header=False, mode='a')"
   ]
  },
  {
   "cell_type": "markdown",
   "metadata": {},
   "source": [
    "<p style=\"padding:5px; border-bottom:3px solid #6d79a1; background:#e9edf7; margin:5px 0 -7px 20px;\"> \n",
    "   <span style=\"font-size:1.4em; color:#202f61;\" >Step 6 - </span>\n",
    "   <span style=\"font-size:1.4em; color:#e39607;\">Read Journals.csv File</span> \n",
    "</p> "
   ]
  },
  {
   "cell_type": "code",
   "execution_count": 314,
   "metadata": {},
   "outputs": [],
   "source": [
    "pk= 2300002\n",
    "fPath = \"Data/\" +coFolder+ \"/\" +Year+ \"/C1_Gl/Journals/Journals.csv\"\n",
    "dfA = pd.read_csv(fPath, index_col=False, encoding='unicode_escape').fillna('')"
   ]
  },
  {
   "cell_type": "code",
   "execution_count": 315,
   "metadata": {},
   "outputs": [],
   "source": [
    "dfA['unique'] = dfA['Ref'].astype(str)+ '-' +dfA['Type']\n",
    "itemPk = str(pk)+'-dl'\n",
    "dfStat = dfA[dfA['unique'] == itemPk].fillna(0) ### Filter data as per 'pk' selected quote"
   ]
  },
  {
   "cell_type": "code",
   "execution_count": 317,
   "metadata": {},
   "outputs": [],
   "source": [
    "### Remove Duplicate Quote and Deleted Record...\n",
    "dfStat = dfStat.drop_duplicates(subset=['accCode'], keep='last')\n",
    "dfStat = dfStat.drop(dfStat.loc[dfStat['action']=='Deleted'].index)"
   ]
  },
  {
   "cell_type": "code",
   "execution_count": 318,
   "metadata": {},
   "outputs": [],
   "source": [
    "dfStat['action'] = 'Deleted' ### in 'action' column add the word 'Deleted\n",
    "dfStat = dfStat.drop('unique', axis=1)"
   ]
  },
  {
   "cell_type": "code",
   "execution_count": 320,
   "metadata": {},
   "outputs": [],
   "source": [
    "### Save the record(dataframe) in csv file\n",
    "fPath = \"Data/\" +coFolder+ \"/\" +Year+ \"/C1_Gl/Journals/Journals.csv\"\n",
    "dfStat.to_csv(fPath, index=False, header=False, mode='a')"
   ]
  },
  {
   "cell_type": "markdown",
   "metadata": {},
   "source": [
    "<p style=\"font-family:Calibri; font-size:1.75em; color:white; padding:5px 5px; text-align: left; height:50px; border-bottom: 3px solid orange; margin:-7px 0px;\"></p>"
   ]
  },
  {
   "cell_type": "markdown",
   "metadata": {},
   "source": [
    "<p style=\"font-size:2.2em; padding:18px; border-bottom: 5px solid #ffb701; background:#143157;\"> \n",
    "    <span style=\"color: #fff;\"> Delivery -  </span>\n",
    "    <span style=\"font-size:.75em; color: #11a1f5;\"> Download Orders as PDF</span>\n",
    "</p>"
   ]
  },
  {
   "cell_type": "markdown",
   "metadata": {},
   "source": [
    "<p style=\"padding:5px; border-bottom:3px solid #6d79a1; background:#e9edf7; margin:5px 0 -7px 20px;\"> \n",
    "   <span style=\"font-size:1.4em; color:#202f61;\" >Step 1 - </span>\n",
    "   <span style=\"font-size:1.4em; color:#e39607;\">Get Company and Year - </span> \n",
    "   <span style=\"font-size:1.2em; color:#209ebd;\">to Load Data </span>\n",
    "</p> "
   ]
  },
  {
   "cell_type": "code",
   "execution_count": 23,
   "metadata": {},
   "outputs": [],
   "source": [
    "import pandas as pd\n",
    "import numpy as np\n",
    "dfStd = pd.read_csv('data/basInfo.csv')\n",
    "Year = str(dfStd.loc[0, 'year'])\n",
    "coFolder = str(dfStd.loc[0, 'coFolder'])"
   ]
  },
  {
   "cell_type": "markdown",
   "metadata": {},
   "source": [
    "<p style=\"padding:5px; border-bottom:3px solid #6d79a1; background:#e9edf7; margin:5px 0 -7px 20px;\"> \n",
    "   <span style=\"font-size:1.4em; color:#202f61;\" >Step 2 - </span>\n",
    "   <span style=\"font-size:1.4em; color:#e39607;\">Read dlBasic.csv File - </span> \n",
    "   <span style=\"font-size:1.2em; color:#209ebd;\">to Load Data </span>\n",
    "</p> "
   ]
  },
  {
   "cell_type": "code",
   "execution_count": 25,
   "metadata": {},
   "outputs": [],
   "source": [
    "pk = 2300001\n",
    "\n",
    "###----Read Order Basic File--------------------------------------------\n",
    "fPath = \"Data/\" +coFolder+ \"/\" +Year+ \"/F1_Sales/Deliveries/dlBasic.csv\"\n",
    "dfA = pd.read_csv(fPath, index_col=False, encoding='unicode_escape')\n",
    "dfBasic = dfA[dfA['dlRef'] == pk].fillna(0) ### Filter"
   ]
  },
  {
   "cell_type": "code",
   "execution_count": 26,
   "metadata": {},
   "outputs": [],
   "source": [
    "### Remove Duplicate Order and Deleted Record...\n",
    "dfBasic = dfBasic.drop_duplicates(subset=['dlRef'], keep='last')\n",
    "dfBasic = dfBasic.drop(dfBasic.loc[dfBasic['action']=='Delete'].index)"
   ]
  },
  {
   "cell_type": "code",
   "execution_count": 27,
   "metadata": {
    "scrolled": true
   },
   "outputs": [],
   "source": [
    "### Convert Transaction Date to list to filter records in soAddi\n",
    "List = dfBasic[\"traDate\"] #.tolist()"
   ]
  },
  {
   "cell_type": "code",
   "execution_count": 29,
   "metadata": {},
   "outputs": [],
   "source": [
    "dlBasi = dfBasic.to_dict(orient=\"records\") ### convert into dictionary"
   ]
  },
  {
   "cell_type": "markdown",
   "metadata": {},
   "source": [
    "<p style=\"padding:5px; border-bottom:3px solid #6d79a1; background:#e9edf7; margin:5px 0 -7px 20px;\"> \n",
    "   <span style=\"font-size:1.4em; color:#202f61;\" >Step 3 - </span>\n",
    "   <span style=\"font-size:1.4em; color:#e39607;\">Read dlAddi.csv File - </span> \n",
    "   <span style=\"font-size:1.2em; color:#209ebd;\">to get Orders Detail </span>\n",
    "</p> "
   ]
  },
  {
   "cell_type": "code",
   "execution_count": 30,
   "metadata": {},
   "outputs": [],
   "source": [
    "fPath = \"Data/\" +coFolder+ \"/\" +Year+ \"/F1_Sales/Deliveries/dlAddi.csv\"\n",
    "dfB = pd.read_csv(fPath, index_col=False, encoding='unicode_escape')\n",
    "dfAddi = dfB[dfB['dlRef'] == pk].fillna(0) ### Filter Record as per 'pk' selected Order"
   ]
  },
  {
   "cell_type": "code",
   "execution_count": 31,
   "metadata": {},
   "outputs": [],
   "source": [
    "### Filtere the 'Order' by Order \"Target List\"\n",
    "filtered_df = dfAddi[dfAddi['traDate'].isin(List)]\n",
    "dlAddiItems = filtered_df.to_dict(orient=\"records\") ### convert into dictionary"
   ]
  },
  {
   "cell_type": "markdown",
   "metadata": {},
   "source": [
    "<p style=\"font-family:Calibri; font-size:1.75em; color:white; padding:5px 5px; text-align: left; height:50px; border-bottom: 3px solid orange; margin:-7px 0px;\"></p>"
   ]
  },
  {
   "cell_type": "markdown",
   "metadata": {},
   "source": [
    "<p style=\"font-size:2.2em; padding:10px; border-bottom: 5px solid #ffb701; background:#492863;\n",
    "          text-align:center\"> \n",
    "    <span style=\"color: #debef7;\"> Sales Order  </span> <br>\n",
    "</p>"
   ]
  },
  {
   "cell_type": "markdown",
   "metadata": {},
   "source": [
    "<p style=\"font-size:2em; padding:18px; border-bottom: 5px solid #ffb701; background:#143157;\"> \n",
    "    <span style=\"color: #fff;\"> Create Sub-Folder -  </span>\n",
    "    <span style=\"font-size:.75em; color: #11a1f5;\"> \"Orders\" </span>\n",
    "</p>"
   ]
  },
  {
   "cell_type": "code",
   "execution_count": 124,
   "metadata": {},
   "outputs": [],
   "source": [
    "subFolder = \"Data/\" +coFolder+ \"/\" +Year+ \"/F1_Sales/Orders\"\n",
    "os.makedirs(subFolder, mode=0o777, exist_ok=True)"
   ]
  },
  {
   "cell_type": "markdown",
   "metadata": {},
   "source": [
    "<p style=\"font-family:Calibri; font-size:1.2em; color:#061233; padding:2px 5px; margin: 5px 0 -7px 20px; border-bottom: 3px solid #0d1e4f; background: #f0f4ff\">  \n",
    "   <span style=\"font-size:1.2em; color:#384073;\" >1a. Create</span>\n",
    "   <span style=\"font-size:1.2em; color:#821107;\" >soBasic.CSV</span>\n",
    "   <span style=\"font-size:1.2em; color:#384073;\" >file</span>\n",
    "</p>"
   ]
  },
  {
   "cell_type": "code",
   "execution_count": 125,
   "metadata": {},
   "outputs": [],
   "source": [
    "file_path = \"Data/\" +coFolder+ \"/\" +Year+ \"/F1_Sales/Orders/soBasic.csv\"\n",
    "\n",
    "if not os.path.exists(file_path):\n",
    "    headers = ['id', 'soRef', 'soDat', 'cusCode', 'cusName', 'soTBD', 'soTAD', 'soTax', 'soTAT', 'shipTo', 'soComm', 'opnClo', 'spCName', 'spCode', 'qotRef', 'qotDat', 'traDate', 'action']\n",
    "    new_record = {'id': str(Year[2:])+\"00000\", 'soRef': str(Year[2:])+\"00000\"}\n",
    "    \n",
    "    with open(file_path, 'w', newline='') as csv_file:  #create fresh file each time\n",
    "        writer = csv.writer(csv_file); \n",
    "        writer.writerow(headers)\n",
    "        writer.writerow(new_record.values())"
   ]
  },
  {
   "cell_type": "markdown",
   "metadata": {},
   "source": [
    "<p style=\"font-family:Calibri; font-size:1.2em; color:#061233; padding:2px 5px; margin: 5px 0 -7px 20px; border-bottom: 3px solid #0d1e4f; background: #f0f4ff\">  \n",
    "   <span style=\"font-size:1.2em; color:#384073;\" >1b. Create</span>\n",
    "   <span style=\"font-size:1.2em; color:#821107;\" >soAddi.CSV</span>\n",
    "   <span style=\"font-size:1.2em; color:#384073;\" >file</span>\n",
    "</p>"
   ]
  },
  {
   "cell_type": "code",
   "execution_count": 126,
   "metadata": {},
   "outputs": [],
   "source": [
    "file_path = \"Data/\" +coFolder+ \"/\" +Year+ \"/F1_Sales/Orders/soAddi.csv\"\n",
    "\n",
    "if not os.path.exists(file_path):\n",
    "    headers = ['id', 'soRef', 'sno', 'itmCod', 'desc', 'qty', 'price', 'disc', 'tot', 'vat', 'traDate', 'action']\n",
    "\n",
    "    with open(file_path, 'w', newline='') as csv_file:  #create fresh file each time\n",
    "        writer = csv.writer(csv_file); \n",
    "        writer.writerow(headers)"
   ]
  },
  {
   "cell_type": "markdown",
   "metadata": {},
   "source": [
    "<p style=\"font-family:Calibri; font-size:1.2em; color:#061233; padding:2px 5px; margin: 5px 0 -7px 20px; border-bottom: 3px solid #0d1e4f; background: #f0f4ff\">  \n",
    "   <span style=\"font-size:1.2em; color:#384073;\" >1c. Create</span>\n",
    "   <span style=\"font-size:1.2em; color:#821107;\" >soStat.CSV</span>\n",
    "   <span style=\"font-size:1.2em; color:#384073;\" >file</span>\n",
    "</p>"
   ]
  },
  {
   "cell_type": "code",
   "execution_count": 127,
   "metadata": {},
   "outputs": [],
   "source": [
    "file_path = \"Data/\" +coFolder+ \"/\" +Year+ \"/F1_Sales/Orders/soStat.csv\"\n",
    "\n",
    "if not os.path.exists(file_path):\n",
    "    headers = ['soRefSt','opnCloSt','traDate', 'action']\n",
    "\n",
    "    with open(file_path, 'w', newline='') as csv_file:  #create fresh file each time\n",
    "        writer = csv.writer(csv_file); \n",
    "        writer.writerow(headers)"
   ]
  },
  {
   "cell_type": "markdown",
   "metadata": {},
   "source": [
    "<p style=\"font-family:Calibri; font-size:1.75em; color:white; padding:5px 5px; text-align: left; height:50px; border-bottom: 3px solid orange; margin:-7px 0px;\"></p>"
   ]
  },
  {
   "cell_type": "markdown",
   "metadata": {},
   "source": [
    "<p style=\"font-size:2.2em; padding:18px; border-bottom: 5px solid #ffb701; background:#143157;\"> \n",
    "    <span style=\"color: #fff;\"> Orders -  </span>\n",
    "    <span style=\"font-size:.75em; color: #11a1f5;\"> Show All Transactions </span>\n",
    "</p>"
   ]
  },
  {
   "cell_type": "markdown",
   "metadata": {},
   "source": [
    "<p style=\"padding:5px; border-bottom:3px solid #6d79a1; background:#e9edf7; margin:5px 0 -7px 20px;\"> \n",
    "   <span style=\"font-size:1.4em; color:#202f61;\" >Step 1 - </span>\n",
    "   <span style=\"font-size:1.4em; color:#e39607;\">Get Company and Year - </span> \n",
    "   <span style=\"font-size:1.2em; color:#209ebd;\">to Load Data </span>\n",
    "</p> "
   ]
  },
  {
   "cell_type": "code",
   "execution_count": 161,
   "metadata": {},
   "outputs": [],
   "source": [
    "import pandas as pd\n",
    "import numpy as np\n",
    "dfStd = pd.read_csv('data/basInfo.csv')\n",
    "Year = str(dfStd.loc[0, 'year'])\n",
    "coFolder = str(dfStd.loc[0, 'coFolder'])"
   ]
  },
  {
   "cell_type": "markdown",
   "metadata": {},
   "source": [
    "<p style=\"padding:5px; border-bottom:3px solid #6d79a1; background:#e9edf7; margin:5px 0 -7px 20px;\"> \n",
    "   <span style=\"font-size:1.4em; color:#202f61;\" >Step 2 - </span>\n",
    "   <span style=\"font-size:1.4em; color:#e39607;\">Read soBasic.csv File</span> \n",
    "</p> "
   ]
  },
  {
   "cell_type": "code",
   "execution_count": 173,
   "metadata": {},
   "outputs": [],
   "source": [
    "req_cols = ['id','soRef','soDat','cusName','qotRef', 'soTax', 'soTAT','spName','opnClo','action']\n",
    "fPath = \"Data/\" +coFolder+ \"/\" +Year+ \"/F1_Sales/Orders/soBasic.csv\"\n",
    "df = pd.read_csv(fPath, usecols=req_cols, index_col=False, encoding='unicode_escape')"
   ]
  },
  {
   "cell_type": "code",
   "execution_count": null,
   "metadata": {},
   "outputs": [],
   "source": [
    "### drop first row which is empty...\n",
    "df = df.drop(df.index[0])"
   ]
  },
  {
   "cell_type": "code",
   "execution_count": 174,
   "metadata": {},
   "outputs": [],
   "source": [
    "### file doesn't recongnize date formate first convert into date and than strftime\n",
    "df['soDat'] = pd.to_datetime(df['soDat']).dt.strftime('%Y-%m-%d')"
   ]
  },
  {
   "cell_type": "code",
   "execution_count": 175,
   "metadata": {},
   "outputs": [],
   "source": [
    "### Remove Duplicate Order and Deleted Record...\n",
    "df = df.drop_duplicates(subset=['soRef'], keep='last')\n",
    "df = df.drop(df.loc[df['action']=='Deleted'].index).fillna('')"
   ]
  },
  {
   "cell_type": "markdown",
   "metadata": {},
   "source": [
    "<p style=\"padding:5px; border-bottom:3px solid #6d79a1; background:#e9edf7; margin:5px 0 -7px 20px;\"> \n",
    "   <span style=\"font-size:1.4em; color:#202f61;\" >Step 3 - </span>\n",
    "   <span style=\"font-size:1.4em; color:#e39607;\">Read soStat.csv File</span> \n",
    "</p> "
   ]
  },
  {
   "cell_type": "code",
   "execution_count": null,
   "metadata": {},
   "outputs": [],
   "source": [
    "statPath = \"Data/\" +coFolder+ \"/\" +Year+ \"/F1_Sales/Orders/soStat.csv\"\n",
    "stat = pd.read_csv(statPath, index_col=False, encoding='unicode_escape')"
   ]
  },
  {
   "cell_type": "code",
   "execution_count": 176,
   "metadata": {},
   "outputs": [],
   "source": [
    "### Remove Duplicate and Deleted Record...\n",
    "stat = stat.drop_duplicates(subset=['soRefSt'], keep='last')"
   ]
  },
  {
   "cell_type": "markdown",
   "metadata": {},
   "source": [
    "<p style=\"padding:5px; border-bottom:3px solid #6d79a1; background:#e9edf7; margin:5px 0 -7px 20px;\"> \n",
    "   <span style=\"font-size:1.4em; color:#202f61;\" >Step 4 - </span>\n",
    "   <span style=\"font-size:1.4em; color:#e39607;\">Map soBasic.csv Open/Close with soStat.csv</span> \n",
    "</p> "
   ]
  },
  {
   "cell_type": "code",
   "execution_count": 177,
   "metadata": {},
   "outputs": [],
   "source": [
    "opnClo_map = dict(zip(stat['soRefSt'], stat['opnCloSt']))\n",
    "df['opnClo'] = df['soRef'].map(opnClo_map).fillna(df['opnClo'])"
   ]
  },
  {
   "cell_type": "markdown",
   "metadata": {},
   "source": [
    "<p style=\"padding:5px; border-bottom:3px solid #6d79a1; background:#e9edf7; margin:5px 0 -7px 20px;\"> \n",
    "   <span style=\"font-size:1.4em; color:#202f61;\" >Step 5 - </span>\n",
    "   <span style=\"font-size:1.4em; color:#e39607;\">Convert Data into Dictionary</span> \n",
    "</p> "
   ]
  },
  {
   "cell_type": "code",
   "execution_count": 43,
   "metadata": {},
   "outputs": [],
   "source": [
    " ### Convert Data into Json Dictionary\n",
    "Data = df.to_dict(orient=\"records\")"
   ]
  },
  {
   "cell_type": "markdown",
   "metadata": {},
   "source": [
    "<p style=\"font-family:Calibri; font-size:1.75em; color:white; padding:5px 5px; text-align: left; height:50px; border-bottom: 3px solid orange; margin:-7px 0px;\"></p>"
   ]
  },
  {
   "cell_type": "markdown",
   "metadata": {},
   "source": [
    "<p style=\"font-size:2.2em; padding:18px; border-bottom: 5px solid #ffb701; background:#143157;\"> \n",
    "    <span style=\"color: #fff;\"> Orders -  </span>\n",
    "    <span style=\"font-size:.75em; color: #11a1f5;\"> Synchronize / Refresh Data</span>\n",
    "</p>"
   ]
  },
  {
   "cell_type": "markdown",
   "metadata": {},
   "source": [
    "<p style=\"padding:5px; border-bottom:3px solid #6d79a1; background:#e9edf7; margin:5px 0 -7px 20px;\"> \n",
    "   <span style=\"font-size:1.4em; color:#202f61;\" >Step 1 - </span>\n",
    "   <span style=\"font-size:1.4em; color:#e39607;\">Get Company and Year - </span> \n",
    "   <span style=\"font-size:1.2em; color:#209ebd;\">to Load Data </span>\n",
    "</p> "
   ]
  },
  {
   "cell_type": "code",
   "execution_count": 143,
   "metadata": {},
   "outputs": [],
   "source": [
    "import pandas as pd\n",
    "import numpy as np\n",
    "dfStd = pd.read_csv('data/basInfo.csv')\n",
    "Year = str(dfStd.loc[0, 'year'])\n",
    "coFolder = str(dfStd.loc[0, 'coFolder'])"
   ]
  },
  {
   "cell_type": "markdown",
   "metadata": {},
   "source": [
    "<p style=\"padding:5px; border-bottom:3px solid #6d79a1; background:#e9edf7; margin:5px 0 -7px 20px;\"> \n",
    "   <span style=\"font-size:1.4em; color:#202f61;\" >Step 2 - </span>\n",
    "   <span style=\"font-size:1.4em; color:#e39607;\">Read soBasic.csv File - </span> \n",
    "   <span style=\"font-size:1.2em; color:#209ebd;\">to Load Data </span>\n",
    "</p> "
   ]
  },
  {
   "cell_type": "code",
   "execution_count": 144,
   "metadata": {},
   "outputs": [],
   "source": [
    "fPath = \"Data/\" +coFolder+ \"/\" +Year+ \"/F1_Sales/Orders/soBasic.csv\"\n",
    "dfA = pd.read_csv(fPath, index_col=False, encoding='unicode_escape').fillna('')"
   ]
  },
  {
   "cell_type": "code",
   "execution_count": 145,
   "metadata": {},
   "outputs": [],
   "source": [
    "### Remove Duplicate Quote and Deleted Record...\n",
    "dfBasic = dfA.drop_duplicates(subset=['soRef'], keep='last')\n",
    "dfBasic = dfBasic.drop(dfBasic.loc[dfBasic['action']=='Deleted'].index)"
   ]
  },
  {
   "cell_type": "code",
   "execution_count": 146,
   "metadata": {},
   "outputs": [],
   "source": [
    "dfBasic = dfBasic.sort_values('soRef') #sor by qotRef"
   ]
  },
  {
   "cell_type": "code",
   "execution_count": 40,
   "metadata": {},
   "outputs": [],
   "source": [
    "### Save the data in qotBasic.csv File...\n",
    "fPath = \"Data/\" +coFolder+ \"/\" +Year+ \"/F1_Sales/Orders/soBasic.csv\"\n",
    "dfBasic.to_csv(fPath, index=False)"
   ]
  },
  {
   "cell_type": "code",
   "execution_count": 154,
   "metadata": {},
   "outputs": [],
   "source": [
    "dfBasic['unique'] = dfBasic['soRef'].astype(str)+\" \"+dfBasic['traDate']"
   ]
  },
  {
   "cell_type": "markdown",
   "metadata": {},
   "source": [
    "<p style=\"padding:5px; border-bottom:3px solid #6d79a1; background:#e9edf7; margin:5px 0 -7px 20px;\"> \n",
    "   <span style=\"font-size:1.4em; color:#202f61;\" >Step 3 - </span>\n",
    "   <span style=\"font-size:1.4em; color:#e39607;\">Read soAddi.csv File - </span> \n",
    "   <span style=\"font-size:1.2em; color:#209ebd;\">to Load Data </span>\n",
    "</p> "
   ]
  },
  {
   "cell_type": "code",
   "execution_count": 155,
   "metadata": {},
   "outputs": [],
   "source": [
    "fPath = \"Data/\" +coFolder+ \"/\" +Year+ \"/F1_Sales/Orders/soAddi.csv\"\n",
    "dfB = pd.read_csv(fPath, index_col=False, encoding='unicode_escape').fillna('')"
   ]
  },
  {
   "cell_type": "code",
   "execution_count": 156,
   "metadata": {},
   "outputs": [],
   "source": [
    "dfB[\"unique\"] = dfB['soRef'].astype(str)+\" \"+dfB['traDate']"
   ]
  },
  {
   "cell_type": "code",
   "execution_count": 157,
   "metadata": {},
   "outputs": [],
   "source": [
    "###---- Merge to filter out those data which Transaction Date is not matching with qotBasic\n",
    "merged_df = pd.merge(dfB, dfBasic['unique'], on='unique', how='inner')\n",
    "###---- Rearange Column to aboid any mistake\n",
    "merged_df = merged_df[['id','soRef','sno','itmCod','desc','qty','price','disc','tot','vat', 'traDate','action']]"
   ]
  },
  {
   "cell_type": "code",
   "execution_count": 159,
   "metadata": {},
   "outputs": [],
   "source": [
    "merged_df =merged_df.sort_values(['soRef','sno'], ascending = [True, True])"
   ]
  },
  {
   "cell_type": "code",
   "execution_count": 160,
   "metadata": {},
   "outputs": [],
   "source": [
    "### Save the data in qotAddi.csv File...\n",
    "fPath = \"Data/\" +coFolder+ \"/\" +Year+ \"/F1_Sales/Orders/soAddi-11.csv\"\n",
    "merged_df.to_csv(fPath, index=False)"
   ]
  },
  {
   "cell_type": "markdown",
   "metadata": {},
   "source": [
    "<p style=\"padding:5px; border-bottom:3px solid #6d79a1; background:#e9edf7; margin:5px 0 -7px 20px;\"> \n",
    "   <span style=\"font-size:1.4em; color:#202f61;\" >Step 4 - </span>\n",
    "   <span style=\"font-size:1.4em; color:#e39607;\">Read soStat.csv File - </span> \n",
    "   <span style=\"font-size:1.2em; color:#209ebd;\">to Load Data </span>\n",
    "</p> "
   ]
  },
  {
   "cell_type": "code",
   "execution_count": 44,
   "metadata": {},
   "outputs": [],
   "source": [
    "statPath = \"Data/\" +coFolder+ \"/\" +Year+ \"/F1_Sales/Orders/soStat.csv\"\n",
    "stat = pd.read_csv(statPath, index_col=False, encoding='unicode_escape').fillna('')"
   ]
  },
  {
   "cell_type": "code",
   "execution_count": 45,
   "metadata": {},
   "outputs": [],
   "source": [
    "### Remove Duplicate Quote and Deleted Record...\n",
    "stat = stat.drop_duplicates(subset=['soRefSt'], keep='last')\n",
    "stat = stat.drop(stat.loc[stat['action']=='Deleted'].index)"
   ]
  },
  {
   "cell_type": "code",
   "execution_count": 47,
   "metadata": {},
   "outputs": [],
   "source": [
    "### Save the data in qotStat.csv File...\n",
    "statPath =  \"Data/\" +coFolder+ \"/\" +Year+ \"/F1_Sales/Orders/soStat.csv\"\n",
    "stat.to_csv(statPath, index=False)"
   ]
  },
  {
   "cell_type": "markdown",
   "metadata": {},
   "source": [
    "<p style=\"font-family:Calibri; font-size:1.75em; color:white; padding:5px 5px; text-align: left; height:50px; border-bottom: 3px solid orange; margin:-7px 0px;\"></p>"
   ]
  },
  {
   "cell_type": "markdown",
   "metadata": {},
   "source": [
    "<p style=\"font-size:2.2em; padding:18px; border-bottom: 5px solid #ffb701; background:#143157;\"> \n",
    "    <span style=\"color: #fff;\"> Orders -  </span>\n",
    "    <span style=\"font-size:.75em; color: #11a1f5;\"> Add Record </span>\n",
    "</p>"
   ]
  },
  {
   "cell_type": "markdown",
   "metadata": {},
   "source": [
    "<p style=\"padding:5px; border-bottom:3px solid #6d79a1; background:#e9edf7; margin:5px 0 -7px 20px;\"> \n",
    "   <span style=\"font-size:1.4em; color:#202f61;\" >Step 1 - </span>\n",
    "   <span style=\"font-size:1.4em; color:#e39607;\">Get Company and Year - </span> \n",
    "   <span style=\"font-size:1.2em; color:#209ebd;\">to Load Data </span>\n",
    "</p> "
   ]
  },
  {
   "cell_type": "code",
   "execution_count": 178,
   "metadata": {},
   "outputs": [],
   "source": [
    "import pandas as pd\n",
    "import numpy as np\n",
    "dfStd = pd.read_csv('data/basInfo.csv')\n",
    "Year = str(dfStd.loc[0, 'year'])\n",
    "coFolder = str(dfStd.loc[0, 'coFolder'])"
   ]
  },
  {
   "cell_type": "markdown",
   "metadata": {},
   "source": [
    "<p style=\"padding:5px; border-bottom:3px solid #6d79a1; background:#e9edf7; margin:5px 0 -7px 20px;\"> \n",
    "   <span style=\"font-size:1.4em; color:#202f61;\" >Step 2 - </span>\n",
    "   <span style=\"font-size:1.4em; color:#e39607;\">Read soBasic.csv - </span> \n",
    "   <span style=\"font-size:1.2em; color:#209ebd;\">to Get the last Sales Order Number </span>\n",
    "</p> "
   ]
  },
  {
   "cell_type": "code",
   "execution_count": 179,
   "metadata": {},
   "outputs": [],
   "source": [
    "try: \n",
    "    req_cols = ['soRef', 'soDat']\n",
    "    fPath = \"Data/\" +coFolder+ \"/\" +Year+ \"/F1_Sales/Orders/soBasic.csv\"\n",
    "    df = pd.read_csv(fPath, usecols=req_cols, index_col=False, encoding='unicode_escape')\n",
    "except:\n",
    "    data = {'soRef': [0]}\n",
    "    df = pd.DataFrame(data)"
   ]
  },
  {
   "cell_type": "code",
   "execution_count": 180,
   "metadata": {},
   "outputs": [],
   "source": [
    "## Get the last Order Number...\n",
    "lastOrder = df['soRef'].max()"
   ]
  },
  {
   "cell_type": "markdown",
   "metadata": {},
   "source": [
    "<p style=\"padding:5px 5px 5px 20px; border-bottom:3px solid orange; background:#3c5c75; margin:15px 0 -7px 20px;\"> \n",
    "   <span style=\"font-size:1.4em; color:#f7ca25;\" >Get - </span>\n",
    "   <span style=\"font-size:1.4em; color:white;\">All Open - </span> \n",
    "   <span style=\"font-size:1.2em; color:#17cffc;\">Quotation List not converted into Sales Order</span>\n",
    "</p> "
   ]
  },
  {
   "cell_type": "markdown",
   "metadata": {},
   "source": [
    "<p style=\"padding:5px; border-bottom:3px solid #6d79a1; background:#e9edf7; margin:5px 0 -7px 20px;\"> \n",
    "   <span style=\"font-size:1.4em; color:#202f61;\" >Step 1 - </span>\n",
    "   <span style=\"font-size:1.4em; color:#e39607;\">Get Company and Year - </span> \n",
    "   <span style=\"font-size:1.2em; color:#209ebd;\">to Load Data </span>\n",
    "</p> "
   ]
  },
  {
   "cell_type": "code",
   "execution_count": 181,
   "metadata": {},
   "outputs": [],
   "source": [
    "import pandas as pd\n",
    "import numpy as np\n",
    "dfStd = pd.read_csv('data/basInfo.csv')\n",
    "Year = str(dfStd.loc[0, 'year'])\n",
    "coFolder = str(dfStd.loc[0, 'coFolder'])"
   ]
  },
  {
   "cell_type": "markdown",
   "metadata": {},
   "source": [
    "<p style=\"padding:5px; border-bottom:3px solid #6d79a1; background:#e9edf7; margin:5px 0 -7px 20px;\"> \n",
    "   <span style=\"font-size:1.4em; color:#202f61;\" >Step 2 - </span>\n",
    "   <span style=\"font-size:1.4em; color:#e39607;\">Read qotBasic.csv - </span> \n",
    "   <span style=\"font-size:1.2em; color:#209ebd;\">file to Load Data </span>\n",
    "</p> "
   ]
  },
  {
   "cell_type": "code",
   "execution_count": 182,
   "metadata": {},
   "outputs": [],
   "source": [
    "req_cols = [\"qotRef\",\"qotDat\", \"cusCode\", \"cusName\", \"opnClo\",\"action\"]\n",
    "fPath = \"Data/\" +coFolder+ \"/\" +Year+ \"/F1_Sales/Quotations/qotBasic.csv\"\n",
    "df = pd.read_csv(fPath, usecols=req_cols, index_col=False, encoding='unicode_escape')\n",
    "df = df.drop(df.index[0]).fillna('') #drop first row which is dummy"
   ]
  },
  {
   "cell_type": "code",
   "execution_count": 183,
   "metadata": {},
   "outputs": [],
   "source": [
    "### file doesn't recongnize date formate first convert into date and than strftime\n",
    "df['qotDat'] = pd.to_datetime(df['qotDat']).dt.strftime('%Y-%m-%d')"
   ]
  },
  {
   "cell_type": "code",
   "execution_count": 184,
   "metadata": {},
   "outputs": [],
   "source": [
    "## Remove Duplicate Quote and Deleted Record...\n",
    "df = df.drop_duplicates(subset=['qotRef'], keep='last')\n",
    "df = df.drop(df.loc[df['action']=='Delete'].index)"
   ]
  },
  {
   "cell_type": "markdown",
   "metadata": {},
   "source": [
    "<p style=\"padding:5px; border-bottom:3px solid #6d79a1; background:#e9edf7; margin:5px 0 -7px 20px;\"> \n",
    "   <span style=\"font-size:1.4em; color:#202f61;\" >Step 3 - </span>\n",
    "   <span style=\"font-size:1.4em; color:#e39607;\">Read qotStat.csv - </span> \n",
    "   <span style=\"font-size:1.2em; color:#209ebd;\">file to Load Data </span>\n",
    "</p> "
   ]
  },
  {
   "cell_type": "code",
   "execution_count": 185,
   "metadata": {},
   "outputs": [],
   "source": [
    "statPath = \"Data/\" +coFolder+ \"/\" +Year+ \"/F1_Sales/Quotations/qotStat.csv\"\n",
    "stat = pd.read_csv(statPath, index_col=False, encoding='unicode_escape')"
   ]
  },
  {
   "cell_type": "code",
   "execution_count": 186,
   "metadata": {},
   "outputs": [],
   "source": [
    "### Remove Duplicate and Deleted Record...\n",
    "stat = stat.drop_duplicates(subset=['qotRefSt'], keep='last')"
   ]
  },
  {
   "cell_type": "markdown",
   "metadata": {},
   "source": [
    "<p style=\"padding:5px; border-bottom:3px solid #6d79a1; background:#e9edf7; margin:5px 0 -7px 20px;\"> \n",
    "   <span style=\"font-size:1.4em; color:#202f61;\" >Step 4 - </span>\n",
    "   <span style=\"font-size:1.4em; color:#e39607;\">Map qotBasic.csv Open/Close with qotStat.csv\n",
    "</span> \n",
    "</p> "
   ]
  },
  {
   "cell_type": "code",
   "execution_count": 187,
   "metadata": {},
   "outputs": [],
   "source": [
    "opnClo_map = dict(zip(stat['qotRefSt'], stat['opnCloSt']))   ##map with stat\n",
    "df['opnClo'] = df['qotRef'].map(opnClo_map).fillna(df['opnClo'])"
   ]
  },
  {
   "cell_type": "markdown",
   "metadata": {},
   "source": [
    "<p style=\"padding:5px; border-bottom:3px solid #6d79a1; background:#e9edf7; margin:5px 0 -7px 20px;\"> \n",
    "   <span style=\"font-size:1.4em; color:#202f61;\" >Step 5 - </span>\n",
    "   <span style=\"font-size:1.4em; color:#e39607;\">Read soBasic.csv - </span> \n",
    "   <span style=\"font-size:1.2em; color:#209ebd;\">file to Load Data </span>\n",
    "</p> "
   ]
  },
  {
   "cell_type": "code",
   "execution_count": 188,
   "metadata": {},
   "outputs": [],
   "source": [
    "soPath = \"Data/\" +coFolder+ \"/\" +Year+ \"/F1_Sales/Orders/soBasic.csv\"\n",
    "soDf = pd.read_csv(soPath, index_col=False, encoding='unicode_escape').fillna('')"
   ]
  },
  {
   "cell_type": "code",
   "execution_count": 189,
   "metadata": {},
   "outputs": [],
   "source": [
    "### Remove Duplicate and Deleted Record...\n",
    "soDf = soDf.drop_duplicates(subset=['soRef'], keep='last')\n",
    "soDf = soDf.drop(soDf.loc[soDf['action']=='Deleted'].index).fillna('')"
   ]
  },
  {
   "cell_type": "code",
   "execution_count": 190,
   "metadata": {},
   "outputs": [],
   "source": [
    "#Select a column \"qotRef\" and convert into list to filter\n",
    "soList = soDf['qotRef'].tolist() "
   ]
  },
  {
   "cell_type": "code",
   "execution_count": 191,
   "metadata": {},
   "outputs": [],
   "source": [
    "#filter out all open sales Quote which is already converted into Sales Order\n",
    "filterData = df[~df['qotRef'].isin(soList)]"
   ]
  },
  {
   "cell_type": "markdown",
   "metadata": {},
   "source": [
    "<p style=\"padding:5px; border-bottom:3px solid #6d79a1; background:#e9edf7; margin:5px 0 -7px 20px;\"> \n",
    "   <span style=\"font-size:1.4em; color:#202f61;\" >Step 6 - </span>\n",
    "   <span style=\"font-size:1.4em; color:#e39607;\"> Convert Data into Dictionary</span> \n",
    "</p> "
   ]
  },
  {
   "cell_type": "code",
   "execution_count": 192,
   "metadata": {},
   "outputs": [],
   "source": [
    " ### Convert Data into Json Dictionary\n",
    "Data = filterData.to_dict(orient=\"records\")"
   ]
  },
  {
   "cell_type": "markdown",
   "metadata": {},
   "source": [
    "<p style=\"padding:5px 5px 5px 20px; border-bottom:3px solid orange; background:#3c5c75; margin:15px 0 -7px 20px;\"> \n",
    "   <span style=\"font-size:1.4em; color:#f7ca25;\" >Get - </span>\n",
    "   <span style=\"font-size:1.4em; color:white;\">Detail of - </span> \n",
    "   <span style=\"font-size:1.2em; color:#17cffc;\">Selected Quotation</span>\n",
    "</p> "
   ]
  },
  {
   "cell_type": "markdown",
   "metadata": {},
   "source": [
    "<p style=\"padding:5px; border-bottom:3px solid #6d79a1; background:#e9edf7; margin:5px 0 -7px 20px;\"> \n",
    "   <span style=\"font-size:1.4em; color:#202f61;\" >Step 1 - </span>\n",
    "   <span style=\"font-size:1.4em; color:#e39607;\">Get Company and Year - </span> \n",
    "   <span style=\"font-size:1.2em; color:#209ebd;\">to Load Data </span>\n",
    "</p> "
   ]
  },
  {
   "cell_type": "code",
   "execution_count": 193,
   "metadata": {},
   "outputs": [],
   "source": [
    "import pandas as pd\n",
    "import numpy as np\n",
    "dfStd = pd.read_csv('data/basInfo.csv')\n",
    "Year = str(dfStd.loc[0, 'year'])\n",
    "coFolder = str(dfStd.loc[0, 'coFolder'])"
   ]
  },
  {
   "cell_type": "markdown",
   "metadata": {},
   "source": [
    "<p style=\"padding:5px; border-bottom:3px solid #6d79a1; background:#e9edf7; margin:5px 0 -7px 20px;\"> \n",
    "   <span style=\"font-size:1.4em; color:#202f61;\" >Step 2 - </span>\n",
    "   <span style=\"font-size:1.4em; color:#e39607;\">Read qotBasic.csv - </span> \n",
    "   <span style=\"font-size:1.2em; color:#209ebd;\">file to Load Data </span>\n",
    "</p> "
   ]
  },
  {
   "cell_type": "code",
   "execution_count": 194,
   "metadata": {},
   "outputs": [],
   "source": [
    "pk = 2300273\n",
    "\n",
    "fPath = \"Data/\" +coFolder+ \"/\" +Year+ \"/F1_Sales/Quotations/qotBasic.csv\"\n",
    "dfA = pd.read_csv(fPath, index_col=False, encoding='unicode_escape')"
   ]
  },
  {
   "cell_type": "code",
   "execution_count": 195,
   "metadata": {},
   "outputs": [],
   "source": [
    "### Filter data based on 'pk' selected Quote\n",
    "dfBasic = dfA[dfA['qotRef'] == pk].fillna(0) "
   ]
  },
  {
   "cell_type": "code",
   "execution_count": 196,
   "metadata": {},
   "outputs": [],
   "source": [
    "### file doesn't recongnize date formate first convert into date and than strftime\n",
    "dfBasic['qotDat'] = pd.to_datetime(dfBasic['qotDat']).dt.strftime('%Y-%m-%d')"
   ]
  },
  {
   "cell_type": "code",
   "execution_count": 64,
   "metadata": {},
   "outputs": [],
   "source": [
    "### Remove Duplicate Quote and Deleted Record...\n",
    "dfBasic = dfBasic.drop_duplicates(subset=['qotRef'], keep='last')\n",
    "dfBasic = dfBasic.drop(dfBasic.loc[dfBasic['action']=='Delete'].index)"
   ]
  },
  {
   "cell_type": "code",
   "execution_count": 198,
   "metadata": {},
   "outputs": [],
   "source": [
    "###..Get 'Transaction Date' Value..................................\n",
    "traDate = dfBasic.loc[dfBasic['qotRef'] == pk, 'traDate'].values[0]"
   ]
  },
  {
   "cell_type": "code",
   "execution_count": 199,
   "metadata": {},
   "outputs": [],
   "source": [
    "quotBasi = dfBasic.to_dict(orient=\"records\") ### convert into dictionary"
   ]
  },
  {
   "cell_type": "markdown",
   "metadata": {},
   "source": [
    "<p style=\"padding:5px; border-bottom:3px solid #6d79a1; background:#e9edf7; margin:5px 0 -7px 20px;\"> \n",
    "   <span style=\"font-size:1.4em; color:#202f61;\" >Step 3 - </span>\n",
    "   <span style=\"font-size:1.4em; color:#e39607;\">Read qotAddi.csv - </span> \n",
    "   <span style=\"font-size:1.2em; color:#209ebd;\">file to Load Data </span>\n",
    "</p> "
   ]
  },
  {
   "cell_type": "code",
   "execution_count": 200,
   "metadata": {},
   "outputs": [],
   "source": [
    "fPath = \"Data/\" +coFolder+ \"/\" +Year+ \"/F1_Sales/Quotations/qotAddi.csv\"\n",
    "dfB = pd.read_csv(fPath, index_col=False, encoding='unicode_escape')"
   ]
  },
  {
   "cell_type": "code",
   "execution_count": 201,
   "metadata": {},
   "outputs": [],
   "source": [
    "### Filter data based on 'pk' selected Quote\n",
    "dfB = dfB[dfB['qotRef'] == pk].fillna(0)"
   ]
  },
  {
   "cell_type": "code",
   "execution_count": 202,
   "metadata": {},
   "outputs": [],
   "source": [
    "###..Filter the Record as per Transact Date .............................\n",
    "dfB = dfB[dfB['traDate'] == traDate].fillna('')"
   ]
  },
  {
   "cell_type": "code",
   "execution_count": 203,
   "metadata": {},
   "outputs": [],
   "source": [
    "###..Convert into List...................................................\n",
    "qotAddiItems = dfB.to_dict(orient=\"records\") "
   ]
  },
  {
   "cell_type": "markdown",
   "metadata": {},
   "source": [
    "<p style=\"padding:5px 5px 5px 20px; border-bottom:3px solid orange; background:#3c5c75; margin:15px 0 -7px 20px;\"> \n",
    "   <span style=\"font-size:1.4em; color:#f7ca25;\" >Add Record - </span>\n",
    "   <span style=\"font-size:1.4em; color:white;\">Add New Order - </span> \n",
    "   <span style=\"font-size:1.2em; color:#17cffc;\">in soBasic, soAddi, soStat</span>\n",
    "</p> "
   ]
  },
  {
   "cell_type": "markdown",
   "metadata": {},
   "source": [
    "<p style=\"padding:5px; border-bottom:3px solid #6d79a1; background:#e9edf7; margin:5px 0 -7px 20px;\"> \n",
    "   <span style=\"font-size:1.4em; color:#202f61;\" >Step 1 - </span>\n",
    "   <span style=\"font-size:1.4em; color:#e39607;\">Get Company and Year - </span> \n",
    "   <span style=\"font-size:1.2em; color:#209ebd;\">to Load Data </span>\n",
    "</p> "
   ]
  },
  {
   "cell_type": "code",
   "execution_count": 68,
   "metadata": {},
   "outputs": [],
   "source": [
    "import pandas as pd\n",
    "import numpy as np\n",
    "dfStd = pd.read_csv('data/basInfo.csv')\n",
    "Year = str(dfStd.loc[0, 'year'])\n",
    "coFolder = str(dfStd.loc[0, 'coFolder'])"
   ]
  },
  {
   "cell_type": "markdown",
   "metadata": {},
   "source": [
    "<p style=\"padding:5px; border-bottom:3px solid #6d79a1; background:#e9edf7; margin:5px 0 -7px 20px;\"> \n",
    "   <span style=\"font-size:1.4em; color:#202f61;\" >Step 2 - </span>\n",
    "   <span style=\"font-size:1.4em; color:#e39607;\">Save Data in </span> \n",
    "   <span style=\"font-size:1.2em; color:#209ebd;\">soBasic.csv file</span>\n",
    "</p> "
   ]
  },
  {
   "cell_type": "code",
   "execution_count": 72,
   "metadata": {},
   "outputs": [],
   "source": [
    "SoBasic={'id':99, 'soRef':99, 'soDat':'2023-05-23', 'cusCode':2450014, 'cusName':'Test Customer',\n",
    "         'soTBD':100000, 'soTAD':20000, 'soTax':4000, 'soTAT':84000, 'shipTo':'Warehouse',\n",
    "            'soComm':'General Comments', 'opnClo':\"Open\", 'spName':'Joan Dow','spCode':629,\n",
    "            'qotRef':'2300006', 'qotDat':'2023-05-2','traDate':'2023-05-22 5-04-47', 'action':\" \",\n",
    "        }\n",
    "dfBasic = pd.DataFrame(SoBasic, index=[0])\n",
    "fPath = \"Data/\" +coFolder+ \"/\" +Year+ \"/F1_Sales/Orders/soBasic.csv\"\n",
    "dfBasic.to_csv(fPath, index=False, header=False, mode='a')"
   ]
  },
  {
   "cell_type": "markdown",
   "metadata": {},
   "source": [
    "<p style=\"padding:5px; border-bottom:3px solid #6d79a1; background:#e9edf7; margin:5px 0 -7px 20px;\"> \n",
    "   <span style=\"font-size:1.4em; color:#202f61;\" >Step 3 - </span>\n",
    "   <span style=\"font-size:1.4em; color:#e39607;\">Save Data in </span> \n",
    "   <span style=\"font-size:1.2em; color:#209ebd;\">soAddi.csv file</span>\n",
    "</p> "
   ]
  },
  {
   "cell_type": "code",
   "execution_count": 73,
   "metadata": {},
   "outputs": [],
   "source": [
    "Addi  = {'id':99, 'soRef':99, 'sno':1, 'itmCod':4013150, 'desc':'Test Product',\n",
    "        'qty':10, 'price':15000, 'disc':2000, 'tot':13000, 'traDate':'2023-05-22 5-04-47',\n",
    "        'action':\" \"                            \n",
    "        }\n",
    "dfAddi = pd.DataFrame(Addi, index=[0])\n",
    "fPath = \"Data/\" +coFolder+ \"/\" +Year+ \"/F1_Sales/Orders/soAddi.csv\"\n",
    "dfAddi.to_csv(fPath, index=False, header=False, mode='a')"
   ]
  },
  {
   "cell_type": "markdown",
   "metadata": {},
   "source": [
    "<p style=\"padding:5px; border-bottom:3px solid #6d79a1; background:#e9edf7; margin:5px 0 -7px 20px;\"> \n",
    "   <span style=\"font-size:1.4em; color:#202f61;\" >Step 4 - </span>\n",
    "   <span style=\"font-size:1.4em; color:#e39607;\">Save Data in </span> \n",
    "   <span style=\"font-size:1.2em; color:#209ebd;\">qotStat.csv file</span>\n",
    "</p> "
   ]
  },
  {
   "cell_type": "code",
   "execution_count": 74,
   "metadata": {},
   "outputs": [],
   "source": [
    "QotStat =  {'qotRefSt':2300007, 'opnCloSt':\"Closed\",'traDate':'2023-05-22 5-04-47', 'action':\" \",}\n",
    "\n",
    "dfBasic = pd.DataFrame(QotStat, index=[0])\n",
    "fPath = \"Data/\" +coFolder+ \"/\" +Year+ \"/F1_Sales/Quotations/qotStat.csv\"\n",
    "dfBasic.to_csv(fPath, index=False, header=False, mode='a')"
   ]
  },
  {
   "cell_type": "markdown",
   "metadata": {},
   "source": [
    "<p style=\"padding:5px; border-bottom:3px solid #6d79a1; background:#e9edf7; margin:5px 0 -7px 20px;\"> \n",
    "   <span style=\"font-size:1.4em; color:#202f61;\" >Step 5 - </span>\n",
    "   <span style=\"font-size:1.4em; color:#e39607;\">Save Data in </span> \n",
    "   <span style=\"font-size:1.2em; color:#209ebd;\">soStat.csv file</span>\n",
    "</p> "
   ]
  },
  {
   "cell_type": "code",
   "execution_count": 75,
   "metadata": {},
   "outputs": [],
   "source": [
    "soStat =  {'soRefSt':99, 'opnCloSt':\"Open\", 'traDate':'2023-05-22 5-04-47', 'action':\" \"}\n",
    "\n",
    "SoStat = pd.DataFrame(soStat, index=[0])\n",
    "fPath = \"Data/\" +coFolder+ \"/\" +Year+ \"/F1_Sales/Orders/soStat.csv\"\n",
    "SoStat.to_csv(fPath, index=False, header=False, mode='a')"
   ]
  },
  {
   "cell_type": "markdown",
   "metadata": {},
   "source": [
    "<p style=\"font-family:Calibri; font-size:1.75em; color:white; padding:5px 5px; text-align: left; height:50px; border-bottom: 3px solid orange; margin:-7px 0px;\"></p>"
   ]
  },
  {
   "cell_type": "markdown",
   "metadata": {},
   "source": [
    "<p style=\"font-size:2.2em; padding:18px; border-bottom: 5px solid #ffb701; background:#143157;\"> \n",
    "    <span style=\"color: #fff;\"> Orders -  </span>\n",
    "    <span style=\"font-size:.75em; color: #11a1f5;\"> Show and Edit Orders </span>\n",
    "</p>"
   ]
  },
  {
   "cell_type": "markdown",
   "metadata": {},
   "source": [
    "<p style=\"padding:5px; border-bottom:3px solid #6d79a1; background:#e9edf7; margin:5px 0 -7px 20px;\"> \n",
    "   <span style=\"font-size:1.4em; color:#202f61;\" >Step 1 - </span>\n",
    "   <span style=\"font-size:1.4em; color:#e39607;\">Get Company and Year - </span> \n",
    "   <span style=\"font-size:1.2em; color:#209ebd;\">to Load Data </span>\n",
    "</p> "
   ]
  },
  {
   "cell_type": "code",
   "execution_count": 190,
   "metadata": {},
   "outputs": [],
   "source": [
    "import pandas as pd\n",
    "import numpy as np\n",
    "dfStd = pd.read_csv('data/basInfo.csv')\n",
    "Year = str(dfStd.loc[0, 'year'])\n",
    "coFolder = str(dfStd.loc[0, 'coFolder'])"
   ]
  },
  {
   "cell_type": "markdown",
   "metadata": {},
   "source": [
    "<p style=\"padding:5px; border-bottom:3px solid #6d79a1; background:#e9edf7; margin:5px 0 -7px 20px;\"> \n",
    "   <span style=\"font-size:1.4em; color:#202f61;\" >Step 2 - </span>\n",
    "   <span style=\"font-size:1.4em; color:#e39607;\">Read soBasic.csv File</span> \n",
    "</p> "
   ]
  },
  {
   "cell_type": "code",
   "execution_count": 191,
   "metadata": {},
   "outputs": [],
   "source": [
    "pk = 2300001\n",
    "fPath = \"Data/\" +coFolder+ \"/\" +Year+ \"/F1_Sales/Orders/soBasic.csv\"\n",
    "dfA = pd.read_csv(fPath, index_col=False, encoding='unicode_escape').fillna('')\n",
    "dfBasic = dfA[dfA['soRef'] == pk].fillna(0) ### Filter data as per 'pk' selected quote"
   ]
  },
  {
   "cell_type": "code",
   "execution_count": 192,
   "metadata": {},
   "outputs": [],
   "source": [
    "### file doesn't recongnize date formate first convert into date and than strftime\n",
    "dfBasic['soDat'] = pd.to_datetime(dfBasic['soDat']).dt.strftime('%Y-%m-%d')\n",
    "dfBasic['qotDat'] = pd.to_datetime(dfBasic['qotDat']).dt.strftime('%Y-%m-%d')"
   ]
  },
  {
   "cell_type": "code",
   "execution_count": 193,
   "metadata": {},
   "outputs": [],
   "source": [
    "### Remove Duplicate Quote and Deleted Record...\n",
    "dfBasic = dfBasic.drop_duplicates(subset=['soRef'], keep='last')\n",
    "dfBasic = dfBasic.drop(dfBasic.loc[dfBasic['action']=='Delete'].index)"
   ]
  },
  {
   "cell_type": "code",
   "execution_count": 194,
   "metadata": {
    "scrolled": true
   },
   "outputs": [],
   "source": [
    "### Convert Transaction Date to list to filter records in qotAddi\n",
    "List = dfBasic[\"traDate\"] #.tolist()"
   ]
  },
  {
   "cell_type": "code",
   "execution_count": 111,
   "metadata": {},
   "outputs": [],
   "source": [
    "### Convert Transaction Date to list to filter records in qotAddi\n",
    "soBasi = dfBasic.to_dict(orient=\"records\") ### convert into dictionary"
   ]
  },
  {
   "cell_type": "markdown",
   "metadata": {},
   "source": [
    "<p style=\"padding:5px; border-bottom:3px solid #6d79a1; background:#e9edf7; margin:5px 0 -7px 20px;\"> \n",
    "   <span style=\"font-size:1.4em; color:#202f61;\" >Step 3 - </span>\n",
    "   <span style=\"font-size:1.4em; color:#e39607;\">Read soAddi.csv File</span> \n",
    "</p> "
   ]
  },
  {
   "cell_type": "code",
   "execution_count": 203,
   "metadata": {},
   "outputs": [],
   "source": [
    "fPath = \"Data/\" +coFolder+ \"/\" +Year+ \"/F1_Sales/Orders/soAddi.csv\"\n",
    "dfB = pd.read_csv(fPath, index_col=False, encoding='unicode_escape').fillna('')\n",
    "dfAddi = dfB[dfB['soRef'] == pk].fillna(0) ### Filter as per 'pk' selected quote"
   ]
  },
  {
   "cell_type": "code",
   "execution_count": 204,
   "metadata": {},
   "outputs": [],
   "source": [
    "filtered_df = dfAddi[dfAddi['traDate'].isin(List)] ### Filter by transaction Date"
   ]
  },
  {
   "cell_type": "code",
   "execution_count": 205,
   "metadata": {},
   "outputs": [],
   "source": [
    "### Convert Transaction Date to list to filter records in qotAddi\n",
    "soAddiItems = filtered_df.to_dict(orient=\"records\") ### convert into dictionary"
   ]
  },
  {
   "cell_type": "markdown",
   "metadata": {},
   "source": [
    "<p style=\"font-family:Calibri; font-size:1.75em; color:white; padding:5px 5px; text-align: left; height:50px; border-bottom: 3px solid orange; margin:-7px 0px;\"></p>"
   ]
  },
  {
   "cell_type": "markdown",
   "metadata": {},
   "source": [
    "<p style=\"font-size:2.2em; padding:18px; border-bottom: 5px solid #ffb701; background:#143157;\"> \n",
    "    <span style=\"color: #fff;\"> Orders -  </span>\n",
    "    <span style=\"font-size:.75em; color: #11a1f5;\"> Delete Sales Order </span>\n",
    "</p>"
   ]
  },
  {
   "cell_type": "markdown",
   "metadata": {},
   "source": [
    "<p style=\"padding:5px; border-bottom:3px solid #6d79a1; background:#e9edf7; margin:5px 0 -7px 20px;\"> \n",
    "   <span style=\"font-size:1.4em; color:#202f61;\" >Step 1 - </span>\n",
    "   <span style=\"font-size:1.4em; color:#e39607;\">Get Company and Year - </span> \n",
    "   <span style=\"font-size:1.2em; color:#209ebd;\">to Load Data </span>\n",
    "</p> "
   ]
  },
  {
   "cell_type": "code",
   "execution_count": 58,
   "metadata": {},
   "outputs": [],
   "source": [
    "import pandas as pd\n",
    "import numpy as np\n",
    "dfStd = pd.read_csv('data/basInfo.csv')\n",
    "Year = str(dfStd.loc[0, 'year'])\n",
    "coFolder = str(dfStd.loc[0, 'coFolder'])"
   ]
  },
  {
   "cell_type": "markdown",
   "metadata": {},
   "source": [
    "<p style=\"padding:5px; border-bottom:3px solid #6d79a1; background:#e9edf7; margin:5px 0 -7px 20px;\"> \n",
    "   <span style=\"font-size:1.4em; color:#fa5f1e;\">CHECK - </span> \n",
    "   <span style=\"font-size:1.2em; color:#961bfa;\">Before Deleting Record </span>\n",
    "</p> "
   ]
  },
  {
   "cell_type": "code",
   "execution_count": 197,
   "metadata": {},
   "outputs": [],
   "source": [
    "req_cols = [\"dlRef\",\"soRef\", \"action\"]\n",
    "pk = 2300260\n",
    "fPath = \"Data/\" +coFolder+ \"/\" +Year+ \"/F1_Sales/Deliveries/dlBasic.csv\"\n",
    "dfA = pd.read_csv(fPath, usecols=req_cols, index_col=False, encoding='unicode_escape').fillna('')\n",
    "### Remove Duplicate Quote and Deleted Record...\n",
    "dfA = dfA.drop_duplicates(subset=['soRef'], keep='last')\n",
    "dfA = dfA.drop(dfA.loc[dfA['action']=='Deleted'].index)\n",
    "list = dfA['soRef'].tolist()\n",
    "if pk in list:\n",
    "    print(\"Yes, '2300001' exists\")"
   ]
  },
  {
   "cell_type": "markdown",
   "metadata": {},
   "source": [
    "<p style=\"padding:5px; border-bottom:3px solid #6d79a1; background:#e9edf7; margin:5px 0 -7px 20px;\"> \n",
    "   <span style=\"font-size:1.4em; color:#202f61;\" >Step 2 - </span>\n",
    "   <span style=\"font-size:1.4em; color:#e39607;\">Read soBasic.csv File</span> \n",
    "</p> "
   ]
  },
  {
   "cell_type": "code",
   "execution_count": 59,
   "metadata": {},
   "outputs": [],
   "source": [
    "pk = 2300001\n",
    "fPath = \"Data/\" +coFolder+ \"/\" +Year+ \"/F1_Sales/Orders/soBasic.csv\"\n",
    "dfA = pd.read_csv(fPath, index_col=False, encoding='unicode_escape').fillna('')\n",
    "dfBasic = dfA[dfA['soRef'] == pk].fillna(0) ### Filter data as per 'pk' selected quote"
   ]
  },
  {
   "cell_type": "code",
   "execution_count": 60,
   "metadata": {},
   "outputs": [],
   "source": [
    "### Remove Duplicate Quote and Deleted Record...\n",
    "dfBasic = dfBasic.drop_duplicates(subset=['soRef'], keep='last')\n",
    "dfBasic = dfBasic.drop(dfBasic.loc[dfBasic['action']=='Deleted'].index)"
   ]
  },
  {
   "cell_type": "code",
   "execution_count": 61,
   "metadata": {},
   "outputs": [],
   "source": [
    "dfBasic['action'] = 'Deleted' ### in 'action' column add the word 'Deleted'"
   ]
  },
  {
   "cell_type": "code",
   "execution_count": 62,
   "metadata": {},
   "outputs": [],
   "source": [
    "### Save the record(dataframe) in csv file\n",
    "fPath = fPath = \"Data/\" +coFolder+ \"/\" +Year+ \"/F1_Sales/Orders/soBasic.csv\"\n",
    "dfBasic.to_csv(fPath, index=False, header=False, mode='a')"
   ]
  },
  {
   "cell_type": "markdown",
   "metadata": {},
   "source": [
    "<p style=\"padding:5px; border-bottom:3px solid #6d79a1; background:#e9edf7; margin:5px 0 -7px 20px;\"> \n",
    "   <span style=\"font-size:1.4em; color:#202f61;\" >Step 3 - </span>\n",
    "   <span style=\"font-size:1.4em; color:#e39607;\">Read soStat.csv File</span> \n",
    "</p> "
   ]
  },
  {
   "cell_type": "code",
   "execution_count": 63,
   "metadata": {},
   "outputs": [],
   "source": [
    "fPath = \"Data/\" +coFolder+ \"/\" +Year+ \"/F1_Sales/Orders/soStat.csv\"\n",
    "dfA = pd.read_csv(fPath, index_col=False, encoding='unicode_escape').fillna('')\n",
    "dfStat = dfA[dfA['soRefSt'] == pk].fillna(0) ### Filter data as per 'pk' selected quote"
   ]
  },
  {
   "cell_type": "code",
   "execution_count": 64,
   "metadata": {},
   "outputs": [],
   "source": [
    "### Remove Duplicate Quote and Deleted Record...\n",
    "dfStat = dfStat.drop_duplicates(subset=['soRefSt'], keep='last')\n",
    "dfStat = dfStat.drop(dfStat.loc[dfStat['action']=='Deleted'].index)"
   ]
  },
  {
   "cell_type": "code",
   "execution_count": 66,
   "metadata": {},
   "outputs": [],
   "source": [
    "dfStat['action'] = 'Deleted' ### in 'action' column add the word 'Deleted'"
   ]
  },
  {
   "cell_type": "code",
   "execution_count": 67,
   "metadata": {},
   "outputs": [],
   "source": [
    "### Save the record(dataframe) in csv file\n",
    "fPath = fPath = \"Data/\" +coFolder+ \"/\" +Year+ \"/F1_Sales/Orders/soStat.csv\"\n",
    "dfStat.to_csv(fPath, index=False, header=False, mode='a')"
   ]
  },
  {
   "cell_type": "markdown",
   "metadata": {},
   "source": [
    "<p style=\"padding:5px; border-bottom:3px solid #6d79a1; background:#e9edf7; margin:5px 0 -7px 20px;\"> \n",
    "   <span style=\"font-size:1.4em; color:#202f61;\" >Step 4 - </span>\n",
    "   <span style=\"font-size:1.4em; color:#e39607;\">Read qotStat.csv File</span> \n",
    "</p> "
   ]
  },
  {
   "cell_type": "code",
   "execution_count": 73,
   "metadata": {},
   "outputs": [],
   "source": [
    "Qot= 2300003\n",
    "fPath = \"Data/\" +coFolder+ \"/\" +Year+ \"/F1_Sales/Quotations/qotStat.csv\"\n",
    "dfA = pd.read_csv(fPath, index_col=False, encoding='unicode_escape').fillna('')\n",
    "dfStat = dfA[dfA['qotRefSt'] == Qot].fillna(0) ### Filter data as per 'pk' selected quote"
   ]
  },
  {
   "cell_type": "code",
   "execution_count": 74,
   "metadata": {},
   "outputs": [],
   "source": [
    "### Remove Duplicate Quote and Deleted Record...\n",
    "dfStat = dfStat.drop_duplicates(subset=['qotRefSt'], keep='last')\n",
    "dfStat = dfStat.drop(dfStat.loc[dfStat['action']=='Deleted'].index)"
   ]
  },
  {
   "cell_type": "code",
   "execution_count": 71,
   "metadata": {},
   "outputs": [],
   "source": [
    "dfStat['opnCloSt'] = 'Open' ### in 'action' column add the word 'Deleted'"
   ]
  },
  {
   "cell_type": "code",
   "execution_count": 72,
   "metadata": {},
   "outputs": [],
   "source": [
    "### Save the record(dataframe) in csv file\n",
    "fPath = fPath = \"Data/\" +coFolder+ \"/\" +Year+ \"/F1_Sales/Quotations/qotStat.csv\"\n",
    "dfStat.to_csv(fPath, index=False, header=False, mode='a')"
   ]
  },
  {
   "cell_type": "markdown",
   "metadata": {},
   "source": [
    "<p style=\"font-family:Calibri; font-size:1.75em; color:white; padding:5px 5px; text-align: left; height:50px; border-bottom: 3px solid orange; margin:-7px 0px;\"></p>"
   ]
  },
  {
   "cell_type": "markdown",
   "metadata": {},
   "source": [
    "<p style=\"font-size:2.2em; padding:18px; border-bottom: 5px solid #ffb701; background:#143157;\"> \n",
    "    <span style=\"color: #fff;\"> Orders -  </span>\n",
    "    <span style=\"font-size:.75em; color: #11a1f5;\"> Download Orders as PDF</span>\n",
    "</p>"
   ]
  },
  {
   "cell_type": "markdown",
   "metadata": {},
   "source": [
    "<p style=\"padding:5px; border-bottom:3px solid #6d79a1; background:#e9edf7; margin:5px 0 -7px 20px;\"> \n",
    "   <span style=\"font-size:1.4em; color:#202f61;\" >Step 1 - </span>\n",
    "   <span style=\"font-size:1.4em; color:#e39607;\">Get Company and Year - </span> \n",
    "   <span style=\"font-size:1.2em; color:#209ebd;\">to Load Data </span>\n",
    "</p> "
   ]
  },
  {
   "cell_type": "code",
   "execution_count": 48,
   "metadata": {},
   "outputs": [],
   "source": [
    "import pandas as pd\n",
    "import numpy as np\n",
    "dfStd = pd.read_csv('data/basInfo.csv')\n",
    "Year = str(dfStd.loc[0, 'year'])\n",
    "coFolder = str(dfStd.loc[0, 'coFolder'])"
   ]
  },
  {
   "cell_type": "markdown",
   "metadata": {},
   "source": [
    "<p style=\"padding:5px; border-bottom:3px solid #6d79a1; background:#e9edf7; margin:5px 0 -7px 20px;\"> \n",
    "   <span style=\"font-size:1.4em; color:#202f61;\" >Step 2 - </span>\n",
    "   <span style=\"font-size:1.4em; color:#e39607;\">Read soBasic.csv File - </span> \n",
    "   <span style=\"font-size:1.2em; color:#209ebd;\">to Load Data </span>\n",
    "</p> "
   ]
  },
  {
   "cell_type": "code",
   "execution_count": 49,
   "metadata": {},
   "outputs": [],
   "source": [
    "pk = 2300001\n",
    "\n",
    "###----Read Order Basic File--------------------------------------------\n",
    "fPath = \"Data/\" +coFolder+ \"/\" +Year+ \"/F1_Sales/Orders/soBasic.csv\"\n",
    "dfA = pd.read_csv(fPath, index_col=False, encoding='unicode_escape')\n",
    "dfBasic = dfA[dfA['soRef'] == pk].fillna(0) ### Filter"
   ]
  },
  {
   "cell_type": "code",
   "execution_count": 51,
   "metadata": {},
   "outputs": [],
   "source": [
    "### Remove Duplicate Order and Deleted Record...\n",
    "dfBasic = dfBasic.drop_duplicates(subset=['soRef'], keep='last')\n",
    "dfBasic = dfBasic.drop(dfBasic.loc[dfBasic['action']=='Delete'].index)"
   ]
  },
  {
   "cell_type": "code",
   "execution_count": 52,
   "metadata": {
    "scrolled": true
   },
   "outputs": [],
   "source": [
    "### Convert Transaction Date to list to filter records in soAddi\n",
    "List = dfBasic[\"traDate\"] #.tolist()"
   ]
  },
  {
   "cell_type": "code",
   "execution_count": 54,
   "metadata": {},
   "outputs": [],
   "source": [
    "soBasi = dfBasic.to_dict(orient=\"records\") ### convert into dictionary"
   ]
  },
  {
   "cell_type": "markdown",
   "metadata": {},
   "source": [
    "<p style=\"padding:5px; border-bottom:3px solid #6d79a1; background:#e9edf7; margin:5px 0 -7px 20px;\"> \n",
    "   <span style=\"font-size:1.4em; color:#202f61;\" >Step 3 - </span>\n",
    "   <span style=\"font-size:1.4em; color:#e39607;\">Read soAddi.csv File - </span> \n",
    "   <span style=\"font-size:1.2em; color:#209ebd;\">to get Orders Detail </span>\n",
    "</p> "
   ]
  },
  {
   "cell_type": "code",
   "execution_count": 56,
   "metadata": {},
   "outputs": [],
   "source": [
    "fPath = \"Data/\" +coFolder+ \"/\" +Year+ \"/F1_Sales/Orders/soAddi.csv\"\n",
    "dfB = pd.read_csv(fPath, index_col=False, encoding='unicode_escape')\n",
    "dfAddi = dfB[dfB['soRef'] == pk].fillna(0) ### Filter Record as per 'pk' selected Order"
   ]
  },
  {
   "cell_type": "code",
   "execution_count": 57,
   "metadata": {},
   "outputs": [],
   "source": [
    "### Filtere the 'Order' by Order \"Target List\"\n",
    "filtered_df = dfAddi[dfAddi['traDate'].isin(List)]\n",
    "soAddiItems = filtered_df.to_dict(orient=\"records\") ### convert into dictionary"
   ]
  },
  {
   "cell_type": "markdown",
   "metadata": {},
   "source": [
    "<p style=\"font-family:Calibri; font-size:1.75em; color:white; padding:5px 5px; text-align: left; height:50px; border-bottom: 3px solid orange; margin:-7px 0px;\"></p>"
   ]
  },
  {
   "cell_type": "markdown",
   "metadata": {},
   "source": [
    "<p style=\"font-size:2.2em; padding:10px; border-bottom: 5px solid #ffb701; background:#492863;\n",
    "          text-align:center\"> \n",
    "    <span style=\"color: #debef7;\"> Sales Quotation  </span> <br>\n",
    "</p>\n"
   ]
  },
  {
   "cell_type": "markdown",
   "metadata": {},
   "source": [
    "<p style=\"font-size:2em; padding:18px; border-bottom: 5px solid #ffb701; background:#143157;\"> \n",
    "    <span style=\"color: #fff;\"> Create Sub-Folder -  </span>\n",
    "    <span style=\"font-size:.75em; color: #11a1f5;\"> \"Quotations\" </span>\n",
    "</p>"
   ]
  },
  {
   "cell_type": "code",
   "execution_count": 17,
   "metadata": {},
   "outputs": [],
   "source": [
    "subFolder = \"Data/\" +coFolder+ \"/\" +Year+ \"/F1_Sales/Quotations\"\n",
    "os.makedirs(subFolder, mode=0o777, exist_ok=True)"
   ]
  },
  {
   "cell_type": "markdown",
   "metadata": {},
   "source": [
    "<p style=\"font-family:Calibri; font-size:1.2em; color:#061233; padding:2px 5px; margin: 5px 0 -7px 20px; border-bottom: 3px solid #0d1e4f; background: #f0f4ff\">  \n",
    "   <span style=\"font-size:1.2em; color:#384073;\" >1a. Create</span>\n",
    "   <span style=\"font-size:1.2em; color:#821107;\" >qotBasic.CSV</span>\n",
    "   <span style=\"font-size:1.2em; color:#384073;\" >file</span>\n",
    "</p>"
   ]
  },
  {
   "cell_type": "code",
   "execution_count": 18,
   "metadata": {},
   "outputs": [],
   "source": [
    "file_path = \"Data/\" +coFolder+ \"/\" +Year+ \"/F1_Sales/Quotations/qotBasic.csv\"\n",
    "\n",
    "if not os.path.exists(file_path):\n",
    "    headers = ['id','qotRef','qotDat','cusCode','cusName','qotTBD', 'qotTAD', 'qotTax', 'qotTAT',\n",
    "                   'shipTo','qotComm','spCode','spName','opnClo', 'traDate', 'action']\n",
    "    new_record = {'id': str(Year[2:])+\"00000\", 'qotRef': str(Year[2:])+\"00000\"}\n",
    "    \n",
    "    with open(file_path, 'w', newline='') as csv_file:  #create fresh file each time\n",
    "        writer = csv.writer(csv_file); \n",
    "        writer.writerow(headers)\n",
    "        writer.writerow(new_record.values())"
   ]
  },
  {
   "cell_type": "markdown",
   "metadata": {},
   "source": [
    "<p style=\"font-family:Calibri; font-size:1.2em; color:#061233; padding:2px 5px; margin: 5px 0 -7px 20px; border-bottom: 3px solid #0d1e4f; background: #f0f4ff\">  \n",
    "   <span style=\"font-size:1.2em; color:#384073;\" >1b. Create</span>\n",
    "   <span style=\"font-size:1.2em; color:#821107;\" >qotAddi.CSV</span>\n",
    "   <span style=\"font-size:1.2em; color:#384073;\" >file</span>\n",
    "</p>"
   ]
  },
  {
   "cell_type": "code",
   "execution_count": 19,
   "metadata": {},
   "outputs": [],
   "source": [
    "file_path = \"Data/\" +coFolder+ \"/\" +Year+ \"/F1_Sales/Quotations/qotAddi.csv\"\n",
    "\n",
    "if not os.path.exists(file_path):\n",
    "    headers = ['id','qotRef','sno','itmCod','desc','qty', 'price', 'disc', 'tot','vat', 'traDate', 'action']\n",
    "\n",
    "    with open(file_path, 'w', newline='') as csv_file:  #create fresh file each time\n",
    "        writer = csv.writer(csv_file); \n",
    "        writer.writerow(headers)"
   ]
  },
  {
   "cell_type": "markdown",
   "metadata": {},
   "source": [
    "<p style=\"font-family:Calibri; font-size:1.2em; color:#061233; padding:2px 5px; margin: 5px 0 -7px 20px; border-bottom: 3px solid #0d1e4f; background: #f0f4ff\">  \n",
    "   <span style=\"font-size:1.2em; color:#384073;\" >1b. Create</span>\n",
    "   <span style=\"font-size:1.2em; color:#821107;\" >qotStat.CSV</span>\n",
    "   <span style=\"font-size:1.2em; color:#384073;\" >file</span>\n",
    "</p>"
   ]
  },
  {
   "cell_type": "code",
   "execution_count": 108,
   "metadata": {},
   "outputs": [],
   "source": [
    "file_path = \"Data/\" +coFolder+ \"/\" +Year+ \"/F1_Sales/Quotations/qotStat.csv\"\n",
    "\n",
    "if not os.path.exists(file_path):\n",
    "    headers = ['qotRefSt','opnCloSt','traDate', 'action']\n",
    "\n",
    "    with open(file_path, 'w', newline='') as csv_file:  #create fresh file each time\n",
    "        writer = csv.writer(csv_file); \n",
    "        writer.writerow(headers)"
   ]
  },
  {
   "cell_type": "markdown",
   "metadata": {},
   "source": [
    "<p style=\"font-family:Calibri; font-size:1.75em; color:white; padding:5px 5px; text-align: left; height:50px; border-bottom: 3px solid orange; margin:-7px 0px;\"></p>"
   ]
  },
  {
   "cell_type": "markdown",
   "metadata": {},
   "source": [
    "<p style=\"font-size:2.2em; padding:18px; border-bottom: 5px solid #ffb701; background:#143157;\"> \n",
    "    <span style=\"color: #fff;\"> Quotations -  </span>\n",
    "    <span style=\"font-size:.75em; color: #11a1f5;\"> Show All Transactions </span>\n",
    "</p>"
   ]
  },
  {
   "cell_type": "markdown",
   "metadata": {},
   "source": [
    "<p style=\"padding:5px; border-bottom:3px solid #6d79a1; background:#e9edf7; margin:5px 0 -7px 20px;\"> \n",
    "   <span style=\"font-size:1.4em; color:#202f61;\" >Step 1 - </span>\n",
    "   <span style=\"font-size:1.4em; color:#e39607;\">Get Company and Year - </span> \n",
    "   <span style=\"font-size:1.2em; color:#209ebd;\">to Load Data </span>\n",
    "</p> "
   ]
  },
  {
   "cell_type": "code",
   "execution_count": 161,
   "metadata": {},
   "outputs": [],
   "source": [
    "import pandas as pd\n",
    "import numpy as np\n",
    "dfStd = pd.read_csv('data/basInfo.csv')\n",
    "Year = str(dfStd.loc[0, 'year'])\n",
    "coFolder = str(dfStd.loc[0, 'coFolder'])"
   ]
  },
  {
   "cell_type": "markdown",
   "metadata": {},
   "source": [
    "<p style=\"padding:5px; border-bottom:3px solid #6d79a1; background:#e9edf7; margin:5px 0 -7px 20px;\"> \n",
    "   <span style=\"font-size:1.4em; color:#202f61;\" >Step 2 - </span>\n",
    "   <span style=\"font-size:1.4em; color:#e39607;\">Read qotBasic.csv File</span> \n",
    "</p> "
   ]
  },
  {
   "cell_type": "code",
   "execution_count": 162,
   "metadata": {},
   "outputs": [],
   "source": [
    "req_cols = ['id','qotRef','qotDat','cusName', 'qotTax', 'qotTAT','spName','opnClo','action']\n",
    "fPath = \"Data/\" +coFolder+ \"/\" +Year+ \"/F1_Sales/Quotations/qotBasic.csv\"\n",
    "df = pd.read_csv(fPath, usecols=req_cols, index_col=False, encoding='unicode_escape')"
   ]
  },
  {
   "cell_type": "code",
   "execution_count": null,
   "metadata": {},
   "outputs": [],
   "source": [
    "### drop first row which is empty...\n",
    "df = df.drop(df.index[0])"
   ]
  },
  {
   "cell_type": "code",
   "execution_count": 163,
   "metadata": {},
   "outputs": [],
   "source": [
    "### file doesn't recongnize date formate first convert into date and than strftime...\n",
    "df['qotDat'] = pd.to_datetime(df['qotDat']).dt.strftime('%Y-%m-%d')"
   ]
  },
  {
   "cell_type": "code",
   "execution_count": 164,
   "metadata": {},
   "outputs": [],
   "source": [
    "### Remove Duplicate Quote and Deleted Record...\n",
    "df = df.drop_duplicates(subset=t=['qotRef'], keep='last')\n",
    "df = df.drop(df.loc[df['action']=='Delete'].index).fillna('')"
   ]
  },
  {
   "cell_type": "markdown",
   "metadata": {},
   "source": [
    "<p style=\"padding:5px; border-bottom:3px solid #6d79a1; background:#e9edf7; margin:5px 0 -7px 20px;\"> \n",
    "   <span style=\"font-size:1.4em; color:#202f61;\" >Step 3 - </span>\n",
    "   <span style=\"font-size:1.4em; color:#e39607;\">Read qotStat.csv File</span> \n",
    "</p> "
   ]
  },
  {
   "cell_type": "code",
   "execution_count": null,
   "metadata": {},
   "outputs": [],
   "source": [
    "statPath = \"Data/\" +coFolder+ \"/\" +Year+ \"/F1_Sales/Quotations/qotStat.csv\"\n",
    "stat = pd.read_csv(statPath, index_col=False, encoding='unicode_escape')"
   ]
  },
  {
   "cell_type": "code",
   "execution_count": 165,
   "metadata": {},
   "outputs": [],
   "source": [
    "### Remove Duplicate and Deleted Record...\n",
    "stat = stat.drop_duplicates(subset=['qotRefSt'], keep='last')"
   ]
  },
  {
   "cell_type": "markdown",
   "metadata": {},
   "source": [
    "<p style=\"padding:5px; border-bottom:3px solid #6d79a1; background:#e9edf7; margin:5px 0 -7px 20px;\"> \n",
    "   <span style=\"font-size:1.4em; color:#202f61;\" >Step 4 - </span>\n",
    "   <span style=\"font-size:1.4em; color:#e39607;\">Map qotBasic.csv Open/Close with qotStat.csv</span> \n",
    "</p> "
   ]
  },
  {
   "cell_type": "code",
   "execution_count": 167,
   "metadata": {},
   "outputs": [],
   "source": [
    "opnClo_map = dict(zip(stat['qotRefSt'], stat['opnCloSt']))\n",
    "df['opnClo'] = df['qotRef'].map(opnClo_map).fillna(df['opnClo'])"
   ]
  },
  {
   "cell_type": "markdown",
   "metadata": {},
   "source": [
    "<p style=\"padding:5px; border-bottom:3px solid #6d79a1; background:#e9edf7; margin:5px 0 -7px 20px;\"> \n",
    "   <span style=\"font-size:1.4em; color:#202f61;\" >Step 5 - </span>\n",
    "   <span style=\"font-size:1.4em; color:#e39607;\">Convert Data into Dictionary</span> \n",
    "</p> "
   ]
  },
  {
   "cell_type": "code",
   "execution_count": 160,
   "metadata": {},
   "outputs": [],
   "source": [
    "Data = df.to_dict(orient=\"records\")"
   ]
  },
  {
   "cell_type": "markdown",
   "metadata": {},
   "source": [
    "<p style=\"font-family:Calibri; font-size:1.75em; color:white; padding:5px 5px; text-align: left; height:50px; border-bottom: 3px solid orange; margin:-7px 0px;\"></p>"
   ]
  },
  {
   "cell_type": "markdown",
   "metadata": {},
   "source": [
    "<p style=\"font-size:2.2em; padding:18px; border-bottom: 5px solid #ffb701; background:#143157;\"> \n",
    "    <span style=\"color: #fff;\"> Quotations -  </span>\n",
    "    <span style=\"font-size:.75em; color: #11a1f5;\"> Synchronize / Refresh Data</span>\n",
    "</p>"
   ]
  },
  {
   "cell_type": "markdown",
   "metadata": {},
   "source": [
    "<p style=\"padding:5px; border-bottom:3px solid #6d79a1; background:#e9edf7; margin:5px 0 -7px 20px;\"> \n",
    "   <span style=\"font-size:1.4em; color:#202f61;\" >Step 1 - </span>\n",
    "   <span style=\"font-size:1.4em; color:#e39607;\">Get Company and Year - </span> \n",
    "   <span style=\"font-size:1.2em; color:#209ebd;\">to Load Data </span>\n",
    "</p> "
   ]
  },
  {
   "cell_type": "code",
   "execution_count": 123,
   "metadata": {},
   "outputs": [],
   "source": [
    "import pandas as pd\n",
    "import numpy as np\n",
    "dfStd = pd.read_csv('data/basInfo.csv')\n",
    "Year = str(dfStd.loc[0, 'year'])\n",
    "coFolder = str(dfStd.loc[0, 'coFolder'])"
   ]
  },
  {
   "cell_type": "markdown",
   "metadata": {},
   "source": [
    "<p style=\"padding:5px; border-bottom:3px solid #6d79a1; background:#e9edf7; margin:5px 0 -7px 20px;\"> \n",
    "   <span style=\"font-size:1.4em; color:#202f61;\" >Step 2 - </span>\n",
    "   <span style=\"font-size:1.4em; color:#e39607;\">Read qotBasic.csv File - </span> \n",
    "   <span style=\"font-size:1.2em; color:#209ebd;\">to Load Data </span>\n",
    "</p> "
   ]
  },
  {
   "cell_type": "code",
   "execution_count": 124,
   "metadata": {},
   "outputs": [],
   "source": [
    "fPath = \"Data/\" +coFolder+ \"/\" +Year+ \"/F1_Sales/Quotations/qotBasic.csv\"\n",
    "dfA = pd.read_csv(fPath, index_col=False, encoding='unicode_escape').fillna('')"
   ]
  },
  {
   "cell_type": "code",
   "execution_count": 125,
   "metadata": {},
   "outputs": [],
   "source": [
    "### Remove Duplicate Quote and Deleted Record...\n",
    "dfBasic = dfA.drop_duplicates(subset=['qotRef'], keep='last')\n",
    "dfBasic = dfBasic.drop(dfBasic.loc[dfBasic['action']=='Deleted'].index)"
   ]
  },
  {
   "cell_type": "code",
   "execution_count": 126,
   "metadata": {},
   "outputs": [],
   "source": [
    "dfBasic = dfBasic.sort_values('qotRef') #sor by qotRef"
   ]
  },
  {
   "cell_type": "code",
   "execution_count": 127,
   "metadata": {},
   "outputs": [],
   "source": [
    "### Save the data in qotBasic.csv File...\n",
    "fPath = \"Data/\" +coFolder+ \"/\" +Year+ \"/F1_Sales/Quotations/qotBasic.csv\"\n",
    "dfBasic.to_csv(fPath, index=False)"
   ]
  },
  {
   "cell_type": "code",
   "execution_count": 129,
   "metadata": {},
   "outputs": [],
   "source": [
    "dfBasic['unique'] = dfBasic['qotRef'].astype(str)+\" \"+dfBasic['traDate']"
   ]
  },
  {
   "cell_type": "markdown",
   "metadata": {},
   "source": [
    "<p style=\"padding:5px; border-bottom:3px solid #6d79a1; background:#e9edf7; margin:5px 0 -7px 20px;\"> \n",
    "   <span style=\"font-size:1.4em; color:#202f61;\" >Step 3 - </span>\n",
    "   <span style=\"font-size:1.4em; color:#e39607;\">Read qotAddi.csv File - </span> \n",
    "   <span style=\"font-size:1.2em; color:#209ebd;\">to Load Data </span>\n",
    "</p> "
   ]
  },
  {
   "cell_type": "code",
   "execution_count": 130,
   "metadata": {},
   "outputs": [],
   "source": [
    "###---- Read Quotation Additional CSV File --------------------------\n",
    "fPath = \"Data/\" +coFolder+ \"/\" +Year+ \"/F1_Sales/Quotations/qotAddi.csv\"\n",
    "dfB = pd.read_csv(fPath, index_col=False, encoding='unicode_escape').fillna('')"
   ]
  },
  {
   "cell_type": "code",
   "execution_count": 131,
   "metadata": {},
   "outputs": [],
   "source": [
    "dfB[\"unique\"] = dfB['qotRef'].astype(str)+\" \"+dfB['traDate']"
   ]
  },
  {
   "cell_type": "code",
   "execution_count": 132,
   "metadata": {},
   "outputs": [],
   "source": [
    "###---- Merge to filter out those data which Transaction Date is not matching with qotBasic\n",
    "merged_df = pd.merge(dfB, dfBasic['unique'], on='unique', how='inner')\n",
    "merged_df = merged_df[['id','qotRef','sno','itmCod','desc','qty','price','disc','tot','vat','traDate','action']]"
   ]
  },
  {
   "cell_type": "code",
   "execution_count": 134,
   "metadata": {},
   "outputs": [],
   "source": [
    "### Save the data in qotAddi.csv File...\n",
    "fPath = \"Data/\" +coFolder+ \"/\" +Year+ \"/F1_Sales/Quotations/qotAddi.csv\"\n",
    "merged_df.to_csv(fPath, index=False)"
   ]
  },
  {
   "cell_type": "markdown",
   "metadata": {},
   "source": [
    "<p style=\"padding:5px; border-bottom:3px solid #6d79a1; background:#e9edf7; margin:5px 0 -7px 20px;\"> \n",
    "   <span style=\"font-size:1.4em; color:#202f61;\" >Step 4 - </span>\n",
    "   <span style=\"font-size:1.4em; color:#e39607;\">Read qotStat.csv File - </span> \n",
    "   <span style=\"font-size:1.2em; color:#209ebd;\">to Load Data </span>\n",
    "</p> "
   ]
  },
  {
   "cell_type": "code",
   "execution_count": 34,
   "metadata": {},
   "outputs": [],
   "source": [
    "statPath = \"Data/\" +coFolder+ \"/\" +Year+ \"/F1_Sales/Quotations/qotStat.csv\"\n",
    "stat = pd.read_csv(statPath, index_col=False, encoding='unicode_escape').fillna('')"
   ]
  },
  {
   "cell_type": "code",
   "execution_count": 36,
   "metadata": {},
   "outputs": [],
   "source": [
    "### Remove Duplicate Quote and Deleted Record...\n",
    "stat = stat.drop_duplicates(subset=['qotRefSt'], keep='last')\n",
    "stat = stat.drop(stat.loc[stat['action']=='Deleted'].index)"
   ]
  },
  {
   "cell_type": "code",
   "execution_count": null,
   "metadata": {},
   "outputs": [],
   "source": [
    "### Save the data in qotStat.csv File...\n",
    "statPath =  \"Data/\" +coFolder+ \"/\" +Year+ \"/F1_Sales/Quotations/qotStat.csv\"\n",
    "stat.to_csv(statPath, index=False)"
   ]
  },
  {
   "cell_type": "markdown",
   "metadata": {},
   "source": [
    "<p style=\"font-family:Calibri; font-size:1.75em; color:white; padding:5px 5px; text-align: left; height:50px; border-bottom: 3px solid orange; margin:-7px 0px;\"></p>"
   ]
  },
  {
   "cell_type": "markdown",
   "metadata": {},
   "source": [
    "<p style=\"font-size:2.2em; padding:18px; border-bottom: 5px solid #ffb701; background:#143157;\"> \n",
    "    <span style=\"color: #fff;\"> Quotations -  </span>\n",
    "    <span style=\"font-size:.75em; color: #11a1f5;\"> Add Record </span>\n",
    "</p>"
   ]
  },
  {
   "cell_type": "markdown",
   "metadata": {},
   "source": [
    "<p style=\"padding:5px; border-bottom:3px solid #6d79a1; background:#e9edf7; margin:5px 0 -7px 20px;\"> \n",
    "   <span style=\"font-size:1.4em; color:#202f61;\" >Step 1 - </span>\n",
    "   <span style=\"font-size:1.4em; color:#e39607;\">Get Company and Year - </span> \n",
    "   <span style=\"font-size:1.2em; color:#209ebd;\">to Load Data </span>\n",
    "</p> "
   ]
  },
  {
   "cell_type": "code",
   "execution_count": 269,
   "metadata": {},
   "outputs": [],
   "source": [
    "import pandas as pd\n",
    "import numpy as np\n",
    "dfStd = pd.read_csv('data/basInfo.csv')\n",
    "Year = str(dfStd.loc[0, 'year'])\n",
    "coFolder = str(dfStd.loc[0, 'coFolder'])"
   ]
  },
  {
   "cell_type": "markdown",
   "metadata": {},
   "source": [
    "<p style=\"padding:5px; border-bottom:3px solid #6d79a1; background:#e9edf7; margin:5px 0 -7px 20px;\"> \n",
    "   <span style=\"font-size:1.4em; color:#202f61;\" >Step 2 - </span>\n",
    "   <span style=\"font-size:1.4em; color:#e39607;\">Read qotBasic.csv - </span>\n",
    "    <span style=\"font-size:1.2em; color:#209ebd;\">to Get the last Quotation Number </span>\n",
    "</p> "
   ]
  },
  {
   "cell_type": "code",
   "execution_count": 270,
   "metadata": {},
   "outputs": [],
   "source": [
    "try: \n",
    "    req_cols = ['qotRef', 'qotDat']\n",
    "    fPath = \"Data/\" +coFolder+ \"/\" +Year+ \"/F1_Sales/Quotations/qotBasic.csv\"\n",
    "    df = pd.read_csv(fPath, usecols=req_cols, index_col=False, encoding='unicode_escape')\n",
    "except:\n",
    "    data = {'qotRef': [0]}\n",
    "    df = pd.DataFrame(data)"
   ]
  },
  {
   "cell_type": "code",
   "execution_count": null,
   "metadata": {},
   "outputs": [],
   "source": [
    "### Get the last Quotation Number and make it 5 digit and add year...\n",
    "lastQuot = df['qotRef'].max()"
   ]
  },
  {
   "cell_type": "markdown",
   "metadata": {},
   "source": [
    "<p style=\"padding:5px 5px 5px 20px; border-bottom:3px solid orange; background:#3c5c75; margin:15px 0 -7px 20px;\"> \n",
    "   <span style=\"font-size:1.4em; color:#f7ca25;\" >Add Record - </span>\n",
    "   <span style=\"font-size:1.4em; color:white;\">Add New Quote - </span> \n",
    "   <span style=\"font-size:1.2em; color:#17cffc;\">in qotBasic, qotAddi, qotStat </span>\n",
    "</p> "
   ]
  },
  {
   "cell_type": "markdown",
   "metadata": {},
   "source": [
    "<p style=\"padding:5px; border-bottom:3px solid #6d79a1; background:#e9edf7; margin:5px 0 -7px 20px;\"> \n",
    "   <span style=\"font-size:1.4em; color:#202f61;\" >Step 1 - </span>\n",
    "   <span style=\"font-size:1.4em; color:#e39607;\">Get Company and Year - </span> \n",
    "   <span style=\"font-size:1.2em; color:#209ebd;\">to Load Data </span>\n",
    "</p> "
   ]
  },
  {
   "cell_type": "code",
   "execution_count": 135,
   "metadata": {},
   "outputs": [],
   "source": [
    "import pandas as pd\n",
    "import numpy as np\n",
    "dfStd = pd.read_csv('data/basInfo.csv')\n",
    "Year = str(dfStd.loc[0, 'year'])\n",
    "coFolder = str(dfStd.loc[0, 'coFolder'])"
   ]
  },
  {
   "cell_type": "markdown",
   "metadata": {},
   "source": [
    "<p style=\"padding:5px; border-bottom:3px solid #6d79a1; background:#e9edf7; margin:5px 0 -7px 20px;\"> \n",
    "   <span style=\"font-size:1.4em; color:#202f61;\" >Step 2 - </span>\n",
    "   <span style=\"font-size:1.4em; color:#e39607;\">Save Data in qotBasic.csv file</span> \n",
    "</p> "
   ]
  },
  {
   "cell_type": "code",
   "execution_count": 136,
   "metadata": {},
   "outputs": [],
   "source": [
    "#basData = request.data[0]\n",
    "basicData = {'ID':9999, 'qotRef':9999, 'qotDat':'2023-05-22', 'cusCode':2300049,\n",
    "             'cusName':'Test Customer', 'qotTBD':100000, 'qotTAD':20000, 'qotTax':4000,\n",
    "             'qotTAT':84000, 'shipTo':'WareHouse 123', 'qotComm':'Initiall Quotation to Client',\n",
    "             'spCode':901, 'spCName':'Jone Dow', 'opeClo':'Open', 'traDate':'2023-05-22 5-04-47',\n",
    "             'action':''\n",
    "            }\n",
    "dfBasic = pd.DataFrame(basicData, index=[0])\n",
    "fPath = \"Data/\" +coFolder+ \"/\" +Year+ \"/F1_Sales/Quotations/qotBasic.csv\"\n",
    "dfBasic.to_csv(fPath, index=False, header=False, mode='a')"
   ]
  },
  {
   "cell_type": "markdown",
   "metadata": {},
   "source": [
    "<p style=\"padding:5px; border-bottom:3px solid #6d79a1; background:#e9edf7; margin:5px 0 -7px 20px;\"> \n",
    "   <span style=\"font-size:1.4em; color:#202f61;\" >Step 3 - </span>\n",
    "   <span style=\"font-size:1.4em; color:#e39607;\">Save Data in qotAddi.csv file</span> \n",
    "</p> "
   ]
  },
  {
   "cell_type": "code",
   "execution_count": 139,
   "metadata": {},
   "outputs": [],
   "source": [
    "#basData = request.data[1]\n",
    "addiData={'ID':9999, 'qotRef':9999, 'sno':1, 'itmCod':4013150, 'desc':'Test Product',\n",
    "          'qty':10, 'price':15000, 'disc':20000, 'tot':136500,'tax':6500,'traDate':'2023-05-22 5-04-47',\n",
    "          'action':''\n",
    "         }\n",
    "\n",
    "dfAddi = pd.DataFrame(addiData, index=[0])\n",
    "fPath = \"Data/\" +coFolder+ \"/\" +Year+ \"/F1_Sales/Quotations/qotAddi.csv\"\n",
    "dfAddi.to_csv(fPath, index=False, header=False, mode='a')"
   ]
  },
  {
   "cell_type": "markdown",
   "metadata": {},
   "source": [
    "<p style=\"padding:5px; border-bottom:3px solid #6d79a1; background:#e9edf7; margin:5px 0 -7px 20px;\"> \n",
    "   <span style=\"font-size:1.4em; color:#202f61;\" >Step 4 - </span>\n",
    "   <span style=\"font-size:1.4em; color:#e39607;\">Save Data in qotStat.csv file</span> \n",
    "</p> "
   ]
  },
  {
   "cell_type": "code",
   "execution_count": 140,
   "metadata": {},
   "outputs": [],
   "source": [
    "#basData = request.data[0]\n",
    "QotStat =  {'qotRef':9999, 'opnClo':\"Open\",'traDate':'2023-05-22 5-04-47', 'action':''}\n",
    "\n",
    "dfBasic = pd.DataFrame(QotStat, index=[0])\n",
    "fPath = \"Data/\" +coFolder+ \"/\" +Year+ \"/F1_Sales/Quotations/qotStat.csv\"\n",
    "dfBasic.to_csv(fPath, index=False, header=False, mode='a')"
   ]
  },
  {
   "cell_type": "markdown",
   "metadata": {},
   "source": [
    "<p style=\"font-family:Calibri; font-size:1.75em; color:white; padding:5px 5px; text-align: left; height:50px; border-bottom: 3px solid orange; margin:-7px 0px;\"></p>"
   ]
  },
  {
   "cell_type": "markdown",
   "metadata": {},
   "source": [
    "<p style=\"font-size:2.2em; padding:18px; border-bottom: 5px solid #ffb701; background:#143157;\"> \n",
    "    <span style=\"color: #fff;\"> Quotations -  </span>\n",
    "    <span style=\"font-size:.75em; color: #11a1f5;\"> Show and Edit Quotation </span>\n",
    "</p>"
   ]
  },
  {
   "cell_type": "markdown",
   "metadata": {},
   "source": [
    "<p style=\"padding:5px; border-bottom:3px solid #6d79a1; background:#e9edf7; margin:5px 0 -7px 20px;\"> \n",
    "   <span style=\"font-size:1.4em; color:#202f61;\" >Step 1 - </span>\n",
    "   <span style=\"font-size:1.4em; color:#e39607;\">Get Company and Year - </span> \n",
    "   <span style=\"font-size:1.2em; color:#209ebd;\">to Load Data </span>\n",
    "</p> "
   ]
  },
  {
   "cell_type": "code",
   "execution_count": 82,
   "metadata": {},
   "outputs": [],
   "source": [
    "import pandas as pd\n",
    "import numpy as np\n",
    "dfStd = pd.read_csv('data/basInfo.csv')\n",
    "Year = str(dfStd.loc[0, 'year'])\n",
    "coFolder = str(dfStd.loc[0, 'coFolder'])"
   ]
  },
  {
   "cell_type": "markdown",
   "metadata": {},
   "source": [
    "<p style=\"padding:5px; border-bottom:3px solid #6d79a1; background:#e9edf7; margin:5px 0 -7px 20px;\"> \n",
    "   <span style=\"font-size:1.4em; color:#202f61;\" >Step 2 - </span>\n",
    "   <span style=\"font-size:1.4em; color:#e39607;\">Read qotBasic.csv File</span> \n",
    "</p> "
   ]
  },
  {
   "cell_type": "code",
   "execution_count": 83,
   "metadata": {},
   "outputs": [],
   "source": [
    "pk = 2300001\n",
    "fPath = \"Data/\" +coFolder+ \"/\" +Year+ \"/F1_Sales/Quotations/qotBasic.csv\"\n",
    "dfA = pd.read_csv(fPath, index_col=False, encoding='unicode_escape')\n",
    "dfBasic = dfA[dfA['qotRef'] == pk].fillna(0) ### Filter data as per 'pk' selected quote"
   ]
  },
  {
   "cell_type": "code",
   "execution_count": 84,
   "metadata": {},
   "outputs": [],
   "source": [
    "### file doesn't recongnize date formate first convert into date and than strftime\n",
    "dfBasic['qotDat'] = pd.to_datetime(dfBasic['qotDat']).dt.strftime('%Y-%m-%d')"
   ]
  },
  {
   "cell_type": "code",
   "execution_count": 85,
   "metadata": {},
   "outputs": [],
   "source": [
    "### Remove Duplicate Quote and Deleted Record...\n",
    "dfBasic = dfBasic.drop_duplicates(subset=['qotRef'], keep='last')\n",
    "dfBasic = dfBasic.drop(dfBasic.loc[dfBasic['action']=='Delete'].index)"
   ]
  },
  {
   "cell_type": "code",
   "execution_count": 86,
   "metadata": {
    "scrolled": true
   },
   "outputs": [],
   "source": [
    "### Convert Transaction Date to list to filter records in qotAddi\n",
    "List = dfBasic[\"traDate\"] #.tolist()"
   ]
  },
  {
   "cell_type": "code",
   "execution_count": 87,
   "metadata": {},
   "outputs": [],
   "source": [
    "### Convert Transaction Date to list to filter records in qotAddi\n",
    "quotBasi = dfBasic.to_dict(orient=\"records\") ### convert into dictionary"
   ]
  },
  {
   "cell_type": "markdown",
   "metadata": {},
   "source": [
    "<p style=\"padding:5px; border-bottom:3px solid #6d79a1; background:#e9edf7; margin:5px 0 -7px 20px;\"> \n",
    "   <span style=\"font-size:1.4em; color:#202f61;\" >Step 3 - </span>\n",
    "   <span style=\"font-size:1.4em; color:#e39607;\">Read qotAddi.csv File</span> \n",
    "</p> "
   ]
  },
  {
   "cell_type": "code",
   "execution_count": 88,
   "metadata": {},
   "outputs": [],
   "source": [
    "fPath = \"Data/\" +coFolder+ \"/\" +Year+ \"/F1_Sales/Quotations/qotAddi.csv\"\n",
    "dfB = pd.read_csv(fPath, index_col=False, encoding='unicode_escape')\n",
    "dfAddi = dfB[dfB['qotRef'] == pk].fillna(0) ### Filter as per 'pk' selected quote"
   ]
  },
  {
   "cell_type": "code",
   "execution_count": 89,
   "metadata": {},
   "outputs": [],
   "source": [
    "filtered_df = dfAddi[dfAddi['traDate'].isin(List)] ### Filter by transaction Date"
   ]
  },
  {
   "cell_type": "code",
   "execution_count": 90,
   "metadata": {},
   "outputs": [],
   "source": [
    "### Convert Transaction Date to list to filter records in qotAddi\n",
    "quotAddiItems = filtered_df.to_dict(orient=\"records\") ### convert into dictionary"
   ]
  },
  {
   "cell_type": "markdown",
   "metadata": {},
   "source": [
    "<p style=\"font-family:Calibri; font-size:1.75em; color:white; padding:5px 5px; text-align: left; height:50px; border-bottom: 3px solid orange; margin:-7px 0px;\"></p>"
   ]
  },
  {
   "cell_type": "markdown",
   "metadata": {},
   "source": [
    "<p style=\"font-size:2.2em; padding:18px; border-bottom: 5px solid #ffb701; background:#143157;\"> \n",
    "    <span style=\"color: #fff;\"> Quotations -  </span>\n",
    "    <span style=\"font-size:.75em; color: #11a1f5;\"> Delete Quote </span>\n",
    "</p>"
   ]
  },
  {
   "cell_type": "markdown",
   "metadata": {},
   "source": [
    "<p style=\"padding:5px; border-bottom:3px solid #6d79a1; background:#e9edf7; margin:5px 0 -7px 20px;\"> \n",
    "   <span style=\"font-size:1.4em; color:#202f61;\" >Step 1 - </span>\n",
    "   <span style=\"font-size:1.4em; color:#e39607;\">Get Company and Year - </span> \n",
    "   <span style=\"font-size:1.2em; color:#209ebd;\">to Load Data </span>\n",
    "</p> "
   ]
  },
  {
   "cell_type": "code",
   "execution_count": 10,
   "metadata": {},
   "outputs": [],
   "source": [
    "import pandas as pd\n",
    "import numpy as np\n",
    "dfStd = pd.read_csv('data/basInfo.csv')\n",
    "Year = str(dfStd.loc[0, 'year'])\n",
    "coFolder = str(dfStd.loc[0, 'coFolder'])"
   ]
  },
  {
   "cell_type": "markdown",
   "metadata": {},
   "source": [
    "<p style=\"padding:5px; border-bottom:3px solid #6d79a1; background:#e9edf7; margin:5px 0 -7px 20px;\"> \n",
    "   <span style=\"font-size:1.4em; color:#fa5f1e;\">CHECK - </span> \n",
    "   <span style=\"font-size:1.2em; color:#961bfa;\">Before Deleting Record </span>\n",
    "</p> "
   ]
  },
  {
   "cell_type": "code",
   "execution_count": 200,
   "metadata": {},
   "outputs": [
    {
     "name": "stdout",
     "output_type": "stream",
     "text": [
      "Yes, '2300265' exists\n"
     ]
    }
   ],
   "source": [
    "req_cols = [\"soRef\",\"qotRef\", \"action\"]\n",
    "pk = 2300265\n",
    "fPath = \"Data/\" +coFolder+ \"/\" +Year+ \"/F1_Sales/Orders/soBasic.csv\"\n",
    "dfA = pd.read_csv(fPath, usecols=req_cols, index_col=False, encoding='unicode_escape').fillna('')\n",
    "dfA = dfA.drop_duplicates(subset=['qotRef'], keep='last') ### Remove Duplicate Record\n",
    "dfA = dfA.drop(dfA.loc[dfA['action']=='Deleted'].index)  ### Remove Deleted Record\n",
    "list = dfA['qotRef'].tolist() ### Convert Column in LIst\n",
    "if pk in list:\n",
    "    print(\"Yes, '2300265' exists\")"
   ]
  },
  {
   "cell_type": "markdown",
   "metadata": {},
   "source": [
    "<p style=\"padding:5px; border-bottom:3px solid #6d79a1; background:#e9edf7; margin:5px 0 -7px 20px;\"> \n",
    "   <span style=\"font-size:1.4em; color:#202f61;\" >Step 2 - </span>\n",
    "   <span style=\"font-size:1.4em; color:#e39607;\">Read qotBasic.csv File - </span>\n",
    "   <span style=\"font-size:1.2em; color:#209ebd;\">to Get all the Sales Quotations</span>\n",
    "</p> "
   ]
  },
  {
   "cell_type": "code",
   "execution_count": 11,
   "metadata": {},
   "outputs": [],
   "source": [
    "pk = 9999\n",
    "fPath = \"Data/\" +coFolder+ \"/\" +Year+ \"/F1_Sales/Quotations/qotBasic.csv\"\n",
    "df = pd.read_csv(fPath, index_col=False, encoding='unicode_escape')\n",
    "dfBasic = df[df['qotRef'] == pk].fillna(0) ### Filter data as per 'pk' selected quote"
   ]
  },
  {
   "cell_type": "code",
   "execution_count": 12,
   "metadata": {},
   "outputs": [],
   "source": [
    "### Remove Duplicate Quote and Deleted Record...\n",
    "dfBasic = dfBasic.drop_duplicates(subset=['qotRef'], keep='last')\n",
    "dfBasic = dfBasic.drop(dfBasic.loc[dfBasic['action']=='Delete'].index)"
   ]
  },
  {
   "cell_type": "code",
   "execution_count": 243,
   "metadata": {},
   "outputs": [],
   "source": [
    "dfBasic['action'] = 'Deleted' ### in 'action' column add the word 'Deleted'"
   ]
  },
  {
   "cell_type": "code",
   "execution_count": 244,
   "metadata": {},
   "outputs": [],
   "source": [
    "### Save the record(dataframe) in csv file\n",
    "fPath = fPath = \"Data/\" +coFolder+ \"/\" +Year+ \"/F1_Sales/Quotations/qotBasic.csv\"\n",
    "dfBasic.to_csv(fPath, index=False, header=False, mode='a')"
   ]
  },
  {
   "cell_type": "markdown",
   "metadata": {},
   "source": [
    "<p style=\"padding:5px; border-bottom:3px solid #6d79a1; background:#e9edf7; margin:5px 0 -7px 20px;\"> \n",
    "   <span style=\"font-size:1.4em; color:#202f61;\" >Step 3 - </span>\n",
    "   <span style=\"font-size:1.4em; color:#e39607;\">Read qotStat.csv File - </span>\n",
    "   <span style=\"font-size:1.2em; color:#209ebd;\">to Get all the Sales Quotations</span>\n",
    "</p> "
   ]
  },
  {
   "cell_type": "code",
   "execution_count": 38,
   "metadata": {},
   "outputs": [],
   "source": [
    "fPath = \"Data/\" +coFolder+ \"/\" +Year+ \"/F1_Sales/Quotations/qotStat.csv\"\n",
    "df_Stat = pd.read_csv(fPath, index_col=False, encoding='unicode_escape')\n",
    "df_Stat = df_Stat[df_Stat['qotRefSt'] == pk].fillna(0) ### Filter data as per 'pk' selected quote"
   ]
  },
  {
   "cell_type": "code",
   "execution_count": null,
   "metadata": {},
   "outputs": [],
   "source": [
    "df_Stat['action'] = \"Deleted\""
   ]
  },
  {
   "cell_type": "code",
   "execution_count": null,
   "metadata": {},
   "outputs": [],
   "source": [
    "### Save the record(dataframe) in csv file\n",
    "fPath = fPath = \"Data/\" +coFolder+ \"/\" +Year+ \"/F1_Sales/Quotations/qotStat.csv\"\n",
    "df_Stat.to_csv(fPath, index=False, header=False, mode='a')"
   ]
  },
  {
   "cell_type": "markdown",
   "metadata": {},
   "source": [
    "<p style=\"font-family:Calibri; font-size:1.75em; color:white; padding:5px 5px; text-align: left; height:50px; border-bottom: 3px solid orange; margin:-7px 0px;\"></p>"
   ]
  },
  {
   "cell_type": "markdown",
   "metadata": {},
   "source": [
    "<p style=\"font-size:2.2em; padding:18px; border-bottom: 5px solid #ffb701; background:#143157;\"> \n",
    "    <span style=\"color: #fff;\"> Quotations -  </span>\n",
    "    <span style=\"font-size:.75em; color: #11a1f5;\"> Download Qutation as PDF</span>\n",
    "</p>"
   ]
  },
  {
   "cell_type": "markdown",
   "metadata": {},
   "source": [
    "<p style=\"padding:5px; border-bottom:3px solid #6d79a1; background:#e9edf7; margin:5px 0 -7px 20px;\"> \n",
    "   <span style=\"font-size:1.4em; color:#202f61;\" >Step 1 - </span>\n",
    "   <span style=\"font-size:1.4em; color:#e39607;\">Get Company and Year - </span> \n",
    "   <span style=\"font-size:1.2em; color:#209ebd;\">to Load Data </span>\n",
    "</p> "
   ]
  },
  {
   "cell_type": "code",
   "execution_count": 10,
   "metadata": {},
   "outputs": [],
   "source": [
    "import pandas as pd\n",
    "import numpy as np\n",
    "dfStd = pd.read_csv('data/basInfo.csv')\n",
    "Year = str(dfStd.loc[0, 'year'])\n",
    "coFolder = str(dfStd.loc[0, 'coFolder'])"
   ]
  },
  {
   "cell_type": "markdown",
   "metadata": {},
   "source": [
    "<p style=\"padding:5px; border-bottom:3px solid #6d79a1; background:#e9edf7; margin:5px 0 -7px 20px;\"> \n",
    "   <span style=\"font-size:1.4em; color:#202f61;\" >Step 2 - </span>\n",
    "   <span style=\"font-size:1.4em; color:#e39607;\">Read qotBasic.csv File - </span> \n",
    "   <span style=\"font-size:1.2em; color:#209ebd;\">to Load Data </span>\n",
    "</p> "
   ]
  },
  {
   "cell_type": "code",
   "execution_count": 63,
   "metadata": {},
   "outputs": [],
   "source": [
    "pk = 2300001\n",
    "\n",
    "###----Read Quote Basic File--------------------------------------------\n",
    "fPath = \"Data/\" +coFolder+ \"/\" +Year+ \"/F1_Sales/Quotations/qotBasic.csv\"\n",
    "dfA = pd.read_csv(fPath, index_col=False, encoding='unicode_escape')\n",
    "dfBasic = dfA[dfA['qotRef'] == pk].fillna(0) ### Filter"
   ]
  },
  {
   "cell_type": "code",
   "execution_count": 64,
   "metadata": {},
   "outputs": [],
   "source": [
    "### Remove Duplicate Quote and Deleted Record...\n",
    "dfBasic = dfBasic.drop_duplicates(subset=['qotRef'], keep='last')\n",
    "dfBasic = dfBasic.drop(dfBasic.loc[dfBasic['action']=='Delete'].index)"
   ]
  },
  {
   "cell_type": "code",
   "execution_count": 65,
   "metadata": {
    "scrolled": true
   },
   "outputs": [],
   "source": [
    "### Convert Transaction Date to list to filter records in qotAddi\n",
    "List = dfBasic[\"traDate\"] #.tolist()"
   ]
  },
  {
   "cell_type": "code",
   "execution_count": 66,
   "metadata": {},
   "outputs": [],
   "source": [
    "quotBasi = dfBasic.to_dict(orient=\"records\") ### convert into dictionary"
   ]
  },
  {
   "cell_type": "markdown",
   "metadata": {},
   "source": [
    "<p style=\"padding:5px; border-bottom:3px solid #6d79a1; background:#e9edf7; margin:5px 0 -7px 20px;\"> \n",
    "   <span style=\"font-size:1.4em; color:#202f61;\" >Step 3 - </span>\n",
    "   <span style=\"font-size:1.4em; color:#e39607;\">Read qotAddi.csv File - </span> \n",
    "   <span style=\"font-size:1.2em; color:#209ebd;\">to get Quotation Detail </span>\n",
    "</p> "
   ]
  },
  {
   "cell_type": "code",
   "execution_count": 68,
   "metadata": {},
   "outputs": [],
   "source": [
    "###---- Read Quotation Additional CSV File --------------------------\n",
    "fPath = \"Data/\" +coFolder+ \"/\" +Year+ \"/F1_Sales/Quotations/qotAddi.csv\"\n",
    "dfB = pd.read_csv(fPath, index_col=False, encoding='unicode_escape')\n",
    "dfAddi = dfB[dfB['qotRef'] == pk].fillna(0) ### Filter Record as per 'pk' selected Quote"
   ]
  },
  {
   "cell_type": "code",
   "execution_count": 69,
   "metadata": {},
   "outputs": [],
   "source": [
    "### Filtere the 'Qutation' by Quotation \"Target List\"\n",
    "filtered_df = dfAddi[dfAddi['traDate'].isin(List)]\n",
    "quotAddiItems = filtered_df.to_dict(orient=\"records\") ### convert into dictionary"
   ]
  },
  {
   "cell_type": "markdown",
   "metadata": {},
   "source": [
    "<p style=\"font-family:Calibri; font-size:1.75em; color:white; padding:5px 5px; text-align: left; height:50px; border-bottom: 3px solid orange; margin:-7px 0px;\"></p>"
   ]
  },
  {
   "cell_type": "markdown",
   "metadata": {},
   "source": [
    "<p style=\"font-size:2.2em; padding:18px; border-bottom: 5px solid #ffb701; background:#492863;\"> \n",
    "    <span style=\"color: #fff;\"> Change -  </span>\n",
    "    <span style=\"font-size:.75em; color: #11a1f5;\"> Company and Year  </span>\n",
    "</p>\n",
    "<span style=\"font-size:.75em; color: #11a1f5;\"> <<< f1_------------ >>></span>"
   ]
  },
  {
   "cell_type": "code",
   "execution_count": 7,
   "metadata": {},
   "outputs": [],
   "source": [
    "###---Standard Code to load Data----------------------\n",
    "import pandas as pd\n",
    "import numpy as np"
   ]
  },
  {
   "cell_type": "code",
   "execution_count": 8,
   "metadata": {},
   "outputs": [],
   "source": [
    "###---Read Company Detail CSV File -------------------\n",
    "coDetail = pd.read_csv('data/coDetail.csv')"
   ]
  },
  {
   "cell_type": "code",
   "execution_count": 9,
   "metadata": {},
   "outputs": [],
   "source": [
    "###---Select the Company and Year --------------------\n",
    "Company = '00_EcoLab'     ###  '01_MedZon'\n",
    "Year = 2023  ###  2024\n",
    "seleCo = coDetail[(coDetail['coFolder'] == Company) & (coDetail['year'] == Year)]"
   ]
  },
  {
   "cell_type": "code",
   "execution_count": 10,
   "metadata": {},
   "outputs": [],
   "source": [
    "###---Save Selected Company in 'baseInfo.csv' File ---\n",
    "seleCo.to_csv('Data/basInfo.csv',index=False)"
   ]
  },
  {
   "cell_type": "code",
   "execution_count": 11,
   "metadata": {},
   "outputs": [],
   "source": [
    "###--- Select Folder Name based on 'Company Code and Year' ---\n",
    "coFolder = seleCo.loc[(seleCo['coFolder'] == Company) & (seleCo['year'] == Year), 'coFolder'].values[0]"
   ]
  },
  {
   "cell_type": "code",
   "execution_count": 12,
   "metadata": {},
   "outputs": [
    {
     "data": {
      "text/plain": [
       "'00_EcoLab'"
      ]
     },
     "execution_count": 12,
     "metadata": {},
     "output_type": "execute_result"
    }
   ],
   "source": [
    "coFolder"
   ]
  },
  {
   "cell_type": "code",
   "execution_count": null,
   "metadata": {},
   "outputs": [],
   "source": []
  },
  {
   "cell_type": "code",
   "execution_count": null,
   "metadata": {},
   "outputs": [],
   "source": []
  }
 ],
 "metadata": {
  "celltoolbar": "Raw Cell Format",
  "kernelspec": {
   "display_name": "Python 3 (ipykernel)",
   "language": "python",
   "name": "python3"
  },
  "language_info": {
   "codemirror_mode": {
    "name": "ipython",
    "version": 3
   },
   "file_extension": ".py",
   "mimetype": "text/x-python",
   "name": "python",
   "nbconvert_exporter": "python",
   "pygments_lexer": "ipython3",
   "version": "3.9.12"
  }
 },
 "nbformat": 4,
 "nbformat_minor": 2
}
