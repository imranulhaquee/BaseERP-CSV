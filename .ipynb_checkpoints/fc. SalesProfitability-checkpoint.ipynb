{
 "cells": [
  {
   "cell_type": "markdown",
   "metadata": {},
   "source": [
    "<p style=\"font-size:2.2em; color:white; padding:15px; border-bottom: 5px solid #ffb701; background:#143157; text-align:center;\"> \n",
    "    Sales Profitability  <br> \n",
    "    <span style=\"font-size:.55em; color: #11a1f5;\"> Sales Analysis </span>\n",
    "</p>"
   ]
  },
  {
   "cell_type": "code",
   "execution_count": 1,
   "metadata": {},
   "outputs": [],
   "source": [
    "import pandas as pd\n",
    "import numpy as np\n",
    "pd.options.display.float_format = '{:,.0f}'.format\n",
    "pd.set_option('display.max_columns', 85) # set Jupeter note book to dispay 85 columns"
   ]
  },
  {
   "cell_type": "code",
   "execution_count": 2,
   "metadata": {},
   "outputs": [],
   "source": [
    "import os\n",
    "import csv"
   ]
  },
  {
   "cell_type": "code",
   "execution_count": 3,
   "metadata": {},
   "outputs": [],
   "source": [
    "###---Get Year-------------------------------------\n",
    "#Year = \"2023\"\n",
    "dfStd = pd.read_csv('data/basInfo.csv')\n",
    "Year = str(dfStd.loc[0, 'year'])\n",
    "coFolder = str(dfStd.loc[0, 'coFolder'])"
   ]
  },
  {
   "cell_type": "markdown",
   "metadata": {},
   "source": [
    "<p style=\"font-family:Calibri; font-size:1.75em; color:white; padding:5px 5px; text-align: left; height:50px; border-bottom: 3px solid orange; margin:-7px 0px;\"></p>"
   ]
  },
  {
   "cell_type": "markdown",
   "metadata": {},
   "source": [
    "<p style=\"font-size:2.2em; padding:10px; border-bottom: 5px solid #ffb701; background:#492863;\n",
    "          text-align:center\"> \n",
    "    <span style=\"color: #debef7;\"> Sales Quotation Profitability  </span> <br>\n",
    "</p>\n"
   ]
  },
  {
   "cell_type": "code",
   "execution_count": 7,
   "metadata": {},
   "outputs": [],
   "source": [
    "###---Standard Code to load Data-------------------------------\n",
    "import pandas as pd\n",
    "import numpy as np\n",
    "dfStd = pd.read_csv('data/basInfo.csv')\n",
    "Year = str(dfStd.loc[0, 'year'])\n",
    "coFolder = str(dfStd.loc[0, 'coFolder'])"
   ]
  },
  {
   "cell_type": "markdown",
   "metadata": {},
   "source": [
    "<p style=\"padding:5px; border-bottom:3px solid orange; background:#3c5c75; margin:15px 0 -7px 0;\"> \n",
    "   <span style=\"font-size:1.4em; color:#f7ca25;\" >Step 1 - </span>\n",
    "   <span style=\"font-size:1.4em; color:white;\">Read Item Sales Price - </span> \n",
    "   <span style=\"font-size:1.2em; color:#17cffc;\">\"H1_Items (Items Module)\" </span>\n",
    "</p> "
   ]
  },
  {
   "cell_type": "code",
   "execution_count": 8,
   "metadata": {},
   "outputs": [],
   "source": [
    "req_Column = ['itmCode', 'uPrice']\n",
    "SP = pd.read_csv(\"Data/\" +coFolder+ \"/\" +Year+ \"/H1_Items/Items/ItemSalPrice.csv\", usecols=req_Column ,encoding='unicode_escape').fillna(0)\n",
    "SP = SP.drop_duplicates(subset=['itmCode'], keep='last')\n",
    "SP = SP.to_dict(orient=\"records\")   ### Convert Data into Dictionary\n",
    "SPList = {item['itmCode']: item['uPrice'] for item in SP} # Extract desired values into a new dictionary"
   ]
  },
  {
   "cell_type": "markdown",
   "metadata": {},
   "source": [
    "<p style=\"padding:5px; border-bottom:3px solid orange; background:#3c5c75; margin:15px 0 -7px 0;\"> \n",
    "   <span style=\"font-size:1.4em; color:#f7ca25;\" >Step 2 - </span>\n",
    "   <span style=\"font-size:1.4em; color:white;\">Read Sales Quotation Basic - </span> \n",
    "   <span style=\"font-size:1.2em; color:#17cffc;\">\"F1_Sales (Sales Module)\" </span>\n",
    "</p> "
   ]
  },
  {
   "cell_type": "code",
   "execution_count": 9,
   "metadata": {},
   "outputs": [],
   "source": [
    "pk = 2300272\n",
    "fPath = \"Data/\" +coFolder+ \"/\" +Year+ \"/F1_Sales/Quotations/qotBasic.csv\"\n",
    "dfBasic = pd.read_csv(fPath, index_col=False, encoding='unicode_escape').fillna('')\n",
    "dfBasic = dfBasic[dfBasic['qotRef'] == pk].fillna(0) ### Filter"
   ]
  },
  {
   "cell_type": "code",
   "execution_count": 10,
   "metadata": {},
   "outputs": [],
   "source": [
    "###..Remove Duplicate Quote and Deleted Record........................\n",
    "dfBasic = dfBasic.drop_duplicates(subset=['qotRef'], keep='last')\n",
    "dfBasic = dfBasic.drop(dfBasic.loc[dfBasic['action']=='Delete'].index)"
   ]
  },
  {
   "cell_type": "code",
   "execution_count": 12,
   "metadata": {},
   "outputs": [],
   "source": [
    "### file doesn't recongnize date formate first convert into date and than strftime\n",
    "dfBasic['qotDat'] = pd.to_datetime(dfBasic['qotDat']).dt.strftime('%Y-%m-%d')"
   ]
  },
  {
   "cell_type": "code",
   "execution_count": 13,
   "metadata": {},
   "outputs": [],
   "source": [
    "###..Get 'Employee Code' and 'Transaction Date........................\n",
    "traDate = dfBasic.loc[dfBasic['qotRef'] == pk, 'traDate'].values[0]\n",
    "empCode = dfBasic.loc[dfBasic['qotRef'] == pk, 'spCode'].values[0]"
   ]
  },
  {
   "cell_type": "code",
   "execution_count": 16,
   "metadata": {},
   "outputs": [],
   "source": [
    "###..Convert into List................................................\n",
    "qot = dfBasic.to_dict(orient=\"records\") ### convert into dictionary"
   ]
  },
  {
   "cell_type": "markdown",
   "metadata": {},
   "source": [
    "<p style=\"padding:5px; border-bottom:3px solid orange; background:#3c5c75; margin:15px 0 -7px 0;\"> \n",
    "   <span style=\"font-size:1.4em; color:#f7ca25;\" >Step 3 - </span>\n",
    "   <span style=\"font-size:1.4em; color:white;\"> Read Employee Cost - </span> \n",
    "   <span style=\"font-size:1.2em; color:#17cffc;\">\"I1_Hrm (HRM Module)\" </span>\n",
    "</p> "
   ]
  },
  {
   "cell_type": "code",
   "execution_count": 18,
   "metadata": {},
   "outputs": [],
   "source": [
    "req_Column = ['empCode', 'itemCode', 'salCostPU']\n",
    "empCost = pd.read_csv(\"Data/\" +coFolder+ \"/\" +Year+ \"/I1_Hrm/Employees/empTargetDetail.csv\", usecols=req_Column ,encoding='unicode_escape').fillna(0)\n",
    "empCost = empCost.loc[empCost['empCode'] == empCode]\n",
    "empCost = empCost.to_dict(orient=\"records\")   ### Convert Data into Dictionary\n",
    "empCostList = {item['itemCode']: item['salCostPU'] for item in empCost} # Extract desired values into a new dictionary"
   ]
  },
  {
   "cell_type": "markdown",
   "metadata": {},
   "source": [
    "<p style=\"padding:5px; border-bottom:3px solid orange; background:#3c5c75; margin:15px 0 -7px 0;\"> \n",
    "   <span style=\"font-size:1.4em; color:#f7ca25;\" >Step 4 - </span>\n",
    "   <span style=\"font-size:1.4em; color:white;\"> Read Sales Quote Additional</span> \n",
    "    <span style=\"font-size:1.2em; color:#17cffc;\">CSV files </span>\n",
    "</p> "
   ]
  },
  {
   "cell_type": "code",
   "execution_count": 20,
   "metadata": {},
   "outputs": [],
   "source": [
    "###..Read Quotation Additional CSV File .................................\n",
    "fPath = \"Data/\" +coFolder+ \"/\" +Year+ \"/F1_Sales/Quotations/qotAddi.csv\"\n",
    "dfB = pd.read_csv(fPath, index_col=False, encoding='unicode_escape')\n",
    "dfB = dfB[dfB['qotRef'] == pk].fillna(0) ### Filter"
   ]
  },
  {
   "cell_type": "code",
   "execution_count": 22,
   "metadata": {},
   "outputs": [],
   "source": [
    "###..Filter the Record as per Transact Date .............................\n",
    "dfB = dfB[dfB['traDate'] == traDate]"
   ]
  },
  {
   "cell_type": "code",
   "execution_count": 29,
   "metadata": {},
   "outputs": [],
   "source": [
    "###..Add a column 'ItemCost' and 'EmpCost' in QotAddi....................\n",
    "dfB['ItemCost'] = dfB['itmCod'].map(SPList).fillna(0)\n",
    "dfB['EmpCost'] = dfB['itmCod'].map(empCostList).fillna(0)"
   ]
  },
  {
   "cell_type": "code",
   "execution_count": 30,
   "metadata": {},
   "outputs": [],
   "source": [
    "###..Convert into List...................................................\n",
    "qotAddiItems = dfB.to_dict(orient=\"records\") "
   ]
  },
  {
   "cell_type": "markdown",
   "metadata": {},
   "source": [
    "<p style=\"font-family:Calibri; font-size:1.75em; color:white; padding:5px 5px; text-align: left; height:50px; border-bottom: 3px solid orange; margin:-7px 0px;\"></p>"
   ]
  }
 ],
 "metadata": {
  "celltoolbar": "Raw Cell Format",
  "kernelspec": {
   "display_name": "Python 3 (ipykernel)",
   "language": "python",
   "name": "python3"
  },
  "language_info": {
   "codemirror_mode": {
    "name": "ipython",
    "version": 3
   },
   "file_extension": ".py",
   "mimetype": "text/x-python",
   "name": "python",
   "nbconvert_exporter": "python",
   "pygments_lexer": "ipython3",
   "version": "3.9.12"
  }
 },
 "nbformat": 4,
 "nbformat_minor": 2
}
