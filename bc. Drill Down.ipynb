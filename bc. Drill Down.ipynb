{
 "cells": [
  {
   "cell_type": "markdown",
   "metadata": {},
   "source": [
    "<p style=\"font-family:Calibri; font-size:1.75em; color:white; padding:5px 5px; text-align: left; height:50px; border-bottom: 1px solid orange;\"></p>"
   ]
  },
  {
   "cell_type": "markdown",
   "metadata": {},
   "source": [
    "<p style=\"font-size:2.2em; color:white; padding:15px; border-bottom: 5px solid #ffb701; background:#143157; text-align:center;\"> \n",
    "    Drill Down Report  <br> \n",
    "    <span style=\"font-size:.55em; color: #11a1f5;\"> Journal Ledger </span>\n",
    "</p>"
   ]
  },
  {
   "cell_type": "code",
   "execution_count": 5,
   "metadata": {},
   "outputs": [],
   "source": [
    "import pandas as pd\n",
    "import numpy as np\n",
    "pd.options.display.float_format = '{:,.0f}'.format\n",
    "pd.set_option('display.max_columns', 85) # set Jupeter note book to dispay 85 columns"
   ]
  },
  {
   "cell_type": "code",
   "execution_count": 6,
   "metadata": {},
   "outputs": [],
   "source": [
    "import os\n",
    "import csv"
   ]
  },
  {
   "cell_type": "code",
   "execution_count": 7,
   "metadata": {},
   "outputs": [],
   "source": [
    "###---Get Year-------------------------------------\n",
    "#Year = \"2023\"\n",
    "dfStd = pd.read_csv('data/basInfo.csv')\n",
    "Year = str(dfStd.loc[0, 'year'])\n",
    "coFolder = str(dfStd.loc[0, 'coFolder'])"
   ]
  },
  {
   "cell_type": "markdown",
   "metadata": {},
   "source": [
    "<p style=\"font-family:Calibri; font-size:1.75em; color:white; padding:5px 5px; text-align: left; height:50px; border-bottom: 3px solid orange; margin:-7px 0px;\"></p>"
   ]
  },
  {
   "cell_type": "markdown",
   "metadata": {},
   "source": [
    "<p style=\"font-size:2.2em; padding:10px; border-bottom: 5px solid #ffb701; background:#143157;\n",
    "          text-align:center\"> \n",
    "    <span style=\"color: #fff;\"> Tracking of Quotation to Sales  </span> <br>\n",
    "    <span style=\"font-size:.60em; color: #11a1f5;\"> \"C1_Gl\" </span>\n",
    "</p>\n"
   ]
  },
  {
   "cell_type": "markdown",
   "metadata": {},
   "source": [
    "<p style=\"font-size:2em; padding:18px; border-bottom: 5px solid #ffb701; background:#143157;\"> \n",
    "    <span style=\"color: #fff;\"> Tracking of Quotation to Sales -  </span>\n",
    "    <span style=\"font-size:.75em; color: #11a1f5;\"> \"Entries\" </span>\n",
    "</p>"
   ]
  },
  {
   "cell_type": "markdown",
   "metadata": {},
   "source": [
    "<p style=\"font-family:Calibri; font-size:1.2em; color:#061233; padding:2px 5px; margin: 5px 0 -7px 20px; border-bottom: 3px solid #0d1e4f; background: #f0f4ff\">  \n",
    "   <span style=\"font-size:1.2em; color:#384073;\" >2. Reading of </span>\n",
    "   <span style=\"font-size:1.2em; color:#821107;\" >invoices.CSV</span>\n",
    "   <span style=\"font-size:1.2em; color:#384073;\" >file</span>\n",
    "</p>"
   ]
  },
  {
   "cell_type": "code",
   "execution_count": 262,
   "metadata": {},
   "outputs": [],
   "source": [
    "req_cols = [\"siRef\", \"siDat\", \"cusName\", \"siTAT\", \"dlRef\", \"dlDat\", \"action\"]\n",
    "siPath = \"Data/\" +coFolder+ \"/\" +Year+ \"/F1_Sales/Invoices/siBasic.csv\"\n",
    "siDf = pd.read_csv(siPath, usecols=req_cols, index_col=False, encoding='unicode_escape')\n",
    "\n",
    "siStatPath = \"Data/\" +coFolder+ \"/\" +Year+ \"/F1_Sales/Invoices/siStat.csv\"\n",
    "siStatDf = pd.read_csv(siStatPath, index_col=False, encoding='unicode_escape')"
   ]
  },
  {
   "cell_type": "code",
   "execution_count": 263,
   "metadata": {},
   "outputs": [],
   "source": [
    "### Filter data by Sales Invoice Number ---------------------------------------\n",
    "sInv = 2300131\n",
    "siDf = siDf[siDf['siRef'] == sInv].fillna(0) \n",
    "siStatDf = siStatDf[siStatDf['siRefSt'] == sInv].fillna(0) "
   ]
  },
  {
   "cell_type": "code",
   "execution_count": 264,
   "metadata": {},
   "outputs": [],
   "source": [
    "### Remove Duplicate Sales Invoice and Deleted Record...\n",
    "siDf = siDf.drop_duplicates(subset=['siRef'], keep='last')\n",
    "siDf = siDf.drop(siDf.loc[siDf['action']=='Deleted'].index).fillna('')\n",
    "\n",
    "### Remove Duplicate Sales Invoice and Deleted Record...\n",
    "siStatDf = siStatDf.drop_duplicates(subset=['siRefSt'], keep='last')\n",
    "siStatDf = siStatDf.drop(siStatDf.loc[siStatDf['action']=='Deleted'].index).fillna('')\n",
    "siStatDf = siStatDf.rename(columns={\"siRefSt\": \"siRef\"})\n",
    "siMerge = pd.merge(siDf, siStatDf, on=\"siRef\")"
   ]
  },
  {
   "cell_type": "code",
   "execution_count": 265,
   "metadata": {},
   "outputs": [],
   "source": [
    "###..Get 'Quotation number' Value..................................\n",
    "dlNm = siDf.loc[siDf['siRef'] == sInv, 'dlRef'].values[0]"
   ]
  },
  {
   "cell_type": "markdown",
   "metadata": {},
   "source": [
    "<p style=\"font-family:Calibri; font-size:1.2em; color:#061233; padding:2px 5px; margin: 5px 0 -7px 20px; border-bottom: 3px solid #0d1e4f; background: #f0f4ff\">  \n",
    "   <span style=\"font-size:1.2em; color:#384073;\" >3. Reading of </span>\n",
    "   <span style=\"font-size:1.2em; color:#821107;\" >deliveries.CSV</span>\n",
    "   <span style=\"font-size:1.2em; color:#384073;\" >file</span>\n",
    "</p>"
   ]
  },
  {
   "cell_type": "code",
   "execution_count": 266,
   "metadata": {},
   "outputs": [],
   "source": [
    "req_cols = [\"dlRef\", \"dlDat\", \"cusName\", \"dlTAT\", \"soRef\", \"soDat\", \"traDate\", \"action\"]\n",
    "dlPath = \"Data/\" +coFolder+ \"/\" +Year+ \"/F1_Sales/Deliveries/dlBasic.csv\"\n",
    "dlDf = pd.read_csv(dlPath, usecols=req_cols, index_col=False, encoding='unicode_escape')\n",
    "\n",
    "dlStatPath = \"Data/\" +coFolder+ \"/\" +Year+ \"/F1_Sales/Deliveries/dlStat.csv\"\n",
    "dlStatDf = pd.read_csv(dlStatPath, index_col=False, encoding='unicode_escape')"
   ]
  },
  {
   "cell_type": "code",
   "execution_count": 267,
   "metadata": {},
   "outputs": [],
   "source": [
    "### Filter data by Delivery Note Number ---------------------------------------\n",
    "dlDf = dlDf[dlDf['dlRef'] == dlNm].fillna(0) \n",
    "dlStatDf = dlStatDf[dlStatDf['dlRefSt'] == dlNm].fillna(0) "
   ]
  },
  {
   "cell_type": "code",
   "execution_count": 268,
   "metadata": {},
   "outputs": [],
   "source": [
    "### Remove Duplicate Delivery Note and Deleted Record...\n",
    "dlDf = dlDf.drop_duplicates(subset=['dlRef'], keep='last')\n",
    "dlDf = dlDf.drop(dlDf.loc[dlDf['action']=='Deleted'].index).fillna('')\n",
    "\n",
    "### Remove Duplicate Sales Invoice and Deleted Record...\n",
    "dlStatDf = dlStatDf.drop_duplicates(subset=['dlRefSt'], keep='last')\n",
    "dlStatDf = dlStatDf.drop(dlStatDf.loc[dlStatDf['action']=='Deleted'].index).fillna('')\n",
    "dlStatDf = dlStatDf.rename(columns={\"dlRefSt\": \"dlRef\"})\n",
    "dlMerge = pd.merge(dlDf, dlStatDf, on=\"dlRef\")"
   ]
  },
  {
   "cell_type": "code",
   "execution_count": 269,
   "metadata": {},
   "outputs": [],
   "source": [
    "###..Get 'Quotation number' Value..................................\n",
    "soNm = dlDf.loc[dlDf['dlRef'] == dlNm, 'soRef'].values[0]"
   ]
  },
  {
   "cell_type": "markdown",
   "metadata": {},
   "source": [
    "<p style=\"font-family:Calibri; font-size:1.2em; color:#061233; padding:2px 5px; margin: 5px 0 -7px 20px; border-bottom: 3px solid #0d1e4f; background: #f0f4ff\">  \n",
    "   <span style=\"font-size:1.2em; color:#384073;\" >4. Reading of </span>\n",
    "   <span style=\"font-size:1.2em; color:#821107;\" >Orders.CSV</span>\n",
    "   <span style=\"font-size:1.2em; color:#384073;\" >file</span>\n",
    "</p>"
   ]
  },
  {
   "cell_type": "code",
   "execution_count": 270,
   "metadata": {},
   "outputs": [],
   "source": [
    "req_cols = [\"soRef\", \"soDat\", \"cusName\", \"soTAT\", \"qotRef\", \"qotDat\", \"action\"]\n",
    "soPath = \"Data/\" +coFolder+ \"/\" +Year+ \"/F1_Sales/Orders/soBasic.csv\"\n",
    "soDf = pd.read_csv(soPath, usecols=req_cols, index_col=False, encoding='unicode_escape')\n",
    "\n",
    "soStatPath = \"Data/\" +coFolder+ \"/\" +Year+ \"/F1_Sales/Orders/soStat.csv\"\n",
    "soStatDf = pd.read_csv(soStatPath, index_col=False, encoding='unicode_escape')"
   ]
  },
  {
   "cell_type": "code",
   "execution_count": 271,
   "metadata": {},
   "outputs": [],
   "source": [
    "### Filter data by Sales Order Number ---------------------------------------\n",
    "soDf = soDf[soDf['soRef'] == soNm].fillna(0) \n",
    "soStatDf = soStatDf[soStatDf['soRefSt'] == soNm].fillna(0) "
   ]
  },
  {
   "cell_type": "code",
   "execution_count": 272,
   "metadata": {},
   "outputs": [],
   "source": [
    "### Remove Duplicate Sales Order and Deleted Record...\n",
    "soDf = soDf.drop_duplicates(subset=['soRef'], keep='last')\n",
    "soDf = soDf.drop(soDf.loc[soDf['action']=='Deleted'].index).fillna('')\n",
    "\n",
    "### Remove Duplicate Sales Invoice and Deleted Record...\n",
    "soStatDf = soStatDf.drop_duplicates(subset=['soRefSt'], keep='last')\n",
    "soStatDf = soStatDf.drop(soStatDf.loc[soStatDf['action']=='Deleted'].index).fillna('')\n",
    "soStatDf = soStatDf.rename(columns={\"soRefSt\": \"soRef\"})\n",
    "soMerge = pd.merge(soDf, soStatDf, on=\"soRef\")"
   ]
  },
  {
   "cell_type": "code",
   "execution_count": 273,
   "metadata": {},
   "outputs": [],
   "source": [
    "###..Get 'Quotation number' Value..................................\n",
    "qotNm = soDf.loc[soDf['soRef'] == soNm, 'qotRef'].values[0]"
   ]
  },
  {
   "cell_type": "markdown",
   "metadata": {},
   "source": [
    "<p style=\"font-family:Calibri; font-size:1.2em; color:#061233; padding:2px 5px; margin: 5px 0 -7px 20px; border-bottom: 3px solid #0d1e4f; background: #f0f4ff\">  \n",
    "   <span style=\"font-size:1.2em; color:#384073;\" >5. Reading of </span>\n",
    "   <span style=\"font-size:1.2em; color:#821107;\" >Quotation.CSV</span>\n",
    "   <span style=\"font-size:1.2em; color:#384073;\" >file</span>\n",
    "</p>"
   ]
  },
  {
   "cell_type": "code",
   "execution_count": 274,
   "metadata": {},
   "outputs": [],
   "source": [
    "req_cols = [\"qotRef\", \"qotDat\", \"cusName\", \"qotTAT\", \"action\"]\n",
    "qotPath = \"Data/\" +coFolder+ \"/\" +Year+ \"/F1_Sales/quotations/qotBasic.csv\"\n",
    "qotDf = pd.read_csv(qotPath, usecols=req_cols, index_col=False, encoding='unicode_escape')\n",
    "\n",
    "qotStatPath = \"Data/\" +coFolder+ \"/\" +Year+ \"/F1_Sales/quotations/qotStat.csv\"\n",
    "qotStatDf = pd.read_csv(qotStatPath, index_col=False, encoding='unicode_escape')"
   ]
  },
  {
   "cell_type": "code",
   "execution_count": 275,
   "metadata": {},
   "outputs": [],
   "source": [
    "### Filter data by Sales Order Number ---------------------------------------\n",
    "qotDf = qotDf[qotDf['qotRef'] == qotNm].fillna(0) \n",
    "qotStatDf = qotStatDf[qotStatDf['qotRefSt'] == qotNm].fillna(0) "
   ]
  },
  {
   "cell_type": "code",
   "execution_count": 276,
   "metadata": {},
   "outputs": [],
   "source": [
    "### Remove Duplicate Sales Order and Deleted Record...\n",
    "qotDf = qotDf.drop_duplicates(subset=['qotRef'], keep='last')\n",
    "qotDf = qotDf.drop(qotDf.loc[qotDf['action']=='Deleted'].index).fillna('')\n",
    "\n",
    "### Remove Duplicate Sales Invoice and Deleted Record...\n",
    "qotStatDf = qotStatDf.drop_duplicates(subset=['qotRefSt'], keep='last')\n",
    "qotStatDf = qotStatDf.drop(qotStatDf.loc[qotStatDf['action']=='Deleted'].index).fillna('')\n",
    "qotStatDf = qotStatDf.rename(columns={\"qotRefSt\": \"qotRef\"})\n",
    "qotMerge = pd.merge(qotDf, qotStatDf, on=\"qotRef\")"
   ]
  },
  {
   "cell_type": "markdown",
   "metadata": {},
   "source": [
    "<p style=\"font-family:Calibri; font-size:1.75em; color:white; padding:5px 5px; text-align: left; height:50px; border-bottom: 3px solid orange; margin:-7px 0px;\"></p>"
   ]
  },
  {
   "cell_type": "markdown",
   "metadata": {},
   "source": [
    "<p style=\"font-size:2.2em; padding:10px; border-bottom: 5px solid #ffb701; background:#492863;\n",
    "          text-align:center\"> \n",
    "    <span style=\"color: #debef7;\"> Journal Ledger </span> <br>\n",
    "</p>"
   ]
  },
  {
   "cell_type": "markdown",
   "metadata": {},
   "source": [
    "<p style=\"font-size:2.2em; padding:18px; border-bottom: 5px solid #ffb701; background:#143157;\"> \n",
    "    <span style=\"color: #fff;\">syncGenLeger -  </span>\n",
    "    <span style=\"font-size:.75em; color: #11a1f5;\"> Journal Ledger CSV File </span>\n",
    "</p>"
   ]
  },
  {
   "cell_type": "markdown",
   "metadata": {},
   "source": [
    "<p style=\"padding:5px; border-bottom:3px solid #6d79a1; background:#e9edf7; margin:5px 0 -7px 20px;\"> \n",
    "   <span style=\"font-size:1.4em; color:#202f61;\" >Step 1 - </span>\n",
    "   <span style=\"font-size:1.4em; color:#e39607;\">Get Company and Year - </span> \n",
    "   <span style=\"font-size:1.2em; color:#209ebd;\">to Load Data </span>\n",
    "</p> "
   ]
  },
  {
   "cell_type": "code",
   "execution_count": 70,
   "metadata": {},
   "outputs": [],
   "source": [
    "import pandas as pd\n",
    "import numpy as np\n",
    "pd.options.display.float_format = '{:,.0f}'.format\n",
    "#pd.set_option('display.float_format', '{:.0f}'.format)\n",
    "pd.set_option('display.max_columns', 85) # set Jupeter note book to dispay 85 columns\n",
    "dfStd = pd.read_csv('data/basInfo.csv')\n",
    "Year = str(dfStd.loc[0, 'year'])\n",
    "coFolder = str(dfStd.loc[0, 'coFolder'])"
   ]
  },
  {
   "cell_type": "markdown",
   "metadata": {},
   "source": [
    "<p style=\"padding:5px; border-bottom:3px solid #6d79a1; background:#e9edf7; margin:5px 0 -7px 20px;\"> \n",
    "   <span style=\"font-size:1.4em; color:#202f61;\" >Step 2 - </span>\n",
    "   <span style=\"font-size:1.4em; color:#e39607;\">Read Journals.csv - </span> \n",
    "   <span style=\"font-size:1.2em; color:#209ebd;\">to Refresh the data </span>\n",
    "</p> "
   ]
  },
  {
   "cell_type": "code",
   "execution_count": 71,
   "metadata": {},
   "outputs": [],
   "source": [
    "fPath = \"Data/\" +coFolder+ \"/\" +Year+ \"/C1_Gl/Journals/Journals.csv\"\n",
    "df = pd.read_csv(fPath, index_col=False, encoding='unicode_escape').fillna(0)"
   ]
  },
  {
   "cell_type": "code",
   "execution_count": 72,
   "metadata": {},
   "outputs": [],
   "source": [
    "df['unique'] = df['Ref'].astype(str)+ '-' +df['Type'].astype(str)+ '-' +df['accCode'].astype(str)"
   ]
  },
  {
   "cell_type": "code",
   "execution_count": 73,
   "metadata": {},
   "outputs": [],
   "source": [
    "### Remove Duplicate Quote and Deleted Record...\n",
    "ledger = df.drop_duplicates(subset=['unique'], keep='last')\n",
    "ledger = ledger.drop(ledger.loc[ledger['action']=='Deleted'].index)"
   ]
  },
  {
   "cell_type": "code",
   "execution_count": 74,
   "metadata": {},
   "outputs": [],
   "source": [
    "ledger = ledger.drop('unique', axis=1)"
   ]
  },
  {
   "cell_type": "code",
   "execution_count": 75,
   "metadata": {},
   "outputs": [],
   "source": [
    "### Save the data in qotBasic.csv File...\n",
    "fPath = \"Data/\" +coFolder+ \"/\" +Year+ \"/C1_Gl/Journals/Journals.csv\"\n",
    "ledger.to_csv(fPath, index=False)"
   ]
  },
  {
   "cell_type": "code",
   "execution_count": null,
   "metadata": {},
   "outputs": [],
   "source": []
  },
  {
   "cell_type": "markdown",
   "metadata": {},
   "source": [
    "<p style=\"font-size:2.2em; padding:18px; border-bottom: 5px solid #ffb701; background:#143157;\"> \n",
    "    <span style=\"color: #fff;\">Trial Balance -  </span>\n",
    "    <span style=\"font-size:.75em; color: #11a1f5;\"> To Extract Ledger </span>\n",
    "</p>"
   ]
  },
  {
   "cell_type": "markdown",
   "metadata": {},
   "source": [
    "<p style=\"padding:5px; border-bottom:3px solid #6d79a1; background:#e9edf7; margin:5px 0 -7px 20px;\"> \n",
    "   <span style=\"font-size:1.4em; color:#202f61;\" >Step 1 - </span>\n",
    "   <span style=\"font-size:1.4em; color:#e39607;\">Get Company and Year - </span> \n",
    "   <span style=\"font-size:1.2em; color:#209ebd;\">to Load Data </span>\n",
    "</p> "
   ]
  },
  {
   "cell_type": "code",
   "execution_count": 52,
   "metadata": {},
   "outputs": [],
   "source": [
    "import pandas as pd\n",
    "import numpy as np\n",
    "pd.options.display.float_format = '{:,.0f}'.format\n",
    "pd.set_option('display.max_columns', 85) # set Jupeter note book to dispay 85 columns\n",
    "dfStd = pd.read_csv('data/basInfo.csv')\n",
    "Year = str(dfStd.loc[0, 'year'])\n",
    "coFolder = str(dfStd.loc[0, 'coFolder'])"
   ]
  },
  {
   "cell_type": "markdown",
   "metadata": {},
   "source": [
    "<p style=\"padding:5px; border-bottom:3px solid #6d79a1; background:#e9edf7; margin:5px 0 -7px 20px;\"> \n",
    "   <span style=\"font-size:1.4em; color:#202f61;\" >Step 2 - </span>\n",
    "   <span style=\"font-size:1.4em; color:#e39607;\">Read Multiple Files - </span> \n",
    "   <span style=\"font-size:1.2em; color:#209ebd;\">to Create TB </span>\n",
    "</p> "
   ]
  },
  {
   "cell_type": "code",
   "execution_count": 53,
   "metadata": {},
   "outputs": [],
   "source": [
    "### Read Journals.csv to get the transaction detail...........................\n",
    "fPath = \"Data/\" +coFolder+ \"/\" +Year+ \"/C1_Gl/Journals/Journals.csv\"\n",
    "transaction = pd.read_csv(fPath, index_col=False, encoding='unicode_escape').fillna(0)"
   ]
  },
  {
   "cell_type": "code",
   "execution_count": 54,
   "metadata": {},
   "outputs": [],
   "source": [
    "### Read mergeTB.csv to get to merge transactio with mergeTB...................\n",
    "fPath = \"Data/\" +coFolder+ \"/C1_Gl/mergeTB.csv\"\n",
    "mergeTB = pd.read_csv(fPath, index_col=False, encoding='unicode_escape').fillna(0)"
   ]
  },
  {
   "cell_type": "markdown",
   "metadata": {},
   "source": [
    "<p style=\"padding:5px; border-bottom:3px solid #6d79a1; background:#e9edf7; margin:5px 0 -7px 20px;\"> \n",
    "   <span style=\"font-size:1.4em; color:#202f61;\" >Step 3 - </span>\n",
    "   <span style=\"font-size:1.4em; color:#e39607;\">Create Pivot Table - </span> \n",
    "   <span style=\"font-size:1.2em; color:#209ebd;\">to Create TB</span>\n",
    "</p> "
   ]
  },
  {
   "cell_type": "code",
   "execution_count": 55,
   "metadata": {},
   "outputs": [],
   "source": [
    "pTransaction = pd.pivot_table(transaction,index=[\"accCode\",\"accHead\"],values=[\"Amount\"],aggfunc=[np.sum],fill_value=0)"
   ]
  },
  {
   "cell_type": "code",
   "execution_count": 56,
   "metadata": {},
   "outputs": [],
   "source": [
    "pTransaction.columns = pTransaction.columns.droplevel(0)\n",
    "pTransaction.reset_index(inplace=True)"
   ]
  },
  {
   "cell_type": "markdown",
   "metadata": {},
   "source": [
    "<p style=\"padding:5px; border-bottom:3px solid #6d79a1; background:#e9edf7; margin:5px 0 -7px 20px;\"> \n",
    "   <span style=\"font-size:1.4em; color:#202f61;\" >Step 4 - </span>\n",
    "   <span style=\"font-size:1.4em; color:#e39607;\">Merge pTransaction with mergeTB- </span> \n",
    "   <span style=\"font-size:1.2em; color:#209ebd;\">to Create TB</span>\n",
    "</p> "
   ]
  },
  {
   "cell_type": "code",
   "execution_count": 57,
   "metadata": {},
   "outputs": [],
   "source": [
    "merged_df = pTransaction.merge(mergeTB[['head', 'level1', 'level2', 'level3', 'level4']], left_on='accHead', right_on='head', how='left')\n",
    "merged_df = merged_df.drop('head', axis=1).fillna('')  # Drop the 'head' column from the merged DataFrame"
   ]
  },
  {
   "cell_type": "markdown",
   "metadata": {},
   "source": [
    "<p style=\"padding:5px; border-bottom:3px solid #6d79a1; background:#e9edf7; margin:5px 0 -7px 20px;\"> \n",
    "   <span style=\"font-size:1.4em; color:#202f61;\" >Step 5 - </span>\n",
    "   <span style=\"font-size:1.4em; color:#e39607;\">Create Pivot Table - </span> \n",
    "   <span style=\"font-size:1.2em; color:#209ebd;\">to Create TB</span>\n",
    "</p> "
   ]
  },
  {
   "cell_type": "code",
   "execution_count": 58,
   "metadata": {},
   "outputs": [],
   "source": [
    "final = pd.pivot_table(merged_df,index=[\"level4\",\"accHead\",\"accCode\"],values=[\"Amount\"],aggfunc=[np.sum],fill_value=0)"
   ]
  },
  {
   "cell_type": "code",
   "execution_count": 59,
   "metadata": {},
   "outputs": [],
   "source": [
    "final.columns = final.columns.droplevel(0)\n",
    "final.reset_index(inplace=True)"
   ]
  },
  {
   "cell_type": "code",
   "execution_count": 60,
   "metadata": {},
   "outputs": [],
   "source": [
    "finalGBy = final.groupby(['level4']).agg({'Amount': 'sum'}) \n",
    "finalGBy.loc['z. Grand Total'] = finalGBy.sum()\n",
    "finalGBy.reset_index(inplace=True)"
   ]
  },
  {
   "cell_type": "code",
   "execution_count": 61,
   "metadata": {},
   "outputs": [],
   "source": [
    "tbConcat = pd.concat([final, finalGBy])"
   ]
  },
  {
   "cell_type": "code",
   "execution_count": 66,
   "metadata": {},
   "outputs": [],
   "source": [
    "tbSort = tbConcat.sort_values(['level4','accHead'], ascending = [True,True], na_position ='last')"
   ]
  },
  {
   "cell_type": "code",
   "execution_count": 63,
   "metadata": {},
   "outputs": [],
   "source": [
    "tbSort['accHead'] = tbSort['accHead'].fillna('Total')"
   ]
  },
  {
   "cell_type": "code",
   "execution_count": 50,
   "metadata": {},
   "outputs": [],
   "source": [
    "### to Hide and Show----------------------------\n",
    "tbSort['Department'] = tbSort['level4']\n",
    "tbSort['Vertical'] = tbSort['level4']\n",
    "tbSort.loc[tbSort[\"accHead\"] != \"Total\", [\"Vertical\"]] = '---' #  rlSort[\"status\"]"
   ]
  },
  {
   "cell_type": "code",
   "execution_count": 44,
   "metadata": {},
   "outputs": [],
   "source": [
    "tbSort = tbSort.fillna('')"
   ]
  },
  {
   "cell_type": "markdown",
   "metadata": {},
   "source": [
    "<p style=\"font-size:2.2em; padding:18px; border-bottom: 5px solid #ffb701; background:#143157;\"> \n",
    "    <span style=\"color: #fff;\">Arangement of Trial Balance -  </span>\n",
    "    <span style=\"font-size:.75em; color: #11a1f5;\"> Extract from Different module and make it </span>\n",
    "</p>"
   ]
  },
  {
   "cell_type": "markdown",
   "metadata": {},
   "source": [
    "<p style=\"padding:5px; border-bottom:3px solid #6d79a1; background:#e9edf7; margin:5px 0 -7px 20px;\"> \n",
    "   <span style=\"font-size:1.4em; color:#202f61;\" >Step 1 - </span>\n",
    "   <span style=\"font-size:1.4em; color:#e39607;\">Get Company and Year - </span> \n",
    "   <span style=\"font-size:1.2em; color:#209ebd;\">to Load Data </span>\n",
    "</p> "
   ]
  },
  {
   "cell_type": "code",
   "execution_count": 13,
   "metadata": {},
   "outputs": [],
   "source": [
    "import pandas as pd\n",
    "import numpy as np\n",
    "pd.options.display.float_format = '{:,.0f}'.format\n",
    "pd.set_option('display.max_columns', 85) # set Jupeter note book to dispay 85 columns\n",
    "dfStd = pd.read_csv('data/basInfo.csv')\n",
    "Year = str(dfStd.loc[0, 'year'])\n",
    "coFolder = str(dfStd.loc[0, 'coFolder'])"
   ]
  },
  {
   "cell_type": "markdown",
   "metadata": {},
   "source": [
    "<p style=\"padding:5px; border-bottom:3px solid #6d79a1; background:#e9edf7; margin:5px 0 -7px 20px;\"> \n",
    "   <span style=\"font-size:1.4em; color:#202f61;\" >Step 2 - </span>\n",
    "   <span style=\"font-size:1.4em; color:#e39607;\">Read CustMaster.csv - </span> \n",
    "   <span style=\"font-size:1.2em; color:#209ebd;\">to Refresh the data </span>\n",
    "</p> "
   ]
  },
  {
   "cell_type": "code",
   "execution_count": 21,
   "metadata": {},
   "outputs": [],
   "source": [
    "req_cols = ['cusCode','cusName']\n",
    "fPath = \"Data/\" +coFolder+ \"/\" +Year+ \"/F1_Sales/Customers/CustMaster.csv\"\n",
    "customer = pd.read_csv(fPath, usecols=req_cols, index_col=False, encoding='unicode_escape').fillna(0)\n",
    "customer['level1'] = '1. Assets'\n",
    "customer['level2'] = '2. Current Assets'\n",
    "customer['level3'] = '3. Trade Receivables'\n",
    "customer['level4'] = 'Trade Receivables'"
   ]
  },
  {
   "cell_type": "code",
   "execution_count": 22,
   "metadata": {},
   "outputs": [],
   "source": [
    "customer = customer.rename(columns={'cusCode': 'code', 'cusName': 'head'})"
   ]
  },
  {
   "cell_type": "markdown",
   "metadata": {},
   "source": [
    "<p style=\"padding:5px; border-bottom:3px solid #6d79a1; background:#e9edf7; margin:5px 0 -7px 20px;\"> \n",
    "   <span style=\"font-size:1.4em; color:#202f61;\" >Step 2 - </span>\n",
    "   <span style=\"font-size:1.4em; color:#e39607;\">Read detailTB.csv - </span> \n",
    "   <span style=\"font-size:1.2em; color:#209ebd;\">to Refresh the data </span>\n",
    "</p> "
   ]
  },
  {
   "cell_type": "code",
   "execution_count": 23,
   "metadata": {},
   "outputs": [],
   "source": [
    "req_cols = ['code','head','level1','level2','level3','level4']\n",
    "fPath = \"Data/\" +coFolder+ \"/C1_Gl/detailTB.csv\"\n",
    "TB = pd.read_csv(fPath, usecols=req_cols, index_col=False, encoding='unicode_escape').fillna(0)"
   ]
  },
  {
   "cell_type": "code",
   "execution_count": 24,
   "metadata": {},
   "outputs": [],
   "source": [
    "mergTB = pd.concat([TB, customer])\n",
    "mergTB = mergTB.reset_index(drop=True) ### Reset the index of the merged DataFrame"
   ]
  },
  {
   "cell_type": "code",
   "execution_count": 26,
   "metadata": {},
   "outputs": [],
   "source": [
    "fPath = \"Data/\" +coFolder+ \"/C1_Gl/mergeTB.csv\"\n",
    "mergTB.to_csv(fPath, index=False)"
   ]
  },
  {
   "cell_type": "code",
   "execution_count": null,
   "metadata": {},
   "outputs": [],
   "source": []
  },
  {
   "cell_type": "markdown",
   "metadata": {},
   "source": [
    "<p style=\"font-size:2.2em; padding:18px; border-bottom: 5px solid #ffb701; background:#143157;\"> \n",
    "    <span style=\"color: #fff;\">Ledger -  </span>\n",
    "    <span style=\"font-size:.75em; color: #11a1f5;\"> General Ledger CSV File </span>\n",
    "</p>"
   ]
  },
  {
   "cell_type": "markdown",
   "metadata": {},
   "source": [
    "<p style=\"padding:5px; border-bottom:3px solid #6d79a1; background:#e9edf7; margin:5px 0 -7px 20px;\"> \n",
    "   <span style=\"font-size:1.4em; color:#202f61;\" >Step 1 - </span>\n",
    "   <span style=\"font-size:1.4em; color:#e39607;\">Get Company and Year - </span> \n",
    "   <span style=\"font-size:1.2em; color:#209ebd;\">to Load Data </span>\n",
    "</p> "
   ]
  },
  {
   "cell_type": "code",
   "execution_count": 85,
   "metadata": {},
   "outputs": [],
   "source": [
    "import pandas as pd\n",
    "import numpy as np\n",
    "pd.options.display.float_format = '{:,.0f}'.format\n",
    "#pd.set_option('display.float_format', '{:.0f}'.format)\n",
    "pd.set_option('display.max_columns', 85) # set Jupeter note book to dispay 85 columns\n",
    "dfStd = pd.read_csv('data/basInfo.csv')\n",
    "Year = str(dfStd.loc[0, 'year'])\n",
    "coFolder = str(dfStd.loc[0, 'coFolder'])"
   ]
  },
  {
   "cell_type": "markdown",
   "metadata": {},
   "source": [
    "<p style=\"padding:5px; border-bottom:3px solid #6d79a1; background:#e9edf7; margin:5px 0 -7px 20px;\"> \n",
    "   <span style=\"font-size:1.4em; color:#202f61;\" >Step 2 - </span>\n",
    "   <span style=\"font-size:1.4em; color:#e39607;\">Read dlBasic.csv - </span> \n",
    "   <span style=\"font-size:1.2em; color:#209ebd;\">to Get the last Delivery Number </span>\n",
    "</p> "
   ]
  },
  {
   "cell_type": "code",
   "execution_count": 86,
   "metadata": {},
   "outputs": [],
   "source": [
    "fPath = \"Data/\" +coFolder+ \"/\" +Year+ \"/C1_Gl/Journals/Journals.csv\"\n",
    "df = pd.read_csv(fPath, index_col=False, encoding='unicode_escape').fillna(0)"
   ]
  },
  {
   "cell_type": "code",
   "execution_count": 87,
   "metadata": {},
   "outputs": [],
   "source": [
    "pk = 22310280\n",
    "dfA  = df[df['accCode'] == pk].fillna(0) ### Filter data as per 'pk' selected quote"
   ]
  },
  {
   "cell_type": "code",
   "execution_count": 88,
   "metadata": {},
   "outputs": [
    {
     "data": {
      "text/html": [
       "<div>\n",
       "<style scoped>\n",
       "    .dataframe tbody tr th:only-of-type {\n",
       "        vertical-align: middle;\n",
       "    }\n",
       "\n",
       "    .dataframe tbody tr th {\n",
       "        vertical-align: top;\n",
       "    }\n",
       "\n",
       "    .dataframe thead th {\n",
       "        text-align: right;\n",
       "    }\n",
       "</style>\n",
       "<table border=\"1\" class=\"dataframe\">\n",
       "  <thead>\n",
       "    <tr style=\"text-align: right;\">\n",
       "      <th></th>\n",
       "      <th>Ref</th>\n",
       "      <th>Type</th>\n",
       "      <th>Date</th>\n",
       "      <th>accCode</th>\n",
       "      <th>accHead</th>\n",
       "      <th>Amount</th>\n",
       "      <th>Comm</th>\n",
       "      <th>traDate</th>\n",
       "      <th>action</th>\n",
       "    </tr>\n",
       "  </thead>\n",
       "  <tbody>\n",
       "    <tr>\n",
       "      <th>296</th>\n",
       "      <td>2300031</td>\n",
       "      <td>si</td>\n",
       "      <td>2023-02-03</td>\n",
       "      <td>22310280</td>\n",
       "      <td>Gulf Beauty Salon - Abu Dhabi</td>\n",
       "      <td>142800</td>\n",
       "      <td>G5 Slimming &amp; Hiemt A to Gulf Beauty Salon - A...</td>\n",
       "      <td>2023-5-29 22-38-7</td>\n",
       "      <td>0</td>\n",
       "    </tr>\n",
       "    <tr>\n",
       "      <th>344</th>\n",
       "      <td>2300047</td>\n",
       "      <td>si</td>\n",
       "      <td>2023-04-18</td>\n",
       "      <td>22310280</td>\n",
       "      <td>Gulf Beauty Salon - Abu Dhabi</td>\n",
       "      <td>32839</td>\n",
       "      <td>Near Salam Furniture Old Airport Road Abu Dhab...</td>\n",
       "      <td>2023-5-29 22-41-26</td>\n",
       "      <td>0</td>\n",
       "    </tr>\n",
       "    <tr>\n",
       "      <th>350</th>\n",
       "      <td>2300049</td>\n",
       "      <td>si</td>\n",
       "      <td>2023-03-04</td>\n",
       "      <td>22310280</td>\n",
       "      <td>Gulf Beauty Salon - Abu Dhabi</td>\n",
       "      <td>29379</td>\n",
       "      <td>SVTA Radio and hand piece to  Gulf Beauty Salo...</td>\n",
       "      <td>2023-5-29 22-41-51</td>\n",
       "      <td>0</td>\n",
       "    </tr>\n",
       "  </tbody>\n",
       "</table>\n",
       "</div>"
      ],
      "text/plain": [
       "         Ref Type        Date   accCode                        accHead  \\\n",
       "296  2300031   si  2023-02-03  22310280  Gulf Beauty Salon - Abu Dhabi   \n",
       "344  2300047   si  2023-04-18  22310280  Gulf Beauty Salon - Abu Dhabi   \n",
       "350  2300049   si  2023-03-04  22310280  Gulf Beauty Salon - Abu Dhabi   \n",
       "\n",
       "     Amount                                               Comm  \\\n",
       "296  142800  G5 Slimming & Hiemt A to Gulf Beauty Salon - A...   \n",
       "344   32839  Near Salam Furniture Old Airport Road Abu Dhab...   \n",
       "350   29379  SVTA Radio and hand piece to  Gulf Beauty Salo...   \n",
       "\n",
       "                traDate action  \n",
       "296   2023-5-29 22-38-7      0  \n",
       "344  2023-5-29 22-41-26      0  \n",
       "350  2023-5-29 22-41-51      0  "
      ]
     },
     "execution_count": 88,
     "metadata": {},
     "output_type": "execute_result"
    }
   ],
   "source": [
    "dfA"
   ]
  },
  {
   "cell_type": "code",
   "execution_count": 79,
   "metadata": {},
   "outputs": [],
   "source": [
    "ledgerA = dfA[['Date','accCode','accHead','Ref','Type','Amount','Comm']]"
   ]
  },
  {
   "cell_type": "code",
   "execution_count": 83,
   "metadata": {},
   "outputs": [],
   "source": [
    "ledgerB = ledgerA.copy()"
   ]
  },
  {
   "cell_type": "code",
   "execution_count": 84,
   "metadata": {},
   "outputs": [
    {
     "data": {
      "text/html": [
       "<div>\n",
       "<style scoped>\n",
       "    .dataframe tbody tr th:only-of-type {\n",
       "        vertical-align: middle;\n",
       "    }\n",
       "\n",
       "    .dataframe tbody tr th {\n",
       "        vertical-align: top;\n",
       "    }\n",
       "\n",
       "    .dataframe thead th {\n",
       "        text-align: right;\n",
       "    }\n",
       "</style>\n",
       "<table border=\"1\" class=\"dataframe\">\n",
       "  <thead>\n",
       "    <tr style=\"text-align: right;\">\n",
       "      <th></th>\n",
       "      <th>Date</th>\n",
       "      <th>accCode</th>\n",
       "      <th>accHead</th>\n",
       "      <th>Ref</th>\n",
       "      <th>Type</th>\n",
       "      <th>Amount</th>\n",
       "      <th>Balance</th>\n",
       "    </tr>\n",
       "  </thead>\n",
       "  <tbody>\n",
       "    <tr>\n",
       "      <th>296</th>\n",
       "      <td>2023-02-03</td>\n",
       "      <td>22310280</td>\n",
       "      <td>Gulf Beauty Salon - Abu Dhabi</td>\n",
       "      <td>2300031</td>\n",
       "      <td>si</td>\n",
       "      <td>142800</td>\n",
       "      <td>142800</td>\n",
       "    </tr>\n",
       "    <tr>\n",
       "      <th>344</th>\n",
       "      <td>2023-04-18</td>\n",
       "      <td>22310280</td>\n",
       "      <td>Gulf Beauty Salon - Abu Dhabi</td>\n",
       "      <td>2300047</td>\n",
       "      <td>si</td>\n",
       "      <td>32839</td>\n",
       "      <td>175639</td>\n",
       "    </tr>\n",
       "    <tr>\n",
       "      <th>350</th>\n",
       "      <td>2023-03-04</td>\n",
       "      <td>22310280</td>\n",
       "      <td>Gulf Beauty Salon - Abu Dhabi</td>\n",
       "      <td>2300049</td>\n",
       "      <td>si</td>\n",
       "      <td>29379</td>\n",
       "      <td>205018</td>\n",
       "    </tr>\n",
       "  </tbody>\n",
       "</table>\n",
       "</div>"
      ],
      "text/plain": [
       "           Date   accCode                        accHead      Ref Type  \\\n",
       "296  2023-02-03  22310280  Gulf Beauty Salon - Abu Dhabi  2300031   si   \n",
       "344  2023-04-18  22310280  Gulf Beauty Salon - Abu Dhabi  2300047   si   \n",
       "350  2023-03-04  22310280  Gulf Beauty Salon - Abu Dhabi  2300049   si   \n",
       "\n",
       "     Amount  Balance  \n",
       "296  142800   142800  \n",
       "344   32839   175639  \n",
       "350   29379   205018  "
      ]
     },
     "execution_count": 84,
     "metadata": {},
     "output_type": "execute_result"
    }
   ],
   "source": [
    "ledgerB['Balance'] = ledgerB['Amount'].cumsum()\n",
    "ledgerB"
   ]
  },
  {
   "cell_type": "markdown",
   "metadata": {},
   "source": [
    "<p style=\"font-size:2.2em; padding:18px; border-bottom: 5px solid #ffb701; background:#143157;\"> \n",
    "    <span style=\"color: #fff;\">Sales Analysis -  </span>\n",
    "    <span style=\"font-size:.75em; color: #11a1f5;\"> Detail Sales Analysis </span>\n",
    "</p>"
   ]
  },
  {
   "cell_type": "markdown",
   "metadata": {},
   "source": [
    "<p style=\"padding:5px; border-bottom:3px solid #6d79a1; background:#e9edf7; margin:5px 0 -7px 20px;\"> \n",
    "   <span style=\"font-size:1.4em; color:#202f61;\" >Step 1 - </span>\n",
    "   <span style=\"font-size:1.4em; color:#e39607;\">Get Company and Year - </span> \n",
    "   <span style=\"font-size:1.2em; color:#209ebd;\">to Load Data </span>\n",
    "</p> "
   ]
  },
  {
   "cell_type": "code",
   "execution_count": 97,
   "metadata": {},
   "outputs": [],
   "source": [
    "import pandas as pd\n",
    "import numpy as np\n",
    "pd.options.display.float_format = '{:,.0f}'.format\n",
    "#pd.set_option('display.float_format', '{:.0f}'.format)\n",
    "pd.set_option('display.max_columns', 85) # set Jupeter note book to dispay 85 columns\n",
    "dfStd = pd.read_csv('data/basInfo.csv')\n",
    "Year = str(dfStd.loc[0, 'year'])\n",
    "coFolder = str(dfStd.loc[0, 'coFolder'])"
   ]
  },
  {
   "cell_type": "markdown",
   "metadata": {},
   "source": [
    "<p style=\"padding:5px; border-bottom:3px solid #6d79a1; background:#e9edf7; margin:5px 0 -7px 20px;\"> \n",
    "   <span style=\"font-size:1.4em; color:#202f61;\" >Step 2 - </span>\n",
    "   <span style=\"font-size:1.4em; color:#e39607;\">Read dlBasic.csv - </span> \n",
    "   <span style=\"font-size:1.2em; color:#209ebd;\">to Get the last Delivery Number </span>\n",
    "</p> "
   ]
  },
  {
   "cell_type": "code",
   "execution_count": 98,
   "metadata": {},
   "outputs": [],
   "source": [
    "fPath = \"Data/\" +coFolder+ \"/\" +Year+ \"/C1_Gl/Journals/Journals.csv\"\n",
    "df = pd.read_csv(fPath, index_col=False, encoding='unicode_escape').fillna(0)"
   ]
  },
  {
   "cell_type": "markdown",
   "metadata": {},
   "source": [
    "<p style=\"padding:5px; border-bottom:3px solid #6d79a1; background:#e9edf7; margin:5px 0 -7px 20px;\"> \n",
    "   <span style=\"font-size:1.4em; color:#202f61;\" >Step 3 - </span>\n",
    "   <span style=\"font-size:1.4em; color:#e39607;\">Create Customer Pivot Table - </span> \n",
    "   <span style=\"font-size:1.2em; color:#209ebd;\">to Get top 10 Customer</span>\n",
    "</p> "
   ]
  },
  {
   "cell_type": "code",
   "execution_count": 99,
   "metadata": {},
   "outputs": [],
   "source": [
    "### Filter data To Get Customer Only --------------------------------------\n",
    "dfA  = df[df['Type'] == 'si'].fillna(0)\n",
    "filtered_df = dfA[(dfA['accCode'] >= 20000000) & (dfA['accCode'] <= 29999999)]"
   ]
  },
  {
   "cell_type": "code",
   "execution_count": 104,
   "metadata": {},
   "outputs": [],
   "source": [
    "### Create Pivot Table -----------------------------------------\n",
    "byCustomer = pd.pivot_table(filtered_df,index=[\"accCode\",\"accHead\"],values=[\"Amount\"],aggfunc=[np.sum],fill_value=0)\n",
    "byCustomer.columns = byCustomer.columns.droplevel(0)\n",
    "byCustomer.reset_index(inplace=True)"
   ]
  },
  {
   "cell_type": "code",
   "execution_count": 108,
   "metadata": {},
   "outputs": [],
   "source": [
    "### Create Top 10 Customer -----------------------------------------\n",
    "sorted_df = byCustomer.sort_values('Amount', ascending=False)  # Sort the DataFrame\n",
    "top_10 = sorted_df.head(10) # Filter the top 10 rows"
   ]
  },
  {
   "cell_type": "code",
   "execution_count": 109,
   "metadata": {},
   "outputs": [
    {
     "data": {
      "text/html": [
       "<div>\n",
       "<style scoped>\n",
       "    .dataframe tbody tr th:only-of-type {\n",
       "        vertical-align: middle;\n",
       "    }\n",
       "\n",
       "    .dataframe tbody tr th {\n",
       "        vertical-align: top;\n",
       "    }\n",
       "\n",
       "    .dataframe thead th {\n",
       "        text-align: right;\n",
       "    }\n",
       "</style>\n",
       "<table border=\"1\" class=\"dataframe\">\n",
       "  <thead>\n",
       "    <tr style=\"text-align: right;\">\n",
       "      <th></th>\n",
       "      <th>accCode</th>\n",
       "      <th>accHead</th>\n",
       "      <th>Amount</th>\n",
       "    </tr>\n",
       "  </thead>\n",
       "  <tbody>\n",
       "    <tr>\n",
       "      <th>7</th>\n",
       "      <td>22310182</td>\n",
       "      <td>Spaces Spa Center</td>\n",
       "      <td>245238</td>\n",
       "    </tr>\n",
       "    <tr>\n",
       "      <th>2</th>\n",
       "      <td>22310093</td>\n",
       "      <td>Women's Medical Center (Dr. Ameena)</td>\n",
       "      <td>233704</td>\n",
       "    </tr>\n",
       "    <tr>\n",
       "      <th>8</th>\n",
       "      <td>22310200</td>\n",
       "      <td>German Clinic FZ LLC</td>\n",
       "      <td>215828</td>\n",
       "    </tr>\n",
       "    <tr>\n",
       "      <th>13</th>\n",
       "      <td>22310280</td>\n",
       "      <td>Gulf Beauty Salon - Abu Dhabi</td>\n",
       "      <td>205018</td>\n",
       "    </tr>\n",
       "    <tr>\n",
       "      <th>12</th>\n",
       "      <td>22310269</td>\n",
       "      <td>Flora Beauty Spa</td>\n",
       "      <td>189210</td>\n",
       "    </tr>\n",
       "    <tr>\n",
       "      <th>0</th>\n",
       "      <td>22310029</td>\n",
       "      <td>Al Jameya Pharmacy</td>\n",
       "      <td>184742</td>\n",
       "    </tr>\n",
       "    <tr>\n",
       "      <th>1</th>\n",
       "      <td>22310055</td>\n",
       "      <td>Al Noor Pharmacy</td>\n",
       "      <td>174594</td>\n",
       "    </tr>\n",
       "    <tr>\n",
       "      <th>3</th>\n",
       "      <td>22310097</td>\n",
       "      <td>Sahar Pharmacy</td>\n",
       "      <td>173135</td>\n",
       "    </tr>\n",
       "    <tr>\n",
       "      <th>9</th>\n",
       "      <td>22310207</td>\n",
       "      <td>Delta Pharmacy</td>\n",
       "      <td>157500</td>\n",
       "    </tr>\n",
       "    <tr>\n",
       "      <th>4</th>\n",
       "      <td>22310102</td>\n",
       "      <td>Health &amp;amp; Aesthetic Medical Center</td>\n",
       "      <td>135345</td>\n",
       "    </tr>\n",
       "  </tbody>\n",
       "</table>\n",
       "</div>"
      ],
      "text/plain": [
       "     accCode                                accHead  Amount\n",
       "7   22310182                      Spaces Spa Center  245238\n",
       "2   22310093    Women's Medical Center (Dr. Ameena)  233704\n",
       "8   22310200                   German Clinic FZ LLC  215828\n",
       "13  22310280          Gulf Beauty Salon - Abu Dhabi  205018\n",
       "12  22310269                       Flora Beauty Spa  189210\n",
       "0   22310029                     Al Jameya Pharmacy  184742\n",
       "1   22310055                       Al Noor Pharmacy  174594\n",
       "3   22310097                         Sahar Pharmacy  173135\n",
       "9   22310207                         Delta Pharmacy  157500\n",
       "4   22310102  Health &amp; Aesthetic Medical Center  135345"
      ]
     },
     "execution_count": 109,
     "metadata": {},
     "output_type": "execute_result"
    }
   ],
   "source": [
    "top_10"
   ]
  },
  {
   "cell_type": "code",
   "execution_count": null,
   "metadata": {},
   "outputs": [],
   "source": []
  }
 ],
 "metadata": {
  "celltoolbar": "Raw Cell Format",
  "kernelspec": {
   "display_name": "Python 3 (ipykernel)",
   "language": "python",
   "name": "python3"
  },
  "language_info": {
   "codemirror_mode": {
    "name": "ipython",
    "version": 3
   },
   "file_extension": ".py",
   "mimetype": "text/x-python",
   "name": "python",
   "nbconvert_exporter": "python",
   "pygments_lexer": "ipython3",
   "version": "3.9.12"
  }
 },
 "nbformat": 4,
 "nbformat_minor": 2
}
