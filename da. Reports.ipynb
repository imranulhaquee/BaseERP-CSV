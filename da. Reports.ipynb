{
 "cells": [
  {
   "cell_type": "markdown",
   "metadata": {},
   "source": [
    "<p style=\"font-family:Calibri; font-size:1.75em; color:white; padding:5px 5px; text-align: left; height:50px; border-bottom: 1px solid orange; background:#f5eab8\"></p>"
   ]
  },
  {
   "cell_type": "markdown",
   "metadata": {},
   "source": [
    "<p style=\"font-size:2.2em; color:white; padding:25px; border-bottom: 5px solid #ffb701; background:#143157;\"> \n",
    "    Sales Target by Supplier - <span style=\"font-size:.75em; color: #11a1f5;\"> from excel file </span></p>\n",
    "Read data from csv in Pandas"
   ]
  },
  {
   "cell_type": "code",
   "execution_count": 76,
   "metadata": {},
   "outputs": [],
   "source": [
    "import pandas as pd\n",
    "import numpy as np\n",
    "pd.options.display.float_format = '{:,.0f}'.format\n",
    "pd.set_option('display.max_columns', 85) # set Jupeter note book to dispay 85 columns"
   ]
  },
  {
   "cell_type": "markdown",
   "metadata": {},
   "source": [
    "<p style=\"padding:5px; border-bottom:3px solid orange; background:#3c5c75; margin:25px 0 -7px 0;\"> \n",
    "   <span style=\"font-size:1.5em; color:#f7ca25;\" >Step 1 -</span>\n",
    "   <span style=\"font-size:1.5em; color:white;\">Read CSV files  - </span> \n",
    "   <span style=\"font-size:1.2em; color:#17cffc;\">\"Employee Target\"</span>\n",
    "</p> "
   ]
  },
  {
   "cell_type": "code",
   "execution_count": 77,
   "metadata": {},
   "outputs": [],
   "source": [
    "df = pd.read_csv(\"Data/2023/I1_Hrm/Employees/empTarget.csv\", index_col=False ,encoding='unicode_escape').fillna(0)"
   ]
  },
  {
   "cell_type": "markdown",
   "metadata": {},
   "source": [
    "<p style=\"font-family:Calibri; font-size:1.2em; color:#061233; padding:5px 5px; margin: 10px 0 -7px 20px;\n",
    "border-bottom: 3px solid #0d1e4f; background: #e3e9fa\">  \n",
    "Step 1a - Remove Duplicate Line and Deleted Record</p>"
   ]
  },
  {
   "cell_type": "code",
   "execution_count": 78,
   "metadata": {},
   "outputs": [],
   "source": [
    "DataA = df.drop_duplicates(subset=['empCode'], keep='last')\n",
    "DataB = DataA.drop(DataA.loc[DataA['comment']=='Delete'].index)"
   ]
  },
  {
   "cell_type": "markdown",
   "metadata": {},
   "source": [
    "<p style=\"font-family:Calibri; font-size:1.2em; color:#061233; padding:5px 5px; margin: 10px 0 -7px 20px;\n",
    "border-bottom: 3px solid #0d1e4f; background: #e3e9fa\">  \n",
    "Step 1b - Combine Employee Code and Transaction Time</p>"
   ]
  },
  {
   "cell_type": "code",
   "execution_count": 79,
   "metadata": {},
   "outputs": [
    {
     "ename": "TypeError",
     "evalue": "can only concatenate str (not \"float\") to str",
     "output_type": "error",
     "traceback": [
      "\u001b[1;31m---------------------------------------------------------------------------\u001b[0m",
      "\u001b[1;31mTypeError\u001b[0m                                 Traceback (most recent call last)",
      "File \u001b[1;32mC:\\ProgramData\\Anaconda3\\lib\\site-packages\\pandas\\core\\ops\\array_ops.py:163\u001b[0m, in \u001b[0;36m_na_arithmetic_op\u001b[1;34m(left, right, op, is_cmp)\u001b[0m\n\u001b[0;32m    162\u001b[0m \u001b[38;5;28;01mtry\u001b[39;00m:\n\u001b[1;32m--> 163\u001b[0m     result \u001b[38;5;241m=\u001b[39m \u001b[43mfunc\u001b[49m\u001b[43m(\u001b[49m\u001b[43mleft\u001b[49m\u001b[43m,\u001b[49m\u001b[43m \u001b[49m\u001b[43mright\u001b[49m\u001b[43m)\u001b[49m\n\u001b[0;32m    164\u001b[0m \u001b[38;5;28;01mexcept\u001b[39;00m \u001b[38;5;167;01mTypeError\u001b[39;00m:\n",
      "File \u001b[1;32mC:\\ProgramData\\Anaconda3\\lib\\site-packages\\pandas\\core\\computation\\expressions.py:239\u001b[0m, in \u001b[0;36mevaluate\u001b[1;34m(op, a, b, use_numexpr)\u001b[0m\n\u001b[0;32m    237\u001b[0m     \u001b[38;5;28;01mif\u001b[39;00m use_numexpr:\n\u001b[0;32m    238\u001b[0m         \u001b[38;5;66;03m# error: \"None\" not callable\u001b[39;00m\n\u001b[1;32m--> 239\u001b[0m         \u001b[38;5;28;01mreturn\u001b[39;00m \u001b[43m_evaluate\u001b[49m\u001b[43m(\u001b[49m\u001b[43mop\u001b[49m\u001b[43m,\u001b[49m\u001b[43m \u001b[49m\u001b[43mop_str\u001b[49m\u001b[43m,\u001b[49m\u001b[43m \u001b[49m\u001b[43ma\u001b[49m\u001b[43m,\u001b[49m\u001b[43m \u001b[49m\u001b[43mb\u001b[49m\u001b[43m)\u001b[49m  \u001b[38;5;66;03m# type: ignore[misc]\u001b[39;00m\n\u001b[0;32m    240\u001b[0m \u001b[38;5;28;01mreturn\u001b[39;00m _evaluate_standard(op, op_str, a, b)\n",
      "File \u001b[1;32mC:\\ProgramData\\Anaconda3\\lib\\site-packages\\pandas\\core\\computation\\expressions.py:128\u001b[0m, in \u001b[0;36m_evaluate_numexpr\u001b[1;34m(op, op_str, a, b)\u001b[0m\n\u001b[0;32m    127\u001b[0m \u001b[38;5;28;01mif\u001b[39;00m result \u001b[38;5;129;01mis\u001b[39;00m \u001b[38;5;28;01mNone\u001b[39;00m:\n\u001b[1;32m--> 128\u001b[0m     result \u001b[38;5;241m=\u001b[39m \u001b[43m_evaluate_standard\u001b[49m\u001b[43m(\u001b[49m\u001b[43mop\u001b[49m\u001b[43m,\u001b[49m\u001b[43m \u001b[49m\u001b[43mop_str\u001b[49m\u001b[43m,\u001b[49m\u001b[43m \u001b[49m\u001b[43ma\u001b[49m\u001b[43m,\u001b[49m\u001b[43m \u001b[49m\u001b[43mb\u001b[49m\u001b[43m)\u001b[49m\n\u001b[0;32m    130\u001b[0m \u001b[38;5;28;01mreturn\u001b[39;00m result\n",
      "File \u001b[1;32mC:\\ProgramData\\Anaconda3\\lib\\site-packages\\pandas\\core\\computation\\expressions.py:69\u001b[0m, in \u001b[0;36m_evaluate_standard\u001b[1;34m(op, op_str, a, b)\u001b[0m\n\u001b[0;32m     68\u001b[0m     _store_test_result(\u001b[38;5;28;01mFalse\u001b[39;00m)\n\u001b[1;32m---> 69\u001b[0m \u001b[38;5;28;01mreturn\u001b[39;00m \u001b[43mop\u001b[49m\u001b[43m(\u001b[49m\u001b[43ma\u001b[49m\u001b[43m,\u001b[49m\u001b[43m \u001b[49m\u001b[43mb\u001b[49m\u001b[43m)\u001b[49m\n",
      "\u001b[1;31mTypeError\u001b[0m: can only concatenate str (not \"float\") to str",
      "\nDuring handling of the above exception, another exception occurred:\n",
      "\u001b[1;31mTypeError\u001b[0m                                 Traceback (most recent call last)",
      "Input \u001b[1;32mIn [79]\u001b[0m, in \u001b[0;36m<cell line: 1>\u001b[1;34m()\u001b[0m\n\u001b[1;32m----> 1\u001b[0m DataB[\u001b[38;5;124m'\u001b[39m\u001b[38;5;124mcombined\u001b[39m\u001b[38;5;124m'\u001b[39m] \u001b[38;5;241m=\u001b[39m \u001b[43mDataB\u001b[49m\u001b[43m[\u001b[49m\u001b[38;5;124;43m'\u001b[39;49m\u001b[38;5;124;43mempCode\u001b[39;49m\u001b[38;5;124;43m'\u001b[39;49m\u001b[43m]\u001b[49m\u001b[38;5;241;43m.\u001b[39;49m\u001b[43mastype\u001b[49m\u001b[43m(\u001b[49m\u001b[38;5;28;43mstr\u001b[39;49m\u001b[43m)\u001b[49m\u001b[38;5;241;43m+\u001b[39;49m\u001b[38;5;124;43m\"\u001b[39;49m\u001b[38;5;124;43m \u001b[39;49m\u001b[38;5;124;43m\"\u001b[39;49m\u001b[38;5;241;43m+\u001b[39;49m\u001b[43mDataB\u001b[49m\u001b[43m[\u001b[49m\u001b[38;5;124;43m'\u001b[39;49m\u001b[38;5;124;43mcomment\u001b[39;49m\u001b[38;5;124;43m'\u001b[39;49m\u001b[43m]\u001b[49m\n",
      "File \u001b[1;32mC:\\ProgramData\\Anaconda3\\lib\\site-packages\\pandas\\core\\ops\\common.py:70\u001b[0m, in \u001b[0;36m_unpack_zerodim_and_defer.<locals>.new_method\u001b[1;34m(self, other)\u001b[0m\n\u001b[0;32m     66\u001b[0m             \u001b[38;5;28;01mreturn\u001b[39;00m \u001b[38;5;28mNotImplemented\u001b[39m\n\u001b[0;32m     68\u001b[0m other \u001b[38;5;241m=\u001b[39m item_from_zerodim(other)\n\u001b[1;32m---> 70\u001b[0m \u001b[38;5;28;01mreturn\u001b[39;00m \u001b[43mmethod\u001b[49m\u001b[43m(\u001b[49m\u001b[38;5;28;43mself\u001b[39;49m\u001b[43m,\u001b[49m\u001b[43m \u001b[49m\u001b[43mother\u001b[49m\u001b[43m)\u001b[49m\n",
      "File \u001b[1;32mC:\\ProgramData\\Anaconda3\\lib\\site-packages\\pandas\\core\\arraylike.py:100\u001b[0m, in \u001b[0;36mOpsMixin.__add__\u001b[1;34m(self, other)\u001b[0m\n\u001b[0;32m     98\u001b[0m \u001b[38;5;129m@unpack_zerodim_and_defer\u001b[39m(\u001b[38;5;124m\"\u001b[39m\u001b[38;5;124m__add__\u001b[39m\u001b[38;5;124m\"\u001b[39m)\n\u001b[0;32m     99\u001b[0m \u001b[38;5;28;01mdef\u001b[39;00m \u001b[38;5;21m__add__\u001b[39m(\u001b[38;5;28mself\u001b[39m, other):\n\u001b[1;32m--> 100\u001b[0m     \u001b[38;5;28;01mreturn\u001b[39;00m \u001b[38;5;28;43mself\u001b[39;49m\u001b[38;5;241;43m.\u001b[39;49m\u001b[43m_arith_method\u001b[49m\u001b[43m(\u001b[49m\u001b[43mother\u001b[49m\u001b[43m,\u001b[49m\u001b[43m \u001b[49m\u001b[43moperator\u001b[49m\u001b[38;5;241;43m.\u001b[39;49m\u001b[43madd\u001b[49m\u001b[43m)\u001b[49m\n",
      "File \u001b[1;32mC:\\ProgramData\\Anaconda3\\lib\\site-packages\\pandas\\core\\series.py:5639\u001b[0m, in \u001b[0;36mSeries._arith_method\u001b[1;34m(self, other, op)\u001b[0m\n\u001b[0;32m   5637\u001b[0m \u001b[38;5;28;01mdef\u001b[39;00m \u001b[38;5;21m_arith_method\u001b[39m(\u001b[38;5;28mself\u001b[39m, other, op):\n\u001b[0;32m   5638\u001b[0m     \u001b[38;5;28mself\u001b[39m, other \u001b[38;5;241m=\u001b[39m ops\u001b[38;5;241m.\u001b[39malign_method_SERIES(\u001b[38;5;28mself\u001b[39m, other)\n\u001b[1;32m-> 5639\u001b[0m     \u001b[38;5;28;01mreturn\u001b[39;00m \u001b[43mbase\u001b[49m\u001b[38;5;241;43m.\u001b[39;49m\u001b[43mIndexOpsMixin\u001b[49m\u001b[38;5;241;43m.\u001b[39;49m\u001b[43m_arith_method\u001b[49m\u001b[43m(\u001b[49m\u001b[38;5;28;43mself\u001b[39;49m\u001b[43m,\u001b[49m\u001b[43m \u001b[49m\u001b[43mother\u001b[49m\u001b[43m,\u001b[49m\u001b[43m \u001b[49m\u001b[43mop\u001b[49m\u001b[43m)\u001b[49m\n",
      "File \u001b[1;32mC:\\ProgramData\\Anaconda3\\lib\\site-packages\\pandas\\core\\base.py:1295\u001b[0m, in \u001b[0;36mIndexOpsMixin._arith_method\u001b[1;34m(self, other, op)\u001b[0m\n\u001b[0;32m   1292\u001b[0m rvalues \u001b[38;5;241m=\u001b[39m ensure_wrapped_if_datetimelike(rvalues)\n\u001b[0;32m   1294\u001b[0m \u001b[38;5;28;01mwith\u001b[39;00m np\u001b[38;5;241m.\u001b[39merrstate(\u001b[38;5;28mall\u001b[39m\u001b[38;5;241m=\u001b[39m\u001b[38;5;124m\"\u001b[39m\u001b[38;5;124mignore\u001b[39m\u001b[38;5;124m\"\u001b[39m):\n\u001b[1;32m-> 1295\u001b[0m     result \u001b[38;5;241m=\u001b[39m \u001b[43mops\u001b[49m\u001b[38;5;241;43m.\u001b[39;49m\u001b[43marithmetic_op\u001b[49m\u001b[43m(\u001b[49m\u001b[43mlvalues\u001b[49m\u001b[43m,\u001b[49m\u001b[43m \u001b[49m\u001b[43mrvalues\u001b[49m\u001b[43m,\u001b[49m\u001b[43m \u001b[49m\u001b[43mop\u001b[49m\u001b[43m)\u001b[49m\n\u001b[0;32m   1297\u001b[0m \u001b[38;5;28;01mreturn\u001b[39;00m \u001b[38;5;28mself\u001b[39m\u001b[38;5;241m.\u001b[39m_construct_result(result, name\u001b[38;5;241m=\u001b[39mres_name)\n",
      "File \u001b[1;32mC:\\ProgramData\\Anaconda3\\lib\\site-packages\\pandas\\core\\ops\\array_ops.py:222\u001b[0m, in \u001b[0;36marithmetic_op\u001b[1;34m(left, right, op)\u001b[0m\n\u001b[0;32m    217\u001b[0m \u001b[38;5;28;01melse\u001b[39;00m:\n\u001b[0;32m    218\u001b[0m     \u001b[38;5;66;03m# TODO we should handle EAs consistently and move this check before the if/else\u001b[39;00m\n\u001b[0;32m    219\u001b[0m     \u001b[38;5;66;03m# (https://github.com/pandas-dev/pandas/issues/41165)\u001b[39;00m\n\u001b[0;32m    220\u001b[0m     _bool_arith_check(op, left, right)\n\u001b[1;32m--> 222\u001b[0m     res_values \u001b[38;5;241m=\u001b[39m \u001b[43m_na_arithmetic_op\u001b[49m\u001b[43m(\u001b[49m\u001b[43mleft\u001b[49m\u001b[43m,\u001b[49m\u001b[43m \u001b[49m\u001b[43mright\u001b[49m\u001b[43m,\u001b[49m\u001b[43m \u001b[49m\u001b[43mop\u001b[49m\u001b[43m)\u001b[49m\n\u001b[0;32m    224\u001b[0m \u001b[38;5;28;01mreturn\u001b[39;00m res_values\n",
      "File \u001b[1;32mC:\\ProgramData\\Anaconda3\\lib\\site-packages\\pandas\\core\\ops\\array_ops.py:170\u001b[0m, in \u001b[0;36m_na_arithmetic_op\u001b[1;34m(left, right, op, is_cmp)\u001b[0m\n\u001b[0;32m    164\u001b[0m \u001b[38;5;28;01mexcept\u001b[39;00m \u001b[38;5;167;01mTypeError\u001b[39;00m:\n\u001b[0;32m    165\u001b[0m     \u001b[38;5;28;01mif\u001b[39;00m \u001b[38;5;129;01mnot\u001b[39;00m is_cmp \u001b[38;5;129;01mand\u001b[39;00m (is_object_dtype(left\u001b[38;5;241m.\u001b[39mdtype) \u001b[38;5;129;01mor\u001b[39;00m is_object_dtype(right)):\n\u001b[0;32m    166\u001b[0m         \u001b[38;5;66;03m# For object dtype, fallback to a masked operation (only operating\u001b[39;00m\n\u001b[0;32m    167\u001b[0m         \u001b[38;5;66;03m#  on the non-missing values)\u001b[39;00m\n\u001b[0;32m    168\u001b[0m         \u001b[38;5;66;03m# Don't do this for comparisons, as that will handle complex numbers\u001b[39;00m\n\u001b[0;32m    169\u001b[0m         \u001b[38;5;66;03m#  incorrectly, see GH#32047\u001b[39;00m\n\u001b[1;32m--> 170\u001b[0m         result \u001b[38;5;241m=\u001b[39m \u001b[43m_masked_arith_op\u001b[49m\u001b[43m(\u001b[49m\u001b[43mleft\u001b[49m\u001b[43m,\u001b[49m\u001b[43m \u001b[49m\u001b[43mright\u001b[49m\u001b[43m,\u001b[49m\u001b[43m \u001b[49m\u001b[43mop\u001b[49m\u001b[43m)\u001b[49m\n\u001b[0;32m    171\u001b[0m     \u001b[38;5;28;01melse\u001b[39;00m:\n\u001b[0;32m    172\u001b[0m         \u001b[38;5;28;01mraise\u001b[39;00m\n",
      "File \u001b[1;32mC:\\ProgramData\\Anaconda3\\lib\\site-packages\\pandas\\core\\ops\\array_ops.py:108\u001b[0m, in \u001b[0;36m_masked_arith_op\u001b[1;34m(x, y, op)\u001b[0m\n\u001b[0;32m    106\u001b[0m     \u001b[38;5;66;03m# See GH#5284, GH#5035, GH#19448 for historical reference\u001b[39;00m\n\u001b[0;32m    107\u001b[0m     \u001b[38;5;28;01mif\u001b[39;00m mask\u001b[38;5;241m.\u001b[39many():\n\u001b[1;32m--> 108\u001b[0m         result[mask] \u001b[38;5;241m=\u001b[39m \u001b[43mop\u001b[49m\u001b[43m(\u001b[49m\u001b[43mxrav\u001b[49m\u001b[43m[\u001b[49m\u001b[43mmask\u001b[49m\u001b[43m]\u001b[49m\u001b[43m,\u001b[49m\u001b[43m \u001b[49m\u001b[43myrav\u001b[49m\u001b[43m[\u001b[49m\u001b[43mmask\u001b[49m\u001b[43m]\u001b[49m\u001b[43m)\u001b[49m\n\u001b[0;32m    110\u001b[0m \u001b[38;5;28;01melse\u001b[39;00m:\n\u001b[0;32m    111\u001b[0m     \u001b[38;5;28;01mif\u001b[39;00m \u001b[38;5;129;01mnot\u001b[39;00m is_scalar(y):\n",
      "\u001b[1;31mTypeError\u001b[0m: can only concatenate str (not \"float\") to str"
     ]
    }
   ],
   "source": [
    "DataB['combined'] = DataB['empCode'].astype(str)+\" \"+DataB['comment']"
   ]
  },
  {
   "cell_type": "markdown",
   "metadata": {},
   "source": [
    "<p style=\"font-family:Calibri; font-size:1.2em; color:#061233; padding:5px 5px; margin: 10px 0 -7px 20px;\n",
    "border-bottom: 3px solid #0d1e4f; background: #e3e9fa\">  \n",
    "Step 1c- Select the Combine Column and convert it into a \"LIST\"</p>"
   ]
  },
  {
   "cell_type": "code",
   "execution_count": null,
   "metadata": {},
   "outputs": [],
   "source": [
    "List = DataB[\"combined\"] #.tolist()"
   ]
  },
  {
   "cell_type": "markdown",
   "metadata": {},
   "source": [
    "<p style=\"padding:5px; border-bottom:3px solid orange; background:#3c5c75; margin:25px 0 -7px 0;\"> \n",
    "   <span style=\"font-size:1.5em; color:#f7ca25;\" >Step 2 -</span>\n",
    "   <span style=\"font-size:1.5em; color:white;\">Read CSV files  - </span> \n",
    "   <span style=\"font-size:1.2em; color:#17cffc;\">\" Employee Target Detail\"</span>\n",
    "</p> "
   ]
  },
  {
   "cell_type": "code",
   "execution_count": 19,
   "metadata": {},
   "outputs": [],
   "source": [
    "df2 = pd.read_csv(\"Data/2023/I1_Hrm/Employees/empTargetDetail.csv\", index_col=False ,encoding='unicode_escape').fillna(0)\n",
    "### Combine Employee Code and Transaction Time.................\n",
    "df2['combined'] = df2['empCode'].astype(str)+\" \"+df2['traDate']"
   ]
  },
  {
   "cell_type": "markdown",
   "metadata": {},
   "source": [
    "<p style=\"font-family:Calibri; font-size:1.2em; color:#061233; padding:5px 5px; margin: 10px 0 -7px 20px;\n",
    "border-bottom: 3px solid #0d1e4f; background: #e3e9fa\">  \n",
    "Step 3a- Filtere the 'Employee Target Detail' by Employee \"Target List\"</p>"
   ]
  },
  {
   "cell_type": "code",
   "execution_count": 20,
   "metadata": {},
   "outputs": [],
   "source": [
    "filtered_df = df2[df2['combined'].isin(List)]"
   ]
  },
  {
   "cell_type": "code",
   "execution_count": 21,
   "metadata": {},
   "outputs": [],
   "source": [
    "### Convert 'salesTarget' astype to \"FLOAT\" to avoid error if any numaric value contain float type.\n",
    "filtered_df = filtered_df.astype({'salesTarget':'float'})"
   ]
  },
  {
   "cell_type": "markdown",
   "metadata": {},
   "source": [
    "<p style=\"padding:5px; border-bottom:3px solid orange; background:#3c5c75; margin:25px 0 -7px 0;\"> \n",
    "   <span style=\"font-size:1.5em; color:#f7ca25;\" >Step 4 -</span>\n",
    "   <span style=\"font-size:1.5em; color:white;\">Create Pivot Table - </span> \n",
    "   <span style=\"font-size:1.2em; color:#17cffc;\"> by Supplier </span>\n",
    "</p> "
   ]
  },
  {
   "cell_type": "markdown",
   "metadata": {},
   "source": [
    "<p style=\"font-family:Calibri; font-size:1.2em; color:#061233; padding:5px 5px; margin: 10px 0 -7px 20px;\n",
    "border-bottom: 3px solid #0d1e4f; background: #e3e9fa\">  \n",
    "Step 4a- Read Item Master Data CSV file Selected Column and convert into List</p>"
   ]
  },
  {
   "cell_type": "code",
   "execution_count": 22,
   "metadata": {},
   "outputs": [],
   "source": [
    "req_cols = ['itmCode','supplier']\n",
    "Supp = pd.read_csv(\"Data/H1_Items/Item/ItemMaster.csv\", usecols=req_cols, encoding='unicode_escape').fillna(0)\n",
    "supList = Supp.values.tolist() ##Convert into List"
   ]
  },
  {
   "cell_type": "markdown",
   "metadata": {},
   "source": [
    "<p style=\"font-family:Calibri; font-size:1.2em; color:#061233; padding:5px 5px; margin: 10px 0 -7px 20px;\n",
    "border-bottom: 3px solid #0d1e4f; background: #e3e9fa\">  \n",
    "Step 4b- Map List with Item Code and get Supplier Name</p>"
   ]
  },
  {
   "cell_type": "code",
   "execution_count": 23,
   "metadata": {},
   "outputs": [],
   "source": [
    "supDict = {code: name for code, name in supList}\n",
    "filtered_df['supplier'] = filtered_df['itemCode'].map(supDict)"
   ]
  },
  {
   "cell_type": "markdown",
   "metadata": {},
   "source": [
    "<p style=\"font-family:Calibri; font-size:1.2em; color:#061233; padding:5px 5px; margin: 10px 0 -7px 20px;\n",
    "border-bottom: 3px solid #0d1e4f; background: #e3e9fa\">  \n",
    "Step 4b- Create Pivot Table by Supplier</p>"
   ]
  },
  {
   "cell_type": "code",
   "execution_count": 24,
   "metadata": {},
   "outputs": [],
   "source": [
    "### PIVOT BY Supplier------------------------------------\n",
    "suppPT = pd.pivot_table(filtered_df,index=[\"supplier\",\"itemDesc\"],values=[\"salesTarget\",\"qty\"],aggfunc=np.sum)\n",
    "suppPT= suppPT.reset_index()\n",
    "suppGBy = suppPT.groupby(['supplier']).agg({'salesTarget': 'sum', 'qty': 'sum'}) \n",
    "suppGBy.loc['z. Grand Total'] = suppGBy.sum()\n",
    "suppGBy.reset_index(inplace=True)\n",
    "suppConcat = pd.concat([suppPT, suppGBy])\n",
    "suppSort = suppConcat.sort_values(['supplier', 'itemDesc'], ascending = [True, True], na_position ='last')\n",
    "suppSort['itemDesc'] = suppSort['itemDesc'].fillna('Total')"
   ]
  },
  {
   "cell_type": "markdown",
   "metadata": {},
   "source": [
    "<p style=\"font-family:Calibri; font-size:1.2em; color:#061233; padding:5px 5px; margin: 10px 0 -7px 20px;\n",
    "border-bottom: 3px solid #0d1e4f; background: #e3e9fa\">  \n",
    "Step 4c- Supplier Traget Percentager by ItemTotal</p>"
   ]
  },
  {
   "cell_type": "code",
   "execution_count": 25,
   "metadata": {},
   "outputs": [],
   "source": [
    "### Convert into Dictionary--------------------\n",
    "suppGBy = suppGBy[['supplier','salesTarget']]\n",
    "t2List = suppGBy.values.tolist() ##Convert into List\n",
    "mapDic2 = {code: name for code, name in t2List}\n",
    "suppSort['Total'] = suppSort['supplier'].map(mapDic2)\n",
    "suppSort['Percentage'] = (suppSort['salesTarget'] / suppSort['Total'])*100"
   ]
  },
  {
   "cell_type": "code",
   "execution_count": 26,
   "metadata": {},
   "outputs": [],
   "source": [
    "### to Hide and Show----------------------------\n",
    "suppSort['Department'] = suppSort['supplier']\n",
    "suppSort['Vertical'] = suppSort['supplier']\n",
    "suppSort.loc[suppSort[\"itemDesc\"] != \"Total\", [\"Vertical\"]] = '---' #  rlSort[\"status\"]"
   ]
  },
  {
   "cell_type": "code",
   "execution_count": 27,
   "metadata": {},
   "outputs": [],
   "source": [
    "supData=[]\n",
    "for i in range(suppSort.shape[0]):\n",
    "        temp=suppSort.iloc[i]\n",
    "        supData.append(dict(temp))"
   ]
  },
  {
   "cell_type": "code",
   "execution_count": 75,
   "metadata": {},
   "outputs": [
    {
     "ename": "NameError",
     "evalue": "name 'supData' is not defined",
     "output_type": "error",
     "traceback": [
      "\u001b[1;31m---------------------------------------------------------------------------\u001b[0m",
      "\u001b[1;31mNameError\u001b[0m                                 Traceback (most recent call last)",
      "Input \u001b[1;32mIn [75]\u001b[0m, in \u001b[0;36m<cell line: 1>\u001b[1;34m()\u001b[0m\n\u001b[1;32m----> 1\u001b[0m \u001b[43msupData\u001b[49m\n",
      "\u001b[1;31mNameError\u001b[0m: name 'supData' is not defined"
     ]
    }
   ],
   "source": [
    "supData"
   ]
  },
  {
   "cell_type": "markdown",
   "metadata": {},
   "source": [
    "<p style=\"font-family:Calibri; font-size:1.75em; color:white; padding:5px 5px; text-align: left; height:50px; border-bottom: 1px solid orange; background:#f5eab8\"></p>"
   ]
  },
  {
   "cell_type": "markdown",
   "metadata": {},
   "source": [
    "<p style=\"font-size:2.2em; color:white; padding:25px; border-bottom: 5px solid #ffb701; background:#143157;\"> \n",
    "    Sales Target by Employee - <span style=\"font-size:.75em; color: #11a1f5;\"> from excel file </span></p>\n",
    "Read data from csv in Pandas"
   ]
  },
  {
   "cell_type": "markdown",
   "metadata": {},
   "source": [
    "<p style=\"padding:5px; border-bottom:3px solid #6d79a1; background:#e9edf7; margin:5px 0 -7px 20px;\"> \n",
    "   <span style=\"font-size:1.4em; color:#202f61;\" >Step 1 - </span>\n",
    "   <span style=\"font-size:1.4em; color:#e39607;\">Get Company and Year - </span> \n",
    "   <span style=\"font-size:1.2em; color:#209ebd;\">to Load Data </span>\n",
    "</p> "
   ]
  },
  {
   "cell_type": "code",
   "execution_count": 80,
   "metadata": {},
   "outputs": [],
   "source": [
    "import pandas as pd\n",
    "import numpy as np\n",
    "dfStd = pd.read_csv('data/basInfo.csv')\n",
    "Year = str(dfStd.loc[0, 'year'])\n",
    "coFolder = str(dfStd.loc[0, 'coFolder'])"
   ]
  },
  {
   "cell_type": "markdown",
   "metadata": {},
   "source": [
    "<p style=\"padding:5px; border-bottom:3px solid #6d79a1; background:#e9edf7; margin:5px 0 -7px 20px;\"> \n",
    "   <span style=\"font-size:1.4em; color:#202f61;\" >Step 2 - </span>\n",
    "   <span style=\"font-size:1.4em; color:#e39607;\">Read Employee- </span> \n",
    "   <span style=\"font-size:1.2em; color:#209ebd;\">salesTarget.csv File </span>\n",
    "</p> "
   ]
  },
  {
   "cell_type": "code",
   "execution_count": 81,
   "metadata": {},
   "outputs": [],
   "source": [
    "fPath = \"Data/\" +coFolder+ \"/\" +Year+ \"/I1_Hrm/Targets/salesTarget.csv\"\n",
    "df = pd.read_csv(fPath, index_col=False, encoding='unicode_escape').fillna('')"
   ]
  },
  {
   "cell_type": "code",
   "execution_count": 82,
   "metadata": {},
   "outputs": [],
   "source": [
    "df['unique'] = df['empCode'].astype(str)+\" \"+df['sNo'].astype(str) ### create a unique column"
   ]
  },
  {
   "cell_type": "code",
   "execution_count": 83,
   "metadata": {},
   "outputs": [],
   "source": [
    "DataA = df.drop_duplicates(subset=['unique'], keep='last')  ### drop duplicate value\n",
    "DataB = DataA.drop(DataA.loc[DataA['action']=='Deleted'].index) ### drop deleted record"
   ]
  },
  {
   "cell_type": "markdown",
   "metadata": {},
   "source": [
    "<p style=\"padding:5px; border-bottom:3px solid #6d79a1; background:#e9edf7; margin:5px 0 -7px 20px;\"> \n",
    "   <span style=\"font-size:1.4em; color:#202f61;\" >Step 3 - </span>\n",
    "   <span style=\"font-size:1.4em; color:#e39607;\">Create Pivot Table - </span> \n",
    "   <span style=\"font-size:1.2em; color:#209ebd;\">sby Employee </span>\n",
    "</p> "
   ]
  },
  {
   "cell_type": "code",
   "execution_count": 84,
   "metadata": {},
   "outputs": [],
   "source": [
    "empPT = pd.pivot_table(DataB,index=[\"empCName\",\"itemDesc\"],values=[\"salesTarget\",\"qty\"],aggfunc=np.sum)\n",
    "empPT = empPT.reset_index()\n",
    "empGBy = empPT.groupby(['empCName']).agg({'salesTarget': 'sum', 'qty': 'sum'}) \n",
    "empGBy.loc['z. Grand Total'] = empGBy.sum()\n",
    "empGBy.reset_index(inplace=True)\n",
    "empConcat = pd.concat([empPT, empGBy])\n",
    "empSort = empConcat.sort_values(['empCName', 'itemDesc'], ascending = [True, True], na_position ='last')\n",
    "empSort['itemDesc'] = empSort['itemDesc'].fillna('Total')"
   ]
  },
  {
   "cell_type": "markdown",
   "metadata": {},
   "source": [
    "<p style=\"padding:5px; border-bottom:3px solid #6d79a1; background:#e9edf7; margin:5px 0 -7px 20px;\"> \n",
    "   <span style=\"font-size:1.4em; color:#202f61;\" >Step 4 - </span>\n",
    "   <span style=\"font-size:1.4em; color:#e39607;\">Employee Traget Percentager by Item</span> \n",
    "</p> "
   ]
  },
  {
   "cell_type": "code",
   "execution_count": 85,
   "metadata": {},
   "outputs": [],
   "source": [
    "### Convert into Dictionary--------------------\n",
    "empGBy = empGBy[['empCName','salesTarget']]\n",
    "t1List = empGBy.values.tolist() ##Convert into List\n",
    "mapDic1 = {code: name for code, name in t1List}\n",
    "empSort['Total'] = empSort['empCName'].map(mapDic1)\n",
    "empSort['Percentage'] = (empSort['salesTarget'] / empSort['Total'])*100"
   ]
  },
  {
   "cell_type": "code",
   "execution_count": 87,
   "metadata": {},
   "outputs": [],
   "source": [
    "### to Hide and Show----------------------------\n",
    "empSort['Department'] = empSort['empCName']\n",
    "empSort['Vertical'] = empSort['empCName']\n",
    "empSort.loc[empSort[\"itemDesc\"] != \"Total\", [\"Vertical\"]] = '---' #  rlSort[\"status\"]"
   ]
  },
  {
   "cell_type": "code",
   "execution_count": 88,
   "metadata": {},
   "outputs": [],
   "source": [
    "empData=[]\n",
    "for i in range(empSort.shape[0]):\n",
    "        temp=empSort.iloc[i]\n",
    "        empData.append(dict(temp))"
   ]
  },
  {
   "cell_type": "code",
   "execution_count": 89,
   "metadata": {},
   "outputs": [
    {
     "data": {
      "text/plain": [
       "[{'empCName': 'Allen Joseph Anora',\n",
       "  'itemDesc': 'Bruun Mci ',\n",
       "  'qty': 6,\n",
       "  'salesTarget': 520800,\n",
       "  'Total': 1500275,\n",
       "  'Percentage': 34.71363583343054,\n",
       "  'Department': 'Allen Joseph Anora',\n",
       "  'Vertical': '---'},\n",
       " {'empCName': 'Allen Joseph Anora',\n",
       "  'itemDesc': 'Microneedling RF ',\n",
       "  'qty': 10,\n",
       "  'salesTarget': 314650,\n",
       "  'Total': 1500275,\n",
       "  'Percentage': 20.972821649364285,\n",
       "  'Department': 'Allen Joseph Anora',\n",
       "  'Vertical': '---'},\n",
       " {'empCName': 'Allen Joseph Anora',\n",
       "  'itemDesc': 'Microneedling RF - HandPiece ',\n",
       "  'qty': 41,\n",
       "  'salesTarget': 193725,\n",
       "  'Total': 1500275,\n",
       "  'Percentage': 12.912632684007933,\n",
       "  'Department': 'Allen Joseph Anora',\n",
       "  'Vertical': '---'},\n",
       " {'empCName': 'Allen Joseph Anora',\n",
       "  'itemDesc': 'SVTA Radio ',\n",
       "  'qty': 8,\n",
       "  'salesTarget': 201600,\n",
       "  'Total': 1500275,\n",
       "  'Percentage': 13.43753645165053,\n",
       "  'Department': 'Allen Joseph Anora',\n",
       "  'Vertical': '---'},\n",
       " {'empCName': 'Allen Joseph Anora',\n",
       "  'itemDesc': 'SVTA Radio Hand Pice 1 ',\n",
       "  'qty': 15,\n",
       "  'salesTarget': 25200,\n",
       "  'Total': 1500275,\n",
       "  'Percentage': 1.6796920564563163,\n",
       "  'Department': 'Allen Joseph Anora',\n",
       "  'Vertical': '---'},\n",
       " {'empCName': 'Allen Joseph Anora',\n",
       "  'itemDesc': 'SVTA Radio Hand Pice 2 ',\n",
       "  'qty': 20,\n",
       "  'salesTarget': 42000,\n",
       "  'Total': 1500275,\n",
       "  'Percentage': 2.799486760760527,\n",
       "  'Department': 'Allen Joseph Anora',\n",
       "  'Vertical': '---'},\n",
       " {'empCName': 'Allen Joseph Anora',\n",
       "  'itemDesc': 'SVTA Radio Hand Pice 3 ',\n",
       "  'qty': 25,\n",
       "  'salesTarget': 49000,\n",
       "  'Total': 1500275,\n",
       "  'Percentage': 3.2660678875539486,\n",
       "  'Department': 'Allen Joseph Anora',\n",
       "  'Vertical': '---'},\n",
       " {'empCName': 'Allen Joseph Anora',\n",
       "  'itemDesc': 'SVTA Radio Hand Pice 4 ',\n",
       "  'qty': 35,\n",
       "  'salesTarget': 63700,\n",
       "  'Total': 1500275,\n",
       "  'Percentage': 4.245888253820133,\n",
       "  'Department': 'Allen Joseph Anora',\n",
       "  'Vertical': '---'},\n",
       " {'empCName': 'Allen Joseph Anora',\n",
       "  'itemDesc': 'SVTA Radio Hand Pice 5 ',\n",
       "  'qty': 40,\n",
       "  'salesTarget': 89600,\n",
       "  'Total': 1500275,\n",
       "  'Percentage': 5.972238422955792,\n",
       "  'Department': 'Allen Joseph Anora',\n",
       "  'Vertical': '---'},\n",
       " {'empCName': 'Allen Joseph Anora',\n",
       "  'itemDesc': 'Total',\n",
       "  'qty': 200,\n",
       "  'salesTarget': 1500275,\n",
       "  'Total': 1500275,\n",
       "  'Percentage': 100.0,\n",
       "  'Department': 'Allen Joseph Anora',\n",
       "  'Vertical': 'Allen Joseph Anora'},\n",
       " {'empCName': 'Ariel Abapo Naciogoyo',\n",
       "  'itemDesc': 'Bruun Mci ',\n",
       "  'qty': 3,\n",
       "  'salesTarget': 260400,\n",
       "  'Total': 1001000,\n",
       "  'Percentage': 26.013986013986013,\n",
       "  'Department': 'Ariel Abapo Naciogoyo',\n",
       "  'Vertical': '---'},\n",
       " {'empCName': 'Ariel Abapo Naciogoyo',\n",
       "  'itemDesc': 'Caviation Laser ',\n",
       "  'qty': 6,\n",
       "  'salesTarget': 147000,\n",
       "  'Total': 1001000,\n",
       "  'Percentage': 14.685314685314685,\n",
       "  'Department': 'Ariel Abapo Naciogoyo',\n",
       "  'Vertical': '---'},\n",
       " {'empCName': 'Ariel Abapo Naciogoyo',\n",
       "  'itemDesc': 'Crio Lipo ',\n",
       "  'qty': 3,\n",
       "  'salesTarget': 109200,\n",
       "  'Total': 1001000,\n",
       "  'Percentage': 10.909090909090908,\n",
       "  'Department': 'Ariel Abapo Naciogoyo',\n",
       "  'Vertical': '---'},\n",
       " {'empCName': 'Ariel Abapo Naciogoyo',\n",
       "  'itemDesc': 'G5 Slimming ',\n",
       "  'qty': 3,\n",
       "  'salesTarget': 155400,\n",
       "  'Total': 1001000,\n",
       "  'Percentage': 15.524475524475525,\n",
       "  'Department': 'Ariel Abapo Naciogoyo',\n",
       "  'Vertical': '---'},\n",
       " {'empCName': 'Ariel Abapo Naciogoyo',\n",
       "  'itemDesc': 'G5 Slimming Applicators ',\n",
       "  'qty': 15,\n",
       "  'salesTarget': 42000,\n",
       "  'Total': 1001000,\n",
       "  'Percentage': 4.195804195804196,\n",
       "  'Department': 'Ariel Abapo Naciogoyo',\n",
       "  'Vertical': '---'},\n",
       " {'empCName': 'Ariel Abapo Naciogoyo',\n",
       "  'itemDesc': 'RF Fractional CO2 Laser ',\n",
       "  'qty': 2,\n",
       "  'salesTarget': 163800,\n",
       "  'Total': 1001000,\n",
       "  'Percentage': 16.363636363636363,\n",
       "  'Department': 'Ariel Abapo Naciogoyo',\n",
       "  'Vertical': '---'},\n",
       " {'empCName': 'Ariel Abapo Naciogoyo',\n",
       "  'itemDesc': 'RF Fractional CO2 Laser - Accessories ',\n",
       "  'qty': 22,\n",
       "  'salesTarget': 30800,\n",
       "  'Total': 1001000,\n",
       "  'Percentage': 3.076923076923077,\n",
       "  'Department': 'Ariel Abapo Naciogoyo',\n",
       "  'Vertical': '---'},\n",
       " {'empCName': 'Ariel Abapo Naciogoyo',\n",
       "  'itemDesc': 'RF Fractional CO2 Laser - Handpiece ',\n",
       "  'qty': 12,\n",
       "  'salesTarget': 92400,\n",
       "  'Total': 1001000,\n",
       "  'Percentage': 9.230769230769232,\n",
       "  'Department': 'Ariel Abapo Naciogoyo',\n",
       "  'Vertical': '---'},\n",
       " {'empCName': 'Ariel Abapo Naciogoyo',\n",
       "  'itemDesc': 'Total',\n",
       "  'qty': 66,\n",
       "  'salesTarget': 1001000,\n",
       "  'Total': 1001000,\n",
       "  'Percentage': 100.0,\n",
       "  'Department': 'Ariel Abapo Naciogoyo',\n",
       "  'Vertical': 'Ariel Abapo Naciogoyo'},\n",
       " {'empCName': 'Franco Viola Parota',\n",
       "  'itemDesc': 'Diode Laser Hair Removal Device ',\n",
       "  'qty': 3,\n",
       "  'salesTarget': 154140,\n",
       "  'Total': 1000160,\n",
       "  'Percentage': 15.411534154535275,\n",
       "  'Department': 'Franco Viola Parota',\n",
       "  'Vertical': '---'},\n",
       " {'empCName': 'Franco Viola Parota',\n",
       "  'itemDesc': 'Portable Diode Laser Hair Removal Equipment ',\n",
       "  'qty': 4,\n",
       "  'salesTarget': 188720,\n",
       "  'Total': 1000160,\n",
       "  'Percentage': 18.86898096304591,\n",
       "  'Department': 'Franco Viola Parota',\n",
       "  'Vertical': '---'},\n",
       " {'empCName': 'Franco Viola Parota',\n",
       "  'itemDesc': 'Portable Diode Laser Hair Removal Equipment - Hand Piece ',\n",
       "  'qty': 16,\n",
       "  'salesTarget': 100800,\n",
       "  'Total': 1000160,\n",
       "  'Percentage': 10.078387458006718,\n",
       "  'Department': 'Franco Viola Parota',\n",
       "  'Vertical': '---'},\n",
       " {'empCName': 'Franco Viola Parota',\n",
       "  'itemDesc': 'RF Fractional CO2 Laser ',\n",
       "  'qty': 4,\n",
       "  'salesTarget': 327600,\n",
       "  'Total': 1000160,\n",
       "  'Percentage': 32.754759238521835,\n",
       "  'Department': 'Franco Viola Parota',\n",
       "  'Vertical': '---'},\n",
       " {'empCName': 'Franco Viola Parota',\n",
       "  'itemDesc': 'RF Fractional CO2 Laser - Accessories ',\n",
       "  'qty': 26,\n",
       "  'salesTarget': 36400,\n",
       "  'Total': 1000160,\n",
       "  'Percentage': 3.6394176931690927,\n",
       "  'Department': 'Franco Viola Parota',\n",
       "  'Vertical': '---'},\n",
       " {'empCName': 'Franco Viola Parota',\n",
       "  'itemDesc': 'RF Fractional CO2 Laser - Handpiece ',\n",
       "  'qty': 25,\n",
       "  'salesTarget': 192500,\n",
       "  'Total': 1000160,\n",
       "  'Percentage': 19.246920492721166,\n",
       "  'Department': 'Franco Viola Parota',\n",
       "  'Vertical': '---'},\n",
       " {'empCName': 'Franco Viola Parota',\n",
       "  'itemDesc': 'Total',\n",
       "  'qty': 78,\n",
       "  'salesTarget': 1000160,\n",
       "  'Total': 1000160,\n",
       "  'Percentage': 100.0,\n",
       "  'Department': 'Franco Viola Parota',\n",
       "  'Vertical': 'Franco Viola Parota'},\n",
       " {'empCName': 'JaimeEndaya',\n",
       "  'itemDesc': 'Microneedling RF - HandPiece',\n",
       "  'qty': 10,\n",
       "  'salesTarget': 33750,\n",
       "  'Total': 150750,\n",
       "  'Percentage': 22.388059701492537,\n",
       "  'Department': 'JaimeEndaya',\n",
       "  'Vertical': '---'},\n",
       " {'empCName': 'JaimeEndaya',\n",
       "  'itemDesc': 'RF Fractional CO2 Laser',\n",
       "  'qty': 2,\n",
       "  'salesTarget': 117000,\n",
       "  'Total': 150750,\n",
       "  'Percentage': 77.61194029850746,\n",
       "  'Department': 'JaimeEndaya',\n",
       "  'Vertical': '---'},\n",
       " {'empCName': 'JaimeEndaya',\n",
       "  'itemDesc': 'Total',\n",
       "  'qty': 12,\n",
       "  'salesTarget': 150750,\n",
       "  'Total': 150750,\n",
       "  'Percentage': 100.0,\n",
       "  'Department': 'JaimeEndaya',\n",
       "  'Vertical': 'JaimeEndaya'},\n",
       " {'empCName': 'Jinu Ambadan Ambadan',\n",
       "  'itemDesc': 'Bruun Mci',\n",
       "  'qty': 3,\n",
       "  'salesTarget': 186000,\n",
       "  'Total': 330500,\n",
       "  'Percentage': 56.278366111951584,\n",
       "  'Department': 'Jinu Ambadan Ambadan',\n",
       "  'Vertical': '---'},\n",
       " {'empCName': 'Jinu Ambadan Ambadan',\n",
       "  'itemDesc': 'RF Fractional CO2 Laser',\n",
       "  'qty': 2,\n",
       "  'salesTarget': 117000,\n",
       "  'Total': 330500,\n",
       "  'Percentage': 35.400907715582456,\n",
       "  'Department': 'Jinu Ambadan Ambadan',\n",
       "  'Vertical': '---'},\n",
       " {'empCName': 'Jinu Ambadan Ambadan',\n",
       "  'itemDesc': 'RF Fractional CO2 Laser - Handpiece',\n",
       "  'qty': 5,\n",
       "  'salesTarget': 27500,\n",
       "  'Total': 330500,\n",
       "  'Percentage': 8.32072617246596,\n",
       "  'Department': 'Jinu Ambadan Ambadan',\n",
       "  'Vertical': '---'},\n",
       " {'empCName': 'Jinu Ambadan Ambadan',\n",
       "  'itemDesc': 'Total',\n",
       "  'qty': 10,\n",
       "  'salesTarget': 330500,\n",
       "  'Total': 330500,\n",
       "  'Percentage': 100.0,\n",
       "  'Department': 'Jinu Ambadan Ambadan',\n",
       "  'Vertical': 'Jinu Ambadan Ambadan'},\n",
       " {'empCName': 'Lucero Jackson Jackson',\n",
       "  'itemDesc': 'Diode Laser Hair Removal Device',\n",
       "  'qty': 20,\n",
       "  'salesTarget': 734000,\n",
       "  'Total': 2001900,\n",
       "  'Percentage': 36.665168090314204,\n",
       "  'Department': 'Lucero Jackson Jackson',\n",
       "  'Vertical': '---'},\n",
       " {'empCName': 'Lucero Jackson Jackson',\n",
       "  'itemDesc': 'Microneedling RF',\n",
       "  'qty': 4,\n",
       "  'salesTarget': 89900,\n",
       "  'Total': 2001900,\n",
       "  'Percentage': 4.490733802887257,\n",
       "  'Department': 'Lucero Jackson Jackson',\n",
       "  'Vertical': '---'},\n",
       " {'empCName': 'Lucero Jackson Jackson',\n",
       "  'itemDesc': 'Microneedling RF - HandPiece',\n",
       "  'qty': 20,\n",
       "  'salesTarget': 67500,\n",
       "  'Total': 2001900,\n",
       "  'Percentage': 3.371796793046606,\n",
       "  'Department': 'Lucero Jackson Jackson',\n",
       "  'Vertical': '---'},\n",
       " {'empCName': 'Lucero Jackson Jackson',\n",
       "  'itemDesc': 'Portable Diode Laser Hair Removal Equipment',\n",
       "  'qty': 20,\n",
       "  'salesTarget': 674000,\n",
       "  'Total': 2001900,\n",
       "  'Percentage': 33.66801538538389,\n",
       "  'Department': 'Lucero Jackson Jackson',\n",
       "  'Vertical': '---'},\n",
       " {'empCName': 'Lucero Jackson Jackson',\n",
       "  'itemDesc': 'Portable Diode Laser Hair Removal Equipment - Hand Piece',\n",
       "  'qty': 45,\n",
       "  'salesTarget': 202500,\n",
       "  'Total': 2001900,\n",
       "  'Percentage': 10.115390379139818,\n",
       "  'Department': 'Lucero Jackson Jackson',\n",
       "  'Vertical': '---'},\n",
       " {'empCName': 'Lucero Jackson Jackson',\n",
       "  'itemDesc': 'RF Fractional CO2 Laser',\n",
       "  'qty': 4,\n",
       "  'salesTarget': 234000,\n",
       "  'Total': 2001900,\n",
       "  'Percentage': 11.688895549228233,\n",
       "  'Department': 'Lucero Jackson Jackson',\n",
       "  'Vertical': '---'},\n",
       " {'empCName': 'Lucero Jackson Jackson',\n",
       "  'itemDesc': 'Total',\n",
       "  'qty': 113,\n",
       "  'salesTarget': 2001900,\n",
       "  'Total': 2001900,\n",
       "  'Percentage': 100.0,\n",
       "  'Department': 'Lucero Jackson Jackson',\n",
       "  'Vertical': 'Lucero Jackson Jackson'},\n",
       " {'empCName': 'Mohammed Hasnain Hasnain',\n",
       "  'itemDesc': 'Diode Laser Hair Removal Device',\n",
       "  'qty': 2,\n",
       "  'salesTarget': 73400,\n",
       "  'Total': 827000,\n",
       "  'Percentage': 8.875453446191052,\n",
       "  'Department': 'Mohammed Hasnain Hasnain',\n",
       "  'Vertical': '---'},\n",
       " {'empCName': 'Mohammed Hasnain Hasnain',\n",
       "  'itemDesc': 'Portable Diode Laser Hair Removal Equipment',\n",
       "  'qty': 3,\n",
       "  'salesTarget': 101100,\n",
       "  'Total': 827000,\n",
       "  'Percentage': 12.224909310761788,\n",
       "  'Department': 'Mohammed Hasnain Hasnain',\n",
       "  'Vertical': '---'},\n",
       " {'empCName': 'Mohammed Hasnain Hasnain',\n",
       "  'itemDesc': 'Portable Diode Laser Hair Removal Equipment - Hand Piece',\n",
       "  'qty': 15,\n",
       "  'salesTarget': 67500,\n",
       "  'Total': 827000,\n",
       "  'Percentage': 8.162031438935912,\n",
       "  'Department': 'Mohammed Hasnain Hasnain',\n",
       "  'Vertical': '---'},\n",
       " {'empCName': 'Mohammed Hasnain Hasnain',\n",
       "  'itemDesc': 'RF Fractional CO2 Laser',\n",
       "  'qty': 10,\n",
       "  'salesTarget': 585000,\n",
       "  'Total': 827000,\n",
       "  'Percentage': 70.73760580411125,\n",
       "  'Department': 'Mohammed Hasnain Hasnain',\n",
       "  'Vertical': '---'},\n",
       " {'empCName': 'Mohammed Hasnain Hasnain',\n",
       "  'itemDesc': 'Total',\n",
       "  'qty': 30,\n",
       "  'salesTarget': 827000,\n",
       "  'Total': 827000,\n",
       "  'Percentage': 100.0,\n",
       "  'Department': 'Mohammed Hasnain Hasnain',\n",
       "  'Vertical': 'Mohammed Hasnain Hasnain'},\n",
       " {'empCName': 'Pune Pratap Panjiyar',\n",
       "  'itemDesc': 'Bruun Mci ',\n",
       "  'qty': 4,\n",
       "  'salesTarget': 347200,\n",
       "  'Total': 2056355,\n",
       "  'Percentage': 16.884244208806358,\n",
       "  'Department': 'Pune Pratap Panjiyar',\n",
       "  'Vertical': '---'},\n",
       " {'empCName': 'Pune Pratap Panjiyar',\n",
       "  'itemDesc': 'Caviation Laser ',\n",
       "  'qty': 6,\n",
       "  'salesTarget': 147000,\n",
       "  'Total': 2056355,\n",
       "  'Percentage': 7.148571136793016,\n",
       "  'Department': 'Pune Pratap Panjiyar',\n",
       "  'Vertical': '---'},\n",
       " {'empCName': 'Pune Pratap Panjiyar',\n",
       "  'itemDesc': 'Diode Laser Hair Removal Device ',\n",
       "  'qty': 5,\n",
       "  'salesTarget': 256900,\n",
       "  'Total': 2056355,\n",
       "  'Percentage': 12.492979081919222,\n",
       "  'Department': 'Pune Pratap Panjiyar',\n",
       "  'Vertical': '---'},\n",
       " {'empCName': 'Pune Pratap Panjiyar',\n",
       "  'itemDesc': 'Hydra Fresh ',\n",
       "  'qty': 8,\n",
       "  'salesTarget': 593600,\n",
       "  'Total': 2056355,\n",
       "  'Percentage': 28.866611066668934,\n",
       "  'Department': 'Pune Pratap Panjiyar',\n",
       "  'Vertical': '---'},\n",
       " {'empCName': 'Pune Pratap Panjiyar',\n",
       "  'itemDesc': 'Hydra-new ',\n",
       "  'qty': 3,\n",
       "  'salesTarget': 50400,\n",
       "  'Total': 2056355,\n",
       "  'Percentage': 2.4509386754718907,\n",
       "  'Department': 'Pune Pratap Panjiyar',\n",
       "  'Vertical': '---'},\n",
       " {'empCName': 'Pune Pratap Panjiyar',\n",
       "  'itemDesc': 'Microneedling RF ',\n",
       "  'qty': 7,\n",
       "  'salesTarget': 220255,\n",
       "  'Total': 2056355,\n",
       "  'Percentage': 10.710942419961533,\n",
       "  'Department': 'Pune Pratap Panjiyar',\n",
       "  'Vertical': '---'},\n",
       " {'empCName': 'Pune Pratap Panjiyar',\n",
       "  'itemDesc': 'Microneedling RF - HandPiece ',\n",
       "  'qty': 12,\n",
       "  'salesTarget': 56700,\n",
       "  'Total': 2056355,\n",
       "  'Percentage': 2.7573060099058773,\n",
       "  'Department': 'Pune Pratap Panjiyar',\n",
       "  'Vertical': '---'},\n",
       " {'empCName': 'Pune Pratap Panjiyar',\n",
       "  'itemDesc': 'RF Fractional CO2 Laser ',\n",
       "  'qty': 3,\n",
       "  'salesTarget': 245700,\n",
       "  'Total': 2056355,\n",
       "  'Percentage': 11.948326042925467,\n",
       "  'Department': 'Pune Pratap Panjiyar',\n",
       "  'Vertical': '---'},\n",
       " {'empCName': 'Pune Pratap Panjiyar',\n",
       "  'itemDesc': 'RF Fractional CO2 Laser - Handpiece ',\n",
       "  'qty': 18,\n",
       "  'salesTarget': 138600,\n",
       "  'Total': 2056355,\n",
       "  'Percentage': 6.7400813575477,\n",
       "  'Department': 'Pune Pratap Panjiyar',\n",
       "  'Vertical': '---'},\n",
       " {'empCName': 'Pune Pratap Panjiyar',\n",
       "  'itemDesc': 'Total',\n",
       "  'qty': 66,\n",
       "  'salesTarget': 2056355,\n",
       "  'Total': 2056355,\n",
       "  'Percentage': 100.0,\n",
       "  'Department': 'Pune Pratap Panjiyar',\n",
       "  'Vertical': 'Pune Pratap Panjiyar'},\n",
       " {'empCName': 'Sanjay Kumar Mandal',\n",
       "  'itemDesc': 'Bruun Mci ',\n",
       "  'qty': 3,\n",
       "  'salesTarget': 260400,\n",
       "  'Total': 2000285,\n",
       "  'Percentage': 13.018144914349705,\n",
       "  'Department': 'Sanjay Kumar Mandal',\n",
       "  'Vertical': '---'},\n",
       " {'empCName': 'Sanjay Kumar Mandal',\n",
       "  'itemDesc': 'Caviation Laser ',\n",
       "  'qty': 4,\n",
       "  'salesTarget': 98000,\n",
       "  'Total': 2000285,\n",
       "  'Percentage': 4.899301849486449,\n",
       "  'Department': 'Sanjay Kumar Mandal',\n",
       "  'Vertical': '---'},\n",
       " {'empCName': 'Sanjay Kumar Mandal',\n",
       "  'itemDesc': 'Crio Lipo ',\n",
       "  'qty': 3,\n",
       "  'salesTarget': 109200,\n",
       "  'Total': 2000285,\n",
       "  'Percentage': 5.459222060856328,\n",
       "  'Department': 'Sanjay Kumar Mandal',\n",
       "  'Vertical': '---'},\n",
       " {'empCName': 'Sanjay Kumar Mandal',\n",
       "  'itemDesc': 'Diode Laser Hair Removal Device ',\n",
       "  'qty': 5,\n",
       "  'salesTarget': 256900,\n",
       "  'Total': 2000285,\n",
       "  'Percentage': 12.843169848296618,\n",
       "  'Department': 'Sanjay Kumar Mandal',\n",
       "  'Vertical': '---'},\n",
       " {'empCName': 'Sanjay Kumar Mandal',\n",
       "  'itemDesc': 'Microneedling RF ',\n",
       "  'qty': 10,\n",
       "  'salesTarget': 314650,\n",
       "  'Total': 2000285,\n",
       "  'Percentage': 15.730258438172559,\n",
       "  'Department': 'Sanjay Kumar Mandal',\n",
       "  'Vertical': '---'},\n",
       " {'empCName': 'Sanjay Kumar Mandal',\n",
       "  'itemDesc': 'Microneedling RF - HandPiece ',\n",
       "  'qty': 15,\n",
       "  'salesTarget': 70875,\n",
       "  'Total': 2000285,\n",
       "  'Percentage': 3.5432450875750208,\n",
       "  'Department': 'Sanjay Kumar Mandal',\n",
       "  'Vertical': '---'},\n",
       " {'empCName': 'Sanjay Kumar Mandal',\n",
       "  'itemDesc': 'Portable Diode Laser Hair Removal Equipment ',\n",
       "  'qty': 7,\n",
       "  'salesTarget': 330260,\n",
       "  'Total': 2000285,\n",
       "  'Percentage': 16.51064723276933,\n",
       "  'Department': 'Sanjay Kumar Mandal',\n",
       "  'Vertical': '---'},\n",
       " {'empCName': 'Sanjay Kumar Mandal',\n",
       "  'itemDesc': 'Portable Diode Laser Hair Removal Equipment - Hand Piece ',\n",
       "  'qty': 19,\n",
       "  'salesTarget': 119700,\n",
       "  'Total': 2000285,\n",
       "  'Percentage': 5.98414725901559,\n",
       "  'Department': 'Sanjay Kumar Mandal',\n",
       "  'Vertical': '---'},\n",
       " {'empCName': 'Sanjay Kumar Mandal',\n",
       "  'itemDesc': 'RF Fractional CO2 Laser ',\n",
       "  'qty': 4,\n",
       "  'salesTarget': 327600,\n",
       "  'Total': 2000285,\n",
       "  'Percentage': 16.377666182568984,\n",
       "  'Department': 'Sanjay Kumar Mandal',\n",
       "  'Vertical': '---'},\n",
       " {'empCName': 'Sanjay Kumar Mandal',\n",
       "  'itemDesc': 'RF Fractional CO2 Laser - Accessories ',\n",
       "  'qty': 20,\n",
       "  'salesTarget': 28000,\n",
       "  'Total': 2000285,\n",
       "  'Percentage': 1.3998005284246995,\n",
       "  'Department': 'Sanjay Kumar Mandal',\n",
       "  'Vertical': '---'},\n",
       " {'empCName': 'Sanjay Kumar Mandal',\n",
       "  'itemDesc': 'RF Fractional CO2 Laser - Handpiece ',\n",
       "  'qty': 11,\n",
       "  'salesTarget': 84700,\n",
       "  'Total': 2000285,\n",
       "  'Percentage': 4.234396598484716,\n",
       "  'Department': 'Sanjay Kumar Mandal',\n",
       "  'Vertical': '---'},\n",
       " {'empCName': 'Sanjay Kumar Mandal',\n",
       "  'itemDesc': 'Total',\n",
       "  'qty': 101,\n",
       "  'salesTarget': 2000285,\n",
       "  'Total': 2000285,\n",
       "  'Percentage': 100.0,\n",
       "  'Department': 'Sanjay Kumar Mandal',\n",
       "  'Vertical': 'Sanjay Kumar Mandal'},\n",
       " {'empCName': 'Tampos Antonio Magalona',\n",
       "  'itemDesc': 'Bruun Mci ',\n",
       "  'qty': 7,\n",
       "  'salesTarget': 607600,\n",
       "  'Total': 1400245,\n",
       "  'Percentage': 43.39240632889244,\n",
       "  'Department': 'Tampos Antonio Magalona',\n",
       "  'Vertical': '---'},\n",
       " {'empCName': 'Tampos Antonio Magalona',\n",
       "  'itemDesc': 'Diode Laser Hair Removal Device ',\n",
       "  'qty': 4,\n",
       "  'salesTarget': 205520,\n",
       "  'Total': 1400245,\n",
       "  'Percentage': 14.67743144949634,\n",
       "  'Department': 'Tampos Antonio Magalona',\n",
       "  'Vertical': '---'},\n",
       " {'empCName': 'Tampos Antonio Magalona',\n",
       "  'itemDesc': 'Microneedling RF ',\n",
       "  'qty': 10,\n",
       "  'salesTarget': 314650,\n",
       "  'Total': 1400245,\n",
       "  'Percentage': 22.471067563176444,\n",
       "  'Department': 'Tampos Antonio Magalona',\n",
       "  'Vertical': '---'},\n",
       " {'empCName': 'Tampos Antonio Magalona',\n",
       "  'itemDesc': 'Microneedling RF - HandPiece ',\n",
       "  'qty': 23,\n",
       "  'salesTarget': 108675,\n",
       "  'Total': 1400245,\n",
       "  'Percentage': 7.7611418001849675,\n",
       "  'Department': 'Tampos Antonio Magalona',\n",
       "  'Vertical': '---'},\n",
       " {'empCName': 'Tampos Antonio Magalona',\n",
       "  'itemDesc': 'Portable Diode Laser Hair Removal Equipment - Hand Piece ',\n",
       "  'qty': 26,\n",
       "  'salesTarget': 163800,\n",
       "  'Total': 1400245,\n",
       "  'Percentage': 11.697952858249806,\n",
       "  'Department': 'Tampos Antonio Magalona',\n",
       "  'Vertical': '---'},\n",
       " {'empCName': 'Tampos Antonio Magalona',\n",
       "  'itemDesc': 'Total',\n",
       "  'qty': 70,\n",
       "  'salesTarget': 1400245,\n",
       "  'Total': 1400245,\n",
       "  'Percentage': 100.0,\n",
       "  'Department': 'Tampos Antonio Magalona',\n",
       "  'Vertical': 'Tampos Antonio Magalona'},\n",
       " {'empCName': 'z. Grand Total',\n",
       "  'itemDesc': 'Total',\n",
       "  'qty': 746,\n",
       "  'salesTarget': 12268470,\n",
       "  'Total': 12268470,\n",
       "  'Percentage': 100.0,\n",
       "  'Department': 'z. Grand Total',\n",
       "  'Vertical': 'z. Grand Total'}]"
      ]
     },
     "execution_count": 89,
     "metadata": {},
     "output_type": "execute_result"
    }
   ],
   "source": [
    "empData"
   ]
  },
  {
   "cell_type": "markdown",
   "metadata": {},
   "source": [
    "<p style=\"font-size:2.2em; color:white; padding:25px; border-bottom: 5px solid #ffb701; background:#143157;\"> \n",
    "    Sales Target by Employee - <span style=\"font-size:.75em; color: #11a1f5;\"> from excel file </span></p>\n",
    "Read data from csv in Pandas"
   ]
  },
  {
   "cell_type": "code",
   "execution_count": 41,
   "metadata": {},
   "outputs": [],
   "source": [
    "import pandas as pd\n",
    "import numpy as np\n",
    "pd.options.display.float_format = '{:,.0f}'.format\n",
    "pd.set_option('display.max_columns', 85) # set Jupeter note book to dispay 85 columns"
   ]
  },
  {
   "cell_type": "markdown",
   "metadata": {},
   "source": [
    "<p style=\"padding:5px; border-bottom:3px solid orange; background:#3c5c75; margin:25px 0 -7px 0;\"> \n",
    "   <span style=\"font-size:1.5em; color:#f7ca25;\" >Step 1 -</span>\n",
    "   <span style=\"font-size:1.5em; color:white;\">Read CSV files  - </span> \n",
    "   <span style=\"font-size:1.2em; color:#17cffc;\">\"Employee Target\"</span>\n",
    "</p> "
   ]
  },
  {
   "cell_type": "code",
   "execution_count": 42,
   "metadata": {},
   "outputs": [],
   "source": [
    "df = pd.read_csv(\"Data/2023/I1_Hrm/Employees/empTarget.csv\", index_col=False ,encoding='unicode_escape').fillna(0)"
   ]
  },
  {
   "cell_type": "markdown",
   "metadata": {},
   "source": [
    "<p style=\"font-family:Calibri; font-size:1.2em; color:#061233; padding:5px 5px; margin: 10px 0 -7px 20px;\n",
    "border-bottom: 3px solid #0d1e4f; background: #e3e9fa\">  \n",
    "Step 1a - Remove Duplicate Line and Deleted Record</p>"
   ]
  },
  {
   "cell_type": "code",
   "execution_count": 43,
   "metadata": {},
   "outputs": [],
   "source": [
    "DataA = df.drop_duplicates(subset=['empCode'], keep='last')\n",
    "DataB = DataA.drop(DataA.loc[DataA['comment']=='Delete'].index)"
   ]
  },
  {
   "cell_type": "markdown",
   "metadata": {},
   "source": [
    "<p style=\"font-family:Calibri; font-size:1.2em; color:#061233; padding:5px 5px; margin: 10px 0 -7px 20px;\n",
    "border-bottom: 3px solid #0d1e4f; background: #e3e9fa\">  \n",
    "Step 1b - Combine Employee Code and Transaction Time</p>"
   ]
  },
  {
   "cell_type": "code",
   "execution_count": 44,
   "metadata": {},
   "outputs": [],
   "source": [
    "DataB['combined'] = DataB['empCode'].astype(str)+\" \"+DataB['traDate']"
   ]
  },
  {
   "cell_type": "markdown",
   "metadata": {},
   "source": [
    "<p style=\"font-family:Calibri; font-size:1.2em; color:#061233; padding:5px 5px; margin: 10px 0 -7px 20px;\n",
    "border-bottom: 3px solid #0d1e4f; background: #e3e9fa\">  \n",
    "Step 1c- Select the Combine Column and convert it into a \"LIST\"</p>"
   ]
  },
  {
   "cell_type": "code",
   "execution_count": 45,
   "metadata": {},
   "outputs": [],
   "source": [
    "List = DataB[\"combined\"] #.tolist()"
   ]
  },
  {
   "cell_type": "markdown",
   "metadata": {},
   "source": [
    "<p style=\"padding:5px; border-bottom:3px solid orange; background:#3c5c75; margin:25px 0 -7px 0;\"> \n",
    "   <span style=\"font-size:1.5em; color:#f7ca25;\" >Step 2 -</span>\n",
    "   <span style=\"font-size:1.5em; color:white;\">Read CSV files  - </span> \n",
    "   <span style=\"font-size:1.2em; color:#17cffc;\">\" Employee Target Detail\"</span>\n",
    "</p> "
   ]
  },
  {
   "cell_type": "code",
   "execution_count": 46,
   "metadata": {},
   "outputs": [],
   "source": [
    "df2 = pd.read_csv(\"Data/2023/I1_Hrm/Employees/empTargetDetail.csv\", index_col=False ,encoding='unicode_escape').fillna(0)\n",
    "### Combine Employee Code and Transaction Time.................\n",
    "df2['combined'] = df2['empCode'].astype(str)+\" \"+df2['traDate']"
   ]
  },
  {
   "cell_type": "markdown",
   "metadata": {},
   "source": [
    "<p style=\"font-family:Calibri; font-size:1.2em; color:#061233; padding:5px 5px; margin: 10px 0 -7px 20px;\n",
    "border-bottom: 3px solid #0d1e4f; background: #e3e9fa\">  \n",
    "Step 3a- Filtere the 'Employee Target Detail' by Employee \"Target List\"</p>"
   ]
  },
  {
   "cell_type": "code",
   "execution_count": 47,
   "metadata": {},
   "outputs": [],
   "source": [
    "filtered_df = df2[df2['combined'].isin(List)]"
   ]
  },
  {
   "cell_type": "code",
   "execution_count": 48,
   "metadata": {},
   "outputs": [],
   "source": [
    "### Convert 'salesTarget' astype to \"FLOAT\" to avoid error if any numaric value contain float type.\n",
    "filtered_df = filtered_df.astype({'salesTarget':'float'})"
   ]
  },
  {
   "cell_type": "markdown",
   "metadata": {},
   "source": [
    "<p style=\"padding:5px; border-bottom:3px solid orange; background:#3c5c75; margin:25px 0 -7px 0;\"> \n",
    "   <span style=\"font-size:1.5em; color:#f7ca25;\" >Step 3 -</span>\n",
    "   <span style=\"font-size:1.5em; color:white;\">Create Pivot Table - </span> \n",
    "   <span style=\"font-size:1.2em; color:#17cffc;\"> by Employee </span>\n",
    "</p> "
   ]
  },
  {
   "cell_type": "code",
   "execution_count": 56,
   "metadata": {},
   "outputs": [],
   "source": [
    "empPT = pd.pivot_table(filtered_df,index=[\"empName\",\"itemDesc\"],values=[\"salesTarget\",\"qty\"],aggfunc=np.sum)\n",
    "empPT = empPT.reset_index()"
   ]
  },
  {
   "cell_type": "code",
   "execution_count": 57,
   "metadata": {},
   "outputs": [],
   "source": [
    "empGBy = empPT.groupby(['empName']).agg({'salesTarget': 'sum', 'qty': 'sum'}) \n",
    "empGBy.loc['z. Grand Total'] = empGBy.sum()\n",
    "empGBy.reset_index(inplace=True)"
   ]
  },
  {
   "cell_type": "code",
   "execution_count": 58,
   "metadata": {},
   "outputs": [],
   "source": [
    "empConcat = pd.concat([empPT, empGBy])\n",
    "empSort = empConcat.sort_values(['empName', 'itemDesc'], ascending = [True, True], na_position ='last')\n",
    "empSort['itemDesc'] = empSort['itemDesc'].fillna('Total')"
   ]
  },
  {
   "cell_type": "markdown",
   "metadata": {},
   "source": [
    "<p style=\"font-family:Calibri; font-size:1.2em; color:#061233; padding:5px 5px; margin: 10px 0 -7px 20px;\n",
    "border-bottom: 3px solid #0d1e4f; background: #e3e9fa\">  \n",
    "Step 3a- Employee Traget Percentager by Item</p>"
   ]
  },
  {
   "cell_type": "code",
   "execution_count": 39,
   "metadata": {},
   "outputs": [],
   "source": [
    "### Convert into Dictionary--------------------\n",
    "empGBy = empGBy[['empName','salesTarget']]\n",
    "t1List = empGBy.values.tolist() ##Convert into List\n",
    "mapDic1 = {code: name for code, name in t1List}\n",
    "empSort['Total'] = empSort['empName'].map(mapDic1)\n",
    "empSort['Percentage'] = (empSort['salesTarget'] / empSort['Total'])*100"
   ]
  },
  {
   "cell_type": "code",
   "execution_count": 54,
   "metadata": {},
   "outputs": [],
   "source": [
    "### to Hide and Show----------------------------\n",
    "empSort['Department'] = empSort['empName']\n",
    "empSort['Vertical'] = empSort['empName']\n",
    "empSort.loc[empSort[\"itemDesc\"] != \"Total\", [\"Vertical\"]] = '---' #  rlSort[\"status\"]"
   ]
  },
  {
   "cell_type": "code",
   "execution_count": 28,
   "metadata": {},
   "outputs": [],
   "source": [
    "empData=[]\n",
    "for i in range(empSort.shape[0]):\n",
    "        temp=empSort.iloc[i]\n",
    "        empData.append(dict(temp))"
   ]
  },
  {
   "cell_type": "code",
   "execution_count": null,
   "metadata": {},
   "outputs": [],
   "source": []
  }
 ],
 "metadata": {
  "celltoolbar": "Raw Cell Format",
  "kernelspec": {
   "display_name": "Python 3 (ipykernel)",
   "language": "python",
   "name": "python3"
  },
  "language_info": {
   "codemirror_mode": {
    "name": "ipython",
    "version": 3
   },
   "file_extension": ".py",
   "mimetype": "text/x-python",
   "name": "python",
   "nbconvert_exporter": "python",
   "pygments_lexer": "ipython3",
   "version": "3.9.12"
  }
 },
 "nbformat": 4,
 "nbformat_minor": 2
}
