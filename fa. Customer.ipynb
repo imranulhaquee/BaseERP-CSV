{
 "cells": [
  {
   "cell_type": "markdown",
   "metadata": {},
   "source": [
    "<p style=\"font-family:Calibri; font-size:1.75em; color:white; padding:5px 5px; text-align: left; height:50px; border-bottom: 1px solid orange;\"></p>"
   ]
  },
  {
   "cell_type": "markdown",
   "metadata": {},
   "source": [
    "<p style=\"font-size:2.2em; color:white; padding:25px; border-bottom: 5px solid #ffb701; background:#143157;\"> \n",
    "Save as CSV (Customer Master Data) </p>\n",
    "Extract Customer Complete Information and Save as CSV file"
   ]
  },
  {
   "cell_type": "code",
   "execution_count": 19,
   "metadata": {},
   "outputs": [],
   "source": [
    "import pandas as pd\n",
    "import numpy as np\n",
    "pd.options.display.float_format = '{:,.0f}'.format\n",
    "pd.set_option('display.max_columns', 85) # set Jupeter note book to dispay 85 columns"
   ]
  },
  {
   "cell_type": "markdown",
   "metadata": {},
   "source": [
    "<p style=\"font-size:1.5em; color:white; padding:5px; border-bottom: 3px solid orange; background: #3c5c75; margin: 25px 0 -7px 0;\"> \n",
    "Step 1 - Create Engine and read data in Pandas </p>"
   ]
  },
  {
   "cell_type": "markdown",
   "metadata": {},
   "source": [
    "<p style=\"font-family:Calibri; font-size:1.75em; color:#04405e; padding:5px 5px; margin: 10px 0 -7px 20px;\n",
    "border-bottom: 3px solid #e39c19; background: #afe4ff;\">  \n",
    "Step 1a - Create SQL Engine</p>"
   ]
  },
  {
   "cell_type": "code",
   "execution_count": 20,
   "metadata": {},
   "outputs": [],
   "source": [
    "import sqlite3\n",
    "import sqlalchemy\n",
    "\n",
    "# here db.sqlite3 is the name mention in settings.py under Databases; and \n",
    "# path should be absolute where 'db.sqlite3' file exist\n",
    "#------------------------------------------------------------------------\n",
    "engine = sqlalchemy.create_engine('sqlite:///D:/IUH/2. Programming/2. App/1a BaseERP/db.sqlite3')"
   ]
  },
  {
   "cell_type": "markdown",
   "metadata": {},
   "source": [
    "<p style=\"font-family:Calibri; font-size:1.75em; color:#04405e; padding:5px 5px; margin: 10px 0 -7px 20px;\n",
    "border-bottom: 3px solid #e39c19; background: #afe4ff;\">  \n",
    "Step 1b - Read Data from SQL </p>"
   ]
  },
  {
   "cell_type": "code",
   "execution_count": 21,
   "metadata": {},
   "outputs": [],
   "source": [
    "basic = pd.read_sql('''SELECT * FROM \"F1_Sales_cusBasic\" ''', con=engine)\n",
    "Extra = pd.read_sql('''SELECT * FROM \"F1_Sales_cusExtra\" ''', con=engine)"
   ]
  },
  {
   "cell_type": "markdown",
   "metadata": {},
   "source": [
    "<p style=\"font-size:1.5em; color:white; padding:5px; border-bottom: 3px solid orange; background: #3c5c75; margin: 25px 0 -7px 0;\"> \n",
    "Step 2 - Merge \"Basic & Extra\" Dataframe by Customer ID </p>"
   ]
  },
  {
   "cell_type": "code",
   "execution_count": 22,
   "metadata": {},
   "outputs": [],
   "source": [
    "Combined = pd.merge(basic, Extra, on=[\"cusCode\"])\n",
    "Combined = Combined.drop(\"id_y\", axis=1)\n",
    "Combined = Combined.rename(columns={'id_x': 'id'})"
   ]
  },
  {
   "cell_type": "code",
   "execution_count": 23,
   "metadata": {},
   "outputs": [],
   "source": [
    "Combined['comment'] = ''"
   ]
  },
  {
   "cell_type": "markdown",
   "metadata": {},
   "source": [
    "<p style=\"font-size:1.5em; color:white; padding:5px; border-bottom: 3px solid orange; background: #3c5c75; margin: 25px 0 -7px 0;\"> \n",
    "Step 3 - Create a \"Customer\" Folder inside \"Data/F1_Sales\" Folder </p>"
   ]
  },
  {
   "cell_type": "code",
   "execution_count": 24,
   "metadata": {},
   "outputs": [],
   "source": [
    "import os\n",
    "\n",
    "data_folder = \"Data/F1_Sales\"\n",
    "sales_folder = \"Customer\"\n",
    "\n",
    "if not os.path.exists(os.path.join(data_folder, sales_folder)):\n",
    "    os.makedirs(os.path.join(data_folder, sales_folder))\n",
    "else:\n",
    "    pass\n"
   ]
  },
  {
   "cell_type": "markdown",
   "metadata": {},
   "source": [
    "<p style=\"font-size:1.5em; color:white; padding:5px; border-bottom: 3px solid orange; background: #3c5c75; margin: 25px 0 -7px 0;\"> \n",
    "Step 4 - Save Customer Master File as CSV File </p>"
   ]
  },
  {
   "cell_type": "code",
   "execution_count": 26,
   "metadata": {},
   "outputs": [],
   "source": [
    "#https://sparkbyexamples.com/pandas/pandas-write-dataframe-to-csv-file/\n",
    "Combined.to_csv('Data/F1_Sales/Customer/CustMaster.csv',index = False)"
   ]
  },
  {
   "cell_type": "markdown",
   "metadata": {},
   "source": [
    "<p style=\"font-family:Calibri; font-size:1.75em; color:white; padding:5px 5px; text-align: left; height:50px; border-bottom: 1px solid orange;\"></p>"
   ]
  },
  {
   "cell_type": "markdown",
   "metadata": {},
   "source": [
    "<p style=\"font-family:Calibri; font-size:1.75em; color:white; padding:5px 5px; text-align: left; height:50px; border-bottom: 1px solid orange; background:#f5eab8\"></p>"
   ]
  },
  {
   "cell_type": "markdown",
   "metadata": {},
   "source": [
    "<p style=\"font-size:2.2em; color:white; padding:25px; border-bottom: 5px solid #ffb701; background:#143157;\"> \n",
    "    Get Customer Detail - <span style=\"font-size:.75em; color: #11a1f5;\"> Customer Code and Name </span></p>\n",
    "<<< f1_cusList >>>"
   ]
  },
  {
   "cell_type": "code",
   "execution_count": 46,
   "metadata": {},
   "outputs": [],
   "source": [
    "import pandas as pd\n",
    "import numpy as np\n",
    "pd.options.display.float_format = '{:,.0f}'.format\n",
    "pd.set_option('display.max_columns', 85) # set Jupeter note book to dispay 85 columns"
   ]
  },
  {
   "cell_type": "markdown",
   "metadata": {},
   "source": [
    "<p style=\"font-size:1.5em; color:white; padding:5px; border-bottom: 3px solid orange; background: #3c5c75; margin: 25px 0 -7px 0;\"> \n",
    "Step 1 - Read CSV files </p>"
   ]
  },
  {
   "cell_type": "code",
   "execution_count": 47,
   "metadata": {},
   "outputs": [],
   "source": [
    "req_cols = ['cusCode','cusName', 'comment']\n",
    "fPath = \"Data/F1_Sales/Customer/CustMaster.csv\"\n",
    "df = pd.read_csv(fPath, usecols=req_cols, index_col=False, encoding='unicode_escape').fillna(0)"
   ]
  },
  {
   "cell_type": "markdown",
   "metadata": {},
   "source": [
    "<p style=\"font-family:Calibri; font-size:1.2em; color:#061233; padding:5px 5px; margin: 10px 0 -7px 20px;\n",
    "border-bottom: 3px solid #0d1e4f; background: #e3e9fa\">  \n",
    "Step 1a- Remove Duplicate Line and Deleted Record </p>"
   ]
  },
  {
   "cell_type": "code",
   "execution_count": 48,
   "metadata": {},
   "outputs": [],
   "source": [
    "df = df.drop_duplicates(subset=['cusCode'], keep='last')\n",
    "df = df.drop(df.loc[df['comment']=='Delete'].index)"
   ]
  },
  {
   "cell_type": "code",
   "execution_count": 52,
   "metadata": {},
   "outputs": [],
   "source": [
    "### Convert Data into Json Dictionary..................\n",
    "Data = df.to_dict(orient=\"records\")"
   ]
  },
  {
   "cell_type": "markdown",
   "metadata": {},
   "source": [
    "<p style=\"font-family:Calibri; font-size:1.75em; color:white; padding:5px 5px; text-align: left; height:50px; border-bottom: 1px solid orange; background:#f5eab8\"></p>"
   ]
  },
  {
   "cell_type": "markdown",
   "metadata": {},
   "source": [
    "<p style=\"font-size:2.2em; color:white; padding:25px; border-bottom: 5px solid #ffb701; background:#143157;\"> \n",
    "Show Customer Details </p>\n",
    "Read data from csv in Pandas"
   ]
  },
  {
   "cell_type": "code",
   "execution_count": 27,
   "metadata": {},
   "outputs": [],
   "source": [
    "import pandas as pd\n",
    "import numpy as np\n",
    "pd.options.display.float_format = '{:,.0f}'.format\n",
    "pd.set_option('display.max_columns', 85) # set Jupeter note book to dispay 85 columns"
   ]
  },
  {
   "cell_type": "markdown",
   "metadata": {},
   "source": [
    "<p style=\"font-size:1.5em; color:white; padding:5px; border-bottom: 3px solid orange; background: #3c5c75; margin: 25px 0 -7px 0;\"> \n",
    "Step 2 - Remove Duplicate Entry </p>"
   ]
  },
  {
   "cell_type": "code",
   "execution_count": 29,
   "metadata": {},
   "outputs": [],
   "source": [
    "# remove duplicate rows and keep only the last occurrence subequently if that customer Code added\n",
    "# will show because keep last record will not have 'Delete' in comment column\n",
    "DataA = df.drop_duplicates(subset=['cusCode'], keep='last')\n",
    "DataB = DataA.drop(DataA.loc[DataA['comment']=='Delete'].index)"
   ]
  },
  {
   "cell_type": "markdown",
   "metadata": {},
   "source": [
    "<p style=\"font-size:1.5em; color:white; padding:5px; border-bottom: 3px solid orange; background: #3c5c75; margin: 25px 0 -7px 0;\"> \n",
    "Step 3 - Convert into Json </p>"
   ]
  },
  {
   "cell_type": "code",
   "execution_count": 30,
   "metadata": {},
   "outputs": [],
   "source": [
    "### Convert Data into Json Dictionary (can be access by JavaScript) .........\n",
    "Data = DataB.to_dict(orient=\"records\")"
   ]
  },
  {
   "cell_type": "markdown",
   "metadata": {},
   "source": [
    "<p style=\"font-family:Calibri; font-size:1.75em; color:white; padding:5px 5px; text-align: left; height:50px; border-bottom: 1px solid orange;\"></p>"
   ]
  },
  {
   "cell_type": "markdown",
   "metadata": {},
   "source": [
    "<p style=\"font-size:2.2em; color:white; padding:25px; border-bottom: 5px solid #ffb701; background:#143157;\"> \n",
    "Show Customer Specific Details </p>\n",
    "Read data from csv in Pandas"
   ]
  },
  {
   "cell_type": "code",
   "execution_count": 6,
   "metadata": {},
   "outputs": [],
   "source": [
    "import pandas as pd\n",
    "import numpy as np\n",
    "pd.options.display.float_format = '{:,.0f}'.format\n",
    "pd.set_option('display.max_columns', 85) # set Jupeter note book to dispay 85 columns"
   ]
  },
  {
   "cell_type": "markdown",
   "metadata": {},
   "source": [
    "<p style=\"font-size:1.5em; color:white; padding:5px; border-bottom: 3px solid orange; background: #3c5c75; margin: 25px 0 -7px 0;\"> \n",
    "Step 1 - Read CSV files </p>"
   ]
  },
  {
   "cell_type": "code",
   "execution_count": 7,
   "metadata": {},
   "outputs": [],
   "source": [
    "###---- Customer Master File to Get Last Quotation Number -------------\n",
    "req_cols = ['cusCode','cusName', 'cusBillTo','cusShipTo', 'comment']\n",
    "df = pd.read_csv(\"Data/F1_Sales/Customer/CustMaster.csv\", usecols=req_cols).fillna(0)"
   ]
  },
  {
   "cell_type": "markdown",
   "metadata": {},
   "source": [
    "<p style=\"font-size:1.5em; color:white; padding:5px; border-bottom: 3px solid orange; background: #3c5c75; margin: 25px 0 -7px 0;\"> \n",
    "Step 2 - Remove Duplicate Entry </p>"
   ]
  },
  {
   "cell_type": "code",
   "execution_count": 8,
   "metadata": {},
   "outputs": [],
   "source": [
    "# remove duplicate rows and keep only the last occurrence subequently if that customer Code added\n",
    "# will show because keep last record will not have 'Delete' in comment column\n",
    "DataA = df.drop_duplicates(subset=['cusCode'], keep='last')\n",
    "DataB = DataA.drop(DataA.loc[DataA['comment']=='Delete'].index)\n",
    "DataB = DataB.drop('comment', axis=1)"
   ]
  },
  {
   "cell_type": "markdown",
   "metadata": {},
   "source": [
    "<p style=\"font-size:1.5em; color:white; padding:5px; border-bottom: 3px solid orange; background: #3c5c75; margin: 25px 0 -7px 0;\"> \n",
    "Step 3 - Convert into Json </p>"
   ]
  },
  {
   "cell_type": "code",
   "execution_count": 9,
   "metadata": {},
   "outputs": [],
   "source": [
    "### Convert Data into Json Dictionary (can be access by JavaScript) .........\n",
    "Data = DataB.to_dict(orient=\"records\")"
   ]
  },
  {
   "cell_type": "markdown",
   "metadata": {},
   "source": [
    "<p style=\"font-family:Calibri; font-size:1.75em; color:white; padding:5px 5px; text-align: left; height:50px; border-bottom: 1px solid orange;\"></p>"
   ]
  },
  {
   "cell_type": "markdown",
   "metadata": {},
   "source": [
    "<p style=\"font-size:2.2em; color:white; padding:25px; border-bottom: 5px solid #ffb701; background:#143157;\"> \n",
    "Show Items Specific Details </p>\n",
    "Read data from csv in Pandas"
   ]
  },
  {
   "cell_type": "code",
   "execution_count": 1,
   "metadata": {},
   "outputs": [],
   "source": [
    "import pandas as pd\n",
    "import numpy as np\n",
    "pd.options.display.float_format = '{:,.0f}'.format\n",
    "pd.set_option('display.max_columns', 85) # set Jupeter note book to dispay 85 columns"
   ]
  },
  {
   "cell_type": "markdown",
   "metadata": {},
   "source": [
    "<p style=\"font-size:1.5em; color:white; padding:5px; border-bottom: 3px solid orange; background: #3c5c75; margin: 25px 0 -7px 0;\"> \n",
    "Step 1 - Read CSV files </p>"
   ]
  },
  {
   "cell_type": "code",
   "execution_count": 2,
   "metadata": {},
   "outputs": [],
   "source": [
    "###---- Customer Master File to Get Last Quotation Number -------------\n",
    "req_cols = ['itmCode','itmName', 'comment']\n",
    "df = pd.read_csv(\"Data/H1_Items/Item/ItemMaster.csv\", usecols=req_cols).fillna(0)"
   ]
  },
  {
   "cell_type": "markdown",
   "metadata": {},
   "source": [
    "<p style=\"font-size:1.5em; color:white; padding:5px; border-bottom: 3px solid orange; background: #3c5c75; margin: 25px 0 -7px 0;\"> \n",
    "Step 2 - Remove Duplicate Entry </p>"
   ]
  },
  {
   "cell_type": "code",
   "execution_count": 3,
   "metadata": {},
   "outputs": [],
   "source": [
    "# remove duplicate rows and keep only the last occurrence\n",
    "DataA = df.drop_duplicates(subset=['itmCode'], keep='last')\n",
    "# remove rows where comment column have string 'Delele'\n",
    "DataB = DataA.drop(DataA.loc[DataA['comment']=='Delete'].index)\n",
    "DataB = DataB.drop('comment', axis=1)"
   ]
  },
  {
   "cell_type": "markdown",
   "metadata": {},
   "source": [
    "<p style=\"font-size:1.5em; color:white; padding:5px; border-bottom: 3px solid orange; background: #3c5c75; margin: 25px 0 -7px 0;\"> \n",
    "Step 3 - Convert into Json </p>"
   ]
  },
  {
   "cell_type": "code",
   "execution_count": 6,
   "metadata": {},
   "outputs": [],
   "source": [
    "### Convert Data into Json Dictionary..................\n",
    "Data = DataB.to_dict(orient=\"records\")"
   ]
  },
  {
   "cell_type": "code",
   "execution_count": 26,
   "metadata": {},
   "outputs": [],
   "source": [
    "abc = '20230032'\n",
    "num = int(abc[4:])+1"
   ]
  },
  {
   "cell_type": "markdown",
   "metadata": {},
   "source": [
    "<p style=\"font-size:2.2em; color:white; padding:25px; border-bottom: 5px solid #ffb701; background:#143157;\"> \n",
    "Last id Number from DataBase </p>\n",
    "Read data from csv in Pandas"
   ]
  },
  {
   "cell_type": "code",
   "execution_count": 4,
   "metadata": {},
   "outputs": [],
   "source": [
    "import pandas as pd\n",
    "import numpy as np\n",
    "pd.options.display.float_format = '{:,.0f}'.format\n",
    "pd.set_option('display.max_columns', 85) # set Jupeter note book to dispay 85 columns"
   ]
  },
  {
   "cell_type": "markdown",
   "metadata": {},
   "source": [
    "<p style=\"font-size:1.5em; color:white; padding:5px; border-bottom: 3px solid orange; background: #3c5c75; margin: 25px 0 -7px 0;\"> \n",
    "Step 1 - Create Engine and read data in Pandas </p>"
   ]
  },
  {
   "cell_type": "markdown",
   "metadata": {},
   "source": [
    "<p style=\"font-family:Calibri; font-size:1.75em; color:#04405e; padding:5px 5px; margin: 10px 0 -7px 20px;\n",
    "border-bottom: 3px solid #e39c19; background: #afe4ff;\">  \n",
    "Step 1a - Create SQL Engine</p>"
   ]
  },
  {
   "cell_type": "code",
   "execution_count": 5,
   "metadata": {},
   "outputs": [],
   "source": [
    "import sqlite3\n",
    "import sqlalchemy\n",
    "\n",
    "# here db.sqlite3 is the name mention in settings.py under Databases; and \n",
    "# path should be absolute where 'db.sqlite3' file exist\n",
    "#------------------------------------------------------------------------\n",
    "engine = sqlalchemy.create_engine('sqlite:///D:/IUH/2. Programming/2. App/1a BaseERP-CSV/db.sqlite3')"
   ]
  },
  {
   "cell_type": "markdown",
   "metadata": {},
   "source": [
    "<p style=\"font-family:Calibri; font-size:1.75em; color:#04405e; padding:5px 5px; margin: 10px 0 -7px 20px;\n",
    "border-bottom: 3px solid #e39c19; background: #afe4ff;\">  \n",
    "Step 1b - Read Data from SQL </p>"
   ]
  },
  {
   "cell_type": "code",
   "execution_count": 6,
   "metadata": {},
   "outputs": [
    {
     "data": {
      "text/plain": [
       "5"
      ]
     },
     "execution_count": 6,
     "metadata": {},
     "output_type": "execute_result"
    }
   ],
   "source": [
    "Max = '''SELECT MAX(id) FROM \"F1_Sales_qotAddi\"'''\n",
    "df2 = pd.read_sql(Max, con=engine)\n",
    "val = df2.rename(columns={df2.columns[0]: 'new'})\n",
    "val.fillna(0, inplace=True)\n",
    "lastN = val.loc[0, 'new']\n",
    "lastN  = lastN+1\n",
    "lastN"
   ]
  },
  {
   "cell_type": "markdown",
   "metadata": {},
   "source": [
    "<p style=\"font-family:Calibri; font-size:1.75em; color:white; padding:5px 5px; text-align: left; height:50px; border-bottom: 1px solid orange;\"></p>"
   ]
  },
  {
   "cell_type": "markdown",
   "metadata": {},
   "source": [
    "<p style=\"font-size:2.2em; color:white; padding:25px; border-bottom: 5px solid #ffb701; background:#143157;\"> \n",
    "Last id Number from Excel File </p>\n",
    "Read data from csv in Pandas"
   ]
  },
  {
   "cell_type": "code",
   "execution_count": 1,
   "metadata": {},
   "outputs": [],
   "source": [
    "import pandas as pd\n",
    "import numpy as np\n",
    "pd.options.display.float_format = '{:,.0f}'.format\n",
    "pd.set_option('display.max_columns', 85) # set Jupeter note book to dispay 85 columns"
   ]
  },
  {
   "cell_type": "markdown",
   "metadata": {},
   "source": [
    "<p style=\"font-size:1.5em; color:white; padding:5px; border-bottom: 3px solid orange; background: #3c5c75; margin: 25px 0 -7px 0;\"> \n",
    "Step 1 - Qutation File to Get Last Quotation Number </p>"
   ]
  },
  {
   "cell_type": "code",
   "execution_count": 2,
   "metadata": {},
   "outputs": [],
   "source": [
    "req_quot = ['qotRef']\n",
    "dfQuot = pd.read_csv(\"Data/F1_Sales/Quotation/salQuot2023.csv\", usecols=req_quot)\n",
    "lastQuot = dfQuot['qotRef'].max()"
   ]
  },
  {
   "cell_type": "code",
   "execution_count": 4,
   "metadata": {},
   "outputs": [
    {
     "name": "stdout",
     "output_type": "stream",
     "text": [
      "0\n"
     ]
    }
   ],
   "source": [
    "# check if the variable is NaN and replace it with 1 if it is blank count as 0 need where there is no Record\n",
    "if (lastQuot >= 0):\n",
    "    pass\n",
    "else:\n",
    "    lastQuot = 0\n",
    "print(lastQuot)"
   ]
  },
  {
   "cell_type": "markdown",
   "metadata": {},
   "source": [
    "<p style=\"font-family:Calibri; font-size:1.75em; color:white; padding:5px 5px; text-align: left; height:50px; border-bottom: 1px solid orange;\"></p>"
   ]
  },
  {
   "cell_type": "markdown",
   "metadata": {},
   "source": [
    "<p style=\"font-size:2.2em; color:white; padding:25px; border-bottom: 5px solid #ffb701; background:#143157;\"> \n",
    "Show Quotation Details </p>\n",
    "Read data from csv in Pandas"
   ]
  },
  {
   "cell_type": "code",
   "execution_count": 1,
   "metadata": {},
   "outputs": [],
   "source": [
    "import pandas as pd\n",
    "import numpy as np\n",
    "pd.options.display.float_format = '{:,.0f}'.format\n",
    "pd.set_option('display.max_columns', 85) # set Jupeter note book to dispay 85 columns"
   ]
  },
  {
   "cell_type": "markdown",
   "metadata": {},
   "source": [
    "<p style=\"font-size:1.5em; color:white; padding:5px; border-bottom: 3px solid orange; background: #3c5c75; margin: 25px 0 -7px 0;\"> \n",
    "Step 1 - Read CSV files </p>"
   ]
  },
  {
   "cell_type": "code",
   "execution_count": 2,
   "metadata": {},
   "outputs": [],
   "source": [
    "###---- Read Customer Master File 'cusCode and cusName' columns -------------\n",
    "req_cols = ['cusCode','cusName']\n",
    "dfSal = pd.read_csv(\"Data/F1_Sales/Customer/CustMaster.csv\", usecols=req_cols).fillna(0)\n",
    "\n",
    "###---- Read Quotation master File ------------------------------------------\n",
    "DataA = pd.read_csv(\"Data/F1_Sales/Quotation/salQuot2023.csv\").fillna(0)"
   ]
  },
  {
   "cell_type": "code",
   "execution_count": 3,
   "metadata": {},
   "outputs": [],
   "source": [
    "DataA['customer'] = DataA['cusCode']"
   ]
  },
  {
   "cell_type": "code",
   "execution_count": 4,
   "metadata": {},
   "outputs": [],
   "source": [
    "#Convert Customer Data Fram into Python List--------------------------------------\n",
    "dfSalA = dfSal.set_index('cusCode') # set CusCode As Index\n",
    "data_dict = dfSalA['cusName'].to_dict() # Convert the DataFrame to a dictionary\n",
    "DataA.customer = DataA.customer.map(data_dict).fillna(0) ### map to lookup data_dict"
   ]
  },
  {
   "cell_type": "code",
   "execution_count": 5,
   "metadata": {},
   "outputs": [],
   "source": [
    "DataA.loc[DataA[\"customer\"] == 0, [\"customer\"]] = DataA[\"cusCode\"]\n",
    "### same function as above but due to np it is faster\n",
    "#DataA[\"customer\"] = np.where(DataA[\"customer\"] == 0, DataA['cusCode'], DataA[\"customer\"])\n",
    "DataA[\"customer\"] = DataA[\"customer\"].apply(lambda x: str(x) + '-A' if isinstance(x, (int, float)) else x)"
   ]
  },
  {
   "cell_type": "markdown",
   "metadata": {},
   "source": [
    "<p style=\"font-size:1.5em; color:white; padding:5px; border-bottom: 3px solid orange; background: #3c5c75; margin: 25px 0 -7px 0;\"> \n",
    "Step 2 - Remove Duplicate Entry </p>"
   ]
  },
  {
   "cell_type": "code",
   "execution_count": 6,
   "metadata": {},
   "outputs": [],
   "source": [
    "# remove duplicate rows and keep only the last occurrence subequently if that customer Code added\n",
    "# will show because keep last record will not have 'Delete' in comment column\n",
    "DataA = DataA.drop_duplicates(subset=['qotRef'], keep='last')\n",
    "DataB = DataA.drop(DataA.loc[DataA['comment']=='Delete'].index)"
   ]
  },
  {
   "cell_type": "markdown",
   "metadata": {},
   "source": [
    "<p style=\"font-size:1.5em; color:white; padding:5px; border-bottom: 3px solid orange; background: #3c5c75; margin: 25px 0 -7px 0;\"> \n",
    "Step 3 - Convert into Json </p>"
   ]
  },
  {
   "cell_type": "code",
   "execution_count": 7,
   "metadata": {},
   "outputs": [],
   "source": [
    "### Convert Data into Json Dictionary (can be access by JavaScript) .........\n",
    "Data = DataB.to_dict(orient=\"records\")"
   ]
  },
  {
   "cell_type": "code",
   "execution_count": 8,
   "metadata": {},
   "outputs": [
    {
     "data": {
      "text/plain": [
       "[{'id': 20230001,\n",
       "  'qotRef': 20230001,\n",
       "  'qotDat': '2023-04-21',\n",
       "  'cusCode': 22310093,\n",
       "  'cusName': \"Women's Medical Center (Dr. Ameena)\",\n",
       "  'qotTBD': 13539.0,\n",
       "  'qotTAD': 12979.0,\n",
       "  'qotTax': 648.95,\n",
       "  'qotTAT': 13627.95,\n",
       "  'shipTo': '1st Floor Office No. 7 Al Mamzar Center Near Al Mulla Plaza Dubai',\n",
       "  'qotComm': \"Nutrient Toner & Nutrient Toner to Women's Medical Center (Dr. Ameena)\",\n",
       "  'salPer': 'Tariq Naeem',\n",
       "  'opnClo': 'Open',\n",
       "  'comment': 0.0,\n",
       "  'customer': \"Women's Medical Center (Dr. Ameena)\"},\n",
       " {'id': 20230002,\n",
       "  'qotRef': 20230002,\n",
       "  'qotDat': '2023-04-21',\n",
       "  'cusCode': 22310102,\n",
       "  'cusName': 'Health &amp; Aesthetic Medical Center',\n",
       "  'qotTBD': 68700.0,\n",
       "  'qotTAD': 49200.0,\n",
       "  'qotTax': 2460.0,\n",
       "  'qotTAT': 51660.0,\n",
       "  'shipTo': 'Buheira Corniche - Sharjah United Arab Emirates',\n",
       "  'qotComm': 'Galderma Product to Health &amp; Aesthetic Medical Center',\n",
       "  'salPer': 'James William',\n",
       "  'opnClo': 'Open',\n",
       "  'comment': 0.0,\n",
       "  'customer': 'Health & Aesthetic Medical Center'},\n",
       " {'id': 20230003,\n",
       "  'qotRef': 20230003,\n",
       "  'qotDat': '2023-04-17',\n",
       "  'cusCode': 22310097,\n",
       "  'cusName': 'Sahar Pharmacy',\n",
       "  'qotTBD': 17600.0,\n",
       "  'qotTAD': 10600.0,\n",
       "  'qotTax': 530.0,\n",
       "  'qotTAT': 11130.0,\n",
       "  'shipTo': 'Qasimia - behind Al Dewan Al Amere Sharjah United Arab Emirates',\n",
       "  'qotComm': 'Shrinking Violet Extreme Booster to Sahar Pharmacy',\n",
       "  'salPer': 'George A.',\n",
       "  'opnClo': 'Open',\n",
       "  'comment': 0.0,\n",
       "  'customer': 'Sahar Pharmacy'},\n",
       " {'id': 20230004,\n",
       "  'qotRef': 20230004,\n",
       "  'qotDat': '2023-01-16',\n",
       "  'cusCode': 22310626,\n",
       "  'cusName': 'Slim Spa - Dubai',\n",
       "  'qotTBD': 34400.0,\n",
       "  'qotTAD': 31700.0,\n",
       "  'qotTax': 1585.0,\n",
       "  'qotTAT': 33285.0,\n",
       "  'shipTo': '206 Al Attar Tower Dubai United Arab Emirates',\n",
       "  'qotComm': 'SRS Body Fit Corporel to Slim Spa - Dubai',\n",
       "  'salPer': 'Sara',\n",
       "  'opnClo': 'Open',\n",
       "  'comment': 0.0,\n",
       "  'customer': '22310626-A'},\n",
       " {'id': 20230005,\n",
       "  'qotRef': 20230005,\n",
       "  'qotDat': '2023-01-16',\n",
       "  'cusCode': 22310626,\n",
       "  'cusName': 'Slim Spa - Dubai',\n",
       "  'qotTBD': 29550.0,\n",
       "  'qotTAD': 23050.0,\n",
       "  'qotTax': 1152.5,\n",
       "  'qotTAT': 24202.5,\n",
       "  'shipTo': '206 Al Attar Tower Dubai United Arab Emirates',\n",
       "  'qotComm': 'Multiple Items to Slim Spa - Dubai',\n",
       "  'salPer': 'Benjamin',\n",
       "  'opnClo': 'Open',\n",
       "  'comment': 0.0,\n",
       "  'customer': '22310626-A'},\n",
       " {'id': 20230006,\n",
       "  'qotRef': 20230006,\n",
       "  'qotDat': '2023-02-23',\n",
       "  'cusCode': 22310773,\n",
       "  'cusName': 'BETTER MEDICAL SOLUTIONS LLC (COSMECLIC).',\n",
       "  'qotTBD': 57000.0,\n",
       "  'qotTAD': 48500.0,\n",
       "  'qotTax': 2425.0,\n",
       "  'qotTAT': 50925.0,\n",
       "  'shipTo': 'Muscat Oman',\n",
       "  'qotComm': 'Planmeca Products to BETTER MEDICAL SOLUTIONS LLC (COSMECLIC).',\n",
       "  'salPer': 'Sara',\n",
       "  'opnClo': 'Open',\n",
       "  'comment': 0.0,\n",
       "  'customer': '22310773-A'},\n",
       " {'id': 20230008,\n",
       "  'qotRef': 20230008,\n",
       "  'qotDat': '2023-04-21',\n",
       "  'cusCode': 22310135,\n",
       "  'cusName': 'Bait Al Maqdes Pharmacy LLC',\n",
       "  'qotTBD': 7500.0,\n",
       "  'qotTAD': 6390.0,\n",
       "  'qotTax': 319.5,\n",
       "  'qotTAT': 6709.5,\n",
       "  'shipTo': 'Al Wahda St. Sharjah United Arab Emirates',\n",
       "  'qotComm': 'Ultra Peel II 100ml & Weightless Prot. SPF 45.2.2 Oz  to Bait Al Maqdes Pharmacy LLC',\n",
       "  'salPer': 'John William',\n",
       "  'opnClo': 'Open',\n",
       "  'comment': 0.0,\n",
       "  'customer': '22310135-A'},\n",
       " {'id': 20230009,\n",
       "  'qotRef': 20230009,\n",
       "  'qotDat': '2023-04-21',\n",
       "  'cusCode': 22310021,\n",
       "  'cusName': 'Mohammed Hamoud Alshaya(LLC) -Dubai Br',\n",
       "  'qotTBD': 100.0,\n",
       "  'qotTAD': 90.0,\n",
       "  'qotTax': 4.5,\n",
       "  'qotTAT': 94.5,\n",
       "  'shipTo': 'PO BOX 1277',\n",
       "  'qotComm': 'PCA SKIN Fan to Mohammed Hamoud Alshaya(LLC) -Dubai Br',\n",
       "  'salPer': 'Hammed',\n",
       "  'opnClo': 'Open',\n",
       "  'comment': 0.0,\n",
       "  'customer': '22310021-A'},\n",
       " {'id': 20230011,\n",
       "  'qotRef': 20230011,\n",
       "  'qotDat': '2023-04-21',\n",
       "  'cusCode': 22310270,\n",
       "  'cusName': 'Gulf Diagnostic Centre Hospital- WLL',\n",
       "  'qotTBD': 1400.0,\n",
       "  'qotTAD': 1340.0,\n",
       "  'qotTax': 67.0,\n",
       "  'qotTAT': 1407.0,\n",
       "  'shipTo': 'Al Khaleej Al Arabi Street',\n",
       "  'qotComm': 'Excel V Calibration Fiber 600 um to Gulf Diagnostic Centre Hospital- WLL',\n",
       "  'salPer': 'Sara',\n",
       "  'opnClo': 'Open',\n",
       "  'comment': 0.0,\n",
       "  'customer': '22310270-A'},\n",
       " {'id': 20230012,\n",
       "  'qotRef': 20230012,\n",
       "  'qotDat': '2023-04-21',\n",
       "  'cusCode': 2310101,\n",
       "  'cusName': 'Cash Customer',\n",
       "  'qotTBD': 400.0,\n",
       "  'qotTAD': 380.0,\n",
       "  'qotTax': 19.0,\n",
       "  'qotTAT': 399.0,\n",
       "  'shipTo': '0',\n",
       "  'qotComm': '0',\n",
       "  'salPer': '0',\n",
       "  'opnClo': 'Open',\n",
       "  'comment': 0.0,\n",
       "  'customer': '2310101-A'},\n",
       " {'id': 20230013,\n",
       "  'qotRef': 20230013,\n",
       "  'qotDat': '2023-04-22',\n",
       "  'cusCode': 2310101,\n",
       "  'cusName': 'Cash Customer',\n",
       "  'qotTBD': 2500.0,\n",
       "  'qotTAD': 2450.0,\n",
       "  'qotTax': 122.5,\n",
       "  'qotTAT': 2572.5,\n",
       "  'shipTo': '0',\n",
       "  'qotComm': '0',\n",
       "  'salPer': '0',\n",
       "  'opnClo': 'Open',\n",
       "  'comment': 0.0,\n",
       "  'customer': '2310101-A'},\n",
       " {'id': 20230014,\n",
       "  'qotRef': 20230014,\n",
       "  'qotDat': '2023-04-23',\n",
       "  'cusCode': 22310037,\n",
       "  'cusName': 'Qmedic (close account)',\n",
       "  'qotTBD': 500.0,\n",
       "  'qotTAD': 470.0,\n",
       "  'qotTax': 23.5,\n",
       "  'qotTAT': 493.5,\n",
       "  'shipTo': 'Al Nasr Area 39 - Bin Sanan Street Old Blue Saloon Bldg#23  4th Floor',\n",
       "  'qotComm': 'Test',\n",
       "  'salPer': 'test man',\n",
       "  'opnClo': 'Open',\n",
       "  'comment': 0.0,\n",
       "  'customer': '22310037-A'},\n",
       " {'id': 20230015,\n",
       "  'qotRef': 20230015,\n",
       "  'qotDat': '2023-04-23',\n",
       "  'cusCode': 22310093,\n",
       "  'cusName': \"Women's Medical Center (Dr. Ameena)\",\n",
       "  'qotTBD': 100.0,\n",
       "  'qotTAD': 90.0,\n",
       "  'qotTax': 4.5,\n",
       "  'qotTAT': 94.5,\n",
       "  'shipTo': '1st Floor Office No. 7 Al Mamzar Center Near Al Mulla Plaza Dubai',\n",
       "  'qotComm': 'sdf',\n",
       "  'salPer': 'asdf',\n",
       "  'opnClo': 'Open',\n",
       "  'comment': 0.0,\n",
       "  'customer': \"Women's Medical Center (Dr. Ameena)\"},\n",
       " {'id': 20230019,\n",
       "  'qotRef': 20230019,\n",
       "  'qotDat': '2023-05-06',\n",
       "  'cusCode': 22310012,\n",
       "  'cusName': 'Specialized Medical Care Hospital ',\n",
       "  'qotTBD': 500.0,\n",
       "  'qotTAD': 480.0,\n",
       "  'qotTax': 24.0,\n",
       "  'qotTAT': 504.0,\n",
       "  'shipTo': 'Al Jahili Area, Alain',\n",
       "  'qotComm': 0,\n",
       "  'salPer': 0,\n",
       "  'opnClo': 'Open',\n",
       "  'comment': 0.0,\n",
       "  'customer': '22310012-A'},\n",
       " {'id': 20230021,\n",
       "  'qotRef': 20230021,\n",
       "  'qotDat': '2023-05-10',\n",
       "  'cusCode': 22310102,\n",
       "  'cusName': 'Health &amp; Aesthetic Medical Center ',\n",
       "  'qotTBD': 350.0,\n",
       "  'qotTAD': 320.0,\n",
       "  'qotTax': 16.0,\n",
       "  'qotTAT': 336.0,\n",
       "  'shipTo': 'Ship to abc',\n",
       "  'qotComm': 'Description ABC',\n",
       "  'salPer': 'ABC',\n",
       "  'opnClo': 'Open',\n",
       "  'comment': 0.0,\n",
       "  'customer': 'Health & Aesthetic Medical Center'},\n",
       " {'id': 20230022,\n",
       "  'qotRef': 20230022,\n",
       "  'qotDat': '2023-05-10',\n",
       "  'cusCode': 22310093,\n",
       "  'cusName': \"Women's Medical Center (Dr. Ameena) \",\n",
       "  'qotTBD': 625940.0,\n",
       "  'qotTAD': 495940.0,\n",
       "  'qotTax': 24797.0,\n",
       "  'qotTAT': 520737.0,\n",
       "  'shipTo': 'Ship to New Customer',\n",
       "  'qotComm': 'Description of New Customer',\n",
       "  'salPer': '12553',\n",
       "  'opnClo': 'Open',\n",
       "  'comment': 0.0,\n",
       "  'customer': \"Women's Medical Center (Dr. Ameena)\"},\n",
       " {'id': 20230023,\n",
       "  'qotRef': 20230023,\n",
       "  'qotDat': '2023-05-10',\n",
       "  'cusCode': 22310097,\n",
       "  'cusName': 'Sahar Pharmacy ',\n",
       "  'qotTBD': 976325.0,\n",
       "  'qotTAD': 972825.0,\n",
       "  'qotTax': 48641.0,\n",
       "  'qotTAT': 1021466.0,\n",
       "  'shipTo': 'sdfdsf',\n",
       "  'qotComm': 'sdfsdf',\n",
       "  'salPer': '329',\n",
       "  'opnClo': 'Open',\n",
       "  'comment': 0.0,\n",
       "  'customer': 'Sahar Pharmacy'},\n",
       " {'id': 20230024,\n",
       "  'qotRef': 20230024,\n",
       "  'qotDat': '2023-05-10',\n",
       "  'cusCode': 22310097,\n",
       "  'cusName': 'Sahar Pharmacy ',\n",
       "  'qotTBD': 961800.0,\n",
       "  'qotTAD': 811800.0,\n",
       "  'qotTax': 40590.0,\n",
       "  'qotTAT': 852390.0,\n",
       "  'shipTo': 'Qasimia - behind Al Dewan Al Amere Sharjah United Arab Emirates',\n",
       "  'qotComm': 'fsfsdffdsdf',\n",
       "  'salPer': '366',\n",
       "  'opnClo': 'Open',\n",
       "  'comment': 0.0,\n",
       "  'customer': 'Sahar Pharmacy'},\n",
       " {'id': 20230025,\n",
       "  'qotRef': 20230025,\n",
       "  'qotDat': '2023-05-10',\n",
       "  'cusCode': 22310093,\n",
       "  'cusName': \"Women's Medical Center (Dr. Ameena) \",\n",
       "  'qotTBD': 1539800.0,\n",
       "  'qotTAD': 1434800.0,\n",
       "  'qotTax': 71740.0,\n",
       "  'qotTAT': 1506540.0,\n",
       "  'shipTo': '1st Floor Office No. 7 Al Mamzar Center Near Al Mulla Plaza Dubai',\n",
       "  'qotComm': 'sdfsadfasf',\n",
       "  'salPer': '329',\n",
       "  'opnClo': 'Open',\n",
       "  'comment': 0.0,\n",
       "  'customer': \"Women's Medical Center (Dr. Ameena)\"},\n",
       " {'id': 20230026,\n",
       "  'qotRef': 20230026,\n",
       "  'qotDat': '2023-05-11',\n",
       "  'cusCode': 22310102,\n",
       "  'cusName': 'Health &amp; Aesthetic Medical Center ',\n",
       "  'qotTBD': 468650.0,\n",
       "  'qotTAD': 318650.0,\n",
       "  'qotTax': 15933.0,\n",
       "  'qotTAT': 334583.0,\n",
       "  'shipTo': 'Buheira Corniche - Sharjah United Arab Emirates',\n",
       "  'qotComm': 'sdgdsfgsdf',\n",
       "  'salPer': '417',\n",
       "  'opnClo': 'Open',\n",
       "  'comment': 0.0,\n",
       "  'customer': 'Health & Aesthetic Medical Center'},\n",
       " {'id': 20230027,\n",
       "  'qotRef': 20230027,\n",
       "  'qotDat': '2023-05-11',\n",
       "  'cusCode': 22310102,\n",
       "  'cusName': 'Health &amp; Aesthetic Medical Center ',\n",
       "  'qotTBD': 2459135.0,\n",
       "  'qotTAD': 2086345.0,\n",
       "  'qotTax': 104317.0,\n",
       "  'qotTAT': 2190662.0,\n",
       "  'shipTo': 'Buheira Corniche - Sharjah United Arab Emirates',\n",
       "  'qotComm': 'Sales of Microneedling',\n",
       "  'salPer': '329',\n",
       "  'opnClo': 'Open',\n",
       "  'comment': 0.0,\n",
       "  'customer': 'Health & Aesthetic Medical Center'}]"
      ]
     },
     "execution_count": 8,
     "metadata": {},
     "output_type": "execute_result"
    }
   ],
   "source": [
    "Data"
   ]
  },
  {
   "cell_type": "markdown",
   "metadata": {},
   "source": [
    "<p style=\"font-family:Calibri; font-size:1.75em; color:white; padding:5px 5px; text-align: left; height:50px; border-bottom: 1px solid orange;\"></p>"
   ]
  },
  {
   "cell_type": "markdown",
   "metadata": {},
   "source": [
    "<p style=\"font-size:2.2em; color:white; padding:25px; border-bottom: 5px solid #ffb701; background:#143157;\"> \n",
    "Last Quotation id Number from Database </p>\n",
    "Read data from csv in Pandas"
   ]
  },
  {
   "cell_type": "markdown",
   "metadata": {},
   "source": [
    "<p style=\"font-family:Calibri; font-size:1.75em; color:#04405e; padding:5px 5px; margin: 10px 0 -7px 20px;\n",
    "border-bottom: 3px solid #e39c19; background: #afe4ff;\">  \n",
    "Step 1a - Create SQL Engine</p>"
   ]
  },
  {
   "cell_type": "code",
   "execution_count": 10,
   "metadata": {},
   "outputs": [],
   "source": [
    "import sqlite3\n",
    "import sqlalchemy\n",
    "\n",
    "# here db.sqlite3 is the name mention in settings.py under Databases; and \n",
    "# path should be absolute where 'db.sqlite3' file exist\n",
    "#------------------------------------------------------------------------\n",
    "engine = sqlalchemy.create_engine('sqlite:///D:/IUH/2. Programming/2. App/1a BaseERP/db.sqlite3')"
   ]
  },
  {
   "cell_type": "markdown",
   "metadata": {},
   "source": [
    "<p style=\"font-family:Calibri; font-size:1.75em; color:#04405e; padding:5px 5px; margin: 10px 0 -7px 20px;\n",
    "border-bottom: 3px solid #e39c19; background: #afe4ff;\">  \n",
    "Step 1b - Read Data from SQL </p>"
   ]
  },
  {
   "cell_type": "code",
   "execution_count": 11,
   "metadata": {},
   "outputs": [
    {
     "data": {
      "text/plain": [
       "20230012"
      ]
     },
     "execution_count": 11,
     "metadata": {},
     "output_type": "execute_result"
    }
   ],
   "source": [
    "Max = '''SELECT MAX(id) FROM \"F1_Sales_qotBasic\"'''\n",
    "df2 = pd.read_sql(Max, con=engine)\n",
    "val = df2.rename(columns={df2.columns[0]: 'new'})\n",
    "val.fillna(0, inplace=True)\n",
    "lastN = val.loc[0, 'new']\n",
    "lastN  = lastN+1\n",
    "lastN"
   ]
  },
  {
   "cell_type": "code",
   "execution_count": 4,
   "metadata": {},
   "outputs": [
    {
     "name": "stdout",
     "output_type": "stream",
     "text": [
      "0\n"
     ]
    }
   ],
   "source": [
    "# check if the variable is NaN and replace it with 1 if it is blank count as 0 need where there is no Record\n",
    "if (lastQuot >= 0):\n",
    "    pass\n",
    "else:\n",
    "    lastQuot = 0\n",
    "print(lastQuot)"
   ]
  },
  {
   "cell_type": "markdown",
   "metadata": {},
   "source": [
    "<p style=\"font-family:Calibri; font-size:1.75em; color:white; padding:5px 5px; text-align: left; height:50px; border-bottom: 1px solid orange;\"></p>"
   ]
  },
  {
   "cell_type": "markdown",
   "metadata": {},
   "source": [
    "<p style=\"font-size:2.2em; color:white; padding:25px; border-bottom: 5px solid #ffb701; background:#143157;\"> \n",
    "Refresh Sales Quotation Details - from Database </p>\n",
    "Read data from csv in Pandas"
   ]
  },
  {
   "cell_type": "code",
   "execution_count": 10,
   "metadata": {},
   "outputs": [],
   "source": [
    "import pandas as pd\n",
    "import numpy as np\n",
    "pd.options.display.float_format = '{:,.0f}'.format\n",
    "pd.set_option('display.max_columns', 85) # set Jupeter note book to dispay 85 columns"
   ]
  },
  {
   "cell_type": "markdown",
   "metadata": {},
   "source": [
    "<p style=\"font-size:1.5em; color:white; padding:5px; border-bottom: 3px solid orange; background: #3c5c75; margin: 25px 0 -7px 0;\"> \n",
    "Step 1 - Create Engine and read data in Pandas </p>"
   ]
  },
  {
   "cell_type": "markdown",
   "metadata": {},
   "source": [
    "<p style=\"font-family:Calibri; font-size:1.75em; color:#04405e; padding:5px 5px; margin: 10px 0 -7px 20px;\n",
    "border-bottom: 3px solid #e39c19; background: #afe4ff;\">  \n",
    "Step 1a - Create SQL Engine</p>"
   ]
  },
  {
   "cell_type": "code",
   "execution_count": 11,
   "metadata": {},
   "outputs": [],
   "source": [
    "import sqlite3\n",
    "import sqlalchemy\n",
    "\n",
    "#------------------------------------------------------------------------\n",
    "engine = sqlalchemy.create_engine('sqlite:///D:/IUH/2. Programming/2. App/1a BaseERP/db.sqlite3')"
   ]
  },
  {
   "cell_type": "markdown",
   "metadata": {},
   "source": [
    "<p style=\"font-size:1.5em; color:white; padding:5px; border-bottom: 3px solid orange; background: #3c5c75; margin: 25px 0 -7px 0;\"> \n",
    "Step 1 - Read CSV files </p>"
   ]
  },
  {
   "cell_type": "code",
   "execution_count": 12,
   "metadata": {},
   "outputs": [],
   "source": [
    "###---- Qutation open/Close File to Get Last Quotation Number -------------\n",
    "DataA = pd.read_sql('''SELECT * FROM \"F1_Sales_qotBasic\" ''', con=engine).fillna(0)"
   ]
  },
  {
   "cell_type": "markdown",
   "metadata": {},
   "source": [
    "<p style=\"font-size:1.5em; color:white; padding:5px; border-bottom: 3px solid orange; background: #3c5c75; margin: 25px 0 -7px 0;\"> \n",
    "Step 2 - Create a \"Quotation\" Folder inside \"Data/F1_Sales\" Folder </p>"
   ]
  },
  {
   "cell_type": "code",
   "execution_count": 13,
   "metadata": {},
   "outputs": [],
   "source": [
    "import os\n",
    "data_folder = \"Data/F1_Sales\"\n",
    "sales_folder = \"Quotation\"\n",
    "\n",
    "if not os.path.exists(os.path.join(data_folder, sales_folder)):\n",
    "    os.makedirs(os.path.join(data_folder, sales_folder))\n",
    "else:\n",
    "    pass"
   ]
  },
  {
   "cell_type": "markdown",
   "metadata": {},
   "source": [
    "<p style=\"font-size:1.5em; color:white; padding:5px; border-bottom: 3px solid orange; background: #3c5c75; margin: 25px 0 -7px 0;\"> \n",
    "Step 3 - Save Customer Master File as CSV File </p>"
   ]
  },
  {
   "cell_type": "code",
   "execution_count": 14,
   "metadata": {},
   "outputs": [],
   "source": [
    "DataA['comment'] = ''\n",
    "DataA.to_csv('Data/F1_Sales/Quotation/salQuot2023.csv',index = False)"
   ]
  },
  {
   "cell_type": "code",
   "execution_count": null,
   "metadata": {},
   "outputs": [],
   "source": []
  },
  {
   "cell_type": "markdown",
   "metadata": {},
   "source": [
    "<p style=\"font-size:2.2em; color:white; padding:25px; border-bottom: 5px solid #0790e0; background:#fcb321;\"> \n",
    "<span style=\"font-size:.75em; color: #11a1f5;\">  </span>  </p>\n",
    "<<< Quotation Profitablility >>>"
   ]
  },
  {
   "cell_type": "markdown",
   "metadata": {},
   "source": [
    "<p style=\"font-size:2.2em; color:white; padding:25px; border-bottom: 5px solid #ffb701; background:#143157;\"> \n",
    "    Sales Quotation Profitability - <span style=\"font-size:.75em; color: #11a1f5;\"> from excel file </span></p>\n",
    "Read data from csv in Pandas"
   ]
  },
  {
   "cell_type": "code",
   "execution_count": 1,
   "metadata": {},
   "outputs": [],
   "source": [
    "import pandas as pd\n",
    "import numpy as np\n",
    "pd.options.display.float_format = '{:,.0f}'.format\n",
    "pd.set_option('display.max_columns', 85) # set Jupeter note book to dispay 85 columns\n",
    "\n",
    "import sqlite3\n",
    "import sqlalchemy\n",
    "engine = sqlalchemy.create_engine('sqlite:///D:/IUH/2. Programming/2. App/1a BaseERP/db.sqlite3')"
   ]
  },
  {
   "cell_type": "markdown",
   "metadata": {},
   "source": [
    "<p style=\"font-size:1.5em; color:white; padding:5px; border-bottom: 3px solid orange; background: #3c5c75; margin: 25px 0 -7px 0;\"> \n",
    "Step 1 - Read Item Salece Price </p>"
   ]
  },
  {
   "cell_type": "code",
   "execution_count": 2,
   "metadata": {},
   "outputs": [],
   "source": [
    "req_Column = ['itmCode', 'uPrice']\n",
    "SP = pd.read_csv(\"Data/H1_Items/Item/ItemSalPrice.csv\", usecols=req_Column ,encoding='unicode_escape').fillna(0)\n",
    "SP = SP.drop_duplicates(subset=['itmCode'], keep='last')\n",
    "SP = SP.to_dict(orient=\"records\")   ### Convert Data into Dictionary\n",
    "SPList = {item['itmCode']: item['uPrice'] for item in SP} # Extract desired values into a new dictionary"
   ]
  },
  {
   "cell_type": "markdown",
   "metadata": {},
   "source": [
    "<p style=\"font-size:1.5em; color:white; padding:5px; border-bottom: 3px solid orange; background: #3c5c75; margin: 25px 0 -7px 0;\"> \n",
    "Step 2 - Read Sales Quote Basic for Employee  </p>"
   ]
  },
  {
   "cell_type": "code",
   "execution_count": 3,
   "metadata": {},
   "outputs": [],
   "source": [
    "pk = \"20230003\"\n",
    "queryBasic = f'SELECT * FROM \"F1_Sales_qotBasic\" WHERE qotRef = {pk}'\n",
    "qotBasic = pd.read_sql(queryBasic, con=engine)\n",
    "empCode = int(qotBasic['salPer'][0]) #get employee code"
   ]
  },
  {
   "cell_type": "code",
   "execution_count": 4,
   "metadata": {},
   "outputs": [],
   "source": [
    "qotBasi = qotBasic.to_dict(orient=\"records\") "
   ]
  },
  {
   "cell_type": "markdown",
   "metadata": {},
   "source": [
    "<p style=\"font-size:1.5em; color:white; padding:5px; border-bottom: 3px solid orange; background: #3c5c75; margin: 25px 0 -7px 0;\"> \n",
    "Step 3 - Read Employee Cost </p>"
   ]
  },
  {
   "cell_type": "code",
   "execution_count": 5,
   "metadata": {},
   "outputs": [],
   "source": [
    "req_Column = ['empCode', 'itemCode', 'salCostPU']\n",
    "empCost = pd.read_csv(\"Data/2023/I1_Hrm/Employees/empTargetDetail.csv\", usecols=req_Column ,encoding='unicode_escape').fillna(0)\n",
    "empCost = empCost.loc[empCost['empCode'] == empCode]\n",
    "empCost = empCost.to_dict(orient=\"records\")   ### Convert Data into Dictionary\n",
    "empCostList = {item['itemCode']: item['salCostPU'] for item in empCost} # Extract desired values into a new dictionary"
   ]
  },
  {
   "cell_type": "markdown",
   "metadata": {},
   "source": [
    "<p style=\"font-size:1.5em; color:white; padding:5px; border-bottom: 3px solid orange; background: #3c5c75; margin: 25px 0 -7px 0;\"> \n",
    "Step 4 - Read Sales Quote Additional </p>"
   ]
  },
  {
   "cell_type": "code",
   "execution_count": 6,
   "metadata": {},
   "outputs": [],
   "source": [
    "DataA = pd.read_sql('''SELECT * FROM \"F1_Sales_qotAddi\" ''', con=engine).fillna(0)\n",
    "query = f'SELECT * FROM \"F1_Sales_qotAddi\" WHERE qotRef = {pk}'\n",
    "qotAddi = pd.read_sql(query, con=engine)\n",
    "qotAddi['itmCode'] = qotAddi['itmCode'].astype(int)"
   ]
  },
  {
   "cell_type": "code",
   "execution_count": 10,
   "metadata": {},
   "outputs": [],
   "source": [
    "qotAddi['ItemCost'] = qotAddi['itmCode'].map(SPList).fillna(0)\n",
    "qotAddi['EmpCost'] = qotAddi['itmCode'].map(empCostList).fillna(0)"
   ]
  },
  {
   "cell_type": "code",
   "execution_count": 11,
   "metadata": {},
   "outputs": [
    {
     "data": {
      "text/html": [
       "<div>\n",
       "<style scoped>\n",
       "    .dataframe tbody tr th:only-of-type {\n",
       "        vertical-align: middle;\n",
       "    }\n",
       "\n",
       "    .dataframe tbody tr th {\n",
       "        vertical-align: top;\n",
       "    }\n",
       "\n",
       "    .dataframe thead th {\n",
       "        text-align: right;\n",
       "    }\n",
       "</style>\n",
       "<table border=\"1\" class=\"dataframe\">\n",
       "  <thead>\n",
       "    <tr style=\"text-align: right;\">\n",
       "      <th></th>\n",
       "      <th>id</th>\n",
       "      <th>qotRef</th>\n",
       "      <th>sno</th>\n",
       "      <th>itmCode</th>\n",
       "      <th>desc</th>\n",
       "      <th>qty</th>\n",
       "      <th>price</th>\n",
       "      <th>disc</th>\n",
       "      <th>tot</th>\n",
       "      <th>ItemCost</th>\n",
       "      <th>EmpCost</th>\n",
       "    </tr>\n",
       "  </thead>\n",
       "  <tbody>\n",
       "    <tr>\n",
       "      <th>0</th>\n",
       "      <td>4</td>\n",
       "      <td>20230003</td>\n",
       "      <td>1</td>\n",
       "      <td>10003000</td>\n",
       "      <td>Portable Diode Laser Hair Removal Equipment</td>\n",
       "      <td>4</td>\n",
       "      <td>47,180</td>\n",
       "      <td>8,720</td>\n",
       "      <td>180,000</td>\n",
       "      <td>33700</td>\n",
       "      <td>0</td>\n",
       "    </tr>\n",
       "    <tr>\n",
       "      <th>1</th>\n",
       "      <td>5</td>\n",
       "      <td>20230003</td>\n",
       "      <td>2</td>\n",
       "      <td>10003001</td>\n",
       "      <td>Portable Diode Laser Hair Removal Equipment - ...</td>\n",
       "      <td>10</td>\n",
       "      <td>6,300</td>\n",
       "      <td>3,000</td>\n",
       "      <td>60,000</td>\n",
       "      <td>4500</td>\n",
       "      <td>0</td>\n",
       "    </tr>\n",
       "    <tr>\n",
       "      <th>2</th>\n",
       "      <td>6</td>\n",
       "      <td>20230003</td>\n",
       "      <td>3</td>\n",
       "      <td>10004000</td>\n",
       "      <td>RF Fractional CO2 Laser</td>\n",
       "      <td>1</td>\n",
       "      <td>81,900</td>\n",
       "      <td>1,900</td>\n",
       "      <td>80,000</td>\n",
       "      <td>58500</td>\n",
       "      <td>9,831</td>\n",
       "    </tr>\n",
       "    <tr>\n",
       "      <th>3</th>\n",
       "      <td>7</td>\n",
       "      <td>20230003</td>\n",
       "      <td>4</td>\n",
       "      <td>10004001</td>\n",
       "      <td>RF Fractional CO2 Laser - Handpiece</td>\n",
       "      <td>6</td>\n",
       "      <td>7,700</td>\n",
       "      <td>3,100</td>\n",
       "      <td>43,100</td>\n",
       "      <td>5500</td>\n",
       "      <td>924</td>\n",
       "    </tr>\n",
       "    <tr>\n",
       "      <th>4</th>\n",
       "      <td>8</td>\n",
       "      <td>20230003</td>\n",
       "      <td>5</td>\n",
       "      <td>10004002</td>\n",
       "      <td>RF Fractional CO2 Laser - Accessories</td>\n",
       "      <td>20</td>\n",
       "      <td>1,400</td>\n",
       "      <td>10,148</td>\n",
       "      <td>17,852</td>\n",
       "      <td>1000</td>\n",
       "      <td>0</td>\n",
       "    </tr>\n",
       "  </tbody>\n",
       "</table>\n",
       "</div>"
      ],
      "text/plain": [
       "   id    qotRef sno   itmCode  \\\n",
       "0   4  20230003   1  10003000   \n",
       "1   5  20230003   2  10003001   \n",
       "2   6  20230003   3  10004000   \n",
       "3   7  20230003   4  10004001   \n",
       "4   8  20230003   5  10004002   \n",
       "\n",
       "                                                desc  qty  price   disc  \\\n",
       "0       Portable Diode Laser Hair Removal Equipment     4 47,180  8,720   \n",
       "1  Portable Diode Laser Hair Removal Equipment - ...   10  6,300  3,000   \n",
       "2                           RF Fractional CO2 Laser     1 81,900  1,900   \n",
       "3               RF Fractional CO2 Laser - Handpiece     6  7,700  3,100   \n",
       "4             RF Fractional CO2 Laser - Accessories    20  1,400 10,148   \n",
       "\n",
       "      tot  ItemCost  EmpCost  \n",
       "0 180,000     33700        0  \n",
       "1  60,000      4500        0  \n",
       "2  80,000     58500    9,831  \n",
       "3  43,100      5500      924  \n",
       "4  17,852      1000        0  "
      ]
     },
     "execution_count": 11,
     "metadata": {},
     "output_type": "execute_result"
    }
   ],
   "source": [
    "qotAddi"
   ]
  },
  {
   "cell_type": "code",
   "execution_count": 9,
   "metadata": {},
   "outputs": [],
   "source": [
    "qotAddiItems = qotAddi.to_dict(orient=\"records\") "
   ]
  },
  {
   "cell_type": "code",
   "execution_count": null,
   "metadata": {},
   "outputs": [],
   "source": []
  },
  {
   "cell_type": "markdown",
   "metadata": {},
   "source": [
    "<p style=\"font-size:2.2em; color:white; padding:25px; border-bottom: 5px solid #0790e0; background:#fcb321;\"> \n",
    "<span style=\"font-size:.75em; color: #11a1f5;\">  </span>  </p>\n",
    "<<< Sales Order >>>"
   ]
  },
  {
   "cell_type": "markdown",
   "metadata": {},
   "source": [
    "<p style=\"font-size:2.2em; color:white; padding:25px; border-bottom: 5px solid #ffb701; background:#143157;\"> \n",
    "Sales Quotation <span style=\"font-size:.75em; color: #11a1f5;\"> - Get All OpenQuotation not converted into Sales Order </span>  </p>\n",
    "Get Specific Columns of Sales Quotation  <<< def openSalQotURL >>>"
   ]
  },
  {
   "cell_type": "code",
   "execution_count": 15,
   "metadata": {},
   "outputs": [],
   "source": [
    "import pandas as pd\n",
    "import numpy as np\n",
    "import sqlite3\n",
    "import sqlalchemy\n",
    "#------------------------------------------------------------------------\n",
    "engine = sqlalchemy.create_engine('sqlite:///D:/IUH/2. Programming/2. App/1a BaseERP/db.sqlite3')"
   ]
  },
  {
   "cell_type": "markdown",
   "metadata": {},
   "source": [
    "<p style=\"font-size:1.5em; color:white; padding:5px; border-bottom: 3px solid orange; background: #3c5c75; margin: 25px 0 -7px 0;\"> \n",
    "Step 1 - Read CSV files </p>"
   ]
  },
  {
   "cell_type": "code",
   "execution_count": 16,
   "metadata": {},
   "outputs": [],
   "source": [
    "###---- Get all Sales Quotation ----------------------------------------------------------------\n",
    "query = '''SELECT \"qotRef\",\"qotDat\", \"cusCode\", \"cusName\", \"opnClo\" FROM \"F1_Sales_qotBasic\"'''\n",
    "dfSal = pd.read_sql(query, con=engine)\n",
    "\n",
    "###---- Get all Sales Order \"qotRef\" -----------------------------------------------------------\n",
    "queryB = '''SELECT \"QotRef\" FROM \"F1_Sales_soBasic\"'''\n",
    "dfSO = pd.read_sql(queryB, con=engine)\n",
    "soList = dfSO['qotRef'].tolist() #Convert \"qotRef\" column into list"
   ]
  },
  {
   "cell_type": "markdown",
   "metadata": {},
   "source": [
    "<p style=\"font-size:1.5em; color:white; padding:5px; border-bottom: 3px solid orange; background: #3c5c75; margin: 25px 0 -7px 0;\"> \n",
    "Step 2 - Filter out Sales Order </p>"
   ]
  },
  {
   "cell_type": "code",
   "execution_count": 17,
   "metadata": {},
   "outputs": [
    {
     "data": {
      "text/html": [
       "<div>\n",
       "<style scoped>\n",
       "    .dataframe tbody tr th:only-of-type {\n",
       "        vertical-align: middle;\n",
       "    }\n",
       "\n",
       "    .dataframe tbody tr th {\n",
       "        vertical-align: top;\n",
       "    }\n",
       "\n",
       "    .dataframe thead th {\n",
       "        text-align: right;\n",
       "    }\n",
       "</style>\n",
       "<table border=\"1\" class=\"dataframe\">\n",
       "  <thead>\n",
       "    <tr style=\"text-align: right;\">\n",
       "      <th></th>\n",
       "      <th>qotRef</th>\n",
       "      <th>qotDat</th>\n",
       "      <th>cusCode</th>\n",
       "      <th>cusName</th>\n",
       "      <th>opnClo</th>\n",
       "    </tr>\n",
       "  </thead>\n",
       "  <tbody>\n",
       "    <tr>\n",
       "      <th>0</th>\n",
       "      <td>20230002</td>\n",
       "      <td>2023-05-12</td>\n",
       "      <td>22310029</td>\n",
       "      <td>Al Jameya Pharmacy</td>\n",
       "      <td>Open</td>\n",
       "    </tr>\n",
       "    <tr>\n",
       "      <th>2</th>\n",
       "      <td>20230004</td>\n",
       "      <td>2023-04-11</td>\n",
       "      <td>22310097</td>\n",
       "      <td>Sahar Pharmacy</td>\n",
       "      <td>Open</td>\n",
       "    </tr>\n",
       "  </tbody>\n",
       "</table>\n",
       "</div>"
      ],
      "text/plain": [
       "     qotRef      qotDat   cusCode             cusName opnClo\n",
       "0  20230002  2023-05-12  22310029  Al Jameya Pharmacy   Open\n",
       "2  20230004  2023-04-11  22310097      Sahar Pharmacy   Open"
      ]
     },
     "execution_count": 17,
     "metadata": {},
     "output_type": "execute_result"
    }
   ],
   "source": [
    "Data = dfSal[dfSal['opnClo'] != 'Closed']\n",
    "filterData = Data[~Data['qotRef'].isin(soList)]\n",
    "filterData"
   ]
  },
  {
   "cell_type": "code",
   "execution_count": null,
   "metadata": {},
   "outputs": [],
   "source": [
    "\n",
    "dfSal.head(1)"
   ]
  },
  {
   "cell_type": "markdown",
   "metadata": {},
   "source": [
    "<p style=\"font-size:2.2em; color:white; padding:25px; border-bottom: 5px solid #ffb701; background:#143157;\"> \n",
    "Sales Order List <span style=\"font-size:.75em; color: #11a1f5;\"> - Get Sales Order detail </span>  </p>\n",
    "Get Specific Columns of Sales Order  <<< sOrderList >>>"
   ]
  },
  {
   "cell_type": "code",
   "execution_count": 3,
   "metadata": {},
   "outputs": [],
   "source": [
    "import pandas as pd\n",
    "import numpy as np\n",
    "import sqlite3\n",
    "import sqlalchemy\n",
    "#------------------------------------------------------------------------\n",
    "engine = sqlalchemy.create_engine('sqlite:///D:/IUH/2. Programming/2. App/1a BaseERP/db.sqlite3')"
   ]
  },
  {
   "cell_type": "markdown",
   "metadata": {},
   "source": [
    "<p style=\"font-size:1.5em; color:white; padding:5px; border-bottom: 3px solid orange; background: #3c5c75; margin: 25px 0 -7px 0;\"> \n",
    "Step 1 - Read CSV files </p>"
   ]
  },
  {
   "cell_type": "code",
   "execution_count": 4,
   "metadata": {},
   "outputs": [
    {
     "data": {
      "text/html": [
       "<div>\n",
       "<style scoped>\n",
       "    .dataframe tbody tr th:only-of-type {\n",
       "        vertical-align: middle;\n",
       "    }\n",
       "\n",
       "    .dataframe tbody tr th {\n",
       "        vertical-align: top;\n",
       "    }\n",
       "\n",
       "    .dataframe thead th {\n",
       "        text-align: right;\n",
       "    }\n",
       "</style>\n",
       "<table border=\"1\" class=\"dataframe\">\n",
       "  <thead>\n",
       "    <tr style=\"text-align: right;\">\n",
       "      <th></th>\n",
       "      <th>soRef</th>\n",
       "      <th>soDat</th>\n",
       "      <th>cusName</th>\n",
       "      <th>soTax</th>\n",
       "      <th>soTAT</th>\n",
       "      <th>spName</th>\n",
       "      <th>opnClo</th>\n",
       "    </tr>\n",
       "  </thead>\n",
       "  <tbody>\n",
       "    <tr>\n",
       "      <th>0</th>\n",
       "      <td>20230002</td>\n",
       "      <td>2023-05-13</td>\n",
       "      <td>Al Jameya Pharmacy</td>\n",
       "      <td>11450.0</td>\n",
       "      <td>240450.0</td>\n",
       "      <td>Sanjay Kumar Mandal</td>\n",
       "      <td>Closed</td>\n",
       "    </tr>\n",
       "    <tr>\n",
       "      <th>1</th>\n",
       "      <td>20230003</td>\n",
       "      <td>2023-05-13</td>\n",
       "      <td>Al Noor Pharmacy</td>\n",
       "      <td>19048.0</td>\n",
       "      <td>400000.0</td>\n",
       "      <td>Pune Pratap Panjiyar</td>\n",
       "      <td>Closed</td>\n",
       "    </tr>\n",
       "    <tr>\n",
       "      <th>2</th>\n",
       "      <td>20230004</td>\n",
       "      <td>2023-05-13</td>\n",
       "      <td>Sahar Pharmacy</td>\n",
       "      <td>11350.0</td>\n",
       "      <td>238350.0</td>\n",
       "      <td>Allen Joseph Anora</td>\n",
       "      <td>Closed</td>\n",
       "    </tr>\n",
       "  </tbody>\n",
       "</table>\n",
       "</div>"
      ],
      "text/plain": [
       "      soRef       soDat             cusName    soTax     soTAT  \\\n",
       "0  20230002  2023-05-13  Al Jameya Pharmacy  11450.0  240450.0   \n",
       "1  20230003  2023-05-13    Al Noor Pharmacy  19048.0  400000.0   \n",
       "2  20230004  2023-05-13     Sahar Pharmacy   11350.0  238350.0   \n",
       "\n",
       "                 spName  opnClo  \n",
       "0   Sanjay Kumar Mandal  Closed  \n",
       "1  Pune Pratap Panjiyar  Closed  \n",
       "2   Allen Joseph Anora   Closed  "
      ]
     },
     "execution_count": 4,
     "metadata": {},
     "output_type": "execute_result"
    }
   ],
   "source": [
    "###---- Qutation open/Close File to Get Last Quotation Number -------------\n",
    "query = '''SELECT \"soRef\",\"soDat\", \"cusName\", \"soTax\", \"soTAT\", \"spName\", \"opnClo\" FROM \"F1_Sales_soBasic\"'''\n",
    "dfSal = pd.read_sql(query, con=engine)\n",
    "dfSal"
   ]
  },
  {
   "cell_type": "markdown",
   "metadata": {},
   "source": [
    "<p style=\"font-size:2.2em; color:white; padding:25px; border-bottom: 5px solid #0790e0; background:#fcb321;\"> \n",
    "<span style=\"font-size:.75em; color: #11a1f5;\">  </span>  </p>\n",
    "<<< Sales Delivery Note >>>"
   ]
  },
  {
   "cell_type": "markdown",
   "metadata": {},
   "source": [
    "<p style=\"font-size:2.2em; color:white; padding:25px; border-bottom: 5px solid #ffb701; background:#143157;\"> \n",
    "Sales Order <span style=\"font-size:.75em; color: #11a1f5;\"> - Get All Open Sales Order not converted into Delivery Note </span>  </p>\n",
    "Get Specific Columns of Sales Order  <<< def openSalDlURL >>>"
   ]
  },
  {
   "cell_type": "code",
   "execution_count": 12,
   "metadata": {},
   "outputs": [],
   "source": [
    "import pandas as pd\n",
    "import numpy as np\n",
    "import sqlite3\n",
    "import sqlalchemy\n",
    "#------------------------------------------------------------------------\n",
    "engine = sqlalchemy.create_engine('sqlite:///D:/IUH/2. Programming/2. App/1a BaseERP/db.sqlite3')"
   ]
  },
  {
   "cell_type": "markdown",
   "metadata": {},
   "source": [
    "<p style=\"font-size:1.5em; color:white; padding:5px; border-bottom: 3px solid orange; background: #3c5c75; margin: 25px 0 -7px 0;\"> \n",
    "Step 1 - Read CSV files </p>"
   ]
  },
  {
   "cell_type": "code",
   "execution_count": 13,
   "metadata": {},
   "outputs": [],
   "source": [
    "###---- Get all Sales Order ----------------------------------------------------------------\n",
    "query = '''SELECT \"soRef\",\"soDat\", \"cusCode\", \"cusName\", \"opnClo\" FROM \"F1_Sales_soBasic\"'''\n",
    "dfSal = pd.read_sql(query, con=engine)\n",
    "\n",
    "###---- Get all Delivery Notes \"dfRef\" -----------------------------------------------------------\n",
    "queryB = '''SELECT \"soRef\" FROM \"F1_Sales_dlBasic\"'''\n",
    "dfDl = pd.read_sql(queryB, con=engine)\n",
    "soList = dfDl['soRef'].tolist() #Convert \"qotRef\" column into list"
   ]
  },
  {
   "cell_type": "markdown",
   "metadata": {},
   "source": [
    "<p style=\"font-size:1.5em; color:white; padding:5px; border-bottom: 3px solid orange; background: #3c5c75; margin: 25px 0 -7px 0;\"> \n",
    "Step 2 - Filter out Delivery Note </p>"
   ]
  },
  {
   "cell_type": "code",
   "execution_count": 16,
   "metadata": {},
   "outputs": [
    {
     "data": {
      "text/html": [
       "<div>\n",
       "<style scoped>\n",
       "    .dataframe tbody tr th:only-of-type {\n",
       "        vertical-align: middle;\n",
       "    }\n",
       "\n",
       "    .dataframe tbody tr th {\n",
       "        vertical-align: top;\n",
       "    }\n",
       "\n",
       "    .dataframe thead th {\n",
       "        text-align: right;\n",
       "    }\n",
       "</style>\n",
       "<table border=\"1\" class=\"dataframe\">\n",
       "  <thead>\n",
       "    <tr style=\"text-align: right;\">\n",
       "      <th></th>\n",
       "      <th>soRef</th>\n",
       "      <th>soDat</th>\n",
       "      <th>cusCode</th>\n",
       "      <th>cusName</th>\n",
       "      <th>opnClo</th>\n",
       "    </tr>\n",
       "  </thead>\n",
       "  <tbody>\n",
       "    <tr>\n",
       "      <th>0</th>\n",
       "      <td>20230001</td>\n",
       "      <td>2023-05-14</td>\n",
       "      <td>22310097</td>\n",
       "      <td>Sahar Pharmacy</td>\n",
       "      <td>Open</td>\n",
       "    </tr>\n",
       "    <tr>\n",
       "      <th>1</th>\n",
       "      <td>20230002</td>\n",
       "      <td>2023-05-14</td>\n",
       "      <td>22310055</td>\n",
       "      <td>Al Noor Pharmacy</td>\n",
       "      <td>Open</td>\n",
       "    </tr>\n",
       "    <tr>\n",
       "      <th>2</th>\n",
       "      <td>20230003</td>\n",
       "      <td>2023-05-14</td>\n",
       "      <td>22310207</td>\n",
       "      <td>Delta Pharmacy</td>\n",
       "      <td>Open</td>\n",
       "    </tr>\n",
       "  </tbody>\n",
       "</table>\n",
       "</div>"
      ],
      "text/plain": [
       "      soRef       soDat   cusCode           cusName opnClo\n",
       "0  20230001  2023-05-14  22310097    Sahar Pharmacy   Open\n",
       "1  20230002  2023-05-14  22310055  Al Noor Pharmacy   Open\n",
       "2  20230003  2023-05-14  22310207   Delta Pharmacy    Open"
      ]
     },
     "execution_count": 16,
     "metadata": {},
     "output_type": "execute_result"
    }
   ],
   "source": [
    "Data = dfSal[dfSal['opnClo'] != 'Closed']\n",
    "filterData = Data[~Data['soRef'].isin(soList)]\n",
    "filterData"
   ]
  },
  {
   "cell_type": "code",
   "execution_count": 17,
   "metadata": {},
   "outputs": [
    {
     "data": {
      "text/html": [
       "<div>\n",
       "<style scoped>\n",
       "    .dataframe tbody tr th:only-of-type {\n",
       "        vertical-align: middle;\n",
       "    }\n",
       "\n",
       "    .dataframe tbody tr th {\n",
       "        vertical-align: top;\n",
       "    }\n",
       "\n",
       "    .dataframe thead th {\n",
       "        text-align: right;\n",
       "    }\n",
       "</style>\n",
       "<table border=\"1\" class=\"dataframe\">\n",
       "  <thead>\n",
       "    <tr style=\"text-align: right;\">\n",
       "      <th></th>\n",
       "      <th>soRef</th>\n",
       "      <th>soDat</th>\n",
       "      <th>cusCode</th>\n",
       "      <th>cusName</th>\n",
       "      <th>opnClo</th>\n",
       "    </tr>\n",
       "  </thead>\n",
       "  <tbody>\n",
       "    <tr>\n",
       "      <th>0</th>\n",
       "      <td>20230001</td>\n",
       "      <td>2023-05-14</td>\n",
       "      <td>22310097</td>\n",
       "      <td>Sahar Pharmacy</td>\n",
       "      <td>Open</td>\n",
       "    </tr>\n",
       "  </tbody>\n",
       "</table>\n",
       "</div>"
      ],
      "text/plain": [
       "      soRef       soDat   cusCode         cusName opnClo\n",
       "0  20230001  2023-05-14  22310097  Sahar Pharmacy   Open"
      ]
     },
     "execution_count": 17,
     "metadata": {},
     "output_type": "execute_result"
    }
   ],
   "source": [
    "\n",
    "dfSal.head(1)"
   ]
  },
  {
   "cell_type": "code",
   "execution_count": null,
   "metadata": {},
   "outputs": [],
   "source": []
  },
  {
   "cell_type": "code",
   "execution_count": null,
   "metadata": {},
   "outputs": [],
   "source": []
  }
 ],
 "metadata": {
  "celltoolbar": "Raw Cell Format",
  "kernelspec": {
   "display_name": "Python 3 (ipykernel)",
   "language": "python",
   "name": "python3"
  },
  "language_info": {
   "codemirror_mode": {
    "name": "ipython",
    "version": 3
   },
   "file_extension": ".py",
   "mimetype": "text/x-python",
   "name": "python",
   "nbconvert_exporter": "python",
   "pygments_lexer": "ipython3",
   "version": "3.9.12"
  }
 },
 "nbformat": 4,
 "nbformat_minor": 2
}
