{
 "cells": [
  {
   "cell_type": "markdown",
   "metadata": {},
   "source": [
    "<p style=\"font-size:2.2em; color:white; padding:25px; border-bottom: 5px solid #ffb701; background:#143157;\"> \n",
    "    Sales Process Setup - <span style=\"font-size:.75em; color: #11a1f5;\"> Create Necessary Folder and Files </span></p>\n",
    "<<< f1_salSetup >>>"
   ]
  },
  {
   "cell_type": "code",
   "execution_count": 40,
   "metadata": {},
   "outputs": [],
   "source": [
    "import pandas as pd\n",
    "import numpy as np\n",
    "pd.options.display.float_format = '{:,.0f}'.format\n",
    "pd.set_option('display.max_columns', 85) # set Jupeter note book to dispay 85 columns"
   ]
  },
  {
   "cell_type": "code",
   "execution_count": 4,
   "metadata": {},
   "outputs": [],
   "source": [
    "import os\n",
    "import csv"
   ]
  },
  {
   "cell_type": "code",
   "execution_count": 5,
   "metadata": {},
   "outputs": [],
   "source": [
    "###---Get Year-------------------------------------\n",
    "#Year = \"2023\"\n",
    "dfStd = pd.read_csv('data/basInfo.csv')\n",
    "Year = str(dfStd.loc[0, 'year'])"
   ]
  },
  {
   "cell_type": "markdown",
   "metadata": {},
   "source": [
    "<p style=\"padding:5px; border-bottom:3px solid orange; background:#3c5c75; margin:25px 0 -7px 0; text-align: center\"> \n",
    "   <span style=\"font-size:1.1em; color:#fff;\" >Create Main-Folders </span>\n",
    "   <br> \n",
    "   <span style=\"font-size:1.6em; color:#f7ca25;\" >\"F1_Sales\" </span>\n",
    "</p> "
   ]
  },
  {
   "cell_type": "code",
   "execution_count": 43,
   "metadata": {},
   "outputs": [],
   "source": [
    "mainFolder = \"Data/\" + Year + \"/F1_Sales\"\n",
    "os.makedirs(mainFolder, mode=0o777, exist_ok=True)"
   ]
  },
  {
   "cell_type": "markdown",
   "metadata": {},
   "source": [
    "<p style=\"padding:5px; border-bottom:3px solid orange; background:#3c5c75; margin:25px 0 -7px 0;\"> \n",
    "   <span style=\"font-size:1.5em; color:#f7ca25;\" >Step 1 - </span>\n",
    "   <span style=\"font-size:1.5em; color:white;\">Create Sub-Folder -</span> \n",
    "   <span style=\"font-size:1.2em; color:#17cffc;\">\"Quotations\"</span>\n",
    "</p> "
   ]
  },
  {
   "cell_type": "code",
   "execution_count": 44,
   "metadata": {},
   "outputs": [],
   "source": [
    "subFolder = \"Data/\" + Year + \"/F1_Sales/Quotations\"\n",
    "os.makedirs(subFolder, mode=0o777, exist_ok=True)"
   ]
  },
  {
   "attachments": {},
   "cell_type": "markdown",
   "metadata": {},
   "source": [
    "<p style=\"font-family:Calibri; font-size:1.2em; color:#061233; padding:5px 5px; margin: 10px 0 -7px 20px;\n",
    "border-bottom: 3px solid #0d1e4f; background: #e3e9fa\">  \n",
    "   <span style=\"font-size:1.2em; color:#384073;\" >Step 1a - Create CSV file -</span>\n",
    "   <span style=\"font-size:1.2em; color:#821107;\">\"qotBasic\" & \"qotAddi\" </span> \n",
    "</p>"
   ]
  },
  {
   "cell_type": "code",
   "execution_count": 45,
   "metadata": {},
   "outputs": [],
   "source": [
    "file_path = \"Data/\" + Year + \"/F1_Sales/Quotations/qotBasic.csv\"\n",
    "\n",
    "if not os.path.exists(file_path):\n",
    "    headers = ['id','qotRef','qotDat','cusCode','cusName','qotTBD', 'qotTAD', 'qotTax', 'qotTAT',\n",
    "                   'shipTo','qotComm','salPer','spName','opnClo', 'traDate', 'action']\n",
    "    new_record = {'id': str(Year[2:])+\"00000\", 'qotRef': str(Year[2:])+\"00000\"}\n",
    "    \n",
    "    with open(file_path, 'w', newline='') as csv_file:  #create fresh file each time\n",
    "        writer = csv.writer(csv_file); \n",
    "        writer.writerow(headers)\n",
    "        writer.writerow(new_record.values())"
   ]
  },
  {
   "cell_type": "code",
   "execution_count": 46,
   "metadata": {},
   "outputs": [],
   "source": [
    "file_path = \"Data/\" + Year + \"/F1_Sales/Quotations/qotAddi.csv\"\n",
    "\n",
    "if not os.path.exists(file_path):\n",
    "    headers = ['id','qotRef','sno','itmCod','desc','qty', 'price', 'disc', 'tot', 'traDate', 'action']\n",
    "\n",
    "    with open(file_path, 'w', newline='') as csv_file:  #create fresh file each time\n",
    "        writer = csv.writer(csv_file); \n",
    "        writer.writerow(headers)"
   ]
  },
  {
   "cell_type": "markdown",
   "metadata": {},
   "source": [
    "<p style=\"font-family:Calibri; font-size:1.75em; color:white; padding:5px 5px; text-align: left; height:10px; border-bottom: 1px solid orange; background:#f5eab8\"></p>"
   ]
  },
  {
   "cell_type": "markdown",
   "metadata": {},
   "source": [
    "<p style=\"font-size:2.2em; color:white; padding:25px; border-bottom: 5px solid #ffb701; background:#143157;\"> \n",
    "    Sales Quotation - <span style=\"font-size:.75em; color: #11a1f5;\"> Add Transactions </span></p>\n",
    "<<< f1_------------ >>>"
   ]
  },
  {
   "cell_type": "markdown",
   "metadata": {},
   "source": [
    "<p style=\"font-family:Calibri; font-size:1.1em; color:#04405e; padding:2px 5px; margin: 5px 0 -7px 20px;\n",
    "border-bottom: 3px solid #e39c19; background: #afe4ff;\">  \n",
    "Standard Code to load Data</p>"
   ]
  },
  {
   "cell_type": "code",
   "execution_count": 1,
   "metadata": {},
   "outputs": [],
   "source": [
    "import pandas as pd\n",
    "import numpy as np\n",
    "dfStd = pd.read_csv('data/basInfo.csv')\n",
    "Year = str(dfStd.loc[0, 'year'])"
   ]
  },
  {
   "cell_type": "markdown",
   "metadata": {},
   "source": [
    "<p style=\"padding:5px; border-bottom:3px solid orange; background:#3c5c75; margin:25px 0 -7px 0;\"> \n",
    "   <span style=\"font-size:1.5em; color:#f7ca25;\" >Step 1 - </span>\n",
    "   <span style=\"font-size:1.5em; color:white;\">Read CSV files - </span> \n",
    "   <span style=\"font-size:1.2em; color:#17cffc;\">to Get the last Quotation Number </span>\n",
    "</p> "
   ]
  },
  {
   "cell_type": "code",
   "execution_count": 2,
   "metadata": {},
   "outputs": [],
   "source": [
    "try: \n",
    "    req_cols = ['qotRef']\n",
    "    fPath = \"Data/\"+Year+\"/F1_Sales/Quotations/qotBasic.csv\"\n",
    "    df = pd.read_csv(fPath, usecols=req_cols, index_col=False, encoding='unicode_escape')\n",
    "except:\n",
    "    data = {'qotRef': [0]}\n",
    "    df = pd.DataFrame(data)"
   ]
  },
  {
   "cell_type": "markdown",
   "metadata": {},
   "source": [
    "<p style=\"font-family:Calibri; font-size:1.2em; color:#061233; padding:5px 5px; margin: 10px 0 -7px 20px;\n",
    "border-bottom: 3px solid #0d1e4f; background: #e3e9fa\">  \n",
    "Step 1a - Get the last Quotation No make it 5 digit and add year</p>"
   ]
  },
  {
   "cell_type": "code",
   "execution_count": 3,
   "metadata": {},
   "outputs": [
    {
     "data": {
      "text/plain": [
       "2300004"
      ]
     },
     "execution_count": 3,
     "metadata": {},
     "output_type": "execute_result"
    }
   ],
   "source": [
    "maxValue = df['qotRef'].max()\n",
    "maxValue"
   ]
  },
  {
   "cell_type": "markdown",
   "metadata": {},
   "source": [
    "<p style=\"font-size:2.2em; color:white; padding:25px; border-bottom: 5px solid #ffb701; background:#143157;\"> \n",
    "    Sales Quotation - <span style=\"font-size:.75em; color: #11a1f5;\"> Show All Transactions </span></p>\n",
    "<<< f1_------------ >>>"
   ]
  },
  {
   "cell_type": "markdown",
   "metadata": {},
   "source": [
    "<p style=\"font-family:Calibri; font-size:1.1em; color:#04405e; padding:2px 5px; margin: 5px 0 -7px 20px;\n",
    "border-bottom: 3px solid #e39c19; background: #afe4ff;\">  \n",
    "Standard Code to load Data</p>"
   ]
  },
  {
   "cell_type": "code",
   "execution_count": 6,
   "metadata": {},
   "outputs": [],
   "source": [
    "import pandas as pd\n",
    "import numpy as np\n",
    "dfStd = pd.read_csv('data/basInfo.csv')\n",
    "Year = str(dfStd.loc[0, 'year'])"
   ]
  },
  {
   "cell_type": "markdown",
   "metadata": {},
   "source": [
    "<p style=\"padding:5px; border-bottom:3px solid orange; background:#3c5c75; margin:25px 0 -7px 0;\"> \n",
    "   <span style=\"font-size:1.5em; color:#f7ca25;\" >Step 1 - </span>\n",
    "   <span style=\"font-size:1.5em; color:white;\">Read CSV files - </span> \n",
    "   <span style=\"font-size:1.2em; color:#17cffc;\">to Get all the Sales Quote </span>\n",
    "</p> "
   ]
  },
  {
   "cell_type": "code",
   "execution_count": 8,
   "metadata": {},
   "outputs": [],
   "source": [
    "req_cols = ['id','qotRef','qotDat','cusName', 'qotTax', 'qotTAT','spName','opnClo']\n",
    "fPath = \"Data/\"+Year+\"/F1_Sales/Quotations/qotBasic.csv\"\n",
    "df = pd.read_csv(fPath, usecols=req_cols, index_col=False, encoding='unicode_escape')\n",
    "df = df.drop(df.index[0])"
   ]
  },
  {
   "cell_type": "code",
   "execution_count": null,
   "metadata": {},
   "outputs": [],
   "source": []
  },
  {
   "cell_type": "markdown",
   "metadata": {},
   "source": [
    "<p style=\"font-size:2.2em; color:white; padding:25px; border-bottom: 5px solid #ffb701; background:#143157;\"> \n",
    "    Sales Quotation - <span style=\"font-size:.75em; color: #11a1f5;\"> PDF Qutation </span></p>\n",
    "<<< f1_------------ >>>"
   ]
  },
  {
   "cell_type": "markdown",
   "metadata": {},
   "source": [
    "<p style=\"font-family:Calibri; font-size:1.1em; color:#04405e; padding:2px 5px; margin: 5px 0 -7px 20px;\n",
    "border-bottom: 3px solid #e39c19; background: #afe4ff;\">  \n",
    "Standard Code to load Data</p>"
   ]
  },
  {
   "cell_type": "code",
   "execution_count": 1,
   "metadata": {},
   "outputs": [],
   "source": [
    "import pandas as pd\n",
    "import numpy as np\n",
    "dfStd = pd.read_csv('data/basInfo.csv')\n",
    "Year = str(dfStd.loc[0, 'year'])"
   ]
  },
  {
   "cell_type": "markdown",
   "metadata": {},
   "source": [
    "<p style=\"padding:5px; border-bottom:3px solid orange; background:#3c5c75; margin:25px 0 -7px 0;\"> \n",
    "   <span style=\"font-size:1.5em; color:#f7ca25;\" >Step 1 - </span>\n",
    "   <span style=\"font-size:1.5em; color:white;\">Read CSV files - </span> \n",
    "   <span style=\"font-size:1.2em; color:#17cffc;\">to Get all the Sales Quote </span>\n",
    "</p> "
   ]
  },
  {
   "cell_type": "code",
   "execution_count": 2,
   "metadata": {},
   "outputs": [],
   "source": [
    "pk = 2300001\n",
    "\n",
    "###---Quotarion Basic--------------------------\n",
    "req_cols = ['id','qotRef','qotDat','cusName', 'qotTax', 'qotTAT','spName','opnClo']\n",
    "fPath = \"Data/\"+Year+\"/F1_Sales/Quotations/qotBasic.csv\"\n",
    "dfA = pd.read_csv(fPath, usecols=req_cols, index_col=False, encoding='unicode_escape')\n",
    "dfA = dfA.drop(dfA.index[0])"
   ]
  },
  {
   "cell_type": "code",
   "execution_count": 3,
   "metadata": {},
   "outputs": [],
   "source": [
    "dfBasic = dfA[dfA['id'] == pk]"
   ]
  },
  {
   "cell_type": "code",
   "execution_count": 4,
   "metadata": {},
   "outputs": [],
   "source": [
    "###---Quotarion Additional--------------------------\n",
    "fPath = \"Data/\"+Year+\"/F1_Sales/Quotations/qotAddi.csv\"\n",
    "dfB = pd.read_csv(fPath, index_col=False, encoding='unicode_escape')"
   ]
  },
  {
   "cell_type": "code",
   "execution_count": 5,
   "metadata": {},
   "outputs": [],
   "source": [
    "dfAddi = dfB[dfB['qotRef'] == pk].fillna(0)"
   ]
  },
  {
   "cell_type": "code",
   "execution_count": null,
   "metadata": {},
   "outputs": [],
   "source": []
  },
  {
   "cell_type": "code",
   "execution_count": null,
   "metadata": {},
   "outputs": [],
   "source": []
  },
  {
   "cell_type": "code",
   "execution_count": null,
   "metadata": {},
   "outputs": [],
   "source": []
  },
  {
   "cell_type": "code",
   "execution_count": null,
   "metadata": {},
   "outputs": [],
   "source": []
  },
  {
   "cell_type": "code",
   "execution_count": null,
   "metadata": {},
   "outputs": [],
   "source": []
  },
  {
   "cell_type": "code",
   "execution_count": 4,
   "metadata": {},
   "outputs": [
    {
     "data": {
      "text/plain": [
       "'2300001'"
      ]
     },
     "execution_count": 4,
     "metadata": {},
     "output_type": "execute_result"
    }
   ],
   "source": [
    "maxValue = 0\n",
    "Year = '2023'\n",
    "#maxValue = df['qotRef'].max()\n",
    "maxValue = str(maxValue + 1)\n",
    "number = maxValue.rjust(5, \"0\")\n",
    "qotRef = str(Year[2:]) + str(number)\n",
    "qotRef"
   ]
  },
  {
   "cell_type": "code",
   "execution_count": null,
   "metadata": {},
   "outputs": [],
   "source": []
  },
  {
   "cell_type": "code",
   "execution_count": null,
   "metadata": {},
   "outputs": [],
   "source": []
  }
 ],
 "metadata": {
  "celltoolbar": "Raw Cell Format",
  "kernelspec": {
   "display_name": "Python 3 (ipykernel)",
   "language": "python",
   "name": "python3"
  },
  "language_info": {
   "codemirror_mode": {
    "name": "ipython",
    "version": 3
   },
   "file_extension": ".py",
   "mimetype": "text/x-python",
   "name": "python",
   "nbconvert_exporter": "python",
   "pygments_lexer": "ipython3",
   "version": "3.9.12"
  }
 },
 "nbformat": 4,
 "nbformat_minor": 2
}
