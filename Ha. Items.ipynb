{
 "cells": [
  {
   "cell_type": "markdown",
   "metadata": {},
   "source": [
    "<p style=\"font-family:Calibri; font-size:1.75em; color:white; padding:5px 5px; text-align: left; height:50px; border-bottom: 1px solid orange;\"></p>"
   ]
  },
  {
   "cell_type": "markdown",
   "metadata": {},
   "source": [
    "<p style=\"font-size:2.2em; color:white; padding:15px; border-bottom: 5px solid #ffb701; background:#143157; text-align:center;\"> \n",
    "    Sales Process Setup  <br> \n",
    "    <span style=\"font-size:.55em; color: #11a1f5;\"> Create Necessary Folder and Files </span>\n",
    "</p>"
   ]
  },
  {
   "cell_type": "code",
   "execution_count": 1,
   "metadata": {},
   "outputs": [],
   "source": [
    "import pandas as pd\n",
    "import numpy as np\n",
    "pd.options.display.float_format = '{:,.0f}'.format\n",
    "pd.set_option('display.max_columns', 85) # set Jupeter note book to dispay 85 columns"
   ]
  },
  {
   "cell_type": "code",
   "execution_count": 2,
   "metadata": {},
   "outputs": [],
   "source": [
    "import os\n",
    "import csv"
   ]
  },
  {
   "cell_type": "code",
   "execution_count": 5,
   "metadata": {},
   "outputs": [],
   "source": [
    "###---Get Year-------------------------------------\n",
    "#Year = \"2023\"\n",
    "dfStd = pd.read_csv('data/basInfo.csv')\n",
    "Year = str(dfStd.loc[0, 'year'])\n",
    "coFolder = str(dfStd.loc[0, 'coFolder'])"
   ]
  },
  {
   "cell_type": "markdown",
   "metadata": {},
   "source": [
    "<p style=\"font-family:Calibri; font-size:1.75em; color:white; padding:5px 5px; text-align: left; height:50px; border-bottom: 3px solid orange; margin:-7px 0px;\"></p>"
   ]
  },
  {
   "cell_type": "markdown",
   "metadata": {},
   "source": [
    "<p style=\"font-size:2.2em; padding:10px; border-bottom: 5px solid #ffb701; background:#143157;\n",
    "          text-align:center\"> \n",
    "    <span style=\"color: #fff;\"> Create Main-Folders  </span> <br>\n",
    "    <span style=\"font-size:.60em; color: #11a1f5;\"> \"H1_Items\" </span>\n",
    "</p>\n"
   ]
  },
  {
   "cell_type": "code",
   "execution_count": 6,
   "metadata": {},
   "outputs": [],
   "source": [
    "mainFolder = \"Data/\" +coFolder+ \"/\" +Year+ \"/H1_Items\"\n",
    "os.makedirs(mainFolder, mode=0o777, exist_ok=True)"
   ]
  },
  {
   "cell_type": "markdown",
   "metadata": {},
   "source": [
    "<p style=\"padding:5px; border-bottom:3px solid orange; background:#3c5c75; margin:15px 0 -7px 0;\"> \n",
    "   <span style=\"font-size:1.4em; color:#f7ca25;\" >Step 1 - </span>\n",
    "   <span style=\"font-size:1.4em; color:white;\">Create Sub-Folder - </span> \n",
    "   <span style=\"font-size:1.2em; color:#17cffc;\">\"Items\" </span>\n",
    "</p> "
   ]
  },
  {
   "cell_type": "code",
   "execution_count": 7,
   "metadata": {},
   "outputs": [],
   "source": [
    "subFolder = \"Data/\" +coFolder+ \"/\" +Year+ \"/H1_Items/Items\"\n",
    "os.makedirs(subFolder, mode=0o777, exist_ok=True)"
   ]
  },
  {
   "cell_type": "markdown",
   "metadata": {},
   "source": [
    "<p style=\"font-family:Calibri; font-size:1.75em; color:white; padding:5px 5px; text-align: left; height:50px; border-bottom: 3px solid orange; margin:-7px 0px;\"></p>"
   ]
  },
  {
   "cell_type": "markdown",
   "metadata": {},
   "source": [
    "<p style=\"font-size:2.2em; padding:18px; border-bottom: 5px solid #ffb701; background:#143157;\"> \n",
    "    <span style=\"color: #fff;\"> Items -  </span>\n",
    "    <span style=\"font-size:.75em; color: #11a1f5;\"> Sales Price </span>\n",
    "</p>\n",
    "<span style=\"font-size:.75em; color: #11a1f5;\"> <<< f1_------------ >>></span>"
   ]
  },
  {
   "cell_type": "markdown",
   "metadata": {},
   "source": [
    "<p style=\"font-family:Calibri; font-size:1.75em; color:white; padding:5px 5px; text-align: left; height:50px; border-bottom: 3px solid orange; margin:-7px 0px;\"></p>"
   ]
  },
  {
   "cell_type": "markdown",
   "metadata": {},
   "source": [
    "<p style=\"font-size:2.2em; color:white; padding:25px; border-bottom: 5px solid #ffb701; background:#143157;\"> \n",
    "Refresh Item Master File - <span style=\"font-size:.75em; color: #11a1f5;\"> Create Filders if not Exist </span></p>\n",
    "Extract Customer Complete Information and Save as CSV file"
   ]
  },
  {
   "cell_type": "code",
   "execution_count": 29,
   "metadata": {},
   "outputs": [],
   "source": [
    "import pandas as pd\n",
    "import numpy as np\n",
    "pd.options.display.float_format = '{:,.0f}'.format\n",
    "pd.set_option('display.max_columns', 85) # set Jupeter note book to dispay 85 columns"
   ]
  },
  {
   "cell_type": "markdown",
   "metadata": {},
   "source": [
    "<p style=\"font-size:1.5em; color:white; padding:5px; border-bottom: 3px solid orange; background: #3c5c75; margin: 25px 0 -7px 0;\"> \n",
    "Step 1 - Create Engine and read data in Pandas </p>"
   ]
  },
  {
   "cell_type": "markdown",
   "metadata": {},
   "source": [
    "<p style=\"font-family:Calibri; font-size:1.75em; color:#04405e; padding:5px 5px; margin: 10px 0 -7px 20px;\n",
    "border-bottom: 3px solid #e39c19; background: #afe4ff;\">  \n",
    "Step 1a - Create SQL Engine</p>"
   ]
  },
  {
   "cell_type": "code",
   "execution_count": 30,
   "metadata": {},
   "outputs": [],
   "source": [
    "import sqlite3\n",
    "import sqlalchemy\n",
    "\n",
    "# here db.sqlite3 is the name mention in settings.py under Databases; and \n",
    "# path should be absolute where 'db.sqlite3' file exist\n",
    "#------------------------------------------------------------------------\n",
    "engine = sqlalchemy.create_engine('sqlite:///D:/IUH/2. Programming/2. App/1a BaseERP/db.sqlite3')"
   ]
  },
  {
   "cell_type": "markdown",
   "metadata": {},
   "source": [
    "<p style=\"font-family:Calibri; font-size:1.75em; color:#04405e; padding:5px 5px; margin: 10px 0 -7px 20px;\n",
    "border-bottom: 3px solid #e39c19; background: #afe4ff;\">  \n",
    "Step 1b - Read Data from SQL </p>"
   ]
  },
  {
   "cell_type": "code",
   "execution_count": 31,
   "metadata": {},
   "outputs": [],
   "source": [
    "basic = pd.read_sql('''SELECT * FROM \"H1_Items_itmBasic\" ''', con=engine)\n",
    "Extra = pd.read_sql('''SELECT * FROM \"H1_Items_itmExtra\" ''', con=engine)"
   ]
  },
  {
   "cell_type": "code",
   "execution_count": 32,
   "metadata": {},
   "outputs": [
    {
     "data": {
      "text/html": [
       "<div>\n",
       "<style scoped>\n",
       "    .dataframe tbody tr th:only-of-type {\n",
       "        vertical-align: middle;\n",
       "    }\n",
       "\n",
       "    .dataframe tbody tr th {\n",
       "        vertical-align: top;\n",
       "    }\n",
       "\n",
       "    .dataframe thead th {\n",
       "        text-align: right;\n",
       "    }\n",
       "</style>\n",
       "<table border=\"1\" class=\"dataframe\">\n",
       "  <thead>\n",
       "    <tr style=\"text-align: right;\">\n",
       "      <th></th>\n",
       "      <th>id</th>\n",
       "      <th>itmCode</th>\n",
       "      <th>itmName</th>\n",
       "      <th>opeQty</th>\n",
       "      <th>cloQty</th>\n",
       "      <th>itmActive</th>\n",
       "    </tr>\n",
       "  </thead>\n",
       "  <tbody>\n",
       "    <tr>\n",
       "      <th>0</th>\n",
       "      <td>10102</td>\n",
       "      <td>10102</td>\n",
       "      <td>asdbcd</td>\n",
       "      <td>2</td>\n",
       "      <td>0</td>\n",
       "      <td>Yes</td>\n",
       "    </tr>\n",
       "  </tbody>\n",
       "</table>\n",
       "</div>"
      ],
      "text/plain": [
       "      id itmCode itmName  opeQty  cloQty itmActive\n",
       "0  10102   10102  asdbcd       2       0       Yes"
      ]
     },
     "execution_count": 32,
     "metadata": {},
     "output_type": "execute_result"
    }
   ],
   "source": [
    "basic"
   ]
  },
  {
   "cell_type": "code",
   "execution_count": 34,
   "metadata": {},
   "outputs": [
    {
     "data": {
      "text/html": [
       "<div>\n",
       "<style scoped>\n",
       "    .dataframe tbody tr th:only-of-type {\n",
       "        vertical-align: middle;\n",
       "    }\n",
       "\n",
       "    .dataframe tbody tr th {\n",
       "        vertical-align: top;\n",
       "    }\n",
       "\n",
       "    .dataframe thead th {\n",
       "        text-align: right;\n",
       "    }\n",
       "</style>\n",
       "<table border=\"1\" class=\"dataframe\">\n",
       "  <thead>\n",
       "    <tr style=\"text-align: right;\">\n",
       "      <th></th>\n",
       "      <th>id</th>\n",
       "      <th>itmCode</th>\n",
       "      <th>itmLogo</th>\n",
       "      <th>uPrice</th>\n",
       "      <th>brand</th>\n",
       "      <th>supplier</th>\n",
       "      <th>barCode</th>\n",
       "      <th>uom</th>\n",
       "      <th>min</th>\n",
       "      <th>max</th>\n",
       "      <th>roQty</th>\n",
       "      <th>discount</th>\n",
       "      <th>taxable</th>\n",
       "      <th>input</th>\n",
       "      <th>output</th>\n",
       "      <th>bisUnit</th>\n",
       "      <th>itmType</th>\n",
       "      <th>expiry</th>\n",
       "      <th>ref</th>\n",
       "    </tr>\n",
       "  </thead>\n",
       "  <tbody>\n",
       "    <tr>\n",
       "      <th>0</th>\n",
       "      <td>10102</td>\n",
       "      <td>10102</td>\n",
       "      <td>images/itmLogo/File_4L4z1te.jpg</td>\n",
       "      <td>230</td>\n",
       "      <td>asdfas</td>\n",
       "      <td>sadfas</td>\n",
       "      <td>fasdfa</td>\n",
       "      <td>sdfasdf</td>\n",
       "      <td>0</td>\n",
       "      <td>0</td>\n",
       "      <td>0</td>\n",
       "      <td>0</td>\n",
       "      <td></td>\n",
       "      <td>0</td>\n",
       "      <td>0</td>\n",
       "      <td></td>\n",
       "      <td></td>\n",
       "      <td>0</td>\n",
       "      <td></td>\n",
       "    </tr>\n",
       "  </tbody>\n",
       "</table>\n",
       "</div>"
      ],
      "text/plain": [
       "      id itmCode                          itmLogo  uPrice   brand supplier  \\\n",
       "0  10102   10102  images/itmLogo/File_4L4z1te.jpg     230  asdfas   sadfas   \n",
       "\n",
       "  barCode      uom  min  max  roQty  discount taxable  input  output bisUnit  \\\n",
       "0  fasdfa  sdfasdf    0    0      0         0              0       0           \n",
       "\n",
       "  itmType  expiry ref  \n",
       "0               0      "
      ]
     },
     "execution_count": 34,
     "metadata": {},
     "output_type": "execute_result"
    }
   ],
   "source": [
    "Extra"
   ]
  },
  {
   "cell_type": "markdown",
   "metadata": {},
   "source": [
    "<p style=\"font-size:1.5em; color:white; padding:5px; border-bottom:3px solid orange; background:#3c5c75; margin:25px 0 -7px 0;\"> \n",
    "Step 2 - Merge \"Basic & Extra\" Dataframe by Employee ID </p>\n",
    "Note: if there is no entry in databse only in that case \"itmCode\" from first df will remove later on it will be ok."
   ]
  },
  {
   "cell_type": "code",
   "execution_count": 14,
   "metadata": {},
   "outputs": [
    {
     "data": {
      "text/html": [
       "<div>\n",
       "<style scoped>\n",
       "    .dataframe tbody tr th:only-of-type {\n",
       "        vertical-align: middle;\n",
       "    }\n",
       "\n",
       "    .dataframe tbody tr th {\n",
       "        vertical-align: top;\n",
       "    }\n",
       "\n",
       "    .dataframe thead th {\n",
       "        text-align: right;\n",
       "    }\n",
       "</style>\n",
       "<table border=\"1\" class=\"dataframe\">\n",
       "  <thead>\n",
       "    <tr style=\"text-align: right;\">\n",
       "      <th></th>\n",
       "      <th>id</th>\n",
       "      <th>itmCode</th>\n",
       "      <th>itmLogo</th>\n",
       "      <th>uPrice</th>\n",
       "      <th>brand</th>\n",
       "      <th>supplier</th>\n",
       "      <th>barCode</th>\n",
       "      <th>uom</th>\n",
       "      <th>min</th>\n",
       "      <th>max</th>\n",
       "      <th>roQty</th>\n",
       "      <th>discount</th>\n",
       "      <th>taxable</th>\n",
       "      <th>input</th>\n",
       "      <th>output</th>\n",
       "      <th>bisUnit</th>\n",
       "      <th>itmType</th>\n",
       "      <th>expiry</th>\n",
       "      <th>ref</th>\n",
       "    </tr>\n",
       "  </thead>\n",
       "  <tbody>\n",
       "  </tbody>\n",
       "</table>\n",
       "</div>"
      ],
      "text/plain": [
       "Empty DataFrame\n",
       "Columns: [id, itmCode, itmLogo, uPrice, brand, supplier, barCode, uom, min, max, roQty, discount, taxable, input, output, bisUnit, itmType, expiry, ref]\n",
       "Index: []"
      ]
     },
     "execution_count": 14,
     "metadata": {},
     "output_type": "execute_result"
    }
   ],
   "source": [
    "Extra"
   ]
  },
  {
   "cell_type": "markdown",
   "metadata": {},
   "source": [
    "<p style=\"font-family:Calibri; font-size:1.75em; color:white; padding:5px 5px; text-align: left; height:50px; border-bottom: 1px solid orange;\"></p>"
   ]
  },
  {
   "cell_type": "code",
   "execution_count": 35,
   "metadata": {},
   "outputs": [],
   "source": [
    "Combined = pd.merge(basic, Extra, on=\"itmCode\")\n",
    "Combined = Combined.drop(\"id_y\", axis=1)\n",
    "Combined = Combined.rename(columns={'id_x': 'id'})\n",
    "\n",
    "Combined['comment'] = ''"
   ]
  },
  {
   "cell_type": "code",
   "execution_count": 36,
   "metadata": {},
   "outputs": [
    {
     "data": {
      "text/html": [
       "<div>\n",
       "<style scoped>\n",
       "    .dataframe tbody tr th:only-of-type {\n",
       "        vertical-align: middle;\n",
       "    }\n",
       "\n",
       "    .dataframe tbody tr th {\n",
       "        vertical-align: top;\n",
       "    }\n",
       "\n",
       "    .dataframe thead th {\n",
       "        text-align: right;\n",
       "    }\n",
       "</style>\n",
       "<table border=\"1\" class=\"dataframe\">\n",
       "  <thead>\n",
       "    <tr style=\"text-align: right;\">\n",
       "      <th></th>\n",
       "      <th>id</th>\n",
       "      <th>itmCode</th>\n",
       "      <th>itmName</th>\n",
       "      <th>opeQty</th>\n",
       "      <th>cloQty</th>\n",
       "      <th>itmActive</th>\n",
       "      <th>itmLogo</th>\n",
       "      <th>uPrice</th>\n",
       "      <th>brand</th>\n",
       "      <th>supplier</th>\n",
       "      <th>barCode</th>\n",
       "      <th>uom</th>\n",
       "      <th>min</th>\n",
       "      <th>max</th>\n",
       "      <th>roQty</th>\n",
       "      <th>discount</th>\n",
       "      <th>taxable</th>\n",
       "      <th>input</th>\n",
       "      <th>output</th>\n",
       "      <th>bisUnit</th>\n",
       "      <th>itmType</th>\n",
       "      <th>expiry</th>\n",
       "      <th>ref</th>\n",
       "      <th>comment</th>\n",
       "    </tr>\n",
       "  </thead>\n",
       "  <tbody>\n",
       "    <tr>\n",
       "      <th>0</th>\n",
       "      <td>10102</td>\n",
       "      <td>10102</td>\n",
       "      <td>asdbcd</td>\n",
       "      <td>2</td>\n",
       "      <td>0</td>\n",
       "      <td>Yes</td>\n",
       "      <td>images/itmLogo/File_4L4z1te.jpg</td>\n",
       "      <td>230</td>\n",
       "      <td>asdfas</td>\n",
       "      <td>sadfas</td>\n",
       "      <td>fasdfa</td>\n",
       "      <td>sdfasdf</td>\n",
       "      <td>0</td>\n",
       "      <td>0</td>\n",
       "      <td>0</td>\n",
       "      <td>0</td>\n",
       "      <td></td>\n",
       "      <td>0</td>\n",
       "      <td>0</td>\n",
       "      <td></td>\n",
       "      <td></td>\n",
       "      <td>0</td>\n",
       "      <td></td>\n",
       "      <td></td>\n",
       "    </tr>\n",
       "  </tbody>\n",
       "</table>\n",
       "</div>"
      ],
      "text/plain": [
       "      id itmCode itmName  opeQty  cloQty itmActive  \\\n",
       "0  10102   10102  asdbcd       2       0       Yes   \n",
       "\n",
       "                           itmLogo  uPrice   brand supplier barCode      uom  \\\n",
       "0  images/itmLogo/File_4L4z1te.jpg     230  asdfas   sadfas  fasdfa  sdfasdf   \n",
       "\n",
       "   min  max  roQty  discount taxable  input  output bisUnit itmType  expiry  \\\n",
       "0    0    0      0         0              0       0                       0   \n",
       "\n",
       "  ref comment  \n",
       "0              "
      ]
     },
     "execution_count": 36,
     "metadata": {},
     "output_type": "execute_result"
    }
   ],
   "source": [
    "Combined"
   ]
  },
  {
   "cell_type": "code",
   "execution_count": null,
   "metadata": {},
   "outputs": [],
   "source": []
  },
  {
   "cell_type": "markdown",
   "metadata": {},
   "source": [
    "<p style=\"font-size:2.2em; color:white; padding:25px; border-bottom: 5px solid #ffb701; background:#143157;\"> \n",
    "Save as CSV (Customer Master Data) </p>\n",
    "Extract Customer Complete Information and Save as CSV file"
   ]
  },
  {
   "cell_type": "code",
   "execution_count": 1,
   "metadata": {},
   "outputs": [],
   "source": [
    "import pandas as pd\n",
    "import numpy as np\n",
    "pd.options.display.float_format = '{:,.0f}'.format\n",
    "pd.set_option('display.max_columns', 85) # set Jupeter note book to dispay 85 columns"
   ]
  },
  {
   "cell_type": "code",
   "execution_count": 8,
   "metadata": {},
   "outputs": [],
   "source": [
    "tempDf = {'id':  10102, \n",
    "          'itmCode': 10102,\n",
    "          'itmName': 'Item Name', \n",
    "          'opeQty': 10,\n",
    "          'cloQty':2 , \n",
    "          'itmActive': 'Active',\n",
    "          'itmLogo': '/Pic/001.jpeg',\n",
    "          'uPrice': 50000,\n",
    "          'brand': 'Brand Name',\n",
    "          'supplier': 'Supplier Name0',\n",
    "          'barCode': 'Bar Code',\n",
    "          'uom': 'Pices',\n",
    "          'min': 2,\n",
    "          'max': 10,\n",
    "          'roQty': 5,\n",
    "          'discount': 40,\n",
    "          'taxable': 'Yes',\n",
    "          'input': 0,\n",
    "          'output': 5,\n",
    "          'bisUnit': 'Machine',\n",
    "          'itmType': 'Pics',\n",
    "          'expiry': '1Years',\n",
    "          'ref': 'None',\n",
    "          'comment': 'Add new',\n",
    "        }\n",
    "\n",
    "df = pd.DataFrame(tempDf, index=[0])"
   ]
  },
  {
   "cell_type": "code",
   "execution_count": 9,
   "metadata": {},
   "outputs": [
    {
     "data": {
      "text/html": [
       "<div>\n",
       "<style scoped>\n",
       "    .dataframe tbody tr th:only-of-type {\n",
       "        vertical-align: middle;\n",
       "    }\n",
       "\n",
       "    .dataframe tbody tr th {\n",
       "        vertical-align: top;\n",
       "    }\n",
       "\n",
       "    .dataframe thead th {\n",
       "        text-align: right;\n",
       "    }\n",
       "</style>\n",
       "<table border=\"1\" class=\"dataframe\">\n",
       "  <thead>\n",
       "    <tr style=\"text-align: right;\">\n",
       "      <th></th>\n",
       "      <th>id</th>\n",
       "      <th>itmCode</th>\n",
       "      <th>itmName</th>\n",
       "      <th>opeQty</th>\n",
       "      <th>cloQty</th>\n",
       "      <th>itmActive</th>\n",
       "      <th>itmLogo</th>\n",
       "      <th>uPrice</th>\n",
       "      <th>brand</th>\n",
       "      <th>supplier</th>\n",
       "      <th>barCode</th>\n",
       "      <th>uom</th>\n",
       "      <th>min</th>\n",
       "      <th>max</th>\n",
       "      <th>roQty</th>\n",
       "      <th>discount</th>\n",
       "      <th>taxable</th>\n",
       "      <th>input</th>\n",
       "      <th>output</th>\n",
       "      <th>bisUnit</th>\n",
       "      <th>itmType</th>\n",
       "      <th>expiry</th>\n",
       "      <th>ref</th>\n",
       "      <th>comment</th>\n",
       "    </tr>\n",
       "  </thead>\n",
       "  <tbody>\n",
       "    <tr>\n",
       "      <th>0</th>\n",
       "      <td>10102</td>\n",
       "      <td>10102</td>\n",
       "      <td>Item Name</td>\n",
       "      <td>10</td>\n",
       "      <td>2</td>\n",
       "      <td>Active</td>\n",
       "      <td>/Pic/001.jpeg</td>\n",
       "      <td>50000</td>\n",
       "      <td>Brand Name</td>\n",
       "      <td>Supplier Name0</td>\n",
       "      <td>Bar Code</td>\n",
       "      <td>Pices</td>\n",
       "      <td>2</td>\n",
       "      <td>10</td>\n",
       "      <td>5</td>\n",
       "      <td>40</td>\n",
       "      <td>Yes</td>\n",
       "      <td>0</td>\n",
       "      <td>5</td>\n",
       "      <td>Machine</td>\n",
       "      <td>Pics</td>\n",
       "      <td>1Years</td>\n",
       "      <td>None</td>\n",
       "      <td>Add new</td>\n",
       "    </tr>\n",
       "  </tbody>\n",
       "</table>\n",
       "</div>"
      ],
      "text/plain": [
       "      id  itmCode    itmName  opeQty  cloQty itmActive        itmLogo  uPrice  \\\n",
       "0  10102    10102  Item Name      10       2    Active  /Pic/001.jpeg   50000   \n",
       "\n",
       "        brand        supplier   barCode    uom  min  max  roQty  discount  \\\n",
       "0  Brand Name  Supplier Name0  Bar Code  Pices    2   10      5        40   \n",
       "\n",
       "  taxable  input  output  bisUnit itmType  expiry   ref  comment  \n",
       "0     Yes      0       5  Machine    Pics  1Years  None  Add new  "
      ]
     },
     "execution_count": 9,
     "metadata": {},
     "output_type": "execute_result"
    }
   ],
   "source": [
    "df"
   ]
  },
  {
   "cell_type": "code",
   "execution_count": null,
   "metadata": {},
   "outputs": [],
   "source": []
  },
  {
   "cell_type": "markdown",
   "metadata": {},
   "source": [
    "<p style=\"font-family:Calibri; font-size:1.75em; color:white; padding:5px 5px; text-align: left; height:50px; border-bottom: 1px solid orange;\"></p>"
   ]
  },
  {
   "cell_type": "markdown",
   "metadata": {},
   "source": [
    "<p style=\"font-size:2.2em; color:white; padding:25px; border-bottom: 5px solid #ffb701; background:#143157;\"> \n",
    "    Item Standard Sales Price - <span style=\"font-size:.75em; color: #11a1f5;\"> from excel file </span></p>\n",
    "Read data from csv in Pandas"
   ]
  },
  {
   "cell_type": "code",
   "execution_count": 6,
   "metadata": {},
   "outputs": [],
   "source": [
    "import pandas as pd\n",
    "import numpy as np\n",
    "pd.options.display.float_format = '{:,.0f}'.format\n",
    "pd.set_option('display.max_columns', 85) # set Jupeter note book to dispay 85 columns"
   ]
  },
  {
   "cell_type": "markdown",
   "metadata": {},
   "source": [
    "<p style=\"font-size:1.5em; color:white; padding:5px; border-bottom: 3px solid orange; background: #3c5c75; margin: 25px 0 -7px 0;\"> \n",
    "Step 1 - Read CSV files </p>"
   ]
  },
  {
   "cell_type": "code",
   "execution_count": 7,
   "metadata": {},
   "outputs": [],
   "source": [
    "###---- Read Employee master File ------------------------------------------\n",
    "###---- encoding='unicode_escape' since data includes special charactor to avoid error.\n",
    "df = pd.read_csv(\"Data/H1_Items/Item/ItemSalPrice.csv\",encoding='unicode_escape').fillna(0)"
   ]
  },
  {
   "cell_type": "markdown",
   "metadata": {},
   "source": [
    "<p style=\"font-size:1.5em; color:white; padding:5px; border-bottom: 3px solid orange; background: #3c5c75; margin: 25px 0 -7px 0;\"> \n",
    "Step 2 - Remove Duplicate Entry </p>"
   ]
  },
  {
   "cell_type": "code",
   "execution_count": 8,
   "metadata": {},
   "outputs": [],
   "source": [
    "# remove duplicate rows and keep only the last occurrence subequently if that customer Code added\n",
    "# will show because keep last record will not have 'Delete' in comment column\n",
    "DataA = df.drop_duplicates(subset=['itmCode'], keep='last')\n",
    "DataB = DataA.drop(DataA.loc[DataA['comment']=='Delete'].index)"
   ]
  },
  {
   "cell_type": "markdown",
   "metadata": {},
   "source": [
    "<p style=\"font-size:1.5em; color:white; padding:5px; border-bottom: 3px solid orange; background: #3c5c75; margin: 25px 0 -7px 0;\"> \n",
    "Step 3 - Convert into Json </p>"
   ]
  },
  {
   "cell_type": "code",
   "execution_count": 9,
   "metadata": {},
   "outputs": [],
   "source": [
    "### Convert Data into Json Dictionary (can be access by JavaScript) .........\n",
    "Data = DataB.to_dict(orient=\"records\")"
   ]
  },
  {
   "cell_type": "code",
   "execution_count": null,
   "metadata": {},
   "outputs": [],
   "source": []
  },
  {
   "cell_type": "code",
   "execution_count": null,
   "metadata": {},
   "outputs": [],
   "source": []
  },
  {
   "cell_type": "code",
   "execution_count": null,
   "metadata": {},
   "outputs": [],
   "source": []
  },
  {
   "cell_type": "code",
   "execution_count": null,
   "metadata": {},
   "outputs": [],
   "source": []
  },
  {
   "cell_type": "markdown",
   "metadata": {},
   "source": [
    "<p style=\"font-family:Calibri; font-size:1.75em; color:white; padding:5px 5px; text-align: left; height:50px; border-bottom: 3px solid orange; margin:-7px 0px;\"></p>"
   ]
  },
  {
   "cell_type": "markdown",
   "metadata": {},
   "source": [
    "<p style=\"font-size:2.2em; padding:10px; border-bottom: 5px solid #ffb701; background:#492863;\n",
    "          text-align:center\"> \n",
    "    <span style=\"color: #debef7;\"> Item Ledger and WAC Calculation  </span> <br>\n",
    "</p>"
   ]
  },
  {
   "cell_type": "markdown",
   "metadata": {},
   "source": [
    "<p style=\"font-size:2.2em; padding:18px; border-bottom: 5px solid #ffb701; background:#143157;\"> \n",
    "    <span style=\"color: #fff;\">Test Ledger -  </span>\n",
    "    <span style=\"font-size:.75em; color: #11a1f5;\"> Create Item Ledger through CSV </span>\n",
    "</p>"
   ]
  },
  {
   "cell_type": "markdown",
   "metadata": {},
   "source": [
    "<p style=\"padding:5px; border-bottom:3px solid #6d79a1; background:#e9edf7; margin:5px 0 -7px 20px;\"> \n",
    "   <span style=\"font-size:1.4em; color:#202f61;\" >Step 1 - </span>\n",
    "   <span style=\"font-size:1.4em; color:#e39607;\">Get Company and Year - </span> \n",
    "   <span style=\"font-size:1.2em; color:#209ebd;\">to Load Data </span>\n",
    "</p> "
   ]
  },
  {
   "cell_type": "code",
   "execution_count": 43,
   "metadata": {},
   "outputs": [],
   "source": [
    "import pandas as pd\n",
    "import numpy as np\n",
    "pd.options.display.float_format = '{:,.2f}'.format\n",
    "pd.set_option('display.max_columns', 85) # set Jupeter note book to dispay 85 columns\n",
    "dfStd = pd.read_csv('data/basInfo.csv')\n",
    "Year = str(dfStd.loc[0, 'year'])\n",
    "coFolder = str(dfStd.loc[0, 'coFolder'])"
   ]
  },
  {
   "cell_type": "markdown",
   "metadata": {},
   "source": [
    "<p style=\"padding:5px; border-bottom:3px solid #6d79a1; background:#e9edf7; margin:5px 0 -7px 20px;\"> \n",
    "   <span style=\"font-size:1.4em; color:#202f61;\" >Step 2 - </span>\n",
    "   <span style=\"font-size:1.4em; color:#e39607;\">Read dlBasic.csv - </span> \n",
    "   <span style=\"font-size:1.2em; color:#209ebd;\">to Get the last Delivery Number </span>\n",
    "</p> "
   ]
  },
  {
   "cell_type": "code",
   "execution_count": 44,
   "metadata": {},
   "outputs": [],
   "source": [
    "fPath = \"Data/\" +coFolder+ \"/\" +Year+ \"/H1_Items/Items/ItemMovement.csv\"\n",
    "df = pd.read_csv(fPath, index_col=False, encoding='unicode_escape').fillna(0)"
   ]
  },
  {
   "cell_type": "code",
   "execution_count": 45,
   "metadata": {},
   "outputs": [],
   "source": [
    "pk = 10003001\n",
    "df = df[df['itmCode'] == pk]\n",
    "df['traDat'] = pd.to_datetime(df['traDat']).dt.strftime('%Y-%m-%d')\n",
    "ledger = df\n",
    "ledger = ledger.sort_values('traDat')  # Sort by date in ascending order"
   ]
  },
  {
   "cell_type": "code",
   "execution_count": 46,
   "metadata": {},
   "outputs": [],
   "source": [
    "### Remove Duplicate Quote and Deleted Record...\n",
    "ledger = ledger.drop_duplicates(subset=['id'], keep='last')\n",
    "ledger = ledger.drop(ledger.loc[ledger['action']=='Deleted'].index)"
   ]
  },
  {
   "cell_type": "code",
   "execution_count": 47,
   "metadata": {},
   "outputs": [],
   "source": [
    "ledger['totCost'] = ledger['costPU'] * ledger['qtyTOT']\n",
    "ledger['cumQty'] = ledger['qtyTOT'].cumsum()"
   ]
  },
  {
   "cell_type": "code",
   "execution_count": 49,
   "metadata": {},
   "outputs": [
    {
     "data": {
      "text/html": [
       "<div>\n",
       "<style scoped>\n",
       "    .dataframe tbody tr th:only-of-type {\n",
       "        vertical-align: middle;\n",
       "    }\n",
       "\n",
       "    .dataframe tbody tr th {\n",
       "        vertical-align: top;\n",
       "    }\n",
       "\n",
       "    .dataframe thead th {\n",
       "        text-align: right;\n",
       "    }\n",
       "</style>\n",
       "<table border=\"1\" class=\"dataframe\">\n",
       "  <thead>\n",
       "    <tr style=\"text-align: right;\">\n",
       "      <th></th>\n",
       "      <th>id</th>\n",
       "      <th>itmCode</th>\n",
       "      <th>itmName</th>\n",
       "      <th>traDat</th>\n",
       "      <th>qtyPU</th>\n",
       "      <th>costPU</th>\n",
       "      <th>qtyTOT</th>\n",
       "      <th>desc</th>\n",
       "      <th>Remarks</th>\n",
       "      <th>traDate</th>\n",
       "      <th>action</th>\n",
       "      <th>totCost</th>\n",
       "      <th>cumQty</th>\n",
       "    </tr>\n",
       "  </thead>\n",
       "  <tbody>\n",
       "    <tr>\n",
       "      <th>5</th>\n",
       "      <td>100</td>\n",
       "      <td>10003001</td>\n",
       "      <td>Portable Diode Laser Hair Removal Equipment - ...</td>\n",
       "      <td>2023-01-01</td>\n",
       "      <td>1</td>\n",
       "      <td>4,500.00</td>\n",
       "      <td>10</td>\n",
       "      <td>Opening Balance</td>\n",
       "      <td>Balance</td>\n",
       "      <td>0</td>\n",
       "      <td>0</td>\n",
       "      <td>45,000.00</td>\n",
       "      <td>10</td>\n",
       "    </tr>\n",
       "    <tr>\n",
       "      <th>96</th>\n",
       "      <td>2300020</td>\n",
       "      <td>10003001</td>\n",
       "      <td>Portable Diode Laser Hair Removal Equipment - ...</td>\n",
       "      <td>2023-02-24</td>\n",
       "      <td>0</td>\n",
       "      <td>0.00</td>\n",
       "      <td>-3</td>\n",
       "      <td>Sales of Product</td>\n",
       "      <td>Sales</td>\n",
       "      <td>2023-5-29 22-0-18</td>\n",
       "      <td></td>\n",
       "      <td>-0.00</td>\n",
       "      <td>7</td>\n",
       "    </tr>\n",
       "    <tr>\n",
       "      <th>187</th>\n",
       "      <td>2300063</td>\n",
       "      <td>10003001</td>\n",
       "      <td>Portable Diode Laser Hair Removal Equipment - ...</td>\n",
       "      <td>2023-04-24</td>\n",
       "      <td>0</td>\n",
       "      <td>0.00</td>\n",
       "      <td>-2</td>\n",
       "      <td>Sales of Product</td>\n",
       "      <td>Sales</td>\n",
       "      <td>2023-5-29 22-13-56</td>\n",
       "      <td></td>\n",
       "      <td>-0.00</td>\n",
       "      <td>5</td>\n",
       "    </tr>\n",
       "    <tr>\n",
       "      <th>346</th>\n",
       "      <td>2300135</td>\n",
       "      <td>10003001</td>\n",
       "      <td>Portable Diode Laser Hair Removal Equipment - ...</td>\n",
       "      <td>2023-06-27</td>\n",
       "      <td>0</td>\n",
       "      <td>0.00</td>\n",
       "      <td>-2</td>\n",
       "      <td>Sales of Product</td>\n",
       "      <td>Sales</td>\n",
       "      <td>2023-6-3 2-37-38</td>\n",
       "      <td></td>\n",
       "      <td>-0.00</td>\n",
       "      <td>3</td>\n",
       "    </tr>\n",
       "    <tr>\n",
       "      <th>386</th>\n",
       "      <td>2300153</td>\n",
       "      <td>10003001</td>\n",
       "      <td>Portable Diode Laser Hair Removal Equipment - ...</td>\n",
       "      <td>2023-08-28</td>\n",
       "      <td>0</td>\n",
       "      <td>0.00</td>\n",
       "      <td>-1</td>\n",
       "      <td>Sales of Product</td>\n",
       "      <td>Sales</td>\n",
       "      <td>2023-6-3 2-47-58</td>\n",
       "      <td></td>\n",
       "      <td>-0.00</td>\n",
       "      <td>2</td>\n",
       "    </tr>\n",
       "    <tr>\n",
       "      <th>484</th>\n",
       "      <td>2300198</td>\n",
       "      <td>10003001</td>\n",
       "      <td>Portable Diode Laser Hair Removal Equipment - ...</td>\n",
       "      <td>2023-10-22</td>\n",
       "      <td>0</td>\n",
       "      <td>0.00</td>\n",
       "      <td>-2</td>\n",
       "      <td>Sales of Product</td>\n",
       "      <td>Sales</td>\n",
       "      <td>2023-6-3 3-31-25</td>\n",
       "      <td></td>\n",
       "      <td>-0.00</td>\n",
       "      <td>0</td>\n",
       "    </tr>\n",
       "    <tr>\n",
       "      <th>618</th>\n",
       "      <td>2300260</td>\n",
       "      <td>10003001</td>\n",
       "      <td>Portable Diode Laser Hair Removal Equipment - ...</td>\n",
       "      <td>2023-12-10</td>\n",
       "      <td>0</td>\n",
       "      <td>0.00</td>\n",
       "      <td>-3</td>\n",
       "      <td>Sales of Product</td>\n",
       "      <td>Sales</td>\n",
       "      <td>2023-6-3 4-0-4</td>\n",
       "      <td></td>\n",
       "      <td>-0.00</td>\n",
       "      <td>-3</td>\n",
       "    </tr>\n",
       "  </tbody>\n",
       "</table>\n",
       "</div>"
      ],
      "text/plain": [
       "          id   itmCode                                            itmName  \\\n",
       "5        100  10003001  Portable Diode Laser Hair Removal Equipment - ...   \n",
       "96   2300020  10003001  Portable Diode Laser Hair Removal Equipment - ...   \n",
       "187  2300063  10003001  Portable Diode Laser Hair Removal Equipment - ...   \n",
       "346  2300135  10003001  Portable Diode Laser Hair Removal Equipment - ...   \n",
       "386  2300153  10003001  Portable Diode Laser Hair Removal Equipment - ...   \n",
       "484  2300198  10003001  Portable Diode Laser Hair Removal Equipment - ...   \n",
       "618  2300260  10003001  Portable Diode Laser Hair Removal Equipment - ...   \n",
       "\n",
       "         traDat  qtyPU   costPU  qtyTOT              desc  Remarks  \\\n",
       "5    2023-01-01      1 4,500.00      10   Opening Balance  Balance   \n",
       "96   2023-02-24      0     0.00      -3  Sales of Product    Sales   \n",
       "187  2023-04-24      0     0.00      -2  Sales of Product    Sales   \n",
       "346  2023-06-27      0     0.00      -2  Sales of Product    Sales   \n",
       "386  2023-08-28      0     0.00      -1  Sales of Product    Sales   \n",
       "484  2023-10-22      0     0.00      -2  Sales of Product    Sales   \n",
       "618  2023-12-10      0     0.00      -3  Sales of Product    Sales   \n",
       "\n",
       "                traDate action   totCost  cumQty  \n",
       "5                     0      0 45,000.00      10  \n",
       "96    2023-5-29 22-0-18            -0.00       7  \n",
       "187  2023-5-29 22-13-56            -0.00       5  \n",
       "346    2023-6-3 2-37-38            -0.00       3  \n",
       "386    2023-6-3 2-47-58            -0.00       2  \n",
       "484    2023-6-3 3-31-25            -0.00       0  \n",
       "618      2023-6-3 4-0-4            -0.00      -3  "
      ]
     },
     "execution_count": 49,
     "metadata": {},
     "output_type": "execute_result"
    }
   ],
   "source": [
    "ledger"
   ]
  },
  {
   "cell_type": "markdown",
   "metadata": {},
   "source": [
    "<p style=\"padding:5px; border-bottom:3px solid #6d79a1; background:#e9edf7; margin:5px 0 -7px 20px;\"> \n",
    "   <span style=\"font-size:1.4em; color:#202f61;\" >Step 3 - </span>\n",
    "   <span style=\"font-size:1.4em; color:#e39607;\">to Calculate Horizontal   - </span> \n",
    "   <span style=\"font-size:1.2em; color:#209ebd;\">through iterrows </span>\n",
    "</p> "
   ]
  },
  {
   "cell_type": "code",
   "execution_count": 50,
   "metadata": {},
   "outputs": [],
   "source": [
    "wac_list = []\n",
    "for index, row in ledger.iterrows():\n",
    "    if row['cumQty'] == 0:  #if cumQty become 0 will give error to avoid the error\n",
    "        row['cumQty'] = 1\n",
    "    \n",
    "    if row['Remarks'] == 'Opening':\n",
    "        wac = row['costPU']\n",
    "    elif row['Remarks'] == 'Purchase':\n",
    "        wac = ((wac_list[-1] * (row['cumQty']-row['qtyTOT'])) + (row['totCost']))/ (row['cumQty'])\n",
    "    elif row['Remarks'] == 'Sales':\n",
    "        wac = (((wac_list[-1] * (row['cumQty']-row['qtyTOT'])) + (row['totCost'])) + (row['qtyTOT'] * wac_list[-1])) / (row['cumQty'])\n",
    "    else:\n",
    "        wac = 0\n",
    "    wac_list.append(wac)\n",
    "\n",
    "ledger['WAC'] = wac_list"
   ]
  },
  {
   "cell_type": "code",
   "execution_count": 51,
   "metadata": {},
   "outputs": [],
   "source": [
    "ledger['Balance'] = ledger['WAC']*ledger['cumQty']"
   ]
  },
  {
   "cell_type": "code",
   "execution_count": 52,
   "metadata": {},
   "outputs": [],
   "source": [
    "ledger.loc[ledger['Remarks'] == 'Sales', 'totCost'] = ledger.loc[ledger['Remarks'] == 'Sales', 'qtyTOT'] * ledger.loc[ledger['Remarks'] == 'Sales', 'WAC']\n",
    "ledger['costPU'] = ledger['totCost'] / ledger['qtyTOT']"
   ]
  },
  {
   "cell_type": "code",
   "execution_count": 53,
   "metadata": {},
   "outputs": [],
   "source": [
    "ledgerA = ledger[['itmCode','traDat','desc','costPU','qtyTOT','totCost','cumQty','WAC','Balance']]"
   ]
  },
  {
   "cell_type": "code",
   "execution_count": 54,
   "metadata": {},
   "outputs": [],
   "source": [
    "Data = ledger.to_dict(orient=\"records\")"
   ]
  },
  {
   "cell_type": "code",
   "execution_count": null,
   "metadata": {},
   "outputs": [],
   "source": []
  },
  {
   "cell_type": "markdown",
   "metadata": {},
   "source": [
    "<p style=\"font-size:2.2em; padding:18px; border-bottom: 5px solid #ffb701; background:#143157;\"> \n",
    "    <span style=\"color: #fff;\">Refresh -  </span>\n",
    "    <span style=\"font-size:.75em; color: #11a1f5;\"> Item Ledger CSV File </span>\n",
    "</p>"
   ]
  },
  {
   "cell_type": "markdown",
   "metadata": {},
   "source": [
    "<p style=\"padding:5px; border-bottom:3px solid #6d79a1; background:#e9edf7; margin:5px 0 -7px 20px;\"> \n",
    "   <span style=\"font-size:1.4em; color:#202f61;\" >Step 1 - </span>\n",
    "   <span style=\"font-size:1.4em; color:#e39607;\">Get Company and Year - </span> \n",
    "   <span style=\"font-size:1.2em; color:#209ebd;\">to Load Data </span>\n",
    "</p> "
   ]
  },
  {
   "cell_type": "code",
   "execution_count": 37,
   "metadata": {},
   "outputs": [],
   "source": [
    "import pandas as pd\n",
    "import numpy as np\n",
    "pd.options.display.float_format = '{:,.0f}'.format\n",
    "#pd.set_option('display.float_format', '{:.0f}'.format)\n",
    "pd.set_option('display.max_columns', 85) # set Jupeter note book to dispay 85 columns\n",
    "dfStd = pd.read_csv('data/basInfo.csv')\n",
    "Year = str(dfStd.loc[0, 'year'])\n",
    "coFolder = str(dfStd.loc[0, 'coFolder'])"
   ]
  },
  {
   "cell_type": "markdown",
   "metadata": {},
   "source": [
    "<p style=\"padding:5px; border-bottom:3px solid #6d79a1; background:#e9edf7; margin:5px 0 -7px 20px;\"> \n",
    "   <span style=\"font-size:1.4em; color:#202f61;\" >Step 2 - </span>\n",
    "   <span style=\"font-size:1.4em; color:#e39607;\">Read dlBasic.csv - </span> \n",
    "   <span style=\"font-size:1.2em; color:#209ebd;\">to Get the last Delivery Number </span>\n",
    "</p> "
   ]
  },
  {
   "cell_type": "code",
   "execution_count": 38,
   "metadata": {},
   "outputs": [],
   "source": [
    "fPath = \"Data/\" +coFolder+ \"/\" +Year+ \"/H1_Items/Items/ItemMovement.csv\"\n",
    "df = pd.read_csv(fPath, index_col=False, encoding='unicode_escape').fillna(0)"
   ]
  },
  {
   "cell_type": "code",
   "execution_count": 39,
   "metadata": {},
   "outputs": [],
   "source": [
    "df['unique'] = df['id'].astype(str)+ '-' +df['itmCode'].astype(str)"
   ]
  },
  {
   "cell_type": "code",
   "execution_count": 40,
   "metadata": {},
   "outputs": [],
   "source": [
    "### Remove Duplicate Quote and Deleted Record...\n",
    "ledger = df.drop_duplicates(subset=['unique'], keep='last')\n",
    "ledger = ledger.drop(ledger.loc[ledger['action']=='Deleted'].index)"
   ]
  },
  {
   "cell_type": "code",
   "execution_count": 41,
   "metadata": {},
   "outputs": [],
   "source": [
    "ledger = ledger.drop('unique', axis=1)"
   ]
  },
  {
   "cell_type": "code",
   "execution_count": 36,
   "metadata": {},
   "outputs": [],
   "source": [
    "### Save the data in qotBasic.csv File...\n",
    "fPath = \"Data/\" +coFolder+ \"/\" +Year+ \"/H1_Items/Items/ItemMovement.csv\"\n",
    "ledger.to_csv(fPath, index=False)"
   ]
  },
  {
   "cell_type": "markdown",
   "metadata": {},
   "source": [
    "<p style=\"font-family:Calibri; font-size:1.75em; color:white; padding:5px 5px; text-align: left; height:50px; border-bottom: 3px solid orange; margin:-7px 0px;\"></p>"
   ]
  },
  {
   "cell_type": "markdown",
   "metadata": {},
   "source": [
    "<p style=\"font-size:2.2em; padding:10px; border-bottom: 5px solid #ffb701; background:#492863;\n",
    "          text-align:center\"> \n",
    "    <span style=\"color: #debef7;\"> Test Calculation  </span> <br>\n",
    "</p>"
   ]
  },
  {
   "cell_type": "markdown",
   "metadata": {},
   "source": [
    "<p style=\"font-size:2.2em; padding:18px; border-bottom: 5px solid #ffb701; background:#143157;\"> \n",
    "    <span style=\"color: #fff;\">Item Ledger -  </span>\n",
    "    <span style=\"font-size:.75em; color: #11a1f5;\"> Create Item Ledger through CSV </span>\n",
    "</p>"
   ]
  },
  {
   "cell_type": "code",
   "execution_count": 9,
   "metadata": {},
   "outputs": [],
   "source": [
    "import pandas as pd\n",
    "pd.options.display.float_format = '{:,.2f}'.format\n",
    "pd.set_option('display.max_columns', 85) # set Jupeter note book to dispay 85 columns"
   ]
  },
  {
   "cell_type": "code",
   "execution_count": 10,
   "metadata": {},
   "outputs": [],
   "source": [
    "ledger_data = {\n",
    "    'itmCode': [1900, 1900, 1900, 1900, 1900, 1900, 1900, 1900, 1900, 1900],\n",
    "    'traDat': ['1/1/2023', '1/10/2023', '1/12/2023', '1/15/2023', '1/17/2023', '1/19/2023', '1/22/2023', '1/24/2023', '1/26/2023', '1/28/2023'],\n",
    "    'costPU': [1650, 1800, 0, 1700, 0, 1750, 0, 0, 1800, 0],\n",
    "    'qtyTOT': [13, 15, -9, 11, -12, 14, -8, -12, 10, -15],\n",
    "    'Remarks': ['Opening', 'Purchase', 'Sales', 'Purchase', 'Sales', 'Purchase','Sales','Sales', 'Purchase' ,'Sales',]\n",
    "    }\n",
    "\n",
    "ledger = pd.DataFrame(ledger_data)\n",
    "ledger['traDat'] = pd.to_datetime(ledger['traDat'])\n",
    "ledger = ledger.sort_values('traDat')"
   ]
  },
  {
   "cell_type": "code",
   "execution_count": 11,
   "metadata": {},
   "outputs": [],
   "source": [
    "ledger['totCost'] = ledger['costPU'] * ledger['qtyTOT']\n",
    "ledger['cumQty'] = ledger['qtyTOT'].cumsum()"
   ]
  },
  {
   "cell_type": "code",
   "execution_count": 12,
   "metadata": {},
   "outputs": [],
   "source": [
    "wac_list = []\n",
    "for index, row in ledger.iterrows():\n",
    "    if row['Remarks'] == 'Opening':\n",
    "        wac = row['costPU']\n",
    "    elif row['Remarks'] == 'Purchase':\n",
    "        wac = ((wac_list[-1] * (row['cumQty']-row['qtyTOT'])) + (row['totCost']))/ (row['cumQty'])\n",
    "    elif row['Remarks'] == 'Sales':\n",
    "        wac = (((wac_list[-1] * (row['cumQty']-row['qtyTOT'])) + (row['totCost'])) + (row['qtyTOT'] * wac_list[-1])) / (row['cumQty'])\n",
    "    else:\n",
    "        wac = 0\n",
    "    wac_list.append(wac)\n",
    "\n",
    "ledger['WAC'] = wac_list"
   ]
  },
  {
   "cell_type": "code",
   "execution_count": 25,
   "metadata": {},
   "outputs": [],
   "source": [
    "ledger['Balance'] = ledger['WAC']*ledger['cumQty']"
   ]
  },
  {
   "cell_type": "markdown",
   "metadata": {},
   "source": [
    "<p style=\"font-family:Calibri; font-size:1.75em; color:white; padding:5px 5px; text-align: left; height:50px; border-bottom: 3px solid orange; margin:-7px 0px;\"></p>"
   ]
  },
  {
   "cell_type": "markdown",
   "metadata": {},
   "source": [
    "<p style=\"font-size:2.2em; padding:18px; border-bottom: 5px solid #ffb701; background:#143157;\"> \n",
    "    <span style=\"color: #fff;\">Test Ledger -  </span>\n",
    "    <span style=\"font-size:.75em; color: #11a1f5;\"> Create Item Ledger through CSV </span>\n",
    "</p>"
   ]
  },
  {
   "cell_type": "code",
   "execution_count": 26,
   "metadata": {},
   "outputs": [],
   "source": [
    "import pandas as pd\n",
    "pd.options.display.float_format = '{:,.2f}'.format\n",
    "pd.set_option('display.max_columns', 85) # set Jupeter note book to dispay 85 columns"
   ]
  },
  {
   "cell_type": "code",
   "execution_count": 27,
   "metadata": {},
   "outputs": [],
   "source": [
    "ledger_data = {\n",
    "    'itmCode': [1900, 1900, 1900, 1900, 1900, 1900, 1900, 1900, 1900, 1900],\n",
    "    'traDat': ['1/1/2023', '1/10/2023', '1/12/2023', '1/15/2023', '1/17/2023', '1/19/2023', '1/22/2023', '1/24/2023', '1/26/2023', '1/28/2023'],\n",
    "    'costPU': [1650, 1800, 0, 1700, 0, 1750, 0, 0, 1800, 0],\n",
    "    'qtyTOT': [13, 15, -9, 11, -12, 14, -8, -12, 10, -15],\n",
    "    'Remarks': ['Opening', 'Purchase', 'Sales', 'Purchase', 'Sales', 'Purchase','Sales','Sales', 'Purchase' ,'Sales',]\n",
    "    }\n",
    "\n",
    "ledger = pd.DataFrame(ledger_data)\n",
    "ledger['traDat'] = pd.to_datetime(ledger['traDat'])\n",
    "ledger = ledger.sort_values('traDat')"
   ]
  },
  {
   "cell_type": "code",
   "execution_count": 28,
   "metadata": {},
   "outputs": [],
   "source": [
    "ledger['totCost'] = ledger['costPU'] * ledger['qtyTOT']\n",
    "ledger['cumCost'] = ledger['totCost'].cumsum()\n",
    "ledger['cumQty'] = ledger['qtyTOT'].cumsum()"
   ]
  },
  {
   "cell_type": "code",
   "execution_count": 29,
   "metadata": {},
   "outputs": [],
   "source": [
    "wac_list = []\n",
    "for index, row in ledger.iterrows():\n",
    "    if row['Remarks'] == 'Opening':\n",
    "        wac = row['costPU']\n",
    "    elif row['Remarks'] == 'Purchase':\n",
    "        #wac = (row['cumQty'] * wac_list[-1] + row['qtyTOT'] * row['costPU']) / (row['cumQty'])\n",
    "        wac = ((wac_list[-1] * (row['cumQty']-row['qtyTOT'])) + (row['totCost']))/ (row['cumQty'])\n",
    "    elif row['Remarks'] == 'Sales':\n",
    "        wac = (((wac_list[-1] * (row['cumQty']-row['qtyTOT'])) + (row['totCost'])) + (row['qtyTOT'] * wac_list[-1])) / (row['cumQty'])\n",
    "        #wac = (row['qtyTOT'] * wac_list[-1])\n",
    "    else:\n",
    "        wac = 0\n",
    "    wac_list.append(wac)\n",
    "\n",
    "ledger['WAC'] = wac_list"
   ]
  },
  {
   "cell_type": "code",
   "execution_count": 30,
   "metadata": {},
   "outputs": [],
   "source": [
    "ledger['Balance'] = ledger['WAC']*ledger['cumQty']"
   ]
  },
  {
   "cell_type": "code",
   "execution_count": null,
   "metadata": {},
   "outputs": [],
   "source": []
  }
 ],
 "metadata": {
  "celltoolbar": "Raw Cell Format",
  "kernelspec": {
   "display_name": "Python 3 (ipykernel)",
   "language": "python",
   "name": "python3"
  },
  "language_info": {
   "codemirror_mode": {
    "name": "ipython",
    "version": 3
   },
   "file_extension": ".py",
   "mimetype": "text/x-python",
   "name": "python",
   "nbconvert_exporter": "python",
   "pygments_lexer": "ipython3",
   "version": "3.9.12"
  }
 },
 "nbformat": 4,
 "nbformat_minor": 2
}
