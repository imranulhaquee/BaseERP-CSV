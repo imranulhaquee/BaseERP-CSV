{
 "cells": [
  {
   "cell_type": "markdown",
   "metadata": {},
   "source": [
    "<p style=\"font-family:Calibri; font-size:1.75em; color:white; padding:5px 5px; text-align: left; height:50px; border-bottom: 1px solid orange; background:#f5eab8\"></p>"
   ]
  },
  {
   "cell_type": "markdown",
   "metadata": {},
   "source": [
    "<p style=\"font-size:2.2em; color:white; padding:25px; border-bottom: 5px solid #ffb701; background:#143157;\"> \n",
    "    Refresh Employee Master File - <span style=\"font-size:.75em; color: #11a1f5;\"> Get Data from Database and store in CSV </span></p>\n",
    "<<< aEmpRefresh >>>"
   ]
  },
  {
   "cell_type": "code",
   "execution_count": 1,
   "metadata": {},
   "outputs": [],
   "source": [
    "import pandas as pd\n",
    "import numpy as np\n",
    "import os\n",
    "pd.options.display.float_format = '{:,.0f}'.format\n",
    "pd.set_option('display.max_columns', 85) # set Jupeter note book to dispay 85 columns"
   ]
  },
  {
   "cell_type": "markdown",
   "metadata": {},
   "source": [
    "<p style=\"padding:5px; border-bottom:3px solid orange; background:#3c5c75; margin:25px 0 -7px 0;\"> \n",
    "   <span style=\"font-size:1.5em; color:#f7ca25;\" >Step 1 - </span>\n",
    "   <span style=\"font-size:1.5em; color:white;\">Create Engine and read data in Pandas </span> \n",
    "</p> "
   ]
  },
  {
   "cell_type": "markdown",
   "metadata": {},
   "source": [
    "<p style=\"font-family:Calibri; font-size:1.2em; color:#061233; padding:5px 5px; margin: 10px 0 -7px 20px;\n",
    "border-bottom: 3px solid #0d1e4f; background: #e3e9fa\">  \n",
    "Step 1a - Create SQL Engine </p>"
   ]
  },
  {
   "cell_type": "code",
   "execution_count": 2,
   "metadata": {},
   "outputs": [],
   "source": [
    "import sqlite3\n",
    "import sqlalchemy\n",
    "\n",
    "# here db.sqlite3 is the name mention in settings.py under Databases; and \n",
    "# path should be absolute where 'db.sqlite3' file exist\n",
    "#------------------------------------------------------------------------\n",
    "engine = sqlalchemy.create_engine('sqlite:///D:/IUH/2. Programming/2. App/1a BaseERP/db.sqlite3')"
   ]
  },
  {
   "cell_type": "markdown",
   "metadata": {},
   "source": [
    "<p style=\"font-family:Calibri; font-size:1.2em; color:#061233; padding:5px 5px; margin: 10px 0 -7px 20px;\n",
    "border-bottom: 3px solid #0d1e4f; background: #e3e9fa\">  \n",
    "Step 1b - Read Data from SQL </p>"
   ]
  },
  {
   "cell_type": "code",
   "execution_count": 3,
   "metadata": {},
   "outputs": [],
   "source": [
    "basic = pd.read_sql('''SELECT * FROM \"I1_Hrm_empBasic\" ''', con=engine)\n",
    "Extra = pd.read_sql('''SELECT * FROM \"I1_Hrm_empExtra\" ''', con=engine)"
   ]
  },
  {
   "cell_type": "markdown",
   "metadata": {},
   "source": [
    "<p style=\"padding:5px; border-bottom:3px solid orange; background:#3c5c75; margin:25px 0 -7px 0;\"> \n",
    "   <span style=\"font-size:1.5em; color:#f7ca25;\" >Step 2 - </span>\n",
    "   <span style=\"font-size:1.5em; color:white;\">Merge \"Basic & Extra\" Dataframe by Supplier ID </span> \n",
    "</p> "
   ]
  },
  {
   "cell_type": "code",
   "execution_count": 4,
   "metadata": {},
   "outputs": [],
   "source": [
    "Combined = pd.merge(basic, Extra, on=[\"empCode\"])\n",
    "Combined = Combined.drop(\"id_y\", axis=1)\n",
    "Combined = Combined.rename(columns={'id_x': 'id'})"
   ]
  },
  {
   "cell_type": "markdown",
   "metadata": {},
   "source": [
    "<p style=\"font-family:Calibri; font-size:1.2em; color:#061233; padding:5px 5px; margin: 10px 0 -7px 20px;\n",
    "border-bottom: 3px solid #0d1e4f; background: #e3e9fa\">  \n",
    "Step 2a - Reset Index to Save data in CSV </p>"
   ]
  },
  {
   "cell_type": "code",
   "execution_count": 5,
   "metadata": {},
   "outputs": [],
   "source": [
    "arrColumn= ['id','empCode','empFName','empMName','empLName','empStat','empImg','empPosi',\n",
    "            'empDoj','empEid','empLoca','empDept','empRepTo','empSpon','empNatl','empGend',\n",
    "            'empDob','EmpMarr','empIban','empBank','empAcc','empUid','empVisa','empAdd','empPh','empEmail','ref'\n",
    "          ]\n",
    "Combined = Combined.reindex(columns=arrColumn)\n",
    "\n",
    "Combined['comment'] = ''"
   ]
  },
  {
   "cell_type": "markdown",
   "metadata": {},
   "source": [
    "<p style=\"padding:5px; border-bottom:3px solid orange; background:#3c5c75; margin:25px 0 -7px 0;\"> \n",
    "   <span style=\"font-size:1.5em; color:#f7ca25;\" >Step 3 - </span>\n",
    "   <span style=\"font-size:1.5em; color:white;\">Create a \"Employees\" Folder inside \"Data/I1_Hrm\" Folder\" </span> \n",
    "</p> "
   ]
  },
  {
   "cell_type": "code",
   "execution_count": 6,
   "metadata": {},
   "outputs": [],
   "source": [
    "data_folder = \"Data/I1_Hrm\"\n",
    "sales_folder = \"Employees\"\n",
    "\n",
    "if not os.path.exists(os.path.join(data_folder, sales_folder)):\n",
    "    os.makedirs(os.path.join(data_folder, sales_folder))\n",
    "else:\n",
    "    pass"
   ]
  },
  {
   "cell_type": "markdown",
   "metadata": {},
   "source": [
    "<p style=\"padding:5px; border-bottom:3px solid orange; background:#3c5c75; margin:25px 0 0px 0;\"> \n",
    "   <span style=\"font-size:1.5em; color:#f7ca25;\" >Step 4 - </span>\n",
    "   <span style=\"font-size:1.5em; color:white;\">Save Employee Master File as CSV File </span> \n",
    "</p>\n",
    "https://sparkbyexamples.com/pandas/pandas-write-dataframe-to-csv-file/"
   ]
  },
  {
   "cell_type": "code",
   "execution_count": 7,
   "metadata": {},
   "outputs": [],
   "source": [
    "Combined.to_csv('Data/I1_Hrm/Employees/EmpMaster.csv',index = False)"
   ]
  },
  {
   "cell_type": "markdown",
   "metadata": {},
   "source": [
    "<p style=\"font-family:Calibri; font-size:1.75em; color:white; padding:5px 5px; text-align: left; height:50px; border-bottom: 1px solid orange; background:#f5eab8\"></p>"
   ]
  },
  {
   "cell_type": "markdown",
   "metadata": {},
   "source": [
    "<p style=\"font-size:2.2em; color:white; padding:25px; border-bottom: 5px solid #ffb701; background:#143157;\"> \n",
    "    Show Employees List - <span style=\"font-size:.75em; color: #11a1f5;\"> Get Data from CSV and show in a list </span></p>\n",
    "<<< showEmp >>>"
   ]
  },
  {
   "cell_type": "code",
   "execution_count": 8,
   "metadata": {},
   "outputs": [],
   "source": [
    "import pandas as pd\n",
    "import numpy as np\n",
    "pd.options.display.float_format = '{:,.0f}'.format\n",
    "pd.set_option('display.max_columns', 85) # set Jupeter note book to dispay 85 columns"
   ]
  },
  {
   "cell_type": "markdown",
   "metadata": {},
   "source": [
    "<p style=\"padding:5px; border-bottom:3px solid orange; background:#3c5c75; margin:25px 0 -7px 0;\"> \n",
    "   <span style=\"font-size:1.5em; color:#f7ca25;\" >Step 1 - </span>\n",
    "   <span style=\"font-size:1.5em; color:white;\">Read CSV files - </span> \n",
    "   <span style=\"font-size:1.2em; color:#17cffc;\">Through Pandas and get the list of a column </span>\n",
    "</p> "
   ]
  },
  {
   "cell_type": "code",
   "execution_count": 9,
   "metadata": {},
   "outputs": [],
   "source": [
    "df = pd.read_csv(\"Data/I1_Hrm/Employees/EmpMaster.csv\",encoding='unicode_escape').fillna('')"
   ]
  },
  {
   "cell_type": "markdown",
   "metadata": {},
   "source": [
    "<p style=\"padding:5px; border-bottom:3px solid orange; background:#3c5c75; margin:25px 0 -7px 0;\"> \n",
    "   <span style=\"font-size:1.5em; color:#f7ca25;\" >Step 2 - </span>\n",
    "   <span style=\"font-size:1.5em; color:white;\">Remove duplicate rows and keep only the last occurrence </span> \n",
    "</p> "
   ]
  },
  {
   "cell_type": "code",
   "execution_count": 10,
   "metadata": {},
   "outputs": [],
   "source": [
    "DataA = df.drop_duplicates(subset=['empCode'], keep='last')\n",
    "DataB = DataA.drop(DataA.loc[DataA['comment']=='Delete'].index)"
   ]
  },
  {
   "cell_type": "markdown",
   "metadata": {},
   "source": [
    "<p style=\"padding:5px; border-bottom:3px solid orange; background:#3c5c75; margin:25px 0 -7px 0;\"> \n",
    "   <span style=\"font-size:1.5em; color:#f7ca25;\" >Step 3 - </span>\n",
    "   <span style=\"font-size:1.5em; color:white;\">Convert Data into Json Dictionary </span> \n",
    "</p> "
   ]
  },
  {
   "cell_type": "code",
   "execution_count": 11,
   "metadata": {},
   "outputs": [],
   "source": [
    "Data = DataB.to_dict(orient=\"records\")"
   ]
  },
  {
   "cell_type": "markdown",
   "metadata": {},
   "source": [
    "<p style=\"font-family:Calibri; font-size:1.75em; color:white; padding:5px 5px; text-align: left; height:50px; border-bottom: 1px solid orange; background:#f5eab8\"></p>"
   ]
  },
  {
   "cell_type": "markdown",
   "metadata": {},
   "source": [
    "<p style=\"font-size:2.2em; color:white; padding:25px; border-bottom: 5px solid #ffb701; background:#143157;\"> \n",
    "    HRM Setup - <span style=\"font-size:.75em; color: #11a1f5;\"> Create Necessary Folder and Files </span></p>\n",
    "<<< a1_hrmSetupURL >>>"
   ]
  },
  {
   "cell_type": "code",
   "execution_count": 53,
   "metadata": {},
   "outputs": [],
   "source": [
    "import pandas as pd\n",
    "import os\n",
    "import csv"
   ]
  },
  {
   "cell_type": "markdown",
   "metadata": {},
   "source": [
    "<p style=\"padding:5px; border-bottom:3px solid orange; background:#3c5c75; margin:25px 0 -7px 0;\"> \n",
    "   <span style=\"font-size:1.5em; color:#f7ca25;\" >Step 1 -</span>\n",
    "   <span style=\"font-size:1.5em; color:white;\">Create Main-Folders  - </span> \n",
    "   <span style=\"font-size:1.2em; color:#17cffc;\">\"I1_Hrm\"</span>\n",
    "</p> "
   ]
  },
  {
   "cell_type": "code",
   "execution_count": 1,
   "metadata": {},
   "outputs": [],
   "source": [
    "import pandas as pd\n",
    "import numpy as np"
   ]
  },
  {
   "cell_type": "code",
   "execution_count": 54,
   "metadata": {},
   "outputs": [],
   "source": [
    "#Year = \"2023\"\n",
    "dfStd = pd.read_csv('data/basInfo.csv')\n",
    "Year = str(dfStd.loc[0, 'year']) \n",
    "\n",
    "mainFolder = \"Data/\" + Year + \"/I1_Hrm\"\n",
    "os.makedirs(mainFolder, mode=0o777, exist_ok=True)"
   ]
  },
  {
   "cell_type": "markdown",
   "metadata": {},
   "source": [
    "<p style=\"padding:5px; border-bottom:3px solid orange; background:#3c5c75; margin:25px 0 -7px 0;\"> \n",
    "   <span style=\"font-size:1.5em; color:#f7ca25;\" >Step 2 -</span>\n",
    "   <span style=\"font-size:1.5em; color:white;\">Create Sub-Folder  - </span> \n",
    "   <span style=\"font-size:1.2em; color:#17cffc;\">\"Employee\"</span>\n",
    "</p> "
   ]
  },
  {
   "cell_type": "code",
   "execution_count": 29,
   "metadata": {},
   "outputs": [],
   "source": [
    "subFolder = \"Employees\"\n",
    "\n",
    "# Create the subfolder within the main folder\n",
    "subFolder_path = os.path.join(mainFolder, subFolder)\n",
    "os.makedirs(subFolder_path, mode=0o777, exist_ok=True)"
   ]
  },
  {
   "cell_type": "markdown",
   "metadata": {},
   "source": [
    "<p style=\"padding:5px; border-bottom:3px solid orange; background:#3c5c75; margin:25px 0 -7px 0;\"> \n",
    "   <span style=\"font-size:1.5em; color:#f7ca25;\" >Step 3.1 -</span>\n",
    "   <span style=\"font-size:1.5em; color:white;\">Create CSV file -</span> \n",
    "   <span style=\"font-size:1.2em; color:#17cffc;\">\"empTarget.csv\" </span>\n",
    "</p> "
   ]
  },
  {
   "cell_type": "code",
   "execution_count": 30,
   "metadata": {},
   "outputs": [],
   "source": [
    "fileName = 'empTarget.csv'\n",
    "file_path = os.path.join(mainFolder, subFolder, fileName)\n",
    "\n",
    "if not os.path.exists(file_path):\n",
    "    headers = ['id','empCode','empName','empImg','empPosi','anSalary',\n",
    "                   'anTarget','empStat','targetSet','traDate','comment']\n",
    "\n",
    "    with open(file_path, 'w', newline='') as csv_file:  #create fresh file each time\n",
    "        writer = csv.writer(csv_file); \n",
    "        writer.writerow(headers)"
   ]
  },
  {
   "cell_type": "markdown",
   "metadata": {},
   "source": [
    "<p style=\"padding:5px; border-bottom:3px solid orange; background:#3c5c75; margin:25px 0 -7px 0;\"> \n",
    "   <span style=\"font-size:1.5em; color:#f7ca25;\" >Step 3.2 -</span>\n",
    "   <span style=\"font-size:1.5em; color:white;\">Create CSV file -</span> \n",
    "   <span style=\"font-size:1.2em; color:#17cffc;\">\"empTargetDetail.csv\" </span>\n",
    "</p> "
   ]
  },
  {
   "cell_type": "code",
   "execution_count": 32,
   "metadata": {},
   "outputs": [],
   "source": [
    "fileName = 'empTargetDetail.csv'\n",
    "file_path = os.path.join(mainFolder, subFolder, fileName)\n",
    "\n",
    "if not os.path.exists(file_path):\n",
    "    headers = ['iD','empCode','empName','anSalary','anTarget',\n",
    "               'sNo','itemCode','itemDesc','titemSelPrice','qty','salesTarget',\n",
    "              'totalSalCost','salCostPU','traDate','comment'] #abc is to avoid error\n",
    "    \n",
    "    with open(file_path, 'w', newline='') as csv_file:\n",
    "        writer = csv.writer(csv_file); \n",
    "        writer.writerow(headers)"
   ]
  },
  {
   "cell_type": "markdown",
   "metadata": {},
   "source": [
    "<p style=\"font-family:Calibri; font-size:1.75em; color:white; padding:5px 5px; text-align: left; height:50px; border-bottom: 1px solid orange; background:#f5eab8\"></p>"
   ]
  },
  {
   "cell_type": "markdown",
   "metadata": {},
   "source": [
    "<p style=\"font-size:2.2em; color:white; padding:25px; border-bottom: 5px solid #ffb701; background:#143157;\"> \n",
    "    tEmpTarget  - <span style=\"font-size:.75em; color: #11a1f5;\"> Read CSV & get the list  </span></p>\n",
    "Read data from csv in Pandas"
   ]
  },
  {
   "cell_type": "code",
   "execution_count": 1,
   "metadata": {},
   "outputs": [],
   "source": [
    "import pandas as pd\n",
    "import numpy as np\n",
    "pd.options.display.float_format = '{:,.0f}'.format\n",
    "pd.set_option('display.max_columns', 85) # set Jupeter note book to dispay 85 columns"
   ]
  },
  {
   "cell_type": "markdown",
   "metadata": {},
   "source": [
    "<p style=\"padding:5px; border-bottom:3px solid orange; background:#3c5c75; margin:25px 0 -7px 0;\"> \n",
    "   <span style=\"font-size:1.5em; color:#f7ca25;\" >Step 1 - </span>\n",
    "   <span style=\"font-size:1.5em; color:white;\">Read CSV files - </span> \n",
    "   <span style=\"font-size:1.2em; color:#17cffc;\">Through Pandas and get the list of a column </span>\n",
    "</p> "
   ]
  },
  {
   "cell_type": "code",
   "execution_count": 2,
   "metadata": {},
   "outputs": [],
   "source": [
    "try: #incase there is no folder and files to avoid error\n",
    "    filename = \"Data/2023/I1_Hrm/Employees/empTarget.csv\"\n",
    "    df = pd.read_csv(filename, index_col=False).fillna(0)\n",
    "except:\n",
    "    data = {'empCode': ['John', 'Alice', 'Doe'],\n",
    "            'comment': ['A','B','C']}\n",
    "    df = pd.DataFrame(data)"
   ]
  },
  {
   "cell_type": "markdown",
   "metadata": {},
   "source": [
    "<p style=\"font-family:Calibri; font-size:1.4em; color:#04405e; padding:5px 5px; margin: 10px 0 -7px 20px;\n",
    "border-bottom: 3px solid #e39c19; background: #afe4ff;\">  \n",
    "Step 1a - Remove Duplicate Line and Deleted Record</p>"
   ]
  },
  {
   "cell_type": "code",
   "execution_count": 3,
   "metadata": {},
   "outputs": [],
   "source": [
    "# remove duplicate rows and keep only the last occurrence subequently if that customer Code added\n",
    "# will show because keep last record will not have 'Delete' in comment column\n",
    "DataA = df.drop_duplicates(subset=['empCode'], keep='last')\n",
    "DataB = DataA.drop(DataA.loc[DataA['comment']=='Delete'].index)"
   ]
  },
  {
   "cell_type": "markdown",
   "metadata": {},
   "source": [
    "<p style=\"font-family:Calibri; font-size:1.4em; color:#04405e; padding:5px 5px; margin: 10px 0 -7px 20px;\n",
    "border-bottom: 3px solid #e39c19; background: #afe4ff;\">  \n",
    "Step 1b - Select a Column and Convert into List</p>"
   ]
  },
  {
   "cell_type": "code",
   "execution_count": 4,
   "metadata": {},
   "outputs": [
    {
     "data": {
      "text/plain": [
       "[329]"
      ]
     },
     "execution_count": 4,
     "metadata": {},
     "output_type": "execute_result"
    }
   ],
   "source": [
    "List = DataB[\"empCode\"].tolist()\n",
    "List"
   ]
  },
  {
   "cell_type": "markdown",
   "metadata": {},
   "source": [
    "<p style=\"font-size:2.2em; color:white; padding:25px; border-bottom: 5px solid #ffb701; background:#143157;\"> \n",
    "    tEmpTargetEdit  - <span style=\"font-size:.75em; color: #11a1f5;\"> Read CSV & get the list  </span></p>\n",
    "Read data from csv in Pandas"
   ]
  },
  {
   "cell_type": "code",
   "execution_count": 5,
   "metadata": {},
   "outputs": [],
   "source": [
    "import pandas as pd\n",
    "import numpy as np\n",
    "pd.options.display.float_format = '{:,.0f}'.format\n",
    "pd.set_option('display.max_columns', 85) # set Jupeter note book to dispay 85 columns"
   ]
  },
  {
   "cell_type": "markdown",
   "metadata": {},
   "source": [
    "<p style=\"padding:5px; border-bottom:3px solid orange; background:#3c5c75; margin:25px 0 -7px 0;\"> \n",
    "   <span style=\"font-size:1.5em; color:#f7ca25;\" >Step 1 - </span>\n",
    "   <span style=\"font-size:1.5em; color:white;\">Read CSV files - </span> \n",
    "   <span style=\"font-size:1.2em; color:#17cffc;\">Through Pandas and get the list of a column </span>\n",
    "</p> "
   ]
  },
  {
   "cell_type": "code",
   "execution_count": 6,
   "metadata": {},
   "outputs": [],
   "source": [
    "Year = '2023'\n",
    "try: #incase there is no folder and files to avoid error\n",
    "    req_cols = ['empCode','anSalary', 'anTarget','empStat','targetSet','comment']\n",
    "    dfSel = pd.read_csv(\"Data/\"+Year+\"/I1_Hrm/Employees/empTarget.csv\", usecols=req_cols, index_col=False).fillna(0)\n",
    "    reqB = ['empCode','empFName', 'empMName','empLName','empImg','empPosi','comment']\n",
    "    dfDetail = pd.read_csv(\"Data/I1_Hrm/Employees/EmpMaster.csv\", usecols=reqB, index_col=False)\n",
    "except:\n",
    "    data = {'empCode': ['John', 'Alice', 'Doe'], 'comment': ['A','B','C']}\n",
    "    df = pd.DataFrame(data)"
   ]
  },
  {
   "cell_type": "markdown",
   "metadata": {},
   "source": [
    "<p style=\"font-family:Calibri; font-size:1.2em; color:#061233; padding:5px 5px; margin: 10px 0 -7px 20px;\n",
    "border-bottom: 3px solid #0d1e4f; background: #e3e9fa\">  \n",
    "Step 1a- Remove Duplicate Line and Deleted Record </p>"
   ]
  },
  {
   "cell_type": "code",
   "execution_count": 7,
   "metadata": {},
   "outputs": [],
   "source": [
    "dfSel = dfSel.drop_duplicates(subset=['empCode'], keep='last')\n",
    "dfSel = dfSel.drop(dfSel.loc[dfSel['comment']=='Delete'].index)"
   ]
  },
  {
   "cell_type": "code",
   "execution_count": 8,
   "metadata": {},
   "outputs": [],
   "source": [
    "dfDetail = dfDetail.drop_duplicates(subset=['empCode'], keep='last')\n",
    "dfDetail= dfDetail.drop(dfDetail.loc[dfDetail['comment']=='Delete'].index)"
   ]
  },
  {
   "cell_type": "markdown",
   "metadata": {},
   "source": [
    "<p style=\"font-family:Calibri; font-size:1.2em; color:#061233; padding:5px 5px; margin: 10px 0 -7px 20px;\n",
    "border-bottom: 3px solid #0d1e4f; background: #e3e9fa\">  \n",
    "Step 1b- Updated with Master File </p>"
   ]
  },
  {
   "cell_type": "code",
   "execution_count": 9,
   "metadata": {},
   "outputs": [],
   "source": [
    "dfDetail = dfDetail.fillna('')\n",
    "dfDetail['empName'] = dfDetail['empFName']+\" \"+dfDetail['empMName']+\" \"+dfDetail['empLName']\n",
    "DataB= pd.merge(dfSel, dfDetail, on ='empCode', how ='inner')"
   ]
  },
  {
   "cell_type": "markdown",
   "metadata": {},
   "source": [
    "<p style=\"font-family:Calibri; font-size:1.2em; color:#061233; padding:5px 5px; margin: 10px 0 -7px 20px;\n",
    "border-bottom: 3px solid #0d1e4f; background: #e3e9fa\">  \n",
    "Step 1c- Get Selected Columns </p>"
   ]
  },
  {
   "cell_type": "code",
   "execution_count": 10,
   "metadata": {},
   "outputs": [],
   "source": [
    "iniData = DataB[['empCode','empName','empPosi','anTarget', 'empImg', 'anSalary']]"
   ]
  },
  {
   "cell_type": "markdown",
   "metadata": {},
   "source": [
    "<p style=\"padding:5px; border-bottom:3px solid orange; background:#3c5c75; margin:25px 0 -7px 0;\"> \n",
    "   <span style=\"font-size:1.5em; color:#f7ca25;\" >Step 1 - </span>\n",
    "   <span style=\"font-size:1.5em; color:white;\">Convertion the Data - </span> \n",
    "   <span style=\"font-size:1.2em; color:#17cffc;\">into Dictionary </span>\n",
    "</p> "
   ]
  },
  {
   "cell_type": "code",
   "execution_count": 11,
   "metadata": {},
   "outputs": [],
   "source": [
    "Data=[]\n",
    "for i in range(iniData.shape[0]):\n",
    "        temp=iniData.iloc[i]\n",
    "        Data.append(dict(temp))"
   ]
  },
  {
   "cell_type": "markdown",
   "metadata": {},
   "source": [
    "<p style=\"font-size:2.2em; color:white; padding:10px; border-bottom: 5px solid #ffb701; background:#583073;\"> \n",
    "    Fatch Data  - <span style=\"font-size:.75em; color: #11a1f5;\"> Detail Target </span></p>\n",
    "Read data from csv in Pandas"
   ]
  },
  {
   "cell_type": "markdown",
   "metadata": {},
   "source": [
    "<p style=\"padding:5px; border-bottom:3px solid orange; background:#3c5c75; margin:25px 0 -7px 0;\"> \n",
    "   <span style=\"font-size:1.5em; color:#f7ca25;\" >Step 1 - </span>\n",
    "   <span style=\"font-size:1.5em; color:white;\">Read empTarget - </span> \n",
    "   <span style=\"font-size:1.2em; color:#17cffc;\">Through Pandas and get the list of a column </span>\n",
    "</p> "
   ]
  },
  {
   "cell_type": "code",
   "execution_count": 12,
   "metadata": {},
   "outputs": [],
   "source": [
    "df = pd.read_csv(\"Data/2023/I1_Hrm/Employees/empTarget.csv\", index_col=False ,encoding='unicode_escape').fillna(0)"
   ]
  },
  {
   "cell_type": "markdown",
   "metadata": {},
   "source": [
    "<p style=\"font-family:Calibri; font-size:1.2em; color:#061233; padding:5px 5px; margin: 10px 0 -7px 20px;\n",
    "border-bottom: 3px solid #0d1e4f; background: #e3e9fa\">  \n",
    "Step 1a - Remove Duplicate Line and Deleted Record</p>"
   ]
  },
  {
   "cell_type": "code",
   "execution_count": 13,
   "metadata": {},
   "outputs": [],
   "source": [
    "DataA = df.drop_duplicates(subset=['empCode'], keep='last')\n",
    "DataB = DataA.drop(DataA.loc[DataA['comment']=='Delete'].index)"
   ]
  },
  {
   "cell_type": "markdown",
   "metadata": {},
   "source": [
    "<p style=\"font-family:Calibri; font-size:1.2em; color:#061233; padding:5px 5px; margin: 10px 0 -7px 20px;\n",
    "border-bottom: 3px solid #0d1e4f; background: #e3e9fa\">  \n",
    "Step 1b - Combine Employee Code and Transaction Time</p>"
   ]
  },
  {
   "cell_type": "code",
   "execution_count": 15,
   "metadata": {},
   "outputs": [],
   "source": [
    "DataB['combined'] = DataB['empCode'].astype(str)+\" \"+DataB['traDate']"
   ]
  },
  {
   "cell_type": "markdown",
   "metadata": {},
   "source": [
    "<p style=\"font-family:Calibri; font-size:1.2em; color:#061233; padding:5px 5px; margin: 10px 0 -7px 20px;\n",
    "border-bottom: 3px solid #0d1e4f; background: #e3e9fa\">  \n",
    "Step 1c- Select the Combine Column and convert it into a \"LIST\"</p>"
   ]
  },
  {
   "cell_type": "code",
   "execution_count": 16,
   "metadata": {},
   "outputs": [],
   "source": [
    "List = DataB[\"combined\"] #.tolist()"
   ]
  },
  {
   "cell_type": "markdown",
   "metadata": {},
   "source": [
    "<p style=\"padding:5px; border-bottom:3px solid orange; background:#3c5c75; margin:25px 0 -7px 0;\"> \n",
    "   <span style=\"font-size:1.5em; color:#f7ca25;\" >Step 2 - </span>\n",
    "   <span style=\"font-size:1.5em; color:white;\">Read empTargetDetail CSV files - </span> \n",
    "   <span style=\"font-size:1.2em; color:#17cffc;\">Through Pandas and get the list of a column </span>\n",
    "</p> "
   ]
  },
  {
   "cell_type": "code",
   "execution_count": 17,
   "metadata": {},
   "outputs": [],
   "source": [
    "Year = '2023'\n",
    "df2 = pd.read_csv(\"Data/\"+Year+\"/I1_Hrm/Employees/empTargetDetail.csv\", index_col=False).fillna(0)\n",
    "### Combine Employee Code and Transaction Time.................\n",
    "df2['combined'] = df2['empCode'].astype(str)+\" \"+df2['traDate']"
   ]
  },
  {
   "cell_type": "markdown",
   "metadata": {},
   "source": [
    "<p style=\"font-family:Calibri; font-size:1.2em; color:#061233; padding:5px 5px; margin: 10px 0 -7px 20px;\n",
    "border-bottom: 3px solid #0d1e4f; background: #e3e9fa\">  \n",
    "Step 2a- Filtere the 'Employee Target Detail' by Employee \"Target List\"</p>"
   ]
  },
  {
   "cell_type": "code",
   "execution_count": 18,
   "metadata": {},
   "outputs": [],
   "source": [
    "filtered_df = df2[df2['combined'].isin(List)]"
   ]
  },
  {
   "cell_type": "code",
   "execution_count": 19,
   "metadata": {},
   "outputs": [],
   "source": [
    "### Convert 'salesTarget' astype to \"FLOAT\" to avoid error if any numaric value contain float type.\n",
    "filtered_df = filtered_df.astype({'salesTarget':'float'})"
   ]
  },
  {
   "cell_type": "code",
   "execution_count": 20,
   "metadata": {},
   "outputs": [],
   "source": [
    "iID = int(\"329\")\n",
    "seleData = filtered_df[filtered_df['empCode'] == iID]"
   ]
  },
  {
   "cell_type": "markdown",
   "metadata": {},
   "source": [
    "<p style=\"font-family:Calibri; font-size:1.75em; color:white; padding:5px 5px; text-align: left; height:50px; border-bottom: 1px solid orange;\"></p>"
   ]
  },
  {
   "cell_type": "markdown",
   "metadata": {},
   "source": [
    "<p style=\"font-size:2.2em; color:white; padding:25px; border-bottom: 5px solid #ffb701; background:#143157;\"> \n",
    "Employee Salary - <span style=\"font-size:.75em; color: #11a1f5;\"> read from DataBase </span></p>\n",
    "<<< empSalary >>> Extract record from empBase and empExtra Database and select specific column to show deatil"
   ]
  },
  {
   "cell_type": "code",
   "execution_count": 60,
   "metadata": {},
   "outputs": [],
   "source": [
    "import pandas as pd\n",
    "import numpy as np\n",
    "pd.options.display.float_format = '{:,.0f}'.format\n",
    "pd.set_option('display.max_columns', 85) # set Jupeter note book to dispay 85 columns"
   ]
  },
  {
   "cell_type": "markdown",
   "metadata": {},
   "source": [
    "<p style=\"padding:5px; border-bottom:3px solid orange; background:#3c5c75; margin:25px 0 -7px 0;\"> \n",
    "   <span style=\"font-size:1.5em; color:#f7ca25;\" >Step 1 - </span>\n",
    "   <span style=\"font-size:1.5em; color:white;\">Create Engine and read data in Pandas </span> \n",
    "</p> "
   ]
  },
  {
   "cell_type": "markdown",
   "metadata": {},
   "source": [
    "<p style=\"font-family:Calibri; font-size:1.4em; color:#04405e; padding:5px 5px; margin: 10px 0 -7px 20px;\n",
    "border-bottom: 3px solid #e39c19; background: #afe4ff;\">  \n",
    "Step 1a - Create SQL Engine </p>"
   ]
  },
  {
   "cell_type": "code",
   "execution_count": 61,
   "metadata": {},
   "outputs": [],
   "source": [
    "import sqlite3\n",
    "import sqlalchemy\n",
    "\n",
    "# here db.sqlite3 is the name mention in settings.py under Databases; and \n",
    "# path should be absolute where 'db.sqlite3' file exist\n",
    "#------------------------------------------------------------------------\n",
    "engine = sqlalchemy.create_engine('sqlite:///D:/IUH/2. Programming/2. App/1a BaseERP/db.sqlite3')"
   ]
  },
  {
   "cell_type": "markdown",
   "metadata": {},
   "source": [
    "<p style=\"font-family:Calibri; font-size:1.4em; color:#04405e; padding:5px 5px; margin: 10px 0 -7px 20px;\n",
    "border-bottom: 3px solid #e39c19; background: #afe4ff;\">  \n",
    "Step 1b - Read Data from SQL </p>"
   ]
  },
  {
   "cell_type": "code",
   "execution_count": 62,
   "metadata": {},
   "outputs": [],
   "source": [
    "basic = pd.read_sql('''SELECT * FROM \"I1_Hrm_empBasic\" ''', con=engine)\n",
    "Extra = pd.read_sql('''SELECT * FROM \"I1_Hrm_empExtra\" ''', con=engine)"
   ]
  },
  {
   "cell_type": "markdown",
   "metadata": {},
   "source": [
    "<p style=\"padding:5px; border-bottom:3px solid orange; background:#3c5c75; margin:25px 0 -7px 0;\"> \n",
    "   <span style=\"font-size:1.5em; color:#f7ca25;\" >Step 2 - </span>\n",
    "   <span style=\"font-size:1.5em; color:white;\">Merge \"Basic & Extra\" Dataframe by Employee ID </span> \n",
    "</p> "
   ]
  },
  {
   "cell_type": "code",
   "execution_count": 63,
   "metadata": {},
   "outputs": [],
   "source": [
    "Combined = pd.merge(basic, Extra, on=[\"empCode\"])\n",
    "Combined = Combined.drop(\"id_y\", axis=1)\n",
    "Combined = Combined.rename(columns={'id_x': 'id'})"
   ]
  },
  {
   "cell_type": "code",
   "execution_count": 64,
   "metadata": {},
   "outputs": [],
   "source": [
    "###-- Filter will give error if there is NaN in any column to avoid this use fillna\n",
    "Combined = Combined.fillna('')"
   ]
  },
  {
   "cell_type": "code",
   "execution_count": 65,
   "metadata": {},
   "outputs": [],
   "source": [
    "Combined['empName'] = Combined['empFName']+\" \"+Combined['empMName']+\" \"+Combined['empLName'] "
   ]
  },
  {
   "cell_type": "markdown",
   "metadata": {},
   "source": [
    "<p style=\"padding:5px; border-bottom:3px solid orange; background:#3c5c75; margin:25px 0 -7px 0;\"> \n",
    "   <span style=\"font-size:1.5em; color:#f7ca25;\" >Step 3 - </span>\n",
    "   <span style=\"font-size:1.5em; color:white;\">Select Specific Columns </span> \n",
    "</p> "
   ]
  },
  {
   "cell_type": "code",
   "execution_count": 68,
   "metadata": {},
   "outputs": [],
   "source": [
    "DataB = Combined.loc[:, ['empCode', 'empName', 'empImg', 'empPosi', 'empStat']].fillna(0)"
   ]
  },
  {
   "cell_type": "markdown",
   "metadata": {},
   "source": [
    "<p style=\"padding:5px; border-bottom:3px solid orange; background:#3c5c75; margin:25px 0 -7px 0;\"> \n",
    "   <span style=\"font-size:1.5em; color:#f7ca25;\" >Step 4 - </span>\n",
    "   <span style=\"font-size:1.5em; color:white;\">Convert Data into Json Dictionary </span> \n",
    "</p> "
   ]
  },
  {
   "cell_type": "code",
   "execution_count": 69,
   "metadata": {},
   "outputs": [],
   "source": [
    "Data = DataB.to_dict(orient=\"records\")"
   ]
  },
  {
   "cell_type": "code",
   "execution_count": null,
   "metadata": {},
   "outputs": [],
   "source": []
  },
  {
   "cell_type": "code",
   "execution_count": null,
   "metadata": {},
   "outputs": [],
   "source": []
  },
  {
   "cell_type": "code",
   "execution_count": null,
   "metadata": {},
   "outputs": [],
   "source": []
  },
  {
   "cell_type": "code",
   "execution_count": null,
   "metadata": {},
   "outputs": [],
   "source": []
  },
  {
   "cell_type": "code",
   "execution_count": null,
   "metadata": {},
   "outputs": [],
   "source": []
  },
  {
   "cell_type": "code",
   "execution_count": null,
   "metadata": {},
   "outputs": [],
   "source": []
  },
  {
   "cell_type": "markdown",
   "metadata": {},
   "source": [
    "<p style=\"font-size:2.2em; color:white; padding:25px; border-bottom: 5px solid #ffb701; background:#143157;\"> \n",
    "    tEmpTargetEdit  - <span style=\"font-size:.75em; color: #11a1f5;\"> Read CSV & get the list  </span></p>\n",
    "Read data from csv in Pandas"
   ]
  },
  {
   "cell_type": "code",
   "execution_count": 9,
   "metadata": {},
   "outputs": [],
   "source": [
    "import pandas as pd\n",
    "import numpy as np\n",
    "pd.options.display.float_format = '{:,.0f}'.format\n",
    "pd.set_option('display.max_columns', 85) # set Jupeter note book to dispay 85 columns"
   ]
  },
  {
   "cell_type": "markdown",
   "metadata": {},
   "source": [
    "<p style=\"padding:5px; border-bottom:3px solid orange; background:#3c5c75; margin:25px 0 -7px 0;\"> \n",
    "   <span style=\"font-size:1.5em; color:#f7ca25;\" >Step 1 - </span>\n",
    "   <span style=\"font-size:1.5em; color:white;\">Read CSV files - </span> \n",
    "   <span style=\"font-size:1.2em; color:#17cffc;\">Through Pandas and get the list of a column </span>\n",
    "</p> "
   ]
  },
  {
   "cell_type": "code",
   "execution_count": 10,
   "metadata": {},
   "outputs": [],
   "source": [
    "spCode = '415'\n",
    "reqB = ['empCode','empFName', 'empMName','empLName','comment']\n",
    "dfSel = pd.read_csv(\"Data/I1_Hrm/Employees/EmpMaster.csv\", usecols=reqB, index_col=False)"
   ]
  },
  {
   "cell_type": "markdown",
   "metadata": {},
   "source": [
    "<p style=\"font-family:Calibri; font-size:1.2em; color:#061233; padding:5px 5px; margin: 10px 0 -7px 20px;\n",
    "border-bottom: 3px solid #0d1e4f; background: #e3e9fa\">  \n",
    "Step 1a- Remove Duplicate Line and Deleted Record </p>"
   ]
  },
  {
   "cell_type": "code",
   "execution_count": 11,
   "metadata": {},
   "outputs": [],
   "source": [
    "dfSel = dfSel.drop_duplicates(subset=['empCode'], keep='last')\n",
    "dfSel = dfSel.drop(dfSel.loc[dfSel['comment']=='Delete'].index)"
   ]
  },
  {
   "cell_type": "code",
   "execution_count": 12,
   "metadata": {},
   "outputs": [],
   "source": [
    "dfDetail = dfSel.fillna('')"
   ]
  },
  {
   "cell_type": "markdown",
   "metadata": {},
   "source": [
    "<p style=\"font-family:Calibri; font-size:1.2em; color:#061233; padding:5px 5px; margin: 10px 0 -7px 20px;\n",
    "border-bottom: 3px solid #0d1e4f; background: #e3e9fa\">  \n",
    "Step 1b- Updated with Master File </p>"
   ]
  },
  {
   "cell_type": "code",
   "execution_count": 13,
   "metadata": {
    "scrolled": true
   },
   "outputs": [
    {
     "data": {
      "text/html": [
       "<div>\n",
       "<style scoped>\n",
       "    .dataframe tbody tr th:only-of-type {\n",
       "        vertical-align: middle;\n",
       "    }\n",
       "\n",
       "    .dataframe tbody tr th {\n",
       "        vertical-align: top;\n",
       "    }\n",
       "\n",
       "    .dataframe thead th {\n",
       "        text-align: right;\n",
       "    }\n",
       "</style>\n",
       "<table border=\"1\" class=\"dataframe\">\n",
       "  <thead>\n",
       "    <tr style=\"text-align: right;\">\n",
       "      <th></th>\n",
       "      <th>empCode</th>\n",
       "      <th>empFName</th>\n",
       "      <th>empMName</th>\n",
       "      <th>empLName</th>\n",
       "      <th>comment</th>\n",
       "      <th>empName</th>\n",
       "    </tr>\n",
       "  </thead>\n",
       "  <tbody>\n",
       "    <tr>\n",
       "      <th>0</th>\n",
       "      <td>329</td>\n",
       "      <td>Sanjay</td>\n",
       "      <td>Kumar</td>\n",
       "      <td>Mandal</td>\n",
       "      <td></td>\n",
       "      <td>Sanjay Kumar Mandal</td>\n",
       "    </tr>\n",
       "    <tr>\n",
       "      <th>1</th>\n",
       "      <td>345</td>\n",
       "      <td>Pune</td>\n",
       "      <td>Pratap</td>\n",
       "      <td>Panjiyar</td>\n",
       "      <td></td>\n",
       "      <td>Pune Pratap Panjiyar</td>\n",
       "    </tr>\n",
       "    <tr>\n",
       "      <th>2</th>\n",
       "      <td>365</td>\n",
       "      <td>Allen</td>\n",
       "      <td>Joseph</td>\n",
       "      <td>Anora</td>\n",
       "      <td></td>\n",
       "      <td>Allen Joseph Anora</td>\n",
       "    </tr>\n",
       "    <tr>\n",
       "      <th>3</th>\n",
       "      <td>366</td>\n",
       "      <td>Franco</td>\n",
       "      <td>Viola</td>\n",
       "      <td>Parota</td>\n",
       "      <td></td>\n",
       "      <td>Franco Viola Parota</td>\n",
       "    </tr>\n",
       "    <tr>\n",
       "      <th>4</th>\n",
       "      <td>370</td>\n",
       "      <td>Ariel</td>\n",
       "      <td>Abapo</td>\n",
       "      <td>Naciogoyo</td>\n",
       "      <td></td>\n",
       "      <td>Ariel Abapo Naciogoyo</td>\n",
       "    </tr>\n",
       "    <tr>\n",
       "      <th>...</th>\n",
       "      <td>...</td>\n",
       "      <td>...</td>\n",
       "      <td>...</td>\n",
       "      <td>...</td>\n",
       "      <td>...</td>\n",
       "      <td>...</td>\n",
       "    </tr>\n",
       "    <tr>\n",
       "      <th>60</th>\n",
       "      <td>2085</td>\n",
       "      <td>Sushith</td>\n",
       "      <td>Earully</td>\n",
       "      <td>Sureshkumar</td>\n",
       "      <td></td>\n",
       "      <td>Sushith Earully Sureshkumar</td>\n",
       "    </tr>\n",
       "    <tr>\n",
       "      <th>61</th>\n",
       "      <td>2213</td>\n",
       "      <td>Abdul</td>\n",
       "      <td>Raheem</td>\n",
       "      <td>Khan</td>\n",
       "      <td></td>\n",
       "      <td>Abdul Raheem Khan</td>\n",
       "    </tr>\n",
       "    <tr>\n",
       "      <th>62</th>\n",
       "      <td>2268</td>\n",
       "      <td>Muhammad</td>\n",
       "      <td>Nasir</td>\n",
       "      <td>Iqbal</td>\n",
       "      <td></td>\n",
       "      <td>Muhammad Nasir Iqbal</td>\n",
       "    </tr>\n",
       "    <tr>\n",
       "      <th>63</th>\n",
       "      <td>2310</td>\n",
       "      <td>Muhammad</td>\n",
       "      <td></td>\n",
       "      <td>Khan</td>\n",
       "      <td></td>\n",
       "      <td>Muhammad  Khan</td>\n",
       "    </tr>\n",
       "    <tr>\n",
       "      <th>64</th>\n",
       "      <td>2353</td>\n",
       "      <td>Shahid</td>\n",
       "      <td>Ali</td>\n",
       "      <td>Butt</td>\n",
       "      <td></td>\n",
       "      <td>Shahid Ali Butt</td>\n",
       "    </tr>\n",
       "  </tbody>\n",
       "</table>\n",
       "<p>65 rows × 6 columns</p>\n",
       "</div>"
      ],
      "text/plain": [
       "    empCode  empFName empMName     empLName comment  \\\n",
       "0       329    Sanjay    Kumar       Mandal           \n",
       "1       345      Pune   Pratap     Panjiyar           \n",
       "2       365     Allen   Joseph        Anora           \n",
       "3       366    Franco    Viola       Parota           \n",
       "4       370     Ariel    Abapo    Naciogoyo           \n",
       "..      ...       ...      ...          ...     ...   \n",
       "60     2085   Sushith  Earully  Sureshkumar           \n",
       "61     2213     Abdul   Raheem         Khan           \n",
       "62     2268  Muhammad    Nasir        Iqbal           \n",
       "63     2310  Muhammad                  Khan           \n",
       "64     2353    Shahid      Ali         Butt           \n",
       "\n",
       "                        empName  \n",
       "0           Sanjay Kumar Mandal  \n",
       "1          Pune Pratap Panjiyar  \n",
       "2            Allen Joseph Anora  \n",
       "3           Franco Viola Parota  \n",
       "4         Ariel Abapo Naciogoyo  \n",
       "..                          ...  \n",
       "60  Sushith Earully Sureshkumar  \n",
       "61            Abdul Raheem Khan  \n",
       "62         Muhammad Nasir Iqbal  \n",
       "63               Muhammad  Khan  \n",
       "64              Shahid Ali Butt  \n",
       "\n",
       "[65 rows x 6 columns]"
      ]
     },
     "execution_count": 13,
     "metadata": {},
     "output_type": "execute_result"
    }
   ],
   "source": [
    "dfDetail['empName'] = dfDetail['empFName']+\" \"+dfDetail['empMName']+\" \"+dfDetail['empLName']\n",
    "dfDetail"
   ]
  },
  {
   "cell_type": "code",
   "execution_count": 25,
   "metadata": {},
   "outputs": [
    {
     "ename": "AttributeError",
     "evalue": "'list' object has no attribute 'tolist'",
     "output_type": "error",
     "traceback": [
      "\u001b[1;31m---------------------------------------------------------------------------\u001b[0m",
      "\u001b[1;31mAttributeError\u001b[0m                            Traceback (most recent call last)",
      "Input \u001b[1;32mIn [25]\u001b[0m, in \u001b[0;36m<cell line: 2>\u001b[1;34m()\u001b[0m\n\u001b[0;32m      3\u001b[0m     result \u001b[38;5;241m=\u001b[39m dfDetail\u001b[38;5;241m.\u001b[39mloc[dfDetail[\u001b[38;5;124m'\u001b[39m\u001b[38;5;124mempCode\u001b[39m\u001b[38;5;124m'\u001b[39m] \u001b[38;5;241m==\u001b[39m spCode, \u001b[38;5;124m'\u001b[39m\u001b[38;5;124mempName\u001b[39m\u001b[38;5;124m'\u001b[39m]\u001b[38;5;241m.\u001b[39mtolist()\n\u001b[0;32m      4\u001b[0m \u001b[38;5;28;01melse\u001b[39;00m:\n\u001b[1;32m----> 5\u001b[0m     result \u001b[38;5;241m=\u001b[39m \u001b[43m[\u001b[49m\u001b[38;5;124;43m\"\u001b[39;49m\u001b[38;5;124;43mSales Person\u001b[39;49m\u001b[38;5;124;43m\"\u001b[39;49m\u001b[43m]\u001b[49m\u001b[38;5;241;43m.\u001b[39;49m\u001b[43mtolist\u001b[49m()\n",
      "\u001b[1;31mAttributeError\u001b[0m: 'list' object has no attribute 'tolist'"
     ]
    }
   ],
   "source": [
    "spCode = \"\"  #329\n",
    "if (spCode !=\"\"):\n",
    "    result = dfDetail.loc[dfDetail['empCode'] == spCode, 'empName'].tolist()\n",
    "else:\n",
    "    result = [\"Sales Person\"].tolist()"
   ]
  },
  {
   "cell_type": "code",
   "execution_count": 24,
   "metadata": {},
   "outputs": [
    {
     "data": {
      "text/plain": [
       "[]"
      ]
     },
     "execution_count": 24,
     "metadata": {},
     "output_type": "execute_result"
    }
   ],
   "source": [
    "result"
   ]
  },
  {
   "cell_type": "code",
   "execution_count": null,
   "metadata": {},
   "outputs": [],
   "source": []
  }
 ],
 "metadata": {
  "celltoolbar": "Raw Cell Format",
  "kernelspec": {
   "display_name": "Python 3 (ipykernel)",
   "language": "python",
   "name": "python3"
  },
  "language_info": {
   "codemirror_mode": {
    "name": "ipython",
    "version": 3
   },
   "file_extension": ".py",
   "mimetype": "text/x-python",
   "name": "python",
   "nbconvert_exporter": "python",
   "pygments_lexer": "ipython3",
   "version": "3.9.12"
  }
 },
 "nbformat": 4,
 "nbformat_minor": 2
}
